{
 "cells": [
  {
   "cell_type": "markdown",
   "id": "406f2981",
   "metadata": {},
   "source": [
    "<img src=\"https://docs.google.com/uc?id=14xeXxFrVRjvOoUYWn_GuyE-v84wVzrqr\" class=\"img-fluid\" alt=\"CLRWY\" width=\"400\" height=\"200\">"
   ]
  },
  {
   "cell_type": "markdown",
   "id": "22263af8",
   "metadata": {},
   "source": [
    "<h1><p style=\"text-align: center; color:darkblue\">Python In-Class, <br>28 June 2021</p><h1>"
   ]
  },
  {
   "cell_type": "markdown",
   "id": "c6f4d0ab",
   "metadata": {},
   "source": [
    "Python Hazır Liste Metotları\n",
    "Method\tAçıklama\n",
    "append()\tListenin sonuna eleman ekler.\n",
    "clear()\tListedeki tüm elemanları siler\n",
    "copy()\tListenin kopyasını oluşturur\n",
    "count()\tBelirtilen öğenin listede kaç adet olduğu geri döner.\n",
    "extend()\tBelirtilen liste öğelerini seçilen listenin sonuna ekler.\n",
    "index()\tBelirtilen elemanın index numarasını öğrenmek için kullanılır.\n",
    "insert()\tBelirtilen index numarasına eleman ekler.\n",
    "pop()\tBelirtilen indexteki öğeyi kaldırır.\n",
    "remove()\tBelirtilen öğeyi kaldırır.\n",
    "reverse()\tListe sırasını ters çevirir. İlk eleman en sona..\n",
    "sort()\tListeyi küçükten büyüğe ya da A-Z sıralar."
   ]
  },
  {
   "cell_type": "code",
   "execution_count": 2,
   "id": "78b85bb5",
   "metadata": {},
   "outputs": [
    {
     "name": "stdout",
     "output_type": "stream",
     "text": [
      "-1\n"
     ]
    }
   ],
   "source": [
    "a = 1\n",
    "\n",
    "print(-a)"
   ]
  },
  {
   "cell_type": "code",
   "execution_count": 3,
   "id": "0e30ed56",
   "metadata": {},
   "outputs": [
    {
     "name": "stdout",
     "output_type": "stream",
     "text": [
      "11\n"
     ]
    }
   ],
   "source": [
    "b = -11\n",
    "\n",
    "print(-b)"
   ]
  },
  {
   "cell_type": "code",
   "execution_count": 4,
   "id": "52fa2fe2",
   "metadata": {},
   "outputs": [
    {
     "name": "stdout",
     "output_type": "stream",
     "text": [
      "The sum of 3 + 4 is : 7\n"
     ]
    }
   ],
   "source": [
    "a = 3\n",
    "b = 4\n",
    "\n",
    "print(\"The sum of {} + {} is : {}\".format(a, b, a+b))"
   ]
  },
  {
   "cell_type": "code",
   "execution_count": 5,
   "id": "a0c9fb2a",
   "metadata": {},
   "outputs": [
    {
     "name": "stdout",
     "output_type": "stream",
     "text": [
      "beni 5 ile 6 nin çarpımı : 30 \n"
     ]
    }
   ],
   "source": [
    "a = 5\n",
    "b = 6\n",
    "print(\"beni {} ile {} nin çarpımı : {} \".format(a, b, a*b))"
   ]
  },
  {
   "cell_type": "code",
   "execution_count": 6,
   "id": "a829c93e",
   "metadata": {},
   "outputs": [
    {
     "name": "stdout",
     "output_type": "stream",
     "text": [
      "3.4566,5.2544,452556.234\n"
     ]
    }
   ],
   "source": [
    "test = \"{},{},{:.3f}\".format(3.4566,5.2544,452556.23355) # f kaç tane float karekterini alcagını belirler.\n",
    "print(test)"
   ]
  },
  {
   "cell_type": "code",
   "execution_count": 7,
   "id": "3bb363ac",
   "metadata": {},
   "outputs": [
    {
     "name": "stdout",
     "output_type": "stream",
     "text": [
      "3.15, 5.367, 7.3243\n"
     ]
    }
   ],
   "source": [
    "text = \"{:.2f}, {:.3f}, {:.4f}\".format(3.1463, 5.367, 7.324324)\n",
    "\n",
    "print(text)"
   ]
  },
  {
   "cell_type": "code",
   "execution_count": 8,
   "id": "33faa22e",
   "metadata": {},
   "outputs": [
    {
     "name": "stdout",
     "output_type": "stream",
     "text": [
      "a3, 5.b, 7.32\n"
     ]
    }
   ],
   "source": [
    "text = \"{:.2s}, {:.3s}, {:.4s}\".format(\"a3.1463\", \"5.b367\", \"7.324324c\") # s kaç tane string karekterini alcagını belirler.\n",
    "\n",
    "print(text)"
   ]
  },
  {
   "cell_type": "code",
   "execution_count": 9,
   "id": "a60a2c36",
   "metadata": {},
   "outputs": [
    {
     "name": "stdout",
     "output_type": "stream",
     "text": [
      "a3, 5.b, 7.32\n"
     ]
    }
   ],
   "source": [
    "text = \"{:.2}, {:.3}, {:.4}\".format(\"a3.1463\", \"5.b367\", \"7.324324c\") #  kaç tane string karekterini alacagını belirler.\n",
    "\n",
    "print(text)"
   ]
  },
  {
   "cell_type": "code",
   "execution_count": 10,
   "id": "3f1b0b3b",
   "metadata": {},
   "outputs": [
    {
     "data": {
      "text/plain": [
       "'      test'"
      ]
     },
     "execution_count": 10,
     "metadata": {},
     "output_type": "execute_result"
    }
   ],
   "source": [
    "text = \"{:>10}\".format(\"test\")\n",
    "\n",
    "text"
   ]
  },
  {
   "cell_type": "code",
   "execution_count": 11,
   "id": "8c8bd2a3",
   "metadata": {},
   "outputs": [
    {
     "data": {
      "text/plain": [
       "'test      '"
      ]
     },
     "execution_count": 11,
     "metadata": {},
     "output_type": "execute_result"
    }
   ],
   "source": [
    "text = \"{:<10}\".format(\"test\")\n",
    "\n",
    "text"
   ]
  },
  {
   "cell_type": "code",
   "execution_count": 12,
   "id": "a6b11f89",
   "metadata": {},
   "outputs": [
    {
     "data": {
      "text/plain": [
       "'formatlama satırı                 test bu da textin sonu'"
      ]
     },
     "execution_count": 12,
     "metadata": {},
     "output_type": "execute_result"
    }
   ],
   "source": [
    "text = \"formatlama satırı {:>20} bu da textin sonu\".format(\"test\")\n",
    "text"
   ]
  },
  {
   "cell_type": "code",
   "execution_count": 13,
   "id": "5c7c4cde",
   "metadata": {},
   "outputs": [
    {
     "data": {
      "text/plain": [
       "'bla bla ökkeş           formatlama cümleciği'"
      ]
     },
     "execution_count": 13,
     "metadata": {},
     "output_type": "execute_result"
    }
   ],
   "source": [
    "text = \"bla bla {:<15} formatlama cümleciği\".format(\"ökkeş\")\n",
    "text"
   ]
  },
  {
   "cell_type": "code",
   "execution_count": 14,
   "id": "fa87c989",
   "metadata": {},
   "outputs": [
    {
     "data": {
      "text/plain": [
       "'        abc         '"
      ]
     },
     "execution_count": 14,
     "metadata": {},
     "output_type": "execute_result"
    }
   ],
   "source": [
    "text = \"{:^20}\".format(\"abc\") # 20 karekteri  ortala\n",
    "text"
   ]
  },
  {
   "cell_type": "code",
   "execution_count": 15,
   "id": "aa6f9ffd",
   "metadata": {},
   "outputs": [
    {
     "data": {
      "text/plain": [
       "'hippo'"
      ]
     },
     "execution_count": 15,
     "metadata": {},
     "output_type": "execute_result"
    }
   ],
   "source": [
    "\"{:10.5}\".format(\"hippopotamus\") # ilk beşi al"
   ]
  },
  {
   "cell_type": "code",
   "execution_count": 16,
   "id": "0e575491",
   "metadata": {},
   "outputs": [
    {
     "data": {
      "text/plain": [
       "'          hippo'"
      ]
     },
     "execution_count": 16,
     "metadata": {},
     "output_type": "execute_result"
    }
   ],
   "source": [
    "\"{:>15.5}\".format(\"hippopotamus\") # sağa yasla"
   ]
  },
  {
   "cell_type": "code",
   "execution_count": 17,
   "id": "73259b3b",
   "metadata": {},
   "outputs": [
    {
     "data": {
      "text/plain": [
       "'+115'"
      ]
     },
     "execution_count": 17,
     "metadata": {},
     "output_type": "execute_result"
    }
   ],
   "source": [
    "\"{:+d}\".format(115)  # +115"
   ]
  },
  {
   "cell_type": "code",
   "execution_count": 18,
   "id": "7b967be2",
   "metadata": {},
   "outputs": [
    {
     "name": "stdout",
     "output_type": "stream",
     "text": [
      "+115\n"
     ]
    }
   ],
   "source": [
    "text = \"{:+}\".format(115)  # +115\n",
    "print(text)"
   ]
  },
  {
   "cell_type": "code",
   "execution_count": null,
   "id": "f41503f3",
   "metadata": {},
   "outputs": [],
   "source": [
    "age = input(\"Are you a cigarette addict older than 75 years old? Please write here for yes:'True' for no:'False'\")\n",
    "chronic = input(\"Do you have a severe chronic disease? Please write here for yes:'True' for no:'False'\")\n",
    "immune = input(\"Is your immune system too weak? Please write here for yes:'True' for no:'False'\")\n",
    "risk = age or chronic or immune\n",
    "print(risk)"
   ]
  },
  {
   "cell_type": "code",
   "execution_count": 19,
   "id": "aee07472",
   "metadata": {},
   "outputs": [
    {
     "data": {
      "text/plain": [
       "False"
      ]
     },
     "execution_count": 19,
     "metadata": {},
     "output_type": "execute_result"
    }
   ],
   "source": [
    "age = False\n",
    "chronic = False\n",
    "immune = False\n",
    "\n",
    "covid = age or chronic or immune\n",
    "\n",
    "covid"
   ]
  },
  {
   "cell_type": "code",
   "execution_count": null,
   "id": "2ce121b9",
   "metadata": {},
   "outputs": [],
   "source": [
    "# LİST : [] VEYA list() ŞEKLİNDE GÖSTERİLİR"
   ]
  },
  {
   "cell_type": "code",
   "execution_count": 20,
   "id": "37810b3c",
   "metadata": {},
   "outputs": [],
   "source": [
    "list_1 = ['h', 'a', 'p', 'p', 'y']\n",
    "word = 'happy'\n",
    "list_2 = list(word)"
   ]
  },
  {
   "cell_type": "code",
   "execution_count": 21,
   "id": "21543ff9",
   "metadata": {},
   "outputs": [
    {
     "data": {
      "text/plain": [
       "['h', 'a', 'p', 'p', 'y']"
      ]
     },
     "execution_count": 21,
     "metadata": {},
     "output_type": "execute_result"
    }
   ],
   "source": [
    "list_1"
   ]
  },
  {
   "cell_type": "code",
   "execution_count": 22,
   "id": "537652da",
   "metadata": {},
   "outputs": [
    {
     "data": {
      "text/plain": [
       "['h', 'a', 'p', 'p', 'y']"
      ]
     },
     "execution_count": 22,
     "metadata": {},
     "output_type": "execute_result"
    }
   ],
   "source": [
    "list_2"
   ]
  },
  {
   "cell_type": "code",
   "execution_count": 23,
   "id": "ebb55d9d",
   "metadata": {},
   "outputs": [
    {
     "data": {
      "text/plain": [
       "['happy']"
      ]
     },
     "execution_count": 23,
     "metadata": {},
     "output_type": "execute_result"
    }
   ],
   "source": [
    "list_3 = ['happy']\n",
    "list_3"
   ]
  },
  {
   "cell_type": "code",
   "execution_count": 24,
   "id": "720d7de9",
   "metadata": {},
   "outputs": [
    {
     "data": {
      "text/plain": [
       "list"
      ]
     },
     "execution_count": 24,
     "metadata": {},
     "output_type": "execute_result"
    }
   ],
   "source": [
    "type(list_3)"
   ]
  },
  {
   "cell_type": "code",
   "execution_count": 25,
   "id": "3b7add9d",
   "metadata": {},
   "outputs": [],
   "source": [
    "list_4 = [\"ben bu insanlara ders anlatınca gerçekten çok rehabilite oluyorum. dersi iple çekiyorum.\"]"
   ]
  },
  {
   "cell_type": "code",
   "execution_count": 26,
   "id": "c8e0dd8b",
   "metadata": {},
   "outputs": [
    {
     "data": {
      "text/plain": [
       "['happy']"
      ]
     },
     "execution_count": 26,
     "metadata": {},
     "output_type": "execute_result"
    }
   ],
   "source": [
    "list_5 = list(list_3)\n",
    "\n",
    "list_5"
   ]
  },
  {
   "cell_type": "code",
   "execution_count": 27,
   "id": "f2dad5a1",
   "metadata": {},
   "outputs": [
    {
     "data": {
      "text/plain": [
       "['h', 'a', 'p', 'p', 'y']"
      ]
     },
     "execution_count": 27,
     "metadata": {},
     "output_type": "execute_result"
    }
   ],
   "source": [
    "list_6 = list(list_2)\n",
    "\n",
    "list_6"
   ]
  },
  {
   "cell_type": "code",
   "execution_count": 28,
   "id": "a71e4eac",
   "metadata": {},
   "outputs": [],
   "source": [
    "a = [\"2'!*?- abc+&$#123=*/\"]"
   ]
  },
  {
   "cell_type": "code",
   "execution_count": 29,
   "id": "05de2211",
   "metadata": {},
   "outputs": [
    {
     "data": {
      "text/plain": [
       "1"
      ]
     },
     "execution_count": 29,
     "metadata": {},
     "output_type": "execute_result"
    }
   ],
   "source": [
    "len(a)"
   ]
  },
  {
   "cell_type": "code",
   "execution_count": 30,
   "id": "52fe5b53",
   "metadata": {},
   "outputs": [
    {
     "data": {
      "text/plain": [
       "20"
      ]
     },
     "execution_count": 30,
     "metadata": {},
     "output_type": "execute_result"
    }
   ],
   "source": [
    "b = list(\"2'!*?- abc+&$#123=*/\")\n",
    "len(b)"
   ]
  },
  {
   "cell_type": "code",
   "execution_count": 31,
   "id": "cb9ddc86",
   "metadata": {},
   "outputs": [
    {
     "name": "stdout",
     "output_type": "stream",
     "text": [
      "['USA', 'Brasil', 'UK', 'Germany', 'Turkey', 'New Zealand']\n"
     ]
    }
   ],
   "source": [
    "country = ['USA', 'Brasil', 'UK', 'Germany', 'Turkey', 'New Zealand']\n",
    "print(country)"
   ]
  },
  {
   "cell_type": "code",
   "execution_count": 32,
   "id": "985042ac",
   "metadata": {},
   "outputs": [
    {
     "name": "stdout",
     "output_type": "stream",
     "text": [
      "['I', ' ', 'q', 'u', 'i', 't', ' ', 's', 'm', 'o', 'k', 'i', 'n', 'g']\n",
      "['I quit smoking']\n"
     ]
    }
   ],
   "source": [
    "string_1 = 'I quit smoking'\n",
    "\n",
    "new_list_1 = list(string_1)  # we created multi element list\n",
    "print(new_list_1)\n",
    "\n",
    "new_list_2 = [string_1]  # this is a single element list\n",
    "print(new_list_2)"
   ]
  },
  {
   "cell_type": "code",
   "execution_count": null,
   "id": "53ebcbe8",
   "metadata": {},
   "outputs": [],
   "source": []
  },
  {
   "cell_type": "code",
   "execution_count": 33,
   "id": "0a9ecd47",
   "metadata": {},
   "outputs": [],
   "source": [
    "my_list = ['Joseph', 'Clarusway', 2020]\n",
    "new_list1 = list(my_list)  \n",
    "new_list2 = [my_list]  "
   ]
  },
  {
   "cell_type": "code",
   "execution_count": 34,
   "id": "a12c2f6a",
   "metadata": {},
   "outputs": [
    {
     "data": {
      "text/plain": [
       "['Joseph', 'Clarusway', 2020]"
      ]
     },
     "execution_count": 34,
     "metadata": {},
     "output_type": "execute_result"
    }
   ],
   "source": [
    "new_list1"
   ]
  },
  {
   "cell_type": "code",
   "execution_count": 35,
   "id": "ba76ae6a",
   "metadata": {},
   "outputs": [
    {
     "data": {
      "text/plain": [
       "[['Joseph', 'Clarusway', 2020]]"
      ]
     },
     "execution_count": 35,
     "metadata": {},
     "output_type": "execute_result"
    }
   ],
   "source": [
    "new_list2"
   ]
  },
  {
   "cell_type": "code",
   "execution_count": 36,
   "id": "add4767e",
   "metadata": {},
   "outputs": [
    {
     "data": {
      "text/plain": [
       "1"
      ]
     },
     "execution_count": 36,
     "metadata": {},
     "output_type": "execute_result"
    }
   ],
   "source": [
    "len(new_list2)"
   ]
  },
  {
   "cell_type": "code",
   "execution_count": 37,
   "id": "d018a2b3",
   "metadata": {},
   "outputs": [],
   "source": [
    "x = [[1,2,3], [4,5,6]]"
   ]
  },
  {
   "cell_type": "code",
   "execution_count": 38,
   "id": "51beb293",
   "metadata": {},
   "outputs": [
    {
     "data": {
      "text/plain": [
       "2"
      ]
     },
     "execution_count": 38,
     "metadata": {},
     "output_type": "execute_result"
    }
   ],
   "source": [
    "len(x)"
   ]
  },
  {
   "cell_type": "code",
   "execution_count": 39,
   "id": "968c61c6",
   "metadata": {},
   "outputs": [
    {
     "ename": "TypeError",
     "evalue": "'int' object is not iterable",
     "output_type": "error",
     "traceback": [
      "\u001b[1;31m---------------------------------------------------------------------------\u001b[0m",
      "\u001b[1;31mTypeError\u001b[0m                                 Traceback (most recent call last)",
      "\u001b[1;32m~\\AppData\\Local\\Temp/ipykernel_5684/1530733420.py\u001b[0m in \u001b[0;36m<module>\u001b[1;34m\u001b[0m\n\u001b[1;32m----> 1\u001b[1;33m \u001b[0my\u001b[0m \u001b[1;33m=\u001b[0m \u001b[0mlist\u001b[0m\u001b[1;33m(\u001b[0m\u001b[1;36m2020\u001b[0m\u001b[1;33m)\u001b[0m\u001b[1;33m\u001b[0m\u001b[1;33m\u001b[0m\u001b[0m\n\u001b[0m\u001b[0;32m      2\u001b[0m \u001b[0mlen\u001b[0m\u001b[1;33m(\u001b[0m\u001b[0my\u001b[0m\u001b[1;33m)\u001b[0m\u001b[1;33m\u001b[0m\u001b[1;33m\u001b[0m\u001b[0m\n",
      "\u001b[1;31mTypeError\u001b[0m: 'int' object is not iterable"
     ]
    }
   ],
   "source": [
    "y = list(2020)\n",
    "len(y)"
   ]
  },
  {
   "cell_type": "code",
   "execution_count": 40,
   "id": "c18bd935",
   "metadata": {},
   "outputs": [
    {
     "data": {
      "text/plain": [
       "4"
      ]
     },
     "execution_count": 40,
     "metadata": {},
     "output_type": "execute_result"
    }
   ],
   "source": [
    "y = list(\"2020\")\n",
    "len(y)"
   ]
  },
  {
   "cell_type": "code",
   "execution_count": 41,
   "id": "7926ab2d",
   "metadata": {},
   "outputs": [
    {
     "data": {
      "text/plain": [
       "['2', '0', '2', '0']"
      ]
     },
     "execution_count": 41,
     "metadata": {},
     "output_type": "execute_result"
    }
   ],
   "source": [
    "y"
   ]
  },
  {
   "cell_type": "code",
   "execution_count": 42,
   "id": "db6c2a45",
   "metadata": {},
   "outputs": [],
   "source": [
    "yy = [\"ali\"]"
   ]
  },
  {
   "cell_type": "code",
   "execution_count": 43,
   "id": "eb8ab340",
   "metadata": {},
   "outputs": [
    {
     "data": {
      "text/plain": [
       "['ali']"
      ]
     },
     "execution_count": 43,
     "metadata": {},
     "output_type": "execute_result"
    }
   ],
   "source": [
    "yy[::-1]"
   ]
  },
  {
   "cell_type": "code",
   "execution_count": 44,
   "id": "2fb79bcd",
   "metadata": {},
   "outputs": [
    {
     "data": {
      "text/plain": [
       "[1]"
      ]
     },
     "execution_count": 44,
     "metadata": {},
     "output_type": "execute_result"
    }
   ],
   "source": [
    "zz = [1]\n",
    "\n",
    "zz[::-1]"
   ]
  },
  {
   "cell_type": "code",
   "execution_count": 45,
   "id": "49ea8dfa",
   "metadata": {},
   "outputs": [
    {
     "name": "stdout",
     "output_type": "stream",
     "text": [
      "3\n"
     ]
    }
   ],
   "source": [
    "print(len([[1, 2, 3]][0]))"
   ]
  },
  {
   "cell_type": "code",
   "execution_count": 46,
   "id": "444f509c",
   "metadata": {},
   "outputs": [
    {
     "data": {
      "text/plain": [
       "1"
      ]
     },
     "execution_count": 46,
     "metadata": {},
     "output_type": "execute_result"
    }
   ],
   "source": [
    "len([[]])"
   ]
  },
  {
   "cell_type": "code",
   "execution_count": 47,
   "id": "025a480f",
   "metadata": {},
   "outputs": [
    {
     "data": {
      "text/plain": [
       "1"
      ]
     },
     "execution_count": 47,
     "metadata": {},
     "output_type": "execute_result"
    }
   ],
   "source": [
    "len([\"\"])"
   ]
  },
  {
   "cell_type": "code",
   "execution_count": 65,
   "id": "6e989890",
   "metadata": {},
   "outputs": [],
   "source": [
    "sayılar = []"
   ]
  },
  {
   "cell_type": "code",
   "execution_count": 66,
   "id": "b995ab9c",
   "metadata": {},
   "outputs": [],
   "source": [
    "sayılar.append(1)"
   ]
  },
  {
   "cell_type": "code",
   "execution_count": 67,
   "id": "482ffbb2",
   "metadata": {},
   "outputs": [
    {
     "data": {
      "text/plain": [
       "[1]"
      ]
     },
     "execution_count": 67,
     "metadata": {},
     "output_type": "execute_result"
    }
   ],
   "source": [
    "sayılar"
   ]
  },
  {
   "cell_type": "code",
   "execution_count": 68,
   "id": "9d8a5e68",
   "metadata": {},
   "outputs": [],
   "source": [
    "sayılar.append(2)"
   ]
  },
  {
   "cell_type": "code",
   "execution_count": 69,
   "id": "360ff154",
   "metadata": {},
   "outputs": [],
   "source": [
    "sayılar.append(3)"
   ]
  },
  {
   "cell_type": "code",
   "execution_count": 70,
   "id": "e5b0e98d",
   "metadata": {},
   "outputs": [
    {
     "data": {
      "text/plain": [
       "[1, 2, 3]"
      ]
     },
     "execution_count": 70,
     "metadata": {},
     "output_type": "execute_result"
    }
   ],
   "source": [
    "sayılar"
   ]
  },
  {
   "cell_type": "code",
   "execution_count": 71,
   "id": "899b0230",
   "metadata": {},
   "outputs": [],
   "source": [
    "sayılar.append(4)"
   ]
  },
  {
   "cell_type": "code",
   "execution_count": 72,
   "id": "01bf9d63",
   "metadata": {},
   "outputs": [
    {
     "data": {
      "text/plain": [
       "[1, 2, 3, 4]"
      ]
     },
     "execution_count": 72,
     "metadata": {},
     "output_type": "execute_result"
    }
   ],
   "source": [
    "sayılar"
   ]
  },
  {
   "cell_type": "code",
   "execution_count": 73,
   "id": "11aaa33c",
   "metadata": {},
   "outputs": [
    {
     "data": {
      "text/plain": [
       "[1, 2, 3, 4, 5]"
      ]
     },
     "execution_count": 73,
     "metadata": {},
     "output_type": "execute_result"
    }
   ],
   "source": [
    "sayılar.insert(4,5)\n",
    "sayılar"
   ]
  },
  {
   "cell_type": "code",
   "execution_count": 74,
   "id": "515dcf1d",
   "metadata": {},
   "outputs": [],
   "source": [
    "sayılar.insert(6,6)"
   ]
  },
  {
   "cell_type": "code",
   "execution_count": 76,
   "id": "54ec3014",
   "metadata": {},
   "outputs": [
    {
     "ename": "ValueError",
     "evalue": "list.remove(x): x not in list",
     "output_type": "error",
     "traceback": [
      "\u001b[1;31m---------------------------------------------------------------------------\u001b[0m",
      "\u001b[1;31mValueError\u001b[0m                                Traceback (most recent call last)",
      "\u001b[1;32m~\\AppData\\Local\\Temp/ipykernel_5684/2827819828.py\u001b[0m in \u001b[0;36m<module>\u001b[1;34m\u001b[0m\n\u001b[1;32m----> 1\u001b[1;33m \u001b[0msayılar\u001b[0m\u001b[1;33m.\u001b[0m\u001b[0mremove\u001b[0m\u001b[1;33m(\u001b[0m\u001b[1;36m1\u001b[0m\u001b[1;33m)\u001b[0m\u001b[1;33m\u001b[0m\u001b[1;33m\u001b[0m\u001b[0m\n\u001b[0m",
      "\u001b[1;31mValueError\u001b[0m: list.remove(x): x not in list"
     ]
    }
   ],
   "source": [
    "sayılar.remove(1)"
   ]
  },
  {
   "cell_type": "code",
   "execution_count": 77,
   "id": "b2c0a0cc",
   "metadata": {},
   "outputs": [
    {
     "data": {
      "text/plain": [
       "[2, 3, 4, 5, 6]"
      ]
     },
     "execution_count": 77,
     "metadata": {},
     "output_type": "execute_result"
    }
   ],
   "source": [
    "sayılar"
   ]
  },
  {
   "cell_type": "code",
   "execution_count": 78,
   "id": "56240aaa",
   "metadata": {},
   "outputs": [
    {
     "data": {
      "text/plain": [
       "97"
      ]
     },
     "execution_count": 78,
     "metadata": {},
     "output_type": "execute_result"
    }
   ],
   "source": [
    "ord(\"a\")"
   ]
  },
  {
   "cell_type": "code",
   "execution_count": 79,
   "id": "aba035c6",
   "metadata": {},
   "outputs": [
    {
     "data": {
      "text/plain": [
       "98"
      ]
     },
     "execution_count": 79,
     "metadata": {},
     "output_type": "execute_result"
    }
   ],
   "source": [
    "ord(\"b\")"
   ]
  },
  {
   "cell_type": "code",
   "execution_count": 80,
   "id": "e3dd97c5",
   "metadata": {},
   "outputs": [
    {
     "data": {
      "text/plain": [
       "65"
      ]
     },
     "execution_count": 80,
     "metadata": {},
     "output_type": "execute_result"
    }
   ],
   "source": [
    "ord(\"A\")"
   ]
  },
  {
   "cell_type": "code",
   "execution_count": 81,
   "id": "4bcc3e25",
   "metadata": {},
   "outputs": [
    {
     "data": {
      "text/plain": [
       "3"
      ]
     },
     "execution_count": 81,
     "metadata": {},
     "output_type": "execute_result"
    }
   ],
   "source": [
    "len(\"a b\")"
   ]
  },
  {
   "cell_type": "code",
   "execution_count": 82,
   "id": "818ec307",
   "metadata": {},
   "outputs": [
    {
     "data": {
      "text/plain": [
       "1"
      ]
     },
     "execution_count": 82,
     "metadata": {},
     "output_type": "execute_result"
    }
   ],
   "source": [
    "len([\"a b\"])"
   ]
  },
  {
   "cell_type": "code",
   "execution_count": 83,
   "id": "b51442dd",
   "metadata": {},
   "outputs": [
    {
     "data": {
      "text/plain": [
       "4"
      ]
     },
     "execution_count": 83,
     "metadata": {},
     "output_type": "execute_result"
    }
   ],
   "source": [
    "len([\"a b\", False, None, []])"
   ]
  },
  {
   "cell_type": "code",
   "execution_count": null,
   "id": "c1a116fd",
   "metadata": {},
   "outputs": [],
   "source": [
    "len (1234) # itable ölmadığından ve int oldugondan hata verir"
   ]
  },
  {
   "cell_type": "code",
   "execution_count": 84,
   "id": "884ca72d",
   "metadata": {},
   "outputs": [
    {
     "name": "stdout",
     "output_type": "stream",
     "text": [
      "22\n"
     ]
    }
   ],
   "source": [
    "warning = 'You must quit smoking!'\n",
    "\n",
    "print(len(list(warning)))"
   ]
  },
  {
   "cell_type": "code",
   "execution_count": 85,
   "id": "abb2e371",
   "metadata": {},
   "outputs": [],
   "source": [
    "empty_list_1 = []\n",
    "empty_list_1.append('114') # append listenin en sonuna ekleme yapar.\n",
    "empty_list_1.append('plastic-free sea')"
   ]
  },
  {
   "cell_type": "code",
   "execution_count": 86,
   "id": "ebfd72b9",
   "metadata": {},
   "outputs": [
    {
     "data": {
      "text/plain": [
       "['114', 'plastic-free sea']"
      ]
     },
     "execution_count": 86,
     "metadata": {},
     "output_type": "execute_result"
    }
   ],
   "source": [
    "empty_list_1"
   ]
  },
  {
   "cell_type": "code",
   "execution_count": 87,
   "id": "ccf315e5",
   "metadata": {},
   "outputs": [],
   "source": [
    "city = ['New York', 'London', 'Istanbul', 'Seoul', 'Sydney']\n",
    "city.append('Addis Ababa')"
   ]
  },
  {
   "cell_type": "code",
   "execution_count": 88,
   "id": "305591a3",
   "metadata": {},
   "outputs": [
    {
     "name": "stdout",
     "output_type": "stream",
     "text": [
      "['New York', 'London', 'Stockholm', 'Istanbul', 'Seoul', 'Sydney', 'Addis Ababa']\n"
     ]
    }
   ],
   "source": [
    "city = ['New York', 'London', 'Istanbul', 'Seoul', 'Sydney', 'Addis Ababa']\n",
    "city.insert(2, 'Stockholm') # insert belirlenen indeksteki nesneyi sğa kaydırarak  belirlenen nesneyi ekler \n",
    "\n",
    "print(city)"
   ]
  },
  {
   "cell_type": "code",
   "execution_count": 89,
   "id": "fa4fbf14",
   "metadata": {},
   "outputs": [
    {
     "name": "stdout",
     "output_type": "stream",
     "text": [
      "['New York', 'Stockholm', 'Istanbul', 'Seoul', 'Sydney', 'Addis Ababa']\n"
     ]
    }
   ],
   "source": [
    "city = ['New York', 'London', 'Stockholm', 'Istanbul', 'Seoul', 'Sydney', 'Addis Ababa']\n",
    "city.remove('London') # remove belirlenen nesneyi silmeye yarar.\n",
    "print(city)  # we have deleted 'London'"
   ]
  },
  {
   "cell_type": "code",
   "execution_count": 90,
   "id": "facb141f",
   "metadata": {},
   "outputs": [
    {
     "name": "stdout",
     "output_type": "stream",
     "text": [
      "['Addis Ababa', 'Istanbul', 'New York', 'Seoul', 'Stockholm', 'Sydney']\n"
     ]
    }
   ],
   "source": [
    "city = ['New York', 'Stockholm', 'Istanbul', 'Seoul', 'Sydney', 'Addis Ababa']\n",
    "city.sort()  # lists the items in alphabetical order (asli kodlarına göre sıralar)\n",
    "print(city) "
   ]
  },
  {
   "cell_type": "code",
   "execution_count": 91,
   "id": "fa19abe6",
   "metadata": {},
   "outputs": [
    {
     "ename": "SyntaxError",
     "evalue": "invalid syntax (Temp/ipykernel_5684/3917918852.py, line 1)",
     "output_type": "error",
     "traceback": [
      "\u001b[1;36m  File \u001b[1;32m\"C:\\Users\\DOGAN\\AppData\\Local\\Temp/ipykernel_5684/3917918852.py\"\u001b[1;36m, line \u001b[1;32m1\u001b[0m\n\u001b[1;33m    a = [\"d\", 1, \"3\" n]\u001b[0m\n\u001b[1;37m                     ^\u001b[0m\n\u001b[1;31mSyntaxError\u001b[0m\u001b[1;31m:\u001b[0m invalid syntax\n"
     ]
    }
   ],
   "source": [
    "a = [\"d\", 1, \"3\" n]"
   ]
  },
  {
   "cell_type": "code",
   "execution_count": 92,
   "id": "c8460204",
   "metadata": {},
   "outputs": [
    {
     "name": "stdout",
     "output_type": "stream",
     "text": [
      "['four', 'nine', 'one']\n"
     ]
    }
   ],
   "source": [
    "list_1 = ['one', 'four', 'nine']\n",
    "list_2 = ['@', '*-', 'False']\n",
    "list_3 = [True, False]\n",
    "list_4 = [[3], [44], [-12]]\n",
    "list_5 = [[1, 3], [44, -40], [-12, 1]]\n",
    "\n",
    "list_1.sort()\n",
    "print(list_1)\n"
   ]
  },
  {
   "cell_type": "code",
   "execution_count": 93,
   "id": "0e89238f",
   "metadata": {},
   "outputs": [
    {
     "name": "stdout",
     "output_type": "stream",
     "text": [
      "['*-', '@', 'False']\n"
     ]
    }
   ],
   "source": [
    "list_2.sort()\n",
    "print(list_2)"
   ]
  },
  {
   "cell_type": "code",
   "execution_count": 94,
   "id": "0a0f440d",
   "metadata": {},
   "outputs": [
    {
     "name": "stdout",
     "output_type": "stream",
     "text": [
      "['False', '@', '*-']\n"
     ]
    }
   ],
   "source": [
    "list_2.sort(reverse=True)\n",
    "print(list_2)"
   ]
  },
  {
   "cell_type": "code",
   "execution_count": 95,
   "id": "9a6d218c",
   "metadata": {},
   "outputs": [
    {
     "name": "stdout",
     "output_type": "stream",
     "text": [
      "[False, True]\n"
     ]
    }
   ],
   "source": [
    "list_3.sort()\n",
    "print(list_3)"
   ]
  },
  {
   "cell_type": "code",
   "execution_count": 96,
   "id": "ef547758",
   "metadata": {},
   "outputs": [
    {
     "data": {
      "text/plain": [
       "[[-12, 1], [1, 3], [44, -40]]"
      ]
     },
     "execution_count": 96,
     "metadata": {},
     "output_type": "execute_result"
    }
   ],
   "source": [
    "list_5.sort() # listenin ilk elemanlarına göre sıralar.\n",
    "list_5"
   ]
  },
  {
   "cell_type": "code",
   "execution_count": 101,
   "id": "6870ef57",
   "metadata": {},
   "outputs": [
    {
     "name": "stdout",
     "output_type": "stream",
     "text": [
      "None\n"
     ]
    }
   ],
   "source": [
    "mix_lis = ['d', \"1\", \"a\", \"7\"]\n",
    "mix_lis = mix_lis.sort()\n",
    "print(mix_lis)"
   ]
  },
  {
   "cell_type": "code",
   "execution_count": 102,
   "id": "148361b5",
   "metadata": {},
   "outputs": [
    {
     "name": "stdout",
     "output_type": "stream",
     "text": [
      "6\n"
     ]
    }
   ],
   "source": [
    "city = ['Addis Ababa', 'Istanbul', 'New York', 'Seoul', 'Stockholm', 'Sydney']\n",
    "print(len(city))"
   ]
  },
  {
   "cell_type": "code",
   "execution_count": 103,
   "id": "5de9ca94",
   "metadata": {},
   "outputs": [
    {
     "name": "stdout",
     "output_type": "stream",
     "text": [
      "[1, 3, 5, 7, 1, 3, 5, 7, 1, 3, 5, 7]\n"
     ]
    }
   ],
   "source": [
    "my_list = [1, 3, 5, 7]\n",
    "print(my_list * 3)"
   ]
  },
  {
   "cell_type": "code",
   "execution_count": 104,
   "id": "fb258480",
   "metadata": {},
   "outputs": [
    {
     "name": "stdout",
     "output_type": "stream",
     "text": [
      "['New York', 'Melbourne', 'Istanbul', 'Seoul', 'Sydney', 'Addis Ababa']\n"
     ]
    }
   ],
   "source": [
    "city = ['New York', 'Stockholm', 'Istanbul', 'Seoul', 'Sydney', 'Addis Ababa']\n",
    "city[1] = 'Melbourne'  # we assign 'Melbourne' to index 1\n",
    "print(city)  "
   ]
  },
  {
   "cell_type": "code",
   "execution_count": 106,
   "id": "362a29ac",
   "metadata": {},
   "outputs": [
    {
     "ename": "AttributeError",
     "evalue": "'list' object has no attribute 'replace'",
     "output_type": "error",
     "traceback": [
      "\u001b[1;31m---------------------------------------------------------------------------\u001b[0m",
      "\u001b[1;31mAttributeError\u001b[0m                            Traceback (most recent call last)",
      "\u001b[1;32m~\\AppData\\Local\\Temp/ipykernel_5684/2206245325.py\u001b[0m in \u001b[0;36m<module>\u001b[1;34m\u001b[0m\n\u001b[0;32m      1\u001b[0m \u001b[0mcity\u001b[0m \u001b[1;33m=\u001b[0m \u001b[1;33m[\u001b[0m\u001b[1;34m'New York'\u001b[0m\u001b[1;33m,\u001b[0m \u001b[1;34m'Stockholm'\u001b[0m\u001b[1;33m,\u001b[0m \u001b[1;34m'Istanbul'\u001b[0m\u001b[1;33m,\u001b[0m \u001b[1;34m'Seoul'\u001b[0m\u001b[1;33m,\u001b[0m \u001b[1;34m'Sydney'\u001b[0m\u001b[1;33m,\u001b[0m \u001b[1;34m'Addis Ababa'\u001b[0m\u001b[1;33m]\u001b[0m\u001b[1;33m\u001b[0m\u001b[1;33m\u001b[0m\u001b[0m\n\u001b[1;32m----> 2\u001b[1;33m \u001b[0mcity\u001b[0m\u001b[1;33m.\u001b[0m\u001b[0mreplace\u001b[0m\u001b[1;33m(\u001b[0m\u001b[1;34m\"Istanbul\"\u001b[0m\u001b[1;33m,\u001b[0m \u001b[1;34m'Melssbourne'\u001b[0m\u001b[1;33m)\u001b[0m  \u001b[1;31m# we assign 'Melbourne' to index 1\u001b[0m\u001b[1;33m\u001b[0m\u001b[1;33m\u001b[0m\u001b[0m\n\u001b[0m\u001b[0;32m      3\u001b[0m \u001b[0mprint\u001b[0m\u001b[1;33m(\u001b[0m\u001b[0mcity\u001b[0m\u001b[1;33m)\u001b[0m\u001b[1;33m\u001b[0m\u001b[1;33m\u001b[0m\u001b[0m\n",
      "\u001b[1;31mAttributeError\u001b[0m: 'list' object has no attribute 'replace'"
     ]
    }
   ],
   "source": [
    "city = ['New York', 'Stockholm', 'Istanbul', 'Seoul', 'Sydney', 'Addis Ababa']\n",
    "city.replace(\"Istanbul\", 'Melssbourne')  # we assign 'Melbourne' to index 1\n",
    "print(city)  "
   ]
  },
  {
   "cell_type": "code",
   "execution_count": 107,
   "id": "8ac6719f",
   "metadata": {},
   "outputs": [
    {
     "name": "stdout",
     "output_type": "stream",
     "text": [
      "['Joseph', 'Clarusway', 2020]\n",
      "['Joseph', 'Clarusway', 2020]\n",
      "[['Joseph', 'Clarusway', 2020]]\n"
     ]
    }
   ],
   "source": [
    "my_list = ['Joseph', 'Clarusway', 2020]\n",
    "new_list1 = list(my_list)  \n",
    "new_list2 = [my_list]\n",
    "print(my_list)\n",
    "print(new_list1)\n",
    "print(new_list2)"
   ]
  },
  {
   "cell_type": "code",
   "execution_count": 116,
   "id": "5a8eeee1",
   "metadata": {},
   "outputs": [
    {
     "data": {
      "text/plain": [
       "'range(0, 11)'"
      ]
     },
     "execution_count": 116,
     "metadata": {},
     "output_type": "execute_result"
    }
   ],
   "source": [
    "x = str(range(11))\n",
    "x"
   ]
  },
  {
   "cell_type": "code",
   "execution_count": 117,
   "id": "cced8426",
   "metadata": {},
   "outputs": [
    {
     "ename": "TypeError",
     "evalue": "cannot convert dictionary update sequence element #0 to a sequence",
     "output_type": "error",
     "traceback": [
      "\u001b[1;31m---------------------------------------------------------------------------\u001b[0m",
      "\u001b[1;31mTypeError\u001b[0m                                 Traceback (most recent call last)",
      "\u001b[1;32m~\\AppData\\Local\\Temp/ipykernel_5684/2368543398.py\u001b[0m in \u001b[0;36m<module>\u001b[1;34m\u001b[0m\n\u001b[1;32m----> 1\u001b[1;33m \u001b[0mx\u001b[0m \u001b[1;33m=\u001b[0m \u001b[0mdict\u001b[0m\u001b[1;33m(\u001b[0m\u001b[0mrange\u001b[0m\u001b[1;33m(\u001b[0m\u001b[1;36m11\u001b[0m\u001b[1;33m)\u001b[0m\u001b[1;33m)\u001b[0m\u001b[1;33m\u001b[0m\u001b[1;33m\u001b[0m\u001b[0m\n\u001b[0m\u001b[0;32m      2\u001b[0m \u001b[0mx\u001b[0m\u001b[1;33m\u001b[0m\u001b[1;33m\u001b[0m\u001b[0m\n",
      "\u001b[1;31mTypeError\u001b[0m: cannot convert dictionary update sequence element #0 to a sequence"
     ]
    }
   ],
   "source": [
    "x = dict(range(11))\n",
    "x"
   ]
  },
  {
   "cell_type": "code",
   "execution_count": 111,
   "id": "55cb2f36",
   "metadata": {},
   "outputs": [
    {
     "data": {
      "text/plain": [
       "(0, 1, 2, 3, 4, 5, 6, 7, 8, 9, 10)"
      ]
     },
     "execution_count": 111,
     "metadata": {},
     "output_type": "execute_result"
    }
   ],
   "source": [
    "x = tuple(range(11))\n",
    "x"
   ]
  },
  {
   "cell_type": "code",
   "execution_count": 112,
   "id": "45cf19f6",
   "metadata": {},
   "outputs": [
    {
     "data": {
      "text/plain": [
       "[0, 1, 2, 3, 4, 5, 6, 7, 8, 9, 10]"
      ]
     },
     "execution_count": 112,
     "metadata": {},
     "output_type": "execute_result"
    }
   ],
   "source": [
    "list_10  =list(range(11))\n",
    "list_10"
   ]
  },
  {
   "cell_type": "code",
   "execution_count": 113,
   "id": "76e0a033",
   "metadata": {},
   "outputs": [
    {
     "data": {
      "text/plain": [
       "[1, 3, 5, 7, 9]"
      ]
     },
     "execution_count": 113,
     "metadata": {},
     "output_type": "execute_result"
    }
   ],
   "source": [
    "list_10[1:10:2]"
   ]
  },
  {
   "cell_type": "code",
   "execution_count": 114,
   "id": "293b7d0f",
   "metadata": {},
   "outputs": [
    {
     "data": {
      "text/plain": [
       "[0, 1, 2, 3, 4, 5, 6, 7, 8, 9, 10, 11, 12, 13, 14]"
      ]
     },
     "execution_count": 114,
     "metadata": {},
     "output_type": "execute_result"
    }
   ],
   "source": [
    "list_10  =list(range(15))\n",
    "list_10"
   ]
  },
  {
   "cell_type": "code",
   "execution_count": 115,
   "id": "9b291d9a",
   "metadata": {},
   "outputs": [
    {
     "name": "stdout",
     "output_type": "stream",
     "text": [
      "11\n"
     ]
    }
   ],
   "source": [
    "a = 5\n",
    "b = 6\n",
    "print(a+b)"
   ]
  },
  {
   "cell_type": "code",
   "execution_count": null,
   "id": "a56baf95",
   "metadata": {},
   "outputs": [],
   "source": []
  },
  {
   "cell_type": "code",
   "execution_count": null,
   "id": "a3f90c6a",
   "metadata": {},
   "outputs": [],
   "source": []
  },
  {
   "cell_type": "code",
   "execution_count": 119,
   "id": "2911b392",
   "metadata": {},
   "outputs": [
    {
     "name": "stdout",
     "output_type": "stream",
     "text": [
      "['Raymond', 'T.', 'python', 'court9']\n",
      "['Raymond', 'T.', 'python', 'court9', 'Tr']\n",
      "['Raymond', 'T.', 'python', 'court9', 'Tr', 'IT specialist']\n",
      "['Raymond', 'T.', 'python', 'court9', 'Tr', 'IT specialist', 'yeni bir şey']\n",
      "['Joseph', ' ', 'python', 'court9', 'Tr', 'Data Scientist', 'yeni bir şey']\n",
      "['Aslan', 'Joseph', ' ', 'python', 'court9', 'Tr', 'Data Scientist', 'yeni bir şey']\n",
      "['Aslan', 'Joseph', ' ', 'python', 'court9', 'Tr', 'Data Scientist', 'Süper Hoca', 'yeni bir şey']\n",
      "['Joseph', ' ', 'python', 'court9', 'Tr', 'Data Scientist', 'yeni bir şey']\n"
     ]
    }
   ],
   "source": [
    "hoca1 = [\"Raymond\", \"U.\", \"python\", \"court9\" ]\n",
    "hoca1[1] = \"T.\" #soyismini değiştirdim.\n",
    "print(hoca1)\n",
    "hoca1.append(\"Tr\")  # sınıfa ilave yaptım.\n",
    "print(hoca1)\n",
    "hoca1 = hoca1 + [\"IT specialist\"] # uzmanlığını da ilave ettim.\n",
    "print(hoca1)\n",
    "\n",
    "hoca1 += [\"yeni bir şey\"]\n",
    "print(hoca1)\n",
    "# hoca ismini yanlış biliyormuşum.\n",
    "hoca1[:2] = [\"Joseph\", \" \"]\n",
    "hoca1[5] = \"Data Scientist\"\n",
    "print(hoca1)\n",
    "hoca1.insert(0, \"Aslan\")\n",
    "print(hoca1)\n",
    "hoca1.insert(7, \"Süper Hoca\") # kaçıncı index olacaksa onu yazıyoruz. sonuncudan büyük olabilir.\n",
    "print(hoca1)\n",
    "# hoca övülmeyi sevmiyormuş\n",
    "hoca1.remove(\"Aslan\")\n",
    "hoca1.remove(\"Süper Hoca\")\n",
    "print(hoca1)"
   ]
  },
  {
   "cell_type": "code",
   "execution_count": null,
   "id": "f3b914a1",
   "metadata": {},
   "outputs": [],
   "source": []
  },
  {
   "cell_type": "code",
   "execution_count": null,
   "id": "b6ea40c0",
   "metadata": {},
   "outputs": [],
   "source": []
  }
 ],
 "metadata": {
  "kernelspec": {
   "display_name": "Python 3 (ipykernel)",
   "language": "python",
   "name": "python3"
  },
  "language_info": {
   "codemirror_mode": {
    "name": "ipython",
    "version": 3
   },
   "file_extension": ".py",
   "mimetype": "text/x-python",
   "name": "python",
   "nbconvert_exporter": "python",
   "pygments_lexer": "ipython3",
   "version": "3.9.6"
  }
 },
 "nbformat": 4,
 "nbformat_minor": 5
}
