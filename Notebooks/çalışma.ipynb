{
 "cells": [
  {
   "cell_type": "code",
   "execution_count": 3,
   "id": "4c7e6aaf",
   "metadata": {},
   "outputs": [
    {
     "name": "stdout",
     "output_type": "stream",
     "text": [
      "[10, 9, 8, 7, 6, 5, 4, 3, 2, 1]\n"
     ]
    }
   ],
   "source": [
    "my_list = list(range(1, 11, 1))\n",
    "new_list = sorted(my_list, reverse=True)\n",
    "print(new_list)"
   ]
  },
  {
   "cell_type": "code",
   "execution_count": 5,
   "id": "796aaef2",
   "metadata": {},
   "outputs": [
    {
     "name": "stdout",
     "output_type": "stream",
     "text": [
      "224\n"
     ]
    }
   ],
   "source": [
    "\n",
    "print(12+212)"
   ]
  },
  {
   "cell_type": "code",
   "execution_count": 14,
   "id": "2c35c01a",
   "metadata": {},
   "outputs": [
    {
     "name": "stdout",
     "output_type": "stream",
     "text": [
      "2020\n"
     ]
    }
   ],
   "source": [
    "number = \"32\"\n",
    "print(1988+ int(number))"
   ]
  },
  {
   "cell_type": "code",
   "execution_count": 15,
   "id": "c56c04f6",
   "metadata": {},
   "outputs": [
    {
     "name": "stdout",
     "output_type": "stream",
     "text": [
      "Some people dream of success while others wake up and work.\n"
     ]
    }
   ],
   "source": [
    "print(\"{4} {9} {1} {7} {5} {0} {6} {8} {3} {2}\".format('while', 'dream', 'work.', 'and', 'Some', 'success', 'others', 'of', 'wake up', 'people'))"
   ]
  },
  {
   "cell_type": "code",
   "execution_count": null,
   "id": "7991cea7",
   "metadata": {},
   "outputs": [],
   "source": [
    "Aşağıdaki öğelerin tümünü kullanarak, döndüren doğru bir boole ifadesi ayarlayın True. Sonucu görüntülemek için print()işlevi kullanın .\n",
    "\n",
    "\n",
    "None\n",
    "or\n",
    "not\n",
    "herhangi bir intsayı\n"
   ]
  },
  {
   "cell_type": "code",
   "execution_count": 19,
   "id": "db2400c1",
   "metadata": {},
   "outputs": [
    {
     "ename": "NameError",
     "evalue": "name 'none' is not defined",
     "output_type": "error",
     "traceback": [
      "\u001b[1;31m---------------------------------------------------------------------------\u001b[0m",
      "\u001b[1;31mNameError\u001b[0m                                 Traceback (most recent call last)",
      "\u001b[1;32m~\\AppData\\Local\\Temp/ipykernel_10136/4232063937.py\u001b[0m in \u001b[0;36m<module>\u001b[1;34m\u001b[0m\n\u001b[1;32m----> 1\u001b[1;33m \u001b[0mprint\u001b[0m\u001b[1;33m(\u001b[0m\u001b[1;32mnot\u001b[0m\u001b[1;33m(\u001b[0m\u001b[0mnone\u001b[0m \u001b[1;32mor\u001b[0m \u001b[1;36m3\u001b[0m\u001b[1;33m)\u001b[0m\u001b[1;33m)\u001b[0m\u001b[1;33m\u001b[0m\u001b[1;33m\u001b[0m\u001b[0m\n\u001b[0m",
      "\u001b[1;31mNameError\u001b[0m: name 'none' is not defined"
     ]
    }
   ],
   "source": [
    "a= none\n",
    "\n",
    "\n",
    "\n",
    "print(not(None or 3))"
   ]
  },
  {
   "cell_type": "code",
   "execution_count": 24,
   "id": "40c892cb",
   "metadata": {},
   "outputs": [
    {
     "name": "stdout",
     "output_type": "stream",
     "text": [
      "True\n"
     ]
    }
   ],
   "source": [
    "print(not(None) or 5)"
   ]
  },
  {
   "cell_type": "code",
   "execution_count": 26,
   "id": "06fa236c",
   "metadata": {},
   "outputs": [
    {
     "name": "stdout",
     "output_type": "stream",
     "text": [
      "I will find a job. \n"
     ]
    }
   ],
   "source": [
    "print(\"{3} {2} {4} {1} {0} \".format('job.', 'a', 'will', 'I', 'find'))"
   ]
  },
  {
   "cell_type": "code",
   "execution_count": null,
   "id": "b30d4357",
   "metadata": {},
   "outputs": [],
   "source": [
    " print\n",
    "    \"I will find a job.\" using .format method.\n",
    "\n"
   ]
  },
  {
   "cell_type": "code",
   "execution_count": 27,
   "id": "aad7db3e",
   "metadata": {},
   "outputs": [
    {
     "name": "stdout",
     "output_type": "stream",
     "text": [
      "Python Data Types And Useful Operations\n"
     ]
    }
   ],
   "source": [
    "section_3_5 = \"python data types and useful operations\"\n",
    "print(section_3_5.title())"
   ]
  },
  {
   "cell_type": "code",
   "execution_count": 8,
   "id": "20c14977",
   "metadata": {},
   "outputs": [
    {
     "name": "stdout",
     "output_type": "stream",
     "text": [
      "The number is equal or greater than 10\n"
     ]
    }
   ],
   "source": [
    "number = 23\n",
    "if number >= 10:\n",
    "    print(\"The number is equal or greater than 10\")\n",
    "else:\n",
    "    print(\"The number is less than 10\")"
   ]
  },
  {
   "cell_type": "code",
   "execution_count": null,
   "id": "df1489e3",
   "metadata": {},
   "outputs": [],
   "source": [
    "number = 5\n",
    "if number <= 3:    \n",
    "    print(\"Number is smaller than or equal to 3\") \n",
    "else:  # Optional clause (you can only have one else)\n",
    "    print(\"Number is bigger than 3\")"
   ]
  },
  {
   "cell_type": "code",
   "execution_count": 9,
   "id": "e7d7ee93",
   "metadata": {},
   "outputs": [
    {
     "name": "stdout",
     "output_type": "stream",
     "text": [
      "discounted price!\n"
     ]
    }
   ],
   "source": [
    "audience_group = 'kid', 'teen', 'adult'\n",
    "\n",
    "audience = \"teen\"\n",
    "\n",
    "if audience in audience_group:\n",
    "    if audience == \"kid\":\n",
    "        print(\"it is free to go to cinema\")\n",
    "    elif audience == \"teen\":\n",
    "        print(\"discounted price!\")\n",
    "    else: # audience == \"adult\":\n",
    "        print(\"normal price\")\n",
    "else:\n",
    "    print(\"No such audience, stay at your home!\")\n"
   ]
  },
  {
   "cell_type": "code",
   "execution_count": 17,
   "id": "bdd1a2fb",
   "metadata": {},
   "outputs": [
    {
     "name": "stdout",
     "output_type": "stream",
     "text": [
      "Enter your score :75\n",
      "Your degree: below B\n"
     ]
    }
   ],
   "source": [
    "score = int (input(\"Enter your score :\"))\n",
    "\n",
    "if score >= 90:\n",
    "    if score >= 95:\n",
    "        Score_letter=\"A+\"\n",
    "    else:\n",
    "        Score_letter=\"A\"\n",
    "elif score >= 80:\n",
    "    if score >= 85:\n",
    "        Score_letter=\"B+\"\n",
    "    else:\n",
    "        Score_letter=\"B\"\n",
    "else:\n",
    "    Score_letter=\"below B\"\n",
    "\n",
    "print (\"Your degree: %s\" % Score_letter)\n"
   ]
  },
  {
   "cell_type": "code",
   "execution_count": 23,
   "id": "d6631f7c",
   "metadata": {},
   "outputs": [
    {
     "name": "stdout",
     "output_type": "stream",
     "text": [
      "lütfen panınızı giriniz : 140\n",
      "Senin derecen : A+\n"
     ]
    }
   ],
   "source": [
    "puan = int(input(\"lütfen panınızı giriniz : \"))\n",
    "\n",
    "if puan >= 90 :\n",
    "    if puan>= 95:\n",
    "        derece = \"A+\"\n",
    "    else:\n",
    "        derece = \"A\"\n",
    "elif puan >= 75 :\n",
    "    if puan >= 80:\n",
    "        derece = \"B+\"\n",
    "    else :\n",
    "        derece = \"B\"\n",
    "elif puan >=60 :\n",
    "    derece = \"C\"\n",
    "else :\n",
    "    derece = \"Kaldın D\"            \n",
    "    \n",
    "print(\"Senin derecen : %s\" %derece)\n",
    "        \n",
    "    "
   ]
  },
  {
   "cell_type": "code",
   "execution_count": 4,
   "id": "1c0a6ad0",
   "metadata": {},
   "outputs": [
    {
     "name": "stdout",
     "output_type": "stream",
     "text": [
      "please enter your first name : aslı\n",
      "Hello Aslı! see you later. \n"
     ]
    }
   ],
   "source": [
    "user = input(\"please enter your first name : \" ).capitalize().strip()\n",
    "if user == \"Joseph\":\n",
    "    print(\"Hello Joseph! the pasword is : w@12\")\n",
    "else :\n",
    "    print(\"Hello {}! see you later. \".format(user))"
   ]
  },
  {
   "cell_type": "code",
   "execution_count": 7,
   "id": "8f68bdcb",
   "metadata": {},
   "outputs": [
    {
     "name": "stdout",
     "output_type": "stream",
     "text": [
      "Sayı giriniz : 407\n"
     ]
    },
    {
     "ename": "TypeError",
     "evalue": "'>' not supported between instances of 'str' and 'int'",
     "output_type": "error",
     "traceback": [
      "\u001b[1;31m---------------------------------------------------------------------------\u001b[0m",
      "\u001b[1;31mTypeError\u001b[0m                                 Traceback (most recent call last)",
      "\u001b[1;32m~\\AppData\\Local\\Temp/ipykernel_6284/2281693258.py\u001b[0m in \u001b[0;36m<module>\u001b[1;34m\u001b[0m\n\u001b[0;32m      7\u001b[0m \u001b[1;33m\u001b[0m\u001b[0m\n\u001b[0;32m      8\u001b[0m \u001b[1;33m\u001b[0m\u001b[0m\n\u001b[1;32m----> 9\u001b[1;33m \u001b[1;32mwhile\u001b[0m \u001b[0msayı\u001b[0m\u001b[1;33m>\u001b[0m\u001b[1;36m0\u001b[0m\u001b[1;33m:\u001b[0m\u001b[1;33m\u001b[0m\u001b[1;33m\u001b[0m\u001b[0m\n\u001b[0m\u001b[0;32m     10\u001b[0m     \u001b[0mbasamak\u001b[0m\u001b[1;33m=\u001b[0m\u001b[0msayı\u001b[0m\u001b[1;33m%\u001b[0m\u001b[1;36m10\u001b[0m\u001b[1;33m\u001b[0m\u001b[1;33m\u001b[0m\u001b[0m\n\u001b[0;32m     11\u001b[0m     \u001b[0mtoplam\u001b[0m\u001b[1;33m+=\u001b[0m\u001b[1;33m(\u001b[0m\u001b[0mbasamak\u001b[0m\u001b[1;33m**\u001b[0m\u001b[0mbas_say_deg\u001b[0m\u001b[1;33m)\u001b[0m\u001b[1;33m\u001b[0m\u001b[1;33m\u001b[0m\u001b[0m\n",
      "\u001b[1;31mTypeError\u001b[0m: '>' not supported between instances of 'str' and 'int'"
     ]
    }
   ],
   "source": [
    "# Armstrong sayısı bulma programı 11111111111111111fsdgsg print(\"bhccjcjcjcjcj\")\n",
    "\n",
    "sayı=input(\"Sayı giriniz : \")\n",
    "bas_say_deg=len(sayı)\n",
    "basamak=0\n",
    "toplam=0    \n",
    "  \n",
    "\n",
    "while sayı>0:\n",
    "    basamak=sayı%10\n",
    "    toplam+=(basamak**bas_say_deg)\n",
    "    gecici_sayı//=10\n",
    "    \n",
    "    if toplam==sayı:\n",
    "        print(\"Sayı Armstrong sayısıdır.\")\n",
    "    else:\n",
    "        print(\"Sayı armstrong sayısı değildir...\")\n",
    "        \n",
    "print(\"bhccjcjcjcjcj\")"
   ]
  },
  {
   "cell_type": "code",
   "execution_count": 4,
   "id": "5d10d2d3",
   "metadata": {},
   "outputs": [
    {
     "name": "stdout",
     "output_type": "stream",
     "text": [
      "sayı gir :12\n",
      "12 is not a prime number\n",
      "12 is not a prime number\n",
      "12 is not a prime number\n",
      "12 is a prime number\n",
      "12 is not a prime number\n",
      "12 is a prime number\n",
      "12 is a prime number\n",
      "12 is a prime number\n",
      "12 is a prime number\n",
      "12 is a prime number\n"
     ]
    }
   ],
   "source": [
    "num = int(input(\"sayı gir :\"))\n",
    "i = 0\n",
    "while i in range(2, num) :\n",
    "    if num % i == 0 :\n",
    "        print(num , \"is not a prime number\")\n",
    "    else :\n",
    "         print(num , \"is a prime number\")"
   ]
  },
  {
   "cell_type": "code",
   "execution_count": null,
   "id": "b5b49e3e",
   "metadata": {},
   "outputs": [],
   "source": [
    "sentence = input(\"give me a sentence without any punctuation :\")\n",
    "\n",
    "words = sentence.split()\n",
    "i = 0\n",
    "longest = 0\n",
    "\n",
    "while i < len(words) :\n",
    "    if len(words[i]) > longest :\n",
    "        longest = len(words[i])\n",
    "    i += 1\n",
    "    \n",
    "print(\"the length of the longest word is :\", longest)"
   ]
  },
  {
   "cell_type": "code",
   "execution_count": null,
   "id": "91eabdd3",
   "metadata": {},
   "outputs": [],
   "source": [
    "def most_frequent(numbers):\n",
    "    return max(set(numbers), key = numbers.count)\n",
    "numbers = [1, 3, 7, 4, 3, 0, 3, 6, 3]\n",
    "\n",
    "print(\"Given List:\",numbers)\n",
    "print(\"The most frequent number is {} \".format(most_frequent(numbers)), end = \"\")\n",
    "\n",
    "all_numbers = {numbers.count(numbers[i]): numbers[i] for i in range(len(numbers))}\n",
    "max_key = max(all_numbers.keys())\n",
    "\n",
    "print(\"and  it was {} times repeated\".format(max_key))"
   ]
  },
  {
   "cell_type": "code",
   "execution_count": null,
   "id": "2457b9c7",
   "metadata": {},
   "outputs": [],
   "source": []
  },
  {
   "cell_type": "code",
   "execution_count": null,
   "id": "3100c8a8",
   "metadata": {},
   "outputs": [],
   "source": []
  },
  {
   "cell_type": "code",
   "execution_count": null,
   "id": "9a506504",
   "metadata": {},
   "outputs": [],
   "source": []
  },
  {
   "cell_type": "code",
   "execution_count": null,
   "id": "a4839cc1",
   "metadata": {},
   "outputs": [],
   "source": []
  }
 ],
 "metadata": {
  "kernelspec": {
   "display_name": "Python 3 (ipykernel)",
   "language": "python",
   "name": "python3"
  },
  "language_info": {
   "codemirror_mode": {
    "name": "ipython",
    "version": 3
   },
   "file_extension": ".py",
   "mimetype": "text/x-python",
   "name": "python",
   "nbconvert_exporter": "python",
   "pygments_lexer": "ipython3",
   "version": "3.9.6"
  }
 },
 "nbformat": 4,
 "nbformat_minor": 5
}
