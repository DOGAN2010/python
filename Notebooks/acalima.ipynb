{
 "cells": [
  {
   "cell_type": "code",
   "execution_count": 10,
   "metadata": {},
   "outputs": [
    {
     "name": "stdout",
     "output_type": "stream",
     "text": [
      "['bath', 'aslan', 'kaplan']\n",
      "['25', '34', '89']\n"
     ]
    }
   ],
   "source": [
    "def animals(**kwargs) :\n",
    "    names= []\n",
    "    sayı= []\n",
    "    for key, value in kwargs.items() :\n",
    "        names.append(key)\n",
    "        sayı.append(value)\n",
    "    print(names, sayı, sep=\"\\n\")\n",
    "\n",
    "animals(bath=\"25\", aslan=\"34\", kaplan=\"89\")"
   ]
  },
  {
   "cell_type": "code",
   "execution_count": 16,
   "metadata": {},
   "outputs": [
    {
     "name": "stdout",
     "output_type": "stream",
     "text": [
      "sevdigim meyve; ayva\n",
      "sevdigim meyve; kiraz\n",
      "sevdigim meyve; karpuz\n"
     ]
    }
   ],
   "source": [
    "def meyve(*fruit):\n",
    "    for i in fruit:\n",
    "        print(\"sevdigim meyve; {}\".format(i))\n",
    "meyve(\"ayva\", \"kiraz\", \"karpuz\")\n"
   ]
  },
  {
   "cell_type": "code",
   "execution_count": 23,
   "metadata": {},
   "outputs": [
    {
     "name": "stdout",
     "output_type": "stream",
     "text": [
      "sevdigim meyve;  ayva kiraz karpuz\n"
     ]
    }
   ],
   "source": [
    "def mey(a, b, c):\n",
    "    print(\"sevdigim meyve; \", end=\" \")\n",
    "    print( a, b, c)\n",
    "meyve= [\"ayva\", \"kiraz\", \"karpuz\"]\n",
    "mey(*meyve)"
   ]
  },
  {
   "cell_type": "code",
   "execution_count": 5,
   "metadata": {},
   "outputs": [
    {
     "name": "stdout",
     "output_type": "stream",
     "text": [
      "25\n"
     ]
    }
   ],
   "source": [
    "def first_function(argument_1, argument_2) :\n",
    "    print(argument_1**2 + argument_2**2)\n",
    "    \n",
    "first_function(3, 4)  "
   ]
  },
  {
   "cell_type": "code",
   "execution_count": 27,
   "metadata": {},
   "outputs": [
    {
     "name": "stdout",
     "output_type": "stream",
     "text": [
      "for me Bill Gates and Guido Van are Rossum\n",
      "for me Bill Gates and Guido Van Rossum are new\n"
     ]
    }
   ],
   "source": [
    "def merger(a, b, c, d):\n",
    "    print(\"for me {} {} and {} are {}\".format(a, d, c, b))\n",
    "    print(f\"for me {a} {d} and {c} {b} are new\")\n",
    "genius = (\"Bill\", \"Rossum\", \"Guido Van\", \"Gates\")\n",
    "merger(*genius)"
   ]
  },
  {
   "cell_type": "code",
   "execution_count": 34,
   "metadata": {},
   "outputs": [
    {
     "name": "stdout",
     "output_type": "stream",
     "text": [
      "a ali\n",
      "b veli\n",
      "c deli\n"
     ]
    }
   ],
   "source": [
    "def önceki(**new):\n",
    "    for a, b in new.items():\n",
    "        print(a, b)\n",
    "önceki(a=\"ali\", b=\"veli\", c= \"deli\")"
   ]
  },
  {
   "cell_type": "code",
   "execution_count": 37,
   "metadata": {},
   "outputs": [
    {
     "name": "stdout",
     "output_type": "stream",
     "text": [
      "[('ayla', 'jack'), ('anna', 'robet'), ('emma', 'eric')]\n"
     ]
    }
   ],
   "source": [
    "def muruvvet(bride, groom):\n",
    "    couple_list = [x for x in zip(bride, groom)]\n",
    "    print(couple_list)\n",
    "\n",
    "muruvvet(bride=[\"ayla\", \"anna\", \"emma\"], groom=[\"jack\", \"robet\", \"eric\"])"
   ]
  },
  {
   "cell_type": "code",
   "execution_count": 47,
   "metadata": {},
   "outputs": [
    {
     "name": "stdout",
     "output_type": "stream",
     "text": [
      "The avarge age : 33.333333333333336\n"
     ]
    }
   ],
   "source": [
    "def meaner(ayse, aslı, aylin):\n",
    "    total = ayse + aslı + aylin\n",
    "    avg = total/3\n",
    "\n",
    "    print(\"The avarge age :\", avg)\n",
    "a = {\"ayse\" :45 , \"aslı\" : 15, \"aylin\" : 40}\n",
    "meaner(**a)"
   ]
  },
  {
   "cell_type": "code",
   "execution_count": 48,
   "metadata": {},
   "outputs": [
    {
     "data": {
      "text/plain": [
       "False"
      ]
     },
     "execution_count": 48,
     "metadata": {},
     "output_type": "execute_result"
    }
   ],
   "source": [
    "def invalid(s):\n",
    "    while \"()\" in s or \"[]\" in s or \"()\" in s or \"{}\" in s :\n",
    "        s == s.replace(\"()\", \"\").replace(\"{}\", \"\").replace(\"[]\", \"\")\n",
    "        return s == \"\"\n",
    "\n",
    "\n",
    "invalid(\"{[{{[[(()]]}}\")"
   ]
  },
  {
   "cell_type": "code",
   "execution_count": 23,
   "metadata": {},
   "outputs": [
    {
     "name": "stdout",
     "output_type": "stream",
     "text": [
      "btdzy\n"
     ]
    }
   ],
   "source": [
    "cumle = input(\"Harfleri cevirmekiçin kelime gir : \")\n",
    "new_kelime = \"\"\n",
    "for i in cumle:\n",
    "    if not i==\"z\" :\n",
    "        sayı = ord(i) +1\n",
    "        harf = chr(sayı)\n",
    "        new_kelime += harf\n",
    "    else:\n",
    "        new_kelime += i\n",
    "print(new_kelime)"
   ]
  },
  {
   "cell_type": "code",
   "execution_count": 36,
   "metadata": {},
   "outputs": [
    {
     "name": "stdout",
     "output_type": "stream",
     "text": [
      "bdcezc\n"
     ]
    }
   ],
   "source": [
    "def move(word):\n",
    "    new_kelime = \"\"\n",
    "    for i in word:\n",
    "        if not i==\"z\" :\n",
    "            sayı = ord(i) +1\n",
    "            harf = chr(sayı)\n",
    "            new_kelime += harf\n",
    "        else:\n",
    "            new_kelime += i\n",
    "    print(new_kelime)\n",
    "move( input(\"Harfleri cevirmek için kelime gir : \"))"
   ]
  },
  {
   "cell_type": "code",
   "execution_count": 42,
   "metadata": {},
   "outputs": [
    {
     "name": "stdout",
     "output_type": "stream",
     "text": [
      "a\n"
     ]
    }
   ],
   "source": [
    "print(chr(97))"
   ]
  },
  {
   "cell_type": "code",
   "execution_count": 43,
   "metadata": {},
   "outputs": [
    {
     "data": {
      "text/plain": [
       "5"
      ]
     },
     "execution_count": 43,
     "metadata": {},
     "output_type": "execute_result"
    }
   ],
   "source": [
    "def sums(a, b):\n",
    "    total = a+b\n",
    "    return total\n",
    "\n",
    "sums(2, 3)"
   ]
  },
  {
   "cell_type": "code",
   "execution_count": 61,
   "metadata": {},
   "outputs": [
    {
     "data": {
      "text/plain": [
       "'true'"
      ]
     },
     "execution_count": 61,
     "metadata": {},
     "output_type": "execute_result"
    }
   ],
   "source": [
    "def sonuc(num):\n",
    "    if num > 0 :\n",
    "        return \"true\"\n",
    "    else :\n",
    "        return \"false\"\n",
    "\n",
    "sonuc(45)\n",
    "\t"
   ]
  },
  {
   "cell_type": "code",
   "execution_count": 9,
   "metadata": {},
   "outputs": [],
   "source": [
    "a=(( lambda x: \"odd\" if x%2 != 0 else \"even\")(21))"
   ]
  },
  {
   "cell_type": "code",
   "execution_count": 10,
   "metadata": {},
   "outputs": [
    {
     "name": "stdout",
     "output_type": "stream",
     "text": [
      "odd\n"
     ]
    }
   ],
   "source": [
    "print(a)"
   ]
  },
  {
   "cell_type": "code",
   "execution_count": 13,
   "metadata": {},
   "outputs": [
    {
     "name": "stdout",
     "output_type": "stream",
     "text": [
      "elmüc\n"
     ]
    }
   ],
   "source": [
    "print((lambda x: x[::-1])(\"cümle\"))"
   ]
  },
  {
   "cell_type": "code",
   "execution_count": 14,
   "metadata": {},
   "outputs": [
    {
     "name": "stdout",
     "output_type": "stream",
     "text": [
      "['c', 'b', 'a']\n"
     ]
    }
   ],
   "source": [
    "print((lambda x: x[::-1])([\"a\", \"b\", \"c\"]))"
   ]
  },
  {
   "cell_type": "code",
   "execution_count": 29,
   "metadata": {},
   "outputs": [
    {
     "ename": "SyntaxError",
     "evalue": "invalid syntax (398796900.py, line 1)",
     "output_type": "error",
     "traceback": [
      "\u001b[1;36m  Input \u001b[1;32mIn [29]\u001b[1;36m\u001b[0m\n\u001b[1;33m    print((lambda x : i ,\":\", \"odd\" if i%2 != 0 else i ,\": \",\"even\" (for i in x)([1, 2,  3, 4])))\u001b[0m\n\u001b[1;37m                                                                     ^\u001b[0m\n\u001b[1;31mSyntaxError\u001b[0m\u001b[1;31m:\u001b[0m invalid syntax\n"
     ]
    }
   ],
   "source": [
    "print((lambda x : i ,\":\", \"odd\" if i%2 != 0 else i ,\": \",\"even\" (for i in x)([1, 2,  3, 4])))"
   ]
  },
  {
   "cell_type": "code",
   "execution_count": 28,
   "metadata": {},
   "outputs": [
    {
     "name": "stdout",
     "output_type": "stream",
     "text": [
      "1 :  odd\n",
      "2 :  even\n",
      "3 :  odd\n",
      "4 :  even\n"
     ]
    }
   ],
   "source": [
    "a = [1, 2, 3, 4]\n",
    "for i in a:\n",
    "    print(i, \": \", (lambda x: \"even\" if i%2 == 0 else \"odd\")(i))"
   ]
  },
  {
   "cell_type": "code",
   "execution_count": 30,
   "metadata": {},
   "outputs": [
    {
     "name": "stdout",
     "output_type": "stream",
     "text": [
      "1 : odd\n",
      "2 : even\n",
      "3 : odd\n",
      "4 : even\n",
      "-8 : even\n"
     ]
    }
   ],
   "source": [
    "a = [1, 2, 3, 4, -8]\n",
    "for i in a:\n",
    "    print(i,\":\",(lambda x:\"even\" if i%2==0 else \"odd\")(i))"
   ]
  },
  {
   "cell_type": "code",
   "execution_count": 31,
   "metadata": {},
   "outputs": [
    {
     "ename": "NameError",
     "evalue": "name 'x' is not defined",
     "output_type": "error",
     "traceback": [
      "\u001b[1;31m---------------------------------------------------------------------------\u001b[0m",
      "\u001b[1;31mNameError\u001b[0m                                 Traceback (most recent call last)",
      "\u001b[1;32mc:\\Users\\dogan\\Desktop\\Projeler\\VSD\\Notebooks\\acalima.ipynb Cell 22'\u001b[0m in \u001b[0;36m<cell line: 2>\u001b[1;34m()\u001b[0m\n\u001b[0;32m      <a href='vscode-notebook-cell:/c%3A/Users/dogan/Desktop/Projeler/VSD/Notebooks/acalima.ipynb#ch0000023?line=0'>1</a>\u001b[0m a \u001b[39m=\u001b[39m [\u001b[39m1\u001b[39m, \u001b[39m2\u001b[39m, \u001b[39m3\u001b[39m, \u001b[39m4\u001b[39m, \u001b[39m-\u001b[39m\u001b[39m8\u001b[39m]\n\u001b[1;32m----> <a href='vscode-notebook-cell:/c%3A/Users/dogan/Desktop/Projeler/VSD/Notebooks/acalima.ipynb#ch0000023?line=1'>2</a>\u001b[0m \u001b[39mmap\u001b[39m((\u001b[39mlambda\u001b[39;00m x : x ,\u001b[39m\"\u001b[39m\u001b[39m:\u001b[39m\u001b[39m\"\u001b[39m, \u001b[39m\"\u001b[39m\u001b[39modd\u001b[39m\u001b[39m\"\u001b[39m \u001b[39mif\u001b[39;00m x\u001b[39m%\u001b[39m\u001b[39m2\u001b[39m \u001b[39m!=\u001b[39m \u001b[39m0\u001b[39m \u001b[39melse\u001b[39;00m x ,\u001b[39m\"\u001b[39m\u001b[39m: \u001b[39m\u001b[39m\"\u001b[39m,\u001b[39m\"\u001b[39m\u001b[39meven\u001b[39m\u001b[39m\"\u001b[39m \u001b[39m\"\u001b[39m\u001b[39m\"\u001b[39m), x)\n",
      "\u001b[1;31mNameError\u001b[0m: name 'x' is not defined"
     ]
    }
   ],
   "source": [
    "a = [1, 2, 3, 4, -8]\n",
    "map((lambda x : x ,\":\", \"odd\" if x%2 != 0 else x ,\": \",\"even\" \"\"), x)"
   ]
  },
  {
   "cell_type": "code",
   "execution_count": null,
   "metadata": {},
   "outputs": [],
   "source": [
    "map()"
   ]
  },
  {
   "cell_type": "code",
   "execution_count": 36,
   "metadata": {},
   "outputs": [
    {
     "name": "stdout",
     "output_type": "stream",
     "text": [
      "[6.0, 6.0, 6.0, 6.0]\n"
     ]
    }
   ],
   "source": [
    "nums1=[9,6,7,4]\n",
    "\n",
    "nums2=[3,6,5,8]\n",
    "sonuc = map(lambda x, y : (x+y)/2 , nums1, nums2)\n",
    "print(list(sonuc))"
   ]
  },
  {
   "cell_type": "code",
   "execution_count": 37,
   "metadata": {},
   "outputs": [
    {
     "name": "stdout",
     "output_type": "stream",
     "text": [
      "[13, 20, 14]\n"
     ]
    }
   ],
   "source": [
    "kelimeler = [\"ali veli deli\", \"mehmet ağanın kuzeni\", \"cemilin-bacısı\"]\n",
    "uzunluk=map(lambda x: len(x), kelimeler)\n",
    "print(list(uzunluk))"
   ]
  },
  {
   "cell_type": "code",
   "execution_count": 1,
   "metadata": {},
   "outputs": [
    {
     "data": {
      "text/plain": [
       "'45'"
      ]
     },
     "execution_count": 1,
     "metadata": {},
     "output_type": "execute_result"
    }
   ],
   "source": [
    "def int_to_str(num):\n",
    "    return str(num)\n",
    "int_to_str(45)"
   ]
  },
  {
   "cell_type": "code",
   "execution_count": 3,
   "metadata": {},
   "outputs": [
    {
     "data": {
      "text/plain": [
       "45"
      ]
     },
     "execution_count": 3,
     "metadata": {},
     "output_type": "execute_result"
    }
   ],
   "source": [
    "def int_to_str(num):\n",
    "    return int(num)\n",
    "int_to_str(\"45\")"
   ]
  },
  {
   "cell_type": "code",
   "execution_count": null,
   "metadata": {},
   "outputs": [],
   "source": [
    "def int_to_str(num):\n",
    "    return str(num)\n",
    "int_to_str(45)"
   ]
  },
  {
   "cell_type": "code",
   "execution_count": 15,
   "metadata": {},
   "outputs": [
    {
     "name": "stdout",
     "output_type": "stream",
     "text": [
      "10\n"
     ]
    }
   ],
   "source": [
    "def shift_to_right(x, y):\n",
    "    a = x/(2**y)\n",
    "    b=int(a)\n",
    "    print(b)\n",
    "\n",
    "\t\n",
    "shift_to_right(86, 3)"
   ]
  },
  {
   "cell_type": "code",
   "execution_count": 16,
   "metadata": {},
   "outputs": [
    {
     "data": {
      "text/plain": [
       "10"
      ]
     },
     "execution_count": 16,
     "metadata": {},
     "output_type": "execute_result"
    }
   ],
   "source": [
    "def shift_to_right(x, y):\n",
    "    return int(x/2**y)\n",
    "\n",
    "shift_to_right(86, 3)"
   ]
  },
  {
   "cell_type": "markdown",
   "metadata": {},
   "source": [
    "Write a function that takes coordinates of two points on a two-dimensional plane and returns the length of the line segment connecting those two points.\n",
    "\n",
    "Examples\n",
    "line_length([15, 7], [22, 11]) ➞ 8.06"
   ]
  },
  {
   "cell_type": "code",
   "execution_count": 17,
   "metadata": {},
   "outputs": [
    {
     "data": {
      "text/plain": [
       "8.06225774829855"
      ]
     },
     "execution_count": 17,
     "metadata": {},
     "output_type": "execute_result"
    }
   ],
   "source": [
    "def line_length(x, y):\n",
    "    return ((y[0]-x[0])**2 + (y[1]-x[1])**2)**(1/2)\n",
    "\n",
    "line_length([15, 7], [22, 11])"
   ]
  },
  {
   "cell_type": "markdown",
   "metadata": {},
   "source": [
    "Imagine a circle and two squares: a smaller and a bigger one. For the smaller one, the circle is a circumcircle and for the bigger one, an incircle.\n",
    "\n",
    "Create a function, that takes an integer (radius of the circle) and returns the difference of the areas of the two squares.\n",
    "\n",
    "Examples\n",
    "square_areas_difference(5) ➞ 50"
   ]
  },
  {
   "cell_type": "code",
   "execution_count": 24,
   "metadata": {},
   "outputs": [
    {
     "name": "stdout",
     "output_type": "stream",
     "text": [
      "50.00000000000001\n"
     ]
    }
   ],
   "source": [
    "def square_areas_difference(x):\n",
    "    result = (2*x)**2- ((2*x)/(2**0.5))**2\n",
    "    print(result)\n",
    "\n",
    "square_areas_difference(5)"
   ]
  },
  {
   "cell_type": "code",
   "execution_count": 2,
   "metadata": {},
   "outputs": [
    {
     "data": {
      "text/plain": [
       "25"
      ]
     },
     "execution_count": 2,
     "metadata": {},
     "output_type": "execute_result"
    }
   ],
   "source": [
    "a = lambda x : x**2\n",
    "a(5)"
   ]
  },
  {
   "cell_type": "code",
   "execution_count": 3,
   "metadata": {},
   "outputs": [
    {
     "name": "stdout",
     "output_type": "stream",
     "text": [
      "esya\n"
     ]
    }
   ],
   "source": [
    "a = (lambda x : x[::-1])(\"ayse\")\n",
    "print(a)"
   ]
  },
  {
   "cell_type": "code",
   "execution_count": 10,
   "metadata": {},
   "outputs": [
    {
     "name": "stdout",
     "output_type": "stream",
     "text": [
      "1  : old\n",
      "2 : even\n",
      "3  : old\n",
      "4 : even\n"
     ]
    }
   ],
   "source": [
    "for i in [1, 2, 3, 4]:\n",
    "    print(i, (lambda x : \": even\" if x%2 ==0 else \" : old\")(i))"
   ]
  },
  {
   "cell_type": "code",
   "execution_count": 13,
   "metadata": {},
   "outputs": [
    {
     "name": "stdout",
     "output_type": "stream",
     "text": [
      "[6.0, 6.0, 6.0, 6.0]\n"
     ]
    }
   ],
   "source": [
    "nums1 = [9,6,7,4]\n",
    "nums2 = [3,6,5,8]\n",
    "a = map(lambda x, y : (x+y)/2 , nums1, nums2)\n",
    "aa = list(a)\n",
    "print(aa)"
   ]
  },
  {
   "cell_type": "code",
   "execution_count": 15,
   "metadata": {},
   "outputs": [
    {
     "name": "stdout",
     "output_type": "stream",
     "text": [
      "['swim', 'me', 'kiwi']\n"
     ]
    }
   ],
   "source": [
    "words = [\"apple\", \"swim\", \"clock\", \"me\", \"kiwi\", \"banana\"]\n",
    "a = filter(lambda x : len(x)<5 , words)\n",
    "print(list(a))"
   ]
  },
  {
   "cell_type": "code",
   "execution_count": 20,
   "metadata": {},
   "outputs": [
    {
     "name": "stdout",
     "output_type": "stream",
     "text": [
      "['a', 'e', 'i']\n"
     ]
    }
   ],
   "source": [
    "vowel_list = ['a', 'e', 'i', 'o', 'u']\n",
    "first_ten = ['a', 'b', 'c', 'd', 'e', 'f', 'g', 'h', 'i', 'j']\n",
    "a = filter(lambda x : True if x in vowel_list else False,first_ten)\n",
    "print(list(a))"
   ]
  },
  {
   "cell_type": "code",
   "execution_count": 21,
   "metadata": {},
   "outputs": [
    {
     "name": "stdout",
     "output_type": "stream",
     "text": [
      "hello :)\n"
     ]
    }
   ],
   "source": [
    "def messi(emoj):\n",
    "    return lambda message : print(message, emoj)\n",
    "\n",
    "messiss = messi(\":)\")\n",
    "messiss(\"hello\") "
   ]
  },
  {
   "cell_type": "code",
   "execution_count": null,
   "metadata": {},
   "outputs": [],
   "source": []
  },
  {
   "cell_type": "code",
   "execution_count": null,
   "metadata": {},
   "outputs": [],
   "source": []
  },
  {
   "cell_type": "code",
   "execution_count": null,
   "metadata": {},
   "outputs": [],
   "source": []
  }
 ],
 "metadata": {
  "interpreter": {
   "hash": "1c316acd4e1dbc4409ece7625695f721ff4e4e28cfedee5427a4735d3c4cba3d"
  },
  "kernelspec": {
   "display_name": "Python 3.10.2 64-bit",
   "language": "python",
   "name": "python3"
  },
  "language_info": {
   "codemirror_mode": {
    "name": "ipython",
    "version": 3
   },
   "file_extension": ".py",
   "mimetype": "text/x-python",
   "name": "python",
   "nbconvert_exporter": "python",
   "pygments_lexer": "ipython3",
   "version": "3.10.2"
  },
  "orig_nbformat": 4
 },
 "nbformat": 4,
 "nbformat_minor": 2
}
