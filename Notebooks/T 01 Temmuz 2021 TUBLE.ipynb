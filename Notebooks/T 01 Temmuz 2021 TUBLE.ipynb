{
 "cells": [
  {
   "cell_type": "markdown",
   "id": "406f2981",
   "metadata": {},
   "source": [
    "<img src=\"https://docs.google.com/uc?id=14xeXxFrVRjvOoUYWn_GuyE-v84wVzrqr\" class=\"img-fluid\" alt=\"CLRWY\" width=\"400\" height=\"200\">"
   ]
  },
  {
   "cell_type": "markdown",
   "id": "22263af8",
   "metadata": {},
   "source": [
    "<h1><p style=\"text-align: center; color:darkblue\">Python In-Class, <br>1 July 2021</p><h1>"
   ]
  },
  {
   "cell_type": "code",
   "execution_count": 1,
   "id": "65a76d1d",
   "metadata": {},
   "outputs": [],
   "source": [
    "list_1 = ['one', 'four', 'nine']\n",
    "list_2 = ['@', '*-', 'False']\n",
    "list_3 = [True, False]\n",
    "list_4 = [[3], [44], [-12]]\n",
    "list_5 = [[1, 3], [44, -40], [-12, 1]]"
   ]
  },
  {
   "cell_type": "code",
   "execution_count": 2,
   "id": "1035685a",
   "metadata": {},
   "outputs": [
    {
     "name": "stdout",
     "output_type": "stream",
     "text": [
      "['four', 'nine', 'one']\n"
     ]
    }
   ],
   "source": [
    "list_1.sort()\n",
    "print(list_1)"
   ]
  },
  {
   "cell_type": "code",
   "execution_count": 3,
   "id": "6d75f8ae",
   "metadata": {},
   "outputs": [
    {
     "data": {
      "text/plain": [
       "['four', 'nine', 'one']"
      ]
     },
     "execution_count": 3,
     "metadata": {},
     "output_type": "execute_result"
    }
   ],
   "source": [
    "list_1"
   ]
  },
  {
   "cell_type": "code",
   "execution_count": 4,
   "id": "a909a159",
   "metadata": {},
   "outputs": [],
   "source": [
    "list_2.sort()"
   ]
  },
  {
   "cell_type": "code",
   "execution_count": 5,
   "id": "cd6d7169",
   "metadata": {},
   "outputs": [
    {
     "data": {
      "text/plain": [
       "['*-', '@', 'False']"
      ]
     },
     "execution_count": 5,
     "metadata": {},
     "output_type": "execute_result"
    }
   ],
   "source": [
    "list_2"
   ]
  },
  {
   "cell_type": "code",
   "execution_count": 6,
   "id": "fe1b6a3f",
   "metadata": {},
   "outputs": [
    {
     "data": {
      "text/plain": [
       "42"
      ]
     },
     "execution_count": 6,
     "metadata": {},
     "output_type": "execute_result"
    }
   ],
   "source": [
    "ord(\"*\")"
   ]
  },
  {
   "cell_type": "code",
   "execution_count": 11,
   "id": "ae5cdba3",
   "metadata": {},
   "outputs": [
    {
     "data": {
      "text/plain": [
       "64"
      ]
     },
     "execution_count": 11,
     "metadata": {},
     "output_type": "execute_result"
    }
   ],
   "source": [
    "ord(\"@\")"
   ]
  },
  {
   "cell_type": "code",
   "execution_count": 8,
   "id": "7d0dd4d7",
   "metadata": {},
   "outputs": [
    {
     "data": {
      "text/plain": [
       "70"
      ]
     },
     "execution_count": 8,
     "metadata": {},
     "output_type": "execute_result"
    }
   ],
   "source": [
    "ord(\"F\")"
   ]
  },
  {
   "cell_type": "code",
   "execution_count": 9,
   "id": "d67a1844",
   "metadata": {},
   "outputs": [],
   "source": [
    "list_2.sort(reverse=True) # Büyükten küçüge sıralamak için kullanılır."
   ]
  },
  {
   "cell_type": "code",
   "execution_count": 12,
   "id": "09a35233",
   "metadata": {},
   "outputs": [
    {
     "data": {
      "text/plain": [
       "['False', '@', '*-']"
      ]
     },
     "execution_count": 12,
     "metadata": {},
     "output_type": "execute_result"
    }
   ],
   "source": [
    "list_2"
   ]
  },
  {
   "cell_type": "code",
   "execution_count": 13,
   "id": "7637510e",
   "metadata": {},
   "outputs": [],
   "source": [
    "list_3.sort()"
   ]
  },
  {
   "cell_type": "code",
   "execution_count": 14,
   "id": "4dc0d1cb",
   "metadata": {},
   "outputs": [
    {
     "data": {
      "text/plain": [
       "[False, True]"
      ]
     },
     "execution_count": 14,
     "metadata": {},
     "output_type": "execute_result"
    }
   ],
   "source": [
    "list_3"
   ]
  },
  {
   "cell_type": "code",
   "execution_count": 15,
   "id": "f7d0f733",
   "metadata": {},
   "outputs": [],
   "source": [
    "list_5 = [[1, 3], [44, -40], [-12, 1]]"
   ]
  },
  {
   "cell_type": "code",
   "execution_count": 16,
   "id": "52154ead",
   "metadata": {},
   "outputs": [],
   "source": [
    "list_5.sort()"
   ]
  },
  {
   "cell_type": "code",
   "execution_count": 17,
   "id": "bdc7312e",
   "metadata": {},
   "outputs": [
    {
     "data": {
      "text/plain": [
       "[[-12, 1], [1, 3], [44, -40]]"
      ]
     },
     "execution_count": 17,
     "metadata": {},
     "output_type": "execute_result"
    }
   ],
   "source": [
    "list_5"
   ]
  },
  {
   "cell_type": "code",
   "execution_count": 18,
   "id": "26d7ee10",
   "metadata": {},
   "outputs": [
    {
     "data": {
      "text/plain": [
       "3"
      ]
     },
     "execution_count": 18,
     "metadata": {},
     "output_type": "execute_result"
    }
   ],
   "source": [
    "len(\"a b\")"
   ]
  },
  {
   "cell_type": "code",
   "execution_count": 19,
   "id": "e2971e95",
   "metadata": {},
   "outputs": [
    {
     "data": {
      "text/plain": [
       "1"
      ]
     },
     "execution_count": 19,
     "metadata": {},
     "output_type": "execute_result"
    }
   ],
   "source": [
    "len([\"a b\"])"
   ]
  },
  {
   "cell_type": "code",
   "execution_count": 20,
   "id": "1eaa1693",
   "metadata": {},
   "outputs": [
    {
     "data": {
      "text/plain": [
       "4"
      ]
     },
     "execution_count": 20,
     "metadata": {},
     "output_type": "execute_result"
    }
   ],
   "source": [
    "len([\"a b\", False, None, []])"
   ]
  },
  {
   "cell_type": "code",
   "execution_count": 21,
   "id": "0d31aedf",
   "metadata": {},
   "outputs": [
    {
     "ename": "TypeError",
     "evalue": "object of type 'int' has no len()",
     "output_type": "error",
     "traceback": [
      "\u001b[1;31m---------------------------------------------------------------------------\u001b[0m",
      "\u001b[1;31mTypeError\u001b[0m                                 Traceback (most recent call last)",
      "\u001b[1;32m~\\AppData\\Local\\Temp/ipykernel_6000/1816088541.py\u001b[0m in \u001b[0;36m<module>\u001b[1;34m\u001b[0m\n\u001b[1;32m----> 1\u001b[1;33m \u001b[0mlen\u001b[0m\u001b[1;33m(\u001b[0m\u001b[1;36m1234\u001b[0m\u001b[1;33m)\u001b[0m\u001b[1;33m\u001b[0m\u001b[1;33m\u001b[0m\u001b[0m\n\u001b[0m",
      "\u001b[1;31mTypeError\u001b[0m: object of type 'int' has no len()"
     ]
    }
   ],
   "source": [
    "len(1234)"
   ]
  },
  {
   "cell_type": "code",
   "execution_count": 22,
   "id": "67bc6f09",
   "metadata": {},
   "outputs": [
    {
     "data": {
      "text/plain": [
       "6"
      ]
     },
     "execution_count": 22,
     "metadata": {},
     "output_type": "execute_result"
    }
   ],
   "source": [
    "[1,3,6,9][2]"
   ]
  },
  {
   "cell_type": "code",
   "execution_count": 23,
   "id": "c513bb56",
   "metadata": {},
   "outputs": [
    {
     "data": {
      "text/plain": [
       "6"
      ]
     },
     "execution_count": 23,
     "metadata": {},
     "output_type": "execute_result"
    }
   ],
   "source": [
    "sayılar = [1,3,6,9]\n",
    "sayılar[2]"
   ]
  },
  {
   "cell_type": "code",
   "execution_count": 24,
   "id": "11211122",
   "metadata": {},
   "outputs": [
    {
     "data": {
      "text/plain": [
       "6"
      ]
     },
     "execution_count": 24,
     "metadata": {},
     "output_type": "execute_result"
    }
   ],
   "source": [
    "sayılar[2]"
   ]
  },
  {
   "cell_type": "code",
   "execution_count": 25,
   "id": "73ddbeb3",
   "metadata": {},
   "outputs": [
    {
     "data": {
      "text/plain": [
       "3"
      ]
     },
     "execution_count": 25,
     "metadata": {},
     "output_type": "execute_result"
    }
   ],
   "source": [
    "sayılar[-3]"
   ]
  },
  {
   "cell_type": "code",
   "execution_count": 26,
   "id": "36a257cb",
   "metadata": {},
   "outputs": [],
   "source": [
    "new = [\"h\", \"a\", 1, [\"p\", 2], True]"
   ]
  },
  {
   "cell_type": "code",
   "execution_count": 27,
   "id": "7ada31e4",
   "metadata": {},
   "outputs": [
    {
     "data": {
      "text/plain": [
       "1"
      ]
     },
     "execution_count": 27,
     "metadata": {},
     "output_type": "execute_result"
    }
   ],
   "source": [
    "new[2]"
   ]
  },
  {
   "cell_type": "code",
   "execution_count": 28,
   "id": "a70d5c54",
   "metadata": {},
   "outputs": [
    {
     "data": {
      "text/plain": [
       "int"
      ]
     },
     "execution_count": 28,
     "metadata": {},
     "output_type": "execute_result"
    }
   ],
   "source": [
    "type(new[2])"
   ]
  },
  {
   "cell_type": "code",
   "execution_count": 29,
   "id": "af2c7bbf",
   "metadata": {},
   "outputs": [
    {
     "data": {
      "text/plain": [
       "list"
      ]
     },
     "execution_count": 29,
     "metadata": {},
     "output_type": "execute_result"
    }
   ],
   "source": [
    "type(new[3])"
   ]
  },
  {
   "cell_type": "code",
   "execution_count": 30,
   "id": "1af453ca",
   "metadata": {},
   "outputs": [
    {
     "data": {
      "text/plain": [
       "['p', 2]"
      ]
     },
     "execution_count": 30,
     "metadata": {},
     "output_type": "execute_result"
    }
   ],
   "source": [
    "new[3]"
   ]
  },
  {
   "cell_type": "code",
   "execution_count": 31,
   "id": "e37bb869",
   "metadata": {},
   "outputs": [
    {
     "data": {
      "text/plain": [
       "list"
      ]
     },
     "execution_count": 31,
     "metadata": {},
     "output_type": "execute_result"
    }
   ],
   "source": [
    "type(new[3])"
   ]
  },
  {
   "cell_type": "code",
   "execution_count": 32,
   "id": "7646f01c",
   "metadata": {},
   "outputs": [],
   "source": [
    "city_list = []"
   ]
  },
  {
   "cell_type": "code",
   "execution_count": 33,
   "id": "546a51d6",
   "metadata": {},
   "outputs": [],
   "source": [
    "city = ['New York', 'London', 'Istanbul', 'Seoul', 'Sydney']"
   ]
  },
  {
   "cell_type": "code",
   "execution_count": 34,
   "id": "1041b0e8",
   "metadata": {},
   "outputs": [],
   "source": [
    "city_list.append(city)"
   ]
  },
  {
   "cell_type": "code",
   "execution_count": 35,
   "id": "2a0b79c7",
   "metadata": {},
   "outputs": [
    {
     "data": {
      "text/plain": [
       "[['New York', 'London', 'Istanbul', 'Seoul', 'Sydney']]"
      ]
     },
     "execution_count": 35,
     "metadata": {},
     "output_type": "execute_result"
    }
   ],
   "source": [
    "city_list"
   ]
  },
  {
   "cell_type": "code",
   "execution_count": 36,
   "id": "4b98cb61",
   "metadata": {},
   "outputs": [
    {
     "data": {
      "text/plain": [
       "['New York', 'London', 'Istanbul', 'Seoul', 'Sydney']"
      ]
     },
     "execution_count": 36,
     "metadata": {},
     "output_type": "execute_result"
    }
   ],
   "source": [
    "city_list[0]"
   ]
  },
  {
   "cell_type": "code",
   "execution_count": 37,
   "id": "3b82964e",
   "metadata": {},
   "outputs": [
    {
     "data": {
      "text/plain": [
       "'Istanbul'"
      ]
     },
     "execution_count": 37,
     "metadata": {},
     "output_type": "execute_result"
    }
   ],
   "source": [
    "city_list[0][2]"
   ]
  },
  {
   "cell_type": "code",
   "execution_count": 38,
   "id": "02579e16",
   "metadata": {},
   "outputs": [
    {
     "data": {
      "text/plain": [
       "str"
      ]
     },
     "execution_count": 38,
     "metadata": {},
     "output_type": "execute_result"
    }
   ],
   "source": [
    "type(city_list[0][2])"
   ]
  },
  {
   "cell_type": "code",
   "execution_count": 39,
   "id": "e046b52e",
   "metadata": {},
   "outputs": [
    {
     "data": {
      "text/plain": [
       "'a'"
      ]
     },
     "execution_count": 39,
     "metadata": {},
     "output_type": "execute_result"
    }
   ],
   "source": [
    "city_list[0][2][3]"
   ]
  },
  {
   "cell_type": "code",
   "execution_count": 40,
   "id": "e2ab908e",
   "metadata": {},
   "outputs": [
    {
     "data": {
      "text/plain": [
       "range(0, 11)"
      ]
     },
     "execution_count": 40,
     "metadata": {},
     "output_type": "execute_result"
    }
   ],
   "source": [
    "range(11)"
   ]
  },
  {
   "cell_type": "code",
   "execution_count": 41,
   "id": "de567351",
   "metadata": {},
   "outputs": [],
   "source": [
    "odd_number = list(range(11))"
   ]
  },
  {
   "cell_type": "code",
   "execution_count": 42,
   "id": "5a8363fc",
   "metadata": {},
   "outputs": [
    {
     "data": {
      "text/plain": [
       "[0, 1, 2, 3, 4, 5, 6, 7, 8, 9, 10]"
      ]
     },
     "execution_count": 42,
     "metadata": {},
     "output_type": "execute_result"
    }
   ],
   "source": [
    "odd_number"
   ]
  },
  {
   "cell_type": "code",
   "execution_count": 45,
   "id": "9adca4ca",
   "metadata": {},
   "outputs": [
    {
     "data": {
      "text/plain": [
       "[1, 3, 5, 7, 9]"
      ]
     },
     "execution_count": 45,
     "metadata": {},
     "output_type": "execute_result"
    }
   ],
   "source": [
    "odd_number[1:10:2]"
   ]
  },
  {
   "cell_type": "code",
   "execution_count": 46,
   "id": "74b50963",
   "metadata": {},
   "outputs": [
    {
     "data": {
      "text/plain": [
       "[1, 3, 5, 7, 9]"
      ]
     },
     "execution_count": 46,
     "metadata": {},
     "output_type": "execute_result"
    }
   ],
   "source": [
    "odd_number[1::2]"
   ]
  },
  {
   "cell_type": "code",
   "execution_count": 47,
   "id": "7dacc2cc",
   "metadata": {},
   "outputs": [
    {
     "name": "stdout",
     "output_type": "stream",
     "text": [
      "[0, 1, 2, 3, 4, 5, 6, 7, 8, 9, 10, 11, 12, 13, 14]\n"
     ]
    }
   ],
   "source": [
    "print(list(range(15)))"
   ]
  },
  {
   "cell_type": "code",
   "execution_count": 48,
   "id": "1c49aa71",
   "metadata": {},
   "outputs": [],
   "source": [
    "sehir = ['I', 's', 't', 'a', 'n', 'b', 'u', 'l']"
   ]
  },
  {
   "cell_type": "code",
   "execution_count": 49,
   "id": "ad7faf20",
   "metadata": {},
   "outputs": [
    {
     "data": {
      "text/plain": [
       "[]"
      ]
     },
     "execution_count": 49,
     "metadata": {},
     "output_type": "execute_result"
    }
   ],
   "source": [
    "sehir[-1:-6] "
   ]
  },
  {
   "cell_type": "code",
   "execution_count": 50,
   "id": "99b99b4c",
   "metadata": {},
   "outputs": [
    {
     "data": {
      "text/plain": [
       "['l', 'u', 'b', 'n', 'a']"
      ]
     },
     "execution_count": 50,
     "metadata": {},
     "output_type": "execute_result"
    }
   ],
   "source": [
    "sehir[-1:-6:-1]"
   ]
  },
  {
   "cell_type": "code",
   "execution_count": 51,
   "id": "9f93470f",
   "metadata": {},
   "outputs": [
    {
     "data": {
      "text/plain": [
       "['l', 'u', 'b']"
      ]
     },
     "execution_count": 51,
     "metadata": {},
     "output_type": "execute_result"
    }
   ],
   "source": [
    "sehir[:4:-1]"
   ]
  },
  {
   "cell_type": "code",
   "execution_count": 52,
   "id": "914ae17a",
   "metadata": {},
   "outputs": [
    {
     "data": {
      "text/plain": [
       "['t', 'a', 'n']"
      ]
     },
     "execution_count": 52,
     "metadata": {},
     "output_type": "execute_result"
    }
   ],
   "source": [
    "sehir[2:5]"
   ]
  },
  {
   "cell_type": "code",
   "execution_count": null,
   "id": "90f69f24",
   "metadata": {},
   "outputs": [],
   "source": []
  },
  {
   "cell_type": "markdown",
   "id": "28979dab",
   "metadata": {},
   "source": [
    "# TUPLE"
   ]
  },
  {
   "cell_type": "code",
   "execution_count": 8,
   "id": "4273d7df",
   "metadata": {},
   "outputs": [],
   "source": [
    "# The most important difference from the list is that the tuple is immutable. Therefore, methods like append() or remove() do not exist in the operations of this type.\n",
    "# Tuples are commonly used for small collections of values that will not need to change, such as an IP address and port. If we have unchanged data, we should choose tuples because it is much faster than lists.\n",
    "\n",
    "# We used square brackets 👉🏻'[]' to define the lists. In the tuple, normal parentheses 👉🏻'()' are used."
   ]
  },
  {
   "cell_type": "code",
   "execution_count": null,
   "id": "7b5fbdd5",
   "metadata": {},
   "outputs": [],
   "source": [
    "# Liste ve demet arasındaki fark nedir?\n",
    "#LİSTELER:\n",
    "\n",
    "# Listeler değiştirilebilir, yani düzenlenebilir.\n",
    "# Listeler, demetlerden daha yavaştır.\n",
    "# Syntax: list_1 = [True, ‘Space’, 20]\n",
    "# TUPLE'ler:\n",
    "# Tuple'lar değişmezdir (tuple'lar düzenlenemeyen listelerdir).\n",
    "# Tuple'lar listeden daha hızlıdır.\n",
    "# Syntax: tup_1 = (True, ‘Space’ , 20)"
   ]
  },
  {
   "cell_type": "code",
   "execution_count": 66,
   "id": "7a89bbf8",
   "metadata": {},
   "outputs": [
    {
     "name": "stdout",
     "output_type": "stream",
     "text": [
      "<class 'tuple'>\n"
     ]
    }
   ],
   "source": [
    "empty_tuple = ()\n",
    "print(type(empty_tuple))"
   ]
  },
  {
   "cell_type": "code",
   "execution_count": 67,
   "id": "e681180d",
   "metadata": {},
   "outputs": [
    {
     "name": "stdout",
     "output_type": "stream",
     "text": [
      "love\n",
      "<class 'str'>\n"
     ]
    }
   ],
   "source": [
    "try_tuple = ('love')\n",
    "\n",
    "print(try_tuple)\n",
    "\n",
    "print(type(try_tuple)) # it's not tuple type."
   ]
  },
  {
   "cell_type": "code",
   "execution_count": 68,
   "id": "909403f5",
   "metadata": {},
   "outputs": [
    {
     "name": "stdout",
     "output_type": "stream",
     "text": [
      "('love',)\n",
      "<class 'tuple'>\n"
     ]
    }
   ],
   "source": [
    "try_tuple = ('love',)\n",
    "\n",
    "print(try_tuple)\n",
    "\n",
    "print(type(try_tuple)) # it's a tuple type."
   ]
  },
  {
   "cell_type": "code",
   "execution_count": 10,
   "id": "bf57893f",
   "metadata": {},
   "outputs": [],
   "source": [
    "# Actually, if your tuple contains more than one element, \n",
    "# separating elements with commas will be enough."
   ]
  },
  {
   "cell_type": "code",
   "execution_count": 69,
   "id": "8e7fe94e",
   "metadata": {},
   "outputs": [
    {
     "name": "stdout",
     "output_type": "stream",
     "text": [
      "('mercury', 'jupiter', 'saturn')\n",
      "<class 'tuple'>\n"
     ]
    }
   ],
   "source": [
    "planets = 'mercury', 'jupiter', 'saturn'\n",
    "\n",
    "print(planets)\n",
    "print(type(planets))"
   ]
  },
  {
   "cell_type": "code",
   "execution_count": 11,
   "id": "13cc22d6",
   "metadata": {},
   "outputs": [
    {
     "name": "stdout",
     "output_type": "stream",
     "text": [
      "()\n",
      "<class 'tuple'>\n"
     ]
    }
   ],
   "source": [
    "empty_tuple_1 = tuple()\n",
    "\n",
    "print(empty_tuple_1)\n",
    "print(type(empty_tuple_1))"
   ]
  },
  {
   "cell_type": "code",
   "execution_count": null,
   "id": "54227059",
   "metadata": {},
   "outputs": [],
   "source": [
    "# It is easy to convert between list and tuple as in the examples below :"
   ]
  },
  {
   "cell_type": "code",
   "execution_count": 12,
   "id": "32c0b315",
   "metadata": {},
   "outputs": [
    {
     "name": "stdout",
     "output_type": "stream",
     "text": [
      "<class 'list'> [1, 4, 3, 4, 5, 6, 7, 4]\n"
     ]
    }
   ],
   "source": [
    "my_tuple=(1, 4, 3, 4, 5, 6, 7, 4)\n",
    "\n",
    "my_list = list(my_tuple)\n",
    "\n",
    "print(type(my_list), my_list)"
   ]
  },
  {
   "cell_type": "code",
   "execution_count": 13,
   "id": "a9613c8c",
   "metadata": {},
   "outputs": [
    {
     "name": "stdout",
     "output_type": "stream",
     "text": [
      "('A', 'l', 'p', 's')\n"
     ]
    }
   ],
   "source": [
    "mountain = tuple('Alps') # An iterable string can be converted to a tuple \n",
    "print(mountain) "
   ]
  },
  {
   "cell_type": "code",
   "execution_count": 53,
   "id": "a760a91e",
   "metadata": {},
   "outputs": [
    {
     "name": "stdout",
     "output_type": "stream",
     "text": [
      "['A', 'l', 'p', 's']\n"
     ]
    }
   ],
   "source": [
    "mountain = list('Alps') # An iterable string can be converted to a list \n",
    "print(mountain) "
   ]
  },
  {
   "cell_type": "code",
   "execution_count": 1,
   "id": "b52ab25e",
   "metadata": {},
   "outputs": [
    {
     "name": "stdout",
     "output_type": "stream",
     "text": [
      "4\n"
     ]
    }
   ],
   "source": [
    "mix_value_tuple = (0, 'bird', 3.14, True)\n",
    "\n",
    "print(len(mix_value_tuple))"
   ]
  },
  {
   "cell_type": "code",
   "execution_count": 2,
   "id": "124ad578",
   "metadata": {},
   "outputs": [
    {
     "name": "stdout",
     "output_type": "stream",
     "text": [
      "0\n",
      "2\n",
      "4\n"
     ]
    },
    {
     "ename": "IndexError",
     "evalue": "tuple index out of range",
     "output_type": "error",
     "traceback": [
      "\u001b[1;31m---------------------------------------------------------------------------\u001b[0m",
      "\u001b[1;31mIndexError\u001b[0m                                Traceback (most recent call last)",
      "\u001b[1;32m~\\AppData\\Local\\Temp/ipykernel_1396/1593486046.py\u001b[0m in \u001b[0;36m<module>\u001b[1;34m\u001b[0m\n\u001b[0;32m      3\u001b[0m \u001b[0mprint\u001b[0m\u001b[1;33m(\u001b[0m\u001b[0meven_no\u001b[0m\u001b[1;33m[\u001b[0m\u001b[1;36m1\u001b[0m\u001b[1;33m]\u001b[0m\u001b[1;33m)\u001b[0m\u001b[1;33m\u001b[0m\u001b[1;33m\u001b[0m\u001b[0m\n\u001b[0;32m      4\u001b[0m \u001b[0mprint\u001b[0m\u001b[1;33m(\u001b[0m\u001b[0meven_no\u001b[0m\u001b[1;33m[\u001b[0m\u001b[1;36m2\u001b[0m\u001b[1;33m]\u001b[0m\u001b[1;33m)\u001b[0m\u001b[1;33m\u001b[0m\u001b[1;33m\u001b[0m\u001b[0m\n\u001b[1;32m----> 5\u001b[1;33m \u001b[0mprint\u001b[0m\u001b[1;33m(\u001b[0m\u001b[0meven_no\u001b[0m\u001b[1;33m[\u001b[0m\u001b[1;36m3\u001b[0m\u001b[1;33m]\u001b[0m\u001b[1;33m)\u001b[0m\u001b[1;33m\u001b[0m\u001b[1;33m\u001b[0m\u001b[0m\n\u001b[0m",
      "\u001b[1;31mIndexError\u001b[0m: tuple index out of range"
     ]
    }
   ],
   "source": [
    "even_no = (0, 2, 4)\n",
    "print(even_no[0])    \n",
    "print(even_no[1])    \n",
    "print(even_no[2])   \n",
    "print(even_no[3])   "
   ]
  },
  {
   "cell_type": "code",
   "execution_count": 3,
   "id": "6c5db7bc",
   "metadata": {},
   "outputs": [
    {
     "name": "stdout",
     "output_type": "stream",
     "text": [
      "['Athens', 'Cairo', 'Moskow', 'Dublin']\n"
     ]
    }
   ],
   "source": [
    "city_list = ['Tokyo', 'Istanbul', 'Moskow', 'Dublin']\n",
    "\n",
    "city_list[0] = 'Athens'\n",
    "city_list[1] = 'Cairo'\n",
    "print(city_list)"
   ]
  },
  {
   "cell_type": "code",
   "execution_count": 14,
   "id": "5c0c6300",
   "metadata": {},
   "outputs": [
    {
     "ename": "TypeError",
     "evalue": "'tuple' object does not support item assignment",
     "output_type": "error",
     "traceback": [
      "\u001b[1;31m---------------------------------------------------------------------------\u001b[0m",
      "\u001b[1;31mTypeError\u001b[0m                                 Traceback (most recent call last)",
      "\u001b[1;32m~\\AppData\\Local\\Temp/ipykernel_1396/4013622596.py\u001b[0m in \u001b[0;36m<module>\u001b[1;34m\u001b[0m\n\u001b[0;32m      3\u001b[0m \u001b[0mcity_tuple\u001b[0m \u001b[1;33m=\u001b[0m \u001b[0mtuple\u001b[0m\u001b[1;33m(\u001b[0m\u001b[0mcity_list\u001b[0m\u001b[1;33m)\u001b[0m\u001b[1;33m\u001b[0m\u001b[1;33m\u001b[0m\u001b[0m\n\u001b[0;32m      4\u001b[0m \u001b[1;33m\u001b[0m\u001b[0m\n\u001b[1;32m----> 5\u001b[1;33m \u001b[0mcity_tuple\u001b[0m\u001b[1;33m[\u001b[0m\u001b[1;36m0\u001b[0m\u001b[1;33m]\u001b[0m \u001b[1;33m=\u001b[0m \u001b[1;34m'New York'\u001b[0m  \u001b[1;31m# you can't assign a value\u001b[0m\u001b[1;33m\u001b[0m\u001b[1;33m\u001b[0m\u001b[0m\n\u001b[0m",
      "\u001b[1;31mTypeError\u001b[0m: 'tuple' object does not support item assignment"
     ]
    }
   ],
   "source": [
    "city_list = ['Tokyo', 'Istanbul', 'Moskow', 'Dublin']\n",
    "\n",
    "city_tuple = tuple(city_list)\n",
    "\n",
    "city_tuple[0] = 'New York'  # you can't assign a value"
   ]
  },
  {
   "cell_type": "code",
   "execution_count": 15,
   "id": "668ef99c",
   "metadata": {},
   "outputs": [
    {
     "ename": "AttributeError",
     "evalue": "'tuple' object has no attribute 'append'",
     "output_type": "error",
     "traceback": [
      "\u001b[1;31m---------------------------------------------------------------------------\u001b[0m",
      "\u001b[1;31mAttributeError\u001b[0m                            Traceback (most recent call last)",
      "\u001b[1;32m~\\AppData\\Local\\Temp/ipykernel_1396/2534838415.py\u001b[0m in \u001b[0;36m<module>\u001b[1;34m\u001b[0m\n\u001b[0;32m      1\u001b[0m \u001b[0mmix_value\u001b[0m \u001b[1;33m=\u001b[0m \u001b[1;33m(\u001b[0m\u001b[1;36m10\u001b[0m\u001b[1;33m,\u001b[0m \u001b[1;32mFalse\u001b[0m\u001b[1;33m,\u001b[0m \u001b[1;34m'fruit'\u001b[0m\u001b[1;33m,\u001b[0m \u001b[1;36m1.618\u001b[0m\u001b[1;33m)\u001b[0m\u001b[1;33m\u001b[0m\u001b[1;33m\u001b[0m\u001b[0m\n\u001b[1;32m----> 2\u001b[1;33m \u001b[0mmix_value\u001b[0m\u001b[1;33m.\u001b[0m\u001b[0mappend\u001b[0m\u001b[1;33m(\u001b[0m\u001b[1;33m[\u001b[0m\u001b[1;34m'vegetable'\u001b[0m\u001b[1;33m,\u001b[0m \u001b[1;36m2\u001b[0m\u001b[1;33m+\u001b[0m\u001b[1;36m3j\u001b[0m\u001b[1;33m]\u001b[0m\u001b[1;33m)\u001b[0m\u001b[1;33m\u001b[0m\u001b[1;33m\u001b[0m\u001b[0m\n\u001b[0m\u001b[0;32m      3\u001b[0m \u001b[1;33m\u001b[0m\u001b[0m\n\u001b[0;32m      4\u001b[0m \u001b[0mprint\u001b[0m\u001b[1;33m(\u001b[0m\u001b[0mlen\u001b[0m\u001b[1;33m(\u001b[0m\u001b[0mmix_value\u001b[0m\u001b[1;33m)\u001b[0m\u001b[1;33m)\u001b[0m\u001b[1;33m\u001b[0m\u001b[1;33m\u001b[0m\u001b[0m\n",
      "\u001b[1;31mAttributeError\u001b[0m: 'tuple' object has no attribute 'append'"
     ]
    }
   ],
   "source": [
    "mix_value = (10, False, 'fruit', 1.618)\n",
    "mix_value.append(['vegetable', 2+3j])\n",
    "\n",
    "print(len(mix_value))"
   ]
  },
  {
   "cell_type": "code",
   "execution_count": 6,
   "id": "2675db08",
   "metadata": {},
   "outputs": [],
   "source": [
    "# Let's take a look at the basic advantages of tuples :\n",
    "\n",
    "# Tuples are faster and more powerful in-memory than lists. You should give it a thought whenever you need to deal with large amounts of data. If you don't want to change your data you may have to choose tuples.\n",
    "\n",
    "# Because of its immutability, the data stored in a tuple can not be altered by mistake.\n",
    "\n",
    "# A tuple can be used as a dictionary (we will see in the next lesson) key, while 'TypeError' can result in lists as keys. And this is the usefulness of tuples in the data processing."
   ]
  },
  {
   "cell_type": "code",
   "execution_count": null,
   "id": "bb7055a5",
   "metadata": {},
   "outputs": [],
   "source": []
  },
  {
   "cell_type": "code",
   "execution_count": 54,
   "id": "0dc6f831",
   "metadata": {},
   "outputs": [],
   "source": [
    "a = tuple()"
   ]
  },
  {
   "cell_type": "code",
   "execution_count": 55,
   "id": "5fea756a",
   "metadata": {},
   "outputs": [
    {
     "data": {
      "text/plain": [
       "tuple"
      ]
     },
     "execution_count": 55,
     "metadata": {},
     "output_type": "execute_result"
    }
   ],
   "source": [
    "type(a)"
   ]
  },
  {
   "cell_type": "code",
   "execution_count": 56,
   "id": "817e399f",
   "metadata": {},
   "outputs": [],
   "source": [
    "star = (\"Solar\", 1, [22, \"22\"])"
   ]
  },
  {
   "cell_type": "code",
   "execution_count": 57,
   "id": "94f4dbba",
   "metadata": {},
   "outputs": [
    {
     "data": {
      "text/plain": [
       "tuple"
      ]
     },
     "execution_count": 57,
     "metadata": {},
     "output_type": "execute_result"
    }
   ],
   "source": [
    "type(star)"
   ]
  },
  {
   "cell_type": "code",
   "execution_count": 58,
   "id": "d3195e6a",
   "metadata": {},
   "outputs": [],
   "source": [
    "x = 1, 2, 3"
   ]
  },
  {
   "cell_type": "code",
   "execution_count": 59,
   "id": "1002a5b6",
   "metadata": {},
   "outputs": [
    {
     "data": {
      "text/plain": [
       "tuple"
      ]
     },
     "execution_count": 59,
     "metadata": {},
     "output_type": "execute_result"
    }
   ],
   "source": [
    "type(x)"
   ]
  },
  {
   "cell_type": "code",
   "execution_count": 60,
   "id": "1715a868",
   "metadata": {},
   "outputs": [],
   "source": [
    "y = 1,"
   ]
  },
  {
   "cell_type": "code",
   "execution_count": 61,
   "id": "50ca503f",
   "metadata": {},
   "outputs": [
    {
     "data": {
      "text/plain": [
       "tuple"
      ]
     },
     "execution_count": 61,
     "metadata": {},
     "output_type": "execute_result"
    }
   ],
   "source": [
    "type(y)"
   ]
  },
  {
   "cell_type": "code",
   "execution_count": 62,
   "id": "cae958fc",
   "metadata": {},
   "outputs": [],
   "source": [
    "z = (\"2\",)"
   ]
  },
  {
   "cell_type": "code",
   "execution_count": 63,
   "id": "746fcefc",
   "metadata": {},
   "outputs": [
    {
     "data": {
      "text/plain": [
       "tuple"
      ]
     },
     "execution_count": 63,
     "metadata": {},
     "output_type": "execute_result"
    }
   ],
   "source": [
    "type(z)"
   ]
  },
  {
   "cell_type": "code",
   "execution_count": 64,
   "id": "4ebef813",
   "metadata": {},
   "outputs": [],
   "source": [
    "city = [\"los-angeles\", \"beirut\", \"tokyo\"]"
   ]
  },
  {
   "cell_type": "code",
   "execution_count": 65,
   "id": "7032ebcd",
   "metadata": {},
   "outputs": [],
   "source": [
    "city[0] = True"
   ]
  },
  {
   "cell_type": "code",
   "execution_count": 66,
   "id": "04e85134",
   "metadata": {},
   "outputs": [
    {
     "data": {
      "text/plain": [
       "[True, 'beirut', 'tokyo']"
      ]
     },
     "execution_count": 66,
     "metadata": {},
     "output_type": "execute_result"
    }
   ],
   "source": [
    "city"
   ]
  },
  {
   "cell_type": "code",
   "execution_count": 67,
   "id": "0792eaba",
   "metadata": {},
   "outputs": [],
   "source": [
    "city[1:] = \"istanbul\", \"seoul\""
   ]
  },
  {
   "cell_type": "code",
   "execution_count": 68,
   "id": "5adaa35b",
   "metadata": {},
   "outputs": [
    {
     "data": {
      "text/plain": [
       "[True, 'istanbul', 'seoul']"
      ]
     },
     "execution_count": 68,
     "metadata": {},
     "output_type": "execute_result"
    }
   ],
   "source": [
    "city"
   ]
  },
  {
   "cell_type": "code",
   "execution_count": 69,
   "id": "ba8413f7",
   "metadata": {},
   "outputs": [],
   "source": [
    "city[1:] = [\"1\", \"2\", \"3\", 4, False]"
   ]
  },
  {
   "cell_type": "code",
   "execution_count": 70,
   "id": "a561900d",
   "metadata": {},
   "outputs": [
    {
     "data": {
      "text/plain": [
       "[True, '1', '2', '3', 4, False]"
      ]
     },
     "execution_count": 70,
     "metadata": {},
     "output_type": "execute_result"
    }
   ],
   "source": [
    "city"
   ]
  },
  {
   "cell_type": "code",
   "execution_count": 71,
   "id": "b551832e",
   "metadata": {},
   "outputs": [],
   "source": [
    "city[1:] = \"bangladeş\""
   ]
  },
  {
   "cell_type": "code",
   "execution_count": 72,
   "id": "bcb1b206",
   "metadata": {},
   "outputs": [
    {
     "data": {
      "text/plain": [
       "[True, 'b', 'a', 'n', 'g', 'l', 'a', 'd', 'e', 'ş']"
      ]
     },
     "execution_count": 72,
     "metadata": {},
     "output_type": "execute_result"
    }
   ],
   "source": [
    "city"
   ]
  },
  {
   "cell_type": "code",
   "execution_count": 1,
   "id": "80e93662",
   "metadata": {},
   "outputs": [
    {
     "name": "stdout",
     "output_type": "stream",
     "text": [
      "('Earth', 'venus', 'uranus')\n",
      "<class 'tuple'>\n"
     ]
    }
   ],
   "source": [
    "solar = \"Earth\", \"venus\", \"uranus\"\n",
    "print(solar, type(solar), sep = \"\\n\")"
   ]
  },
  {
   "cell_type": "code",
   "execution_count": 4,
   "id": "0272a30e",
   "metadata": {},
   "outputs": [
    {
     "name": "stdout",
     "output_type": "stream",
     "text": [
      "<class 'list'> [1, 2, 3, 4, 5, 6, 7, 4]\n"
     ]
    }
   ],
   "source": [
    "my_tuple = (1, 2, 3, 4, 5, 6, 7, 4)\n",
    "my_list = list(my_tuple)\n",
    "print(type(my_list), my_list)"
   ]
  },
  {
   "cell_type": "code",
   "execution_count": 5,
   "id": "a9ba5217",
   "metadata": {},
   "outputs": [
    {
     "name": "stdout",
     "output_type": "stream",
     "text": [
      "<class 'tuple'> (1, 2, 3, 4, 5, 6, 7, 4)\n"
     ]
    }
   ],
   "source": [
    "my_list = [1, 2, 3, 4, 5, 6, 7, 4]\n",
    "my_tuple = tuple(my_list)\n",
    "print(type(my_tuple), my_tuple)"
   ]
  },
  {
   "cell_type": "code",
   "execution_count": 6,
   "id": "5acf3a08",
   "metadata": {},
   "outputs": [
    {
     "name": "stdout",
     "output_type": "stream",
     "text": [
      "(0, 1, 2, 3, 4, 5, 6, 7, 8, 9, 10)\n",
      "<class 'tuple'>\n"
     ]
    }
   ],
   "source": [
    "x = tuple(range(11))\n",
    "print(x, type(x), sep = \"\\n\")"
   ]
  },
  {
   "cell_type": "code",
   "execution_count": null,
   "id": "c4b767b6",
   "metadata": {},
   "outputs": [],
   "source": []
  },
  {
   "cell_type": "code",
   "execution_count": null,
   "id": "fcb679df",
   "metadata": {},
   "outputs": [],
   "source": []
  },
  {
   "cell_type": "code",
   "execution_count": null,
   "id": "f989fde5",
   "metadata": {},
   "outputs": [],
   "source": []
  },
  {
   "cell_type": "code",
   "execution_count": null,
   "id": "f5152632",
   "metadata": {},
   "outputs": [],
   "source": []
  },
  {
   "cell_type": "code",
   "execution_count": 74,
   "id": "73d8e3aa",
   "metadata": {},
   "outputs": [],
   "source": [
    "mix_tuple = ('11', 11, [2, 'two', ('six', 6)], (5, 'fair'))"
   ]
  },
  {
   "cell_type": "code",
   "execution_count": 75,
   "id": "53775b97",
   "metadata": {},
   "outputs": [
    {
     "data": {
      "text/plain": [
       "[2, 'two', ('six', 6)]"
      ]
     },
     "execution_count": 75,
     "metadata": {},
     "output_type": "execute_result"
    }
   ],
   "source": [
    "mix_tuple[2]"
   ]
  },
  {
   "cell_type": "code",
   "execution_count": 76,
   "id": "82250121",
   "metadata": {},
   "outputs": [
    {
     "data": {
      "text/plain": [
       "('six', 6)"
      ]
     },
     "execution_count": 76,
     "metadata": {},
     "output_type": "execute_result"
    }
   ],
   "source": [
    "mix_tuple[2][2]"
   ]
  },
  {
   "cell_type": "code",
   "execution_count": 77,
   "id": "e26a792c",
   "metadata": {},
   "outputs": [
    {
     "data": {
      "text/plain": [
       "'six'"
      ]
     },
     "execution_count": 77,
     "metadata": {},
     "output_type": "execute_result"
    }
   ],
   "source": [
    "mix_tuple[2][2][0]"
   ]
  },
  {
   "cell_type": "code",
   "execution_count": 80,
   "id": "19712882",
   "metadata": {},
   "outputs": [
    {
     "data": {
      "text/plain": [
       "tuple"
      ]
     },
     "execution_count": 80,
     "metadata": {},
     "output_type": "execute_result"
    }
   ],
   "source": [
    "type(mix_tuple[2][2])\n"
   ]
  },
  {
   "cell_type": "code",
   "execution_count": 81,
   "id": "1d8a99c9",
   "metadata": {},
   "outputs": [],
   "source": [
    "mix_tuple[2].append(\"çaktırmayın\")"
   ]
  },
  {
   "cell_type": "code",
   "execution_count": 82,
   "id": "f757dde3",
   "metadata": {},
   "outputs": [
    {
     "data": {
      "text/plain": [
       "('11', 11, [2, 'two', ('six', 6), 'çaktırmayın'], (5, 'fair'))"
      ]
     },
     "execution_count": 82,
     "metadata": {},
     "output_type": "execute_result"
    }
   ],
   "source": [
    "mix_tuple"
   ]
  },
  {
   "cell_type": "code",
   "execution_count": 83,
   "id": "38deb369",
   "metadata": {},
   "outputs": [
    {
     "name": "stdout",
     "output_type": "stream",
     "text": [
      "[0, 1, 2, 3, 4, 5, 6, 7, 8, 9]\n"
     ]
    }
   ],
   "source": [
    "my_list = list(range(10))\n",
    "my_list.sort()\n",
    "print(my_list)\n"
   ]
  },
  {
   "cell_type": "code",
   "execution_count": 92,
   "id": "00234f89",
   "metadata": {},
   "outputs": [
    {
     "name": "stdout",
     "output_type": "stream",
     "text": [
      "[9, 8, 7, 6, 5, 4, 3, 2, 1, 0]\n"
     ]
    }
   ],
   "source": [
    "a = list(range(10))\n",
    "a.sort(reverse=True)\n",
    "print(a)"
   ]
  },
  {
   "cell_type": "code",
   "execution_count": 87,
   "id": "0b5ae146",
   "metadata": {},
   "outputs": [
    {
     "name": "stdout",
     "output_type": "stream",
     "text": [
      "None\n"
     ]
    }
   ],
   "source": [
    "a = list(range(10)).sort(reverse=True)\n",
    "print(a)"
   ]
  },
  {
   "cell_type": "code",
   "execution_count": null,
   "id": "eac4a6b5",
   "metadata": {},
   "outputs": [],
   "source": []
  },
  {
   "cell_type": "code",
   "execution_count": 24,
   "id": "2ae9c79d",
   "metadata": {},
   "outputs": [
    {
     "name": "stdout",
     "output_type": "stream",
     "text": [
      "['eggplant', 'spinach', 'leek']\n"
     ]
    }
   ],
   "source": [
    "grocer = [\"banana\", [\"orange\", [\"apple\", \"eggplant\", \"melon\", \"spinach\", \"cheese\", \"leek\" ], \"water\"], \"mandarin\"]\n",
    "\n",
    "print(grocer[1][1][1::2])"
   ]
  },
  {
   "cell_type": "code",
   "execution_count": 26,
   "id": "404396d6",
   "metadata": {},
   "outputs": [
    {
     "name": "stdout",
     "output_type": "stream",
     "text": [
      "My two favorite flowers are tulip and rose, two favorite colors are blue and green.\n"
     ]
    }
   ],
   "source": [
    "flowers = [[\"jasmine\", [\"lavender\", \"rose\"], \"tulip\"]]\n",
    "colors = [\"red\", (\"blue\", [\"yellow\", \"green\"]), \"pink\"]\n",
    "text = \"My two favorite flowers are {} and rose, two favorite colors are {} and {}.\".format(flowers[0][2], colors[1][0], colors[1][1][1] )\n",
    "print(text)"
   ]
  },
  {
   "cell_type": "code",
   "execution_count": 29,
   "id": "bc24952f",
   "metadata": {},
   "outputs": [
    {
     "name": "stdout",
     "output_type": "stream",
     "text": [
      "I am 40 years old.\n",
      "\tI have two children.\n",
      "\t\tData Science is my IT domain.\n"
     ]
    }
   ],
   "source": [
    "escapes = [\"\\n\\t\", (\"\\t\", \"\\t\\t\"), [\"\\n\", \"\\n\\t\\t\"]]\n",
    "\n",
    "sentence = \"I am 40 years old.{}I have two children.{}Data Science is my IT domain.\".format(escapes[0], escapes[2][1])\n",
    "\n",
    "print(sentence)"
   ]
  },
  {
   "cell_type": "code",
   "execution_count": null,
   "id": "4105e24a",
   "metadata": {},
   "outputs": [],
   "source": []
  }
 ],
 "metadata": {
  "kernelspec": {
   "display_name": "Python 3 (ipykernel)",
   "language": "python",
   "name": "python3"
  },
  "language_info": {
   "codemirror_mode": {
    "name": "ipython",
    "version": 3
   },
   "file_extension": ".py",
   "mimetype": "text/x-python",
   "name": "python",
   "nbconvert_exporter": "python",
   "pygments_lexer": "ipython3",
   "version": "3.9.6"
  }
 },
 "nbformat": 4,
 "nbformat_minor": 5
}
