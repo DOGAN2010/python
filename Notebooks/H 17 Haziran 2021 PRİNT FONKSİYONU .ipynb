{
 "cells": [
  {
   "cell_type": "markdown",
   "id": "406f2981",
   "metadata": {},
   "source": [
    "<img src=\"https://docs.google.com/uc?id=14xeXxFrVRjvOoUYWn_GuyE-v84wVzrqr\" class=\"img-fluid\" alt=\"CLRWY\" width=\"400\" height=\"200\">"
   ]
  },
  {
   "cell_type": "markdown",
   "id": "22263af8",
   "metadata": {},
   "source": [
    "<h1><p style=\"text-align: center; color:darkblue\">Python In-Class, <br>17 June 2021</p><h1>"
   ]
  },
  {
   "cell_type": "code",
   "execution_count": 2,
   "id": "4cdc51d2",
   "metadata": {},
   "outputs": [],
   "source": [
    "# PRİNT FONKSİYONU"
   ]
  },
  {
   "cell_type": "code",
   "execution_count": 3,
   "id": "de9025b6",
   "metadata": {},
   "outputs": [
    {
     "name": "stdout",
     "output_type": "stream",
     "text": [
      "\n"
     ]
    }
   ],
   "source": [
    "print('')"
   ]
  },
  {
   "cell_type": "code",
   "execution_count": 4,
   "id": "1deb57fb",
   "metadata": {},
   "outputs": [
    {
     "ename": "SyntaxError",
     "evalue": "EOF while scanning triple-quoted string literal (Temp/ipykernel_5092/878951140.py, line 1)",
     "output_type": "error",
     "traceback": [
      "\u001b[1;36m  File \u001b[1;32m\"C:\\Users\\DOGAN\\AppData\\Local\\Temp/ipykernel_5092/878951140.py\"\u001b[1;36m, line \u001b[1;32m1\u001b[0m\n\u001b[1;33m    print('''')\u001b[0m\n\u001b[1;37m               ^\u001b[0m\n\u001b[1;31mSyntaxError\u001b[0m\u001b[1;31m:\u001b[0m EOF while scanning triple-quoted string literal\n"
     ]
    }
   ],
   "source": [
    "print('''')"
   ]
  },
  {
   "cell_type": "code",
   "execution_count": 5,
   "id": "ab09376a",
   "metadata": {},
   "outputs": [
    {
     "name": "stdout",
     "output_type": "stream",
     "text": [
      "\n"
     ]
    }
   ],
   "source": [
    "print('''''')"
   ]
  },
  {
   "cell_type": "code",
   "execution_count": 6,
   "id": "a1c4aef0",
   "metadata": {},
   "outputs": [
    {
     "ename": "SyntaxError",
     "evalue": "EOL while scanning string literal (Temp/ipykernel_5092/3573519479.py, line 1)",
     "output_type": "error",
     "traceback": [
      "\u001b[1;36m  File \u001b[1;32m\"C:\\Users\\DOGAN\\AppData\\Local\\Temp/ipykernel_5092/3573519479.py\"\u001b[1;36m, line \u001b[1;32m1\u001b[0m\n\u001b[1;33m    print(''''''')\u001b[0m\n\u001b[1;37m                  ^\u001b[0m\n\u001b[1;31mSyntaxError\u001b[0m\u001b[1;31m:\u001b[0m EOL while scanning string literal\n"
     ]
    }
   ],
   "source": [
    "print(''''''')"
   ]
  },
  {
   "cell_type": "code",
   "execution_count": null,
   "id": "35ec9597",
   "metadata": {},
   "outputs": [],
   "source": []
  },
  {
   "cell_type": "code",
   "execution_count": 7,
   "id": "fe8f2a51",
   "metadata": {},
   "outputs": [],
   "source": [
    "değişken = 10"
   ]
  },
  {
   "cell_type": "code",
   "execution_count": 8,
   "id": "4872b475",
   "metadata": {},
   "outputs": [
    {
     "data": {
      "text/plain": [
       "10"
      ]
     },
     "execution_count": 8,
     "metadata": {},
     "output_type": "execute_result"
    }
   ],
   "source": [
    "değişken"
   ]
  },
  {
   "cell_type": "code",
   "execution_count": 9,
   "id": "6d7216c4",
   "metadata": {},
   "outputs": [
    {
     "data": {
      "text/plain": [
       "11"
      ]
     },
     "execution_count": 9,
     "metadata": {},
     "output_type": "execute_result"
    }
   ],
   "source": [
    "değişken = değişken + 1\n",
    "değişken"
   ]
  },
  {
   "cell_type": "code",
   "execution_count": 10,
   "id": "3db064d6",
   "metadata": {},
   "outputs": [],
   "source": [
    "değişken2 = 20"
   ]
  },
  {
   "cell_type": "code",
   "execution_count": 11,
   "id": "64c42bf1",
   "metadata": {},
   "outputs": [
    {
     "data": {
      "text/plain": [
       "21"
      ]
     },
     "execution_count": 11,
     "metadata": {},
     "output_type": "execute_result"
    }
   ],
   "source": [
    "değişken2 += 1\n",
    "değişken2"
   ]
  },
  {
   "cell_type": "code",
   "execution_count": 17,
   "id": "5ee8c9c9",
   "metadata": {},
   "outputs": [],
   "source": [
    "d = 3\n",
    "b = 4"
   ]
  },
  {
   "cell_type": "code",
   "execution_count": 13,
   "id": "22642b48",
   "metadata": {},
   "outputs": [
    {
     "data": {
      "text/plain": [
       "4.0"
      ]
     },
     "execution_count": 13,
     "metadata": {},
     "output_type": "execute_result"
    }
   ],
   "source": [
    "a = (1+3)**(2**(1*2/2)/2) # Bir yerde float var ise sonuç her zaman float olur.\n",
    "a"
   ]
  },
  {
   "cell_type": "code",
   "execution_count": 18,
   "id": "97986cc5",
   "metadata": {},
   "outputs": [
    {
     "data": {
      "text/plain": [
       "5.0"
      ]
     },
     "execution_count": 18,
     "metadata": {},
     "output_type": "execute_result"
    }
   ],
   "source": [
    "c = (d ** 2 + b ** 2) ** 0.5\n",
    "c"
   ]
  },
  {
   "cell_type": "code",
   "execution_count": 19,
   "id": "59915766",
   "metadata": {},
   "outputs": [
    {
     "data": {
      "text/plain": [
       "3.0"
      ]
     },
     "execution_count": 19,
     "metadata": {},
     "output_type": "execute_result"
    }
   ],
   "source": [
    "9 ** 0.5"
   ]
  },
  {
   "cell_type": "code",
   "execution_count": 20,
   "id": "a198e314",
   "metadata": {},
   "outputs": [
    {
     "name": "stdout",
     "output_type": "stream",
     "text": [
      "hello world\n"
     ]
    }
   ],
   "source": [
    "print('hello world')"
   ]
  },
  {
   "cell_type": "code",
   "execution_count": null,
   "id": "18ea597e",
   "metadata": {},
   "outputs": [],
   "source": [
    "print('ı'm happy')"
   ]
  },
  {
   "cell_type": "code",
   "execution_count": 1,
   "id": "60e3ea9c",
   "metadata": {},
   "outputs": [
    {
     "name": "stdout",
     "output_type": "stream",
     "text": [
      "ı'm happy\n"
     ]
    }
   ],
   "source": [
    "print('ı\\'m happy')"
   ]
  },
  {
   "cell_type": "code",
   "execution_count": 21,
   "id": "c7f8056a",
   "metadata": {},
   "outputs": [
    {
     "name": "stdout",
     "output_type": "stream",
     "text": [
      "bu benim ilk dersim.\n",
      "çok heycanlıyım.\n",
      "kendimi iyi hissediyorum\n"
     ]
    }
   ],
   "source": [
    "print(\"\"\"bu benim ilk dersim.\n",
    "çok heycanlıyım.\n",
    "kendimi iyi hissediyorum\"\"\")"
   ]
  },
  {
   "cell_type": "code",
   "execution_count": 22,
   "id": "82af110d",
   "metadata": {},
   "outputs": [
    {
     "name": "stdout",
     "output_type": "stream",
     "text": [
      "bu benim ilk dersim.\n",
      "çok heycanlıyım.\n",
      "kendimi iyi hissediyorum\n"
     ]
    }
   ],
   "source": [
    "print(\"\"\"bu benim ilk dersim.\\nçok heycanlıyım.\\nkendimi iyi hissediyorum\"\"\")"
   ]
  },
  {
   "cell_type": "code",
   "execution_count": 23,
   "id": "bfbe94e2",
   "metadata": {},
   "outputs": [
    {
     "name": "stdout",
     "output_type": "stream",
     "text": [
      "3.14\n"
     ]
    }
   ],
   "source": [
    "print('3.14')"
   ]
  },
  {
   "cell_type": "code",
   "execution_count": 24,
   "id": "1792d0a7",
   "metadata": {},
   "outputs": [
    {
     "name": "stdout",
     "output_type": "stream",
     "text": [
      "3.14\n"
     ]
    }
   ],
   "source": [
    "print(3.14)"
   ]
  },
  {
   "cell_type": "code",
   "execution_count": 25,
   "id": "fba618bb",
   "metadata": {},
   "outputs": [
    {
     "name": "stdout",
     "output_type": "stream",
     "text": [
      "'we should have enough time for our family\"\n"
     ]
    }
   ],
   "source": [
    "print(''''we should have enough time for our family\"''')"
   ]
  },
  {
   "cell_type": "code",
   "execution_count": 26,
   "id": "8d97ecd5",
   "metadata": {},
   "outputs": [
    {
     "name": "stdout",
     "output_type": "stream",
     "text": [
      "20 ben\n"
     ]
    }
   ],
   "source": [
    "x =       4\n",
    "y =       5\n",
    "maraş=    \"ben\" # ben buraya istediğimi yazabilirim\n",
    "# bu işaret sağındaki her şeyi komend hale getiriyor\n",
    "print(x*y, maraş)"
   ]
  },
  {
   "cell_type": "code",
   "execution_count": 27,
   "id": "37ee7619",
   "metadata": {},
   "outputs": [
    {
     "name": "stdout",
     "output_type": "stream",
     "text": [
      "en iyi IT okulu\n"
     ]
    }
   ],
   "source": [
    "clarusway = \"en iyi IT okulu\"  #bu bir in-line commenttir. \n",
    "print(clarusway)"
   ]
  },
  {
   "cell_type": "code",
   "execution_count": 28,
   "id": "3a2b1bbf",
   "metadata": {},
   "outputs": [
    {
     "name": "stdout",
     "output_type": "stream",
     "text": [
      "hello\n"
     ]
    }
   ],
   "source": [
    "print(\"hello\") #başlama"
   ]
  },
  {
   "cell_type": "code",
   "execution_count": 29,
   "id": "4e9eaca2",
   "metadata": {},
   "outputs": [
    {
     "data": {
      "text/plain": [
       "8.0"
      ]
     },
     "execution_count": 29,
     "metadata": {},
     "output_type": "execute_result"
    }
   ],
   "source": [
    "3 + 5. #3 ile 5'in toplama işlemi yapılmıstır. #bu commente gerek "
   ]
  },
  {
   "cell_type": "code",
   "execution_count": 30,
   "id": "82cfafaa",
   "metadata": {},
   "outputs": [
    {
     "name": "stdout",
     "output_type": "stream",
     "text": [
      "30\n"
     ]
    }
   ],
   "source": [
    "my_age = 40 \n",
    "your_age = 30\n",
    "my_age = your_age\n",
    "print(my_age)"
   ]
  },
  {
   "cell_type": "code",
   "execution_count": 31,
   "id": "d4aa4590",
   "metadata": {},
   "outputs": [
    {
     "name": "stdout",
     "output_type": "stream",
     "text": [
      "we have reached 2021\n"
     ]
    }
   ],
   "source": [
    "number = 2021\n",
    "text = \"we have reached\"\n",
    "print(text, number)"
   ]
  },
  {
   "cell_type": "code",
   "execution_count": 32,
   "id": "5814cccf",
   "metadata": {},
   "outputs": [
    {
     "name": "stdout",
     "output_type": "stream",
     "text": [
      "ali\n",
      "veli\n",
      "deli\n"
     ]
    }
   ],
   "source": [
    "print(\"ali\\nveli\\ndeli\")"
   ]
  },
  {
   "cell_type": "code",
   "execution_count": 33,
   "id": "ce2b5d9d",
   "metadata": {},
   "outputs": [
    {
     "name": "stdout",
     "output_type": "stream",
     "text": [
      "4.0, 4, 5.0\n"
     ]
    }
   ],
   "source": [
    "print(a, b, c, sep = \", \")"
   ]
  },
  {
   "cell_type": "code",
   "execution_count": 34,
   "id": "487414be",
   "metadata": {},
   "outputs": [
    {
     "name": "stdout",
     "output_type": "stream",
     "text": [
      "12 22 False\n"
     ]
    }
   ],
   "source": [
    "print(12, \"22\", False) # False'deki f harfi küçük yazılırsa hata veriyor."
   ]
  },
  {
   "cell_type": "code",
   "execution_count": 35,
   "id": "bf4f671e",
   "metadata": {},
   "outputs": [
    {
     "name": "stdout",
     "output_type": "stream",
     "text": [
      "12-22-False\n"
     ]
    }
   ],
   "source": [
    "print(12, \"22\", False, sep = \"-\")"
   ]
  },
  {
   "cell_type": "code",
   "execution_count": 36,
   "id": "97be435e",
   "metadata": {},
   "outputs": [
    {
     "name": "stdout",
     "output_type": "stream",
     "text": [
      "12!22!False\n"
     ]
    }
   ],
   "source": [
    "print(12, \"22\", False, sep = \"!\")"
   ]
  },
  {
   "cell_type": "code",
   "execution_count": 37,
   "id": "8ba4ee57",
   "metadata": {},
   "outputs": [
    {
     "name": "stdout",
     "output_type": "stream",
     "text": [
      "hayriye selvi bahar 11\n",
      "clarusway\n"
     ]
    }
   ],
   "source": [
    "print(\"hayriye\", \"selvi\", \"bahar\", 11)\n",
    "print(\"clarusway\")"
   ]
  },
  {
   "cell_type": "code",
   "execution_count": 38,
   "id": "284e31bc",
   "metadata": {},
   "outputs": [
    {
     "name": "stdout",
     "output_type": "stream",
     "text": [
      "hayriye selvi bahar 11-hayri\n"
     ]
    }
   ],
   "source": [
    "print(\"hayriye\", \"selvi\", \"bahar\", 11, end = \"-\")\n",
    "print(\"hayri\")"
   ]
  },
  {
   "cell_type": "code",
   "execution_count": 39,
   "id": "b4a2676b",
   "metadata": {},
   "outputs": [
    {
     "name": "stdout",
     "output_type": "stream",
     "text": [
      "hayriye-hayri\n"
     ]
    }
   ],
   "source": [
    "print(\"hayriye\", end = \"-\")\n",
    "print(\"hayri\")"
   ]
  },
  {
   "cell_type": "code",
   "execution_count": 40,
   "id": "d2c9ccf9",
   "metadata": {},
   "outputs": [
    {
     "name": "stdout",
     "output_type": "stream",
     "text": [
      "hayriye\n",
      "hayri\n"
     ]
    }
   ],
   "source": [
    "print(\"hayriye\", end = \"\\n\")\n",
    "print(\"hayri\")"
   ]
  },
  {
   "cell_type": "code",
   "execution_count": 41,
   "id": "2030d12c",
   "metadata": {},
   "outputs": [
    {
     "name": "stdout",
     "output_type": "stream",
     "text": [
      "hayriye\n",
      "hayri\n"
     ]
    }
   ],
   "source": [
    "print(\"hayriye\")\n",
    "print(\"hayri\")"
   ]
  },
  {
   "cell_type": "code",
   "execution_count": 42,
   "id": "b1ba0b14",
   "metadata": {},
   "outputs": [
    {
     "name": "stdout",
     "output_type": "stream",
     "text": [
      "al ver--sat\n"
     ]
    }
   ],
   "source": [
    "print(\"al\", \"ver\", end = \"--\")\n",
    "print(\"sat\")"
   ]
  },
  {
   "cell_type": "code",
   "execution_count": 43,
   "id": "13f35813",
   "metadata": {},
   "outputs": [
    {
     "name": "stdout",
     "output_type": "stream",
     "text": [
      "astas\n"
     ]
    }
   ],
   "source": [
    "print(\"as\", end = \"\")\n",
    "print(\"tas\")"
   ]
  },
  {
   "cell_type": "code",
   "execution_count": 44,
   "id": "d106af1d",
   "metadata": {},
   "outputs": [],
   "source": [
    "# \"bugün günlerden 17/6/2021\""
   ]
  },
  {
   "cell_type": "code",
   "execution_count": 45,
   "id": "d31759bf",
   "metadata": {},
   "outputs": [
    {
     "name": "stdout",
     "output_type": "stream",
     "text": [
      "bugün günlerde 17\u00061\n"
     ]
    }
   ],
   "source": [
    "print(\"bugün günlerde 17\\06\\2021\") #ters sılaş (\\) bu şekil yazıldığında gaip bir şey oluyor."
   ]
  },
  {
   "cell_type": "code",
   "execution_count": 46,
   "id": "3d48f0d5",
   "metadata": {},
   "outputs": [
    {
     "name": "stdout",
     "output_type": "stream",
     "text": [
      "bugün printgünlerden 17\\06\\2021\n"
     ]
    }
   ],
   "source": [
    "print(\"bugün printgünlerden 17\\\\06\\\\2021\") # yukarıdaki durumu düzeltmek için çift ters slaş (\\\\) kullanılır."
   ]
  },
  {
   "cell_type": "code",
   "execution_count": 49,
   "id": "6ef36243",
   "metadata": {},
   "outputs": [
    {
     "name": "stdout",
     "output_type": "stream",
     "text": [
      "clarusway \n",
      "kurs hocaları\bçok iyi\n"
     ]
    }
   ],
   "source": [
    "tanıtım = \"clarusway \\nkurs hocaları\\bçok iyi\" # \\b kendisinden önce bir karekteri siler.\n",
    "print(tanıtım)"
   ]
  },
  {
   "cell_type": "code",
   "execution_count": 50,
   "id": "cc976288",
   "metadata": {},
   "outputs": [
    {
     "name": "stdout",
     "output_type": "stream",
     "text": [
      "c:\\north pole\n",
      "oise_penguins.txt\n",
      "-------\n",
      "first\tsecond\tthird\n"
     ]
    }
   ],
   "source": [
    "print(\"c:\\\\north pole\\noise_penguins.txt\")\n",
    "print(\"-------\")\n",
    "print(\"first\", \"second\", \"third\", sep = \"\\t\")"
   ]
  },
  {
   "cell_type": "code",
   "execution_count": 51,
   "id": "56fc7ec9",
   "metadata": {},
   "outputs": [
    {
     "name": "stdout",
     "output_type": "stream",
     "text": [
      "we are \boosting our \brotherhood\n",
      "I's essential to learn Python's libraries in IT World\n"
     ]
    }
   ],
   "source": [
    "print(\"we are\", \"\\boosting\", \"our\", \"\\brotherhood\")\n",
    "print('I\\'s essential to learn Python\\'s libraries in IT World')"
   ]
  },
  {
   "cell_type": "code",
   "execution_count": 52,
   "id": "e380a62f",
   "metadata": {},
   "outputs": [],
   "source": [
    "benim_textim = \"clarusway \\njoseph instructor\\bvirgina\""
   ]
  },
  {
   "cell_type": "code",
   "execution_count": 53,
   "id": "4310e4a8",
   "metadata": {},
   "outputs": [
    {
     "name": "stdout",
     "output_type": "stream",
     "text": [
      "clarusway \n",
      "joseph instructor\bvirgina\n"
     ]
    }
   ],
   "source": [
    "print(benim_textim)"
   ]
  },
  {
   "cell_type": "code",
   "execution_count": 54,
   "id": "418c3f35",
   "metadata": {},
   "outputs": [
    {
     "name": "stdout",
     "output_type": "stream",
     "text": [
      "ali\n",
      "veli\n",
      "delı\n"
     ]
    }
   ],
   "source": [
    "print(\"ali\\nveli\\ndelı\")"
   ]
  },
  {
   "cell_type": "code",
   "execution_count": null,
   "id": "44e410bc",
   "metadata": {},
   "outputs": [],
   "source": []
  },
  {
   "cell_type": "code",
   "execution_count": null,
   "id": "d9b4d9ae",
   "metadata": {},
   "outputs": [],
   "source": []
  }
 ],
 "metadata": {
  "kernelspec": {
   "display_name": "Python 3 (ipykernel)",
   "language": "python",
   "name": "python3"
  },
  "language_info": {
   "codemirror_mode": {
    "name": "ipython",
    "version": 3
   },
   "file_extension": ".py",
   "mimetype": "text/x-python",
   "name": "python",
   "nbconvert_exporter": "python",
   "pygments_lexer": "ipython3",
   "version": "3.9.6"
  }
 },
 "nbformat": 4,
 "nbformat_minor": 5
}
