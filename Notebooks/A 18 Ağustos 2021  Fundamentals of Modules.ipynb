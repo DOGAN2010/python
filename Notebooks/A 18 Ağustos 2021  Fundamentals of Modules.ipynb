{
 "cells": [
  {
   "cell_type": "markdown",
   "source": [
    "# Fundamentals of Modules\n",
    "Komut dosyaları ve modüller , oluşturma açısından temelde aynı yapılara sahiptir ve bazı Python kodlarını, deyimlerini, işlemlerini ve işlevlerini içeren .py uzantılı dosyalardır \n",
    "💡Tips :\n",
    "\n",
    "If you open and use this file (with a .py extension) directly, that is script, and\n",
    "If you load (import) this file (with a .py extension) and call any function from it, that's a module this time.\n",
    "Modül yüklemek için anahtar kelime importve modülün adını kullanırız . \n",
    "\n",
    "Formül sözdizimi şöyledir :import module_name"
   ],
   "metadata": {}
  },
  {
   "cell_type": "markdown",
   "source": [
    "import my_module  # we've loaded my_module\n",
    "\n",
    "my_module.my_function()  # we've called a function defined in my_module\n",
    "print(my_module.my_variable)  # we've accessed a variable defined in my_module"
   ],
   "metadata": {}
  },
  {
   "cell_type": "markdown",
   "source": [
    "import my_module as mym # loads my_module, we give a nickname to it\n",
    "mym.my_function()  # we can use it the same way\n",
    "print(mym.my_variable)  "
   ],
   "metadata": {}
  },
  {
   "cell_type": "markdown",
   "source": [
    "import my_module as mym # loads my_module, we give a nickname to it\n",
    "mym.my_function()  # we can use it the same way\n",
    "print(mym.my_variable)  "
   ],
   "metadata": {}
  },
  {
   "cell_type": "markdown",
   "source": [
    "Built-in Modules\n",
    "İpuçları:\n",
    "Yerleşik işlev dir(), bir modülün hangi adları tanımladığını bulmak için kullanılır. Sıralanmış bir dize listesi döndürür."
   ],
   "metadata": {}
  },
  {
   "cell_type": "code",
   "execution_count": null,
   "source": [
    "import my_module  # we've loaded my_module\r\n",
    "\r\n",
    "my_module.my_function()  # we've called a function defined in my_module\r\n",
    "\r\n",
    "print(my_module.my_variable)  # we've accessed a variable defined in my_module"
   ],
   "outputs": [],
   "metadata": {}
  },
  {
   "cell_type": "markdown",
   "source": [
    "import my_module as mym # loads my_module, we give a nickname to it\r\n",
    "\r\n",
    "mym.my_function()  # we can use it the same way\r\n",
    "\r\n",
    "print(mym.my_variable) "
   ],
   "metadata": {}
  },
  {
   "cell_type": "markdown",
   "source": [
    "from my_module import my_function  # we've loaded only my_function from my_module\r\n",
    "\r\n",
    "my_function()  # my_function can be used directly now at the current module"
   ],
   "metadata": {}
  },
  {
   "cell_type": "markdown",
   "source": [
    "from my_module import my_function as mfnc # we've imported my_function named mfnc\r\n",
    "\r\n",
    "mfnc()  # we use the my_function's alias directly"
   ],
   "metadata": {}
  },
  {
   "cell_type": "markdown",
   "source": [
    "import module_1\r\n",
    "import module_2\r\n",
    "import module_3"
   ],
   "metadata": {}
  },
  {
   "cell_type": "markdown",
   "source": [
    "Python modülleri nelerdir? Python'da yaygın olarak kullanılan bazı yerleşik modülleri adlandırın.\r\n",
    "A : Python modülleri, Python kodunu içeren dosyalardır. Bu kod, fonksiyon sınıfları veya değişkenler olabilir. Python modülü, yürütülebilir kod içeren bir .py dosyasıdır. Yaygın olarak kullanılan yerleşik modüllerden bazıları şunlardır: os, sys, matematik, rastgele, tarih saat. "
   ],
   "metadata": {}
  },
  {
   "cell_type": "code",
   "execution_count": 8,
   "source": [
    "import string"
   ],
   "outputs": [],
   "metadata": {}
  },
  {
   "cell_type": "code",
   "execution_count": 9,
   "source": [
    "print(dir(string))"
   ],
   "outputs": [
    {
     "output_type": "stream",
     "name": "stdout",
     "text": [
      "['Formatter', 'Template', '_ChainMap', '__all__', '__builtins__', '__cached__', '__doc__', '__file__', '__loader__', '__name__', '__package__', '__spec__', '_re', '_sentinel_dict', '_string', 'ascii_letters', 'ascii_lowercase', 'ascii_uppercase', 'capwords', 'digits', 'hexdigits', 'octdigits', 'printable', 'punctuation', 'whitespace']\n"
     ]
    }
   ],
   "metadata": {}
  },
  {
   "cell_type": "code",
   "execution_count": 10,
   "source": [
    "import string as stg  # we've used alias for 'string' module\r\n",
    "\r\n",
    "print(stg.punctuation)  # prints all available punctuation marks\r\n",
    "print(stg.digits)  # prints all the digits"
   ],
   "outputs": [
    {
     "output_type": "stream",
     "name": "stdout",
     "text": [
      "!\"#$%&'()*+,-./:;<=>?@[\\]^_`{|}~\n",
      "0123456789\n"
     ]
    }
   ],
   "metadata": {}
  },
  {
   "cell_type": "code",
   "execution_count": 2,
   "source": [
    "import math\r\n",
    "\r\n",
    "print(dir(math))  # you can find out all names defined in this module"
   ],
   "outputs": [
    {
     "output_type": "stream",
     "name": "stdout",
     "text": [
      "['__doc__', '__loader__', '__name__', '__package__', '__spec__', 'acos', 'acosh', 'asin', 'asinh', 'atan', 'atan2', 'atanh', 'ceil', 'comb', 'copysign', 'cos', 'cosh', 'degrees', 'dist', 'e', 'erf', 'erfc', 'exp', 'expm1', 'fabs', 'factorial', 'floor', 'fmod', 'frexp', 'fsum', 'gamma', 'gcd', 'hypot', 'inf', 'isclose', 'isfinite', 'isinf', 'isnan', 'isqrt', 'lcm', 'ldexp', 'lgamma', 'log', 'log10', 'log1p', 'log2', 'modf', 'nan', 'nextafter', 'perm', 'pi', 'pow', 'prod', 'radians', 'remainder', 'sin', 'sinh', 'sqrt', 'tan', 'tanh', 'tau', 'trunc', 'ulp']\n"
     ]
    }
   ],
   "metadata": {}
  },
  {
   "cell_type": "code",
   "execution_count": 7,
   "source": [
    "from math import pi, factorial, log10, sin  # we'll use the functions directly\r\n",
    "\r\n",
    "print(pi)  # it also contains several arithmetic constants\r\n",
    "print(factorial(4))  # gives the value of 4!\r\n",
    "print(log10(1000))  # prints the common logarithm of 1000\r\n",
    "print(sin(45))  # prints the common logarithm of 1000"
   ],
   "outputs": [
    {
     "output_type": "stream",
     "name": "stdout",
     "text": [
      "3.141592653589793\n",
      "24\n",
      "3.0\n",
      "0.8509035245341184\n"
     ]
    }
   ],
   "metadata": {}
  },
  {
   "cell_type": "code",
   "execution_count": 11,
   "source": [
    "def factor(x):\r\n",
    "\r\n",
    "    result = 1\r\n",
    "    for i in range(x):\r\n",
    "        result *= (i+1)\r\n",
    "    return print(result)"
   ],
   "outputs": [],
   "metadata": {}
  },
  {
   "cell_type": "markdown",
   "source": [
    "import string as stg  # we've used alias for 'string' module\n",
    "\n",
    "print(stg.punctuation)  # prints all available punctuation marks\n",
    "print(stg.digits)  # prints all the digits"
   ],
   "metadata": {}
  },
  {
   "cell_type": "code",
   "execution_count": 16,
   "source": [
    "import datetime\r\n",
    "\r\n",
    "print(datetime.date.today())  # prints today's date (yyyy-mm-dd)\r\n",
    "print(datetime.datetime.now())  # prints the current time in microseconds"
   ],
   "outputs": [
    {
     "output_type": "stream",
     "name": "stdout",
     "text": [
      "2021-08-29\n",
      "2021-08-29 15:13:24.787526\n"
     ]
    }
   ],
   "metadata": {}
  },
  {
   "cell_type": "code",
   "execution_count": 13,
   "source": [
    "print(dir(datetime))"
   ],
   "outputs": [
    {
     "output_type": "stream",
     "name": "stdout",
     "text": [
      "['MAXYEAR', 'MINYEAR', '__all__', '__builtins__', '__cached__', '__doc__', '__file__', '__loader__', '__name__', '__package__', '__spec__', 'date', 'datetime', 'datetime_CAPI', 'sys', 'time', 'timedelta', 'timezone', 'tzinfo']\n"
     ]
    }
   ],
   "metadata": {}
  },
  {
   "cell_type": "markdown",
   "source": [
    "Tips:\n",
    "In the example above, we used the functions (now() and today()) defined under the date and datetime objects from the datetime module according to the dot notation."
   ],
   "metadata": {}
  },
  {
   "cell_type": "code",
   "execution_count": 5,
   "source": [
    "from random import choice\r\n",
    "\r\n",
    "city = ['Stockholm', 'Istanbul', 'Seul', 'Cape Town']\r\n",
    "print(choice(city)) "
   ],
   "outputs": [
    {
     "output_type": "stream",
     "name": "stdout",
     "text": [
      "Istanbul\n"
     ]
    }
   ],
   "metadata": {}
  },
  {
   "cell_type": "markdown",
   "source": [
    "random çeşitli veri türleri arasından rastgele seçim yapmamızı sağlayan işlevleri içeren bir modüldür."
   ],
   "metadata": {}
  },
  {
   "cell_type": "markdown",
   "source": [
    "Python modülleri, Python kodunu içeren dosyalardır. Bu kod, fonksiyon sınıfları veya değişkenler olabilir. Python modülü, yürütülebilir kod içeren bir .py dosyasıdır. Yaygın olarak kullanılan yerleşik modüllerden bazıları şunlardır: os, sys, matematik, rastgele, tarih saat. \n",
    "\n",
    "Rastgele modül, rastgele bir sayı üretmek için kullanılan standart modüldür. Yöntem şu şekilde tanımlanır:\n",
    "\n",
    "import random\n",
    "print(random.random())\n",
    "\n",
    "\"random.random()\" yöntemi ifadesi, (0, 1) aralığındaki kayan noktalı sayıyı döndürür.\n",
    "İşlev, rastgele kayan sayılar üretir."
   ],
   "metadata": {}
  },
  {
   "cell_type": "code",
   "execution_count": 21,
   "source": [
    "from datetime import date"
   ],
   "outputs": [],
   "metadata": {}
  },
  {
   "cell_type": "code",
   "execution_count": 22,
   "source": [
    "birth = date(571, 4, 22)\r\n",
    "birth"
   ],
   "outputs": [
    {
     "output_type": "execute_result",
     "data": {
      "text/plain": [
       "datetime.date(571, 4, 22)"
      ]
     },
     "metadata": {},
     "execution_count": 22
    }
   ],
   "metadata": {}
  },
  {
   "cell_type": "code",
   "execution_count": 23,
   "source": [
    "death = date(632, 6, 8)\r\n",
    "death"
   ],
   "outputs": [
    {
     "output_type": "execute_result",
     "data": {
      "text/plain": [
       "datetime.date(632, 6, 8)"
      ]
     },
     "metadata": {},
     "execution_count": 23
    }
   ],
   "metadata": {}
  },
  {
   "cell_type": "code",
   "execution_count": 25,
   "source": [
    "death - birth"
   ],
   "outputs": [
    {
     "output_type": "execute_result",
     "data": {
      "text/plain": [
       "datetime.timedelta(days=22327)"
      ]
     },
     "metadata": {},
     "execution_count": 25
    }
   ],
   "metadata": {}
  },
  {
   "cell_type": "code",
   "execution_count": 26,
   "source": [
    "date.toordinal(death) - date.toordinal(birth)"
   ],
   "outputs": [
    {
     "output_type": "execute_result",
     "data": {
      "text/plain": [
       "22327"
      ]
     },
     "metadata": {},
     "execution_count": 26
    }
   ],
   "metadata": {}
  },
  {
   "cell_type": "code",
   "execution_count": 29,
   "source": [
    "from datetime import date"
   ],
   "outputs": [],
   "metadata": {}
  },
  {
   "cell_type": "code",
   "execution_count": 35,
   "source": [
    "a = date(1981, 6, 28)\r\n",
    "a"
   ],
   "outputs": [
    {
     "output_type": "execute_result",
     "data": {
      "text/plain": [
       "datetime.date(1981, 6, 28)"
      ]
     },
     "metadata": {},
     "execution_count": 35
    }
   ],
   "metadata": {}
  },
  {
   "cell_type": "code",
   "execution_count": 38,
   "source": [
    "b = date.today()\r\n",
    "b"
   ],
   "outputs": [
    {
     "output_type": "execute_result",
     "data": {
      "text/plain": [
       "datetime.date(2021, 8, 29)"
      ]
     },
     "metadata": {},
     "execution_count": 38
    }
   ],
   "metadata": {}
  },
  {
   "cell_type": "code",
   "execution_count": 39,
   "source": [
    "b-a"
   ],
   "outputs": [
    {
     "output_type": "execute_result",
     "data": {
      "text/plain": [
       "datetime.timedelta(days=14672)"
      ]
     },
     "metadata": {},
     "execution_count": 39
    }
   ],
   "metadata": {}
  },
  {
   "cell_type": "code",
   "execution_count": 40,
   "source": [
    "date.toordinal(b)-date.toordinal(a)"
   ],
   "outputs": [
    {
     "output_type": "execute_result",
     "data": {
      "text/plain": [
       "14672"
      ]
     },
     "metadata": {},
     "execution_count": 40
    }
   ],
   "metadata": {}
  }
 ],
 "metadata": {
  "interpreter": {
   "hash": "4f77006a7ea4363e7f455dab2a4eac849c4d183e0f3df07af1fa2c4918595da7"
  },
  "kernelspec": {
   "name": "python3",
   "display_name": "Python 3.9.6 64-bit"
  },
  "language_info": {
   "codemirror_mode": {
    "name": "ipython",
    "version": 3
   },
   "file_extension": ".py",
   "mimetype": "text/x-python",
   "name": "python",
   "nbconvert_exporter": "python",
   "pygments_lexer": "ipython3",
   "version": "3.9.6"
  }
 },
 "nbformat": 4,
 "nbformat_minor": 5
}