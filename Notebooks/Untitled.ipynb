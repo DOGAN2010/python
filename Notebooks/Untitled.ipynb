{
 "cells": [
  {
   "cell_type": "code",
   "execution_count": 2,
   "id": "4ae2356f",
   "metadata": {},
   "outputs": [
    {
     "data": {
      "text/plain": [
       "'e:\\\\Notebooks'"
      ]
     },
     "execution_count": 2,
     "metadata": {},
     "output_type": "execute_result"
    }
   ],
   "source": [
    "pwd\n"
   ]
  },
  {
   "cell_type": "code",
   "execution_count": 3,
   "id": "95375bca",
   "metadata": {},
   "outputs": [],
   "source": [
    "from upper_package import my_package_1, my_package_2"
   ]
  },
  {
   "cell_type": "code",
   "execution_count": 4,
   "id": "67fa6299",
   "metadata": {},
   "outputs": [],
   "source": [
    "from upper_package.my_package_1 import my_module_1, my_module_2"
   ]
  },
  {
   "cell_type": "code",
   "execution_count": 5,
   "id": "aa48500a",
   "metadata": {},
   "outputs": [
    {
     "data": {
      "text/plain": [
       "['__builtins__',\n",
       " '__cached__',\n",
       " '__doc__',\n",
       " '__file__',\n",
       " '__loader__',\n",
       " '__name__',\n",
       " '__package__',\n",
       " '__path__',\n",
       " '__spec__',\n",
       " 'my_module_1',\n",
       " 'my_module_2']"
      ]
     },
     "execution_count": 5,
     "metadata": {},
     "output_type": "execute_result"
    }
   ],
   "source": [
    "dir(my_package_1)"
   ]
  },
  {
   "cell_type": "code",
   "execution_count": 69,
   "id": "b5e2cf1e",
   "metadata": {},
   "outputs": [],
   "source": [
    "from upper_package.my_package_2 import my_module_3, my_module_4"
   ]
  },
  {
   "cell_type": "code",
   "execution_count": 6,
   "id": "1c82a3a9",
   "metadata": {},
   "outputs": [
    {
     "data": {
      "text/plain": [
       "['__builtins__',\n",
       " '__cached__',\n",
       " '__doc__',\n",
       " '__file__',\n",
       " '__loader__',\n",
       " '__name__',\n",
       " '__package__',\n",
       " '__path__',\n",
       " '__spec__']"
      ]
     },
     "execution_count": 6,
     "metadata": {},
     "output_type": "execute_result"
    }
   ],
   "source": [
    "dir(my_package_2)"
   ]
  },
  {
   "cell_type": "code",
   "execution_count": 7,
   "id": "48a90e28",
   "metadata": {},
   "outputs": [
    {
     "ename": "AttributeError",
     "evalue": "module 'upper_package.my_package_1.my_module_2' has no attribute 'divide'",
     "output_type": "error",
     "traceback": [
      "\u001b[1;31m---------------------------------------------------------------------------\u001b[0m",
      "\u001b[1;31mAttributeError\u001b[0m                            Traceback (most recent call last)",
      "\u001b[1;32m~\\AppData\\Local\\Temp/ipykernel_10324/1738659510.py\u001b[0m in \u001b[0;36m<module>\u001b[1;34m\u001b[0m\n\u001b[1;32m----> 1\u001b[1;33m \u001b[0mmy_module_2\u001b[0m\u001b[1;33m.\u001b[0m\u001b[0mdivide\u001b[0m\u001b[1;33m(\u001b[0m\u001b[1;36m10\u001b[0m\u001b[1;33m,\u001b[0m \u001b[1;36m5\u001b[0m\u001b[1;33m)\u001b[0m\u001b[1;33m\u001b[0m\u001b[1;33m\u001b[0m\u001b[0m\n\u001b[0m",
      "\u001b[1;31mAttributeError\u001b[0m: module 'upper_package.my_package_1.my_module_2' has no attribute 'divide'"
     ]
    }
   ],
   "source": [
    "my_module_2.divide(10, 5)"
   ]
  },
  {
   "cell_type": "code",
   "execution_count": 73,
   "id": "a209a170",
   "metadata": {},
   "outputs": [
    {
     "ename": "AttributeError",
     "evalue": "module 'upper_package.my_package_1.my_module_1' has no attribute 'divide'",
     "output_type": "error",
     "traceback": [
      "\u001b[1;31m---------------------------------------------------------------------------\u001b[0m",
      "\u001b[1;31mAttributeError\u001b[0m                            Traceback (most recent call last)",
      "\u001b[1;32m~\\AppData\\Local\\Temp/ipykernel_4240/2985664328.py\u001b[0m in \u001b[0;36m<module>\u001b[1;34m\u001b[0m\n\u001b[1;32m----> 1\u001b[1;33m \u001b[0mmy_module_1\u001b[0m\u001b[1;33m.\u001b[0m\u001b[0mdivide\u001b[0m\u001b[1;33m(\u001b[0m\u001b[1;36m10\u001b[0m\u001b[1;33m,\u001b[0m \u001b[1;36m5\u001b[0m\u001b[1;33m)\u001b[0m\u001b[1;33m\u001b[0m\u001b[1;33m\u001b[0m\u001b[0m\n\u001b[0m",
      "\u001b[1;31mAttributeError\u001b[0m: module 'upper_package.my_package_1.my_module_1' has no attribute 'divide'"
     ]
    }
   ],
   "source": [
    "my_module_1.divide(10, 5)"
   ]
  },
  {
   "cell_type": "code",
   "execution_count": 74,
   "id": "cbad572b",
   "metadata": {},
   "outputs": [
    {
     "ename": "ImportError",
     "evalue": "cannot import name 'divide' from 'upper_package.my_package_1.my_module_2' (E:\\Notebooks\\upper_package\\my_package_1\\my_module_2.py)",
     "output_type": "error",
     "traceback": [
      "\u001b[1;31m---------------------------------------------------------------------------\u001b[0m",
      "\u001b[1;31mImportError\u001b[0m                               Traceback (most recent call last)",
      "\u001b[1;32m~\\AppData\\Local\\Temp/ipykernel_4240/2715354974.py\u001b[0m in \u001b[0;36m<module>\u001b[1;34m\u001b[0m\n\u001b[1;32m----> 1\u001b[1;33m \u001b[1;32mfrom\u001b[0m \u001b[0mupper_package\u001b[0m\u001b[1;33m.\u001b[0m\u001b[0mmy_package_1\u001b[0m\u001b[1;33m.\u001b[0m\u001b[0mmy_module_2\u001b[0m \u001b[1;32mimport\u001b[0m \u001b[0mdivide\u001b[0m\u001b[1;33m,\u001b[0m \u001b[0mhello\u001b[0m\u001b[1;33m\u001b[0m\u001b[1;33m\u001b[0m\u001b[0m\n\u001b[0m",
      "\u001b[1;31mImportError\u001b[0m: cannot import name 'divide' from 'upper_package.my_package_1.my_module_2' (E:\\Notebooks\\upper_package\\my_package_1\\my_module_2.py)"
     ]
    }
   ],
   "source": [
    "from upper_package.my_package_1.my_module_2 import divide, hello"
   ]
  },
  {
   "cell_type": "code",
   "execution_count": 75,
   "id": "147d0264",
   "metadata": {},
   "outputs": [
    {
     "ename": "NameError",
     "evalue": "name 'hello' is not defined",
     "output_type": "error",
     "traceback": [
      "\u001b[1;31m---------------------------------------------------------------------------\u001b[0m",
      "\u001b[1;31mNameError\u001b[0m                                 Traceback (most recent call last)",
      "\u001b[1;32m~\\AppData\\Local\\Temp/ipykernel_4240/2674044599.py\u001b[0m in \u001b[0;36m<module>\u001b[1;34m\u001b[0m\n\u001b[1;32m----> 1\u001b[1;33m \u001b[0mhello\u001b[0m\u001b[1;33m(\u001b[0m\u001b[1;33m)\u001b[0m\u001b[1;33m\u001b[0m\u001b[1;33m\u001b[0m\u001b[0m\n\u001b[0m",
      "\u001b[1;31mNameError\u001b[0m: name 'hello' is not defined"
     ]
    }
   ],
   "source": [
    "hello()"
   ]
  },
  {
   "cell_type": "code",
   "execution_count": 76,
   "id": "e6490183",
   "metadata": {},
   "outputs": [],
   "source": [
    "import math"
   ]
  },
  {
   "cell_type": "code",
   "execution_count": 77,
   "id": "10a4e8ff",
   "metadata": {},
   "outputs": [],
   "source": [
    "from math import log10\n",
    "    "
   ]
  },
  {
   "cell_type": "code",
   "execution_count": 78,
   "id": "d5344d2a",
   "metadata": {},
   "outputs": [
    {
     "data": {
      "text/plain": [
       "4.0"
      ]
     },
     "execution_count": 78,
     "metadata": {},
     "output_type": "execute_result"
    }
   ],
   "source": [
    "log10(10000)"
   ]
  },
  {
   "cell_type": "code",
   "execution_count": 79,
   "id": "91633cfe",
   "metadata": {},
   "outputs": [
    {
     "name": "stdout",
     "output_type": "stream",
     "text": [
      "This module provides access to the mathematical functions\n",
      "defined by the C standard.\n"
     ]
    }
   ],
   "source": [
    "print(math.__doc__)"
   ]
  },
  {
   "cell_type": "code",
   "execution_count": 80,
   "id": "89f47398",
   "metadata": {},
   "outputs": [
    {
     "name": "stdout",
     "output_type": "stream",
     "text": [
      "None\n"
     ]
    }
   ],
   "source": [
    "print(my_module_2.__doc__)"
   ]
  },
  {
   "cell_type": "code",
   "execution_count": 81,
   "id": "f550f6d8",
   "metadata": {},
   "outputs": [
    {
     "name": "stdout",
     "output_type": "stream",
     "text": [
      "pip 21.1.3 from c:\\users\\dogan\\appdata\\local\\programs\\python\\python39\\lib\\site-packages\\pip (python 3.9)\n",
      "\n",
      "Note: you may need to restart the kernel to use updated packages.\n"
     ]
    }
   ],
   "source": [
    "pip --version"
   ]
  },
  {
   "cell_type": "code",
   "execution_count": 54,
   "id": "671c5301",
   "metadata": {},
   "outputs": [
    {
     "name": "stdout",
     "output_type": "stream",
     "text": [
      "Collecting kaggle\n",
      "  Downloading kaggle-1.5.12.tar.gz (58 kB)\n",
      "Requirement already satisfied: six>=1.10 in c:\\users\\dogan\\appdata\\local\\programs\\python\\python39\\lib\\site-packages (from kaggle) (1.16.0)\n",
      "Requirement already satisfied: certifi in c:\\users\\dogan\\appdata\\local\\programs\\python\\python39\\lib\\site-packages (from kaggle) (2021.5.30)\n",
      "Requirement already satisfied: python-dateutil in c:\\users\\dogan\\appdata\\local\\programs\\python\\python39\\lib\\site-packages (from kaggle) (2.8.1)\n",
      "Requirement already satisfied: requests in c:\\users\\dogan\\appdata\\local\\programs\\python\\python39\\lib\\site-packages (from kaggle) (2.25.1)\n",
      "Collecting tqdm\n",
      "  Downloading tqdm-4.62.1-py2.py3-none-any.whl (76 kB)\n",
      "Collecting python-slugify\n",
      "  Downloading python_slugify-5.0.2-py2.py3-none-any.whl (6.7 kB)\n",
      "Requirement already satisfied: urllib3 in c:\\users\\dogan\\appdata\\local\\programs\\python\\python39\\lib\\site-packages (from kaggle) (1.26.6)\n",
      "Collecting text-unidecode>=1.3\n",
      "  Downloading text_unidecode-1.3-py2.py3-none-any.whl (78 kB)\n",
      "Requirement already satisfied: chardet<5,>=3.0.2 in c:\\users\\dogan\\appdata\\local\\programs\\python\\python39\\lib\\site-packages (from requests->kaggle) (4.0.0)\n",
      "Requirement already satisfied: idna<3,>=2.5 in c:\\users\\dogan\\appdata\\local\\programs\\python\\python39\\lib\\site-packages (from requests->kaggle) (2.10)\n",
      "Requirement already satisfied: colorama in c:\\users\\dogan\\appdata\\local\\programs\\python\\python39\\lib\\site-packages (from tqdm->kaggle) (0.4.4)\n",
      "Using legacy 'setup.py install' for kaggle, since package 'wheel' is not installed.\n",
      "Installing collected packages: text-unidecode, tqdm, python-slugify, kaggle\n",
      "    Running setup.py install for kaggle: started\n",
      "    Running setup.py install for kaggle: finished with status 'done'\n",
      "Successfully installed kaggle-1.5.12 python-slugify-5.0.2 text-unidecode-1.3 tqdm-4.62.1\n",
      "Note: you may need to restart the kernel to use updated packages.\n"
     ]
    },
    {
     "name": "stderr",
     "output_type": "stream",
     "text": [
      "WARNING: You are using pip version 21.1.3; however, version 21.2.4 is available.\n",
      "You should consider upgrading via the 'c:\\users\\dogan\\appdata\\local\\programs\\python\\python39\\python.exe -m pip install --upgrade pip' command.\n"
     ]
    }
   ],
   "source": [
    "pip list"
   ]
  },
  {
   "cell_type": "code",
   "execution_count": 55,
   "id": "943c7481",
   "metadata": {},
   "outputs": [
    {
     "name": "stdout",
     "output_type": "stream",
     "text": [
      "Package             Version\n",
      "------------------- ---------\n",
      "anyio               3.2.1\n",
      "argon2-cffi         20.1.0\n",
      "async-generator     1.10\n",
      "attrs               21.2.0\n",
      "Babel               2.9.1\n",
      "backcall            0.2.0\n",
      "bleach              3.3.0\n",
      "certifi             2021.5.30\n",
      "cffi                1.14.5\n",
      "chardet             4.0.0\n",
      "colorama            0.4.4\n",
      "cycler              0.10.0\n",
      "debugpy             1.3.0\n",
      "decorator           5.0.9\n",
      "defusedxml          0.7.1\n",
      "entrypoints         0.3\n",
      "idna                2.10\n",
      "ipykernel           6.0.1\n",
      "ipython             7.25.0\n",
      "ipython-genutils    0.2.0\n",
      "jedi                0.18.0\n",
      "Jinja2              3.0.1\n",
      "json5               0.9.6\n",
      "jsonschema          3.2.0\n",
      "jupyter-client      6.1.12\n",
      "jupyter-core        4.7.1\n",
      "jupyter-server      1.9.0\n",
      "jupyterlab          3.0.16\n",
      "jupyterlab-pygments 0.1.2\n",
      "jupyterlab-server   2.6.0\n",
      "kaggle              1.5.12\n",
      "kiwisolver          1.3.1\n",
      "MarkupSafe          2.0.1\n",
      "matplotlib          3.4.2\n",
      "matplotlib-inline   0.1.2\n",
      "mistune             0.8.4\n",
      "nbclassic           0.3.1\n",
      "nbclient            0.5.3\n",
      "nbconvert           6.1.0\n",
      "nbformat            5.1.3\n",
      "nest-asyncio        1.5.1\n",
      "notebook            6.4.0\n",
      "numpy               1.21.0\n",
      "packaging           21.0\n",
      "pandocfilters       1.4.3\n",
      "parso               0.8.2\n",
      "pickleshare         0.7.5\n",
      "Pillow              8.3.1\n",
      "pip                 21.1.3\n",
      "prometheus-client   0.11.0\n",
      "prompt-toolkit      3.0.19\n",
      "pycparser           2.20\n",
      "Pygments            2.9.0\n",
      "pyparsing           2.4.7\n",
      "pyrsistent          0.18.0\n",
      "Note: you may need to restart the kernel to use updated packages.python-dateutil     2.8.1\n",
      "\n",
      "python-slugify      5.0.2"
     ]
    },
    {
     "name": "stderr",
     "output_type": "stream",
     "text": [
      "WARNING: You are using pip version 21.1.3; however, version 21.2.4 is available.\n",
      "You should consider upgrading via the 'c:\\users\\dogan\\appdata\\local\\programs\\python\\python39\\python.exe -m pip install --upgrade pip' command.\n"
     ]
    },
    {
     "name": "stdout",
     "output_type": "stream",
     "text": [
      "\n",
      "pytz                2021.1\n",
      "pywin32             301\n",
      "pywinpty            1.1.3\n",
      "pyzmq               22.1.0\n",
      "requests            2.25.1\n",
      "requests-unixsocket 0.2.0\n",
      "Send2Trash          1.7.1\n",
      "setuptools          56.0.0\n",
      "six                 1.16.0\n",
      "sniffio             1.2.0\n",
      "terminado           0.10.1\n",
      "testpath            0.5.0\n",
      "text-unidecode      1.3\n",
      "tornado             6.1\n",
      "tqdm                4.62.1\n",
      "traitlets           5.0.5\n",
      "urllib3             1.26.6\n",
      "wcwidth             0.2.5\n",
      "webencodings        0.5.1\n",
      "websocket-client    1.1.0\n"
     ]
    }
   ],
   "source": [
    "pip list"
   ]
  },
  {
   "cell_type": "code",
   "execution_count": 56,
   "id": "1051f977",
   "metadata": {},
   "outputs": [
    {
     "name": "stdout",
     "output_type": "stream",
     "text": [
      "Note: you may need to restart the kernel to use updated packages.\n"
     ]
    },
    {
     "name": "stderr",
     "output_type": "stream",
     "text": [
      "WARNING: Package(s) not found: pandas\n"
     ]
    }
   ],
   "source": [
    "pip show pandas"
   ]
  },
  {
   "cell_type": "code",
   "execution_count": null,
   "id": "86e94119",
   "metadata": {},
   "outputs": [],
   "source": [
    "calculator = map(lambda x, y, z : x z y )"
   ]
  }
 ],
 "metadata": {
  "interpreter": {
   "hash": "4f77006a7ea4363e7f455dab2a4eac849c4d183e0f3df07af1fa2c4918595da7"
  },
  "kernelspec": {
   "display_name": "Python 3 (ipykernel)",
   "language": "python",
   "name": "python3"
  },
  "language_info": {
   "codemirror_mode": {
    "name": "ipython",
    "version": 3
   },
   "file_extension": ".py",
   "mimetype": "text/x-python",
   "name": "python",
   "nbconvert_exporter": "python",
   "pygments_lexer": "ipython3",
   "version": "3.9.6"
  }
 },
 "nbformat": 4,
 "nbformat_minor": 5
}
