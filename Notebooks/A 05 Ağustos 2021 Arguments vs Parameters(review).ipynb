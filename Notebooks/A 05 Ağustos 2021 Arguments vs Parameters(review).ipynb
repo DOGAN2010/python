{
 "cells": [
  {
   "cell_type": "markdown",
   "id": "406f2981",
   "metadata": {},
   "source": [
    "<img src=\"https://docs.google.com/uc?id=14xeXxFrVRjvOoUYWn_GuyE-v84wVzrqr\" class=\"img-fluid\" alt=\"CLRWY\" width=\"400\" height=\"200\">"
   ]
  },
  {
   "cell_type": "markdown",
   "id": "b658d59b",
   "metadata": {},
   "source": [
    "# Arguments vs Parameters(review)"
   ]
  },
  {
   "cell_type": "markdown",
   "id": "c9e36b34",
   "metadata": {},
   "source": [
    "## asli durumları : parameters == variables,   arguments == value\n",
    "\n",
    "pythonda eş anlamlı olarak kullanılıyor."
   ]
  },
  {
   "cell_type": "code",
   "execution_count": 1,
   "id": "a56a8705",
   "metadata": {},
   "outputs": [
    {
     "name": "stdout",
     "output_type": "stream",
     "text": [
      "Your first name is : Guido\n",
      "Your last name is : van Rossum\n",
      "\n",
      "Your first name is : Marry\n",
      "Your last name is : Bold\n"
     ]
    }
   ],
   "source": [
    "def who(first, last) :  # 'first' and 'last' are the parameters(or variables)\n",
    "    print('Your first name is :', first)\n",
    "    print('Your last name is :', last)\n",
    "\n",
    "who('Guido', 'van Rossum')  # 'Guido' and 'van Rossum' are the arguments\n",
    "print()\n",
    "who('Marry', 'Bold')  # 'Marry' and 'Bold' are also the arguments"
   ]
  },
  {
   "cell_type": "code",
   "execution_count": null,
   "id": "31f45b12",
   "metadata": {},
   "outputs": [],
   "source": [
    "who('Joseph')  # we passed only one argument into the function"
   ]
  },
  {
   "cell_type": "markdown",
   "id": "6f70c90c",
   "metadata": {},
   "source": [
    "Positional Arguments : bir fonksiyon çağırırken , soldan sağa sırayla iletilmelidirler . SIRA ÖNEMLİ\n",
    "Keyword Arguments :Bir fonksiyonu çağırdığınızda argümanların dizilerinin/pozisyonlarının sizi kısıtlamasına izin vermek istemiyorsanız, bu argümanları anahtar kelimelerle de çağırabilirsiniz. Genel olarak ve geleneksel olarak,  kwargs  anahtar kelime argümanlarının kısaltması olarak kullanılır  .\n",
    "SIRA ÖNEMSİZ, KEY ÖNEMLİ\n",
    "\n",
    "\n",
    "## Formül sözdizimi şöyledir:  kwargs=values.\n"
   ]
  },
  {
   "cell_type": "code",
   "execution_count": 2,
   "id": "3ae4d2c9",
   "metadata": {},
   "outputs": [
    {
     "name": "stdout",
     "output_type": "stream",
     "text": [
      "3 is the first argument\n",
      "4 is the second argument\n",
      "\n",
      "4 is the first argument\n",
      "3 is the second argument\n"
     ]
    }
   ],
   "source": [
    "def pos_args(a, b):\n",
    "    print(a, 'is the first argument')\n",
    "    print(b, 'is the second argument')\n",
    "\n",
    "pos_args(3,4)\n",
    "print()\n",
    "pos_args(4,3)"
   ]
  },
  {
   "cell_type": "code",
   "execution_count": 3,
   "id": "686cd3dd",
   "metadata": {},
   "outputs": [
    {
     "name": "stdout",
     "output_type": "stream",
     "text": [
      "first is the first argument\n",
      "second is the second argument\n",
      "\n",
      "second is the first argument\n",
      "first is the second argument\n"
     ]
    }
   ],
   "source": [
    "pos_args('first','second')\n",
    "print()\n",
    "pos_args('second', 'first')"
   ]
  },
  {
   "cell_type": "code",
   "execution_count": 1,
   "id": "a35d1f1e",
   "metadata": {},
   "outputs": [
    {
     "name": "stdout",
     "output_type": "stream",
     "text": [
      "Enter your first name: furkan\n",
      "Your initial is : F\n"
     ]
    }
   ],
   "source": [
    "def get_initial(name):\n",
    "    initial= name[0:1].upper()\n",
    "    return initial\n",
    "\n",
    "first_name = input(\"Enter your first name: \")\n",
    "first_name_initial = get_initial(first_name)\n",
    "\n",
    "print(\"Your initial is :\", first_name_initial)"
   ]
  },
  {
   "cell_type": "code",
   "execution_count": 3,
   "id": "353967f2",
   "metadata": {},
   "outputs": [],
   "source": [
    "a = \"I\"\n",
    "b = \"love\"\n",
    "c = \"you\"\n",
    "\n",
    "def texter(text1, text2, text3) :\n",
    "    print(text2, text3, text1)"
   ]
  },
  {
   "cell_type": "code",
   "execution_count": 4,
   "id": "78ef44dd",
   "metadata": {},
   "outputs": [
    {
     "name": "stdout",
     "output_type": "stream",
     "text": [
      "I love you\n"
     ]
    }
   ],
   "source": [
    "texter(c, a, b)"
   ]
  },
  {
   "cell_type": "code",
   "execution_count": 25,
   "id": "70b708b2",
   "metadata": {},
   "outputs": [
    {
     "name": "stdout",
     "output_type": "stream",
     "text": [
      "I love you\n",
      "\n",
      "45663 123 12577\n"
     ]
    }
   ],
   "source": [
    "a = \"I\"\n",
    "b = \"love\"\n",
    "c = \"you\"\n",
    "\n",
    "def texter(text1, text2, text3) :\n",
    "    a = \"123\"\n",
    "    b = \"12577\"\n",
    "    c = \"45663\"\n",
    "    \n",
    "    print(text2, text3, text1)\n",
    "    print()\n",
    "    print(c, a, b)\n",
    "    \n",
    "texter(c, a, b)"
   ]
  },
  {
   "cell_type": "code",
   "execution_count": 5,
   "id": "3f3b7f96",
   "metadata": {},
   "outputs": [
    {
     "name": "stdout",
     "output_type": "stream",
     "text": [
      "i love you\n"
     ]
    }
   ],
   "source": [
    "texter(text1 = \"you\", text3 = \"love\", text2 = \"i\")"
   ]
  },
  {
   "cell_type": "code",
   "execution_count": 8,
   "id": "f98fc92d",
   "metadata": {},
   "outputs": [
    {
     "name": "stdout",
     "output_type": "stream",
     "text": [
      "Hello Monica, Good morning!\n"
     ]
    }
   ],
   "source": [
    "def greet(name, msg):\n",
    "    \"\"\"This function greets to the person with the provided message\"\"\"\n",
    "    print(\"Hello\", name + ', ' + msg)\n",
    "\n",
    "greet(\"Monica\", \"Good morning!\")"
   ]
  },
  {
   "cell_type": "markdown",
   "id": "e9f26c0e",
   "metadata": {},
   "source": [
    "If we call it with a different number of arguments, the interpreter will show an error message.\n",
    "\n",
    "greet(\"Monica\")    # only one argument\n",
    "greet()    # no arguments"
   ]
  },
  {
   "cell_type": "code",
   "execution_count": 9,
   "id": "315f28a7",
   "metadata": {},
   "outputs": [
    {
     "name": "stdout",
     "output_type": "stream",
     "text": [
      "Hello Kate, Good morning!\n",
      "Hello Bruce, How do you do?\n"
     ]
    }
   ],
   "source": [
    "def greet(name, msg=\"Good morning!\"):\n",
    "    \"\"\"\n",
    "    This function greets to\n",
    "    the person with the\n",
    "    provided message.\n",
    "\n",
    "    If the message is not provided,\n",
    "    it defaults to \"Good\n",
    "    morning!\"\n",
    "    \"\"\"\n",
    "\n",
    "    print(\"Hello\", name + ', ' + msg)\n",
    "\n",
    "\n",
    "greet(\"Kate\")\n",
    "greet(\"Bruce\", \"How do you do?\")"
   ]
  },
  {
   "cell_type": "markdown",
   "id": "39bb70d9",
   "metadata": {},
   "source": [
    "Non-default arguments cannot follow default arguments. For example, if we had defined the function header above as:\n",
    "\n",
    "def greet(msg = \"Good morning!\", name):  \n",
    "    greet(msg=\"hello\", Jane)"
   ]
  },
  {
   "cell_type": "code",
   "execution_count": 10,
   "id": "b34ffd75",
   "metadata": {},
   "outputs": [
    {
     "name": "stdout",
     "output_type": "stream",
     "text": [
      "Hello Bruce, How do you do?\n",
      "Hello Bruce, How do you do?\n",
      "Hello Bruce, How do you do?\n"
     ]
    }
   ],
   "source": [
    "# 2 keyword arguments\n",
    "greet(name = \"Bruce\",msg = \"How do you do?\")\n",
    "\n",
    "# 2 keyword arguments (out of order)\n",
    "greet(msg = \"How do you do?\",name = \"Bruce\") \n",
    "\n",
    "# 1 positional, 1 keyword argument\n",
    "greet( \"Bruce\", msg = \"How do you do?\")"
   ]
  },
  {
   "cell_type": "markdown",
   "id": "0266e0cf",
   "metadata": {},
   "source": [
    "We must keep in mind that keyword arguments must follow positional arguments.\n",
    "Having a positional argument after keyword arguments will result in errors. For example, the function call as follows:\n",
    "\n",
    "greet(name=\"Bruce\",\"How do you do?\")"
   ]
  },
  {
   "cell_type": "code",
   "execution_count": null,
   "id": "c45eb269",
   "metadata": {},
   "outputs": [],
   "source": []
  },
  {
   "cell_type": "code",
   "execution_count": 27,
   "id": "6fe810e3",
   "metadata": {},
   "outputs": [
    {
     "name": "stdout",
     "output_type": "stream",
     "text": [
      "Your first name is : Guido\n",
      "Your last name is : van Rossum\n"
     ]
    }
   ],
   "source": [
    "def who(first, last) :  # same structure as the previous one\n",
    "    print('Your first name is :', first)\n",
    "    print('Your last name is :', last)\n",
    "\n",
    "who(first='Guido', last='van Rossum')  # calling the function is different\n",
    "# we used kwargs to pass the values into the function"
   ]
  },
  {
   "cell_type": "code",
   "execution_count": 28,
   "id": "56e85aaf",
   "metadata": {},
   "outputs": [
    {
     "name": "stdout",
     "output_type": "stream",
     "text": [
      "Your first name is : Guido\n",
      "Your last name is : van Rossum\n"
     ]
    }
   ],
   "source": [
    "who(last='van Rossum', first='Guido')"
   ]
  },
  {
   "cell_type": "code",
   "execution_count": 7,
   "id": "4c4ad218",
   "metadata": {},
   "outputs": [],
   "source": [
    "def parrot(voltage, state='a stiff', action='voom', type='Norwegian Blue'):\n",
    "    print(\"-- This parrot wouldn't\", action, end=' ')\n",
    "    print(\"if you put\", voltage, \"volts through it.\")\n",
    "    print(\"-- Lovely plumage, the\", type)\n",
    "    print(\"-- It's\", state, \"!\")"
   ]
  },
  {
   "cell_type": "code",
   "execution_count": 8,
   "id": "9e227a8f",
   "metadata": {},
   "outputs": [
    {
     "name": "stdout",
     "output_type": "stream",
     "text": [
      "-- This parrot wouldn't voom if you put 1000 volts through it.\n",
      "-- Lovely plumage, the Norwegian Blue\n",
      "-- It's a stiff !\n"
     ]
    }
   ],
   "source": [
    "parrot(1000)"
   ]
  },
  {
   "cell_type": "code",
   "execution_count": 9,
   "id": "caa47209",
   "metadata": {},
   "outputs": [
    {
     "name": "stdout",
     "output_type": "stream",
     "text": [
      "-- This parrot wouldn't VOOOOOM if you put 1000000 volts through it.\n",
      "-- Lovely plumage, the Norwegian Blue\n",
      "-- It's a stiff !\n"
     ]
    }
   ],
   "source": [
    "parrot(voltage=1000000, action='VOOOOOM') "
   ]
  },
  {
   "cell_type": "code",
   "execution_count": 10,
   "id": "e988c197",
   "metadata": {},
   "outputs": [
    {
     "name": "stdout",
     "output_type": "stream",
     "text": [
      "-- This parrot wouldn't VOOOOOM if you put 1000000 volts through it.\n",
      "-- Lovely plumage, the Norwegian Blue\n",
      "-- It's a stiff !\n"
     ]
    }
   ],
   "source": [
    "parrot(action='VOOOOOM', voltage=1000000)"
   ]
  },
  {
   "cell_type": "code",
   "execution_count": null,
   "id": "792c0b48",
   "metadata": {},
   "outputs": [],
   "source": [
    "def parrot(voltage, state='a stiff', action='voom', type='Norwegian Blue'):\n",
    "    print(\"-- This parrot wouldn't\", action, end=' ')\n",
    "    print(\"if you put\", voltage, \"volts through it.\")\n",
    "    print(\"-- Lovely plumage, the\", type)\n",
    "    print(\"-- It's\", state, \"!\")"
   ]
  },
  {
   "cell_type": "code",
   "execution_count": 11,
   "id": "494d68e8",
   "metadata": {},
   "outputs": [
    {
     "name": "stdout",
     "output_type": "stream",
     "text": [
      "-- This parrot wouldn't jump if you put a million volts through it.\n",
      "-- Lovely plumage, the Norwegian Blue\n",
      "-- It's bereft of life !\n"
     ]
    }
   ],
   "source": [
    "parrot(\"a million\", \"bereft of life\", \"jump\")"
   ]
  },
  {
   "cell_type": "code",
   "execution_count": 12,
   "id": "4a24f749",
   "metadata": {},
   "outputs": [
    {
     "name": "stdout",
     "output_type": "stream",
     "text": [
      "-- This parrot wouldn't voom if you put a thousand volts through it.\n",
      "-- Lovely plumage, the Norwegian Blue\n",
      "-- It's pushing up the daisies !\n"
     ]
    }
   ],
   "source": [
    "parrot(\"a thousand\", state = \"pushing up the daisies\")"
   ]
  },
  {
   "cell_type": "code",
   "execution_count": 13,
   "id": "561923cb",
   "metadata": {},
   "outputs": [
    {
     "ename": "TypeError",
     "evalue": "parrot() missing 1 required positional argument: 'voltage'",
     "output_type": "error",
     "traceback": [
      "\u001b[0;31m---------------------------------------------------------------------------\u001b[0m",
      "\u001b[0;31mTypeError\u001b[0m                                 Traceback (most recent call last)",
      "\u001b[0;32m<ipython-input-13-1fa32faf15ff>\u001b[0m in \u001b[0;36m<module>\u001b[0;34m\u001b[0m\n\u001b[0;32m----> 1\u001b[0;31m \u001b[0mparrot\u001b[0m\u001b[0;34m(\u001b[0m\u001b[0;34m)\u001b[0m\u001b[0;34m\u001b[0m\u001b[0;34m\u001b[0m\u001b[0m\n\u001b[0m",
      "\u001b[0;31mTypeError\u001b[0m: parrot() missing 1 required positional argument: 'voltage'"
     ]
    }
   ],
   "source": [
    "parrot()"
   ]
  },
  {
   "cell_type": "code",
   "execution_count": 14,
   "id": "9fda4afc",
   "metadata": {},
   "outputs": [
    {
     "ename": "SyntaxError",
     "evalue": "positional argument follows keyword argument (<ipython-input-14-7b546f45b43d>, line 1)",
     "output_type": "error",
     "traceback": [
      "\u001b[0;36m  File \u001b[0;32m\"<ipython-input-14-7b546f45b43d>\"\u001b[0;36m, line \u001b[0;32m1\u001b[0m\n\u001b[0;31m    parrot(voltage = 5, \"dead\")\u001b[0m\n\u001b[0m                        ^\u001b[0m\n\u001b[0;31mSyntaxError\u001b[0m\u001b[0;31m:\u001b[0m positional argument follows keyword argument\n"
     ]
    }
   ],
   "source": [
    "parrot(voltage = 5, \"dead\") # fonksiyonu çağırırken önce Positional Arguments yazılır sonra Keyword Arguments yazılır. "
   ]
  },
  {
   "cell_type": "markdown",
   "id": "239b587d",
   "metadata": {},
   "source": [
    "fonksiyonu aşağıdakiler gibi çağırır isek hata verir."
   ]
  },
  {
   "cell_type": "code",
   "execution_count": null,
   "id": "851c6e9a",
   "metadata": {},
   "outputs": [],
   "source": [
    "parrot()                     # required argument missing\n",
    "parrot(voltage=5.0, 'dead')  # non-keyword argument after a keyword argument\n",
    "parrot(110, voltage=220)     # duplicate value for the same argument\n",
    "parrot(actor='John Cleese')  # unknown keyword argument"
   ]
  },
  {
   "cell_type": "code",
   "execution_count": 15,
   "id": "af8f7c6e",
   "metadata": {},
   "outputs": [
    {
     "ename": "SyntaxError",
     "evalue": "non-default argument follows default argument (<ipython-input-15-a16aa314c4e9>, line 1)",
     "output_type": "error",
     "traceback": [
      "\u001b[0;36m  File \u001b[0;32m\"<ipython-input-15-a16aa314c4e9>\"\u001b[0;36m, line \u001b[0;32m1\u001b[0m\n\u001b[0;31m    def argu(a, b = \"dünya\", c, d = \"satürn\") :\u001b[0m\n\u001b[0m             ^\u001b[0m\n\u001b[0;31mSyntaxError\u001b[0m\u001b[0;31m:\u001b[0m non-default argument follows default argument\n"
     ]
    }
   ],
   "source": [
    "def argu(a, b = \"dünya\", c, d = \"satürn\") :\n",
    "    print(a, b, c, d, sep = \"\\n\")"
   ]
  },
  {
   "cell_type": "code",
   "execution_count": 16,
   "id": "63e80752",
   "metadata": {},
   "outputs": [],
   "source": [
    "def argu(a, c, b = \"dünya\", d = \"satürn\") :\n",
    "    print(a, b, c, d, sep = \"\\n\")"
   ]
  },
  {
   "cell_type": "code",
   "execution_count": 17,
   "id": "3dfd8d8d",
   "metadata": {},
   "outputs": [
    {
     "ename": "TypeError",
     "evalue": "argu() missing 2 required positional arguments: 'a' and 'c'",
     "output_type": "error",
     "traceback": [
      "\u001b[0;31m---------------------------------------------------------------------------\u001b[0m",
      "\u001b[0;31mTypeError\u001b[0m                                 Traceback (most recent call last)",
      "\u001b[0;32m<ipython-input-17-2743aba80a34>\u001b[0m in \u001b[0;36m<module>\u001b[0;34m\u001b[0m\n\u001b[0;32m----> 1\u001b[0;31m \u001b[0margu\u001b[0m\u001b[0;34m(\u001b[0m\u001b[0;34m)\u001b[0m\u001b[0;34m\u001b[0m\u001b[0;34m\u001b[0m\u001b[0m\n\u001b[0m",
      "\u001b[0;31mTypeError\u001b[0m: argu() missing 2 required positional arguments: 'a' and 'c'"
     ]
    }
   ],
   "source": [
    "argu()"
   ]
  },
  {
   "cell_type": "code",
   "execution_count": 18,
   "id": "356fab5f",
   "metadata": {},
   "outputs": [
    {
     "name": "stdout",
     "output_type": "stream",
     "text": [
      "uranüs\n",
      "dünya\n",
      "jüpiter\n",
      "satürn\n"
     ]
    }
   ],
   "source": [
    "argu(\"uranüs\", \"jüpiter\")"
   ]
  },
  {
   "cell_type": "code",
   "execution_count": 19,
   "id": "68111837",
   "metadata": {},
   "outputs": [
    {
     "name": "stdout",
     "output_type": "stream",
     "text": [
      "uranüs\n",
      "dünya\n",
      "jüpiter\n",
      "satürn\n"
     ]
    }
   ],
   "source": [
    "argu(a = \"uranüs\", c = \"jüpiter\")"
   ]
  },
  {
   "cell_type": "code",
   "execution_count": 20,
   "id": "7bf6b843",
   "metadata": {},
   "outputs": [
    {
     "ename": "SyntaxError",
     "evalue": "positional argument follows keyword argument (<ipython-input-20-5c83c5dd5081>, line 1)",
     "output_type": "error",
     "traceback": [
      "\u001b[0;36m  File \u001b[0;32m\"<ipython-input-20-5c83c5dd5081>\"\u001b[0;36m, line \u001b[0;32m1\u001b[0m\n\u001b[0;31m    argu(\"plüto\", c = \"venüs\", \"mars\")\u001b[0m\n\u001b[0m                                 ^\u001b[0m\n\u001b[0;31mSyntaxError\u001b[0m\u001b[0;31m:\u001b[0m positional argument follows keyword argument\n"
     ]
    }
   ],
   "source": [
    "argu(\"plüto\", c = \"venüs\", \"mars\") "
   ]
  },
  {
   "cell_type": "code",
   "execution_count": null,
   "id": "47adada0",
   "metadata": {},
   "outputs": [],
   "source": [
    "def argu(a, c, b = \"dünya\", d = \"satürn\") :\n",
    "    print(a, b, c, d, sep = \"\\n\")"
   ]
  },
  {
   "cell_type": "code",
   "execution_count": 21,
   "id": "f9cd2ef3",
   "metadata": {},
   "outputs": [
    {
     "ename": "TypeError",
     "evalue": "argu() got multiple values for argument 'c'",
     "output_type": "error",
     "traceback": [
      "\u001b[0;31m---------------------------------------------------------------------------\u001b[0m",
      "\u001b[0;31mTypeError\u001b[0m                                 Traceback (most recent call last)",
      "\u001b[0;32m<ipython-input-21-4e39c7bf3245>\u001b[0m in \u001b[0;36m<module>\u001b[0;34m\u001b[0m\n\u001b[0;32m----> 1\u001b[0;31m \u001b[0margu\u001b[0m\u001b[0;34m(\u001b[0m\u001b[0;34m\"plüto\"\u001b[0m\u001b[0;34m,\u001b[0m \u001b[0;34m\"mars\"\u001b[0m\u001b[0;34m,\u001b[0m \u001b[0mc\u001b[0m \u001b[0;34m=\u001b[0m \u001b[0;34m\"venüs\"\u001b[0m\u001b[0;34m)\u001b[0m\u001b[0;34m\u001b[0m\u001b[0;34m\u001b[0m\u001b[0m\n\u001b[0m",
      "\u001b[0;31mTypeError\u001b[0m: argu() got multiple values for argument 'c'"
     ]
    }
   ],
   "source": [
    "argu(\"plüto\", \"mars\", c = \"venüs\") # c' ikinci kez deger atama yapılamaz"
   ]
  },
  {
   "cell_type": "code",
   "execution_count": 22,
   "id": "ec1bfc03",
   "metadata": {},
   "outputs": [
    {
     "name": "stdout",
     "output_type": "stream",
     "text": [
      "dünya\n",
      "venüs\n",
      "plüto\n",
      "güneş\n"
     ]
    }
   ],
   "source": [
    "argu(d = \"güneş\", a = \"dünya\", c = \"plüto\", b = \"venüs\")"
   ]
  },
  {
   "cell_type": "code",
   "execution_count": null,
   "id": "6f9857df",
   "metadata": {},
   "outputs": [],
   "source": [
    "def argu(a, c, b = \"dünya\", d = \"satürn\") :\n",
    "    print(a, b, c, d, sep = \"\\n\")"
   ]
  },
  {
   "cell_type": "code",
   "execution_count": 23,
   "id": "ec5a35d4",
   "metadata": {},
   "outputs": [
    {
     "name": "stdout",
     "output_type": "stream",
     "text": [
      "güneş\n",
      "plüto\n",
      "dünya\n",
      "venüs\n"
     ]
    }
   ],
   "source": [
    "argu(\"güneş\", \"dünya\", \"plüto\", \"venüs\")"
   ]
  },
  {
   "cell_type": "code",
   "execution_count": 24,
   "id": "a55a283d",
   "metadata": {},
   "outputs": [
    {
     "name": "stdout",
     "output_type": "stream",
     "text": [
      "dünya\n",
      "venüs\n",
      "plüto\n",
      "güneş\n"
     ]
    }
   ],
   "source": [
    "argu(\"dünya\", \"plüto\", \"venüs\",\"güneş\")"
   ]
  },
  {
   "cell_type": "code",
   "execution_count": null,
   "id": "5e2bd655",
   "metadata": {},
   "outputs": [],
   "source": [
    "def city(capital, continent='Europe'):\n",
    "    print(capital, 'in', continent)\n",
    "\n",
    "city('Athens')  # we don't have to pass any arguments into 'continent'\n",
    "city('Ulaanbaatar', continent='Asia')  # we can change the default value by kwargs\n",
    "city('Cape Town', 'Africa')  # we can change the default value by positional args."
   ]
  },
  {
   "cell_type": "code",
   "execution_count": null,
   "id": "9a38b73e",
   "metadata": {},
   "outputs": [],
   "source": [
    "def fruiterer(fruit1, fruit2) :\n",
    "    print('I want to get', fruit1, 'and', fruit2)\n",
    "        \n",
    "fruiterer('orange', 'banana')"
   ]
  },
  {
   "cell_type": "code",
   "execution_count": null,
   "id": "16ff603b",
   "metadata": {},
   "outputs": [],
   "source": []
  },
  {
   "cell_type": "markdown",
   "id": "0dcd4bde",
   "metadata": {},
   "source": [
    "\n",
    "# Bu ne anlama geliyor: *args, **kwargs? Ve neden kullanalım?\n",
    "\n",
    "A : *args Bir fonksiyona kaç tane argüman iletileceğinden emin olmadığımızda veya bir fonksiyona depolanmış bir liste veya argüman demeti iletmek istediğimizde kullanırız. Parametreyi ıterable (tekrar edilebilir) dönüştürüyor.\n",
    "\n",
    "**kwargs bir fonksiyona kaç tane anahtar kelime argümanının iletileceğini bilmediğimizde kullanılır veya bir sözlüğün değerlerini anahtar kelime argümanları olarak iletmek için kullanılabilir.Parametreyi dict te  dönüştürüyor.\n",
    "args ve kwargs tanımlayıcıları bir kuraldır, *bob ve **billy de kullanabilirsiniz, ancak bu akıllıca olmaz. "
   ]
  },
  {
   "cell_type": "code",
   "execution_count": null,
   "id": "68ee572a",
   "metadata": {},
   "outputs": [],
   "source": [
    "def greet(*names):\n",
    "    \"\"\"This function greets all\n",
    "    the person in the names tuple.\"\"\"\n",
    "\n",
    "    # names is a tuple with arguments\n",
    "    for name in names:\n",
    "        print(\"Hello\", name)\n",
    "\n",
    "\n",
    "greet(\"Monica\", \"Luke\", \"Steve\", \"John\")"
   ]
  },
  {
   "cell_type": "code",
   "execution_count": null,
   "id": "f5f2fb13",
   "metadata": {},
   "outputs": [],
   "source": []
  },
  {
   "cell_type": "code",
   "execution_count": 4,
   "id": "6a888af8",
   "metadata": {},
   "outputs": [
    {
     "name": "stdout",
     "output_type": "stream",
     "text": [
      "The youngest child is Tobias\n"
     ]
    }
   ],
   "source": [
    "def my_function(*kids):\n",
    "    print(\"The youngest child is \" + kids[1])\n",
    "\n",
    "my_function(\"Emil\", \"Tobias\", \"Linus\")"
   ]
  },
  {
   "cell_type": "code",
   "execution_count": 5,
   "id": "7844df63",
   "metadata": {},
   "outputs": [
    {
     "name": "stdout",
     "output_type": "stream",
     "text": [
      "The youngest child is Linus\n"
     ]
    }
   ],
   "source": [
    "def my_function(child3, child2, child1):\n",
    "    print(\"The youngest child is \" + child3)\n",
    "\n",
    "my_function(child1 = \"Emil\", child2 = \"Tobias\", child3 = \"Linus\")"
   ]
  },
  {
   "cell_type": "code",
   "execution_count": 7,
   "id": "81edecaf",
   "metadata": {},
   "outputs": [
    {
     "name": "stdout",
     "output_type": "stream",
     "text": [
      "apple\n",
      "banana\n",
      "cherry\n"
     ]
    }
   ],
   "source": [
    "def my_function(food):\n",
    "    for x in food:\n",
    "        print(x)\n",
    "\n",
    "fruits = [\"apple\", \"banana\", \"cherry\"]\n",
    "\n",
    "my_function(fruits)"
   ]
  },
  {
   "cell_type": "code",
   "execution_count": null,
   "id": "ec7d6e9f",
   "metadata": {},
   "outputs": [],
   "source": []
  },
  {
   "cell_type": "code",
   "execution_count": 1,
   "id": "a63966c0",
   "metadata": {},
   "outputs": [
    {
     "name": "stdout",
     "output_type": "stream",
     "text": [
      "I want to get :\n",
      "- orange\n",
      "- banana\n",
      "- melon\n",
      "- ananas\n"
     ]
    }
   ],
   "source": [
    "def fruiterer(*fruit) : # * fruit i iterıbıl hale getiriyor.Belirsiz sayıda arguman kullanılır.\n",
    "    print('I want to get :')\n",
    "    for i in fruit :\n",
    "        print('-', i)\n",
    "        \n",
    "fruiterer('orange', 'banana', 'melon', 'ananas')"
   ]
  },
  {
   "cell_type": "code",
   "execution_count": 3,
   "id": "2b42d75e",
   "metadata": {},
   "outputs": [
    {
     "name": "stdout",
     "output_type": "stream",
     "text": [
      "Lions are Carnivores\n",
      "Bears are Omnivores\n",
      "Deers are Herbivores\n",
      "Human are Nomnivores\n"
     ]
    }
   ],
   "source": [
    "def animals(**kwargs):  # fruit i dict te dönüştürüyor.Belirsiz sayıda arguman kullanılır.\n",
    "    for key, value in kwargs.items():\n",
    "        print(value, \"are\", key)\n",
    "\n",
    "animals(Carnivores=\"Lions\", Omnivores=\"Bears\", Herbivores=\"Deers\", Nomnivores=\"Human\")"
   ]
  },
  {
   "cell_type": "code",
   "execution_count": 4,
   "id": "c7fb87ae",
   "metadata": {},
   "outputs": [],
   "source": [
    "def animals(**kwargs):\n",
    "    for key, value in kwargs.items():\n",
    "        print(value, \"are\", key)\n",
    "animals()"
   ]
  },
  {
   "cell_type": "code",
   "execution_count": 5,
   "id": "ac2d1803",
   "metadata": {},
   "outputs": [],
   "source": [
    "animals()"
   ]
  },
  {
   "cell_type": "code",
   "execution_count": 9,
   "id": "20fbe943",
   "metadata": {},
   "outputs": [],
   "source": [
    "def slicer(* num) :\n",
    "    evens = []\n",
    "    odds = []\n",
    "    \n",
    "    for i in num :\n",
    "        if i % 2 == 0 :\n",
    "            evens.append(i)\n",
    "        else :\n",
    "            odds.append(i)\n",
    "            \n",
    "    print(\"even list : \", evens)\n",
    "    print(\"odd list :\", odds)"
   ]
  },
  {
   "cell_type": "code",
   "execution_count": 10,
   "id": "74cca2f9",
   "metadata": {},
   "outputs": [
    {
     "name": "stdout",
     "output_type": "stream",
     "text": [
      "even list :  [2, 4]\n",
      "odd list : [1, 3]\n"
     ]
    }
   ],
   "source": [
    "slicer(1,2,3,4)"
   ]
  },
  {
   "cell_type": "code",
   "execution_count": 11,
   "id": "b3cdccab",
   "metadata": {},
   "outputs": [
    {
     "name": "stdout",
     "output_type": "stream",
     "text": [
      "even list :  [2, 4, 6]\n",
      "odd list : [1, 3, 5, 7]\n"
     ]
    }
   ],
   "source": [
    "slicer(1,2,3,4,5,6,7)"
   ]
  },
  {
   "cell_type": "code",
   "execution_count": 12,
   "id": "a53484a8",
   "metadata": {},
   "outputs": [
    {
     "name": "stdout",
     "output_type": "stream",
     "text": [
      "even list :  [2, 4, 6, 8, 10, 12]\n",
      "odd list : [1, 3, 5, 7, 9, 11, 13]\n"
     ]
    }
   ],
   "source": [
    "slicer(1,2,3,4,5,6,7,8,9,10,11,12,13)"
   ]
  },
  {
   "cell_type": "code",
   "execution_count": 13,
   "id": "ce316a93",
   "metadata": {},
   "outputs": [],
   "source": [
    "test = dict(isim = \"ahmet\", soyisim = \"mehmet\")"
   ]
  },
  {
   "cell_type": "code",
   "execution_count": 14,
   "id": "89eab532",
   "metadata": {},
   "outputs": [
    {
     "data": {
      "text/plain": [
       "{'isim': 'ahmet', 'soyisim': 'mehmet'}"
      ]
     },
     "execution_count": 14,
     "metadata": {},
     "output_type": "execute_result"
    }
   ],
   "source": [
    "test"
   ]
  },
  {
   "cell_type": "code",
   "execution_count": 20,
   "id": "be87b323",
   "metadata": {},
   "outputs": [
    {
     "name": "stdout",
     "output_type": "stream",
     "text": [
      "['beth', 'oscar', 'Justin', 'frank']\n",
      "[26, 42, 18, 33]\n"
     ]
    }
   ],
   "source": [
    "def organizer(**kwargs) :\n",
    "    list_1 = []\n",
    "    list_2 = []\n",
    "    for key, value in kwargs.items():\n",
    "        list_1.append(key)\n",
    "        list_2.append(value) \n",
    "        \n",
    "    print(list_1, end=\"\\n\")   \n",
    "    print(list_2)  \n",
    "    \n",
    "organizer(beth=26, oscar=42, Justin = 18, frank = 33 )"
   ]
  },
  {
   "cell_type": "code",
   "execution_count": 22,
   "id": "36a83460",
   "metadata": {},
   "outputs": [
    {
     "name": "stdout",
     "output_type": "stream",
     "text": [
      "['beth', 'oscar', 'Justin', 'frank']\n",
      "[26, 42, 18, 33]\n"
     ]
    }
   ],
   "source": [
    "def organizer(**people) :\n",
    "    list_1 = []\n",
    "    list_2 = []\n",
    "    for key, value in people.items():\n",
    "        list_1.append(key)\n",
    "        list_2.append(value) \n",
    "        \n",
    "    print(list_1, list_2, sep=\"\\n\")   \n",
    "   \n",
    "    \n",
    "organizer(beth=26, oscar=42, Justin = 18, frank = 33 )"
   ]
  },
  {
   "cell_type": "code",
   "execution_count": null,
   "id": "05c03073",
   "metadata": {},
   "outputs": [],
   "source": [
    "def adder(*num):\n",
    "    sum = 0\n",
    "    \n",
    "    for n in num:\n",
    "        sum = sum + n\n",
    "\n",
    "    print(\"Sum:\",sum)\n",
    "\n",
    "adder(3,5)\n",
    "adder(4,5,6,7)\n",
    "adder(1,2,3,5,6)"
   ]
  },
  {
   "cell_type": "code",
   "execution_count": 11,
   "id": "21147e70",
   "metadata": {},
   "outputs": [
    {
     "name": "stdout",
     "output_type": "stream",
     "text": [
      "first normal arg: Bruce\n",
      "another arg through *argv: python\n",
      "another arg through *argv: eggs\n",
      "another arg through *argv: test\n"
     ]
    }
   ],
   "source": [
    "def test_var_args(f_arg, *argv):\n",
    "    print(\"first normal arg:\", f_arg)\n",
    "    for arg in argv:\n",
    "        print(\"another arg through *argv:\", arg)\n",
    "\n",
    "test_var_args( \"Bruce\", 'python', 'eggs', 'test')"
   ]
  },
  {
   "cell_type": "code",
   "execution_count": null,
   "id": "967cb03c",
   "metadata": {},
   "outputs": [],
   "source": []
  },
  {
   "cell_type": "code",
   "execution_count": null,
   "id": "4cd66397",
   "metadata": {},
   "outputs": [],
   "source": []
  },
  {
   "cell_type": "markdown",
   "id": "a6e0cf06",
   "metadata": {},
   "source": [
    " Bu ne anlama geliyor: *args, **kwargs? Ve neden kullanalım?\n",
    "A : *args Bir fonksiyona kaç tane argüman iletileceğinden emin olmadığımızda veya bir fonksiyona depolanmış bir liste veya argüman demeti iletmek istediğimizde kullanırız. **kwargs bir fonksiyona kaç tane anahtar kelime argümanının iletileceğini bilmediğimizde kullanılır veya bir sözlüğün değerlerini anahtar kelime argümanları olarak iletmek için kullanılabilir."
   ]
  },
  {
   "cell_type": "code",
   "execution_count": 13,
   "id": "b71318be",
   "metadata": {},
   "outputs": [],
   "source": [
    "def brothers(bro1, bro2, bro3):\n",
    "    print('Here are the names of brothers :')\n",
    "    print(bro1, bro2, bro3, sep='\\n')"
   ]
  },
  {
   "cell_type": "code",
   "execution_count": 14,
   "id": "c4f37c85",
   "metadata": {},
   "outputs": [
    {
     "name": "stdout",
     "output_type": "stream",
     "text": [
      "Here are the names of brothers :\n",
      "tom\n",
      "sue\n",
      "tim\n"
     ]
    }
   ],
   "source": [
    "brothers(\"tom\", \"sue\", \"tim\")"
   ]
  },
  {
   "cell_type": "code",
   "execution_count": 15,
   "id": "b5df94d9",
   "metadata": {},
   "outputs": [],
   "source": [
    "bros = [\"tom\", \"sue\", \"tim\"]"
   ]
  },
  {
   "cell_type": "code",
   "execution_count": 16,
   "id": "e0ef5197",
   "metadata": {},
   "outputs": [
    {
     "ename": "TypeError",
     "evalue": "brothers() missing 2 required positional arguments: 'bro2' and 'bro3'",
     "output_type": "error",
     "traceback": [
      "\u001b[1;31m---------------------------------------------------------------------------\u001b[0m",
      "\u001b[1;31mTypeError\u001b[0m                                 Traceback (most recent call last)",
      "\u001b[1;32m~\\AppData\\Local\\Temp/ipykernel_8788/2827914438.py\u001b[0m in \u001b[0;36m<module>\u001b[1;34m\u001b[0m\n\u001b[1;32m----> 1\u001b[1;33m \u001b[0mbrothers\u001b[0m\u001b[1;33m(\u001b[0m\u001b[0mbros\u001b[0m\u001b[1;33m)\u001b[0m\u001b[1;33m\u001b[0m\u001b[1;33m\u001b[0m\u001b[0m\n\u001b[0m",
      "\u001b[1;31mTypeError\u001b[0m: brothers() missing 2 required positional arguments: 'bro2' and 'bro3'"
     ]
    }
   ],
   "source": [
    "brothers(bros)"
   ]
  },
  {
   "cell_type": "code",
   "execution_count": 17,
   "id": "de9b25e4",
   "metadata": {},
   "outputs": [
    {
     "name": "stdout",
     "output_type": "stream",
     "text": [
      "Here are the names of brothers :\n",
      "tom\n",
      "sue\n",
      "tim\n"
     ]
    }
   ],
   "source": [
    "brothers(*bros)"
   ]
  },
  {
   "cell_type": "code",
   "execution_count": 12,
   "id": "53ac8089",
   "metadata": {},
   "outputs": [
    {
     "name": "stdout",
     "output_type": "stream",
     "text": [
      "Here are the names of brothers :\n",
      "tom\n",
      "sue\n",
      "tim\n"
     ]
    }
   ],
   "source": [
    "def brothers(bro1, bro2, bro3):\n",
    "    print('Here are the names of brothers :')\n",
    "    print(bro1, bro2, bro3, sep='\\n')\n",
    "\n",
    "family = ['tom', 'sue', 'tim']\n",
    "brothers(*family)"
   ]
  },
  {
   "cell_type": "code",
   "execution_count": null,
   "id": "8337d698",
   "metadata": {},
   "outputs": [],
   "source": [
    "def gene(x, y):  # defined by positional args\n",
    "    print(x, \"belongs to Generation X\")\n",
    "    print(y, \"belongs to Generation Y\")\n",
    " \n",
    "dict_gene = {'y' : \"Marry\", 'x' : \"Fred\"}\n",
    "gene(**dict_gene)  # we call the function by a single argument(variable)"
   ]
  },
  {
   "cell_type": "code",
   "execution_count": null,
   "id": "ff08fd46",
   "metadata": {},
   "outputs": [],
   "source": [
    "def gene(x='Solomon', y='David'):  # defined by kwargs (default values assigned to x and y)\n",
    "    print(x, \"belongs to Generation X\")\n",
    "    print(y, \"belongs to Generation Y\")\n",
    " \n",
    "dict_gene = {'y' : \"Marry\", 'x' : \"Fred\"}\n",
    "gene(**dict_gene) "
   ]
  },
  {
   "cell_type": "code",
   "execution_count": null,
   "id": "a1647dec",
   "metadata": {},
   "outputs": [],
   "source": []
  },
  {
   "cell_type": "code",
   "execution_count": null,
   "id": "b621ba94",
   "metadata": {},
   "outputs": [],
   "source": []
  },
  {
   "cell_type": "code",
   "execution_count": null,
   "id": "b789ff90",
   "metadata": {},
   "outputs": [],
   "source": []
  },
  {
   "cell_type": "code",
   "execution_count": null,
   "id": "4aabd748",
   "metadata": {},
   "outputs": [],
   "source": [
    "def is_armstrong():   \n",
    "    while True:\n",
    "        num = input('Please enter a positive number: ') # this is a str\n",
    "        exp = len(num) # must be str forever\n",
    "        total = 0    # the box where i keep my total\n",
    "\n",
    "        if not num.isdigit(): # checking validity of my inout\n",
    "            print(num, 'is invalid input. Please eneter a positive number.')\n",
    "\n",
    "        elif int(num) >= 0: # just checking if it is an abs number\n",
    "            for i in range(exp): # range(10) it will start 0 and stops at 9\n",
    "                total += int(num[i]) ** exp # filling up my total\n",
    "\n",
    "            if total == int(num):\n",
    "                print(num, 'is an Armstrong number!')\n",
    "                break #stopping my loop\n",
    "            else:\n",
    "                print(num, 'is not an Armstrong number!')\n",
    "                break #stopping my loop"
   ]
  },
  {
   "cell_type": "code",
   "execution_count": null,
   "id": "729780cb",
   "metadata": {},
   "outputs": [],
   "source": [
    "cümle = \"bazen ODUN olmak istemişimdir.\""
   ]
  },
  {
   "cell_type": "code",
   "execution_count": null,
   "id": "43641e16",
   "metadata": {},
   "outputs": [],
   "source": [
    "filter( , cümle)"
   ]
  },
  {
   "cell_type": "code",
   "execution_count": null,
   "id": "4daf7166",
   "metadata": {},
   "outputs": [],
   "source": [
    "def voweler(letter) :\n",
    "    vowels = [\"o\", \"e\", \"i\", \"u\", \"ı\", \"ü\", \"ö\", \"a\"]\n",
    "    \n",
    "    if letter.lower() in vowels :\n",
    "        return True    \n",
    "    else :\n",
    "        return False"
   ]
  },
  {
   "cell_type": "code",
   "execution_count": null,
   "id": "4f58b07b",
   "metadata": {},
   "outputs": [],
   "source": [
    "filtered_vowels = filter(voweler, cümle)"
   ]
  },
  {
   "cell_type": "code",
   "execution_count": null,
   "id": "247b26f3",
   "metadata": {},
   "outputs": [],
   "source": [
    "list(filtered_vowels)"
   ]
  },
  {
   "cell_type": "code",
   "execution_count": null,
   "id": "26105bc9",
   "metadata": {},
   "outputs": [],
   "source": [
    "def önceki(** parametre) :\n",
    "    for x, y in parametre.items() :\n",
    "        print(x, y)"
   ]
  },
  {
   "cell_type": "code",
   "execution_count": null,
   "id": "0331b6de",
   "metadata": {},
   "outputs": [],
   "source": [
    "önceki(a = \"ahmet\", b = \"mehmet\", c = \"selamet\")"
   ]
  },
  {
   "cell_type": "code",
   "execution_count": null,
   "id": "b5ac1737",
   "metadata": {},
   "outputs": [],
   "source": [
    "def gene(x = \"Solomon\", y = \"David\") :\n",
    "    print(x, \"belongs to Generation X\")\n",
    "    print(y, \"belongs to Generation Y\")"
   ]
  },
  {
   "cell_type": "code",
   "execution_count": null,
   "id": "dcda9cf9",
   "metadata": {},
   "outputs": [],
   "source": [
    "dict_gene = {\"y\" : \"Marry\", \"x\" : \"Fred\"}"
   ]
  },
  {
   "cell_type": "code",
   "execution_count": null,
   "id": "16802360",
   "metadata": {},
   "outputs": [],
   "source": [
    "gene(** dict_gene)"
   ]
  },
  {
   "cell_type": "code",
   "execution_count": null,
   "id": "88f80839",
   "metadata": {},
   "outputs": [],
   "source": [
    "gene()"
   ]
  },
  {
   "cell_type": "code",
   "execution_count": null,
   "id": "c346686a",
   "metadata": {},
   "outputs": [],
   "source": [
    "def gene(x, y) :\n",
    "    print(x, \"belongs to Generation X\")\n",
    "    print(y, \"belongs to Generation Y\")"
   ]
  },
  {
   "cell_type": "code",
   "execution_count": null,
   "id": "25c96d31",
   "metadata": {},
   "outputs": [],
   "source": [
    "dict_gene"
   ]
  },
  {
   "cell_type": "code",
   "execution_count": null,
   "id": "5dc729a9",
   "metadata": {},
   "outputs": [],
   "source": [
    "gene(**dict_gene)"
   ]
  },
  {
   "cell_type": "markdown",
   "id": "8bcfd9dd",
   "metadata": {},
   "source": [
    "<img src=\"https://i.pinimg.com/originals/e6/87/61/e687614048a36165dd49b6fb18a12b5d.png\" height = \"100\" width =\"200\" alt = \"izdivac\">"
   ]
  },
  {
   "cell_type": "code",
   "execution_count": null,
   "id": "cde86246",
   "metadata": {},
   "outputs": [],
   "source": [
    "dict_couple = {\"bride\" : [\"mary\", \"bella\", \"linda\", \"emma\"],\n",
    "               \"groom\" : [\"jack\", \"robert\", \"eric\", \"adam\"]}"
   ]
  },
  {
   "cell_type": "code",
   "execution_count": null,
   "id": "f6d50ef7",
   "metadata": {},
   "outputs": [],
   "source": [
    "def muruvvet(bride, groom) :\n",
    "    couple_list = []\n",
    "    for x in zip(bride, groom):\n",
    "        couple_list.append(x)\n",
    "    return couple_list"
   ]
  },
  {
   "cell_type": "code",
   "execution_count": null,
   "id": "d364fc80",
   "metadata": {},
   "outputs": [],
   "source": [
    "muruvvet(** dict_couple)"
   ]
  },
  {
   "cell_type": "code",
   "execution_count": null,
   "id": "8bd10369",
   "metadata": {},
   "outputs": [],
   "source": [
    "def muruvvet_2(bride, groom) :\n",
    "    return [x for x in zip(bride, groom)]"
   ]
  },
  {
   "cell_type": "code",
   "execution_count": null,
   "id": "3b31a003",
   "metadata": {},
   "outputs": [],
   "source": [
    "friends = {\"alfred\" : 44, \"thomas\" : 56, \"emily\" : 22}"
   ]
  },
  {
   "cell_type": "code",
   "execution_count": null,
   "id": "7dd5ad8d",
   "metadata": {},
   "outputs": [],
   "source": [
    "def meaner(alfred, thomas, emily) :\n",
    "    avg = (alfred + thomas + emily)/3\n",
    "    print(\"the average of their ages is : \", avg)"
   ]
  },
  {
   "cell_type": "code",
   "execution_count": null,
   "id": "1695fbd7",
   "metadata": {},
   "outputs": [],
   "source": [
    "meaner(** friends)"
   ]
  },
  {
   "cell_type": "markdown",
   "id": "24de1338",
   "metadata": {},
   "source": [
    "valid paranthesis¶\n",
    "Input        Output\n",
    "--------:    ------:\n",
    "\"()\"         True\n",
    "\"()[]{}\"     True\n",
    "\"(]\"         False\n",
    "\"([)]\"       False\n",
    "\"{[]}\"       True\n",
    "\"\"           True"
   ]
  },
  {
   "cell_type": "code",
   "execution_count": null,
   "id": "73f2740e",
   "metadata": {},
   "outputs": [],
   "source": [
    "# () --> True\n",
    "# ([)] --> False"
   ]
  },
  {
   "cell_type": "code",
   "execution_count": 18,
   "id": "e54a45c7",
   "metadata": {},
   "outputs": [],
   "source": [
    "x = \"[[{({})}]({}))\""
   ]
  },
  {
   "cell_type": "code",
   "execution_count": 19,
   "id": "c6f1a4c6",
   "metadata": {},
   "outputs": [],
   "source": [
    "def isValid(s) :\n",
    "    while \"()\" in s or \"{}\" in s or \"[]\" in s:\n",
    "        s = s.replace(\"()\", \"\").replace(\"[]\", \"\").replace(\"{}\", \"\")\n",
    "    return s == \"\""
   ]
  },
  {
   "cell_type": "code",
   "execution_count": 20,
   "id": "f1eec359",
   "metadata": {},
   "outputs": [
    {
     "data": {
      "text/plain": [
       "'ali+veli'"
      ]
     },
     "execution_count": 20,
     "metadata": {},
     "output_type": "execute_result"
    }
   ],
   "source": [
    "\"ali-veli\".replace(\"-\", \"+\")"
   ]
  },
  {
   "cell_type": "code",
   "execution_count": 21,
   "id": "94f7c429",
   "metadata": {},
   "outputs": [
    {
     "data": {
      "text/plain": [
       "'aliveli'"
      ]
     },
     "execution_count": 21,
     "metadata": {},
     "output_type": "execute_result"
    }
   ],
   "source": [
    "\"ali-veli\".replace(\"-\", \"\")"
   ]
  },
  {
   "cell_type": "code",
   "execution_count": 22,
   "id": "edfa7259",
   "metadata": {},
   "outputs": [
    {
     "data": {
      "text/plain": [
       "False"
      ]
     },
     "execution_count": 22,
     "metadata": {},
     "output_type": "execute_result"
    }
   ],
   "source": [
    "isValid(x)"
   ]
  },
  {
   "cell_type": "code",
   "execution_count": null,
   "id": "0b5095ea",
   "metadata": {},
   "outputs": [],
   "source": []
  },
  {
   "cell_type": "code",
   "execution_count": null,
   "id": "37d898fd",
   "metadata": {},
   "outputs": [],
   "source": []
  },
  {
   "cell_type": "code",
   "execution_count": 33,
   "id": "5f69a908",
   "metadata": {},
   "outputs": [],
   "source": [
    "x = \"[[{({})}]({})]\""
   ]
  },
  {
   "cell_type": "code",
   "execution_count": 36,
   "id": "b73be34b",
   "metadata": {},
   "outputs": [],
   "source": [
    "def isValid(s) :\n",
    "    while \"[]\" in s or \"{}\" in s or \"()\" in s:\n",
    "        s = s.replace(\"()\", \"\").replace(\"[]\", \"\").replace(\"{}\", \"\")\n",
    "    return s == \"\""
   ]
  },
  {
   "cell_type": "code",
   "execution_count": 37,
   "id": "5499af28",
   "metadata": {},
   "outputs": [
    {
     "data": {
      "text/plain": [
       "True"
      ]
     },
     "execution_count": 37,
     "metadata": {},
     "output_type": "execute_result"
    }
   ],
   "source": [
    "isValid(x)"
   ]
  }
 ],
 "metadata": {
  "kernelspec": {
   "display_name": "Python 3 (ipykernel)",
   "language": "python",
   "name": "python3"
  },
  "language_info": {
   "codemirror_mode": {
    "name": "ipython",
    "version": 3
   },
   "file_extension": ".py",
   "mimetype": "text/x-python",
   "name": "python",
   "nbconvert_exporter": "python",
   "pygments_lexer": "ipython3",
   "version": "3.9.6"
  }
 },
 "nbformat": 4,
 "nbformat_minor": 5
}
