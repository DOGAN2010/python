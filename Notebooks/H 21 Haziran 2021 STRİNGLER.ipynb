{
 "cells": [
  {
   "cell_type": "code",
   "execution_count": null,
   "id": "f2da764c",
   "metadata": {},
   "outputs": [],
   "source": []
  },
  {
   "cell_type": "code",
   "execution_count": 1,
   "id": "3bcd58cd",
   "metadata": {},
   "outputs": [
    {
     "name": "stdout",
     "output_type": "stream",
     "text": [
      "bir sayı giriniz :2\n",
      "bir sayı daha giriniz :6\n",
      "26\n"
     ]
    }
   ],
   "source": [
    "x = input(\"bir sayı giriniz :\")\n",
    "y = input(\"bir sayı daha giriniz :\")\n",
    "z = x + y\n",
    "print(z)"
   ]
  },
  {
   "cell_type": "code",
   "execution_count": 2,
   "id": "2bbef36d",
   "metadata": {},
   "outputs": [
    {
     "name": "stdout",
     "output_type": "stream",
     "text": [
      "bir sayı giriniz :2\n",
      "bir sayı daha giriniz :6\n",
      "8\n"
     ]
    }
   ],
   "source": [
    "x = int(input(\"bir sayı giriniz :\")) # input verinen degeri string olarak algılıyor.\n",
    "y = int(input(\"bir sayı daha giriniz :\"))\n",
    "z = x + y\n",
    "print(z)"
   ]
  },
  {
   "cell_type": "code",
   "execution_count": 3,
   "id": "99d005f4",
   "metadata": {},
   "outputs": [
    {
     "data": {
      "text/plain": [
       "0"
      ]
     },
     "execution_count": 3,
     "metadata": {},
     "output_type": "execute_result"
    }
   ],
   "source": [
    "21 % 3 # %:modulus : kalanı verir"
   ]
  },
  {
   "cell_type": "code",
   "execution_count": 4,
   "id": "ad3c15dc",
   "metadata": {},
   "outputs": [
    {
     "data": {
      "text/plain": [
       "3"
      ]
     },
     "execution_count": 4,
     "metadata": {},
     "output_type": "execute_result"
    }
   ],
   "source": [
    "35 % 4"
   ]
  },
  {
   "cell_type": "code",
   "execution_count": 5,
   "id": "f67a6fc9",
   "metadata": {},
   "outputs": [
    {
     "data": {
      "text/plain": [
       "5"
      ]
     },
     "execution_count": 5,
     "metadata": {},
     "output_type": "execute_result"
    }
   ],
   "source": [
    "21//4 # // : flor divıjını : bölümden bölümü verir."
   ]
  },
  {
   "cell_type": "code",
   "execution_count": 6,
   "id": "cc99a488",
   "metadata": {},
   "outputs": [
    {
     "data": {
      "text/plain": [
       "1"
      ]
     },
     "execution_count": 6,
     "metadata": {},
     "output_type": "execute_result"
    }
   ],
   "source": [
    "21%4"
   ]
  },
  {
   "cell_type": "code",
   "execution_count": 7,
   "id": "c5e6b964",
   "metadata": {},
   "outputs": [
    {
     "ename": "IndentationError",
     "evalue": "unexpected indent (Temp/ipykernel_8844/19830049.py, line 3)",
     "output_type": "error",
     "traceback": [
      "\u001b[1;36m  File \u001b[1;32m\"C:\\Users\\DOGAN\\AppData\\Local\\Temp/ipykernel_8844/19830049.py\"\u001b[1;36m, line \u001b[1;32m3\u001b[0m\n\u001b[1;33m    -ceviz\u001b[0m\n\u001b[1;37m    ^\u001b[0m\n\u001b[1;31mIndentationError\u001b[0m\u001b[1;31m:\u001b[0m unexpected indent\n"
     ]
    }
   ],
   "source": [
    "- kadayıf\n",
    "- iç\n",
    "  -ceviz\n",
    "  -fındık\n",
    "  -fıstık\n",
    "-şerbet\n",
    "   -su\n",
    "   -şeker\n",
    "-yumurta"
   ]
  },
  {
   "cell_type": "code",
   "execution_count": 8,
   "id": "fee890dd",
   "metadata": {},
   "outputs": [
    {
     "name": "stdout",
     "output_type": "stream",
     "text": [
      "True\n"
     ]
    }
   ],
   "source": [
    "kadayıf  = True\n",
    "\n",
    "# iç\n",
    "fındık = True\n",
    "fıstık = False\n",
    "ceviz = True\n",
    "\n",
    "# şerbet\n",
    "su = True\n",
    "şeker = True\n",
    "\n",
    "yumurta = True\n",
    "\n",
    "\n",
    "# içecek\n",
    "çay = True\n",
    "limonata = True\n",
    "meşrubat = True\n",
    "yedim = kadayıf and (fıstık or ceviz) and (su and şeker) and yumurta and (çay or limonata or meşrubat)\n",
    "print(yedim)"
   ]
  },
  {
   "cell_type": "code",
   "execution_count": 1,
   "id": "44658582",
   "metadata": {},
   "outputs": [
    {
     "name": "stdout",
     "output_type": "stream",
     "text": [
      "word                   : orenge\n",
      "first letter           : o\n",
      "seconder letter        : r\n",
      "3rd to 5th letters     : ng\n",
      "letter all after 3rd   : enge\n"
     ]
    }
   ],
   "source": [
    "fruit = \"orenge\"\n",
    "\n",
    "print('word                   :' , fruit)\n",
    "print('first letter           :' , fruit[0])\n",
    "print('seconder letter        :', fruit[1])\n",
    "print('3rd to 5th letters     :', fruit[3:5]) #3'den başla 5'e kadar yaz çalışma şekli:[start:stop:step] \n",
    "print(\"letter all after 3rd   :\", fruit[2:])  #2'den başla sonuna kadar yaz"
   ]
  },
  {
   "cell_type": "code",
   "execution_count": null,
   "id": "3a2d1556",
   "metadata": {},
   "outputs": [],
   "source": [
    "orenge # index numaraları\n",
    "012345"
   ]
  },
  {
   "cell_type": "code",
   "execution_count": 2,
   "id": "03b1f409",
   "metadata": {},
   "outputs": [
    {
     "data": {
      "text/plain": [
       "'aru'"
      ]
     },
     "execution_count": 2,
     "metadata": {},
     "output_type": "execute_result"
    }
   ],
   "source": [
    "parça = \"clarusway\"[2:5]\n",
    "parça"
   ]
  },
  {
   "cell_type": "code",
   "execution_count": 3,
   "id": "1750d068",
   "metadata": {},
   "outputs": [
    {
     "data": {
      "text/plain": [
       "'cauwyouu'"
      ]
     },
     "execution_count": 3,
     "metadata": {},
     "output_type": "execute_result"
    }
   ],
   "source": [
    "isim = \"clarusway okulu\"\n",
    "\n",
    "isim[::2]"
   ]
  },
  {
   "cell_type": "code",
   "execution_count": 4,
   "id": "bbd7c04e",
   "metadata": {},
   "outputs": [
    {
     "data": {
      "text/plain": [
       "' '"
      ]
     },
     "execution_count": 4,
     "metadata": {},
     "output_type": "execute_result"
    }
   ],
   "source": [
    "isim[9]\n"
   ]
  },
  {
   "cell_type": "code",
   "execution_count": 5,
   "id": "27af379e",
   "metadata": {},
   "outputs": [
    {
     "data": {
      "text/plain": [
       "'rusw'"
      ]
     },
     "execution_count": 5,
     "metadata": {},
     "output_type": "execute_result"
    }
   ],
   "source": [
    "\n",
    "isim[3:7]"
   ]
  },
  {
   "cell_type": "code",
   "execution_count": 6,
   "id": "dbd0be37",
   "metadata": {},
   "outputs": [
    {
     "data": {
      "text/plain": [
       "'us'"
      ]
     },
     "execution_count": 6,
     "metadata": {},
     "output_type": "execute_result"
    }
   ],
   "source": [
    "isim[4:6]    "
   ]
  },
  {
   "cell_type": "code",
   "execution_count": 7,
   "id": "797099cb",
   "metadata": {},
   "outputs": [
    {
     "data": {
      "text/plain": [
       "'crw u'"
      ]
     },
     "execution_count": 7,
     "metadata": {},
     "output_type": "execute_result"
    }
   ],
   "source": [
    "isim[::3]"
   ]
  },
  {
   "cell_type": "code",
   "execution_count": null,
   "id": "fdcfc55d",
   "metadata": {},
   "outputs": [],
   "source": [
    "NEGATIVE _INDEXING_STRING"
   ]
  },
  {
   "cell_type": "code",
   "execution_count": 8,
   "id": "5b03016e",
   "metadata": {},
   "outputs": [
    {
     "data": {
      "text/plain": [
       "'ran'"
      ]
     },
     "execution_count": 8,
     "metadata": {},
     "output_type": "execute_result"
    }
   ],
   "source": [
    "deg = \"orange\" # 'orange' negativ indexsi sırayla '-6,-5,-4,-3,-2,-1'\n",
    "\n",
    "deg[-5:-2]"
   ]
  },
  {
   "cell_type": "code",
   "execution_count": 9,
   "id": "937529ba",
   "metadata": {},
   "outputs": [
    {
     "data": {
      "text/plain": [
       "'ora'"
      ]
     },
     "execution_count": 9,
     "metadata": {},
     "output_type": "execute_result"
    }
   ],
   "source": [
    "deg[-6:-3]"
   ]
  },
  {
   "cell_type": "code",
   "execution_count": 10,
   "id": "15bec19e",
   "metadata": {},
   "outputs": [
    {
     "name": "stdout",
     "output_type": "stream",
     "text": [
      "ippopotamus\n",
      "hippop\n",
      "hpooau\n",
      "ipp\n",
      "sumatopoppih\n"
     ]
    }
   ],
   "source": [
    "animal = \"hippopotamus\"\n",
    "\n",
    "print(animal[1:])\n",
    "print(animal[:6])\n",
    "print(animal[::2])\n",
    "print(animal[1:7:2])\n",
    "print(animal[::-1])"
   ]
  },
  {
   "cell_type": "code",
   "execution_count": 11,
   "id": "cf18d619",
   "metadata": {},
   "outputs": [
    {
     "name": "stdout",
     "output_type": "stream",
     "text": [
      "tam\n"
     ]
    }
   ],
   "source": [
    "print(animal[-5:-2])"
   ]
  },
  {
   "cell_type": "code",
   "execution_count": 12,
   "id": "20f4583d",
   "metadata": {},
   "outputs": [
    {
     "name": "stdout",
     "output_type": "stream",
     "text": [
      "\n"
     ]
    }
   ],
   "source": [
    "print(animal[-5:-2:-1]) # start:stop:step işlemi ile çalıştığı için -5'den başlar (-1) negatif (ters) yönde -2'ye ulaşamadığından boş sitring verir.\n"
   ]
  },
  {
   "cell_type": "code",
   "execution_count": 13,
   "id": "c0769614",
   "metadata": {},
   "outputs": [
    {
     "name": "stdout",
     "output_type": "stream",
     "text": [
      "\n"
     ]
    }
   ],
   "source": [
    "print(animal[-2:-5]) # sağa doğru-2'den -5'e ulaşamadığından boş string verir.\n"
   ]
  },
  {
   "cell_type": "code",
   "execution_count": 14,
   "id": "0b26712a",
   "metadata": {},
   "outputs": [
    {
     "data": {
      "text/plain": [
       "'hn'"
      ]
     },
     "execution_count": 14,
     "metadata": {},
     "output_type": "execute_result"
    }
   ],
   "source": [
    "city = \"Phoneix\"\n",
    "city[-6:-2:2]"
   ]
  },
  {
   "cell_type": "code",
   "execution_count": 15,
   "id": "2e1c96e1",
   "metadata": {},
   "outputs": [
    {
     "data": {
      "text/plain": [
       "''"
      ]
     },
     "execution_count": 15,
     "metadata": {},
     "output_type": "execute_result"
    }
   ],
   "source": [
    "city[-6:-2:-1]"
   ]
  },
  {
   "cell_type": "code",
   "execution_count": 16,
   "id": "f2f9d6ec",
   "metadata": {},
   "outputs": [
    {
     "data": {
      "text/plain": [
       "'inh'"
      ]
     },
     "execution_count": 16,
     "metadata": {},
     "output_type": "execute_result"
    }
   ],
   "source": [
    "city[-2:-7:-2]"
   ]
  },
  {
   "cell_type": "code",
   "execution_count": 17,
   "id": "122b0149",
   "metadata": {},
   "outputs": [
    {
     "name": "stdout",
     "output_type": "stream",
     "text": [
      "length of the word tomato is : 6\n"
     ]
    }
   ],
   "source": [
    "vegatable = \"tomato\"\n",
    "print('length of the word', vegatable, 'is :', len(vegatable))"
   ]
  },
  {
   "cell_type": "code",
   "execution_count": 18,
   "id": "03f31ef5",
   "metadata": {},
   "outputs": [
    {
     "data": {
      "text/plain": [
       "6"
      ]
     },
     "execution_count": 18,
     "metadata": {},
     "output_type": "execute_result"
    }
   ],
   "source": [
    "var=\"   abc\"\n",
    "len(var)"
   ]
  },
  {
   "cell_type": "code",
   "execution_count": 19,
   "id": "4587e50e",
   "metadata": {},
   "outputs": [
    {
     "data": {
      "text/plain": [
       "12"
      ]
     },
     "execution_count": 19,
     "metadata": {},
     "output_type": "execute_result"
    }
   ],
   "source": [
    "var=\"1,.   abc 23\"\n",
    "len(var)"
   ]
  },
  {
   "cell_type": "code",
   "execution_count": null,
   "id": "150848c0",
   "metadata": {},
   "outputs": [],
   "source": [
    "# STRING_FORMATİNG_WITH_ARITHMETIC_SYNTAX"
   ]
  },
  {
   "cell_type": "code",
   "execution_count": 20,
   "id": "cf598662",
   "metadata": {},
   "outputs": [
    {
     "name": "stdout",
     "output_type": "stream",
     "text": [
      "upper\n",
      "upperupperupper\n",
      "upperupperupper\n",
      "u p p e r\n"
     ]
    }
   ],
   "source": [
    "str_one = \"upper\"\n",
    "str_two = 3 * \"upper\"\n",
    "str_comp = str_one * 3\n",
    "print(str_one)\n",
    "print(str_two)\n",
    "print(str_comp)\n",
    "print(*str_one) # burda * elemanlarına ayırın bu speys değil . bu görsel."
   ]
  },
  {
   "cell_type": "code",
   "execution_count": 21,
   "id": "33125f7a",
   "metadata": {},
   "outputs": [
    {
     "name": "stdout",
     "output_type": "stream",
     "text": [
      "I am angry...joseph@clarusway.com 1453\n"
     ]
    }
   ],
   "source": [
    "string_1 = 'I am angry...'\n",
    "string_2 = '1453'\n",
    "'joseph@clarusway.com'\n",
    "print(string_1 + 'joseph@clarusway.com ' + string_2 )"
   ]
  },
  {
   "cell_type": "code",
   "execution_count": 22,
   "id": "f564dff0",
   "metadata": {},
   "outputs": [
    {
     "name": "stdout",
     "output_type": "stream",
     "text": [
      "I   a m   a n g r y\n"
     ]
    }
   ],
   "source": [
    "sse = 'I am angry'\n",
    "print(* sse)\n"
   ]
  },
  {
   "cell_type": "code",
   "execution_count": 23,
   "id": "e3b138be",
   "metadata": {},
   "outputs": [
    {
     "name": "stdout",
     "output_type": "stream",
     "text": [
      "clarus\tway\n"
     ]
    }
   ],
   "source": [
    "word = \"clarus\"\n",
    "word += \"\\tway\"\n",
    "print(word)"
   ]
  },
  {
   "cell_type": "code",
   "execution_count": 24,
   "id": "0300a898",
   "metadata": {},
   "outputs": [
    {
     "data": {
      "text/plain": [
       "'asiller'"
      ]
     },
     "execution_count": 24,
     "metadata": {},
     "output_type": "execute_result"
    }
   ],
   "source": [
    "word1 = \"asil\"\n",
    "word1 += \"ler\"\n",
    "word1"
   ]
  },
  {
   "cell_type": "code",
   "execution_count": 25,
   "id": "d315c24f",
   "metadata": {},
   "outputs": [
    {
     "data": {
      "text/plain": [
       "'asillerasiller'"
      ]
     },
     "execution_count": 25,
     "metadata": {},
     "output_type": "execute_result"
    }
   ],
   "source": [
    "word1 *= 2\n",
    "word1"
   ]
  },
  {
   "cell_type": "code",
   "execution_count": null,
   "id": "7aa6c95a",
   "metadata": {},
   "outputs": [],
   "source": [
    "# STRING_FORMANTIMG_WITH__STRING.FORMAT()METHOT"
   ]
  },
  {
   "cell_type": "code",
   "execution_count": 26,
   "id": "c35de06f",
   "metadata": {},
   "outputs": [
    {
     "ename": "NameError",
     "evalue": "name 'data1' is not defined",
     "output_type": "error",
     "traceback": [
      "\u001b[1;31m---------------------------------------------------------------------------\u001b[0m",
      "\u001b[1;31mNameError\u001b[0m                                 Traceback (most recent call last)",
      "\u001b[1;32m~\\AppData\\Local\\Temp/ipykernel_8828/946949252.py\u001b[0m in \u001b[0;36m<module>\u001b[1;34m\u001b[0m\n\u001b[1;32m----> 1\u001b[1;33m \u001b[1;34m\"strng {} string {} string\"\u001b[0m\u001b[1;33m.\u001b[0m\u001b[0mformat\u001b[0m\u001b[1;33m(\u001b[0m\u001b[0mdata1\u001b[0m\u001b[1;33m,\u001b[0m \u001b[0mdata2\u001b[0m\u001b[1;33m)\u001b[0m\u001b[1;33m\u001b[0m\u001b[1;33m\u001b[0m\u001b[0m\n\u001b[0m",
      "\u001b[1;31mNameError\u001b[0m: name 'data1' is not defined"
     ]
    }
   ],
   "source": [
    "\"strng {} string {} string\".format(data1, data2)"
   ]
  },
  {
   "cell_type": "code",
   "execution_count": 28,
   "id": "bea55b8f",
   "metadata": {},
   "outputs": [
    {
     "data": {
      "text/plain": [
       "'benim güzelöğrencilerimin maşallahı var mı acaba?'"
      ]
     },
     "execution_count": 28,
     "metadata": {},
     "output_type": "execute_result"
    }
   ],
   "source": [
    "\"benim {}öğrencilerimin maşallahı var {}\".format(\"güzel\", \"mı acaba?\")"
   ]
  },
  {
   "cell_type": "code",
   "execution_count": 29,
   "id": "ab768d13",
   "metadata": {},
   "outputs": [
    {
     "data": {
      "text/plain": [
       "'benim mı acaba? öğrencilerimin maşallahı var güzel'"
      ]
     },
     "execution_count": 29,
     "metadata": {},
     "output_type": "execute_result"
    }
   ],
   "source": [
    "x = \"güzel\"\n",
    "y = \"mı acaba?\"\n",
    "\"benim {} öğrencilerimin maşallahı var {}\".format(y, x)"
   ]
  },
  {
   "cell_type": "code",
   "execution_count": 30,
   "id": "7d239773",
   "metadata": {},
   "outputs": [
    {
     "data": {
      "text/plain": [
       "'benim güzel öğrencilerimin maşallahı var mı acaba?'"
      ]
     },
     "execution_count": 30,
     "metadata": {},
     "output_type": "execute_result"
    }
   ],
   "source": [
    "string = \"benim {} öğrencilerimin maşallahı var {}\"\n",
    "string.format(x,y)"
   ]
  },
  {
   "cell_type": "code",
   "execution_count": 31,
   "id": "9557d76f",
   "metadata": {},
   "outputs": [
    {
     "name": "stdout",
     "output_type": "stream",
     "text": [
      "the amount of orenge we bought is 4 pounds\n"
     ]
    }
   ],
   "source": [
    "fruit = \"orenge\"\n",
    "vegatable = \"tomato\"\n",
    "amount = 4\n",
    "print(\"the amount of {} we bought is {} pounds\".format(fruit,amount))"
   ]
  },
  {
   "cell_type": "code",
   "execution_count": 32,
   "id": "a04e8703",
   "metadata": {},
   "outputs": [
    {
     "name": "stdout",
     "output_type": "stream",
     "text": [
      "california is the most crowded state of the usa\n"
     ]
    }
   ],
   "source": [
    "print(\"{state} is the most {adjective} state of the {country}\".format(state=\"california\",country=\"usa\",adjective=\"crowded\"))"
   ]
  },
  {
   "cell_type": "code",
   "execution_count": 33,
   "id": "b719ee48",
   "metadata": {},
   "outputs": [
    {
     "name": "stdout",
     "output_type": "stream",
     "text": [
      "12-feb-feb\n"
     ]
    }
   ],
   "source": [
    "print(\"{}-{}-{}\".format(\"12\",\"feb\",\"feb\"))"
   ]
  },
  {
   "cell_type": "code",
   "execution_count": 34,
   "id": "db5bd566",
   "metadata": {},
   "outputs": [
    {
     "name": "stdout",
     "output_type": "stream",
     "text": [
      "12-tane-tane\n"
     ]
    }
   ],
   "source": [
    "print(\"{no}-{month}-{month}\".format(no = \"12\", month = \"tane\"))"
   ]
  },
  {
   "cell_type": "code",
   "execution_count": 35,
   "id": "82001c2d",
   "metadata": {},
   "outputs": [
    {
     "name": "stdout",
     "output_type": "stream",
     "text": [
      "I will have started a new job in 6 months\n"
     ]
    }
   ],
   "source": [
    "print(\"{6} {5} {0} {1} {3} {4} {2}\".format(\"a new\", \"job\",\"months\", \"in\", 6, \"have started\", \"I will\"))"
   ]
  },
  {
   "cell_type": "code",
   "execution_count": 36,
   "id": "6ec959a8",
   "metadata": {},
   "outputs": [
    {
     "name": "stdout",
     "output_type": "stream",
     "text": [
      "generosty wins in all circumstance\n"
     ]
    }
   ],
   "source": [
    "phrase = \"{2} {3} {1} {0}\".format(\"circumstance\", \"in all\", \"generosty\", \"wins\")\n",
    "print(phrase)"
   ]
  },
  {
   "cell_type": "code",
   "execution_count": 37,
   "id": "bee86ad5",
   "metadata": {},
   "outputs": [
    {
     "name": "stdout",
     "output_type": "stream",
     "text": [
      "Good teachers know how to bring out the best in students.\n"
     ]
    }
   ],
   "source": [
    "print(\"{9} {7} {1} {10} {3} {2} {5} {8} {6} {0} {4}\".format('in', 'know', 'bring', 'to', 'students.', 'out', 'best', 'teachers', 'the', 'Good', 'how')) \n",
    "# Good teachers know how to bring out the best in students.\" "
   ]
  },
  {
   "cell_type": "code",
   "execution_count": 38,
   "id": "3a97d7be",
   "metadata": {},
   "outputs": [
    {
     "name": "stdout",
     "output_type": "stream",
     "text": [
      "Hi Joseph. You are one of the teachers in the Data Science section.\n"
     ]
    }
   ],
   "source": [
    "name = \"Joseph\"\n",
    "job = \"teachers\"\n",
    "domain = \"Data Science\"\n",
    "message = (\n",
    "     f\"Hi {name}. \"\n",
    "     f\"You are one of the {job} \"\n",
    "     f\"in the {domain} section.\"\n",
    ")\n",
    "print(message)"
   ]
  },
  {
   "cell_type": "code",
   "execution_count": 39,
   "id": "868b3db5",
   "metadata": {},
   "outputs": [
    {
     "name": "stdout",
     "output_type": "stream",
     "text": [
      "Hi Joseph.You are one of the teachers in the Data Science section.\n"
     ]
    }
   ],
   "source": [
    "name = \"Joseph\"\n",
    "job = \"teachers\"\n",
    "domain = \"Data Science\"\n",
    "message = (\n",
    "     f\"Hi {name}.You are one of the {job} \"\n",
    "     f\"in the {domain} section.\"\n",
    ")\n",
    "print(message)"
   ]
  },
  {
   "cell_type": "code",
   "execution_count": 40,
   "id": "3b14880f",
   "metadata": {},
   "outputs": [
    {
     "name": "stdout",
     "output_type": "stream",
     "text": [
      "Hi Joseph. You are one of the teachers in the Data Science section.\n"
     ]
    }
   ],
   "source": [
    "name = \"Joseph\"\n",
    "job = \"teachers\"\n",
    "domain = \"Data Science\"\n",
    "message = f\"Hi {name}. \" \\\n",
    "     f\"You are one of the {job} \" \\\n",
    "     f\"in the {domain} section.\"\n",
    "\n",
    "print(message)"
   ]
  },
  {
   "cell_type": "code",
   "execution_count": 41,
   "id": "b8136c42",
   "metadata": {},
   "outputs": [
    {
     "name": "stdout",
     "output_type": "stream",
     "text": [
      "bugün misafir var. ben gelemeyeceğim.\n"
     ]
    }
   ],
   "source": [
    "veri = \"misafir var.\"\n",
    "data = \"bugün\"\n",
    "sentence = f\"{data} {veri} ben gelemeyeceğim.\"\n",
    "print(sentence)"
   ]
  },
  {
   "cell_type": "code",
   "execution_count": 42,
   "id": "0fa69191",
   "metadata": {},
   "outputs": [
    {
     "name": "stdout",
     "output_type": "stream",
     "text": [
      "My name is Joseph\n"
     ]
    }
   ],
   "source": [
    "my_name = 'JOSEPH'\n",
    "output = f\"My name is {my_name.capitalize()}\"\n",
    "\n",
    "print(output)"
   ]
  },
  {
   "cell_type": "code",
   "execution_count": 43,
   "id": "ef4c7ed3",
   "metadata": {},
   "outputs": [
    {
     "name": "stdout",
     "output_type": "stream",
     "text": [
      "20\n"
     ]
    }
   ],
   "source": [
    "result = f\"{4 * 5}\"\n",
    "\n",
    "print(result)"
   ]
  },
  {
   "cell_type": "code",
   "execution_count": 44,
   "id": "0a588f26",
   "metadata": {},
   "outputs": [
    {
     "name": "stdout",
     "output_type": "stream",
     "text": [
      "The amount of Orange and Tomato we bought are totally 6 pounds\n"
     ]
    }
   ],
   "source": [
    "fruit = 'Orange'\n",
    "vegetable = 'Tomato'\n",
    "amount = 6\n",
    "output = f\"The amount of {fruit} and {vegetable} we bought are totally {amount} pounds\"\n",
    "\n",
    "print(output)"
   ]
  },
  {
   "cell_type": "code",
   "execution_count": 48,
   "id": "7a3b9d20",
   "metadata": {},
   "outputs": [
    {
     "name": "stdout",
     "output_type": "stream",
     "text": [
      "True\n"
     ]
    }
   ],
   "source": [
    "txt = \"Hello, welcome to my world.\"\n",
    "\n",
    "x = txt.endswith(\".\") # endswith()Gerçek yöntemi döndürür belirtilen değerle eşleşirse True, aksi False olarak verir.\n",
    "print(x)"
   ]
  },
  {
   "cell_type": "code",
   "execution_count": null,
   "id": "49b7ade1",
   "metadata": {},
   "outputs": [],
   "source": [
    "# string.endswith(value, start, end)\n",
    "#value\tRequired. The value to check if the string ends with\n",
    "# start\tOptional. An Integer specifying at which position to start the search\n",
    "# end\tOptional. An Integer specifying at which position to end the search"
   ]
  },
  {
   "cell_type": "code",
   "execution_count": 49,
   "id": "87c63011",
   "metadata": {},
   "outputs": [
    {
     "name": "stdout",
     "output_type": "stream",
     "text": [
      "True\n"
     ]
    }
   ],
   "source": [
    "txt = \"Hello, welcome to my world.\"\n",
    "\n",
    "x = txt.endswith(\"my world.\")\n",
    "\n",
    "print(x)"
   ]
  },
  {
   "cell_type": "code",
   "execution_count": 50,
   "id": "b8a177e6",
   "metadata": {},
   "outputs": [
    {
     "name": "stdout",
     "output_type": "stream",
     "text": [
      "False\n"
     ]
    }
   ],
   "source": [
    "txt = \"Hello, welcome to my world.\"\n",
    "\n",
    "x = txt.endswith(\"my world.\", 5, 11)\n",
    "\n",
    "print(x)"
   ]
  },
  {
   "cell_type": "code",
   "execution_count": 51,
   "id": "692996ce",
   "metadata": {},
   "outputs": [
    {
     "name": "stdout",
     "output_type": "stream",
     "text": [
      "True\n"
     ]
    }
   ],
   "source": [
    "txt = \"Hello, welcome to my world.\"\n",
    "\n",
    "x = txt.startswith(\"Hello\") # startswith()Gerçek yöntemi döndürür belirtilen değerle dizesinin başladığında True, aksi False değer verir.\n",
    "\n",
    "print(x)"
   ]
  },
  {
   "cell_type": "code",
   "execution_count": 52,
   "id": "d953ee43",
   "metadata": {},
   "outputs": [
    {
     "name": "stdout",
     "output_type": "stream",
     "text": [
      "True\n"
     ]
    }
   ],
   "source": [
    "txt = \"Hello, welcome to my world.\"\n",
    "\n",
    "x = txt.startswith(\"wel\", 7, 20)\n",
    "\n",
    "print(x)"
   ]
  },
  {
   "cell_type": "code",
   "execution_count": null,
   "id": "651679ed",
   "metadata": {},
   "outputs": [],
   "source": []
  },
  {
   "cell_type": "code",
   "execution_count": null,
   "id": "7a00878c",
   "metadata": {},
   "outputs": [],
   "source": []
  },
  {
   "cell_type": "code",
   "execution_count": null,
   "id": "e6f1bc73",
   "metadata": {},
   "outputs": [],
   "source": []
  },
  {
   "cell_type": "code",
   "execution_count": null,
   "id": "7e5b6e3f",
   "metadata": {},
   "outputs": [],
   "source": []
  },
  {
   "cell_type": "code",
   "execution_count": 56,
   "id": "23fd1300",
   "metadata": {},
   "outputs": [
    {
     "name": "stdout",
     "output_type": "stream",
     "text": [
      "28\n",
      "True\n",
      "False\n",
      "False\n"
     ]
    }
   ],
   "source": [
    "phrase = \"myemailaddress@clarusway.com\"\n",
    "\n",
    "print(len(phrase))\n",
    "print(phrase.startswith(\"@\", 14))\n",
    "print(phrase.startswith(\".\", 1, 28))\n",
    "print(phrase.endswith(\".\", 15, 24))"
   ]
  },
  {
   "cell_type": "code",
   "execution_count": null,
   "id": "c5a9da5b",
   "metadata": {},
   "outputs": [],
   "source": []
  }
 ],
 "metadata": {
  "kernelspec": {
   "display_name": "Python 3 (ipykernel)",
   "language": "python",
   "name": "python3"
  },
  "language_info": {
   "codemirror_mode": {
    "name": "ipython",
    "version": 3
   },
   "file_extension": ".py",
   "mimetype": "text/x-python",
   "name": "python",
   "nbconvert_exporter": "python",
   "pygments_lexer": "ipython3",
   "version": "3.9.6"
  }
 },
 "nbformat": 4,
 "nbformat_minor": 5
}
