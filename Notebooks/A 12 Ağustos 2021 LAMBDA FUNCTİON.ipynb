{
 "cells": [
  {
   "cell_type": "code",
   "execution_count": null,
   "id": "0589b67d",
   "metadata": {},
   "outputs": [],
   "source": [
    "def square(x):   # lambda x:x**2 şeklinde yazılabiliyor\n",
    "    return x**2"
   ]
  },
  {
   "cell_type": "code",
   "execution_count": null,
   "id": "bfe6b899",
   "metadata": {},
   "outputs": [],
   "source": [
    "lambda x:x**2"
   ]
  },
  {
   "cell_type": "code",
   "execution_count": null,
   "id": "dbb003ac",
   "metadata": {},
   "outputs": [],
   "source": [
    "lambda x, y: (x+y)/2  # takes two numbers, returns the result"
   ]
  },
  {
   "cell_type": "code",
   "execution_count": null,
   "id": "389767fe",
   "metadata": {},
   "outputs": [],
   "source": [
    "lambda x: 'odd' if x % 2 != 0 else 'even'"
   ]
  },
  {
   "cell_type": "markdown",
   "id": "5c22ccda",
   "metadata": {},
   "source": [
    "https://docs.google.com/uc?id=13zVXUUSuWrjF-v9N4F3tvKvzuTpewSb6"
   ]
  },
  {
   "cell_type": "markdown",
   "id": "1fd8d724",
   "metadata": {},
   "source": [
    "Lambda'nın en önemli avantajları ve kullanımları şunlardır:\n",
    "\n",
    "Parantez kullanarak kendi sözdizimi ile kullanabilirsiniz ,\n",
    "Ayrıca bir değişkene atayabilirsiniz ,\n",
    "Birkaç yerleşik işlevde kullanabilirsiniz,\n",
    "Kullanıcı tanımlı işlevler ( def) içinde yararlı olabilir ."
   ]
  },
  {
   "cell_type": "code",
   "execution_count": null,
   "id": "c4e6457a",
   "metadata": {},
   "outputs": [],
   "source": [
    "(lambda x: x**2)(2)  # squares '2'"
   ]
  },
  {
   "cell_type": "code",
   "execution_count": null,
   "id": "7c7ae941",
   "metadata": {},
   "outputs": [],
   "source": [
    "print((lambda x: x**2)(2))"
   ]
  },
  {
   "cell_type": "code",
   "execution_count": null,
   "id": "ce372e94",
   "metadata": {},
   "outputs": [],
   "source": [
    "print((lambda x, y: (x+y)/2)(3, 5))  # takes two int, returns mean of them"
   ]
  },
  {
   "cell_type": "code",
   "execution_count": null,
   "id": "d12e5c59",
   "metadata": {},
   "outputs": [],
   "source": [
    "average = (lambda x, y: (x+y)/2)(3, 5) \n",
    "print(average)"
   ]
  },
  {
   "cell_type": "code",
   "execution_count": null,
   "id": "0fcff9a5",
   "metadata": {},
   "outputs": [],
   "source": [
    "average = lambda x, y: (x+y)/2\n",
    "print(average(3, 5))  # we call"
   ]
  },
  {
   "cell_type": "code",
   "execution_count": 1,
   "id": "8c9ba211",
   "metadata": {
    "scrolled": true
   },
   "outputs": [
    {
     "name": "stdout",
     "output_type": "stream",
     "text": [
      "ali\n"
     ]
    }
   ],
   "source": [
    "print((lambda x : x[::-1])(\"ila\"))"
   ]
  },
  {
   "cell_type": "code",
   "execution_count": 7,
   "id": "fe365567",
   "metadata": {
    "scrolled": true
   },
   "outputs": [
    {
     "name": "stdout",
     "output_type": "stream",
     "text": [
      "1 : odd\n",
      "2 : even\n",
      "3 : odd\n",
      "4 : even\n"
     ]
    }
   ],
   "source": [
    "for i in [1, 2, 3, 4]:\n",
    "    print(i,\":\",(lambda x:\"even\" if i%2==0 else \"odd\")(i))"
   ]
  },
  {
   "cell_type": "code",
   "execution_count": 2,
   "id": "a68312ab",
   "metadata": {},
   "outputs": [],
   "source": [
    "iterable = \"clarusway\""
   ]
  },
  {
   "cell_type": "code",
   "execution_count": 11,
   "id": "51108bfd",
   "metadata": {},
   "outputs": [],
   "source": [
    "reverser =(lambda x : x[::-1])(iterable)"
   ]
  },
  {
   "cell_type": "code",
   "execution_count": 12,
   "id": "4723d027",
   "metadata": {},
   "outputs": [
    {
     "name": "stdout",
     "output_type": "stream",
     "text": [
      "yawsuralc\n"
     ]
    }
   ],
   "source": [
    "print(reverser)"
   ]
  },
  {
   "cell_type": "code",
   "execution_count": 11,
   "id": "1b02a28e",
   "metadata": {},
   "outputs": [
    {
     "name": "stdout",
     "output_type": "stream",
     "text": [
      "y a w s u r a l c\n"
     ]
    }
   ],
   "source": [
    "rever =(lambda x : reversed(x))(iterable)\n",
    "print(*rever)"
   ]
  },
  {
   "cell_type": "markdown",
   "id": "702f9842",
   "metadata": {},
   "source": [
    "map()İşlev içinde Lambda :\n",
    "map() verilen bir yinelenebilir nesnenin list, tuple, vb. gibi her bir öğesine verilen işlevi uyguladıktan sonra çıktıların bir listesini döndürür.\n",
    "\n",
    "The basic formula syntax is : map(function, iterable)"
   ]
  },
  {
   "cell_type": "code",
   "execution_count": null,
   "id": "6ffb53e1",
   "metadata": {},
   "outputs": [],
   "source": [
    "map()"
   ]
  },
  {
   "cell_type": "code",
   "execution_count": 12,
   "id": "3a700185",
   "metadata": {},
   "outputs": [
    {
     "name": "stdout",
     "output_type": "stream",
     "text": [
      "<class 'map'>\n",
      "[1, 4, 9, 16, 25]\n",
      "[1, 4, 9, 16, 25]\n"
     ]
    }
   ],
   "source": [
    "iterable = [1, 2, 3, 4, 5]\n",
    "map(lambda x:x**2, iterable)\n",
    "result = map(lambda x:x**2, iterable)\n",
    "print(type(result))  # it's a map type\n",
    "\n",
    "print(list(result))  # we've converted it to list type to print\n",
    "\n",
    "print(list(map(lambda x:x**2, iterable)))  # you can print directly"
   ]
  },
  {
   "cell_type": "code",
   "execution_count": 13,
   "id": "61fd138e",
   "metadata": {},
   "outputs": [
    {
     "name": "stdout",
     "output_type": "stream",
     "text": [
      "[1, 4, 9, 16, 25]\n"
     ]
    }
   ],
   "source": [
    "def square(n):   # at least two additional lines of code\n",
    "    return n**2  \n",
    "  \n",
    "iterable = [1, 2, 3, 4, 5]\n",
    "result = map(square, iterable) \n",
    "print(list(result))"
   ]
  },
  {
   "cell_type": "code",
   "execution_count": 1,
   "id": "edbd0908",
   "metadata": {},
   "outputs": [
    {
     "name": "stdout",
     "output_type": "stream",
     "text": [
      "['one', 'six', 'ten', 'two']\n"
     ]
    }
   ],
   "source": [
    "letter1 = ['o', 's', 't', 't']\n",
    "letter2 = ['n', 'i', 'e', 'w']\n",
    "letter3 = ['e', 'x', 'n', 'o']\n",
    "numbers = map(lambda x, y, z: x+y+z, letter1, letter2, letter3)\n",
    "\n",
    "print(list(numbers))"
   ]
  },
  {
   "cell_type": "code",
   "execution_count": 17,
   "id": "b019aa98",
   "metadata": {},
   "outputs": [],
   "source": [
    "def square(n):\n",
    "    return n**2"
   ]
  },
  {
   "cell_type": "code",
   "execution_count": 18,
   "id": "d117bfe7",
   "metadata": {},
   "outputs": [],
   "source": [
    "rakamlar = [1, 2, 3, 4, 5]"
   ]
  },
  {
   "cell_type": "code",
   "execution_count": 19,
   "id": "8b92b1d5",
   "metadata": {},
   "outputs": [],
   "source": [
    "result = map(square, rakamlar)"
   ]
  },
  {
   "cell_type": "code",
   "execution_count": 20,
   "id": "e755b5ec",
   "metadata": {},
   "outputs": [
    {
     "name": "stdout",
     "output_type": "stream",
     "text": [
      "1\n",
      "4\n",
      "9\n",
      "16\n",
      "25\n"
     ]
    }
   ],
   "source": [
    "for i in result :\n",
    "    print(i)"
   ]
  },
  {
   "cell_type": "code",
   "execution_count": 21,
   "id": "739cf870",
   "metadata": {},
   "outputs": [
    {
     "name": "stdout",
     "output_type": "stream",
     "text": [
      "[]\n"
     ]
    }
   ],
   "source": [
    "print(list(result))"
   ]
  },
  {
   "cell_type": "code",
   "execution_count": 19,
   "id": "fe7cd732",
   "metadata": {},
   "outputs": [
    {
     "name": "stdout",
     "output_type": "stream",
     "text": [
      "[6.0, 6.0, 6.0, 6.0]\n"
     ]
    }
   ],
   "source": [
    "nums1 =[9,6,7,4]\n",
    "nums2 = [3,6,5,8]\n",
    "ort = map(lambda x,y : (x +y)/2, nums1,nums2)\n",
    "print(list(ort))"
   ]
  },
  {
   "cell_type": "code",
   "execution_count": 24,
   "id": "08a11885",
   "metadata": {},
   "outputs": [
    {
     "name": "stdout",
     "output_type": "stream",
     "text": [
      "[13, 20, 14]\n"
     ]
    }
   ],
   "source": [
    "kelimeler = [\"ali veli deli\", \"mehmet ağanın kuzeni\", \"cemilin-bacısı\"]\n",
    "uzunluk = map(lambda x : len(x), kelimeler)\n",
    "print(list(uzunluk))"
   ]
  },
  {
   "cell_type": "code",
   "execution_count": 1,
   "id": "528c2b3f",
   "metadata": {},
   "outputs": [
    {
     "data": {
      "text/plain": [
       "[13, 20, 14]"
      ]
     },
     "execution_count": 1,
     "metadata": {},
     "output_type": "execute_result"
    }
   ],
   "source": [
    "kelimeler = [\"ali veli deli\", \"mehmet ağanın kuzeni\", \"cemilin-bacısı\"]\n",
    "list(map(len, kelimeler))"
   ]
  },
  {
   "cell_type": "code",
   "execution_count": 23,
   "id": "97bebe87",
   "metadata": {
    "scrolled": true
   },
   "outputs": [
    {
     "data": {
      "text/plain": [
       "[[' ', ' ', 'a', 'd', 'e', 'e', 'i', 'i', 'i', 'l', 'l', 'l', 'v'],\n",
       " [' ',\n",
       "  ' ',\n",
       "  'a',\n",
       "  'a',\n",
       "  'e',\n",
       "  'e',\n",
       "  'e',\n",
       "  'h',\n",
       "  'i',\n",
       "  'k',\n",
       "  'm',\n",
       "  'm',\n",
       "  'n',\n",
       "  'n',\n",
       "  'n',\n",
       "  't',\n",
       "  'u',\n",
       "  'z',\n",
       "  'ğ',\n",
       "  'ı'],\n",
       " ['-', 'a', 'b', 'c', 'c', 'e', 'i', 'i', 'l', 'm', 'n', 's', 'ı', 'ı']]"
      ]
     },
     "execution_count": 23,
     "metadata": {},
     "output_type": "execute_result"
    }
   ],
   "source": [
    "list(map(sorted, kelimeler))"
   ]
  },
  {
   "cell_type": "code",
   "execution_count": 26,
   "id": "fb7b203e",
   "metadata": {},
   "outputs": [
    {
     "name": "stdout",
     "output_type": "stream",
     "text": [
      "i love you\n",
      "you ate much\n",
      "he works hard\n"
     ]
    }
   ],
   "source": [
    "words1 = [\"you\", \"much\", \"hard\"]\n",
    "words2 = [\"i\", \"you\", \"he\"]\n",
    "words3 = [\"love\", \"ate\", \"works\"]\n",
    "\n",
    "sentence = map(lambda x, y, z : y + \" \" + z + \" \" + x , words1, words2, words3)\n",
    "for i in sentence:\n",
    "    print(i)"
   ]
  },
  {
   "cell_type": "markdown",
   "id": "f3015e46",
   "metadata": {},
   "source": [
    "### FİLTER"
   ]
  },
  {
   "cell_type": "markdown",
   "id": "f33367ab",
   "metadata": {},
   "source": [
    "Lambda within filter() function :\n",
    "filter() filters the given sequence (iterable objects) with the help of a function (lambda) that tests each element in the sequence to be true or not.\n",
    "\n",
    "The basic formula syntax is : filter(function, sequence)\n",
    "\n",
    "Note that filter() filters each element in the iterable object, depending on whether the function's result is True or False.\n"
   ]
  },
  {
   "cell_type": "code",
   "execution_count": 11,
   "id": "d5f8df03",
   "metadata": {},
   "outputs": [
    {
     "name": "stdout",
     "output_type": "stream",
     "text": [
      "<class 'filter'>\n",
      "Even numbers are : [0, 2, 4, 6, 8]\n"
     ]
    }
   ],
   "source": [
    "first_ten = [0, 1, 2, 3, 4, 5, 6, 7, 8, 9] \n",
    "  \n",
    "even = filter(lambda x:x%2==0, first_ten) \n",
    "print(type(even))  # it's 'filter' type, \n",
    "                   # in order to print the result,\n",
    "                   # we'd better convert it into the list type\n",
    "\n",
    "print('Even numbers are :', list(even))"
   ]
  },
  {
   "cell_type": "code",
   "execution_count": 12,
   "id": "bbaa3b35",
   "metadata": {},
   "outputs": [
    {
     "name": "stdout",
     "output_type": "stream",
     "text": [
      "Vowels are : ['a', 'e', 'i']\n"
     ]
    }
   ],
   "source": [
    "vowel_list = ['a', 'e', 'i', 'o', 'u']\n",
    "first_ten = ['a', 'b', 'c', 'd', 'e', 'f', 'g', 'h', 'i', 'j']\n",
    "  \n",
    "vowels = filter(lambda x: True if x in vowel_list else False, first_ten) \n",
    "\n",
    "print('Vowels are :', list(vowels))"
   ]
  },
  {
   "cell_type": "code",
   "execution_count": 26,
   "id": "c022eddf",
   "metadata": {},
   "outputs": [
    {
     "name": "stdout",
     "output_type": "stream",
     "text": [
      "['swim', 'me', 'kiwi']\n"
     ]
    }
   ],
   "source": [
    "words = [\"apple\", \"swim\", \"clock\", \"me\", \"kiwi\", \"banana\"]\n",
    "  \n",
    "kücük = filter(lambda x:len(x)<5, words) \n",
    "\n",
    "print(list(kücük))"
   ]
  },
  {
   "cell_type": "code",
   "execution_count": 13,
   "id": "9b6c7dd6",
   "metadata": {},
   "outputs": [
    {
     "name": "stdout",
     "output_type": "stream",
     "text": [
      "<filter object at 0x00000197464F90A0>\n"
     ]
    }
   ],
   "source": [
    "first_ten = ['a', 'b', 'c', 'd', 'e', 'f', 'g', 'h', 'i', 'j']\n",
    "vowels = [\"a\", \"e\", \"i\", \"u\",\"o\"]\n",
    "filter_vowels = filter(lambda x: x in vowels, first_ten) \n",
    "print(filter_vowels)"
   ]
  },
  {
   "cell_type": "code",
   "execution_count": 14,
   "id": "541aa452",
   "metadata": {},
   "outputs": [
    {
     "name": "stdout",
     "output_type": "stream",
     "text": [
      "a e i\n"
     ]
    }
   ],
   "source": [
    "print(*filter_vowels)"
   ]
  },
  {
   "cell_type": "code",
   "execution_count": 15,
   "id": "0a0fdd63",
   "metadata": {},
   "outputs": [
    {
     "name": "stdout",
     "output_type": "stream",
     "text": [
      "c d e f g h j\n"
     ]
    }
   ],
   "source": [
    "first_ten = ['a', 'b', 'c', 'd', 'e', 'f', 'g', 'h', 'i', 'j']\n",
    "vowels = [\"a\", \"b\", \"i\", \"u\",\"o\"]\n",
    "filter_vowels = filter(lambda x:x not in vowels, first_ten) \n",
    "print(*filter_vowels)"
   ]
  },
  {
   "cell_type": "code",
   "execution_count": 16,
   "id": "959363ab",
   "metadata": {},
   "outputs": [],
   "source": [
    "vowels = [\"a\", \"e\", \"i\", \"u\", \"o\"]"
   ]
  },
  {
   "cell_type": "code",
   "execution_count": 17,
   "id": "991f811c",
   "metadata": {},
   "outputs": [
    {
     "data": {
      "text/plain": [
       "False"
      ]
     },
     "execution_count": 17,
     "metadata": {},
     "output_type": "execute_result"
    }
   ],
   "source": [
    "\"c\" in vowels"
   ]
  },
  {
   "cell_type": "code",
   "execution_count": 18,
   "id": "b36011bc",
   "metadata": {},
   "outputs": [
    {
     "data": {
      "text/plain": [
       "True"
      ]
     },
     "execution_count": 18,
     "metadata": {},
     "output_type": "execute_result"
    }
   ],
   "source": [
    "'e' in vowels"
   ]
  },
  {
   "cell_type": "code",
   "execution_count": null,
   "id": "1fb01af5",
   "metadata": {},
   "outputs": [],
   "source": []
  },
  {
   "cell_type": "code",
   "execution_count": 19,
   "id": "69a0fc3d",
   "metadata": {},
   "outputs": [
    {
     "data": {
      "text/plain": [
       "True"
      ]
     },
     "execution_count": 19,
     "metadata": {},
     "output_type": "execute_result"
    }
   ],
   "source": [
    "\"a\" in vowels"
   ]
  },
  {
   "cell_type": "code",
   "execution_count": 20,
   "id": "432c7729",
   "metadata": {
    "scrolled": true
   },
   "outputs": [
    {
     "data": {
      "text/plain": [
       "False"
      ]
     },
     "execution_count": 20,
     "metadata": {},
     "output_type": "execute_result"
    }
   ],
   "source": [
    "\"b\" in vowels"
   ]
  },
  {
   "cell_type": "markdown",
   "id": "9301e8a6",
   "metadata": {},
   "source": [
    "### show me my way, please! <img src=\"https://www.robotsepeti.com/nao-insansi-robot-platformu-v6-egitmen-educator-versiyonu-insansi-robot-softbank-robotics-9282-48-B.png\" height = \"100\" width=\"300\" alt=\"Robot\">"
   ]
  },
  {
   "cell_type": "code",
   "execution_count": null,
   "id": "ce0fea31",
   "metadata": {},
   "outputs": [],
   "source": [
    "C = [\"right 20\", \"right 30\", \"left 50\", \"up 10\", \"down 20\"]"
   ]
  },
  {
   "cell_type": "code",
   "execution_count": null,
   "id": "2ca46eca",
   "metadata": {},
   "outputs": [],
   "source": [
    "# [0, -10]"
   ]
  },
  {
   "cell_type": "code",
   "execution_count": null,
   "id": "a1586f52",
   "metadata": {},
   "outputs": [],
   "source": [
    "x = y = 0\n",
    "\n",
    "for i in range(len(C)) :\n",
    "    if C[i].startswith(\"r\") : x = x + int(C[i].split()[1])\n",
    "    elif C[i].startswith(\"l\") : x = x - int(C[i].split()[1])\n",
    "    elif C[i].startswith(\"u\") : y = y + int(C[i].split()[1])\n",
    "    elif C[i].startswith(\"d\") : y = y - int(C[i].split()[1])\n",
    "        \n",
    "[x, y]"
   ]
  },
  {
   "cell_type": "code",
   "execution_count": null,
   "id": "4f52e628",
   "metadata": {},
   "outputs": [],
   "source": [
    "int(C[0].split()[1])"
   ]
  },
  {
   "cell_type": "code",
   "execution_count": null,
   "id": "f5a89dc8",
   "metadata": {},
   "outputs": [],
   "source": [
    "def modular_function(n):\n",
    "    dönüş lambda x: x ** n\n",
    "    \n",
    "power_of_2 = modular_function(2) # def'den türetilen ilk alt işlev\n",
    "power_of_3 = modular_function(3) # def'den türetilen ikinci alt işlev\n",
    "power_of_4 = modular_function(4) # def'ten türetilen üçüncü alt işlev\n",
    "\n",
    "print(power_of_2(2)) # 2 üzeri 2\n",
    "print(power_of_3(2)) # 2 üzeri 3\n",
    "print(power_of_4(2)) # 2 üzeri 4"
   ]
  },
  {
   "cell_type": "code",
   "execution_count": 1,
   "id": "db8f5c54",
   "metadata": {},
   "outputs": [],
   "source": [
    "def repeater(n):\n",
    "    return lambda x : x * n"
   ]
  },
  {
   "cell_type": "code",
   "execution_count": 2,
   "id": "87e040af",
   "metadata": {},
   "outputs": [
    {
     "data": {
      "text/plain": [
       "'sizi çok özledim.sizi çok özledim.sizi çok özledim.sizi çok özledim.sizi çok özledim.'"
      ]
     },
     "execution_count": 2,
     "metadata": {},
     "output_type": "execute_result"
    }
   ],
   "source": [
    "repeater_5 = repeater(5)\n",
    "repeater_5(\"sizi çok özledim.\")"
   ]
  },
  {
   "cell_type": "code",
   "execution_count": 1,
   "id": "aefba155",
   "metadata": {},
   "outputs": [
    {
     "name": "stdout",
     "output_type": "stream",
     "text": [
      "alex alex \n",
      "lara lara lara \n",
      "linda linda linda linda \n"
     ]
    }
   ],
   "source": [
    "def repeater(n):\n",
    "    return lambda x: x * n\n",
    "    \n",
    "repeat_2_times = repeater(2)  # repeats 2 times\n",
    "repeat_3_times = repeater(3)  # repeats 3 times\n",
    "repeat_4_times = repeater(4)  # repeats 4 times\n",
    "\n",
    "print(repeat_2_times('alex '))\n",
    "print(repeat_3_times('lara '))\n",
    "print(repeat_4_times('linda '))"
   ]
  },
  {
   "cell_type": "code",
   "execution_count": null,
   "id": "696ae0ad",
   "metadata": {},
   "outputs": [],
   "source": []
  },
  {
   "cell_type": "code",
   "execution_count": 1,
   "id": "5cd76a38",
   "metadata": {},
   "outputs": [
    {
     "name": "stdout",
     "output_type": "stream",
     "text": [
      "hello :)\n"
     ]
    }
   ],
   "source": [
    "def smile(emoji):\n",
    "    return lambda message : print(message, emoji)\n",
    "    \n",
    "my_smile = smile(\":)\") \n",
    "my_smile(\"hello\")\n"
   ]
  },
  {
   "cell_type": "code",
   "execution_count": 2,
   "id": "0770e3f5",
   "metadata": {},
   "outputs": [
    {
     "data": {
      "text/plain": [
       "2"
      ]
     },
     "execution_count": 2,
     "metadata": {},
     "output_type": "execute_result"
    }
   ],
   "source": [
    "def equal(a, b, c):\n",
    "    numbers = [a, b, c]\n",
    "\n",
    "    res = numbers.count(max(numbers, key = numbers.count))\n",
    "    if res > 1 :\n",
    "        return res\n",
    "    else :\n",
    "        return 0\n",
    "equal(1, 1, 3)"
   ]
  },
  {
   "cell_type": "code",
   "execution_count": 2,
   "id": "b518fd62",
   "metadata": {},
   "outputs": [
    {
     "data": {
      "text/plain": [
       "3"
      ]
     },
     "execution_count": 2,
     "metadata": {},
     "output_type": "execute_result"
    }
   ],
   "source": [
    "def equal(*arg):\n",
    "    numbers = list(arg)\n",
    "\n",
    "    res = numbers.count(max(numbers, key = numbers.count))\n",
    "    if res > 1 :\n",
    "        return res\n",
    "    else :\n",
    "        return 0\n",
    "equal(1, 1, 3, 1, 5)"
   ]
  },
  {
   "cell_type": "code",
   "execution_count": null,
   "id": "97ef0514",
   "metadata": {},
   "outputs": [],
   "source": [
    "equalabmda = lambda x, y, z : [x, y, z].count(max([x, y, z], key = [x, y, z].count))"
   ]
  },
  {
   "cell_type": "code",
   "execution_count": null,
   "id": "358627bd",
   "metadata": {},
   "outputs": [],
   "source": [
    "# res if res > 1 else 0"
   ]
  },
  {
   "cell_type": "code",
   "execution_count": null,
   "id": "c056e99a",
   "metadata": {},
   "outputs": [],
   "source": [
    "equalabmda = lambda x, y, z : [x, y, z].count(max([x, y, z], key = [x, y, z].count))\\\n",
    "if [x, y, z].count(max([x, y, z], key = [x, y, z].count)) > 1 else 0"
   ]
  },
  {
   "cell_type": "code",
   "execution_count": null,
   "id": "af846839",
   "metadata": {},
   "outputs": [],
   "source": [
    "1 if True else 0"
   ]
  },
  {
   "cell_type": "code",
   "execution_count": null,
   "id": "ed4aa59e",
   "metadata": {},
   "outputs": [],
   "source": [
    "# body_if if condition else body_else\n"
   ]
  },
  {
   "cell_type": "code",
   "execution_count": null,
   "id": "2d04f114",
   "metadata": {},
   "outputs": [],
   "source": [
    "equalabmda(1,4,4)"
   ]
  },
  {
   "cell_type": "code",
   "execution_count": null,
   "id": "c8708578",
   "metadata": {},
   "outputs": [],
   "source": [
    "equalabmdaa = lambda *x : list(x).count(max(list(x), key = list(x).count))\\\n",
    "if list(x).count(max(list(x), key = list(x).count)) > 1 else 0"
   ]
  },
  {
   "cell_type": "code",
   "execution_count": null,
   "metadata": {},
   "outputs": [],
   "source": [
    "equalabmdaa(1,2,2,2,4)"
   ]
  },
  {
   "cell_type": "code",
   "execution_count": null,
   "id": "9dde7224",
   "metadata": {},
   "outputs": [],
   "source": [
    "function_generator()"
   ]
  },
  {
   "cell_type": "code",
   "execution_count": null,
   "id": "cc6e0162",
   "metadata": {},
   "outputs": [],
   "source": [
    "myPrint() = function_generator(print)\n",
    "myMax() = function_generator(max)\n",
    "myBool() = function_generator(bool)\n",
    "mySorted() = function_generator(sorted)"
   ]
  },
  {
   "cell_type": "code",
   "execution_count": null,
   "id": "511d247d",
   "metadata": {},
   "outputs": [],
   "source": [
    "def function_generator(function) :\n",
    "    return lambda x : function(x)"
   ]
  },
  {
   "cell_type": "code",
   "execution_count": null,
   "id": "1aa157a7",
   "metadata": {},
   "outputs": [],
   "source": [
    "(lambda x : print(x))(\"beni yazdır\")"
   ]
  },
  {
   "cell_type": "code",
   "execution_count": null,
   "id": "8fc081f7",
   "metadata": {},
   "outputs": [],
   "source": [
    "(lambda x : max(x))([1,2,34])"
   ]
  },
  {
   "cell_type": "code",
   "execution_count": null,
   "metadata": {},
   "outputs": [],
   "source": [
    "(lambda x : bool(x))(\"beni yazdır\")"
   ]
  },
  {
   "cell_type": "code",
   "execution_count": null,
   "id": "53f5bbba",
   "metadata": {},
   "outputs": [],
   "source": [
    "myPrint(\"artık istediğini yazdır\")"
   ]
  },
  {
   "cell_type": "code",
   "execution_count": null,
   "metadata": {},
   "outputs": [],
   "source": [
    "myBool = function_generator(bool)"
   ]
  },
  {
   "cell_type": "code",
   "execution_count": null,
   "id": "89514fae",
   "metadata": {},
   "outputs": [],
   "source": [
    "myBool(\"\")"
   ]
  },
  {
   "cell_type": "code",
   "execution_count": null,
   "metadata": {},
   "outputs": [],
   "source": []
  },
  {
   "cell_type": "code",
   "execution_count": null,
   "metadata": {},
   "outputs": [],
   "source": []
  }
 ],
 "metadata": {
  "interpreter": {
   "hash": "4f77006a7ea4363e7f455dab2a4eac849c4d183e0f3df07af1fa2c4918595da7"
  },
  "kernelspec": {
   "display_name": "Python 3 (ipykernel)",
   "language": "python",
   "name": "python3"
  },
  "language_info": {
   "codemirror_mode": {
    "name": "ipython",
    "version": 3
   },
   "file_extension": ".py",
   "mimetype": "text/x-python",
   "name": "python",
   "nbconvert_exporter": "python",
   "pygments_lexer": "ipython3",
   "version": "3.10.2"
  }
 },
 "nbformat": 4,
 "nbformat_minor": 5
}
