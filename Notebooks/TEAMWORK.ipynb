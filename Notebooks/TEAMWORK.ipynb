{
 "cells": [
  {
   "cell_type": "markdown",
   "id": "e4fff064",
   "metadata": {},
   "source": [
    "# teamwork 5"
   ]
  },
  {
   "cell_type": "code",
   "execution_count": null,
   "id": "0241cadb",
   "metadata": {},
   "outputs": [],
   "source": [
    "count, fruit, price = (2, 'apple', 3.5)"
   ]
  },
  {
   "cell_type": "code",
   "execution_count": null,
   "id": "994b13b7",
   "metadata": {},
   "outputs": [],
   "source": [
    "college_years = ['Freshman', 'Sophomore', 'Junior', 'Senior']\n",
    "print(list(enumerate(college_years, 2019)))\n"
   ]
  },
  {
   "cell_type": "markdown",
   "id": "9a647773",
   "metadata": {},
   "source": [
    "TASK : Given the following three list, how would you create a new list that matches the desired output printed\n",
    "below in Python? # Aşağıdaki üç liste göz önüne alındığında, yazdırılan istenen çıktıyla eşleşen yeni bir listeyi nasıl oluşturursunuz?"
   ]
  },
  {
   "cell_type": "code",
   "execution_count": null,
   "id": "7e88be17",
   "metadata": {},
   "outputs": [],
   "source": [
    "fruits = ['Apples', 'Oranges', 'Bananas']\n",
    "quantities = [5, 3, 4]\n",
    "prices = [1.50, 2.25, 0.89]\n",
    "# Desired output\n",
    "[('Apples', 5, 1.50),\n",
    "('Oranges', 3, 2.25),\n",
    "('Bananas', 4, 0.89)]\n"
   ]
  },
  {
   "cell_type": "code",
   "execution_count": null,
   "id": "ade52297",
   "metadata": {},
   "outputs": [],
   "source": [
    "fruits = ['Apples', 'Oranges', 'Bananas']\n",
    "quantities = [5, 3, 4]\n",
    "prices = [1.50, 2.25, 0.89]\n",
    "output=[]\n",
    "fruit_tuple_0 = (fruits[0], quantities[0], prices[0])\n",
    "output.append(output)\n",
    "fruit_tuple_1 = (fruits[1], quantities[1], prices[1])\n",
    "output.append(output)\n",
    "fruit_tuple_2 = (fruits[2], quantities[2], prices[2])\n",
    "output.append(output)\n",
    "print(fruit_tuple_0, fruit_tuple_1, fruit_tuple_2)\n"
   ]
  },
  {
   "cell_type": "code",
   "execution_count": null,
   "id": "4f250f5d",
   "metadata": {},
   "outputs": [],
   "source": [
    "fruits = ['Apples', 'Oranges', 'Bananas']\n",
    "quantities = [5, 3, 4]\n",
    "prices = [1.50, 2.25, 0.89]\n",
    "i = 0\n",
    "output = []\n",
    "for fruit in fruits:\n",
    " temp_qty = quantities[i]\n",
    " temp_price = prices[i]\n",
    " output.append((fruit, temp_qty, temp_price))\n",
    "\n",
    " i += 1\n",
    "print(output)\n"
   ]
  },
  {
   "cell_type": "code",
   "execution_count": 2,
   "id": "1bf0bcba",
   "metadata": {},
   "outputs": [
    {
     "name": "stdout",
     "output_type": "stream",
     "text": [
      "[('Apples', 5, 1.5), ('Oranges', 3, 2.25), ('Bananas', 4, 0.89)]\n"
     ]
    }
   ],
   "source": [
    "fruits = ['Apples', 'Oranges', 'Bananas']\n",
    "quantities = [5, 3, 4]\n",
    "prices = [1.50, 2.25, 0.89]\n",
    "groceries = zip(fruits, quantities, prices)\n",
    "print(list(groceries))"
   ]
  },
  {
   "cell_type": "code",
   "execution_count": 3,
   "id": "78f33cdc",
   "metadata": {},
   "outputs": [
    {
     "name": "stdout",
     "output_type": "stream",
     "text": [
      "[('Apples', 5, 1.5), ('Apples', 5, 2.25), ('Apples', 5, 0.89), ('Apples', 3, 1.5), ('Apples', 3, 2.25), ('Apples', 3, 0.89), ('Apples', 4, 1.5), ('Apples', 4, 2.25), ('Apples', 4, 0.89), ('Oranges', 5, 1.5), ('Oranges', 5, 2.25), ('Oranges', 5, 0.89), ('Oranges', 3, 1.5), ('Oranges', 3, 2.25), ('Oranges', 3, 0.89), ('Oranges', 4, 1.5), ('Oranges', 4, 2.25), ('Oranges', 4, 0.89), ('Bananas', 5, 1.5), ('Bananas', 5, 2.25), ('Bananas', 5, 0.89), ('Bananas', 3, 1.5), ('Bananas', 3, 2.25), ('Bananas', 3, 0.89), ('Bananas', 4, 1.5), ('Bananas', 4, 2.25), ('Bananas', 4, 0.89)]\n"
     ]
    }
   ],
   "source": [
    "fruits = ['Apples', 'Oranges', 'Bananas']\n",
    "quantities = [5, 3, 4]\n",
    "prices = [1.50, 2.25, 0.89]\n",
    "i = 0\n",
    "output = []\n",
    "for fruit in fruits:\n",
    "    for qty in quantities:\n",
    "        for price in prices:\n",
    "            output.append((fruit, qty, price))\n",
    "            i += 1\n",
    "print(output)\n"
   ]
  },
  {
   "cell_type": "markdown",
   "id": "5a3d1b5c",
   "metadata": {},
   "source": [
    "# teamwork 5"
   ]
  },
  {
   "cell_type": "code",
   "execution_count": 1,
   "id": "c50c264f",
   "metadata": {},
   "outputs": [
    {
     "name": "stdout",
     "output_type": "stream",
     "text": [
      "[1, 3, 6, 10]\n"
     ]
    }
   ],
   "source": [
    "a=[1,2,3,4]\n",
    "b=[sum(a[0:x+1]) for x in range(0,len(a))]\n",
    "print(b)"
   ]
  },
  {
   "cell_type": "code",
   "execution_count": 5,
   "id": "0afc6a8a",
   "metadata": {},
   "outputs": [
    {
     "name": "stdout",
     "output_type": "stream",
     "text": [
      "11\n",
      "[[1, [2, 3], 4], 7, 8, 9]\n"
     ]
    }
   ],
   "source": [
    "L1 = []\n",
    "L1.append([1, [2, 3], 4])\n",
    "L1.extend([7, 8, 9])   # extend() metodu tam da kelime anlamına uygun olarak listeyi yeni öğelerle genişletti.\n",
    "print(L1[0][1][1] + L1[2])\n",
    "print(L1)"
   ]
  },
  {
   "cell_type": "code",
   "execution_count": 2,
   "id": "cfeca799",
   "metadata": {},
   "outputs": [
    {
     "name": "stdout",
     "output_type": "stream",
     "text": [
      "7 8\n"
     ]
    }
   ],
   "source": [
    "T = (1, 2, 3, 4, 5, 6, 7, 8)\n",
    "print(T[T.index(7)], end = \" \") # .index liste içindeki index numarasını veriyor\n",
    "print(T[T[T[6]-3]-6])\n"
   ]
  },
  {
   "cell_type": "code",
   "execution_count": 1,
   "id": "024d9a34",
   "metadata": {},
   "outputs": [
    {
     "name": "stdout",
     "output_type": "stream",
     "text": [
      "5 "
     ]
    }
   ],
   "source": [
    "T = (1, 2, 3, 4, 5, 6, 7, 8)\n",
    "print(T[T.index(5)], end = \" \")"
   ]
  },
  {
   "cell_type": "code",
   "execution_count": 3,
   "id": "3df3edae",
   "metadata": {},
   "outputs": [
    {
     "name": "stdout",
     "output_type": "stream",
     "text": [
      "3\n"
     ]
    }
   ],
   "source": [
    "D = {1 : 1, 2 : '2', '1' : 1, '2' : 3}\n",
    "D['1'] = 2\n",
    "print(D[D[D[str(D[1])]]])\n"
   ]
  },
  {
   "cell_type": "code",
   "execution_count": 4,
   "id": "8445379e",
   "metadata": {},
   "outputs": [
    {
     "name": "stdout",
     "output_type": "stream",
     "text": [
      "{1, 2, 3}\n"
     ]
    }
   ],
   "source": [
    "set1 = {1, 2, 3}\n",
    "set2 = set1.copy()\n",
    "set2.add(4)\n",
    "print(set1)\n"
   ]
  },
  {
   "cell_type": "code",
   "execution_count": null,
   "id": "8436e4dd",
   "metadata": {},
   "outputs": [],
   "source": []
  },
  {
   "cell_type": "code",
   "execution_count": null,
   "id": "7830c93d",
   "metadata": {},
   "outputs": [],
   "source": []
  },
  {
   "cell_type": "code",
   "execution_count": null,
   "id": "ccbfc5c0",
   "metadata": {},
   "outputs": [],
   "source": []
  },
  {
   "cell_type": "code",
   "execution_count": null,
   "id": "abb29876",
   "metadata": {},
   "outputs": [],
   "source": []
  },
  {
   "cell_type": "markdown",
   "id": "cdfac303",
   "metadata": {},
   "source": [
    "# teamwork 10"
   ]
  },
  {
   "cell_type": "code",
   "execution_count": 3,
   "id": "c3f5c151",
   "metadata": {},
   "outputs": [
    {
     "ename": "SyntaxError",
     "evalue": "invalid syntax (Temp/ipykernel_1040/2856972016.py, line 2)",
     "output_type": "error",
     "traceback": [
      "\u001b[1;36m  File \u001b[1;32m\"C:\\Users\\DOGAN\\AppData\\Local\\Temp/ipykernel_1040/2856972016.py\"\u001b[1;36m, line \u001b[1;32m2\u001b[0m\n\u001b[1;33m    fruit_names = x for x in fruits.keys()\u001b[0m\n\u001b[1;37m                    ^\u001b[0m\n\u001b[1;31mSyntaxError\u001b[0m\u001b[1;31m:\u001b[0m invalid syntax\n"
     ]
    }
   ],
   "source": [
    "fruits = {'Apples': 5, 'Oranges': 3, 'Bananas': 4}\n",
    "fruit_names = [x for x in fruits.keys()]"
   ]
  },
  {
   "cell_type": "markdown",
   "id": "832072a4",
   "metadata": {},
   "source": [
    "A. fruit_names = [x in fruits.keys() for x]\n",
    "B. fruit_names = for x in fruits.keys()\n",
    "C. fruit_names = [x for x in fruits.keys()]\n",
    "D. fruit_names = x for x in fruits.keys()\n"
   ]
  },
  {
   "cell_type": "code",
   "execution_count": 6,
   "id": "166ea628",
   "metadata": {},
   "outputs": [
    {
     "name": "stdout",
     "output_type": "stream",
     "text": [
      "5\n",
      "6\n",
      "7\n",
      "8\n",
      "9\n",
      "10\n",
      "11\n",
      "12\n",
      "13\n"
     ]
    }
   ],
   "source": [
    "i = 5\n",
    "while True:\n",
    "    if i%0xe == 0:\n",
    "        break\n",
    "    print(i)\n",
    "    i += 1"
   ]
  },
  {
   "cell_type": "code",
   "execution_count": 2,
   "id": "2be6ba67",
   "metadata": {},
   "outputs": [
    {
     "name": "stdout",
     "output_type": "stream",
     "text": [
      "abcd\n",
      "abcd\n",
      "abcd\n",
      "abcd\n"
     ]
    }
   ],
   "source": [
    "x = 'abcd'\n",
    "for i in range(len(x)):\n",
    "    x[i].upper()\n",
    "    print (x)"
   ]
  },
  {
   "cell_type": "markdown",
   "id": "62d359d9",
   "metadata": {},
   "source": [
    "Suppose there is a list such that: k=[2,3,4]. If we want to print this list in reverse order, which of the\n",
    "following methods should be used?\n",
    "A. reverse(k)\n",
    "B. list(reverse[(k)])\n",
    "C. reversed(k)\n",
    "D. list(reversed(k)) "
   ]
  },
  {
   "cell_type": "code",
   "execution_count": 3,
   "id": "d3a21df4",
   "metadata": {},
   "outputs": [],
   "source": [
    "k=[2, 3, 4]"
   ]
  },
  {
   "cell_type": "code",
   "execution_count": 4,
   "id": "2897b9e1",
   "metadata": {},
   "outputs": [
    {
     "data": {
      "text/plain": [
       "[4, 3, 2]"
      ]
     },
     "execution_count": 4,
     "metadata": {},
     "output_type": "execute_result"
    }
   ],
   "source": [
    "list(reversed(k)) \n"
   ]
  },
  {
   "cell_type": "code",
   "execution_count": 6,
   "id": "fa563617",
   "metadata": {},
   "outputs": [
    {
     "ename": "NameError",
     "evalue": "name 'reverse' is not defined",
     "output_type": "error",
     "traceback": [
      "\u001b[1;31m---------------------------------------------------------------------------\u001b[0m",
      "\u001b[1;31mNameError\u001b[0m                                 Traceback (most recent call last)",
      "\u001b[1;32m~\\AppData\\Local\\Temp/ipykernel_5296/350901992.py\u001b[0m in \u001b[0;36m<module>\u001b[1;34m\u001b[0m\n\u001b[1;32m----> 1\u001b[1;33m \u001b[0mreverse\u001b[0m\u001b[1;33m(\u001b[0m\u001b[0mk\u001b[0m\u001b[1;33m)\u001b[0m\u001b[1;33m\u001b[0m\u001b[1;33m\u001b[0m\u001b[0m\n\u001b[0m",
      "\u001b[1;31mNameError\u001b[0m: name 'reverse' is not defined"
     ]
    }
   ],
   "source": [
    "reverse(k)"
   ]
  },
  {
   "cell_type": "code",
   "execution_count": 7,
   "id": "b8aa73c5",
   "metadata": {},
   "outputs": [
    {
     "name": "stdout",
     "output_type": "stream",
     "text": [
      "[7, 5, 3, 2]\n"
     ]
    }
   ],
   "source": [
    "prime_numbers = [2, 3, 5, 7]\n",
    "prime_numbers.reverse()\n",
    "print(prime_numbers)"
   ]
  },
  {
   "cell_type": "code",
   "execution_count": null,
   "id": "f525a0c8",
   "metadata": {},
   "outputs": [],
   "source": []
  },
  {
   "cell_type": "markdown",
   "id": "87912856",
   "metadata": {},
   "source": [
    "## Coding Challenge-1 : Find the Largest Number\n",
    "\n",
    "Purpose of the this coding challenge is to solve a simple sorting problem in Python.\n",
    "\n",
    "### Learning Outcomes\n",
    "\n",
    "At the end of the this coding challenge, students will be able to;\n",
    "\n",
    "- get a basic understanding of sorting algorithms.\n",
    "- demonstrate their knowledge of lists in python\n",
    "- implement loops to solve the problems in python\n",
    "- get a better understanding of computational thinking concepts\n",
    "\n",
    "### Problem Statement\n",
    "  \n",
    "- Write a python code that finds the largest number among the ``n`` numbers given by the user as input.\n",
    "\n",
    "- First, take `n` from the user, then take `n` numbers one by one and select-print the largest one.\n",
    "\n",
    "- It is forbidden to use ``max()`` function.  \n",
    "\n",
    "- Indicate which computational thinking concepts have you used.\n",
    "\n",
    "- Example for user inputs and respective outputs\n",
    "\n",
    "```text\n",
    "Input                Output\n",
    "---------------:     -------------------------:\n",
    "n = 5, 1 2 3 4 5     The largest number is:  5\n",
    "n = 3, 67 85 19      The largest number is:  85"
   ]
  },
  {
   "cell_type": "code",
   "execution_count": null,
   "id": "4cfa4b70",
   "metadata": {},
   "outputs": [],
   "source": []
  },
  {
   "cell_type": "code",
   "execution_count": 1,
   "id": "3b1b1689",
   "metadata": {},
   "outputs": [
    {
     "name": "stdout",
     "output_type": "stream",
     "text": [
      "Please enter the number of numbers you want to enter: 4\n",
      "Please enter the number of number: 5\n",
      "Please enter the number of number: 9\n",
      "Please enter the number of number: 7\n",
      "Please enter the number of number: 45\n",
      "The largest number is:  45\n"
     ]
    }
   ],
   "source": [
    "list1 = []\n",
    "k = 1\n",
    "n = int(input(\"Please enter the number of numbers you want to enter: \"))\n",
    "while k <= n :\n",
    "    n1= int(input(\"Please enter the number of number: \"))\n",
    "    list1.append(n1)\n",
    "    k += 1\n",
    "    \n",
    "list1.sort()\n",
    "largest = list1[n-1]\n",
    "\n",
    "print(\"The largest number is: \", largest)"
   ]
  },
  {
   "cell_type": "code",
   "execution_count": 2,
   "id": "f0295b61",
   "metadata": {},
   "outputs": [
    {
     "name": "stdout",
     "output_type": "stream",
     "text": [
      "[5, 7, 9, 45]\n"
     ]
    }
   ],
   "source": [
    "print(list1)"
   ]
  },
  {
   "cell_type": "code",
   "execution_count": 7,
   "id": "47bc9a1d",
   "metadata": {},
   "outputs": [
    {
     "name": "stdout",
     "output_type": "stream",
     "text": [
      "How many numbers will you enter? 3\n",
      "Please enter the number: 25\n",
      "Please enter the number: 46\n",
      "Please enter the number: 2\n",
      "The largest number is :  46\n"
     ]
    }
   ],
   "source": [
    "count=0\n",
    "array=[]\n",
    "size = int(input(\"How many numbers will you enter? \"))\n",
    "while count < size:\n",
    "    number= int(input('Please enter the number: '))\n",
    "    array.append(number)\n",
    "    count = count +1\n",
    "\n",
    "largest = array[0]\n",
    "for i in array:\n",
    "    if i > largest:\n",
    "        largest = i\n",
    "\n",
    "print(\"The largest number is : \", largest)"
   ]
  },
  {
   "cell_type": "code",
   "execution_count": null,
   "id": "e5ac3d65",
   "metadata": {},
   "outputs": [],
   "source": [
    "list1 = []\n",
    "k = 1\n",
    "n = int(input(\"Please enter the number of numbers you want to enter: \"))\n",
    "while k <= n :\n",
    "    n1= int(input(\"Please enter the number of number: \"))\n",
    "    list1.append(n1)\n",
    "    k += 1\n",
    "    \n",
    "list1.sort()\n",
    "largest = list1[n-1]\n",
    "\n",
    "print(\"The largest number is: \", largest)"
   ]
  },
  {
   "cell_type": "code",
   "execution_count": null,
   "id": "89d27a2f",
   "metadata": {},
   "outputs": [],
   "source": []
  },
  {
   "cell_type": "markdown",
   "id": "cca8ab76",
   "metadata": {},
   "source": [
    "## Coding Challenge-2 : Group Anagrams\n",
    "\n",
    "Purpose of the this coding challenge is to solve a grouping algorithm in Python.\n",
    "\n",
    "### Learning Outcomes\n",
    "\n",
    "At the end of the this coding challenge, students will be able to;\n",
    "\n",
    "- get a basic understanding of grouping algorithms.\n",
    "- demonstrate their knowledge of lists, dicts in python\n",
    "- implement loops to solve the problems in python\n",
    "- get a better understanding of computational thinking concepts\n",
    "\n",
    "### Problem Statement\n",
    "  \n",
    "- Given a list of strings, group anagrams together.\n",
    "\n",
    "- Example:\n",
    "\n",
    "**Input:**\n",
    "```\n",
    "[\"eat\", \"tea\", \"tan\", \"ate\", \"nat\", \"bat\"],\n",
    "Output:\n",
    "[\n",
    "  [\"ate\",\"eat\",\"tea\"],\n",
    "  [\"nat\",\"tan\"],\n",
    "  [\"bat\"]\n",
    "]\n",
    "```\n",
    "Note:\n",
    "All inputs will be in lowercase.\n",
    "The order of your output does not matter."
   ]
  },
  {
   "cell_type": "markdown",
   "id": "cbd9e4d1",
   "metadata": {},
   "source": [
    "Sorun bildirimi\n",
    "Bir dizi listesi verildiğinde, anagramları birlikte gruplayın.\n",
    "Örnek:\n",
    "Giriş:*\n",
    "[\"eat\", \"tea\", \"tan\", \"ate\", \"nat\", \"bat\"],\n",
    "Çıktı:\n",
    "[\n",
    " [\"ate\",\"eat\",\"tea\"],\n",
    " [\"nat\",\"tan\"],\n",
    " [\"bat\"]\n",
    "]\n",
    "Not: Tüm girişler küçük harf olacaktır. Çıktınızın sırası önemli değil."
   ]
  },
  {
   "cell_type": "code",
   "execution_count": 9,
   "id": "b8a95b8b",
   "metadata": {},
   "outputs": [
    {
     "name": "stdout",
     "output_type": "stream",
     "text": [
      "<class 'str'>\n",
      "1  2  3  4\n"
     ]
    }
   ],
   "source": [
    "numList = ['1', '2', '3', '4']\n",
    "separator = '  '\n",
    "print(type(separator.join(numList)))\n",
    "print(separator.join(numList))"
   ]
  },
  {
   "cell_type": "code",
   "execution_count": null,
   "id": "fbc40ec5",
   "metadata": {},
   "outputs": [],
   "source": []
  },
  {
   "cell_type": "code",
   "execution_count": 1,
   "id": "ccaa962c",
   "metadata": {},
   "outputs": [
    {
     "name": "stdout",
     "output_type": "stream",
     "text": [
      "[['eat', 'tea', 'ate'], ['tan', 'nat'], ['bat'], ['cat', 'tac']]\n"
     ]
    }
   ],
   "source": [
    "strs = [\"eat\", \"tea\", \"tan\", \"ate\", \"nat\", \"bat\", \"cat\", \"tac\"]\n",
    "anag = {}\n",
    "for i in strs:\n",
    "    element = \"\".join(sorted(i))\n",
    "    if element in anag:\n",
    "        anag[element].append(i)\n",
    "    else:\n",
    "        anag[element] = [i]\n",
    "print(list(anag.values()))"
   ]
  },
  {
   "cell_type": "code",
   "execution_count": 12,
   "id": "13b49480",
   "metadata": {
    "scrolled": false
   },
   "outputs": [
    {
     "name": "stdout",
     "output_type": "stream",
     "text": [
      "{'aet': ['eat', 'tea', 'ate'], 'ant': ['tan', 'nat'], 'abt': ['bat'], 'act': ['cat', 'tac']}\n",
      "\n",
      "[['eat', 'tea', 'ate'], ['tan', 'nat'], ['bat'], ['cat', 'tac']]\n"
     ]
    }
   ],
   "source": [
    "strs = [\"eat\", \"tea\", \"tan\", \"ate\", \"nat\", \"bat\", \"cat\", \"tac\"]\n",
    "anag = {}\n",
    "for i in strs:\n",
    "    element = \"\".join(sorted(i)) \n",
    "    if element in anag:\n",
    "        anag[element].append(i)\n",
    "    else:\n",
    "        anag[element] = [i]\n",
    "print(anag)\n",
    "print()\n",
    "print(list(anag.values()))"
   ]
  },
  {
   "cell_type": "markdown",
   "id": "8c6695d1",
   "metadata": {},
   "source": [
    "## (isteğe bağlı) Kodlama Görevi - 3: Arazide Tutulacak Su Miktarının Hesaplanması\n",
    "Bu kodlama zorluğunun amacı, oluşturulan delikler içinde bulunabilecek su miktarını hesaplayan bir program yazmaktır.\n",
    "### Öğrenme Çıktıları\n",
    "Bu kodlama yarışmasının sonunda öğrenciler;\n",
    "- bir sorunu analiz edin, uygun çözüm için programlama bilgisini belirleyin ve uygulayın.\n",
    "- verilen sorunu çözmek için Python'da 'while' döngülerini tasarlayın, uygulayın.\n",
    "- 'if' ve 'kontrol' deyimlerini kullanarak kontrol döngülerini etkin bir şekilde gerçekleştirir.\n",
    "- Problem çözmeyi etkin bir şekilde kullanarak algoritmik tasarım ilkelerine ilişkin bilgilerini gösterirler.\n",
    "### Sorun bildirimi\n",
    "- Aşağıda gösterildiği gibi, her çubuğun genişliğinin 1 olduğu bir yükseklik haritasını temsil eden negatif olmayan bir tamsayı dizisi verildiğinde, yağmurdan sonra arazide ne kadar su tutulacağını hesaplayın. Daha fazla açıklığa kavuşturmak için, kara kutular araziyi ve yüksekliğini temsil eder ve mavi kutular arazide sıkışabilecek suyu temsil eder.\n",
    "<center><img src=\"https://raw.githubusercontent.com/andrewfade/myprojects/main/image.png\" /></center>\n",
    "- Kullanıcı arazinin yüksekliğini temsil etmek için istediği kadar sayı girebilir.\n",
    "- Tüm girişlerin geçerli olduğunu varsayabilirsiniz, böylece bir giriş kontrolü yapmanız gerekmez.\n",
    "- Programın sonuna, hangi hesaplamalı düşünme buluşsal yöntemlerini kullandığınızı ve bunları nasıl kullandığınızı belirten bir yorum yazın.\n",
    "- Kullanıcı girdileri ve ilgili çıktılar örneği."
   ]
  },
  {
   "cell_type": "code",
   "execution_count": null,
   "id": "ef71c2a3",
   "metadata": {},
   "outputs": [],
   "source": [
    "# initialize the list of an integer array representing the elevation, and set it to empty\n",
    "height = []\n",
    "# Unless user types `ok`, get input of numbers from the user\n",
    "while True:\n",
    "    num = input(\"Type 'ok' when you are done: \")\n",
    "    # if the input is not equal to `ok`, add the input number to the height array\n",
    "    if num != \"ok\":\n",
    "        height.append(int(num))\n",
    "    # if the input equals to `ok`, get out of the while loop\n",
    "    else:\n",
    "        break\n",
    "# initialize areas which holds total amount of water to be trapped, and set to 0\n",
    "areas = 0\n",
    "# initialize maximum left and right, and set to 0\n",
    "max_l = max_r = 0\n",
    "# initialize left, and set to 0\n",
    "l = 0\n",
    "# initialize right and set to the last index of the input array\n",
    "r = len(height)-1\n",
    "# unless the current position of the height on left\n",
    "# is not greater than the one on right, run the loop\n",
    "while l < r:\n",
    "    # if the current position on left is lower than the right,\n",
    "    # max level on left determines the amount of water to be trapped.\n",
    "    if height[l] < height[r]:\n",
    "        # if the current height on left is greater than max height on left\n",
    "        # then the water not to be trapped, and set the max height to the new max\n",
    "        if height[l] > max_l:\n",
    "            max_l = height[l]\n",
    "        # otherwise, add the amount of water to be trapped.\n",
    "        else:\n",
    "            areas += max_l - height[l]\n",
    "        # increase current position on left by one\n",
    "        l += 1\n",
    "    # if the current position on left is higher than the right,\n",
    "    # max level on right determines the amount of water to be trapped.\n",
    "    else:\n",
    "        # if the current height on right is greater than max height on height\n",
    "        # then the water not to be trapped, and set the max height to the new max\n",
    "        if height[r] > max_r:\n",
    "            max_r = height[r]\n",
    "        # otherwise, add the amount of water to be trapped.\n",
    "        else:\n",
    "            areas += max_r - height[r]\n",
    "        # decrease current position on right by one\n",
    "        r -= 1\n",
    "# print the amount of water to be trapped\n",
    "print(\"\\nRain-trapped area : \", areas)"
   ]
  },
  {
   "cell_type": "code",
   "execution_count": null,
   "id": "23fa7543",
   "metadata": {},
   "outputs": [],
   "source": []
  },
  {
   "cell_type": "markdown",
   "id": "09fa18e7",
   "metadata": {},
   "source": [
    "# (optional) Coding Challenge - 3: Calculating the Amount of Water to be Trapped on Terrain\n",
    "\n",
    "\n",
    "The purpose of this coding challenge is to write a program that calculates the amount of water that can be contained within the generated holes.\n",
    "\n",
    "### Learning Outcomes\n",
    "\n",
    "At the end of this coding challenge, students will be able to;\n",
    "\n",
    "- analyze a problem, identify, and apply programming knowledge for appropriate solution.\n",
    "\n",
    "- design, implement `while` loops effectively in Python to solve the given problem.\n",
    "\n",
    "- control loops effectively by using `if` and `control` statements.\n",
    "\n",
    "- demonstrate their knowledge of algorithmic design principles by using solving the problem effectively.\n",
    "\n",
    "### Problem Statement\n",
    "\n",
    "- Given an array of non-negative integers representing an elevation map as shown below where the width of each bar is 1, compute how much water will be trapped on terrain after raining. To clarify further, the black boxes represents terrain and its height, and the blue boxes represents the water that could be trapped on the terrain.\n",
    "\n",
    "\n",
    "\n",
    "- User can enter as many numbers as they want to represent elevation of the terrain.\n",
    "\n",
    "- You can assume all the inputs are valid, thus you don't have to do an input check.\n",
    "\n",
    "- At the end of the program write a comment that indicates which computational thinking heuristics you have used and how you used them.\n",
    "\n",
    "- Example of user inputs and respective outputs.\n",
    "\n",
    "```text\n",
    "Inputs\n",
    "------------------------------\n",
    "Type 'ok' when you are done: 5\n",
    "Type 'ok' when you are done: 4\n",
    "Type 'ok' when you are done: 5\n",
    "Type 'ok' when you are done: ok\n",
    "\n",
    "Output\n",
    "------\n",
    "1\n",
    "\n",
    "Inputs\n",
    "------------------------------\n",
    "Type 'ok' when you are done: 2\n",
    "Type 'ok' when you are done: 1\n",
    "Type 'ok' when you are done: 2\n",
    "Type 'ok' when you are done: 3\n",
    "Type 'ok' when you are done: 2\n",
    "Type 'ok' when you are done: 3\n",
    "Type 'ok' when you are done: ok\n",
    "\n",
    "Output\n",
    "------\n",
    "2\n",
    "\n",
    "Inputs\n",
    "------------------------------\n",
    "Type 'ok' when you are done: 6\n",
    "Type 'ok' when you are done: 5\n",
    "Type 'ok' when you are done: 8\n",
    "Type 'ok' when you are done: 9\n",
    "Type 'ok' when you are done: 2\n",
    "Type 'ok' when you are done: 4\n",
    "Type 'ok' when you are done: 3\n",
    "Type 'ok' when you are done: 6\n",
    "Type 'ok' when you are done: ok\n",
    "\n",
    "Output\n",
    "------\n",
    "10\n",
    "```"
   ]
  },
  {
   "cell_type": "code",
   "execution_count": null,
   "id": "5d34ff50",
   "metadata": {},
   "outputs": [],
   "source": [
    "# initialize the list of an integer array representing the elevation, and set it to empty\n",
    "height = []\n",
    "# Unless user types `ok`, get input of numbers from the user\n",
    "while True:\n",
    "    num = input(\"Type 'ok' when you are done: \")\n",
    "    # if the input is not equal to `ok`, add the input number to the height array\n",
    "    if num != \"ok\":\n",
    "        height.append(int(num))\n",
    "    # if the input equals to `ok`, get out of the while loop\n",
    "    else:\n",
    "        break\n",
    "# initialize areas which holds total amount of water to be trapped, and set to 0\n",
    "areas = 0\n",
    "# initialize maximum left and right, and set to 0\n",
    "max_l = max_r = 0\n",
    "# initialize left, and set to 0\n",
    "l = 0\n",
    "# initialize right and set to the last index of the input array\n",
    "r = len(height)-1\n",
    "# unless the current position of the height on left\n",
    "# is not greater than the one on right, run the loop\n",
    "while l < r:\n",
    "    # if the current position on left is lower than the right,\n",
    "    # max level on left determines the amount of water to be trapped.\n",
    "    if height[l] < height[r]:\n",
    "        # if the current height on left is greater than max height on left\n",
    "        # then the water not to be trapped, and set the max height to the new max\n",
    "        if height[l] > max_l:\n",
    "            max_l = height[l]\n",
    "        # otherwise, add the amount of water to be trapped.\n",
    "        else:\n",
    "            areas += max_l - height[l]\n",
    "        # increase current position on left by one\n",
    "        l += 1\n",
    "    # if the current position on left is higher than the right,\n",
    "    # max level on right determines the amount of water to be trapped.\n",
    "    else:\n",
    "        # if the current height on right is greater than max height on height\n",
    "        # then the water not to be trapped, and set the max height to the new max\n",
    "        if height[r] > max_r:\n",
    "            max_r = height[r]\n",
    "        # otherwise, add the amount of water to be trapped.\n",
    "        else:\n",
    "            areas += max_r - height[r]\n",
    "        # decrease current position on right by one\n",
    "        r -= 1\n",
    "# print the amount of water to be trapped\n",
    "print(\"\\nRain-trapped area : \", areas)"
   ]
  },
  {
   "cell_type": "markdown",
   "id": "775c1dcd",
   "metadata": {},
   "source": [
    "Coding Challenge -1 : Palindrome\n",
    "Purpose of the this coding challenge is to solve a control flow statements issue.\n",
    "\n",
    "Learning Outcomes\n",
    "At the end of the this coding challenge, students will be able to;\n",
    "\n",
    "understand the use of loops.\n",
    "understand the importance of alphanumeric string methods.\n",
    "get a better understanding in manipulating strings.\n",
    "Problem Statement\n",
    "Write a function/functions that checks whether the sentence you get from the user is a palindrome. (Do not consider punctuation and special characters. Only consider \"alphanumeric\" characters.)\n",
    "input : \"ey edip adana'da, pide ye!\"\n",
    "\n",
    "output : \"ey edip adana'da, pide ye!\" is a palindrome"
   ]
  },
  {
   "cell_type": "markdown",
   "id": "3e5f9e0e",
   "metadata": {},
   "source": [
    "Bu kodlama zorluğunun amacı, bir kontrol akışı ifadeleri sorununu çözmektir. Döngülerin kullanımını anlayın. Kullanıcıdan aldığınız cümlenin palindrom olup olmadığını kontrol eden bir fonksiyon/fonksiyon yazınız. (Noktalama işaretlerini ve özel karakterleri dikkate almayın. Yalnızca \"alfanümerik\" karakterleri dikkate alın.) input : \"eyip adana'da, pide ye!\"\n",
    "\n",
    "çıktı : \"eyip adana'da, pide ye!\" bir palindrom"
   ]
  },
  {
   "cell_type": "code",
   "execution_count": null,
   "id": "a672ed99",
   "metadata": {},
   "outputs": [],
   "source": [
    "def palindrome(sentence) :\n",
    "    while True :\n",
    "    sentence = input(\"Lütfen bir cümle giriniz\")\n",
    "    if sentence[::-1] == sentence :\n",
    "        print(\"Tebrikler Girdiğiniz cümle palindrome!!!\")\n",
    "        break\n",
    "    else :\n",
    "        print(\"Girdiğiniz cümle palindrome değildir.Tekrar deneyiniz.\") \n",
    "palindrome(sentence)"
   ]
  },
  {
   "cell_type": "code",
   "execution_count": null,
   "id": "09d695f3",
   "metadata": {},
   "outputs": [],
   "source": [
    "def polindrom(sentence):\n",
    "    a = input(\"bir cümle gir : \").lower()\n",
    "    b = '''!\"#$%&'()*+, -./:;<=>?@[\\]^_`{|}~'''\n",
    "    new = \" \"\n",
    "    for i in a : \n",
    "        if i in b :\n",
    "            a = a.replace(b, \" \")\n",
    "        for i in range(1, len(sentence)+1):\n",
    "            new += sentence[-i]\n",
    "        if new == sentence:\n",
    "            print(new,\"is a palindrome.\")\n",
    "        else :\n",
    "            print(new,\"is not a palindrome\")\n",
    "        break\n",
    "polindrom(a)"
   ]
  },
  {
   "cell_type": "code",
   "execution_count": null,
   "id": "6e29bc89",
   "metadata": {},
   "outputs": [],
   "source": [
    "def is_palindrome(string):\n",
    "    # backwards = string[::-1]\n",
    "    # return backwards == string\n",
    "    return string[::-1].casefold() == string.casefold()\n",
    "\n",
    "\n",
    "def palindrome_sentence(sentence):\n",
    "    string = \"\"\n",
    "    for char in sentence:\n",
    "        if char.isalnum():\n",
    "            string += char\n",
    "    print(string)\n",
    "    # return string[::-1].casefold() == string.casefold()\n",
    "    return is_palindrome(string)\n",
    "\n",
    "word = input(\"Please enter a word to check: \")\n",
    "if palindrome_sentence(word):\n",
    "    print(\"'{}' is a palindrome\".format(word))\n",
    "else:\n",
    "    print(\"'{}' is not a palindrome\".format(word))"
   ]
  },
  {
   "cell_type": "markdown",
   "id": "479a6e26",
   "metadata": {},
   "source": [
    " Sudoku Format Converter&Printer¶\n",
    "The purpose of this coding challenge is to write a program that prints the given lists as sudoku looking format.\n",
    "\n",
    "Learning Outcomes\n",
    "At the end of this coding challenge, students will be able to;\n",
    "\n",
    "analyze a problem, identify, and apply programming knowledge for appropriate solution.\n",
    "\n",
    "design, implement arithmetic operators and nested loops effectively in Python to solve the given problem.\n",
    "\n",
    "demonstrate their knowledge of algorithmic design principles by solving the problem effectively.\n",
    "\n",
    "Problem Statement\n",
    "💡Objective:\n",
    "To improve your control flow statement skills.\n",
    "Task: The department you work for has received a project that displays the solved sudoku puzzles in a digital environment. \n",
    "\n",
    "Write a Python code to print out the given sudoku puzzle matrix in the following format.\n",
    "Given format :\n",
    "sudoku = [\n",
    "    [0, 0, 0, 0, 6, 4, 0, 0, 0],\n",
    "    [7, 0, 0, 0, 0, 0, 3, 9, 0],\n",
    "    [8, 0, 0, 0, 0, 0, 0, 0, 0],\n",
    "    [0, 0, 0, 5, 0, 2, 0, 6, 0],\n",
    "    [0, 8, 0, 4, 0, 0, 0, 0, 0],\n",
    "    [3, 5, 0, 6, 0, 0, 0, 7, 0],\n",
    "    [0, 0, 2, 0, 0, 0, 1, 0, 3],\n",
    "    [0, 0, 1, 0, 5, 9, 0, 0, 0],\n",
    "    [0, 0, 0, 0, 0, 0, 7, 0, 0]\n",
    "]\n",
    "Desired output format :\n",
    "- - - - - - - - - - - - - - - \n",
    "0  0  0  | 0  6  4  | 0  0  0  \n",
    "7  0  0  | 0  0  0  | 3  9  0  \n",
    "8  0  0  | 0  0  0  | 0  0  0  \n",
    "- - - - - - - - - - - - - - - \n",
    "0  0  0  | 5  0  2  | 0  6  0  \n",
    "0  8  0  | 4  0  0  | 0  0  0  \n",
    "3  5  0  | 6  0  0  | 0  7  0  \n",
    "- - - - - - - - - - - - - - - \n",
    "0  0  2  | 0  0  0  | 1  0  3  \n",
    "0  0  1  | 0  5  9  | 0  0  0  \n",
    "0  0  0  | 0  0  0  | 7  0  0  \n",
    "- - - - - - - - - - - - - - -\n",
    "\n",
    "Note that;\n",
    "\n",
    "Use not more than \"control flow statement and boolean logic operators\" in solving this code problem.\n",
    "The output which we expect from you is only a new output format above.\n",
    "We don't expect a sudoku puzzle solver from you.\n",
    "Solution :"
   ]
  },
  {
   "cell_type": "code",
   "execution_count": null,
   "id": "30e7baf1",
   "metadata": {},
   "outputs": [],
   "source": [
    "sudoku = [\n",
    "    [0, 0, 0, 0, 6, 4, 0, 0, 0],\n",
    "    [7, 0, 0, 0, 0, 0, 3, 9, 0],\n",
    "    [8, 0, 0, 0, 0, 0, 0, 0, 0],\n",
    "    [0, 0, 0, 5, 0, 2, 0, 6, 0],\n",
    "    [0, 8, 0, 4, 0, 0, 0, 0, 0],\n",
    "    [3, 5, 0, 6, 0, 0, 0, 7, 0],\n",
    "    [0, 0, 2, 0, 0, 0, 1, 0, 3],\n",
    "    [0, 0, 1, 0, 5, 9, 0, 0, 0],\n",
    "    [0, 0, 0, 0, 0, 0, 7, 0, 0]\n",
    "]\n",
    "\n",
    "# --------------------------------------------- #\n",
    "\n",
    "count = 0\n",
    "print(\"- - - - - - - - - - - - - - - \")\n",
    "for i in sudoku:\n",
    "    for j in range(9):\n",
    "        print(i[j], \" \", end=\"\")\n",
    "        if (j+1) == 9 : \n",
    "            print()\n",
    "            count+=1\n",
    "            if count%3==0 and count!=0 :\n",
    "                print(\"- - - - - - - - - - - - - - - \")\n",
    "        if (j+1) % 3 == 0 and j != 0 and j!=8: \n",
    "             print(\"| \", end=\"\")  "
   ]
  },
  {
   "cell_type": "markdown",
   "id": "cd9a98ad",
   "metadata": {},
   "source": [
    "Code Challenge -1\n",
    "💡Objective:\n",
    "To improve your boolean logic and arithmetic operator algorithm skills.\n",
    "Using the all following items once each, set a correct boolean expression that returns write me. Use the print() function to display the result.\n",
    "0\n",
    "and\n",
    "not\n",
    "\"write me\""
   ]
  },
  {
   "cell_type": "markdown",
   "id": "107f1874",
   "metadata": {},
   "source": [
    "Aşağıdaki öğelerin her birini birer kez kullanarak, \"beni yaz\" döndüren doğru bir boole ifadesi ayarlayın. Sonucu görüntülemek için print() işlevini kullanın."
   ]
  },
  {
   "cell_type": "markdown",
   "id": "788771ad",
   "metadata": {},
   "source": [
    "Belirli bir yılın \"artık\" yıl olup olmadığını öğrenin.\n",
    "\n",
    "Gregoryen takviminde artık yılları belirlemek için üç kriter dikkate alınmalıdır:\n",
    "Yıl 4'e tam bölünebilir olmalıdır;\n",
    "Yıl da 100'e eşit olarak bölünebiliyorsa, artık yıl değildir; sürece...(sonraki)\n",
    "Yıl da 400'e tam bölünür. O zaman artık yıldır.\n",
    "Bu kurallara göre 2000 ve 2400 yılları artık yıl iken 1800, 1900, 2100, 2200, 2300 ve 2500 artık yıllar değildir.\n",
    "\n",
    "Bir Python programı yazın;\n",
    "\n",
    "Kullanıcıdan 4 haneli yıl alır,\n",
    "Kullanıcı tarafından verilen yıl artık yıl ise 'Doğru', değilse 'Yanlış' yazdırır."
   ]
  },
  {
   "cell_type": "code",
   "execution_count": null,
   "id": "f322bb92",
   "metadata": {},
   "outputs": [],
   "source": []
  },
  {
   "cell_type": "markdown",
   "id": "fd8dcf1c",
   "metadata": {},
   "source": []
  },
  {
   "cell_type": "markdown",
   "id": "10ee5e04",
   "metadata": {},
   "source": [
    "### Code Challenge-3\n",
    "\n",
    "<p></p>\n",
    "<div class=\"alert alert-block alert-info\">\n",
    "    <b>💡Objective:</b>\n",
    "    <ul>\n",
    "        <li>To improve your <b>collection </b>type <b>knowledge, </b>using<b> </b><span>new </span><span>built-in<b> function comprehension, string formatting</b></span>&nbsp;and <b>problem solving</b> skills.</li>\n",
    "    </ul>\n",
    "</div>\n",
    "\n",
    "<b>Task - 1 :</b><br>You work for a manufacturer as a programmer and\n",
    "have been asked to calculate the\n",
    "<b>total profit</b> made on the sales of a product. You are given a dictionary (<code>sales</code>) containing the <span><i>cost </i>price</span><span> </span>per unit (in dollars), <span><i>sell </i>price</span><span> </span>per unit (in dollars), and\n",
    "the <span><span>beginning</span></span><i> inventory</i>. Write a program to return the <b>total profit&nbsp;</b>made, <b>rounded&nbsp;</b>to the nearest dollar. Assume all of the <i>inventory</i> has been sold. The <i>name</i> and the <i>keys</i> of\n",
    "the dictionary are constant, so use them as they are.<br>\n",
    "<hr>\n",
    "\n",
    "\n",
    "<p>The example of the <i>values</i> (<i>sell</i>-<i>cost </i>value,&nbsp;<i>inventory</i>) and total <i>profit </i>:</p>\n",
    "\n",
    "```python\n",
    "sales = {\n",
    "  \"cost_value\": 31.87,\n",
    "  \"sell_value\": 45.00,\n",
    "  \"inventory\": 1000\n",
    "}  \n",
    "\n",
    "# the profit will be : 13130\n",
    "````\n",
    "\n",
    "<hr>\n",
    "<p><b>Task - 2 :</b><br>Your boss wants you to prepare the <b>payrolls</b> of the workers in your department. You have to convert the amount of dollars into <i>payroll </i>format. In order to help move things along, you have volunteered to write a code that\n",
    "    will take a float and return the money in the following format (as <i>dollars</i> and <i>cents</i>).&nbsp;</p>\n",
    "<p><br>\n",
    "</p>\n",
    "\n",
    "- Examples :\n",
    "\n",
    "|Given Float Type `amount`|Desired Output|\n",
    "|--|--|\n",
    "|3|\\$3.00|\n",
    "|29.99|\\$29.99|\n",
    "|4.1|\\$4.10|\n",
    "\n",
    "The output should be float type as well and two digits after the period.<br><br>\n",
    "<p></p>"
   ]
  },
  {
   "cell_type": "code",
   "execution_count": null,
   "id": "b7d80ec9",
   "metadata": {},
   "outputs": [],
   "source": []
  },
  {
   "cell_type": "code",
   "execution_count": null,
   "id": "cd73f1c6",
   "metadata": {},
   "outputs": [],
   "source": []
  },
  {
   "cell_type": "code",
   "execution_count": 4,
   "id": "1b636f09",
   "metadata": {},
   "outputs": [
    {
     "name": "stdout",
     "output_type": "stream",
     "text": [
      "4 is maximum\n"
     ]
    }
   ],
   "source": [
    "def printMax(a, b):\n",
    "    if a > b:\n",
    "        print(a, 'is maximum')\n",
    "    elif a == b:\n",
    "        print(a, 'is equal to', b)\n",
    "    else:\n",
    "        print(b, 'is maximum')\n",
    "printMax(3, 4)"
   ]
  },
  {
   "cell_type": "code",
   "execution_count": null,
   "id": "375a8342",
   "metadata": {},
   "outputs": [],
   "source": []
  },
  {
   "cell_type": "code",
   "execution_count": 2,
   "id": "cd68660b",
   "metadata": {},
   "outputs": [
    {
     "name": "stdout",
     "output_type": "stream",
     "text": [
      "x is 50\n",
      "Changed local x to 2\n",
      "x is now 50\n"
     ]
    }
   ],
   "source": [
    "x = 50\n",
    "def func(x):\n",
    "    print('x is', x)\n",
    "    x = 2\n",
    "    print('Changed local x to', x)\n",
    "func(x)\n",
    "print('x is now', x)"
   ]
  },
  {
   "cell_type": "code",
   "execution_count": null,
   "id": "846bfa86",
   "metadata": {},
   "outputs": [],
   "source": []
  },
  {
   "cell_type": "code",
   "execution_count": 1,
   "id": "332e3140",
   "metadata": {},
   "outputs": [
    {
     "name": "stdout",
     "output_type": "stream",
     "text": [
      "3   9\n"
     ]
    }
   ],
   "source": [
    "def function1(var1=5, var2=7):\n",
    "    var2=9\n",
    "    var1=3\n",
    "    print (var1, \" \", var2)\n",
    "function1(10,12)"
   ]
  },
  {
   "cell_type": "code",
   "execution_count": null,
   "id": "5afa1a64",
   "metadata": {},
   "outputs": [],
   "source": []
  },
  {
   "cell_type": "code",
   "execution_count": 3,
   "id": "b510c4e8",
   "metadata": {},
   "outputs": [
    {
     "data": {
      "text/plain": [
       "60"
      ]
     },
     "execution_count": 3,
     "metadata": {},
     "output_type": "execute_result"
    }
   ],
   "source": [
    "import random\n",
    "random.randrange(0,91,5)\n"
   ]
  },
  {
   "cell_type": "code",
   "execution_count": 4,
   "id": "45203a73",
   "metadata": {},
   "outputs": [
    {
     "name": "stdout",
     "output_type": "stream",
     "text": [
      "2\n"
     ]
    }
   ],
   "source": [
    "def foo():\n",
    "    try:\n",
    "        return 1\n",
    "    finally:\n",
    "        return 2\n",
    "k = foo()\n",
    "print(k)"
   ]
  },
  {
   "cell_type": "code",
   "execution_count": 7,
   "id": "0816d76e",
   "metadata": {},
   "outputs": [],
   "source": [
    "x=10\n",
    "y=8\n",
    "\n",
    "assert x>y, 'X too small'"
   ]
  },
  {
   "cell_type": "code",
   "execution_count": 15,
   "id": "579a784c",
   "metadata": {},
   "outputs": [
    {
     "name": "stdout",
     "output_type": "stream",
     "text": [
      "Enter a number21\n"
     ]
    }
   ],
   "source": [
    "valid = False\n",
    "while not valid:\n",
    "    try:\n",
    "        n=int(input(\"Enter a number\"))\n",
    "        while n%2==0:\n",
    "            print(\"Bye\")\n",
    "        valid = True\n",
    "    except ValueError:\n",
    "        print(\"Invalid\")"
   ]
  },
  {
   "cell_type": "code",
   "execution_count": 16,
   "id": "fb910de1",
   "metadata": {},
   "outputs": [
    {
     "name": "stdout",
     "output_type": "stream",
     "text": [
      "432\n"
     ]
    }
   ],
   "source": [
    "def f(x, y, z): return x + y + z\n",
    "print(f(2, 30, 400))"
   ]
  },
  {
   "cell_type": "code",
   "execution_count": 21,
   "id": "0c43f72c",
   "metadata": {},
   "outputs": [
    {
     "name": "stdout",
     "output_type": "stream",
     "text": [
      "0 1 4 9\n"
     ]
    }
   ],
   "source": [
    "print(*(a**2 for a in range(4)))"
   ]
  },
  {
   "cell_type": "code",
   "execution_count": 22,
   "id": "5ffd5ef7",
   "metadata": {},
   "outputs": [
    {
     "name": "stdout",
     "output_type": "stream",
     "text": [
      "[10, 23, 56, [78]]\n"
     ]
    }
   ],
   "source": [
    "import copy\n",
    "a=[10,23,56,[78]]\n",
    "b=copy.deepcopy(a)\n",
    "a[3][0]=95\n",
    "a[1]=34\n",
    "print(b)"
   ]
  },
  {
   "cell_type": "code",
   "execution_count": 23,
   "id": "e459549f",
   "metadata": {},
   "outputs": [
    {
     "name": "stdout",
     "output_type": "stream",
     "text": [
      "[1, 3, 6, 10]\n"
     ]
    }
   ],
   "source": [
    "a=[1,2,3,4]\n",
    "b=[sum(a[0:x+1]) for x in range(0,len(a))]\n",
    "print(b)"
   ]
  },
  {
   "cell_type": "code",
   "execution_count": 26,
   "id": "751490d8",
   "metadata": {},
   "outputs": [
    {
     "name": "stdout",
     "output_type": "stream",
     "text": [
      "ab12cef12\n"
     ]
    }
   ],
   "source": [
    "print('abcdcefcd'.replace('cd', '12'))"
   ]
  },
  {
   "cell_type": "code",
   "execution_count": null,
   "id": "1f924873",
   "metadata": {},
   "outputs": [],
   "source": []
  }
 ],
 "metadata": {
  "interpreter": {
   "hash": "4f77006a7ea4363e7f455dab2a4eac849c4d183e0f3df07af1fa2c4918595da7"
  },
  "kernelspec": {
   "display_name": "Python 3 (ipykernel)",
   "language": "python",
   "name": "python3"
  },
  "language_info": {
   "codemirror_mode": {
    "name": "ipython",
    "version": 3
   },
   "file_extension": ".py",
   "mimetype": "text/x-python",
   "name": "python",
   "nbconvert_exporter": "python",
   "pygments_lexer": "ipython3",
   "version": "3.9.6"
  }
 },
 "nbformat": 4,
 "nbformat_minor": 5
}
