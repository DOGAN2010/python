{
 "cells": [
  {
   "cell_type": "markdown",
   "source": [
    "# def function_name(arguments) :\n",
    "    execution body"
   ],
   "metadata": {}
  },
  {
   "cell_type": "markdown",
   "source": [
    "# Python'da kullanılan return anahtar sözcüğü nedir?\n",
    "\n",
    "Bir fonksiyonun amacı, girdileri almak ve çıktıların bir kısmını geri vermektir.\n",
    "Dönüş, çağırana bir değer göndermek için bir fonksiyonda kullanabileceğimiz bir Python ifadesidir. "
   ],
   "metadata": {}
  },
  {
   "cell_type": "code",
   "execution_count": 3,
   "source": [
    "def first_function(argument_1, argument_2) :\r\n",
    "    print(argument_1**2 + argument_2**2)\r\n",
    "    \r\n",
    "first_function(3, 4)    "
   ],
   "outputs": [
    {
     "output_type": "stream",
     "name": "stdout",
     "text": [
      "25\n"
     ]
    }
   ],
   "metadata": {}
  },
  {
   "cell_type": "code",
   "execution_count": null,
   "source": [
    "def motto() :\r\n",
    "    print(\"Don't hesitate to reinvent yourself!\")\r\n",
    "\r\n",
    "motto()  # it takes no argument"
   ],
   "outputs": [],
   "metadata": {}
  },
  {
   "cell_type": "code",
   "execution_count": 4,
   "source": [
    "def adding(var) :\r\n",
    "    print(var +3)\r\n",
    "    \r\n",
    "adding(5)"
   ],
   "outputs": [
    {
     "output_type": "stream",
     "name": "stdout",
     "text": [
      "8\n"
     ]
    }
   ],
   "metadata": {}
  },
  {
   "cell_type": "code",
   "execution_count": 5,
   "source": [
    "def multiply(a, b) :\r\n",
    "    print(a * b)\r\n",
    "\r\n",
    "multiply(3, 5)\r\n",
    "multiply(-1, 2.5)\r\n",
    "multiply('amazing ', 3)  # it's really amazing, right?"
   ],
   "outputs": [
    {
     "output_type": "stream",
     "name": "stdout",
     "text": [
      "15\n",
      "-2.5\n",
      "amazing amazing amazing \n"
     ]
    }
   ],
   "metadata": {}
  },
  {
   "cell_type": "code",
   "execution_count": 6,
   "source": [
    "def doganay(a, b) :\r\n",
    "    print(a**b-b**a)\r\n",
    "\r\n",
    "doganay(3, 5)    "
   ],
   "outputs": [
    {
     "output_type": "stream",
     "name": "stdout",
     "text": [
      "118\n"
     ]
    }
   ],
   "metadata": {}
  },
  {
   "cell_type": "code",
   "execution_count": 9,
   "source": [
    "def motto():\r\n",
    "    for i in range(7):\r\n",
    "        print(\"I love you\")\r\n",
    "motto()       "
   ],
   "outputs": [
    {
     "output_type": "stream",
     "name": "stdout",
     "text": [
      "I love you\n",
      "I love you\n",
      "I love you\n",
      "I love you\n",
      "I love you\n",
      "I love you\n",
      "I love you\n"
     ]
    }
   ],
   "metadata": {}
  },
  {
   "cell_type": "code",
   "execution_count": 10,
   "source": [
    "motto()"
   ],
   "outputs": [
    {
     "output_type": "stream",
     "name": "stdout",
     "text": [
      "I love you\n",
      "I love you\n",
      "I love you\n",
      "I love you\n",
      "I love you\n",
      "I love you\n",
      "I love you\n"
     ]
    }
   ],
   "metadata": {}
  },
  {
   "cell_type": "code",
   "execution_count": 30,
   "source": [
    "def mevlana() :\r\n",
    "    print(\"\"\"Cömertlik ve yardım etme gibi ol\r\n",
    "Şefkat ve merhamette güneş\r\n",
    "Başkalarının kusurunu örtmede gece gibi ol.\r\n",
    "Hiddet ve asabivette ölü gibi ol.\r\n",
    "Tevazu ve alçak gönüllülükte toprak gibi ol.\r\n",
    "Hoşgörülükte deniz gibi ol.\r\n",
    "Ya olduğun gibi görün, ya göründiiğün gibi ol.\"\"\")"
   ],
   "outputs": [],
   "metadata": {}
  },
  {
   "cell_type": "code",
   "execution_count": 31,
   "source": [
    "mevlana()"
   ],
   "outputs": [
    {
     "output_type": "stream",
     "name": "stdout",
     "text": [
      "Cömertlik ve yardım etme gibi ol\n",
      "Şefkat ve merhamette güneş\n",
      "Başkalarının kusurunu örtmede gece gibi ol.\n",
      "Hiddet ve asabivette ölü gibi ol.\n",
      "Tevazu ve alçak gönüllülükte toprak gibi ol.\n",
      "Hoşgörülükte deniz gibi ol.\n",
      "Ya olduğun gibi görün, ya göründiiğün gibi ol.\n"
     ]
    }
   ],
   "metadata": {}
  },
  {
   "cell_type": "code",
   "execution_count": 11,
   "source": [
    "def add(a, b):\r\n",
    "    print(a+b)\r\n",
    "\r\n",
    "add(12,3)    \r\n",
    "    "
   ],
   "outputs": [
    {
     "output_type": "stream",
     "name": "stdout",
     "text": [
      "15\n"
     ]
    }
   ],
   "metadata": {}
  },
  {
   "cell_type": "markdown",
   "source": [
    "# Python'da kullanılan return anahtar sözcüğü nedir?\n",
    "\n",
    "Bir fonksiyonun amacı, girdileri almak ve çıktıların bir kısmını geri vermektir.\n",
    "Dönüş, çağırana bir değer göndermek için bir fonksiyonda kullanabileceğimiz bir Python ifadesidir."
   ],
   "metadata": {}
  },
  {
   "cell_type": "code",
   "execution_count": 12,
   "source": [
    "def add(a, b):\r\n",
    "    return a + b\r\n",
    "x = int(input(\"enter your first number : \"))\r\n",
    "y = int(input(\"enter your seconder number : \"))\r\n",
    "    \r\n",
    "print(add(x, y))\r\n",
    "\r\n",
    "    "
   ],
   "outputs": [
    {
     "output_type": "stream",
     "name": "stdout",
     "text": [
      "enter your first number : 2\n",
      "enter your seconder number : 3\n",
      "5\n"
     ]
    }
   ],
   "metadata": {}
  },
  {
   "cell_type": "code",
   "execution_count": 14,
   "source": [
    "def add(a, b):\r\n",
    "    return a + b\r\n",
    "x = int(input(\"enter your first number : \"))\r\n",
    "y = int(input(\"enter your seconder number : \"))\r\n",
    "    \r\n",
    "add(x, y)\r\n"
   ],
   "outputs": [
    {
     "output_type": "stream",
     "name": "stdout",
     "text": [
      "enter your first number : 2\n",
      "enter your seconder number : 3\n"
     ]
    },
    {
     "output_type": "execute_result",
     "data": {
      "text/plain": [
       "5"
      ]
     },
     "metadata": {},
     "execution_count": 14
    }
   ],
   "metadata": {}
  },
  {
   "cell_type": "code",
   "execution_count": 17,
   "source": [
    "def add(a, b):\r\n",
    "    print(a + b)\r\n",
    "x = int(input(\"enter your first number : \"))\r\n",
    "y = int(input(\"enter your seconder number : \"))\r\n",
    "    \r\n",
    "add(x, y)"
   ],
   "outputs": [
    {
     "output_type": "stream",
     "name": "stdout",
     "text": [
      "enter your first number : 2\n",
      "enter your seconder number : 3\n",
      "5\n"
     ]
    }
   ],
   "metadata": {}
  },
  {
   "cell_type": "code",
   "execution_count": 22,
   "source": [
    "def add():\r\n",
    "    x = int(input(\"enter your first number : \"))\r\n",
    "    y = int(input(\"enter your seconder number : \"))\r\n",
    "    print(x + y)\r\n",
    "\r\n",
    "add()"
   ],
   "outputs": [
    {
     "output_type": "stream",
     "name": "stdout",
     "text": [
      "enter your first number : 2\n",
      "enter your seconder number : 3\n",
      "5\n"
     ]
    }
   ],
   "metadata": {}
  },
  {
   "cell_type": "code",
   "execution_count": null,
   "source": [
    "def calculator(a, b, c) :\r\n",
    "    print(a, c, b)\r\n",
    "    \r\n",
    "calculator(88, 22, \"+\") "
   ],
   "outputs": [],
   "metadata": {}
  },
  {
   "cell_type": "code",
   "execution_count": 30,
   "source": [
    "def calculator(x, y, opr) :\r\n",
    "    x = int(input(\"enter your first number : \"))\r\n",
    "    y = int(input(\"enter your seconder number : \"))\r\n",
    "    opr = input(\"enter your operator: \")\r\n",
    "    \r\n",
    "    if opr == \"+\" :\r\n",
    "        print(x + y)\r\n",
    "    elif opr == \"-\" :\r\n",
    "        print(x - y)\r\n",
    "    elif opr == \"*\" :\r\n",
    "        print(x * y)\r\n",
    "    elif opr == \"/\" :\r\n",
    "        print(x / y)\r\n",
    "    elif opr == \"//\" :\r\n",
    "        print(x // y)\r\n",
    "    elif opr == \"**\" :\r\n",
    "        print(x ** y)\r\n",
    "    elif opr == \"%\" :\r\n",
    "        print(x % y)\r\n",
    "    else :\r\n",
    "        print(\"Enter a valid input. \\nYour input is {} {} {}\".format(x, y, opr))"
   ],
   "outputs": [],
   "metadata": {}
  },
  {
   "cell_type": "code",
   "execution_count": null,
   "source": [
    " calculator(88, 22, \"?\")"
   ],
   "outputs": [],
   "metadata": {}
  },
  {
   "cell_type": "code",
   "execution_count": 33,
   "source": [
    "def calculator() :\r\n",
    "    x = int(input(\"enter your first number : \"))\r\n",
    "    y = int(input(\"enter your seconder number : \"))\r\n",
    "    opr = input(\"enter your operator: \")\r\n",
    "    \r\n",
    "    if opr == \"+\" :\r\n",
    "        print(x + y)\r\n",
    "    elif opr == \"-\" :\r\n",
    "        print(x - y)\r\n",
    "    elif opr == \"*\" :\r\n",
    "        print(x * y)\r\n",
    "    elif opr == \"/\" :\r\n",
    "        print(x / y)\r\n",
    "    elif opr == \"//\" :\r\n",
    "        print(x // y)\r\n",
    "    elif opr == \"**\" :\r\n",
    "        print(x ** y)\r\n",
    "    elif opr == \"%\" :\r\n",
    "        print(x % y)\r\n",
    "    else :\r\n",
    "        print(\"Enter a valid input. \\nYour input is {} {} {}\".format(x, y, opr))"
   ],
   "outputs": [],
   "metadata": {}
  },
  {
   "cell_type": "code",
   "execution_count": 35,
   "source": [
    "calculator()"
   ],
   "outputs": [
    {
     "output_type": "stream",
     "name": "stdout",
     "text": [
      "enter your first number : 8\n",
      "enter your seconder number : 5\n",
      "enter your operator: +\n",
      "13\n"
     ]
    }
   ],
   "metadata": {}
  },
  {
   "cell_type": "code",
   "execution_count": 37,
   "source": [
    "def mult(a, b):\r\n",
    "    print(a*b)\r\n",
    "def mult_1(a, b):\r\n",
    "    return(a*b)\r\n",
    "print(type(mult(10, 3)))\r\n",
    "print(type(mult_1(10, 3)))"
   ],
   "outputs": [
    {
     "output_type": "stream",
     "name": "stdout",
     "text": [
      "30\n",
      "<class 'NoneType'>\n",
      "<class 'int'>\n"
     ]
    }
   ],
   "metadata": {}
  },
  {
   "cell_type": "code",
   "execution_count": 32,
   "source": [
    "type(print())"
   ],
   "outputs": [
    {
     "output_type": "stream",
     "name": "stdout",
     "text": [
      "\n"
     ]
    },
    {
     "output_type": "execute_result",
     "data": {
      "text/plain": [
       "NoneType"
      ]
     },
     "metadata": {},
     "execution_count": 32
    }
   ],
   "metadata": {}
  },
  {
   "cell_type": "code",
   "execution_count": 42,
   "source": [
    "def mult(a, b):\n",
    "    print(a*b)\n",
    "def mult_1(a, b):\n",
    "    return(a*b)\n",
    "print(type(mult(10, 3)))\n",
    "print(mult_1(10, 3) + 2)\n",
    "print(type(mult_1(10, 3)))\n",
    "print(mult(10, 3) + 2)"
   ],
   "outputs": [
    {
     "output_type": "stream",
     "name": "stdout",
     "text": [
      "30\n",
      "<class 'NoneType'>\n",
      "32\n",
      "<class 'int'>\n",
      "30\n"
     ]
    },
    {
     "output_type": "error",
     "ename": "TypeError",
     "evalue": "unsupported operand type(s) for +: 'NoneType' and 'int'",
     "traceback": [
      "\u001b[1;31m---------------------------------------------------------------------------\u001b[0m",
      "\u001b[1;31mTypeError\u001b[0m                                 Traceback (most recent call last)",
      "\u001b[1;32m~\\AppData\\Local\\Temp/ipykernel_4936/3425675614.py\u001b[0m in \u001b[0;36m<module>\u001b[1;34m\u001b[0m\n\u001b[0;32m      6\u001b[0m \u001b[0mprint\u001b[0m\u001b[1;33m(\u001b[0m\u001b[0mmult_1\u001b[0m\u001b[1;33m(\u001b[0m\u001b[1;36m10\u001b[0m\u001b[1;33m,\u001b[0m \u001b[1;36m3\u001b[0m\u001b[1;33m)\u001b[0m \u001b[1;33m+\u001b[0m \u001b[1;36m2\u001b[0m\u001b[1;33m)\u001b[0m\u001b[1;33m\u001b[0m\u001b[1;33m\u001b[0m\u001b[0m\n\u001b[0;32m      7\u001b[0m \u001b[0mprint\u001b[0m\u001b[1;33m(\u001b[0m\u001b[0mtype\u001b[0m\u001b[1;33m(\u001b[0m\u001b[0mmult_1\u001b[0m\u001b[1;33m(\u001b[0m\u001b[1;36m10\u001b[0m\u001b[1;33m,\u001b[0m \u001b[1;36m3\u001b[0m\u001b[1;33m)\u001b[0m\u001b[1;33m)\u001b[0m\u001b[1;33m)\u001b[0m\u001b[1;33m\u001b[0m\u001b[1;33m\u001b[0m\u001b[0m\n\u001b[1;32m----> 8\u001b[1;33m \u001b[0mprint\u001b[0m\u001b[1;33m(\u001b[0m\u001b[0mmult\u001b[0m\u001b[1;33m(\u001b[0m\u001b[1;36m10\u001b[0m\u001b[1;33m,\u001b[0m \u001b[1;36m3\u001b[0m\u001b[1;33m)\u001b[0m \u001b[1;33m+\u001b[0m \u001b[1;36m2\u001b[0m\u001b[1;33m)\u001b[0m\u001b[1;33m\u001b[0m\u001b[1;33m\u001b[0m\u001b[0m\n\u001b[0m",
      "\u001b[1;31mTypeError\u001b[0m: unsupported operand type(s) for +: 'NoneType' and 'int'"
     ]
    }
   ],
   "metadata": {}
  },
  {
   "cell_type": "code",
   "execution_count": 34,
   "source": [
    "def calculator2(x, y, opr) :\n",
    "    if opr == \"+\" :\n",
    "        return (x + y)\n",
    "    elif opr == \"-\" :\n",
    "        return (x - y)\n",
    "    elif opr == \"*\" :\n",
    "        return (x * y)\n",
    "    elif opr == \"/\" :\n",
    "        return (x / y)"
   ],
   "outputs": [],
   "metadata": {}
  },
  {
   "cell_type": "code",
   "execution_count": 35,
   "source": [
    "calculator2(88, 22, \"/\")"
   ],
   "outputs": [
    {
     "output_type": "execute_result",
     "data": {
      "text/plain": [
       "4.0"
      ]
     },
     "metadata": {},
     "execution_count": 35
    }
   ],
   "metadata": {}
  },
  {
   "cell_type": "code",
   "execution_count": 4,
   "source": [
    "def absolute_value() :\n",
    "    n = int(input(\"please enter a number to check :\"))\n",
    "    if n >= 0 :\n",
    "        return n\n",
    "    else :\n",
    "        return -n\n",
    "print(absolute_value())\n"
   ],
   "outputs": [
    {
     "output_type": "stream",
     "name": "stdout",
     "text": [
      "please enter a number to check :-45\n",
      "45\n"
     ]
    }
   ],
   "metadata": {}
  },
  {
   "cell_type": "code",
   "execution_count": 5,
   "source": [
    "def absolute_value() :\n",
    "    n = float(input(\"please enter a number to check :\"))\n",
    "    if n >= 0 :\n",
    "        return n\n",
    "    else :\n",
    "        return -n\n",
    "print(absolute_value())"
   ],
   "outputs": [
    {
     "output_type": "stream",
     "name": "stdout",
     "text": [
      "please enter a number to check :3.45\n",
      "3.45\n"
     ]
    }
   ],
   "metadata": {}
  },
  {
   "cell_type": "code",
   "execution_count": 7,
   "source": [
    "def absolute_value() :\n",
    "    n = float(input(\"please enter a number to check :\"))\n",
    "    return abs(n)\n",
    "print(absolute_value())\n",
    "print(type(absolute_value()))"
   ],
   "outputs": [
    {
     "output_type": "stream",
     "name": "stdout",
     "text": [
      "please enter a number to check :45\n",
      "45.0\n",
      "<class 'function'>\n"
     ]
    }
   ],
   "metadata": {}
  },
  {
   "cell_type": "code",
   "execution_count": 11,
   "source": [
    "def absolute_value() :\n",
    "    \n",
    "    \"\"\"This function gives absolute value\n",
    "of the entered number.\"\"\"\n",
    "    \n",
    "    n = float(input(\"please enter a number to check :\"))\n",
    "    return abs(n)\n",
    "print(absolute_value())"
   ],
   "outputs": [
    {
     "output_type": "stream",
     "name": "stdout",
     "text": [
      "please enter a number to check :-45\n",
      "45.0\n"
     ]
    }
   ],
   "metadata": {}
  },
  {
   "cell_type": "code",
   "execution_count": 12,
   "source": [
    "print(absolute_value.__doc__)"
   ],
   "outputs": [
    {
     "output_type": "stream",
     "name": "stdout",
     "text": [
      "This function gives absolute value\n",
      "of the entered number.\n"
     ]
    }
   ],
   "metadata": {}
  },
  {
   "cell_type": "code",
   "execution_count": 36,
   "source": [
    "print(print.__doc__)"
   ],
   "outputs": [
    {
     "output_type": "stream",
     "name": "stdout",
     "text": [
      "print(value, ..., sep=' ', end='\\n', file=sys.stdout, flush=False)\n",
      "\n",
      "Prints the values to a stream, or to sys.stdout by default.\n",
      "Optional keyword arguments:\n",
      "file:  a file-like object (stream); defaults to the current sys.stdout.\n",
      "sep:   string inserted between values, default a space.\n",
      "end:   string appended after the last value, default a newline.\n",
      "flush: whether to forcibly flush the stream.\n"
     ]
    }
   ],
   "metadata": {}
  },
  {
   "cell_type": "code",
   "execution_count": 14,
   "source": [
    "def fonksiyon():\n",
    "    fonksiyon = \"\"\"Python'da fonksiyon, belirli bir görevi yerine getiren ilgili ifadeler grubudur.\n",
    "Fonksiyonlar, programımızı daha küçük ve modüler parçalara ayırmaya yardımcı olur. \n",
    "Programımız büyüdükçe ve büyüdükçe, işlevler onu daha düzenli ve yönetilebilir hale getirir.\n",
    "Ayrıca, tekrarı önler ve kodu yeniden kullanılabilir hale getirir.\"\"\"\n",
    "    print(fonksiyon)"
   ],
   "outputs": [],
   "metadata": {}
  },
  {
   "cell_type": "code",
   "execution_count": 16,
   "source": [
    "fonksiyon()"
   ],
   "outputs": [
    {
     "output_type": "stream",
     "name": "stdout",
     "text": [
      "Python'da fonksiyon, belirli bir görevi yerine getiren ilgili ifadeler grubudur.\n",
      "Fonksiyonlar, programımızı daha küçük ve modüler parçalara ayırmaya yardımcı olur. \n",
      "Programımız büyüdükçe ve büyüdükçe, işlevler onu daha düzenli ve yönetilebilir hale getirir.\n",
      "Ayrıca, tekrarı önler ve kodu yeniden kullanılabilir hale getirir.\n"
     ]
    }
   ],
   "metadata": {}
  },
  {
   "cell_type": "code",
   "execution_count": 21,
   "source": [
    "def cont_down() :\n",
    "    for i in range(10,0,-1) :\n",
    "        print(i)\n",
    "\n",
    "cont_down()"
   ],
   "outputs": [
    {
     "output_type": "stream",
     "name": "stdout",
     "text": [
      "10\n",
      "9\n",
      "8\n",
      "7\n",
      "6\n",
      "5\n",
      "4\n",
      "3\n",
      "2\n",
      "1\n"
     ]
    }
   ],
   "metadata": {}
  },
  {
   "cell_type": "code",
   "execution_count": 18,
   "source": [
    "abs.__doc__"
   ],
   "outputs": [
    {
     "output_type": "execute_result",
     "data": {
      "text/plain": [
       "'Return the absolute value of the argument.'"
      ]
     },
     "metadata": {},
     "execution_count": 18
    }
   ],
   "metadata": {}
  },
  {
   "cell_type": "code",
   "execution_count": 24,
   "source": [
    "def abs_add() :\n",
    "    n_1 = float(input(\"Please enter a number : \"))\n",
    "    n_2 = float(input(\"Please enter a 2nd number :\" ))\n",
    "    \n",
    "    return abs(n_1) + abs(n_2)\n",
    "\n",
    "print(abs_add())"
   ],
   "outputs": [
    {
     "output_type": "stream",
     "name": "stdout",
     "text": [
      "Please enter a number : 3.5\n",
      "Please enter a 2nd number :-4.2\n",
      "7.7\n"
     ]
    }
   ],
   "metadata": {}
  },
  {
   "cell_type": "code",
   "execution_count": 25,
   "source": [
    "def add_2(a):\n",
    "    print(a+2)\n",
    "    \n",
    "add_2(2)"
   ],
   "outputs": [
    {
     "output_type": "stream",
     "name": "stdout",
     "text": [
      "4\n"
     ]
    }
   ],
   "metadata": {}
  },
  {
   "cell_type": "code",
   "execution_count": 27,
   "source": [
    "def add_4():\n",
    "    n = float(input(\"Please enter a number : \"))\n",
    "    return n+4\n",
    "\n",
    "print(add_4())"
   ],
   "outputs": [
    {
     "output_type": "stream",
     "name": "stdout",
     "text": [
      "Please enter a number : -45\n",
      "-41.0\n"
     ]
    }
   ],
   "metadata": {}
  },
  {
   "cell_type": "code",
   "execution_count": 2,
   "source": [
    "name = \"allen\"\n",
    "def func_outer():\n",
    "    def func_inner1():\n",
    "        name =\"smith\"\n",
    "        def func_inner2():\n",
    "            name =\"adah\"\n",
    "    return name\n",
    "func_outer()"
   ],
   "outputs": [
    {
     "output_type": "execute_result",
     "data": {
      "text/plain": [
       "'allen'"
      ]
     },
     "metadata": {},
     "execution_count": 2
    }
   ],
   "metadata": {}
  },
  {
   "cell_type": "code",
   "execution_count": 4,
   "source": [
    "func_inner1()"
   ],
   "outputs": [
    {
     "output_type": "error",
     "ename": "NameError",
     "evalue": "name 'func_inner1' is not defined",
     "traceback": [
      "\u001b[1;31m---------------------------------------------------------------------------\u001b[0m",
      "\u001b[1;31mNameError\u001b[0m                                 Traceback (most recent call last)",
      "\u001b[1;32m~\\AppData\\Local\\Temp/ipykernel_13360/1050745665.py\u001b[0m in \u001b[0;36m<module>\u001b[1;34m\u001b[0m\n\u001b[1;32m----> 1\u001b[1;33m \u001b[0mfunc_inner1\u001b[0m\u001b[1;33m(\u001b[0m\u001b[1;33m)\u001b[0m\u001b[1;33m\u001b[0m\u001b[1;33m\u001b[0m\u001b[0m\n\u001b[0m",
      "\u001b[1;31mNameError\u001b[0m: name 'func_inner1' is not defined"
     ]
    }
   ],
   "metadata": {}
  },
  {
   "cell_type": "code",
   "execution_count": null,
   "source": [],
   "outputs": [],
   "metadata": {}
  }
 ],
 "metadata": {
  "kernelspec": {
   "display_name": "Python 3 (ipykernel)",
   "language": "python",
   "name": "python3"
  },
  "language_info": {
   "codemirror_mode": {
    "name": "ipython",
    "version": 3
   },
   "file_extension": ".py",
   "mimetype": "text/x-python",
   "name": "python",
   "nbconvert_exporter": "python",
   "pygments_lexer": "ipython3",
   "version": "3.9.6"
  }
 },
 "nbformat": 4,
 "nbformat_minor": 5
}