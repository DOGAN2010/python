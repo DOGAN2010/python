{
 "cells": [
  {
   "cell_type": "markdown",
   "metadata": {},
   "source": [
    "Bir Sayıyı Taban-2'ye Dönüştür\n",
    "Taban-10 (ondalık) dize numarasının taban-2 (ikili) gösterimini döndüren bir işlev oluşturun. Dönüştürmek basittir: ((2) taban-2 anlamına gelir ve (10) taban-10 anlamına gelir) 010101001(2) = 1 + 8 + 32 + 128.\n",
    "\n",
    "Sağdan sola giderken, en sağdaki bitin değeri 1'dir, bundan sonra sola doğru her bitin değeri x2 olacaktır, 8 bitlik ikili sayıların değeri (256, 128, 64, 32, 16, 8) olacaktır. , 4, 2, 1).\n",
    "\n",
    "Örnekler\n",
    "binary(1) ➞ \"1\"\n",
    "1*1 = 1\n",
    "\n",
    "binary(5) ➞ \"101\"\n",
    " 1*1 + 1*4 = 5\n",
    "\n",
    "binary(10) ➞ \"1010\"\n",
    " 1*2 + 1*8 = 10\n",
    "Notlar\n",
    "Sayılar her zaman 1024'ün altında olacaktır (1024 hariç).\n",
    "Dizeler her zaman en soldaki bitin değerinin içindeki sayıdan büyük olduğu uzunluğa gidecektir decimal.\n",
    "Bir ikili dönüştürme 0denenirse, döndür \"0\"."
   ]
  },
  {
   "cell_type": "code",
   "execution_count": 1,
   "metadata": {},
   "outputs": [
    {
     "name": "stdout",
     "output_type": "stream",
     "text": [
      "101101\n"
     ]
    }
   ],
   "source": [
    "decimal = int(input())\n",
    "if 1 <= decimal < 1024:\n",
    "    binary = \"\"\n",
    "    while decimal >= 1:\n",
    "        binary += str(int(decimal%2))\n",
    "        decimal -= (decimal/2)\n",
    "elif decimal == 0:\n",
    "    binary = \"0\"\n",
    "else:\n",
    "    print(\"out of scope\")\n",
    "print(binary[::-1])"
   ]
  }
 ],
 "metadata": {
  "interpreter": {
   "hash": "4f77006a7ea4363e7f455dab2a4eac849c4d183e0f3df07af1fa2c4918595da7"
  },
  "kernelspec": {
   "display_name": "Python 3.9.7 64-bit",
   "language": "python",
   "name": "python3"
  },
  "language_info": {
   "codemirror_mode": {
    "name": "ipython",
    "version": 3
   },
   "file_extension": ".py",
   "mimetype": "text/x-python",
   "name": "python",
   "nbconvert_exporter": "python",
   "pygments_lexer": "ipython3",
   "version": "3.9.7"
  },
  "orig_nbformat": 4
 },
 "nbformat": 4,
 "nbformat_minor": 2
}
