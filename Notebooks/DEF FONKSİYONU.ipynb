{
 "cells": [
  {
   "cell_type": "markdown",
   "id": "b75b53ae",
   "metadata": {},
   "source": [
    "# kaynaklar\n",
    "https://www.javatpoint.com/python-built-in-functions\n",
    "https://www.w3schools.com/python/python_ref_functions.asp\n",
    "https://docs.python.org/3/library/functions.html#abs"
   ]
  },
  {
   "cell_type": "markdown",
   "id": "b2893d47",
   "metadata": {},
   "source": [
    "# Python'da bir fonksiyonu nasıl yazarız?\n",
    "\n",
    "Adım-1: Fonksiyonu başlatmak için def anahtar kelimesi ile yazmaya başlayın ve ardından fonksiyon adını söyleyin.\n",
    "Adım-2: Artık argümanları iletebilir ve parantez içine alabiliriz. Sonunda iki nokta üst üste, işlev başlığının sonunu işaretler.\n",
    "Adım-3: Bir enter tuşuna bastıktan sonra, çalıştırmak için istenen Python deyimlerini ekleyebiliriz. "
   ]
  },
  {
   "cell_type": "markdown",
   "id": "10b99e15",
   "metadata": {},
   "source": [
    "# all() : \n",
    " python all() işlevi yinelenebilir bir nesneyi (liste, sözlük vb.) kabul eder. Geçirilen yinelenebilir içindeki tüm öğeler doğruysa true değerini döndürür. Aksi takdirde, False döndürür. Yinelenebilir nesne boşsa, all() işlevi True değerini döndürür.\n",
    " \n",
    " The python all() function accepts an iterable object (such as list, dictionary, etc.). It returns true if all items in passed iterable are true. Otherwise, it returns False. If the iterable object is empty, the all() function returns True."
   ]
  },
  {
   "cell_type": "code",
   "execution_count": 14,
   "id": "8e4961bd",
   "metadata": {},
   "outputs": [
    {
     "name": "stdout",
     "output_type": "stream",
     "text": [
      "True\n",
      "False\n",
      "False\n",
      "False\n",
      "True\n"
     ]
    }
   ],
   "source": [
    "k = [1, 3, 4, 6]  # all values true \n",
    "print(all(k))  \n",
    "  \n",
    "k = [0, False]  # all values false \n",
    "print(all(k))  \n",
    "\n",
    "k = [1, 3, 7, 0]  # one false value  \n",
    "print(all(k))  \n",
    "\n",
    "k = [0, False, 5]  # one true value  \n",
    "print(all(k))  \n",
    "  \n",
    "k = {}  # empty iterable \n",
    "print(all(k))  "
   ]
  },
  {
   "cell_type": "code",
   "execution_count": 15,
   "id": "9cdd6eb4",
   "metadata": {},
   "outputs": [
    {
     "name": "stdout",
     "output_type": "stream",
     "text": [
      "True\n",
      "False\n",
      "True\n"
     ]
    }
   ],
   "source": [
    "names = [\"susan\", \"tom\", \"edward\", \"False\"]\n",
    "mood = [\"happy\", \"sad\", 0]\n",
    "empty = {}\n",
    "\n",
    "print(all(names), all(mood), all(empty), sep= \"\\n\")"
   ]
  },
  {
   "cell_type": "markdown",
   "id": "fd848c0b",
   "metadata": {},
   "source": [
    "# any() : \n",
    "python any() işlevi, yinelenebilirdeki herhangi bir öğe doğruysa true değerini döndürür. Aksi takdirde, False döndürür.\n",
    "\n",
    "The python any() function returns true if any item in an iterable is true. Otherwise, it returns False."
   ]
  },
  {
   "cell_type": "code",
   "execution_count": 16,
   "id": "9f4cdaca",
   "metadata": {},
   "outputs": [
    {
     "name": "stdout",
     "output_type": "stream",
     "text": [
      "True\n",
      "False\n",
      "True\n",
      "False\n"
     ]
    }
   ],
   "source": [
    "l = [4, 3, 2, 0]                              \n",
    "print(any(l))                                   \n",
    "  \n",
    "l = [0, False]  \n",
    "print(any(l))  \n",
    "  \n",
    "l = [0, False, 5]  \n",
    "print(any(l))  \n",
    "  \n",
    "l = ()  \n",
    "print(any(l))  "
   ]
  },
  {
   "cell_type": "code",
   "execution_count": 17,
   "id": "6dbcfdfd",
   "metadata": {},
   "outputs": [
    {
     "name": "stdout",
     "output_type": "stream",
     "text": [
      "True\n",
      "True\n",
      "False\n",
      "False\n"
     ]
    }
   ],
   "source": [
    "names = [\"susan\", \"tom\", \"edward\", False]\n",
    "mood = [\"happy\", \"sad\", 0, ()]\n",
    "aslı = [None, (), 0]\n",
    "empty = []\n",
    "\n",
    "print(any(names), any(mood),any(aslı), any(empty), sep= \"\\n\")"
   ]
  },
  {
   "cell_type": "markdown",
   "id": "37c967ff",
   "metadata": {},
   "source": [
    "# filter() Function\n",
    "Python filter() function is used to get filtered elements. This function takes two arguments, first is a function and the second is iterable. The filter function returns a sequence from those elements of iterable for which function returns True.\n",
    "The first argument can be None if the function is not available and returns only elements that are True.\n",
    "\n",
    "Python filter() işlevi, filtrelenmiş öğeleri elde etmek için kullanılır. Bu işlev iki argüman alır, ilki bir işlevdir ve ikincisi yinelenebilir. Filtre işlevi, işlevin True döndürdüğü yinelenebilir öğelerinden bir dizi döndürür .\n",
    "İşlev mevcut değilse ve yalnızca Doğru olan öğeleri döndürürse, ilk bağımsız değişken Yok olabilir.\n",
    "\n",
    "\n",
    "filter (function, iterable)  \n",
    "function: Bir fonksiyondur. Yok olarak ayarlanırsa (None), yalnızca Doğru olan öğeleri döndürür.\n",
    "İterable : Liste, başlığın ve ip gibi herhangi iterable dizisi."
   ]
  },
  {
   "cell_type": "code",
   "execution_count": 18,
   "id": "f16a3c9d",
   "metadata": {},
   "outputs": [
    {
     "name": "stdout",
     "output_type": "stream",
     "text": [
      "[6, 9]\n"
     ]
    }
   ],
   "source": [
    "# Python filter() function example  \n",
    "def filterdata(x):  \n",
    "    if x>5:  \n",
    "        return x  \n",
    "# Calling function  \n",
    "result = filter(filterdata,(1,2,6, 9))  \n",
    "# Displaying result  \n",
    "print(list(result))  "
   ]
  },
  {
   "cell_type": "code",
   "execution_count": 5,
   "id": "f597b727",
   "metadata": {},
   "outputs": [
    {
     "name": "stdout",
     "output_type": "stream",
     "text": [
      "[1, 6]\n",
      "[1, True]\n"
     ]
    }
   ],
   "source": [
    "# Python filter() function example  \n",
    "# Calling function  \n",
    "result = filter(None,(1,0,6)) # returns all non-zero values  \n",
    "result2 = filter(None,(1,0,False,True)) # returns all non-zero and True values  \n",
    "# Displaying result  \n",
    "result = list(result)  \n",
    "result2 = list(result2)  \n",
    "print(result)  \n",
    "print(result2)  "
   ]
  },
  {
   "cell_type": "code",
   "execution_count": 2,
   "id": "6a8bde0f",
   "metadata": {},
   "outputs": [
    {
     "name": "stdout",
     "output_type": "stream",
     "text": [
      "[3, 6, 9, 12]\n"
     ]
    }
   ],
   "source": [
    "# Python filter() function example  \n",
    "def mulof3(val):  \n",
    "    if val%3==0:  \n",
    "        return val  \n",
    "# Calling function  \n",
    "result = filter(mulof3,(1,3,5,6,8,9,12,14))  \n",
    "# Displaying result  \n",
    "result = list(result)  \n",
    "print(result) # multiples of 3  "
   ]
  },
  {
   "cell_type": "code",
   "execution_count": 3,
   "id": "ca84011e",
   "metadata": {},
   "outputs": [
    {
     "name": "stdout",
     "output_type": "stream",
     "text": [
      "The filtered elements are :\n",
      "susan\n",
      "tom\n",
      "0\n"
     ]
    }
   ],
   "source": [
    "listA = [\"susan\", \"tom\", False, 0, \"0\"]\n",
    "\n",
    "filtered_list = filter(None, listA)\n",
    "\n",
    "print(\"The filtered elements are :\")\n",
    "for i in filtered_list:\n",
    "    print(i)"
   ]
  },
  {
   "cell_type": "code",
   "execution_count": 4,
   "id": "46b2c38a",
   "metadata": {},
   "outputs": [
    {
     "name": "stdout",
     "output_type": "stream",
     "text": [
      "18\n",
      "24\n",
      "32\n"
     ]
    }
   ],
   "source": [
    "ages = [5, 12, 17, 18, 24, 32]\n",
    "\n",
    "def myFunc(x):\n",
    "    if x < 18:\n",
    "        return False\n",
    "    else:\n",
    "        return True\n",
    "\n",
    "adults = filter(myFunc, ages)\n",
    "\n",
    "for x in adults:\n",
    "    print(x)"
   ]
  },
  {
   "cell_type": "code",
   "execution_count": null,
   "id": "7cb2ba41",
   "metadata": {},
   "outputs": [],
   "source": []
  },
  {
   "cell_type": "markdown",
   "id": "3b8f9b5d",
   "metadata": {},
   "source": [
    "# abs() Function\n",
    "The python abs() function is used to return the absolute value of a number. It takes only one argument, a number whose absolute value is to be returned. The argument can be an integer and floating-point number. If the argument is a complex number, then, abs() returns its magnitude.\n",
    "\n",
    "python abs() işlevi, bir sayının mutlak değerini döndürmek için kullanılır. Yalnızca bir argüman alır, mutlak değeri döndürülecek bir sayı. Argüman bir tamsayı ve kayan noktalı sayı olabilir. Argüman karmaşık bir sayıysa abs(), büyüklüğünü döndürür."
   ]
  },
  {
   "cell_type": "code",
   "execution_count": null,
   "id": "06f9addc",
   "metadata": {},
   "outputs": [],
   "source": []
  },
  {
   "cell_type": "code",
   "execution_count": 14,
   "id": "dacc63f5",
   "metadata": {},
   "outputs": [
    {
     "name": "stdout",
     "output_type": "stream",
     "text": [
      "Absolute value of -20 is: 20\n",
      "Absolute value of -20.83 is: 20.83\n",
      "Absolute value of -31+5j is: 31.400636936215164\n"
     ]
    }
   ],
   "source": [
    "  \n",
    "integer = -20  \n",
    "print('Absolute value of -20 is:', abs(integer))  \n",
    "  \n",
    "#  floating number  \n",
    "floating = -20.83  \n",
    "print('Absolute value of -20.83 is:', abs(floating))  \n",
    "\n",
    "complexing = -31+5j \n",
    "print('Absolute value of -31+5j is:', abs(complexing))  \n"
   ]
  },
  {
   "cell_type": "markdown",
   "id": "8dcb1783",
   "metadata": {},
   "source": [
    "# bool() Function\n",
    "The python bool() method converts value to boolean (True or False) using the standard truth testing procedure.\n",
    "\n",
    "python bool() yöntemi, standart doğruluk testi prosedürünü kullanarak değeri boole (Doğru veya Yanlış) değerine dönüştürür."
   ]
  },
  {
   "cell_type": "code",
   "execution_count": 15,
   "id": "86d8431c",
   "metadata": {},
   "outputs": [
    {
     "name": "stdout",
     "output_type": "stream",
     "text": [
      "[] is False\n",
      "[0] is True\n",
      "0.0 is False\n",
      "None is False\n",
      "True is True\n",
      "Easy string is True\n"
     ]
    }
   ],
   "source": [
    "test = []  \n",
    "print(test,'is',bool(test))  \n",
    "  \n",
    "test = [0]  \n",
    "print(test,'is',bool(test))  \n",
    "  \n",
    "test = 0.0  \n",
    "print(test,'is',bool(test))  \n",
    "  \n",
    "test = None  \n",
    "print(test,'is',bool(test))  \n",
    "  \n",
    "test = True  \n",
    "print(test,'is',bool(test))  \n",
    "  \n",
    "test = 'Easy string'  \n",
    "print(test,'is',bool(test))  "
   ]
  },
  {
   "cell_type": "markdown",
   "id": "b1782ed3",
   "metadata": {},
   "source": [
    "# callable() Function\n",
    "A python callable() function in Python is something that can be called. This built-in function checks and returns True if the object passed appears to be callable, otherwise False.\n",
    "\n",
    "Python'da bir python callable() işlevi çağrılabilecek bir şeydir. Bu yerleşik işlev, iletilen nesne çağrılabilir gibi görünüyorsa kontrol eder ve True, aksi takdirde False döndürür."
   ]
  },
  {
   "cell_type": "code",
   "execution_count": 1,
   "id": "3d3a8073",
   "metadata": {},
   "outputs": [
    {
     "name": "stdout",
     "output_type": "stream",
     "text": [
      "True\n"
     ]
    }
   ],
   "source": [
    "def x():  \n",
    "    a = 5  \n",
    "print(callable(x))  "
   ]
  },
  {
   "cell_type": "code",
   "execution_count": 2,
   "id": "e5c0c657",
   "metadata": {},
   "outputs": [
    {
     "name": "stdout",
     "output_type": "stream",
     "text": [
      "False\n"
     ]
    }
   ],
   "source": [
    "x = 5  \n",
    "print(callable(x))  "
   ]
  },
  {
   "cell_type": "markdown",
   "id": "2d7e1205",
   "metadata": {},
   "source": [
    "# chr() Function\n",
    "Python chr() function is used to get a string representing of a character which points to a Unicode code integer. For example, chr(97) returns the string 'a'. This function takes an integer argument and throws an error if it exceeds from the specified range. The standard range of the argument is from 0 to 1,114,111.\n",
    "\n",
    "Python chr() işlevi, bir Unicode kod tamsayısına işaret eden bir karakteri temsil eden bir dize elde etmek için kullanılır. Örneğin, chr(97), 'a' dizesini döndürür. Bu işlev bir tamsayı argümanı alır ve belirtilen aralığı aşarsa bir hata verir. Argümanın standart aralığı 0 ile 1.114.111 arasındadır."
   ]
  },
  {
   "cell_type": "code",
   "execution_count": 19,
   "id": "2ec974fb",
   "metadata": {},
   "outputs": [
    {
     "name": "stdout",
     "output_type": "stream",
     "text": [
      "e\n",
      "p\n",
      "is it string type: True\n"
     ]
    }
   ],
   "source": [
    "# Python chr() function example  \n",
    "# Calling function  \n",
    "result = chr(101) # It returns string representation of a char  \n",
    "result2 = chr(112)  \n",
    "# Displaying result  \n",
    "print(result)  \n",
    "print(result2)  \n",
    "# Verify, is it string type?  \n",
    "print(\"is it string type:\", type(result) is str)  "
   ]
  },
  {
   "cell_type": "code",
   "execution_count": 20,
   "id": "6ac8cd02",
   "metadata": {},
   "outputs": [
    {
     "name": "stdout",
     "output_type": "stream",
     "text": [
      "Char at 112 is: p\n",
      "Char at 97 is: a\n",
      "Char at 114 is: r\n",
      "Char at 119 is: w\n",
      "Char at 115 is: s\n"
     ]
    },
    {
     "ename": "TypeError",
     "evalue": "integer argument expected, got float",
     "output_type": "error",
     "traceback": [
      "\u001b[1;31m---------------------------------------------------------------------------\u001b[0m",
      "\u001b[1;31mTypeError\u001b[0m                                 Traceback (most recent call last)",
      "\u001b[1;32m~\\AppData\\Local\\Temp/ipykernel_7184/2206262506.py\u001b[0m in \u001b[0;36m<module>\u001b[1;34m\u001b[0m\n\u001b[0;32m      4\u001b[0m \u001b[1;31m# Calling function\u001b[0m\u001b[1;33m\u001b[0m\u001b[1;33m\u001b[0m\u001b[1;33m\u001b[0m\u001b[0m\n\u001b[0;32m      5\u001b[0m \u001b[1;32mfor\u001b[0m \u001b[0md\u001b[0m \u001b[1;32min\u001b[0m \u001b[0mdata\u001b[0m\u001b[1;33m:\u001b[0m\u001b[1;33m\u001b[0m\u001b[1;33m\u001b[0m\u001b[0m\n\u001b[1;32m----> 6\u001b[1;33m     \u001b[0mprint\u001b[0m\u001b[1;33m(\u001b[0m\u001b[1;34m\"Char at\"\u001b[0m\u001b[1;33m,\u001b[0m\u001b[0md\u001b[0m\u001b[1;33m,\u001b[0m\u001b[1;34m\"is:\"\u001b[0m\u001b[1;33m,\u001b[0m\u001b[0mchr\u001b[0m\u001b[1;33m(\u001b[0m\u001b[0md\u001b[0m\u001b[1;33m)\u001b[0m\u001b[1;33m)\u001b[0m\u001b[1;33m\u001b[0m\u001b[1;33m\u001b[0m\u001b[0m\n\u001b[0m",
      "\u001b[1;31mTypeError\u001b[0m: integer argument expected, got float"
     ]
    }
   ],
   "source": [
    "# Python chr() function example  \n",
    "data = [112,97,114,119,115,10.5]  \n",
    "result = chr(11) # It returns string representation of a char  \n",
    "# Calling function  \n",
    "for d in data:  \n",
    "    print(\"Char at\",d,\"is:\",chr(d))  "
   ]
  },
  {
   "cell_type": "markdown",
   "id": "47735d8f",
   "metadata": {},
   "source": [
    "# sum() Function\n",
    "As the name says, python sum() function is used to get the sum of numbers of an iterable, i.e. list\n",
    "Adından da anlaşılacağı gibi, python sum() işlevi yinelenebilir, yani listenin sayılarının toplamını almak için kullanılır.\n",
    "\n",
    "sum(iterable, start)\n",
    "\n",
    "iterable - inelenebilir liste, tanımlama grupları ve sözlükler olabilir, ancak yinelenebilir bir nesne sayılar içermelidir..\n",
    "start - Başlangıç, yinelenebilirdeki sayıların toplamına eklenir. Söz diziminde start verilmezse 0 olduğu varsayılır."
   ]
  },
  {
   "cell_type": "code",
   "execution_count": 21,
   "id": "3856c902",
   "metadata": {},
   "outputs": [
    {
     "name": "stdout",
     "output_type": "stream",
     "text": [
      "5\n",
      "15\n",
      "8.0\n",
      "(4+6j)\n",
      "(6+8j)\n",
      "(4.5+0j)\n"
     ]
    }
   ],
   "source": [
    "s = sum([1, 2,2 ])  \n",
    "print(s)  \n",
    "  \n",
    "s = sum([1, 2, 2], 10)  \n",
    "print(s)  \n",
    "\n",
    "s = sum([2.5, 2.5, 3])  \n",
    "print(s)  \n",
    "\n",
    "s = sum([1 + 2j, 3 + 4j])  \n",
    "print(s)  \n",
    "  \n",
    "s = sum([1 + 2j, 3 + 4j], 2 + 2j)  \n",
    "print(s)  \n",
    "  \n",
    "s = sum([1 + 2j, 2, 1.5 - 2j])  \n",
    "print(s)  "
   ]
  },
  {
   "cell_type": "code",
   "execution_count": 39,
   "id": "1030c4f5",
   "metadata": {},
   "outputs": [
    {
     "ename": "ValueError",
     "evalue": "invalid literal for int() with base 10: '[3]'",
     "output_type": "error",
     "traceback": [
      "\u001b[1;31m---------------------------------------------------------------------------\u001b[0m",
      "\u001b[1;31mValueError\u001b[0m                                Traceback (most recent call last)",
      "\u001b[1;32m~\\AppData\\Local\\Temp/ipykernel_7184/2418470491.py\u001b[0m in \u001b[0;36m<module>\u001b[1;34m\u001b[0m\n\u001b[0;32m      1\u001b[0m \u001b[0mn\u001b[0m\u001b[1;33m=\u001b[0m\u001b[1;33m[\u001b[0m\u001b[1;36m3\u001b[0m\u001b[1;33m]\u001b[0m\u001b[1;33m\u001b[0m\u001b[1;33m\u001b[0m\u001b[0m\n\u001b[0;32m      2\u001b[0m \u001b[0mn\u001b[0m\u001b[1;33m=\u001b[0m\u001b[0mstr\u001b[0m\u001b[1;33m(\u001b[0m\u001b[0mn\u001b[0m\u001b[1;33m)\u001b[0m\u001b[1;33m\u001b[0m\u001b[1;33m\u001b[0m\u001b[0m\n\u001b[1;32m----> 3\u001b[1;33m \u001b[0ma\u001b[0m\u001b[1;33m=\u001b[0m\u001b[1;33m[\u001b[0m\u001b[1;36m2\u001b[0m\u001b[1;33m,\u001b[0m \u001b[1;36m3\u001b[0m\u001b[1;33m,\u001b[0m \u001b[0mint\u001b[0m\u001b[1;33m(\u001b[0m\u001b[0mn\u001b[0m\u001b[1;33m)\u001b[0m\u001b[1;33m]\u001b[0m\u001b[1;33m\u001b[0m\u001b[1;33m\u001b[0m\u001b[0m\n\u001b[0m\u001b[0;32m      4\u001b[0m \u001b[0msum\u001b[0m\u001b[1;33m(\u001b[0m\u001b[0ma\u001b[0m\u001b[1;33m)\u001b[0m\u001b[1;33m\u001b[0m\u001b[1;33m\u001b[0m\u001b[0m\n",
      "\u001b[1;31mValueError\u001b[0m: invalid literal for int() with base 10: '[3]'"
     ]
    }
   ],
   "source": [
    "n=[3]\n",
    "n=str(n)\n",
    "a=[2, 3, int(n)]\n",
    "sum(a)"
   ]
  },
  {
   "cell_type": "code",
   "execution_count": 36,
   "id": "5dff95fc",
   "metadata": {},
   "outputs": [
    {
     "data": {
      "text/plain": [
       "36"
      ]
     },
     "execution_count": 36,
     "metadata": {},
     "output_type": "execute_result"
    }
   ],
   "source": [
    "a = [1, 2, 3, 4, 5]\n",
    "x = sum(a, 21)\n",
    "x"
   ]
  },
  {
   "cell_type": "markdown",
   "id": "d348bea3",
   "metadata": {},
   "source": [
    "# format() Function\n",
    "The python format() function returns a formatted representation of the given value.\n",
    "python format() işlevi, verilen değerin biçimlendirilmiş bir temsilini döndürür.\n",
    "\n",
    "format(value, format)  \n",
    "value: Biçimlendirilmesi gereken değerdir.\n",
    "\n",
    "format: Değerin nasıl formatlanması gerektiğinin belirtilmesidir.\n",
    "https://www.w3schools.com/python/ref_func_format.asp"
   ]
  },
  {
   "cell_type": "code",
   "execution_count": 40,
   "id": "59ab4546",
   "metadata": {},
   "outputs": [
    {
     "data": {
      "text/plain": [
       "'25215'"
      ]
     },
     "execution_count": 40,
     "metadata": {},
     "output_type": "execute_result"
    }
   ],
   "source": [
    "x = format(25215, 'd')\n",
    "x"
   ]
  },
  {
   "cell_type": "code",
   "execution_count": 45,
   "id": "6d417963",
   "metadata": {},
   "outputs": [
    {
     "data": {
      "text/plain": [
       "'\\U00074d94'"
      ]
     },
     "execution_count": 45,
     "metadata": {},
     "output_type": "execute_result"
    }
   ],
   "source": [
    "av= format(478612, 'c')\n",
    "av"
   ]
  },
  {
   "cell_type": "code",
   "execution_count": 44,
   "id": "9f666cb4",
   "metadata": {},
   "outputs": [
    {
     "name": "stdout",
     "output_type": "stream",
     "text": [
      "['\\U00074d94']\n"
     ]
    }
   ],
   "source": [
    "print(av)"
   ]
  },
  {
   "cell_type": "code",
   "execution_count": 31,
   "id": "1cfc10dc",
   "metadata": {},
   "outputs": [],
   "source": [
    "x = format(0.5, '%')"
   ]
  },
  {
   "cell_type": "code",
   "execution_count": 32,
   "id": "f7fff9fd",
   "metadata": {},
   "outputs": [
    {
     "data": {
      "text/plain": [
       "'50.000000%'"
      ]
     },
     "execution_count": 32,
     "metadata": {},
     "output_type": "execute_result"
    }
   ],
   "source": [
    "x"
   ]
  },
  {
   "cell_type": "code",
   "execution_count": 43,
   "id": "1c747e46",
   "metadata": {},
   "outputs": [
    {
     "name": "stdout",
     "output_type": "stream",
     "text": [
      "123\n",
      "123.456790\n",
      "1100\n"
     ]
    }
   ],
   "source": [
    "# d, f and b are a type  \n",
    "  \n",
    "# integer  \n",
    "print(format(123, \"d\"))  \n",
    "  \n",
    "# float arguments  \n",
    "print(format(123.4567898, \"f\"))  \n",
    "  \n",
    "# binary format  \n",
    "print(format(12, \"b\"))  "
   ]
  },
  {
   "cell_type": "markdown",
   "id": "b66ef268",
   "metadata": {},
   "source": [
    "# frozenset() Function\n",
    "The python frozenset() function returns an immutable frozenset object initialized with elements from the given iterable.\n",
    "\n",
    "python frozenset() işlevi, verilen yinelenebilir öğeden öğelerle başlatılan değişmez bir frozenset nesnesi döndürür."
   ]
  },
  {
   "cell_type": "code",
   "execution_count": 46,
   "id": "7a8378f3",
   "metadata": {},
   "outputs": [
    {
     "data": {
      "text/plain": [
       "frozenset({'apple', 'banana', 'cherry'})"
      ]
     },
     "execution_count": 46,
     "metadata": {},
     "output_type": "execute_result"
    }
   ],
   "source": [
    "mylist = ['apple', 'banana', 'cherry', 'banana' ]\n",
    "x = frozenset(mylist)\n",
    "x"
   ]
  },
  {
   "cell_type": "code",
   "execution_count": 47,
   "id": "a6e0af83",
   "metadata": {},
   "outputs": [
    {
     "name": "stdout",
     "output_type": "stream",
     "text": [
      "Frozen set is: frozenset({'r', 'o', 'm', 't', 's'})\n",
      "Empty frozen set is: frozenset()\n"
     ]
    }
   ],
   "source": [
    "# tuple of letters  \n",
    "letters = ('m', 'r', 'o', 't', 's', 't')  \n",
    "  \n",
    "fSet = frozenset(letters)  \n",
    "print('Frozen set is:', fSet)  \n",
    "print('Empty frozen set is:', frozenset())  "
   ]
  },
  {
   "cell_type": "code",
   "execution_count": 6,
   "id": "52fd9c92",
   "metadata": {},
   "outputs": [
    {
     "name": "stdout",
     "output_type": "stream",
     "text": [
      "Frozen set is: frozenset({'age', 'gender', 'name'})\n"
     ]
    }
   ],
   "source": [
    "# random dictionary  \n",
    "person = {\"name\": \"Phill\", \"age\": 22, \"gender\": \"male\"}  \n",
    "  \n",
    "fSet = frozenset(person)  \n",
    "print('Frozen set is:', fSet)  "
   ]
  },
  {
   "cell_type": "markdown",
   "id": "34930f63",
   "metadata": {},
   "source": [
    "# getattr() Function\n",
    "The python getattr() function returns the value of a named attribute of an object. If it is not found, it returns the default value.\n",
    "\n",
    "python getattr() işlevi, bir nesnenin adlandırılmış özniteliğinin değerini döndürür. Bulunamazsa, varsayılan değeri döndürür.\n",
    "\n",
    "# getattr(object, attribute, default)\n",
    "\n",
    "object: Adlandırılmış öznitelik değeri döndürülecek bir nesne\n",
    "attribute:  Değerini almak istediğiniz özniteliğin adı.\n",
    "default (optional): Adlandırılmış öznitelik bulunamazsa döndürülecek değerdir"
   ]
  },
  {
   "cell_type": "code",
   "execution_count": 58,
   "id": "d3f381c0",
   "metadata": {},
   "outputs": [
    {
     "name": "stdout",
     "output_type": "stream",
     "text": [
      "The age is: 22\n",
      "The age is: 22\n"
     ]
    }
   ],
   "source": [
    "class Details:  \n",
    "    age = 22  \n",
    "    name = \"Phill\"  \n",
    "\n",
    "details = Details()  \n",
    "print('The age is:', getattr(details, \"age\"))  \n",
    "print('The age is:', details.age)  "
   ]
  },
  {
   "cell_type": "code",
   "execution_count": 59,
   "id": "1d7df0f3",
   "metadata": {},
   "outputs": [
    {
     "name": "stdout",
     "output_type": "stream",
     "text": [
      "The gender is: Male\n"
     ]
    },
    {
     "ename": "AttributeError",
     "evalue": "'Details' object has no attribute 'gender'",
     "output_type": "error",
     "traceback": [
      "\u001b[1;31m---------------------------------------------------------------------------\u001b[0m",
      "\u001b[1;31mAttributeError\u001b[0m                            Traceback (most recent call last)",
      "\u001b[1;32m~\\AppData\\Local\\Temp/ipykernel_15248/2405096304.py\u001b[0m in \u001b[0;36m<module>\u001b[1;34m\u001b[0m\n\u001b[0;32m      8\u001b[0m \u001b[1;33m\u001b[0m\u001b[0m\n\u001b[0;32m      9\u001b[0m \u001b[1;31m# when no default value is provided\u001b[0m\u001b[1;33m\u001b[0m\u001b[1;33m\u001b[0m\u001b[1;33m\u001b[0m\u001b[0m\n\u001b[1;32m---> 10\u001b[1;33m \u001b[0mprint\u001b[0m\u001b[1;33m(\u001b[0m\u001b[1;34m'The gender is:'\u001b[0m\u001b[1;33m,\u001b[0m \u001b[0mgetattr\u001b[0m\u001b[1;33m(\u001b[0m\u001b[0mdetails\u001b[0m\u001b[1;33m,\u001b[0m \u001b[1;34m'gender'\u001b[0m\u001b[1;33m)\u001b[0m\u001b[1;33m)\u001b[0m\u001b[1;33m\u001b[0m\u001b[1;33m\u001b[0m\u001b[0m\n\u001b[0m",
      "\u001b[1;31mAttributeError\u001b[0m: 'Details' object has no attribute 'gender'"
     ]
    }
   ],
   "source": [
    "class Details:  \n",
    "    age = 22  \n",
    "    name = \"Phill\"  \n",
    "details = Details()  \n",
    "  \n",
    "# when default value is provided  \n",
    "print('The gender is:', getattr(details, 'gender', 'Male'))  \n",
    "  \n",
    "# when no default value is provided  \n",
    "print('The gender is:', getattr(details, 'gender'))  "
   ]
  },
  {
   "cell_type": "code",
   "execution_count": 7,
   "id": "befa45af",
   "metadata": {},
   "outputs": [
    {
     "data": {
      "text/plain": [
       "'my message'"
      ]
     },
     "execution_count": 7,
     "metadata": {},
     "output_type": "execute_result"
    }
   ],
   "source": [
    "class Person:\n",
    "    name = \"John\"\n",
    "    age = 36\n",
    "    country = \"Norway\"\n",
    "\n",
    "x = getattr(Person, 'page', 'my message')\n",
    "x"
   ]
  },
  {
   "cell_type": "code",
   "execution_count": 52,
   "id": "2bce5d3c",
   "metadata": {},
   "outputs": [
    {
     "ename": "NameError",
     "evalue": "name 'Car' is not defined",
     "output_type": "error",
     "traceback": [
      "\u001b[1;31m---------------------------------------------------------------------------\u001b[0m",
      "\u001b[1;31mNameError\u001b[0m                                 Traceback (most recent call last)",
      "\u001b[1;32m~\\AppData\\Local\\Temp/ipykernel_7184/823095822.py\u001b[0m in \u001b[0;36m<module>\u001b[1;34m\u001b[0m\n\u001b[1;32m----> 1\u001b[1;33m \u001b[1;32mclass\u001b[0m \u001b[0mCar\u001b[0m\u001b[1;33m:\u001b[0m\u001b[1;33m\u001b[0m\u001b[1;33m\u001b[0m\u001b[0m\n\u001b[0m\u001b[0;32m      2\u001b[0m     \u001b[0mcolor\u001b[0m \u001b[1;33m=\u001b[0m \u001b[1;34m\"Blue\"\u001b[0m\u001b[1;33m\u001b[0m\u001b[1;33m\u001b[0m\u001b[0m\n\u001b[0;32m      3\u001b[0m     \u001b[0mc\u001b[0m \u001b[1;33m=\u001b[0m \u001b[0mCar\u001b[0m\u001b[1;33m(\u001b[0m\u001b[1;33m)\u001b[0m\u001b[1;33m\u001b[0m\u001b[1;33m\u001b[0m\u001b[0m\n\u001b[0;32m      4\u001b[0m \u001b[0mprint\u001b[0m\u001b[1;33m(\u001b[0m\u001b[0mgetattr\u001b[0m\u001b[1;33m(\u001b[0m\u001b[0mc\u001b[0m\u001b[1;33m,\u001b[0m \u001b[1;34m\"color\"\u001b[0m\u001b[1;33m)\u001b[0m\u001b[1;33m)\u001b[0m\u001b[1;33m\u001b[0m\u001b[1;33m\u001b[0m\u001b[0m\n",
      "\u001b[1;32m~\\AppData\\Local\\Temp/ipykernel_7184/823095822.py\u001b[0m in \u001b[0;36mCar\u001b[1;34m()\u001b[0m\n\u001b[0;32m      1\u001b[0m \u001b[1;32mclass\u001b[0m \u001b[0mCar\u001b[0m\u001b[1;33m:\u001b[0m\u001b[1;33m\u001b[0m\u001b[1;33m\u001b[0m\u001b[0m\n\u001b[0;32m      2\u001b[0m     \u001b[0mcolor\u001b[0m \u001b[1;33m=\u001b[0m \u001b[1;34m\"Blue\"\u001b[0m\u001b[1;33m\u001b[0m\u001b[1;33m\u001b[0m\u001b[0m\n\u001b[1;32m----> 3\u001b[1;33m     \u001b[0mc\u001b[0m \u001b[1;33m=\u001b[0m \u001b[0mCar\u001b[0m\u001b[1;33m(\u001b[0m\u001b[1;33m)\u001b[0m\u001b[1;33m\u001b[0m\u001b[1;33m\u001b[0m\u001b[0m\n\u001b[0m\u001b[0;32m      4\u001b[0m \u001b[0mprint\u001b[0m\u001b[1;33m(\u001b[0m\u001b[0mgetattr\u001b[0m\u001b[1;33m(\u001b[0m\u001b[0mc\u001b[0m\u001b[1;33m,\u001b[0m \u001b[1;34m\"color\"\u001b[0m\u001b[1;33m)\u001b[0m\u001b[1;33m)\u001b[0m\u001b[1;33m\u001b[0m\u001b[1;33m\u001b[0m\u001b[0m\n",
      "\u001b[1;31mNameError\u001b[0m: name 'Car' is not defined"
     ]
    }
   ],
   "source": [
    "class Car:\n",
    "    color = \"Blue\"\n",
    "    c = Car()\n",
    "print(getattr(c, \"color\"))"
   ]
  },
  {
   "cell_type": "code",
   "execution_count": 55,
   "id": "3166987a",
   "metadata": {},
   "outputs": [
    {
     "name": "stdout",
     "output_type": "stream",
     "text": [
      "Blue\n"
     ]
    }
   ],
   "source": [
    "class Car():\n",
    "    color = \"Blue\"\n",
    "   \n",
    "print(getattr(Car(), \"color\", 'my message'))"
   ]
  },
  {
   "cell_type": "markdown",
   "id": "85f60023",
   "metadata": {},
   "source": [
    "# hasattr() Function\n",
    "The python hasattr() function returns true if an object has given named attribute. Otherwise, it returns false.\n",
    "\n",
    "python hasattr() işlevi, bir nesne adlandırılmış öznitelik vermişse true değerini döndürür. Aksi takdirde false döndürür.\n",
    "\n",
    "hasattr(object, attribute)\n",
    "object: Adlandırılmış niteliği kontrol edilecek bir nesnedir.\n",
    "\n",
    "attribute: Aramak istediğiniz özniteliğin adıdır."
   ]
  },
  {
   "cell_type": "code",
   "execution_count": 74,
   "id": "656e87ee",
   "metadata": {},
   "outputs": [
    {
     "data": {
      "text/plain": [
       "True"
      ]
     },
     "execution_count": 74,
     "metadata": {},
     "output_type": "execute_result"
    }
   ],
   "source": [
    "class Person:\n",
    "    name = \"John\"\n",
    "    age = 36\n",
    "    country = \"Norway\"\n",
    "\n",
    "x = hasattr(Person, 'age')\n",
    "x"
   ]
  },
  {
   "cell_type": "code",
   "execution_count": 79,
   "id": "a5725dc3",
   "metadata": {},
   "outputs": [
    {
     "name": "stdout",
     "output_type": "stream",
     "text": [
      "Employee has age?: True\n",
      "Employee has salary?: False\n"
     ]
    }
   ],
   "source": [
    "class Employee() :\n",
    "    age = 21  \n",
    "    name = 'Phill'  \n",
    "employee = Employee()  \n",
    "\n",
    "print('Employee has age?:', hasattr(employee, 'age'))  \n",
    "print('Employee has salary?:', hasattr(employee, 'salary'))  "
   ]
  },
  {
   "cell_type": "markdown",
   "id": "59ee7ae9",
   "metadata": {},
   "source": [
    "# iter() Function\n",
    "The python iter() function is used to return an iterator object. It creates an object which can be iterated one element at a time.\n",
    "\n",
    "python iter() işlevi, bir yineleyici nesneyi döndürmek için kullanılır. Her seferinde bir öğe yinelenebilen bir nesne oluşturur.\n",
    "# iter(object, sentinel)\n",
    "object: Yinelenebilir bir nesne.\n",
    "\n",
    "sentinel (isteğe bağlı)- Bir dizinin sonunu temsil eden özel bir değerdir."
   ]
  },
  {
   "cell_type": "code",
   "execution_count": 80,
   "id": "7bd4c2ab",
   "metadata": {},
   "outputs": [
    {
     "name": "stdout",
     "output_type": "stream",
     "text": [
      "apple\n",
      "banana\n",
      "cherry\n"
     ]
    }
   ],
   "source": [
    "x = iter([\"apple\", \"banana\", \"cherry\"])\n",
    "print(next(x))\n",
    "print(next(x))\n",
    "print(next(x))"
   ]
  },
  {
   "cell_type": "code",
   "execution_count": 57,
   "id": "36515908",
   "metadata": {},
   "outputs": [
    {
     "ename": "TypeError",
     "evalue": "'list' object is not an iterator",
     "output_type": "error",
     "traceback": [
      "\u001b[1;31m---------------------------------------------------------------------------\u001b[0m",
      "\u001b[1;31mTypeError\u001b[0m                                 Traceback (most recent call last)",
      "\u001b[1;32m~\\AppData\\Local\\Temp/ipykernel_7184/3019566566.py\u001b[0m in \u001b[0;36m<module>\u001b[1;34m\u001b[0m\n\u001b[0;32m      3\u001b[0m \u001b[0miterator\u001b[0m \u001b[1;33m=\u001b[0m \u001b[0miter\u001b[0m\u001b[1;33m(\u001b[0m\u001b[0mpies\u001b[0m\u001b[1;33m)\u001b[0m\u001b[1;33m\u001b[0m\u001b[1;33m\u001b[0m\u001b[0m\n\u001b[0;32m      4\u001b[0m \u001b[0ma\u001b[0m\u001b[1;33m=\u001b[0m\u001b[0mlist\u001b[0m\u001b[1;33m(\u001b[0m\u001b[0miterator\u001b[0m\u001b[1;33m)\u001b[0m\u001b[1;33m\u001b[0m\u001b[1;33m\u001b[0m\u001b[0m\n\u001b[1;32m----> 5\u001b[1;33m \u001b[0mprint\u001b[0m\u001b[1;33m(\u001b[0m\u001b[0mnext\u001b[0m\u001b[1;33m(\u001b[0m\u001b[0ma\u001b[0m\u001b[1;33m)\u001b[0m\u001b[1;33m)\u001b[0m\u001b[1;33m\u001b[0m\u001b[1;33m\u001b[0m\u001b[0m\n\u001b[0m",
      "\u001b[1;31mTypeError\u001b[0m: 'list' object is not an iterator"
     ]
    }
   ],
   "source": [
    "pies = [\"cherry\", \"apple\", \"pumpkin\", \"pecan\"]\n",
    "\n",
    "iterator = iter(pies)\n",
    "a=list(iterator)\n",
    "print(next(a))"
   ]
  },
  {
   "cell_type": "code",
   "execution_count": null,
   "id": "415d5bae",
   "metadata": {},
   "outputs": [],
   "source": []
  },
  {
   "cell_type": "code",
   "execution_count": 86,
   "id": "999666ce",
   "metadata": {},
   "outputs": [
    {
     "name": "stdout",
     "output_type": "stream",
     "text": [
      "1\n",
      "2\n",
      "3\n",
      "4\n"
     ]
    }
   ],
   "source": [
    "# list of numbers  \n",
    "list = [1,2,3,4,5]  \n",
    "  \n",
    "listIter = iter(list)  \n",
    "  \n",
    "# prints '1'  \n",
    "print(next(listIter))  \n",
    "  \n",
    "# prints '2'  \n",
    "print(next(listIter))  \n",
    "  \n",
    "# prints '3'  \n",
    "print(next(listIter))  \n",
    "  \n",
    "# prints '4'  \n",
    "print(next(listIter))  \n"
   ]
  },
  {
   "cell_type": "code",
   "execution_count": 87,
   "id": "c3ec1431",
   "metadata": {},
   "outputs": [
    {
     "name": "stdout",
     "output_type": "stream",
     "text": [
      "5\n"
     ]
    }
   ],
   "source": [
    "print(next(listIter))  "
   ]
  },
  {
   "cell_type": "code",
   "execution_count": 88,
   "id": "d3f07bc2",
   "metadata": {},
   "outputs": [
    {
     "ename": "StopIteration",
     "evalue": "",
     "output_type": "error",
     "traceback": [
      "\u001b[1;31m---------------------------------------------------------------------------\u001b[0m",
      "\u001b[1;31mStopIteration\u001b[0m                             Traceback (most recent call last)",
      "\u001b[1;32m~\\AppData\\Local\\Temp/ipykernel_15248/2209864288.py\u001b[0m in \u001b[0;36m<module>\u001b[1;34m\u001b[0m\n\u001b[0;32m      1\u001b[0m \u001b[1;31m# prints '5'\u001b[0m\u001b[1;33m\u001b[0m\u001b[1;33m\u001b[0m\u001b[1;33m\u001b[0m\u001b[0m\n\u001b[1;32m----> 2\u001b[1;33m \u001b[0mprint\u001b[0m\u001b[1;33m(\u001b[0m\u001b[0mnext\u001b[0m\u001b[1;33m(\u001b[0m\u001b[0mlistIter\u001b[0m\u001b[1;33m)\u001b[0m\u001b[1;33m)\u001b[0m\u001b[1;33m\u001b[0m\u001b[1;33m\u001b[0m\u001b[0m\n\u001b[0m",
      "\u001b[1;31mStopIteration\u001b[0m: "
     ]
    }
   ],
   "source": [
    "  \n",
    "# prints '6'  \n",
    "print(next(listIter))  "
   ]
  },
  {
   "cell_type": "code",
   "execution_count": 58,
   "id": "ce878187",
   "metadata": {},
   "outputs": [
    {
     "name": "stdout",
     "output_type": "stream",
     "text": [
      "<list_iterator object at 0x000001757CBE3AC0>\n"
     ]
    }
   ],
   "source": [
    "list = [1,2,3,4,5]  \n",
    "  \n",
    "listIter = iter(list)  \n",
    "print(listIter)"
   ]
  },
  {
   "cell_type": "markdown",
   "id": "cb2076cd",
   "metadata": {},
   "source": [
    "# pow() Function\n",
    "Python pow() function is used to compute the powers of a number. It returns x to the power of y modulus z if a third argument(z) is present, i.e. (x, y) % z.\n",
    "# pow(x, y, z)\n",
    "parametreler\n",
    "x: Bu bir sayıdır, bir tabandır\n",
    "\n",
    "y: Bu bir sayı, bir üs.\n",
    "\n",
    "z (isteğe bağlı): Bir sayı ve modüldür."
   ]
  },
  {
   "cell_type": "code",
   "execution_count": 11,
   "id": "032ec44e",
   "metadata": {},
   "outputs": [
    {
     "data": {
      "text/plain": [
       "4"
      ]
     },
     "execution_count": 11,
     "metadata": {},
     "output_type": "execute_result"
    }
   ],
   "source": [
    "x = pow(4, 3, 5)\n",
    "x"
   ]
  },
  {
   "cell_type": "code",
   "execution_count": 98,
   "id": "eeffe030",
   "metadata": {},
   "outputs": [
    {
     "name": "stdout",
     "output_type": "stream",
     "text": [
      "16\n",
      "16\n",
      "0.0625\n",
      "0.04\n"
     ]
    }
   ],
   "source": [
    "# positive x, positive y (x**y)  \n",
    "print(pow(4, 2))  \n",
    "  \n",
    "# negative x, positive y  \n",
    "print(pow(-4, 2))  \n",
    "  \n",
    "# positive x, negative y (x**-y)  \n",
    "print(pow(4, -2))  \n",
    "  \n",
    "# negative x, negative y  \n",
    "print(pow(-5, -2))  \n",
    " "
   ]
  },
  {
   "cell_type": "code",
   "execution_count": 99,
   "id": "5353761f",
   "metadata": {},
   "outputs": [
    {
     "name": "stdout",
     "output_type": "stream",
     "text": [
      "1\n"
     ]
    }
   ],
   "source": [
    "x = 4  \n",
    "y = 7  \n",
    "z = 3  \n",
    "  \n",
    "print(pow(x, y, z))  "
   ]
  },
  {
   "cell_type": "markdown",
   "id": "2058290d",
   "metadata": {},
   "source": [
    "# reversed() Function\n",
    "Python reversed() function returns the reversed iterator of the given sequence.\n",
    "\n",
    "Python reversed() işlevi, verilen dizinin tersine çevrilmiş yineleyicisini döndürür."
   ]
  },
  {
   "cell_type": "code",
   "execution_count": 114,
   "id": "a91c2bb6",
   "metadata": {},
   "outputs": [
    {
     "name": "stdout",
     "output_type": "stream",
     "text": [
      "d\n",
      "c\n",
      "b\n",
      "a\n"
     ]
    }
   ],
   "source": [
    "alph = [\"a\", \"b\", \"c\", \"d\"]\n",
    "ralph = reversed(alph)\n",
    "for x in ralph:\n",
    "    print(x)"
   ]
  },
  {
   "cell_type": "code",
   "execution_count": null,
   "id": "ec9c3ed7",
   "metadata": {},
   "outputs": [],
   "source": []
  },
  {
   "cell_type": "markdown",
   "id": "5c33d898",
   "metadata": {},
   "source": [
    "# round() Function\n",
    "Python round() function rounds off the digits of a number and returns the floating-point number.\n",
    "Python round() işlevi, bir sayının basamaklarını yuvarlar ve kayan noktalı sayıyı döndürür.\n",
    "\n",
    "# round(number,digits)  \n",
    "number : Yuvarlanacak sayı.\n",
    "\n",
    "digits : Verilen sayının yuvarlanacağı sayıdır ve isteğe bağlı bir parametredir.\n"
   ]
  },
  {
   "cell_type": "code",
   "execution_count": 9,
   "id": "eeba6b46",
   "metadata": {},
   "outputs": [
    {
     "name": "stdout",
     "output_type": "stream",
     "text": [
      "10\n",
      "11\n",
      "7\n"
     ]
    }
   ],
   "source": [
    "#  for integers  \n",
    "print(round(10))  \n",
    "  \n",
    "#  for floating point  \n",
    "print(round(10.8))  \n",
    "  \n",
    "#  even choice  \n",
    "print(round(6.6))  "
   ]
  },
  {
   "cell_type": "code",
   "execution_count": 10,
   "id": "e46673d0",
   "metadata": {},
   "outputs": [
    {
     "name": "stdout",
     "output_type": "stream",
     "text": [
      "2.67\n",
      "2.67\n"
     ]
    }
   ],
   "source": [
    "print(round(2.665, 2))  \n",
    "# cannot be represented exactly as a float  \n",
    "print(round(2.675, 2))  "
   ]
  },
  {
   "cell_type": "code",
   "execution_count": null,
   "id": "cc08dc89",
   "metadata": {},
   "outputs": [],
   "source": [
    "x = round(5.76543, 2)\n",
    "print(x)"
   ]
  },
  {
   "cell_type": "markdown",
   "id": "973d9e32",
   "metadata": {},
   "source": [
    "# vars() Function\n",
    "Python vars() function returns the __dict__ attribute of the given object.\n",
    "Python vars() işlevi, verilen nesnenin __dict__ niteliğini döndürür.\n",
    "\n",
    "vars(object)  \n",
    "parametreler\n",
    "object (isteğe bağlı): Bu bir nesnedir ve bir modül, sınıf, örnek veya __dict__ özniteliğine sahip başka herhangi bir nesne olabilir.\n",
    "\n",
    "Geri dönmek\n",
    "Verilen nesnenin __dict__ niteliğini döndürür. Herhangi bir nesne öznitelikle eşleşemezse, bir TypeError istisnası oluşturur ."
   ]
  },
  {
   "cell_type": "code",
   "execution_count": 124,
   "id": "ae7f8f44",
   "metadata": {},
   "outputs": [
    {
     "name": "stdout",
     "output_type": "stream",
     "text": [
      "{'__module__': '__main__', 'name': 'John', 'age': 36, 'country': 'norway', '__dict__': <attribute '__dict__' of 'Person' objects>, '__weakref__': <attribute '__weakref__' of 'Person' objects>, '__doc__': None}\n"
     ]
    }
   ],
   "source": [
    "class Person:\n",
    "    name = \"John\"\n",
    "    age = 36\n",
    "    country = \"norway\"\n",
    "\n",
    "\n",
    "print(vars(Person))"
   ]
  },
  {
   "cell_type": "code",
   "execution_count": 119,
   "id": "5b68bdb7",
   "metadata": {},
   "outputs": [
    {
     "name": "stdout",
     "output_type": "stream",
     "text": [
      "{'x': 7, 'y': 9}\n"
     ]
    }
   ],
   "source": [
    "class Python:  \n",
    "    def __init__(self, x = 7, y = 9):\n",
    "        self.x = x  \n",
    "        self.y = y  \n",
    "    \n",
    "InstanceOfPython = Python()  \n",
    "print(vars(InstanceOfPython))  "
   ]
  },
  {
   "cell_type": "markdown",
   "id": "a4bc67ad",
   "metadata": {},
   "source": [
    "# delattr() Function\n",
    "Python delattr() function is used to delete an attribute from a class. It takes two parameters first is an object of the class and second is an attribute which we want to delete. After deleting the attribute, it no longer available in the class and throws an error if try to call it using the class object.\n",
    "  Python delattr() işlevi, bir sınıftan bir özniteliği silmek için kullanılır. İlk önce sınıfın bir nesnesi ve ikincisi silmek istediğimiz bir öznitelik olmak üzere iki parametre alır. Özniteliği sildikten sonra, artık sınıfta mevcut değildir ve sınıf nesnesini kullanarak onu çağırmaya çalışırsanız bir hata verir.\n",
    "\n",
    "delattr (object, name)  \n",
    "Parameters\n",
    "object: Özniteliği içeren sınıfın nesnesi.\n",
    "\n",
    "name : Silinecek özniteliğin adı. Bir dize olmalı."
   ]
  },
  {
   "cell_type": "code",
   "execution_count": 130,
   "id": "7743cd79",
   "metadata": {},
   "outputs": [
    {
     "name": "stdout",
     "output_type": "stream",
     "text": [
      "<class '__main__.Person'>\n"
     ]
    }
   ],
   "source": [
    "class Person:\n",
    "    name = \"John\"\n",
    "    age = 36\n",
    "    country = \"Norway\"\n",
    "\n",
    "delattr(Person, 'age')\n",
    "print(Person)"
   ]
  },
  {
   "cell_type": "code",
   "execution_count": 125,
   "id": "698f5077",
   "metadata": {},
   "outputs": [
    {
     "name": "stdout",
     "output_type": "stream",
     "text": [
      "101 Rohan rohan@abc.com\n"
     ]
    },
    {
     "ename": "AttributeError",
     "evalue": "'Student' object has no attribute 'email'",
     "output_type": "error",
     "traceback": [
      "\u001b[1;31m---------------------------------------------------------------------------\u001b[0m",
      "\u001b[1;31mAttributeError\u001b[0m                            Traceback (most recent call last)",
      "\u001b[1;32m~\\AppData\\Local\\Temp/ipykernel_15248/583443093.py\u001b[0m in \u001b[0;36m<module>\u001b[1;34m\u001b[0m\n\u001b[0;32m      9\u001b[0m \u001b[0ms\u001b[0m\u001b[1;33m.\u001b[0m\u001b[0mgetinfo\u001b[0m\u001b[1;33m(\u001b[0m\u001b[1;33m)\u001b[0m\u001b[1;33m\u001b[0m\u001b[1;33m\u001b[0m\u001b[0m\n\u001b[0;32m     10\u001b[0m \u001b[0mdelattr\u001b[0m\u001b[1;33m(\u001b[0m\u001b[0mStudent\u001b[0m\u001b[1;33m,\u001b[0m\u001b[1;34m'email'\u001b[0m\u001b[1;33m)\u001b[0m \u001b[1;31m# Removing attribute\u001b[0m\u001b[1;33m\u001b[0m\u001b[1;33m\u001b[0m\u001b[0m\n\u001b[1;32m---> 11\u001b[1;33m \u001b[0ms\u001b[0m\u001b[1;33m.\u001b[0m\u001b[0mgetinfo\u001b[0m\u001b[1;33m(\u001b[0m\u001b[1;33m)\u001b[0m \u001b[1;31m# error: no attribute 'email' is available\u001b[0m\u001b[1;33m\u001b[0m\u001b[1;33m\u001b[0m\u001b[0m\n\u001b[0m",
      "\u001b[1;32m~\\AppData\\Local\\Temp/ipykernel_15248/583443093.py\u001b[0m in \u001b[0;36mgetinfo\u001b[1;34m(self)\u001b[0m\n\u001b[0;32m      5\u001b[0m     \u001b[0memail\u001b[0m \u001b[1;33m=\u001b[0m \u001b[1;34m\"rohan@abc.com\"\u001b[0m\u001b[1;33m\u001b[0m\u001b[1;33m\u001b[0m\u001b[0m\n\u001b[0;32m      6\u001b[0m     \u001b[1;32mdef\u001b[0m \u001b[0mgetinfo\u001b[0m\u001b[1;33m(\u001b[0m\u001b[0mself\u001b[0m\u001b[1;33m)\u001b[0m\u001b[1;33m:\u001b[0m\u001b[1;33m\u001b[0m\u001b[1;33m\u001b[0m\u001b[0m\n\u001b[1;32m----> 7\u001b[1;33m         \u001b[0mprint\u001b[0m\u001b[1;33m(\u001b[0m\u001b[0mself\u001b[0m\u001b[1;33m.\u001b[0m\u001b[0mid\u001b[0m\u001b[1;33m,\u001b[0m \u001b[0mself\u001b[0m\u001b[1;33m.\u001b[0m\u001b[0mname\u001b[0m\u001b[1;33m,\u001b[0m \u001b[0mself\u001b[0m\u001b[1;33m.\u001b[0m\u001b[0memail\u001b[0m\u001b[1;33m)\u001b[0m\u001b[1;33m\u001b[0m\u001b[1;33m\u001b[0m\u001b[0m\n\u001b[0m\u001b[0;32m      8\u001b[0m \u001b[0ms\u001b[0m \u001b[1;33m=\u001b[0m \u001b[0mStudent\u001b[0m\u001b[1;33m(\u001b[0m\u001b[1;33m)\u001b[0m\u001b[1;33m\u001b[0m\u001b[1;33m\u001b[0m\u001b[0m\n\u001b[0;32m      9\u001b[0m \u001b[0ms\u001b[0m\u001b[1;33m.\u001b[0m\u001b[0mgetinfo\u001b[0m\u001b[1;33m(\u001b[0m\u001b[1;33m)\u001b[0m\u001b[1;33m\u001b[0m\u001b[1;33m\u001b[0m\u001b[0m\n",
      "\u001b[1;31mAttributeError\u001b[0m: 'Student' object has no attribute 'email'"
     ]
    }
   ],
   "source": [
    "# Python delattr() function example  \n",
    "class Student:  \n",
    "    id = 101  \n",
    "    name = \"Rohan\"  \n",
    "    email = \"rohan@abc.com\"  \n",
    "    def getinfo(self):  \n",
    "        print(self.id, self.name, self.email)  \n",
    "s = Student()  \n",
    "s.getinfo()  \n",
    "delattr(Student,'email') # Removing attribute  \n",
    "s.getinfo() # error: no attribute 'email' is available  "
   ]
  },
  {
   "cell_type": "code",
   "execution_count": 126,
   "id": "a5d48b2a",
   "metadata": {},
   "outputs": [
    {
     "name": "stdout",
     "output_type": "stream",
     "text": [
      "101 Rohan rohan@abc.com\n"
     ]
    },
    {
     "ename": "AttributeError",
     "evalue": "course",
     "output_type": "error",
     "traceback": [
      "\u001b[1;31m---------------------------------------------------------------------------\u001b[0m",
      "\u001b[1;31mAttributeError\u001b[0m                            Traceback (most recent call last)",
      "\u001b[1;32m~\\AppData\\Local\\Temp/ipykernel_15248/2962678850.py\u001b[0m in \u001b[0;36m<module>\u001b[1;34m\u001b[0m\n\u001b[0;32m      9\u001b[0m \u001b[0ms\u001b[0m \u001b[1;33m=\u001b[0m \u001b[0mStudent\u001b[0m\u001b[1;33m(\u001b[0m\u001b[1;33m)\u001b[0m\u001b[1;33m\u001b[0m\u001b[1;33m\u001b[0m\u001b[0m\n\u001b[0;32m     10\u001b[0m \u001b[0ms\u001b[0m\u001b[1;33m.\u001b[0m\u001b[0mgetinfo\u001b[0m\u001b[1;33m(\u001b[0m\u001b[1;33m)\u001b[0m\u001b[1;33m\u001b[0m\u001b[1;33m\u001b[0m\u001b[0m\n\u001b[1;32m---> 11\u001b[1;33m \u001b[0mdelattr\u001b[0m\u001b[1;33m(\u001b[0m\u001b[0mStudent\u001b[0m\u001b[1;33m,\u001b[0m\u001b[1;34m'course'\u001b[0m\u001b[1;33m)\u001b[0m \u001b[1;31m# Removing attribute which is not available\u001b[0m\u001b[1;33m\u001b[0m\u001b[1;33m\u001b[0m\u001b[0m\n\u001b[0m\u001b[0;32m     12\u001b[0m \u001b[0ms\u001b[0m\u001b[1;33m.\u001b[0m\u001b[0mgetinfo\u001b[0m\u001b[1;33m(\u001b[0m\u001b[1;33m)\u001b[0m \u001b[1;31m# error: throws an error\u001b[0m\u001b[1;33m\u001b[0m\u001b[1;33m\u001b[0m\u001b[0m\n",
      "\u001b[1;31mAttributeError\u001b[0m: course"
     ]
    }
   ],
   "source": [
    "# Python delattr() function example  \n",
    "class Student:  \n",
    "    id = 101  \n",
    "    name = \"Rohan\"  \n",
    "    email = \"rohan@abc.com\"  \n",
    "# Declaring function  \n",
    "    def getinfo(self):  \n",
    "        print(self.id, self.name, self.email)  \n",
    "s = Student()  \n",
    "s.getinfo()  \n",
    "delattr(Student,'course') # Removing attribute which is not available  \n",
    "s.getinfo() # error: throws an error  "
   ]
  },
  {
   "cell_type": "code",
   "execution_count": null,
   "id": "6ad0947d",
   "metadata": {},
   "outputs": [],
   "source": []
  },
  {
   "cell_type": "code",
   "execution_count": null,
   "id": "656101cd",
   "metadata": {},
   "outputs": [],
   "source": []
  },
  {
   "cell_type": "markdown",
   "id": "708e6fae",
   "metadata": {},
   "source": [
    "# setattr() Function\n",
    "Python setattr() function is used to set a value to the object's attribute. It takes three arguments an object, a string, and an arbitrary value, and returns none. It is helpful when we want to add a new attribute to an object and set a value to it. The signature of the function is given below.\n",
    "\n",
    "Python setattr() işlevi, nesnenin niteliğine bir değer ayarlamak için kullanılır. Bir nesne, bir dize ve rastgele bir değer olmak üzere üç bağımsız değişken alır ve hiçbiri döndürmez. Bir nesneye yeni bir nitelik eklemek ve ona bir değer ayarlamak istediğimizde yararlıdır. Fonksiyonun imzası aşağıda verilmiştir.\n",
    "\n",
    "\n",
    "### setattr (object, name, value)  \n",
    "Parameters\n",
    "object: Niteliklerinin değiştirilmesine izin veren bir nesnedir.\n",
    "\n",
    "name : Özelliğin adı.\n",
    "\n",
    "value : Özniteliğe ayarlanmış bir değer."
   ]
  },
  {
   "cell_type": "code",
   "execution_count": 165,
   "id": "4923b79c",
   "metadata": {},
   "outputs": [
    {
     "name": "stdout",
     "output_type": "stream",
     "text": [
      "40\n"
     ]
    }
   ],
   "source": [
    "class Person:\n",
    "  name = \"John\"\n",
    "  age = 36\n",
    "  country = \"Norway\"\n",
    "\n",
    "setattr(Person, 'age', 40)\n",
    "\n",
    "# The age property will now have the value: 40\n",
    "\n",
    "x = getattr(Person, 'age')\n",
    "\n",
    "print(x)\n"
   ]
  },
  {
   "cell_type": "code",
   "execution_count": null,
   "id": "165bd52f",
   "metadata": {},
   "outputs": [],
   "source": []
  },
  {
   "cell_type": "code",
   "execution_count": 166,
   "id": "fff6eada",
   "metadata": {},
   "outputs": [
    {
     "name": "stdout",
     "output_type": "stream",
     "text": [
      "102\n",
      "Sohan\n",
      "sohan@abc.com\n"
     ]
    }
   ],
   "source": [
    "class Student:  \n",
    "    id = 0  \n",
    "    name = \"\"  \n",
    "      \n",
    "    def __init__(self, id, name):  \n",
    "        self.id = id  \n",
    "        self.name = name  \n",
    "          \n",
    "student = Student(102,\"Sohan\")  \n",
    "print(student.id)  \n",
    "print(student.name)  \n",
    "#print(student.email) product error  \n",
    "setattr(student, 'email','sohan@abc.com') # adding new attribute  \n",
    "print(student.email)  "
   ]
  },
  {
   "cell_type": "code",
   "execution_count": 167,
   "id": "b0e53d9a",
   "metadata": {},
   "outputs": [
    {
     "name": "stdout",
     "output_type": "stream",
     "text": [
      "102\n",
      "Sohan\n",
      "None\n"
     ]
    }
   ],
   "source": [
    "class Student:  \n",
    "    id = 0  \n",
    "    name = \"\"  \n",
    "      \n",
    "    def __init__(self, id, name):  \n",
    "        self.id = id  \n",
    "        self.name = name  \n",
    "          \n",
    "student = Student(102,\"Sohan\")  \n",
    "print(student.id)  \n",
    "print(student.name)  \n",
    "setattr(student, 'email',None) # adding new attribute having None  \n",
    "print(student.email)  "
   ]
  },
  {
   "cell_type": "code",
   "execution_count": 168,
   "id": "16ddbb74",
   "metadata": {},
   "outputs": [
    {
     "name": "stdout",
     "output_type": "stream",
     "text": [
      "102\n",
      "Sohan\n",
      "Tom@abc.com\n"
     ]
    }
   ],
   "source": [
    "class Student:  \n",
    "    id = 0  \n",
    "    name = \"\"  \n",
    "      \n",
    "    def __init__(self, id, name):  \n",
    "        self.id = id  \n",
    "        self.name = name  \n",
    "          \n",
    "student = Student(102,\"Sohan\")  \n",
    "print(student.id)  \n",
    "print(student.name)  \n",
    "setattr(student, 'email',None) # adding new attribute having None  \n",
    "student.email = \"Tom@abc.com\" # Assigning new value  \n",
    "print(student.email)  "
   ]
  },
  {
   "cell_type": "code",
   "execution_count": null,
   "id": "4ae52d0b",
   "metadata": {},
   "outputs": [],
   "source": []
  },
  {
   "cell_type": "code",
   "execution_count": null,
   "id": "8da19583",
   "metadata": {},
   "outputs": [],
   "source": []
  },
  {
   "cell_type": "markdown",
   "id": "73e2a6f4",
   "metadata": {},
   "source": [
    "# divmod() Function\n",
    "Python divmod() işlevi, iki sayıdan kalanını ve bölümünü almak için kullanılır. Bu işlev iki sayısal argüman alır ve bir tanımlama grubu döndürür. Her iki bağımsız değişken de gereklidir ve sayısaldır. Bu işlev aşağıdaki sözdizimine sahiptir.\n",
    "### divmod (number1, number2) \n"
   ]
  },
  {
   "cell_type": "code",
   "execution_count": 132,
   "id": "c5b86846",
   "metadata": {},
   "outputs": [
    {
     "name": "stdout",
     "output_type": "stream",
     "text": [
      "(5, 0)\n"
     ]
    }
   ],
   "source": [
    "# Python divmod() function example  \n",
    "# Calling function  \n",
    "result = divmod(10,2)  \n",
    "# Displaying result  \n",
    "print(result)  "
   ]
  },
  {
   "cell_type": "code",
   "execution_count": 133,
   "id": "fdd80a73",
   "metadata": {},
   "outputs": [
    {
     "name": "stdout",
     "output_type": "stream",
     "text": [
      "(2.0, 0.5)\n"
     ]
    }
   ],
   "source": [
    "# Python divmod() function example  \n",
    "# Calling function  \n",
    "result = divmod(5.5,2.5)  \n",
    "# Displaying result  \n",
    "print(result)  "
   ]
  },
  {
   "cell_type": "code",
   "execution_count": 134,
   "id": "bbd93805",
   "metadata": {},
   "outputs": [
    {
     "name": "stdout",
     "output_type": "stream",
     "text": [
      "(2.0, 1.5)\n"
     ]
    }
   ],
   "source": [
    "# Python divmod() function example  \n",
    "# Calling function  \n",
    "result = divmod(5.5,2)  \n",
    "# Displaying result  \n",
    "print(result)  "
   ]
  },
  {
   "cell_type": "code",
   "execution_count": null,
   "id": "c6426a9f",
   "metadata": {},
   "outputs": [],
   "source": []
  },
  {
   "cell_type": "markdown",
   "id": "89fbdf2f",
   "metadata": {},
   "source": [
    "# enumerate() Function\n",
    "Python enumerate() function returns an enumerated object. It takes two parameters first is a sequence of elements and the second is the start index of the sequence. We can get sequence elements either through a loop or next() method.\n",
    "The next() method of the iterator returned by enumerate() returns a tuple and the values obtained from iterating over a sequence.\n",
    "\n",
    "Python enumerate() işlevi, numaralandırılmış bir nesne döndürür. İlk önce bir eleman dizisi ve ikincisi dizinin başlangıç ​​indeksi olmak üzere iki parametre alır. Dizi öğelerini bir döngü veya next() yöntemi aracılığıyla alabiliriz.\n",
    "enumerate() tarafından döndürülen yineleyicinin next() yöntemi, bir tanımlama grubu ve bir dizi üzerinde yinelemeden elde edilen değerleri döndürür.\n",
    "\n",
    "\n",
    "### enumerate (sequence, start=0)  \n",
    "enumerate()Fonksiyon numaralandırmak nesnesinin anahtar olarak bir sayaç ekler.\n",
    "sequence: Bir koleksiyon veya sekans olmalıdır. Gerekli parametredir.\n",
    "start : Dizinin başlangıcını ayarlamak için kullanılan isteğe bağlı bir dizindir.\n",
    "\n"
   ]
  },
  {
   "cell_type": "code",
   "execution_count": 7,
   "id": "0f01fa0e",
   "metadata": {},
   "outputs": [
    {
     "name": "stdout",
     "output_type": "stream",
     "text": [
      "[(0, 'Spring'), (1, 'Summer'), (2, 'Fall'), (3, 'Winter')]\n",
      "[(10, 'Spring'), (11, 'Summer'), (12, 'Fall'), (13, 'Winter')]\n"
     ]
    }
   ],
   "source": [
    "seasons = ['Spring', 'Summer', 'Fall', 'Winter']\n",
    "x = list(enumerate(seasons))\n",
    "\n",
    "y = list(enumerate(seasons, start=10))\n",
    "print(x)\n",
    "print(y)"
   ]
  },
  {
   "cell_type": "code",
   "execution_count": 8,
   "id": "ae944a88",
   "metadata": {},
   "outputs": [
    {
     "name": "stdout",
     "output_type": "stream",
     "text": [
      "(5, 'Spring')\n",
      "(6, 'Summer')\n",
      "(7, 'Fall')\n",
      "(8, 'Winter')\n"
     ]
    }
   ],
   "source": [
    "seasons = ['Spring', 'Summer', 'Fall', 'Winter']\n",
    "result = enumerate(seasons, 5)  \n",
    "\n",
    "for element in result:  \n",
    "    print(element)  "
   ]
  },
  {
   "cell_type": "code",
   "execution_count": 147,
   "id": "9517475f",
   "metadata": {},
   "outputs": [
    {
     "name": "stdout",
     "output_type": "stream",
     "text": [
      "(5, 1)\n",
      "(6, 2)\n",
      "(7, 3)\n"
     ]
    }
   ],
   "source": [
    "# Python enumerate() function example  \n",
    "# Calling function  \n",
    "result = enumerate([1,2,3], 5)  \n",
    "# Displaying result  \n",
    "for element in result:  \n",
    "    print(element)  \n"
   ]
  },
  {
   "cell_type": "code",
   "execution_count": 146,
   "id": "78eba53e",
   "metadata": {},
   "outputs": [
    {
     "name": "stdout",
     "output_type": "stream",
     "text": [
      "(21, 1)\n",
      "(22, 2)\n",
      "(23, 3)\n"
     ]
    }
   ],
   "source": [
    "# Python enumerate() function example  \n",
    "# Calling function  \n",
    "result = enumerate([1,2,3], 21)  \n",
    "# Displaying result  \n",
    "for element in result:  \n",
    "    print(element)  "
   ]
  },
  {
   "cell_type": "code",
   "execution_count": 142,
   "id": "b608b63b",
   "metadata": {},
   "outputs": [
    {
     "name": "stdout",
     "output_type": "stream",
     "text": [
      "(10, 1)\n",
      "(11, 2)\n",
      "(12, 3)\n"
     ]
    }
   ],
   "source": [
    "# Python enumerate() function example  \n",
    "# Calling function  \n",
    "result = enumerate([1,2,3],10)  \n",
    "# Displaying result  \n",
    "for element in result:  \n",
    "    print(element)  "
   ]
  },
  {
   "cell_type": "code",
   "execution_count": null,
   "id": "129ed07d",
   "metadata": {},
   "outputs": [],
   "source": []
  },
  {
   "cell_type": "markdown",
   "id": "31855de2",
   "metadata": {},
   "source": [
    "# dict() Function\n",
    "Python dict() işlevi, sözlük oluşturan bir yapıcıdır. Python sözlüğü, bir oluşturma sözlüğü için üç farklı kurucu sağlar.\n",
    "\n",
    "Argüman iletilmezse boş bir sözlük oluşturur.\n",
    "Konumsal bir bağımsız değişken verilirse, aynı anahtar/değer çiftleriyle bir sözlük oluşturulur. Aksi takdirde, yinelenebilir bir nesne iletin.\n",
    "Anahtar kelime argümanları verilirse, anahtar kelime argümanları ve değerleri, konum argümanından oluşturulan sözlüğe eklenir.# "
   ]
  },
  {
   "cell_type": "code",
   "execution_count": 159,
   "id": "7221c0cf",
   "metadata": {},
   "outputs": [
    {
     "name": "stdout",
     "output_type": "stream",
     "text": [
      "{'name': 'John', 'age': 36, 'country': 'Norway'}\n"
     ]
    }
   ],
   "source": [
    "x = dict(name = \"John\", age = 36, country = \"Norway\")\n",
    "\n",
    "print(x)"
   ]
  },
  {
   "cell_type": "code",
   "execution_count": 155,
   "id": "de14869f",
   "metadata": {},
   "outputs": [
    {
     "ename": "SyntaxError",
     "evalue": "invalid syntax (Temp/ipykernel_15248/3786785995.py, line 1)",
     "output_type": "error",
     "traceback": [
      "\u001b[1;36m  File \u001b[1;32m\"C:\\Users\\DOGAN\\AppData\\Local\\Temp/ipykernel_15248/3786785995.py\"\u001b[1;36m, line \u001b[1;32m1\u001b[0m\n\u001b[1;33m    dict ([**kwargs])\u001b[0m\n\u001b[1;37m           ^\u001b[0m\n\u001b[1;31mSyntaxError\u001b[0m\u001b[1;31m:\u001b[0m invalid syntax\n"
     ]
    }
   ],
   "source": [
    "dict ([**kwargs])  \n",
    "dict ([mapping, **kwargs])  \n",
    "dict ([iterable, **kwargs])  "
   ]
  },
  {
   "cell_type": "code",
   "execution_count": 156,
   "id": "6cb23ea9",
   "metadata": {},
   "outputs": [
    {
     "name": "stdout",
     "output_type": "stream",
     "text": [
      "{}\n",
      "{'a': 1, 'b': 2}\n"
     ]
    }
   ],
   "source": [
    "# Python dict() function example  \n",
    "# Calling function  \n",
    "result = dict() # returns an empty dictionary  \n",
    "result2 = dict(a=1,b=2)  \n",
    "# Displaying result  \n",
    "print(result)  \n",
    "print(result2)  "
   ]
  },
  {
   "cell_type": "code",
   "execution_count": 157,
   "id": "1d70adc9",
   "metadata": {},
   "outputs": [
    {
     "name": "stdout",
     "output_type": "stream",
     "text": [
      "{'x': 5, 'y': 10, 'z': 20}\n",
      "{'x': 5, 'y': 10, 'z': 20}\n"
     ]
    }
   ],
   "source": [
    "# Python dict() function example  \n",
    "# Calling function  \n",
    "result = dict({'x': 5, 'y': 10}, z=20) # Creating dictionary using mapping  \n",
    "result2 = dict({'x': 5, 'y': 10, 'z':20})  \n",
    "# Displaying result  \n",
    "print(result)  \n",
    "print(result2)  "
   ]
  },
  {
   "cell_type": "code",
   "execution_count": 158,
   "id": "b4a867b0",
   "metadata": {},
   "outputs": [
    {
     "name": "stdout",
     "output_type": "stream",
     "text": [
      "{1: 'One', 2: 'Two', 3: 'Three'}\n",
      "{'x': 'X', 'y': 'Y'}\n"
     ]
    }
   ],
   "source": [
    "# Python dict() function example  \n",
    "# Calling function  \n",
    "result = dict([(1, 'One'), [2, 'Two'], [3,'Three']]) # Creating using iterable  \n",
    "result2 = dict([['x','X'],('y','Y')])  \n",
    "# Displaying result  \n",
    "print(result)  \n",
    "print(result2)  "
   ]
  },
  {
   "cell_type": "code",
   "execution_count": null,
   "id": "1e9cfd37",
   "metadata": {},
   "outputs": [],
   "source": []
  },
  {
   "cell_type": "markdown",
   "id": "63c346d8",
   "metadata": {},
   "source": [
    "# min() Function\n",
    "Python min() function is used to get the smallest element from the collection. This function takes two arguments, first is a collection of elements and second is key and returns the smallest element from the collection.\n",
    "\n",
    "Koleksiyondan en küçük elemanı almak için Python min() fonksiyonu kullanılır. Bu işlev iki argüman alır, birincisi bir öğeler topluluğudur ve ikincisi anahtardır ve koleksiyondaki en küçük öğeyi döndürür.\n",
    "\n",
    "## min (collection[, key])  \n",
    "Parameters\n",
    "collection: Virgülle ayrılmış bir öğe listesidir.\n",
    "\n",
    "key : Tek argümanlı bir sıralama işlevi belirtir."
   ]
  },
  {
   "cell_type": "code",
   "execution_count": 160,
   "id": "249b2bc9",
   "metadata": {},
   "outputs": [
    {
     "name": "stdout",
     "output_type": "stream",
     "text": [
      "325\n",
      "1000.25\n"
     ]
    }
   ],
   "source": [
    "# Python min() function example  \n",
    "# Calling function  \n",
    "small = min(2225,325,2025) # returns smallest element  \n",
    "small2 = min(1000.25,2025.35,5625.36,10052.50)  \n",
    "# Displaying result  \n",
    "print(small)  \n",
    "print(small2)  "
   ]
  },
  {
   "cell_type": "code",
   "execution_count": 161,
   "id": "897444bd",
   "metadata": {},
   "outputs": [
    {
     "name": "stdout",
     "output_type": "stream",
     "text": [
      "A\n",
      "[10, 12]\n"
     ]
    }
   ],
   "source": [
    "# Python min() function example  \n",
    "# Calling function  \n",
    "small = min('a','A','b','B') # returns smallest element  \n",
    "small2 = min([10,12],[12,21],[13,15])  \n",
    "# Displaying result  \n",
    "print(small)  \n",
    "print(small2)  "
   ]
  },
  {
   "cell_type": "code",
   "execution_count": 162,
   "id": "97238067",
   "metadata": {},
   "outputs": [
    {
     "name": "stdout",
     "output_type": "stream",
     "text": [
      "Java\n",
      "[13, 15]\n"
     ]
    }
   ],
   "source": [
    "# Python min() function example  \n",
    "# Calling function  \n",
    "small = min(\"Python\",\"Java\",\"Scala\") # returns smallest element  \n",
    "small2 = min([10,12,33],[12,21,55],[13,15], key=len) # returns smallest element's length  \n",
    "# Displaying result  \n",
    "print(small)  \n",
    "print(small2)  "
   ]
  },
  {
   "cell_type": "code",
   "execution_count": null,
   "id": "d27dea77",
   "metadata": {},
   "outputs": [],
   "source": []
  },
  {
   "cell_type": "markdown",
   "id": "17ce5754",
   "metadata": {},
   "source": [
    "# max() Function\n",
    "\n",
    "The max() function returns the item with the highest value, or the item with the highest value in an iterable.\n",
    "\n",
    "If the values are strings, an alphabetically comparison is done\n",
    "\n",
    "max()Fonksiyon en yüksek değere veya bir iterable en yüksek değere sahip öğe ile öğeyi döndürür.\n",
    "\n",
    "Değerler dize ise, alfabetik olarak bir karşılaştırma yapılır."
   ]
  },
  {
   "cell_type": "code",
   "execution_count": 164,
   "id": "1f6df777",
   "metadata": {},
   "outputs": [
    {
     "data": {
      "text/plain": [
       "'Vicky'"
      ]
     },
     "execution_count": 164,
     "metadata": {},
     "output_type": "execute_result"
    }
   ],
   "source": [
    "x = max(\"Mike\", \"John\", \"Vicky\")\n",
    "x"
   ]
  },
  {
   "cell_type": "code",
   "execution_count": 163,
   "id": "3b093f55",
   "metadata": {},
   "outputs": [
    {
     "data": {
      "text/plain": [
       "9"
      ]
     },
     "execution_count": 163,
     "metadata": {},
     "output_type": "execute_result"
    }
   ],
   "source": [
    "a = (1, 5, 3, 9)\n",
    "x = max(a)\n",
    "x"
   ]
  },
  {
   "cell_type": "code",
   "execution_count": null,
   "id": "1f77a477",
   "metadata": {},
   "outputs": [],
   "source": []
  },
  {
   "cell_type": "markdown",
   "id": "14802354",
   "metadata": {},
   "source": [
    "# slice() Function\n",
    "Python slice() function is used to get a slice of elements from the collection of elements. Python provides two overloaded slice functions. The first function takes a single argument while the second function takes three arguments and returns a slice object. This slice object can be used to get a subsection of the collection. For example, if we want to get first two elements from the ten element?s list, here slice can be used. The signature of this function is given below.\n",
    "    \n",
    "    Python dilim() işlevi, öğe koleksiyonundan bir öğe dilimi elde etmek için kullanılır. Python iki aşırı yüklenmiş dilim işlevi sağlar. İlk işlev tek bir argüman alırken, ikinci işlev üç argüman alır ve bir dilim nesnesi döndürür. Bu dilim nesnesi, koleksiyonun bir alt bölümünü almak için kullanılabilir. Örneğin on eleman listesinden ilk iki elemanı almak istersek burada dilim kullanılabilir. Bu fonksiyonun imzası aşağıda verilmiştir.\n",
    "\n",
    "slice (stop)  \n",
    "slice (start, stop[, step])  \n",
    "Parameters\n",
    "start : Dilimlemenin başlangıç ​​indeksi.\n",
    "\n",
    "stop : Dilimin bitiş dizini\n",
    "\n",
    "step : Atlanacak adım sayısı.\n",
    "\n"
   ]
  },
  {
   "cell_type": "code",
   "execution_count": 169,
   "id": "13bff0e1",
   "metadata": {},
   "outputs": [
    {
     "name": "stdout",
     "output_type": "stream",
     "text": [
      "('a', 'b')\n"
     ]
    }
   ],
   "source": [
    "a = (\"a\", \"b\", \"c\", \"d\", \"e\", \"f\", \"g\", \"h\")\n",
    "x = slice(2)\n",
    "print(a[x])"
   ]
  },
  {
   "cell_type": "code",
   "execution_count": 170,
   "id": "27975da7",
   "metadata": {},
   "outputs": [
    {
     "name": "stdout",
     "output_type": "stream",
     "text": [
      "('d', 'e')\n"
     ]
    }
   ],
   "source": [
    "a = (\"a\", \"b\", \"c\", \"d\", \"e\", \"f\", \"g\", \"h\")\n",
    "x = slice(3, 5)\n",
    "print(a[x])"
   ]
  },
  {
   "cell_type": "code",
   "execution_count": null,
   "id": "854d079f",
   "metadata": {},
   "outputs": [],
   "source": [
    "a = (\"a\", \"b\", \"c\", \"d\", \"e\", \"f\", \"g\", \"h\")\n",
    "x = slice(0, 8, 3)\n",
    "print(a[x])"
   ]
  },
  {
   "cell_type": "code",
   "execution_count": null,
   "id": "1f5547ad",
   "metadata": {},
   "outputs": [],
   "source": []
  },
  {
   "cell_type": "code",
   "execution_count": null,
   "id": "414123dd",
   "metadata": {},
   "outputs": [],
   "source": [
    "# Python slice() function example  \n",
    "# Calling function  \n",
    "result = slice(5) # returns slice object  \n",
    "result2 = slice(0,5,3) # returns slice object  \n",
    "# Displaying result  \n",
    "print(result)  \n",
    "print(result2)  "
   ]
  },
  {
   "cell_type": "code",
   "execution_count": null,
   "id": "eebd8ed2",
   "metadata": {},
   "outputs": [],
   "source": [
    "# Python slice() function example  \n",
    "# Calling function  \n",
    "str1 = \"Javatpoint\"  \n",
    "slic = slice(0,10,3) # returns slice object  \n",
    "slic2 = slice(-1,0,-3) # returns slice object  \n",
    "# We can use this slice object to get elements  \n",
    "str2 = str1[slic]  \n",
    "str3 = str1[slic2] # returns elements in reverse order  \n",
    "# Displaying result  \n",
    "print(str2)  \n",
    "print(str3)  "
   ]
  },
  {
   "cell_type": "code",
   "execution_count": null,
   "id": "94f4dbab",
   "metadata": {},
   "outputs": [],
   "source": [
    "# Python slice() function example  \n",
    "# Calling function  \n",
    "tup = (45,68,955,1214,41,558,636,66)  \n",
    "slic = slice(0,10,3) # returns slice object  \n",
    "slic2 = slice(-1,0,-3) # returns slice object  \n",
    "# We can use this slice object to get elements  \n",
    "str2 = tup[slic]  \n",
    "str3 = tup[slic2] # returns elements in reverse order  \n",
    "# Displaying result  \n",
    "print(str2)  \n",
    "print(str3)  "
   ]
  },
  {
   "cell_type": "code",
   "execution_count": null,
   "id": "c78e9f8b",
   "metadata": {},
   "outputs": [],
   "source": [
    "# Python slice() function example  \n",
    "# Calling function  \n",
    "tup = (45,68,955,1214,41,558,636,66)  \n",
    "slic = slice(0,10,3) # returns slice object  \n",
    "slic2 = tup[0:10:3] # fetch the same elements  \n",
    "# We can use this slice object to get elements  \n",
    "str2 = tup[slic]  \n",
    "# Displaying result  \n",
    "print(str2)  \n",
    "print(slic2)  "
   ]
  },
  {
   "cell_type": "code",
   "execution_count": null,
   "id": "890d832b",
   "metadata": {},
   "outputs": [],
   "source": []
  },
  {
   "cell_type": "markdown",
   "id": "f5844531",
   "metadata": {},
   "source": [
    "# sorted() Function\n",
    "Python sorted() function is used to sort elements. By default, it sorts elements in ascending order but can be sorted descending also. It takes four arguments and returns collection in sorted order. In the case of a dictionary, it sorts only keys, not values. The signature of the function is given below.\n",
    "   \n",
    "   Öğeleri sıralamak için Python sort() işlevi kullanılır. Varsayılan olarak, öğeleri artan düzende sıralar, ancak azalan düzende de sıralanabilir. Dört bağımsız değişken alır ve koleksiyonu sıralı olarak döndürür. Bir sözlük söz konusu olduğunda, değerleri değil, yalnızca anahtarları sıralar. Fonksiyonun imzası aşağıda verilmiştir.\n",
    "\n",
    "Artan veya azalan sıra belirleyebilirsiniz. Dizeler alfabetik olarak sıralanır ve sayılar sayısal olarak sıralanır.\n",
    "\n",
    "sorted (iterable[, cmp[, key[, reverse]]])  \n",
    "\n",
    "iterable: Sıralamanın gerçekleştirildiği bir koleksiyon.\n",
    "\n",
    "cmp : Özel bir karşılaştırma işlevi. Varsayılan değer yok.\n",
    "\n",
    "key : Bir işlev.\n",
    "\n"
   ]
  },
  {
   "cell_type": "code",
   "execution_count": null,
   "id": "162bf16d",
   "metadata": {},
   "outputs": [],
   "source": [
    "a = (\"b\", \"g\", \"a\", \"d\", \"f\", \"c\", \"h\", \"e\")\n",
    "x = sorted(a)\n",
    "print(x)"
   ]
  },
  {
   "cell_type": "code",
   "execution_count": null,
   "id": "30e8682c",
   "metadata": {},
   "outputs": [],
   "source": [
    "a = (1, 11, 2)\n",
    "x = sorted(a)\n",
    "print(x)"
   ]
  },
  {
   "cell_type": "code",
   "execution_count": null,
   "id": "e5275791",
   "metadata": {},
   "outputs": [],
   "source": [
    "a = (\"h\", \"b\", \"a\", \"c\", \"f\", \"d\", \"e\", \"g\")\n",
    "x = sorted(a)\n",
    "print(x)"
   ]
  },
  {
   "cell_type": "code",
   "execution_count": null,
   "id": "1c8b85f8",
   "metadata": {},
   "outputs": [],
   "source": [
    "a = (\"h\", \"b\", \"a\", \"c\", \"f\", \"d\", \"e\", \"g\")\n",
    "x = sorted(a, reverse=True) #Azalan şekilde sırala:\n",
    "print(x)"
   ]
  },
  {
   "cell_type": "code",
   "execution_count": null,
   "id": "baa00502",
   "metadata": {},
   "outputs": [],
   "source": [
    "# Python sorted() function example  \n",
    "str = \"javatpoint\" # declaring string  \n",
    "# Calling function  \n",
    "sorted1 = sorted(str) # sorting string  \n",
    "# Displaying result  \n",
    "print(sorted1)  "
   ]
  },
  {
   "cell_type": "code",
   "execution_count": null,
   "id": "2ed4d67e",
   "metadata": {},
   "outputs": [],
   "source": [
    "# Python sorted() function example  \n",
    "li = [2003,56,98,659,622,1002,3652]  \n",
    "tupl = (232,2500,3698,5264,2578,21)  \n",
    "dic = {3: 'Three',4:'Four',1:'One',2:'Two'}  \n",
    "# Calling function  \n",
    "lisorted  = sorted(li) # sorting list  \n",
    "tupsorted = sorted(tupl) # tuple   \n",
    "dicsorted = sorted(dic) # dictionary  \n",
    "# Displaying result  \n",
    "print(lisorted)  \n",
    "print(tupsorted)  \n",
    "print(dicsorted)  "
   ]
  },
  {
   "cell_type": "code",
   "execution_count": null,
   "id": "ce45a770",
   "metadata": {},
   "outputs": [],
   "source": [
    "# Python sorted() function example  \n",
    "li = [2003,56,98,659,622,1002,3652]  \n",
    "# Calling function  \n",
    "lisorted  = sorted(li, reverse = True) # Sorting list in descending order  \n",
    "# Displaying result  \n",
    "print(lisorted)  "
   ]
  },
  {
   "cell_type": "code",
   "execution_count": null,
   "id": "c0ed14a1",
   "metadata": {},
   "outputs": [],
   "source": [
    "# Python sorted() function example  \n",
    "li = [(2,15),(3,5),(65,5),(8,5)]  \n",
    "# Calling function  \n",
    "lisorted  = sorted(li, key=lambda x: sum(x)) # Sorting list by getting sum of tuples  \n",
    "# Displaying result  \n",
    "print(lisorted)  "
   ]
  },
  {
   "cell_type": "code",
   "execution_count": null,
   "id": "dca7d9aa",
   "metadata": {},
   "outputs": [],
   "source": []
  },
  {
   "cell_type": "markdown",
   "id": "7c757759",
   "metadata": {},
   "source": [
    "# next() Function\n",
    "Python next() function is used to fetch next item from the collection. It takes two arguments an iterator and a default value and returns an element.\n",
    "This method calls on iterator and throws an error if no item is present. To avoid the error, we can set a default value.\n",
    "The signature of the function is given below.\n",
    "\n",
    "    Koleksiyondan bir sonraki öğeyi getirmek için Python next() işlevi kullanılır. Bir yineleyici ve bir varsayılan değer olmak üzere iki bağımsız değişken alır ve bir öğe döndürür.\n",
    "Bu yöntem yineleyiciyi çağırır ve herhangi bir öğe yoksa hata verir. Hatayı önlemek için varsayılan bir değer belirleyebiliriz.\n",
    "Fonksiyonun imzası aşağıda verilmiştir.\n",
    "\n",
    "next (iterator[, default])  \n",
    "Parameters\n",
    "iterator: It is an iterator object.Bir yineleyici nesnesidir.\n",
    "\n",
    "\n"
   ]
  },
  {
   "cell_type": "code",
   "execution_count": null,
   "id": "32dd5a4a",
   "metadata": {},
   "outputs": [],
   "source": [
    "mylist = iter([\"apple\", \"banana\", \"cherry\"])\n",
    "x = next(mylist)\n",
    "print(x)\n",
    "x = next(mylist)\n",
    "print(x)\n",
    "x = next(mylist)\n",
    "print(x)"
   ]
  },
  {
   "cell_type": "code",
   "execution_count": null,
   "id": "2db50f91",
   "metadata": {},
   "outputs": [],
   "source": [
    "mylist = iter([\"apple\", \"banana\", \"cherry\"])\n",
    "x = next(mylist, \"orange\")\n",
    "print(x)\n",
    "x = next(mylist, \"orange\")\n",
    "print(x)\n",
    "x = next(mylist, \"orange\")\n",
    "print(x)\n",
    "x = next(mylist, \"orange\")\n",
    "print(x)"
   ]
  },
  {
   "cell_type": "code",
   "execution_count": null,
   "id": "bb9f04a3",
   "metadata": {},
   "outputs": [],
   "source": [
    "# Python next() function example  \n",
    "number = iter([256, 32, 82]) # Creating iterator  \n",
    "# Calling function  \n",
    "item = next(number)   \n",
    "# Displaying result  \n",
    "print(item)  \n",
    "# second item  \n",
    "item = next(number)  \n",
    "print(item)  \n",
    "# third item  \n",
    "item = next(number)  \n",
    "print(item) "
   ]
  },
  {
   "cell_type": "code",
   "execution_count": null,
   "id": "38430b82",
   "metadata": {},
   "outputs": [],
   "source": [
    "# Python next() function example  \n",
    "number = iter([256, 32, 82]) # Creating iterator  \n",
    "# Calling function  \n",
    "item = next(number)   \n",
    "# Displaying result  \n",
    "print(item)  \n",
    "# second item  \n",
    "item = next(number)  \n",
    "print(item)  \n",
    "# third item  \n",
    "item = next(number)  \n",
    "print(item)  \n",
    "# fourth item  \n",
    "item = next(number) # error, no item is present  \n",
    "print(item)  "
   ]
  },
  {
   "cell_type": "code",
   "execution_count": null,
   "id": "1828b088",
   "metadata": {},
   "outputs": [],
   "source": [
    "# Python next() function example  \n",
    "number = iter([256, \"javatpoint\", 82,]) # Creating iterator  \n",
    "# Calling function  \n",
    "item = next(number)   \n",
    "# Displaying result  \n",
    "print(item)  \n",
    "# second item  \n",
    "item = next(number)  \n",
    "print(item)  \n",
    "# third item  \n",
    "item = next(number)  \n",
    "print(item)  \n",
    "# fourth item  \n",
    "item = next(number, \"No item is present\") # error, no item is present  \n",
    "print(item)  "
   ]
  },
  {
   "cell_type": "code",
   "execution_count": null,
   "id": "978a56d7",
   "metadata": {},
   "outputs": [],
   "source": [
    "# Python next() function example  \n",
    "number = iter([256, \"javatpoint\", 82,]) # Creating iterator  \n",
    "# Calling function  \n",
    "item = next(number)   \n",
    "# Displaying result  \n",
    "print(item)  \n",
    "# second item  \n",
    "item = next(number)  \n",
    "print(item)  \n",
    "# third item  \n",
    "item = next(number)  \n",
    "print(item)  \n",
    "# fourth item  \n",
    "item = next(number, \"No item is left\") # no error due to default value  \n",
    "print(item)  "
   ]
  },
  {
   "cell_type": "code",
   "execution_count": null,
   "id": "838368d5",
   "metadata": {},
   "outputs": [],
   "source": []
  },
  {
   "cell_type": "markdown",
   "id": "ee2611a5",
   "metadata": {},
   "source": [
    "# isinstance() Function\n",
    "Python isinstance() function is used to check whether the given object is an instance of that class. If the object belongs to the class, it returns True. Otherwise returns False. It also returns true if the class is a subclass.\n",
    "\n",
    "The isinstance() function takes two arguments object and classinfo and returns either True or False. The signature of the function is given below.\n",
    "    \n",
    "    Python isinstance() işlevi, verilen nesnenin o sınıfın bir örneği olup olmadığını kontrol etmek için kullanılır. Nesne sınıfa aitse True değerini döndürür. Aksi takdirde False döndürür. Ayrıca, sınıf bir alt sınıf ise true değerini döndürür.\n",
    "\n",
    "isinstance() işlevi, object ve classinfo olmak üzere iki bağımsız değişken alır ve True ya da False değerini döndürür. Fonksiyonun imzası aşağıda verilmiştir.\n",
    "\n",
    "### True veya False boole değerini döndürür.\n",
    "\n",
    "isinstance(object, classinfo) \n",
    "object: It is an object of string, int, float, long or custom type.  \n",
    "tring, int, float, long veya özel tipte bir nesnedir.\n",
    "\n",
    "classinfo: Class name.\n",
    "\n",
    "\n",
    "\n"
   ]
  },
  {
   "cell_type": "code",
   "execution_count": null,
   "id": "b78b5f29",
   "metadata": {},
   "outputs": [],
   "source": [
    "x = isinstance(5, int)\n",
    "\n",
    "print(x)"
   ]
  },
  {
   "cell_type": "code",
   "execution_count": null,
   "id": "17e3d5a5",
   "metadata": {},
   "outputs": [],
   "source": [
    "x = isinstance(\"Hello\", (str, float, int, str, list, dict, tuple))\n",
    "\n",
    "print(x)"
   ]
  },
  {
   "cell_type": "code",
   "execution_count": null,
   "id": "15619277",
   "metadata": {},
   "outputs": [],
   "source": [
    "class myObj:\n",
    "    name = \"John\"\n",
    "\n",
    "y = myObj()\n",
    "\n",
    "x = isinstance(y, myObj)\n",
    "\n",
    "print(x)"
   ]
  },
  {
   "cell_type": "code",
   "execution_count": null,
   "id": "2e7e94c6",
   "metadata": {},
   "outputs": [],
   "source": [
    "# Python isinstance() function example  \n",
    "class Student:  \n",
    "    id = 101  \n",
    "    name = \"John\"  \n",
    "    def __init__(self, id, name):  \n",
    "        self.id=id  \n",
    "        self.name=name  \n",
    "  \n",
    "student = Student(1010,\"John\")  \n",
    "lst = [12,34,5,6,767]  \n",
    "# Calling function   \n",
    "print(isinstance(student, Student)) # isinstance of Student class  \n",
    "print(isinstance(lst, Student)) "
   ]
  },
  {
   "cell_type": "code",
   "execution_count": null,
   "id": "1df21617",
   "metadata": {},
   "outputs": [],
   "source": [
    "# Python isinstance() function example  \n",
    "# Declaring variables  \n",
    "val = 10  \n",
    "lst = [12,34,5,6,767]  \n",
    "name = \"Mohan\"  \n",
    "# Calling function   \n",
    "print(isinstance(val, int)) # isinstance of int class  \n",
    "print(isinstance(lst, list)) # True  \n",
    "print(isinstance(name, str)) # True  \n",
    "print(isinstance(val, list)) # False  "
   ]
  },
  {
   "cell_type": "code",
   "execution_count": null,
   "id": "f7397f0a",
   "metadata": {},
   "outputs": [],
   "source": [
    "# Python isinstance() function example  \n",
    "# Declaring variables  \n",
    "  \n",
    "class NumericList(list):  \n",
    "    def __init__(self):  \n",
    "        return None  \n",
    "  \n",
    "num = NumericList()  \n",
    "# Calling function   \n",
    "print(isinstance(num, NumericList)) # True  \n",
    "print(isinstance(num, list)) # True "
   ]
  },
  {
   "cell_type": "code",
   "execution_count": null,
   "id": "6a1943ab",
   "metadata": {},
   "outputs": [],
   "source": []
  },
  {
   "cell_type": "code",
   "execution_count": null,
   "id": "bc260b49",
   "metadata": {},
   "outputs": [],
   "source": []
  },
  {
   "cell_type": "code",
   "execution_count": 1,
   "id": "1913be48",
   "metadata": {},
   "outputs": [
    {
     "data": {
      "text/plain": [
       "<filter at 0x186a0590670>"
      ]
     },
     "execution_count": 1,
     "metadata": {},
     "output_type": "execute_result"
    }
   ],
   "source": [
    "listA = [\"susan\", \"tom\", False, 0, \"0\"]\n",
    "havadaki_object = filter(None, listA)\n",
    "havadaki_object"
   ]
  },
  {
   "cell_type": "code",
   "execution_count": 6,
   "id": "1ab46949",
   "metadata": {},
   "outputs": [
    {
     "name": "stdout",
     "output_type": "stream",
     "text": [
      "susan\n",
      "tom\n",
      "0\n"
     ]
    }
   ],
   "source": [
    "for i in havadaki_object :\n",
    "    print(i)"
   ]
  },
  {
   "cell_type": "code",
   "execution_count": 7,
   "id": "1ccd10e6",
   "metadata": {},
   "outputs": [
    {
     "name": "stdout",
     "output_type": "stream",
     "text": [
      "Say: I love you!\n",
      "\n",
      "me too 2019\n"
     ]
    }
   ],
   "source": [
    "print('Say: I love you!')\n",
    "print()\n",
    "print('me too', 2019)"
   ]
  },
  {
   "cell_type": "code",
   "execution_count": null,
   "id": "ca280c9d",
   "metadata": {},
   "outputs": [],
   "source": []
  }
 ],
 "metadata": {
  "kernelspec": {
   "display_name": "Python 3 (ipykernel)",
   "language": "python",
   "name": "python3"
  },
  "language_info": {
   "codemirror_mode": {
    "name": "ipython",
    "version": 3
   },
   "file_extension": ".py",
   "mimetype": "text/x-python",
   "name": "python",
   "nbconvert_exporter": "python",
   "pygments_lexer": "ipython3",
   "version": "3.9.6"
  }
 },
 "nbformat": 4,
 "nbformat_minor": 5
}
