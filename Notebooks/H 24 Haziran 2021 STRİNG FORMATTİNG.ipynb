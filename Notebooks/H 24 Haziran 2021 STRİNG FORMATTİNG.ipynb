{
 "cells": [
  {
   "cell_type": "markdown",
   "id": "406f2981",
   "metadata": {},
   "source": [
    "<img src=\"https://docs.google.com/uc?id=14xeXxFrVRjvOoUYWn_GuyE-v84wVzrqr\" class=\"img-fluid\" alt=\"CLRWY\" width=\"400\" height=\"200\">"
   ]
  },
  {
   "cell_type": "markdown",
   "id": "22263af8",
   "metadata": {},
   "source": [
    "<h1><p style=\"text-align: center; color:darkblue\">Python In-Class, <br>24 June 2021</p><h1>"
   ]
  },
  {
   "cell_type": "code",
   "execution_count": null,
   "id": "356fcf9e",
   "metadata": {},
   "outputs": [],
   "source": [
    "x =\"www.clarusway.com\"\n",
    "print(x.lower()) # hepsi küçük\n",
    "print(x.title()) # her kelimenin ilk harfi büyür\n",
    "print(x.upper()) # hepsini büyük harf olur\n",
    "print(x.capitalize()) # sadece ilk kelimenin ilk\n",
    "print(x.swapcase()) # Büyükler küçük, küçükler büyük\n",
    "print(x.replace(\"www\", \"https//www\")) # tanımlanan değişiyor\n",
    "print(x.strip()) #\n",
    "print(x.replace(\"a\", \"u\", 1)) # sadece bir kere\n",
    "print(x.replace(\"a\", \"u\")) # boş bırakılınca hepsi\n",
    "print(x.replace(\"a\", \"u\", 5)) # sayı fazla olsada değişmiyor.\n",
    "# x = x.____ olarak koymazsak değişim olmaz.\n",
    "# string .dan sonra tabtab yapınca seçenekler çıkıyor\n",
    "print(x.startswith(\"http\"))\n",
    "print(x.endswith(\"com\"))\n",
    "print(x.strip(\"wm\")) # iki taraftan gördüklerini kırptı. \"w\" or \"m\" gibi\n",
    "print(x.lstrip(\"w\")) #sol taraftan kırpar\n",
    "print(x.rstrip(\"m\")) # sağ taraftan kırpar\n",
    "print(x.strip()) # space tuşlarını yok eder"
   ]
  },
  {
   "cell_type": "code",
   "execution_count": 2,
   "id": "0fe8ed5c",
   "metadata": {},
   "outputs": [
    {
     "name": "stdout",
     "output_type": "stream",
     "text": [
      "burada neler oluyor. aman allahım.... 8\n"
     ]
    }
   ],
   "source": [
    "x = 2\n",
    "y = 3\n",
    "print(f\"burada neler oluyor. aman allahım.... {x ** y}\")"
   ]
  },
  {
   "cell_type": "code",
   "execution_count": 3,
   "id": "dcff76eb",
   "metadata": {},
   "outputs": [
    {
     "name": "stdout",
     "output_type": "stream",
     "text": [
      "8\n"
     ]
    }
   ],
   "source": [
    "print(8)"
   ]
  },
  {
   "cell_type": "code",
   "execution_count": 4,
   "id": "0b6f4dae",
   "metadata": {},
   "outputs": [
    {
     "name": "stdout",
     "output_type": "stream",
     "text": [
      "8\n"
     ]
    }
   ],
   "source": [
    "print(\"8\")"
   ]
  },
  {
   "cell_type": "code",
   "execution_count": 5,
   "id": "0f129b20",
   "metadata": {},
   "outputs": [
    {
     "name": "stdout",
     "output_type": "stream",
     "text": [
      "Mariam\n"
     ]
    }
   ],
   "source": [
    "name = \"MARIAM\"\n",
    "print(name.capitalize())"
   ]
  },
  {
   "cell_type": "code",
   "execution_count": 4,
   "id": "023f1a59",
   "metadata": {},
   "outputs": [
    {
     "data": {
      "text/plain": [
       "'Ben Bu Kursta Öğrenci Olmaktan Dolayı Çok Mutluyum. Ben De Joseph Hoca Olarak Sizlere Ders Anlatmaktan Büyük Zevk Alıyorum.'"
      ]
     },
     "execution_count": 4,
     "metadata": {},
     "output_type": "execute_result"
    }
   ],
   "source": [
    "\"ben bu kursta öğrenci olmaktan dolayı \\\n",
    "çok mutluyum. ben de joseph hoca olarak sizlere ders anlatmaktan büyük zevk alıyorum.\"\\\n",
    ".title()"
   ]
  },
  {
   "cell_type": "code",
   "execution_count": 2,
   "id": "462e7c6d",
   "metadata": {},
   "outputs": [
    {
     "data": {
      "text/plain": [
       "'Ahmet'"
      ]
     },
     "execution_count": 2,
     "metadata": {},
     "output_type": "execute_result"
    }
   ],
   "source": [
    "\"ahmet\".title()"
   ]
  },
  {
   "cell_type": "code",
   "execution_count": 8,
   "id": "54136fcd",
   "metadata": {},
   "outputs": [
    {
     "data": {
      "text/plain": [
       "'Clarusway'"
      ]
     },
     "execution_count": 8,
     "metadata": {},
     "output_type": "execute_result"
    }
   ],
   "source": [
    "\"clarusWay\".title()"
   ]
  },
  {
   "cell_type": "code",
   "execution_count": 9,
   "id": "afd99a6f",
   "metadata": {},
   "outputs": [],
   "source": [
    "metin = \"clarusWay\""
   ]
  },
  {
   "cell_type": "code",
   "execution_count": 10,
   "id": "9b3c0588",
   "metadata": {},
   "outputs": [
    {
     "data": {
      "text/plain": [
       "'Clarusway'"
      ]
     },
     "execution_count": 10,
     "metadata": {},
     "output_type": "execute_result"
    }
   ],
   "source": [
    "metin.title()"
   ]
  },
  {
   "cell_type": "code",
   "execution_count": 11,
   "id": "1e6cc9d3",
   "metadata": {},
   "outputs": [
    {
     "data": {
      "text/plain": [
       "'clarusWay'"
      ]
     },
     "execution_count": 11,
     "metadata": {},
     "output_type": "execute_result"
    }
   ],
   "source": [
    "metin"
   ]
  },
  {
   "cell_type": "code",
   "execution_count": 12,
   "id": "8f7c5dbf",
   "metadata": {},
   "outputs": [],
   "source": [
    "metin = metin.title()"
   ]
  },
  {
   "cell_type": "code",
   "execution_count": 13,
   "id": "bf84c954",
   "metadata": {},
   "outputs": [
    {
     "data": {
      "text/plain": [
       "'Clarusway'"
      ]
     },
     "execution_count": 13,
     "metadata": {},
     "output_type": "execute_result"
    }
   ],
   "source": [
    "metin"
   ]
  },
  {
   "cell_type": "code",
   "execution_count": 14,
   "id": "a45b3982",
   "metadata": {},
   "outputs": [],
   "source": [
    "yazı = metin.upper()"
   ]
  },
  {
   "cell_type": "code",
   "execution_count": 15,
   "id": "32e954cd",
   "metadata": {},
   "outputs": [
    {
     "data": {
      "text/plain": [
       "'CLARUSWAY'"
      ]
     },
     "execution_count": 15,
     "metadata": {},
     "output_type": "execute_result"
    }
   ],
   "source": [
    "yazı"
   ]
  },
  {
   "cell_type": "code",
   "execution_count": 16,
   "id": "ec1691ce",
   "metadata": {},
   "outputs": [
    {
     "data": {
      "text/plain": [
       "'Clarusway'"
      ]
     },
     "execution_count": 16,
     "metadata": {},
     "output_type": "execute_result"
    }
   ],
   "source": [
    "metin"
   ]
  },
  {
   "cell_type": "code",
   "execution_count": 17,
   "id": "79d8dc9e",
   "metadata": {},
   "outputs": [
    {
     "data": {
      "text/plain": [
       "'Clarusway'"
      ]
     },
     "execution_count": 17,
     "metadata": {},
     "output_type": "execute_result"
    }
   ],
   "source": [
    "\"clarusway\".capitalize()"
   ]
  },
  {
   "cell_type": "code",
   "execution_count": 18,
   "id": "8823a911",
   "metadata": {},
   "outputs": [],
   "source": [
    "a = \"clarusway\""
   ]
  },
  {
   "cell_type": "code",
   "execution_count": 22,
   "id": "4c875e8e",
   "metadata": {},
   "outputs": [
    {
     "data": {
      "text/plain": [
       "'cluruswuy'"
      ]
     },
     "execution_count": 22,
     "metadata": {},
     "output_type": "execute_result"
    }
   ],
   "source": [
    "a.replace(\"a\", \"u\", 2)"
   ]
  },
  {
   "cell_type": "code",
   "execution_count": 5,
   "id": "266361b2",
   "metadata": {},
   "outputs": [],
   "source": [
    "değişken = 16\n",
    "değişken_1 = \"string\"\n",
    "değişken_2 = [11]"
   ]
  },
  {
   "cell_type": "code",
   "execution_count": 6,
   "id": "3ce6cd14",
   "metadata": {},
   "outputs": [],
   "source": [
    "text = 'S0d0me and G0m0re'"
   ]
  },
  {
   "cell_type": "code",
   "execution_count": 7,
   "id": "6459d3fe",
   "metadata": {},
   "outputs": [
    {
     "data": {
      "text/plain": [
       "'Sodome and Gomore'"
      ]
     },
     "execution_count": 7,
     "metadata": {},
     "output_type": "execute_result"
    }
   ],
   "source": [
    "text = text.replace(\"0\", \"o\")\n",
    "text"
   ]
  },
  {
   "cell_type": "code",
   "execution_count": 8,
   "id": "e0aad848",
   "metadata": {},
   "outputs": [],
   "source": [
    "text = 'S0d0me and G0m0re'"
   ]
  },
  {
   "cell_type": "code",
   "execution_count": 9,
   "id": "8564bda0",
   "metadata": {},
   "outputs": [
    {
     "data": {
      "text/plain": [
       "'Sodome and G0m0re'"
      ]
     },
     "execution_count": 9,
     "metadata": {},
     "output_type": "execute_result"
    }
   ],
   "source": [
    "text = text.replace(\"0\", \"o\", 2)\n",
    "text"
   ]
  },
  {
   "cell_type": "code",
   "execution_count": 10,
   "id": "3fa81c2c",
   "metadata": {},
   "outputs": [],
   "source": [
    "var = \"\\n\\nahmet\\nmehmet    \""
   ]
  },
  {
   "cell_type": "code",
   "execution_count": 12,
   "id": "3130d98e",
   "metadata": {},
   "outputs": [
    {
     "name": "stdout",
     "output_type": "stream",
     "text": [
      "\n",
      "\n",
      "ahmet\n",
      "mehmet    \n"
     ]
    }
   ],
   "source": [
    "print(var)"
   ]
  },
  {
   "cell_type": "code",
   "execution_count": 13,
   "id": "fea7fb34",
   "metadata": {},
   "outputs": [
    {
     "name": "stdout",
     "output_type": "stream",
     "text": [
      "ahmet\n",
      "mehmet\n"
     ]
    }
   ],
   "source": [
    "print(var.strip())"
   ]
  },
  {
   "cell_type": "code",
   "execution_count": 14,
   "id": "383d1cbe",
   "metadata": {},
   "outputs": [],
   "source": [
    "source_string = \"initeroperability\""
   ]
  },
  {
   "cell_type": "code",
   "execution_count": 15,
   "id": "8b4eaaf4",
   "metadata": {},
   "outputs": [
    {
     "name": "stdout",
     "output_type": "stream",
     "text": [
      "teroperability\n"
     ]
    }
   ],
   "source": [
    "print(source_string.lstrip(\"in\"))"
   ]
  },
  {
   "cell_type": "code",
   "execution_count": 16,
   "id": "d526d89e",
   "metadata": {},
   "outputs": [
    {
     "data": {
      "text/plain": [
       "'iteroperability'"
      ]
     },
     "execution_count": 16,
     "metadata": {},
     "output_type": "execute_result"
    }
   ],
   "source": [
    "source_string.replace(\"in\", \"\")"
   ]
  },
  {
   "cell_type": "code",
   "execution_count": 17,
   "id": "5636048f",
   "metadata": {},
   "outputs": [
    {
     "name": "stdout",
     "output_type": "stream",
     "text": [
      "the amount of orenge and Tomato we bought are totally 6 pounds.\n"
     ]
    }
   ],
   "source": [
    "fruit = \"orenge\"\n",
    "vegatable = \"Tomato\"\n",
    "amount = 6\n",
    "output = f\"the amount of {fruit} and {vegatable} we bought are totally {amount} pounds.\"\n",
    "\n",
    "print(output)"
   ]
  },
  {
   "cell_type": "code",
   "execution_count": 18,
   "id": "a954a7cf",
   "metadata": {},
   "outputs": [
    {
     "name": "stdout",
     "output_type": "stream",
     "text": [
      "8\n"
     ]
    }
   ],
   "source": [
    "sample = f\"{2**3}\"\n",
    "print(sample)"
   ]
  },
  {
   "cell_type": "code",
   "execution_count": 19,
   "id": "659d2433",
   "metadata": {},
   "outputs": [
    {
     "name": "stdout",
     "output_type": "stream",
     "text": [
      "8\n"
     ]
    }
   ],
   "source": [
    "x = 2\n",
    "y = 3\n",
    "print(f\"{x**y}\") # stringlerde parantez içine işlem yapılabiliyor"
   ]
  },
  {
   "cell_type": "code",
   "execution_count": 20,
   "id": "982eda91",
   "metadata": {},
   "outputs": [
    {
     "name": "stdout",
     "output_type": "stream",
     "text": [
      "my name is Mariam\n"
     ]
    }
   ],
   "source": [
    "name = \"MARIAM\"\n",
    "print(f\"my name is {name.capitalize()}\")"
   ]
  },
  {
   "cell_type": "code",
   "execution_count": 21,
   "id": "b978e8ab",
   "metadata": {},
   "outputs": [
    {
     "name": "stdout",
     "output_type": "stream",
     "text": [
      "Hi, Dogan.You are one of the studentin the dewops section\n"
     ]
    }
   ],
   "source": [
    "name = \"Dogan\"\n",
    "job = \"student\"\n",
    "domain = \"dewops\"\n",
    "messange = (\n",
    "    f\"Hi, {name}.\"\n",
    "    f\"You are one of the {job}\"\n",
    "    f\"in the {domain} section\"\n",
    ")\n",
    "print(messange)"
   ]
  },
  {
   "cell_type": "code",
   "execution_count": 22,
   "id": "7e552685",
   "metadata": {},
   "outputs": [
    {
     "name": "stdout",
     "output_type": "stream",
     "text": [
      "Hi, Dogan.You are one of the studentin the dewops section\n"
     ]
    }
   ],
   "source": [
    "name = \"Dogan\"\n",
    "job = \"student\"\n",
    "domain = \"dewops\"\n",
    "messange = f\"Hi, {name}.\" \\\n",
    "    f\"You are one of the {job}\" \\\n",
    "    f\"in the {domain} section\"\n",
    "print(messange)"
   ]
  },
  {
   "cell_type": "code",
   "execution_count": 23,
   "id": "ddcc30f6",
   "metadata": {},
   "outputs": [
    {
     "data": {
      "text/plain": [
       "'Benim Derste Çalışmam Gerek. Bu Konuda Çok Gayret Göstermem Gerekiyor.'"
      ]
     },
     "execution_count": 23,
     "metadata": {},
     "output_type": "execute_result"
    }
   ],
   "source": [
    "\"benim derste çalışmam \\\n",
    "gerek. bu konuda çok gayret\\\n",
    " göstermem gerekiyor.\"\\\n",
    " .title() # ters slaş (\\) kullanarak alt satıra geçebilirsiniz.stringin içinde ve dışında olması önemli değil."
   ]
  },
  {
   "cell_type": "code",
   "execution_count": 24,
   "id": "e67fea57",
   "metadata": {},
   "outputs": [
    {
     "name": "stdout",
     "output_type": "stream",
     "text": [
      "Susan is a young lady  and she is a   student at the clrwy IT university. \n"
     ]
    }
   ],
   "source": [
    "name = \"Susan\"\n",
    "age = \"young\"\n",
    "gender = \"lady\"\n",
    "school = \"clrwy IT university\"\n",
    "task = f\"{name} is\\\n",
    " a {age} {gender}\\\n",
    "  and she is a\\\n",
    "   student at the {school}. \"\n",
    "print(task)"
   ]
  },
  {
   "cell_type": "code",
   "execution_count": 25,
   "id": "2a82eb37",
   "metadata": {},
   "outputs": [
    {
     "name": "stdout",
     "output_type": "stream",
     "text": [
      "Susan is a young lady and she is a  student at the clrwy IT university. \n"
     ]
    }
   ],
   "source": [
    "name = \"Susan\"\n",
    "age = \"young\"\n",
    "gender = \"lady\"\n",
    "school = \"clrwy IT university\"\n",
    "task = ( \n",
    "    f\"{name} is\"\n",
    "    f\" a {age} {gender}\"\n",
    "    f\" and she is a \"\n",
    "    f\" student at the {school}. \")\n",
    "print(task)"
   ]
  },
  {
   "cell_type": "code",
   "execution_count": 27,
   "id": "b037469e",
   "metadata": {},
   "outputs": [],
   "source": [
    "# MAIN STİNG OPERATİONS"
   ]
  },
  {
   "cell_type": "code",
   "execution_count": null,
   "id": "0918d78a",
   "metadata": {},
   "outputs": [],
   "source": []
  },
  {
   "cell_type": "code",
   "execution_count": 29,
   "id": "c1ba84ef",
   "metadata": {},
   "outputs": [],
   "source": [
    "# Immutability : değişmezlik"
   ]
  },
  {
   "cell_type": "code",
   "execution_count": 31,
   "id": "58befb2e",
   "metadata": {},
   "outputs": [
    {
     "name": "stdout",
     "output_type": "stream",
     "text": [
      "clarusway\n",
      "CLARUSWAY\n",
      "ClarusWay\n",
      "clarusway\n"
     ]
    }
   ],
   "source": [
    "var_string = \"ClarusWay\"\n",
    "print(var_string.lower())\n",
    "print(var_string.upper())\n",
    "print(var_string)\n",
    "var_string = var_string.lower()\n",
    "print(var_string)"
   ]
  },
  {
   "cell_type": "code",
   "execution_count": 33,
   "id": "093e94c0",
   "metadata": {},
   "outputs": [
    {
     "name": "stdout",
     "output_type": "stream",
     "text": [
      "In GoD we Trust\n"
     ]
    }
   ],
   "source": [
    "var_str = \"In GoD we Trust\"\n",
    "var_str.lower() # Bu işlemle stringi deiştiremiyoruz.\n",
    "print(var_str)"
   ]
  },
  {
   "cell_type": "code",
   "execution_count": 34,
   "id": "145bb0ce",
   "metadata": {},
   "outputs": [
    {
     "name": "stdout",
     "output_type": "stream",
     "text": [
      "in god we trust\n"
     ]
    }
   ],
   "source": [
    "var_str = \"In GoD we Trust\"\n",
    "var_str = var_str.lower() \n",
    "print(var_str)"
   ]
  },
  {
   "cell_type": "code",
   "execution_count": null,
   "id": "37f03d4f",
   "metadata": {},
   "outputs": [],
   "source": [
    "x =\"www.clarusway.com\"\n",
    "print(x.lower()) # hepsi küçük\n",
    "print(x.title()) # her kelimenin ilk harfi büyür\n",
    "print(x.upper()) # hepsini büyük harf olur\n",
    "print(x.capitalize()) # sadece ilk kelimenin ilk\n",
    "print(x.swapcase()) # Büyükler küçük, küçükler büyük\n",
    "print(x.replace(\"www\", \"https//www\")) # tanımlanan değişiyor\n",
    "print(x.strip()) #\n",
    "print(x.lower().upper().swapcase())"
   ]
  },
  {
   "cell_type": "code",
   "execution_count": 35,
   "id": "938303d8",
   "metadata": {},
   "outputs": [
    {
     "name": "stdout",
     "output_type": "stream",
     "text": [
      "False\n",
      "True\n"
     ]
    }
   ],
   "source": [
    "x =\"www.clarusway.com\"\n",
    "\n",
    "\n",
    "print(x.startswith(\"http\")) # string başında \"http\"  yi bulursa True, bulunmazsa False verir.\n",
    "print(x.endswith(\"com\")) # string sonunda \"com\"  yi bulursa True, bulunmazsa False verir."
   ]
  },
  {
   "cell_type": "code",
   "execution_count": 36,
   "id": "9d1aecc8",
   "metadata": {},
   "outputs": [
    {
     "name": "stdout",
     "output_type": "stream",
     "text": [
      ".clarusway.co\n",
      ".clarusway.com\n",
      "www.clarusway.co\n"
     ]
    }
   ],
   "source": [
    "x =\"www.clarusway.com\"\n",
    "\n",
    "print(x.strip(\"wm\")) # iki taraftan gördüklerini kırptı. \"wm\",\"mw\", \"w\" or \"m\" gibi\n",
    "print(x.lstrip(\"w\")) #sol taraftan kırpar\n",
    "print(x.rstrip(\"m\")) # sağ taraftan kırpar"
   ]
  },
  {
   "cell_type": "code",
   "execution_count": 37,
   "id": "6dd8237c",
   "metadata": {},
   "outputs": [
    {
     "name": "stdout",
     "output_type": "stream",
     "text": [
      "www.clarusway.com\n"
     ]
    }
   ],
   "source": [
    "x =\"       www.clarusway.com            \"\n",
    "print(x.strip()) # space tuşlarını yok eder"
   ]
  },
  {
   "cell_type": "code",
   "execution_count": 38,
   "id": "1d9c9c3b",
   "metadata": {},
   "outputs": [
    {
     "name": "stdout",
     "output_type": "stream",
     "text": [
      "www.clurusway.com\n",
      "www.cluruswuy.com\n",
      "www.cluruswuy.com\n"
     ]
    }
   ],
   "source": [
    "x =\"www.clarusway.com\"\n",
    "print(x.replace(\"a\", \"u\", 1)) # sadece bir kere\n",
    "print(x.replace(\"a\", \"u\")) # boş bırakılınca hepsi\n",
    "print(x.replace(\"a\", \"u\", 5)) # sayı fazla olsada değişmiyor.\n",
    "# x = x.____ olarak koymazsak değişim olmaz.\n",
    "# string .dan sonra tabtab yapınca seçenekler çıkıyor"
   ]
  },
  {
   "cell_type": "code",
   "execution_count": 39,
   "id": "40000d82",
   "metadata": {},
   "outputs": [
    {
     "name": "stdout",
     "output_type": "stream",
     "text": [
      "I Live And Work In Virginia\n",
      "I ltve and work tn Vtrgtnta\n",
      "I live and work in Virginia\n"
     ]
    }
   ],
   "source": [
    "sentence = \"I live and work in Virginia\"\n",
    "title_sentence = sentence.title()\n",
    "print(title_sentence)\n",
    "changed_sentence = sentence.replace(\"i\", \"t\")\n",
    "print(changed_sentence)\n",
    "print(sentence)"
   ]
  },
  {
   "cell_type": "code",
   "execution_count": 40,
   "id": "9311083d",
   "metadata": {},
   "outputs": [
    {
     "name": "stdout",
     "output_type": "stream",
     "text": [
      "THE BETTER THE FAMILY, THE BETTER THE SOCIETY\n",
      "The Better The Family, The Better The Society\n"
     ]
    }
   ],
   "source": [
    "text = \"the better the family, the better the society\"\n",
    "print(text.upper())\n",
    "text = text.title()\n",
    "print(text)"
   ]
  },
  {
   "cell_type": "code",
   "execution_count": 43,
   "id": "b857da9c",
   "metadata": {},
   "outputs": [
    {
     "name": "stdout",
     "output_type": "stream",
     "text": [
      "Sodome and Gomore\n"
     ]
    }
   ],
   "source": [
    "text = \"S0d0me and G0m0re\"\n",
    "text =text.replace(\"0\", \"o\")\n",
    "\n",
    "print(text)"
   ]
  },
  {
   "cell_type": "code",
   "execution_count": 44,
   "id": "a7bc6f8f",
   "metadata": {},
   "outputs": [
    {
     "name": "stdout",
     "output_type": "stream",
     "text": [
      "Sodome and G0m0re\n"
     ]
    }
   ],
   "source": [
    "text = \"S0d0me and G0m0re\"\n",
    "text =text.replace(\"0\", \"o\", 2)\n",
    "print(text)"
   ]
  },
  {
   "cell_type": "code",
   "execution_count": 45,
   "id": "748cf587",
   "metadata": {},
   "outputs": [
    {
     "name": "stdout",
     "output_type": "stream",
     "text": [
      "8\n"
     ]
    }
   ],
   "source": [
    "x = 2\n",
    "y = 3\n",
    "print(f\"{x**y}\") # stringlerde parantez içine işlem yapılabiliyor"
   ]
  },
  {
   "cell_type": "code",
   "execution_count": null,
   "id": "41445ba4",
   "metadata": {},
   "outputs": [],
   "source": [
    "EDITING ASTRING"
   ]
  },
  {
   "cell_type": "code",
   "execution_count": 46,
   "id": "bad5c3ec",
   "metadata": {},
   "outputs": [
    {
     "name": "stdout",
     "output_type": "stream",
     "text": [
      ".clarusway.co\n",
      ".clarusway.com\n",
      "www.clarusway.co\n",
      "www.clarusway.com\n"
     ]
    }
   ],
   "source": [
    "x =\"www.clarusway.com\"\n",
    "\n",
    "print(x.strip(\"wm\")) # iki taraftan gördüklerini kırptı. \"w\" or \"m\" gibi\n",
    "print(x.lstrip(\"w\")) #sol taraftan kırpar\n",
    "print(x.rstrip(\"m\")) # sağ taraftan kırpar\n",
    "print(x.strip()) # space tuşlarını yok eder"
   ]
  },
  {
   "cell_type": "code",
   "execution_count": 47,
   "id": "c58e957e",
   "metadata": {},
   "outputs": [
    {
     "name": "stdout",
     "output_type": "stream",
     "text": [
      "\n",
      "\n",
      " ahmet\n",
      "mehmet        \n"
     ]
    }
   ],
   "source": [
    "var = \"\\n\\n ahmet\\nmehmet        \"\n",
    "print(var)\n"
   ]
  },
  {
   "cell_type": "code",
   "execution_count": 48,
   "id": "13f8cb7d",
   "metadata": {},
   "outputs": [
    {
     "name": "stdout",
     "output_type": "stream",
     "text": [
      "ahmet\n",
      "mehmet\n"
     ]
    }
   ],
   "source": [
    "print(var.strip())"
   ]
  },
  {
   "cell_type": "code",
   "execution_count": 49,
   "id": "81e9801b",
   "metadata": {},
   "outputs": [
    {
     "name": "stdout",
     "output_type": "stream",
     "text": [
      "teroperability\n",
      "interoperabili\n"
     ]
    }
   ],
   "source": [
    "veri = \"interoperability\"\n",
    "print(veri.lstrip(\"in\"))\n",
    "print(veri.rstrip(\"tya\"))"
   ]
  },
  {
   "cell_type": "code",
   "execution_count": 50,
   "id": "e10b6a77",
   "metadata": {},
   "outputs": [
    {
     "name": "stdout",
     "output_type": "stream",
     "text": [
      "YOU CAN LEARN ALMOST EVERYTHING IN PRE_CLASS\n"
     ]
    }
   ],
   "source": [
    "text = \"tyou can learn almost everything in pre_classz\"\n",
    "text = text.strip(\"tz\").upper()\n",
    "print(text)"
   ]
  },
  {
   "cell_type": "code",
   "execution_count": 51,
   "id": "072df5b5",
   "metadata": {},
   "outputs": [
    {
     "name": "stdout",
     "output_type": "stream",
     "text": [
      "6\n"
     ]
    }
   ],
   "source": [
    "word = 'clarusway'\n",
    "n = 3\n",
    "front = 2\n",
    "back = 4\n",
    "print(front + back)"
   ]
  },
  {
   "cell_type": "code",
   "execution_count": 52,
   "id": "2e4bc596",
   "metadata": {},
   "outputs": [
    {
     "name": "stdout",
     "output_type": "stream",
     "text": [
      "Hello! I am a new programmer and I love clarusway\n"
     ]
    }
   ],
   "source": [
    "text = \"{}! I am a {} programmer and I {} clarusway\".format(\"Hello\", \"new\", \"love\")\n",
    "print(text)"
   ]
  },
  {
   "cell_type": "code",
   "execution_count": 53,
   "id": "ab85a0ca",
   "metadata": {},
   "outputs": [
    {
     "name": "stdout",
     "output_type": "stream",
     "text": [
      "February\n"
     ]
    }
   ],
   "source": [
    "month = \"february\"\n",
    "text = f\"{month.title()}\"\n",
    "print(text)"
   ]
  },
  {
   "cell_type": "code",
   "execution_count": 54,
   "id": "e3de5b21",
   "metadata": {},
   "outputs": [
    {
     "name": "stdout",
     "output_type": "stream",
     "text": [
      "I live in  Sarajevo\n"
     ]
    }
   ],
   "source": [
    "city = \"SARAJEVO\"\n",
    "text = f\"{city.capitalize()}\"\n",
    "print(\"I live in \",text)\n"
   ]
  },
  {
   "cell_type": "code",
   "execution_count": 56,
   "id": "e252bd55",
   "metadata": {},
   "outputs": [
    {
     "name": "stdout",
     "output_type": "stream",
     "text": [
      "Sarajevo\n"
     ]
    }
   ],
   "source": [
    "city = \"SARAJEVO\"\n",
    "test = city.capitalize()\n",
    "text = (\"I live in {}\".format(test))\n",
    "print(test)\n"
   ]
  },
  {
   "cell_type": "code",
   "execution_count": 57,
   "id": "33826490",
   "metadata": {},
   "outputs": [
    {
     "ename": "SyntaxError",
     "evalue": "invalid syntax (Temp/ipykernel_11752/2875886914.py, line 3)",
     "output_type": "error",
     "traceback": [
      "\u001b[1;36m  File \u001b[1;32m\"C:\\Users\\DOGAN\\AppData\\Local\\Temp/ipykernel_11752/2875886914.py\"\u001b[1;36m, line \u001b[1;32m3\u001b[0m\n\u001b[1;33m    print(\"{}\".f\"{city.capitalize()}\")\u001b[0m\n\u001b[1;37m               ^\u001b[0m\n\u001b[1;31mSyntaxError\u001b[0m\u001b[1;31m:\u001b[0m invalid syntax\n"
     ]
    }
   ],
   "source": [
    "city = \"SARAJEVO\"\n",
    "text = city.capitalize()\n",
    "print(\"{}\".f\"{city.capitalize()}\")"
   ]
  },
  {
   "cell_type": "code",
   "execution_count": 58,
   "id": "094912d3",
   "metadata": {},
   "outputs": [
    {
     "name": "stdout",
     "output_type": "stream",
     "text": [
      "Sodome and Gomore\n"
     ]
    }
   ],
   "source": [
    "text =  \"S0d0me and G0m0re\"\n",
    "text_a = text.replace(\"0\",\"o\")\n",
    "print(text_a)"
   ]
  },
  {
   "cell_type": "code",
   "execution_count": null,
   "id": "953d89c9",
   "metadata": {},
   "outputs": [],
   "source": []
  },
  {
   "cell_type": "code",
   "execution_count": null,
   "id": "12ff979b",
   "metadata": {},
   "outputs": [],
   "source": []
  },
  {
   "cell_type": "code",
   "execution_count": null,
   "id": "99d3d6a8",
   "metadata": {},
   "outputs": [],
   "source": []
  }
 ],
 "metadata": {
  "kernelspec": {
   "display_name": "Python 3 (ipykernel)",
   "language": "python",
   "name": "python3"
  },
  "language_info": {
   "codemirror_mode": {
    "name": "ipython",
    "version": 3
   },
   "file_extension": ".py",
   "mimetype": "text/x-python",
   "name": "python",
   "nbconvert_exporter": "python",
   "pygments_lexer": "ipython3",
   "version": "3.9.6"
  }
 },
 "nbformat": 4,
 "nbformat_minor": 5
}
