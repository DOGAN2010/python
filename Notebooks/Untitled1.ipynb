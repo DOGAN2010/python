{
 "cells": [
  {
   "cell_type": "code",
   "execution_count": 1,
   "id": "97f5f2c7",
   "metadata": {},
   "outputs": [
    {
     "name": "stdout",
     "output_type": "stream",
     "text": [
      "['ç', 'a', 'ğ', 'r', 'ı', ' ', 'b', 'o']\n"
     ]
    }
   ],
   "source": [
    "isim=\"çağrı bo\"\n",
    "karakter=list(isim)\n",
    "\n",
    "print(karakter)"
   ]
  },
  {
   "cell_type": "code",
   "execution_count": 7,
   "id": "d062a00e",
   "metadata": {},
   "outputs": [
    {
     "name": "stdout",
     "output_type": "stream",
     "text": [
      "çağrı bo\n"
     ]
    }
   ],
   "source": [
    "stre = \"\"\n",
    "for i in karakter:\n",
    "    stre += i\n",
    "print(stre)"
   ]
  },
  {
   "cell_type": "code",
   "execution_count": null,
   "id": "ef6eb5af",
   "metadata": {},
   "outputs": [],
   "source": [
    "strs = [\"eat\", \"tea\", \"tan\", \"ate\", \"nat\", \"bat\", \"cat\", \"tac\"]\n",
    "anag = {}\n",
    "for i in strs:\n",
    "    element = \"\".join(sorted(i)) \n",
    "    if element in anag:\n",
    "        anag[element].append(i)\n",
    "    else:\n",
    "        anag[element] = [i]"
   ]
  },
  {
   "cell_type": "code",
   "execution_count": 23,
   "id": "492edb3e",
   "metadata": {},
   "outputs": [
    {
     "name": "stdout",
     "output_type": "stream",
     "text": [
      "cümle gir : mmckkc cmkkl\n"
     ]
    },
    {
     "data": {
      "text/plain": [
       "{'m': ['m', 1, 1],\n",
       " 'c': ['c', 1, 1],\n",
       " 'k': ['k', 1, 1, 1],\n",
       " ' ': [' '],\n",
       " 'l': ['l']}"
      ]
     },
     "execution_count": 23,
     "metadata": {},
     "output_type": "execute_result"
    }
   ],
   "source": [
    "\n",
    "def saydır(strs):\n",
    "    anag = {}\n",
    "    for i in strs:\n",
    "        element = i     \n",
    "        if element in anag:\n",
    "            listem = []\n",
    "            if True :\n",
    "                count += 1\n",
    "                listem.append(count)\n",
    "        \n",
    "        else:\n",
    "            anag[element] = [i]\n",
    "       \n",
    "    return anag\n",
    "\n",
    "\n",
    "strs = input(\"cümle gir : \")\n",
    "saydır(list(strs))"
   ]
  },
  {
   "cell_type": "code",
   "execution_count": 14,
   "id": "f15bbc01",
   "metadata": {},
   "outputs": [
    {
     "ename": "SyntaxError",
     "evalue": "invalid syntax (Temp/ipykernel_6192/3496779627.py, line 1)",
     "output_type": "error",
     "traceback": [
      "\u001b[1;36m  File \u001b[1;32m\"C:\\Users\\DOGAN\\AppData\\Local\\Temp/ipykernel_6192/3496779627.py\"\u001b[1;36m, line \u001b[1;32m1\u001b[0m\n\u001b[1;33m    print(anag)        count = 0\u001b[0m\n\u001b[1;37m                       ^\u001b[0m\n\u001b[1;31mSyntaxError\u001b[0m\u001b[1;31m:\u001b[0m invalid syntax\n"
     ]
    }
   ],
   "source": [
    "print(anag)        count = 0\n",
    "print()\n",
    "print(list(anag.values()))"
   ]
  },
  {
   "cell_type": "code",
   "execution_count": null,
   "id": "3e5d4e8d",
   "metadata": {},
   "outputs": [],
   "source": [
    "  element = \"\".join(sorted(i)) "
   ]
  },
  {
   "cell_type": "code",
   "execution_count": 25,
   "id": "553e2f2c",
   "metadata": {},
   "outputs": [
    {
     "name": "stdout",
     "output_type": "stream",
     "text": [
      "{'baş': 2, 'benzer': 1, 'bir': 1, 'finlandiya': 1, 'fransanın': 1, 'ingilterenin': 1, 'italya': 1, 'italyanın': 1, 'kutbuna': 1, 'kuzey': 1, 'londra': 1, 'paris': 1, 'venedik': 1, 'yakındır': 1, 'çizmeye': 1, 'şehridir': 3}\n"
     ]
    }
   ],
   "source": [
    "liste= [\"londra ingilterenin baş şehridir\",\n",
    "          \"italya çizmeye benzer\",\n",
    "          \"venedik italyanın bir şehridir\",\n",
    "          \"paris fransanın baş şehridir\",\n",
    "          \"finlandiya kuzey kutbuna yakındır\"]\n",
    "sozluk = {}\n",
    "sonuc = list()\n",
    "for i in liste:\n",
    "    kelimeler = i.split()\n",
    "    for j in kelimeler:\n",
    "        if j in sozluk:\n",
    "            sozluk[j] += 1\n",
    "        else:\n",
    "            sozluk[j] = 1\n",
    "# Kelimeleri sıralı olarak görek için sözlük verilerini listeye aktarıyoruz.\n",
    "for a,b in sozluk.items():\n",
    "    sonuc.append((a,b))\n",
    "sonuc.sort()\n",
    "print(dict(sonuc))"
   ]
  },
  {
   "cell_type": "code",
   "execution_count": 26,
   "id": "46af6fb0",
   "metadata": {},
   "outputs": [
    {
     "name": "stdout",
     "output_type": "stream",
     "text": [
      "cümle gir: bu dahha yyyeniii\n",
      "{'a': 2, 'b': 1, 'd': 1, 'e': 1, 'h': 2, 'i': 3, 'n': 1, 'u': 1, 'y': 3}\n"
     ]
    }
   ],
   "source": [
    "liste = list(input(\"cümle gir: \"))\n",
    "sozluk = {}\n",
    "sonuc = list()\n",
    "for i in liste:\n",
    "    kelimeler = i.split()\n",
    "    for j in kelimeler:\n",
    "        if j in sozluk:\n",
    "            sozluk[j] += 1\n",
    "        else:\n",
    "            sozluk[j] = 1\n",
    "# Kelimeleri sıralı olarak görek için sözlük verilerini listeye aktarıyoruz.\n",
    "for a,b in sozluk.items():\n",
    "    sonuc.append((a,b))\n",
    "sonuc.sort()\n",
    "print(dict(sonuc))"
   ]
  },
  {
   "cell_type": "code",
   "execution_count": 31,
   "id": "89b0a7f7",
   "metadata": {},
   "outputs": [
    {
     "name": "stdout",
     "output_type": "stream",
     "text": [
      "cümle gir: vdffgj   fgnsh  gggg\n"
     ]
    },
    {
     "data": {
      "text/plain": [
       "{'v': 1, 'd': 1, 'f': 3, 'g': 6, 'j': 1, ' ': 5, 'n': 1, 's': 1, 'h': 1}"
      ]
     },
     "execution_count": 31,
     "metadata": {},
     "output_type": "execute_result"
    }
   ],
   "source": [
    "def karakter(liste):\n",
    "    sozluk = {}\n",
    "    \n",
    "    for i in liste:\n",
    "        for j in i:\n",
    "            if j in sozluk:\n",
    "                sozluk[j] += 1\n",
    "            else:\n",
    "                sozluk[j] = 1\n",
    "    return sozluk\n",
    "\n",
    "\n",
    "liste = list(input(\"cümle gir: \"))\n",
    "karakter(list(liste))"
   ]
  },
  {
   "cell_type": "code",
   "execution_count": 29,
   "id": "7b36a3de",
   "metadata": {},
   "outputs": [
    {
     "ename": "IndentationError",
     "evalue": "unexpected indent (Temp/ipykernel_6192/3943550170.py, line 2)",
     "output_type": "error",
     "traceback": [
      "\u001b[1;36m  File \u001b[1;32m\"C:\\Users\\DOGAN\\AppData\\Local\\Temp/ipykernel_6192/3943550170.py\"\u001b[1;36m, line \u001b[1;32m2\u001b[0m\n\u001b[1;33m    for a,b in sozluk.items():\u001b[0m\n\u001b[1;37m    ^\u001b[0m\n\u001b[1;31mIndentationError\u001b[0m\u001b[1;31m:\u001b[0m unexpected indent\n"
     ]
    }
   ],
   "source": [
    "# Kelimeleri sıralı olarak görek için sözlük verilerini listeye aktarıyoruz.\n",
    "    for a,b in sozluk.items():\n",
    "        sonuc.append((a,b))\n",
    "    sonuc.sort()\n",
    "    print(dict(sonuc))\n",
    "sonuc = list()"
   ]
  },
  {
   "cell_type": "code",
   "execution_count": null,
   "id": "03749929",
   "metadata": {},
   "outputs": [],
   "source": []
  }
 ],
 "metadata": {
  "kernelspec": {
   "display_name": "Python 3 (ipykernel)",
   "language": "python",
   "name": "python3"
  },
  "language_info": {
   "codemirror_mode": {
    "name": "ipython",
    "version": 3
   },
   "file_extension": ".py",
   "mimetype": "text/x-python",
   "name": "python",
   "nbconvert_exporter": "python",
   "pygments_lexer": "ipython3",
   "version": "3.9.6"
  }
 },
 "nbformat": 4,
 "nbformat_minor": 5
}
