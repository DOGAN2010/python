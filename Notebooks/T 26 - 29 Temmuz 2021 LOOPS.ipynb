{
 "cells": [
  {
   "cell_type": "markdown",
   "id": "2035ad9a",
   "metadata": {},
   "source": [
    "# LOOPS"
   ]
  },
  {
   "cell_type": "markdown",
   "id": "b5c63526",
   "metadata": {},
   "source": [
    "iterable (iterıbıl) : elemanlarına tek tek ayırabildiğimiz şeylere denir.(str, set, list, dict, tuple gibi)"
   ]
  },
  {
   "cell_type": "code",
   "execution_count": null,
   "id": "68f74471",
   "metadata": {},
   "outputs": [],
   "source": []
  },
  {
   "cell_type": "code",
   "execution_count": 5,
   "id": "ca860634",
   "metadata": {},
   "outputs": [
    {
     "name": "stdout",
     "output_type": "stream",
     "text": [
      "iki\n"
     ]
    }
   ],
   "source": [
    "while 0 :\n",
    "    print(\"bir\")\n",
    "print(\"iki\")"
   ]
  },
  {
   "cell_type": "code",
   "execution_count": 6,
   "id": "ac72e05f",
   "metadata": {},
   "outputs": [
    {
     "name": "stdout",
     "output_type": "stream",
     "text": [
      "outside of while\n"
     ]
    }
   ],
   "source": [
    "while [] :\n",
    "    print(\"while\")\n",
    "print(\"outside of while\")"
   ]
  },
  {
   "cell_type": "code",
   "execution_count": 7,
   "id": "1e010e87",
   "metadata": {},
   "outputs": [
    {
     "name": "stdout",
     "output_type": "stream",
     "text": [
      "outside of while\n"
     ]
    }
   ],
   "source": [
    "while None :\n",
    "    print(\"while\")\n",
    "print(\"outside of while\")"
   ]
  },
  {
   "cell_type": "code",
   "execution_count": 1,
   "id": "505e24e3",
   "metadata": {},
   "outputs": [
    {
     "name": "stdout",
     "output_type": "stream",
     "text": [
      "bir\n"
     ]
    }
   ],
   "source": [
    "while True :\n",
    "    print(\"bir\")\n",
    "    break"
   ]
  },
  {
   "cell_type": "code",
   "execution_count": null,
   "id": "7a42c7e4",
   "metadata": {},
   "outputs": [],
   "source": []
  },
  {
   "cell_type": "code",
   "execution_count": null,
   "id": "2bc8eaf3",
   "metadata": {},
   "outputs": [],
   "source": []
  },
  {
   "cell_type": "code",
   "execution_count": null,
   "id": "00e140c0",
   "metadata": {},
   "outputs": [],
   "source": []
  },
  {
   "cell_type": "code",
   "execution_count": null,
   "id": "2c3564c9",
   "metadata": {},
   "outputs": [],
   "source": []
  },
  {
   "cell_type": "code",
   "execution_count": null,
   "id": "d04d47aa",
   "metadata": {},
   "outputs": [],
   "source": []
  },
  {
   "cell_type": "code",
   "execution_count": null,
   "id": "c6fc60c9",
   "metadata": {},
   "outputs": [],
   "source": []
  },
  {
   "cell_type": "code",
   "execution_count": 8,
   "id": "3eeba166",
   "metadata": {},
   "outputs": [
    {
     "data": {
      "text/plain": [
       "False"
      ]
     },
     "execution_count": 8,
     "metadata": {},
     "output_type": "execute_result"
    }
   ],
   "source": [
    "\"-16\".isdigit() # klavyedeki rakamları kontrol eder."
   ]
  },
  {
   "cell_type": "code",
   "execution_count": 9,
   "id": "d4c7964f",
   "metadata": {},
   "outputs": [
    {
     "data": {
      "text/plain": [
       "True"
      ]
     },
     "execution_count": 9,
     "metadata": {},
     "output_type": "execute_result"
    }
   ],
   "source": [
    "\"12345679\".isdigit()"
   ]
  },
  {
   "cell_type": "code",
   "execution_count": 10,
   "id": "ce40bcf4",
   "metadata": {},
   "outputs": [
    {
     "data": {
      "text/plain": [
       "False"
      ]
     },
     "execution_count": 10,
     "metadata": {},
     "output_type": "execute_result"
    }
   ],
   "source": [
    "\"-16\".isalnum() # klavyedeki sadece harf ve rakamları kontrol eder."
   ]
  },
  {
   "cell_type": "code",
   "execution_count": 11,
   "id": "f7cb5595",
   "metadata": {},
   "outputs": [
    {
     "data": {
      "text/plain": [
       "True"
      ]
     },
     "execution_count": 11,
     "metadata": {},
     "output_type": "execute_result"
    }
   ],
   "source": [
    "\"jasfk\".isalpha() #klavyedeki sadece harfleri kontrol eder.\n"
   ]
  },
  {
   "cell_type": "code",
   "execution_count": 12,
   "id": "fc334ee6",
   "metadata": {},
   "outputs": [
    {
     "data": {
      "text/plain": [
       "False"
      ]
     },
     "execution_count": 12,
     "metadata": {},
     "output_type": "execute_result"
    }
   ],
   "source": [
    "\"jasfk53-+6789\".isalpha()"
   ]
  },
  {
   "cell_type": "code",
   "execution_count": 13,
   "id": "c7d11040",
   "metadata": {},
   "outputs": [
    {
     "data": {
      "text/plain": [
       "True"
      ]
     },
     "execution_count": 13,
     "metadata": {},
     "output_type": "execute_result"
    }
   ],
   "source": [
    "\"16\".isalnum()"
   ]
  },
  {
   "cell_type": "code",
   "execution_count": 14,
   "id": "8bb2fd4b",
   "metadata": {},
   "outputs": [
    {
     "name": "stdout",
     "output_type": "stream",
     "text": [
      "yaşını gir : 40\n",
      "yaşın : 40\n"
     ]
    }
   ],
   "source": [
    "age = input(\"yaşını gir : \")\n",
    "while not age.isdigit():\n",
    "    print(\"yanlış girdin tekrar dene\")\n",
    "    age = input(\"yaşını gir : \")\n",
    "    \n",
    "print(\"yaşın :\", age)   "
   ]
  },
  {
   "cell_type": "code",
   "execution_count": 1,
   "id": "f9d97e0a",
   "metadata": {},
   "outputs": [
    {
     "name": "stdout",
     "output_type": "stream",
     "text": [
      "Enter your age in correct format : 0k\n",
      "You entered incorrect.! Write out correct format.\n"
     ]
    },
    {
     "ename": "KeyboardInterrupt",
     "evalue": "Interrupted by user",
     "output_type": "error",
     "traceback": [
      "\u001b[1;31m---------------------------------------------------------------------------\u001b[0m",
      "\u001b[1;31mKeyboardInterrupt\u001b[0m                         Traceback (most recent call last)",
      "\u001b[1;32m~\\AppData\\Local\\Temp/ipykernel_11232/2041791751.py\u001b[0m in \u001b[0;36m<module>\u001b[1;34m\u001b[0m\n\u001b[0;32m      3\u001b[0m \u001b[1;32mwhile\u001b[0m \u001b[1;32mnot\u001b[0m \u001b[0mage\u001b[0m\u001b[1;33m.\u001b[0m\u001b[0misdigit\u001b[0m\u001b[1;33m(\u001b[0m\u001b[1;33m)\u001b[0m \u001b[1;33m:\u001b[0m\u001b[1;33m\u001b[0m\u001b[1;33m\u001b[0m\u001b[0m\n\u001b[0;32m      4\u001b[0m     \u001b[0mprint\u001b[0m\u001b[1;33m(\u001b[0m\u001b[1;34m\"You entered incorrect.! Write out correct format.\"\u001b[0m\u001b[1;33m)\u001b[0m\u001b[1;33m\u001b[0m\u001b[1;33m\u001b[0m\u001b[0m\n\u001b[1;32m----> 5\u001b[1;33m     \u001b[0mage\u001b[0m \u001b[1;33m=\u001b[0m \u001b[0minput\u001b[0m\u001b[1;33m(\u001b[0m\u001b[1;34m\"Enter your age in correct format : \"\u001b[0m\u001b[1;33m)\u001b[0m\u001b[1;33m\u001b[0m\u001b[1;33m\u001b[0m\u001b[0m\n\u001b[0m\u001b[0;32m      6\u001b[0m \u001b[0mprint\u001b[0m\u001b[1;33m(\u001b[0m\u001b[1;34m\"Your age is : \"\u001b[0m\u001b[1;33m,\u001b[0m \u001b[0mage\u001b[0m\u001b[1;33m)\u001b[0m\u001b[1;33m\u001b[0m\u001b[1;33m\u001b[0m\u001b[0m\n",
      "\u001b[1;32mc:\\users\\dogan\\appdata\\local\\programs\\python\\python39\\lib\\site-packages\\ipykernel\\kernelbase.py\u001b[0m in \u001b[0;36mraw_input\u001b[1;34m(self, prompt)\u001b[0m\n\u001b[0;32m    979\u001b[0m                 \u001b[1;34m\"raw_input was called, but this frontend does not support input requests.\"\u001b[0m\u001b[1;33m\u001b[0m\u001b[1;33m\u001b[0m\u001b[0m\n\u001b[0;32m    980\u001b[0m             )\n\u001b[1;32m--> 981\u001b[1;33m         return self._input_request(\n\u001b[0m\u001b[0;32m    982\u001b[0m             \u001b[0mstr\u001b[0m\u001b[1;33m(\u001b[0m\u001b[0mprompt\u001b[0m\u001b[1;33m)\u001b[0m\u001b[1;33m,\u001b[0m\u001b[1;33m\u001b[0m\u001b[1;33m\u001b[0m\u001b[0m\n\u001b[0;32m    983\u001b[0m             \u001b[0mself\u001b[0m\u001b[1;33m.\u001b[0m\u001b[0m_parent_ident\u001b[0m\u001b[1;33m[\u001b[0m\u001b[1;34m\"shell\"\u001b[0m\u001b[1;33m]\u001b[0m\u001b[1;33m,\u001b[0m\u001b[1;33m\u001b[0m\u001b[1;33m\u001b[0m\u001b[0m\n",
      "\u001b[1;32mc:\\users\\dogan\\appdata\\local\\programs\\python\\python39\\lib\\site-packages\\ipykernel\\kernelbase.py\u001b[0m in \u001b[0;36m_input_request\u001b[1;34m(self, prompt, ident, parent, password)\u001b[0m\n\u001b[0;32m   1024\u001b[0m             \u001b[1;32mexcept\u001b[0m \u001b[0mKeyboardInterrupt\u001b[0m\u001b[1;33m:\u001b[0m\u001b[1;33m\u001b[0m\u001b[1;33m\u001b[0m\u001b[0m\n\u001b[0;32m   1025\u001b[0m                 \u001b[1;31m# re-raise KeyboardInterrupt, to truncate traceback\u001b[0m\u001b[1;33m\u001b[0m\u001b[1;33m\u001b[0m\u001b[1;33m\u001b[0m\u001b[0m\n\u001b[1;32m-> 1026\u001b[1;33m                 \u001b[1;32mraise\u001b[0m \u001b[0mKeyboardInterrupt\u001b[0m\u001b[1;33m(\u001b[0m\u001b[1;34m\"Interrupted by user\"\u001b[0m\u001b[1;33m)\u001b[0m \u001b[1;32mfrom\u001b[0m \u001b[1;32mNone\u001b[0m\u001b[1;33m\u001b[0m\u001b[1;33m\u001b[0m\u001b[0m\n\u001b[0m\u001b[0;32m   1027\u001b[0m             \u001b[1;32mexcept\u001b[0m \u001b[0mException\u001b[0m \u001b[1;32mas\u001b[0m \u001b[0me\u001b[0m\u001b[1;33m:\u001b[0m\u001b[1;33m\u001b[0m\u001b[1;33m\u001b[0m\u001b[0m\n\u001b[0;32m   1028\u001b[0m                 \u001b[0mself\u001b[0m\u001b[1;33m.\u001b[0m\u001b[0mlog\u001b[0m\u001b[1;33m.\u001b[0m\u001b[0mwarning\u001b[0m\u001b[1;33m(\u001b[0m\u001b[1;34m\"Invalid Message:\"\u001b[0m\u001b[1;33m,\u001b[0m \u001b[0mexc_info\u001b[0m\u001b[1;33m=\u001b[0m\u001b[1;32mTrue\u001b[0m\u001b[1;33m)\u001b[0m\u001b[1;33m\u001b[0m\u001b[1;33m\u001b[0m\u001b[0m\n",
      "\u001b[1;31mKeyboardInterrupt\u001b[0m: Interrupted by user"
     ]
    }
   ],
   "source": [
    "age = input(\"Enter your age in correct format : \")\n",
    "\n",
    "while not age.isdigit() :\n",
    "    print(\"You entered incorrect.! Write out correct format.\")\n",
    "    age = input(\"Enter your age in correct format : \")\n",
    "print(\"Your age is : \", age)"
   ]
  },
  {
   "cell_type": "code",
   "execution_count": 17,
   "id": "73511901",
   "metadata": {},
   "outputs": [
    {
     "name": "stdout",
     "output_type": "stream",
     "text": [
      "0\n",
      "1\n",
      "2\n",
      "3\n",
      "4\n",
      "5\n",
      "now, number is bigger or equal to 6\n"
     ]
    }
   ],
   "source": [
    "number = 0\n",
    "\n",
    "while number < 6:\n",
    "    print(number)\n",
    "    number += 1\n",
    "    \n",
    "print('now, number is bigger or equal to 6')"
   ]
  },
  {
   "cell_type": "code",
   "execution_count": 18,
   "id": "c2fd56ec",
   "metadata": {},
   "outputs": [
    {
     "name": "stdout",
     "output_type": "stream",
     "text": [
      "0-1-2-3-4-5-now, number is bigger or equal to 6\n"
     ]
    }
   ],
   "source": [
    "number = 0\n",
    "\n",
    "while number < 6:\n",
    "    print(number, end=\"-\")\n",
    "    number += 1\n",
    "    \n",
    "print('now, number is bigger or equal to 6')"
   ]
  },
  {
   "cell_type": "code",
   "execution_count": 19,
   "id": "4c5a9382",
   "metadata": {},
   "outputs": [
    {
     "name": "stdout",
     "output_type": "stream",
     "text": [
      "square of 0 is : 0\n",
      "square of 1 is : 1\n",
      "square of 2 is : 4\n",
      "square of 3 is : 9\n",
      "square of 4 is : 16\n"
     ]
    }
   ],
   "source": [
    "my_list=[\"a\", \"b\", \"c\", \"d\", \"e\"]\n",
    "\n",
    "a = 0\n",
    "\n",
    "while a < len(my_list):\n",
    "    print('square of {} is : {}'.format(a, a**2))\n",
    "    a+=1\n"
   ]
  },
  {
   "cell_type": "code",
   "execution_count": 20,
   "id": "2b940e19",
   "metadata": {},
   "outputs": [],
   "source": [
    "words = \"clarusway is the best\".split()"
   ]
  },
  {
   "cell_type": "code",
   "execution_count": 21,
   "id": "0d85c2b1",
   "metadata": {},
   "outputs": [
    {
     "data": {
      "text/plain": [
       "['clarusway', 'is', 'the', 'best']"
      ]
     },
     "execution_count": 21,
     "metadata": {},
     "output_type": "execute_result"
    }
   ],
   "source": [
    "words"
   ]
  },
  {
   "cell_type": "code",
   "execution_count": 22,
   "id": "4148f9a5",
   "metadata": {},
   "outputs": [
    {
     "data": {
      "text/plain": [
       "9"
      ]
     },
     "execution_count": 22,
     "metadata": {},
     "output_type": "execute_result"
    }
   ],
   "source": [
    "len(words[0])"
   ]
  },
  {
   "cell_type": "code",
   "execution_count": 23,
   "id": "71d5dfed",
   "metadata": {},
   "outputs": [
    {
     "data": {
      "text/plain": [
       "2"
      ]
     },
     "execution_count": 23,
     "metadata": {},
     "output_type": "execute_result"
    }
   ],
   "source": [
    "len(words[1])"
   ]
  },
  {
   "cell_type": "code",
   "execution_count": 24,
   "id": "f51cc1bb",
   "metadata": {},
   "outputs": [
    {
     "data": {
      "text/plain": [
       "3"
      ]
     },
     "execution_count": 24,
     "metadata": {},
     "output_type": "execute_result"
    }
   ],
   "source": [
    "len(words[2])"
   ]
  },
  {
   "cell_type": "code",
   "execution_count": 25,
   "id": "e1deb0cb",
   "metadata": {},
   "outputs": [
    {
     "data": {
      "text/plain": [
       "4"
      ]
     },
     "execution_count": 25,
     "metadata": {},
     "output_type": "execute_result"
    }
   ],
   "source": [
    "len(words[3])"
   ]
  },
  {
   "cell_type": "code",
   "execution_count": 26,
   "id": "c19cc284",
   "metadata": {},
   "outputs": [
    {
     "name": "stdout",
     "output_type": "stream",
     "text": [
      "give me a sentence without any punctuation :sen beim için çok önemlisin\n",
      "the length of the longest word is : 9\n"
     ]
    }
   ],
   "source": [
    "sentence = input(\"give me a sentence without any punctuation :\")\n",
    "\n",
    "words = sentence.split()\n",
    "i = 0\n",
    "longest = 0\n",
    "\n",
    "while i < len(words) :\n",
    "    if len(words[i]) > longest :\n",
    "        longest = len(words[i])\n",
    "    i += 1\n",
    "    \n",
    "print(\"the length of the longest word is :\", longest)"
   ]
  },
  {
   "cell_type": "code",
   "execution_count": 29,
   "id": "f553753c",
   "metadata": {},
   "outputs": [
    {
     "name": "stdout",
     "output_type": "stream",
     "text": [
      "cümle gir:cjvk jkjkhhlkhlklkh vjjjhjhfıllhjdjhg bvv\n",
      "cümledeki en uzun kelime 17 karekter\n"
     ]
    }
   ],
   "source": [
    "sentence = input(\"cümle gir:\")\n",
    "words = sentence.split()\n",
    "i = 0\n",
    "longest = 0\n",
    "while i < len(words):\n",
    "    if len(words[i]) > longest :\n",
    "        longest = len(words[i])\n",
    "    i += 1\n",
    "\n",
    "print(\"cümledeki en uzun kelime {} karekter\".format(longest))"
   ]
  },
  {
   "cell_type": "code",
   "execution_count": 27,
   "id": "4c18982a",
   "metadata": {},
   "outputs": [
    {
     "name": "stdout",
     "output_type": "stream",
     "text": [
      "hello Ahmed\n",
      "hello Aisha\n",
      "hello Adam\n",
      "hello Joseph\n",
      "hello Gabriel\n"
     ]
    }
   ],
   "source": [
    "names = [\"Ahmed\", \"Aisha\", \"Adam\", \"Joseph\", \"Gabriel\"]\n",
    "\n",
    "for a in names :\n",
    "    print(\"hello\", a)"
   ]
  },
  {
   "cell_type": "code",
   "execution_count": 15,
   "id": "9d08cb68",
   "metadata": {},
   "outputs": [
    {
     "name": "stdout",
     "output_type": "stream",
     "text": [
      "Let's play the guessing game!\n",
      "What number am I thinking of?  44\n",
      "Are you a MINDREADER!!!\n"
     ]
    }
   ],
   "source": [
    "answer = 44\n",
    "\n",
    "question = 'What number am I thinking of?  '\n",
    "print (\"Let's play the guessing game!\")\n",
    "\n",
    "while True:\n",
    "    guess = int(input(question))\n",
    "\n",
    "    if guess < answer:\n",
    "        print('Little higher')\n",
    "    elif guess > answer:\n",
    "        print('Little lower')\n",
    "    else:  # guess == answer\n",
    "        print('Are you a MINDREADER!!!')\n",
    "        break\n"
   ]
  },
  {
   "cell_type": "code",
   "execution_count": 1,
   "id": "382acc5d",
   "metadata": {},
   "outputs": [
    {
     "name": "stdout",
     "output_type": "stream",
     "text": [
      "Hello Geek\n",
      "Hello Geek\n",
      "Hello Geek\n",
      "\n",
      "4\n",
      "3\n",
      "2\n",
      "1\n"
     ]
    }
   ],
   "source": [
    "\n",
    "# Python program to illustrate \n",
    "# while loop \n",
    "count = 0\n",
    "while (count < 3):     \n",
    "    count = count + 1\n",
    "    print(\"Hello Geek\") \n",
    "  \n",
    "print()\n",
    "  \n",
    "# checks if list still\n",
    "# contains any element \n",
    "a = [1, 2, 3, 4]\n",
    "while a:\n",
    "    print(a.pop())"
   ]
  },
  {
   "cell_type": "code",
   "execution_count": 2,
   "id": "46a55dd4",
   "metadata": {},
   "outputs": [
    {
     "name": "stdout",
     "output_type": "stream",
     "text": [
      "Hello Geek\n",
      "Hello Geek\n",
      "Hello Geek\n",
      "Hello Geek\n",
      "Hello Geek\n"
     ]
    }
   ],
   "source": [
    "# Python program to illustrate \n",
    "# Single statement while block \n",
    "count = 0\n",
    "while (count < 5): count += 1; print(\"Hello Geek\")"
   ]
  },
  {
   "cell_type": "code",
   "execution_count": 3,
   "id": "9e098fac",
   "metadata": {},
   "outputs": [
    {
     "name": "stdout",
     "output_type": "stream",
     "text": [
      "Current Letter : g\n",
      "Current Letter : k\n",
      "Current Letter : f\n",
      "Current Letter : o\n",
      "Current Letter : r\n",
      "Current Letter : g\n",
      "Current Letter : k\n"
     ]
    }
   ],
   "source": [
    "\n",
    "# Prints all letters except 'e' and 's' \n",
    "i = 0\n",
    "a = 'geeksforgeeks'\n",
    "  \n",
    "while i < len(a): \n",
    "    if a[i] == 'e' or a[i] == 's': # continue İfadesi: Kontrolü döngünün başına döndürür.\n",
    "        i += 1\n",
    "        continue\n",
    "    print('Current Letter :', a[i])\n",
    "    i += 1"
   ]
  },
  {
   "cell_type": "code",
   "execution_count": 6,
   "id": "b0bf8f69",
   "metadata": {},
   "outputs": [
    {
     "name": "stdout",
     "output_type": "stream",
     "text": [
      "Current Letter : g\n"
     ]
    }
   ],
   "source": [
    "# break the loop as soon it sees 'e'  \n",
    "# or 's'\n",
    "i = 0\n",
    "a = 'geeksforgeeks'\n",
    "  \n",
    "while i < len(a): \n",
    "    if a[i] == 'e' or a[i] == 's': # Break İfadesi: Kontrolü döngüden çıkarır\n",
    "        i += 1\n",
    "        break\n",
    "    print('Current Letter :', a[i])\n",
    "    i += 1\n",
    "   "
   ]
  },
  {
   "cell_type": "code",
   "execution_count": 7,
   "id": "422251d1",
   "metadata": {},
   "outputs": [
    {
     "name": "stdout",
     "output_type": "stream",
     "text": [
      "Value of i : 13\n"
     ]
    }
   ],
   "source": [
    "\n",
    "# An empty loop \n",
    "a = 'geeksforgeeks'\n",
    "i = 0\n",
    "  \n",
    "while i < len(a): # Pass İfadesi: Boş döngüler yazmak için pass ifadesini kullanırız. \n",
    "    # Pass ayrıca boş kontrol ifadeleri, fonksiyonlar ve sınıflar için de kullanılır.en sonu yazdırır.\n",
    "    i += 1\n",
    "    pass\n",
    "print('Value of i :', i)"
   ]
  },
  {
   "cell_type": "code",
   "execution_count": 10,
   "id": "feb45046",
   "metadata": {},
   "outputs": [
    {
     "name": "stdout",
     "output_type": "stream",
     "text": [
      "1\n",
      "2\n",
      "3\n",
      "4\n",
      "No Break\n",
      "\n"
     ]
    }
   ],
   "source": [
    "# Python program to demonstrate\n",
    "# while-else loop\n",
    "i = 0 \n",
    "while i < 4:\n",
    "    i += 1\n",
    "    print(i) \n",
    "else: # Executed because no break in for \n",
    "    print(\"No Break\\n\") \n",
    "  \n"
   ]
  },
  {
   "cell_type": "code",
   "execution_count": 11,
   "id": "06cf0b58",
   "metadata": {},
   "outputs": [
    {
     "name": "stdout",
     "output_type": "stream",
     "text": [
      "1\n"
     ]
    }
   ],
   "source": [
    " i = 0 \n",
    "while i < 4: \n",
    "    i += 1\n",
    "    print(i) \n",
    "    break\n",
    "else: # Not executed as there is a break \n",
    "    print(\"No Break\")"
   ]
  },
  {
   "cell_type": "code",
   "execution_count": null,
   "id": "bca9ec88",
   "metadata": {},
   "outputs": [],
   "source": []
  },
  {
   "cell_type": "code",
   "execution_count": null,
   "id": "068712fe",
   "metadata": {},
   "outputs": [],
   "source": []
  },
  {
   "cell_type": "code",
   "execution_count": null,
   "id": "3a1723b8",
   "metadata": {},
   "outputs": [],
   "source": []
  },
  {
   "cell_type": "code",
   "execution_count": null,
   "id": "1225013e",
   "metadata": {},
   "outputs": [],
   "source": []
  },
  {
   "cell_type": "code",
   "execution_count": null,
   "id": "27d5326a",
   "metadata": {},
   "outputs": [],
   "source": []
  },
  {
   "cell_type": "markdown",
   "id": "ba4be881",
   "metadata": {},
   "source": [
    "# for döngüsü"
   ]
  },
  {
   "cell_type": "code",
   "execution_count": null,
   "id": "0f5c212e",
   "metadata": {},
   "outputs": [],
   "source": []
  },
  {
   "cell_type": "code",
   "execution_count": null,
   "id": "939ebf32",
   "metadata": {},
   "outputs": [],
   "source": []
  },
  {
   "cell_type": "code",
   "execution_count": null,
   "id": "51c326cd",
   "metadata": {},
   "outputs": [],
   "source": []
  },
  {
   "cell_type": "code",
   "execution_count": null,
   "id": "f3ffef02",
   "metadata": {},
   "outputs": [],
   "source": [
    "for variable in iterable :\n",
    "    code block"
   ]
  },
  {
   "cell_type": "code",
   "execution_count": 31,
   "id": "d3319dec",
   "metadata": {},
   "outputs": [
    {
     "name": "stdout",
     "output_type": "stream",
     "text": [
      "1\n",
      "2\n",
      "3\n",
      "4\n",
      "5\n"
     ]
    }
   ],
   "source": [
    "for i in [1, 2, 3, 4, 5] :\n",
    "    print(i)"
   ]
  },
  {
   "cell_type": "code",
   "execution_count": 32,
   "id": "8de8a3d8",
   "metadata": {},
   "outputs": [
    {
     "name": "stdout",
     "output_type": "stream",
     "text": [
      "spring\n",
      "summer\n",
      "autumn\n",
      "winter\n"
     ]
    }
   ],
   "source": [
    "seasons = ['spring', 'summer', 'autumn', 'winter']\n",
    "\n",
    "for season in seasons :\n",
    "    print(season)\n"
   ]
  },
  {
   "cell_type": "code",
   "execution_count": 41,
   "id": "c063cb8f",
   "metadata": {},
   "outputs": [
    {
     "name": "stdout",
     "output_type": "stream",
     "text": [
      "hello Ahmed\n",
      "hello Aisha\n",
      "hello Adam\n",
      "hello Joseph\n",
      "hello Gabriel\n"
     ]
    }
   ],
   "source": [
    "names = [\"Ahmed\", \"Aisha\", \"Adam\", \"Joseph\", \"Gabriel\"]\n",
    "\n",
    "for i in names :\n",
    "    print(\"hello\", i)"
   ]
  },
  {
   "cell_type": "code",
   "execution_count": 42,
   "id": "fa28be7d",
   "metadata": {},
   "outputs": [
    {
     "name": "stdout",
     "output_type": "stream",
     "text": [
      "[1, 2, 3, 4, 5]\n"
     ]
    }
   ],
   "source": [
    "num = []\n",
    "\n",
    "for i in range(1, 6) :\n",
    "    num.append(i)\n",
    "print(num)\n"
   ]
  },
  {
   "cell_type": "code",
   "execution_count": 3,
   "id": "b8cfdae6",
   "metadata": {},
   "outputs": [
    {
     "name": "stdout",
     "output_type": "stream",
     "text": [
      "1\n",
      "4\n",
      "9\n",
      "16\n"
     ]
    }
   ],
   "source": [
    "iterable = [1, 2, 3, 4]\n",
    "for i in iterable :\n",
    "    print(i**2)"
   ]
  },
  {
   "cell_type": "code",
   "execution_count": null,
   "id": "1d39496f",
   "metadata": {},
   "outputs": [],
   "source": [
    "# Formül sözdizimi şöyledir: range(start, stop, step)"
   ]
  },
  {
   "cell_type": "code",
   "execution_count": null,
   "id": "89a0c380",
   "metadata": {},
   "outputs": [],
   "source": []
  },
  {
   "cell_type": "code",
   "execution_count": 43,
   "id": "2f74de8b",
   "metadata": {},
   "outputs": [
    {
     "name": "stdout",
     "output_type": "stream",
     "text": [
      "range(0, 10)\n"
     ]
    }
   ],
   "source": [
    "print(range(10)) # Yalnızca bir aralık yazdırırsanız garip bir şey olur:\n"
   ]
  },
  {
   "cell_type": "code",
   "execution_count": 44,
   "id": "1c104426",
   "metadata": {},
   "outputs": [
    {
     "data": {
      "text/plain": [
       "6"
      ]
     },
     "execution_count": 44,
     "metadata": {},
     "output_type": "execute_result"
    }
   ],
   "source": [
    "sum(range(4))  # 0 + 1 + 2 + 3"
   ]
  },
  {
   "cell_type": "code",
   "execution_count": 45,
   "id": "3b3374f0",
   "metadata": {},
   "outputs": [
    {
     "data": {
      "text/plain": [
       "[0, 1, 2, 3]"
      ]
     },
     "execution_count": 45,
     "metadata": {},
     "output_type": "execute_result"
    }
   ],
   "source": [
    "list(range(4))"
   ]
  },
  {
   "cell_type": "code",
   "execution_count": 46,
   "id": "43f627ef",
   "metadata": {},
   "outputs": [
    {
     "data": {
      "text/plain": [
       "range(1, 6)"
      ]
     },
     "execution_count": 46,
     "metadata": {},
     "output_type": "execute_result"
    }
   ],
   "source": [
    "range(1,6)"
   ]
  },
  {
   "cell_type": "code",
   "execution_count": 47,
   "id": "3b18f83f",
   "metadata": {},
   "outputs": [
    {
     "data": {
      "text/plain": [
       "[1, 2, 3, 4, 5]"
      ]
     },
     "execution_count": 47,
     "metadata": {},
     "output_type": "execute_result"
    }
   ],
   "source": [
    "list(range(1,6))"
   ]
  },
  {
   "cell_type": "code",
   "execution_count": 48,
   "id": "cf6f715d",
   "metadata": {},
   "outputs": [
    {
     "data": {
      "text/plain": [
       "(1, 2, 3, 4, 5)"
      ]
     },
     "execution_count": 48,
     "metadata": {},
     "output_type": "execute_result"
    }
   ],
   "source": [
    "tuple(range(1,6))"
   ]
  },
  {
   "cell_type": "code",
   "execution_count": 49,
   "id": "490792b6",
   "metadata": {},
   "outputs": [
    {
     "name": "stdout",
     "output_type": "stream",
     "text": [
      "1 2 3 4 5\n"
     ]
    }
   ],
   "source": [
    "print(* range(1,6))"
   ]
  },
  {
   "cell_type": "code",
   "execution_count": 50,
   "id": "40b80e7e",
   "metadata": {
    "scrolled": true
   },
   "outputs": [
    {
     "data": {
      "text/plain": [
       "[-4, -3, -2, -1, 0, 1, 2, 3]"
      ]
     },
     "execution_count": 50,
     "metadata": {},
     "output_type": "execute_result"
    }
   ],
   "source": [
    "list(range(-4,4))"
   ]
  },
  {
   "cell_type": "code",
   "execution_count": 52,
   "id": "b713b134",
   "metadata": {},
   "outputs": [
    {
     "data": {
      "text/plain": [
       "[]"
      ]
     },
     "execution_count": 52,
     "metadata": {},
     "output_type": "execute_result"
    }
   ],
   "source": [
    "list(range(-4,4,-1))"
   ]
  },
  {
   "cell_type": "code",
   "execution_count": 53,
   "id": "f7b1abd7",
   "metadata": {},
   "outputs": [
    {
     "data": {
      "text/plain": [
       "[4, 3, 2, 1, 0, -1, -2, -3]"
      ]
     },
     "execution_count": 53,
     "metadata": {},
     "output_type": "execute_result"
    }
   ],
   "source": [
    "list(range(4,-4,-1))"
   ]
  },
  {
   "cell_type": "code",
   "execution_count": 54,
   "id": "8856f8db",
   "metadata": {},
   "outputs": [
    {
     "name": "stdout",
     "output_type": "stream",
     "text": [
      "[0, 1, 2, 3, 4, 5, 6, 7, 8, 9, 10]\n"
     ]
    }
   ],
   "source": [
    "b = list(range(11))\n",
    "\n",
    "print(b)\n"
   ]
  },
  {
   "cell_type": "code",
   "execution_count": 55,
   "id": "87d1bd9a",
   "metadata": {},
   "outputs": [
    {
     "name": "stdout",
     "output_type": "stream",
     "text": [
      "{0, 1, 2, 3, 4, 5, 6, 7, 8, 9}\n"
     ]
    }
   ],
   "source": [
    "a = set(range(0,10))\n",
    "\n",
    "print(a)"
   ]
  },
  {
   "cell_type": "code",
   "execution_count": 56,
   "id": "734bb8e5",
   "metadata": {},
   "outputs": [
    {
     "name": "stdout",
     "output_type": "stream",
     "text": [
      "(0, 1, 2, 3, 4, 5, 6, 7, 8, 9, 10)\n"
     ]
    }
   ],
   "source": [
    "c = tuple(range(11))\n",
    "\n",
    "print(c)\n"
   ]
  },
  {
   "cell_type": "code",
   "execution_count": 57,
   "id": "e3273cf6",
   "metadata": {},
   "outputs": [
    {
     "name": "stdout",
     "output_type": "stream",
     "text": [
      "range(0, 5)\n",
      "0 1 2 3 4\n"
     ]
    }
   ],
   "source": [
    "print(range(5))  # it will not print the numbers in sequence\n",
    "\n",
    "print(*range(5))  # '*' separates its elements\n"
   ]
  },
  {
   "cell_type": "code",
   "execution_count": 58,
   "id": "b074ec39",
   "metadata": {},
   "outputs": [
    {
     "name": "stdout",
     "output_type": "stream",
     "text": [
      "5 7 9 11 13 15 17 19 21 23\n"
     ]
    }
   ],
   "source": [
    "print(*range(5,25,2))\n"
   ]
  },
  {
   "cell_type": "code",
   "execution_count": 59,
   "id": "655b44d8",
   "metadata": {},
   "outputs": [
    {
     "name": "stdout",
     "output_type": "stream",
     "text": [
      "s e p a r a t e\n"
     ]
    }
   ],
   "source": [
    "print(*('separate'))"
   ]
  },
  {
   "cell_type": "code",
   "execution_count": 60,
   "id": "0d49a792",
   "metadata": {},
   "outputs": [
    {
     "name": "stdout",
     "output_type": "stream",
     "text": [
      "10 8 6 4 2\n"
     ]
    }
   ],
   "source": [
    "print(*range(10,0,-2))"
   ]
  },
  {
   "cell_type": "code",
   "execution_count": null,
   "id": "6d0b4682",
   "metadata": {},
   "outputs": [],
   "source": [
    "# zip() işlevi, yinelenebilir öğelerin her birinden öğeleri toplayan bir yineleyici yapar."
   ]
  },
  {
   "cell_type": "code",
   "execution_count": 61,
   "id": "4f339425",
   "metadata": {},
   "outputs": [
    {
     "name": "stdout",
     "output_type": "stream",
     "text": [
      "1 2 3 4 5 "
     ]
    }
   ],
   "source": [
    "for i in range(1,6) :\n",
    "    print(i, end=\" \")"
   ]
  },
  {
   "cell_type": "code",
   "execution_count": 62,
   "id": "d2603ed4",
   "metadata": {},
   "outputs": [
    {
     "name": "stdout",
     "output_type": "stream",
     "text": [
      "c\n",
      "l\n",
      "a\n",
      "r\n",
      "u\n",
      "s\n",
      "w\n",
      "a\n",
      "y\n"
     ]
    }
   ],
   "source": [
    "course = 'clarusway'\n",
    "\n",
    "for i in course :\n",
    "    print(i)"
   ]
  },
  {
   "cell_type": "code",
   "execution_count": 63,
   "id": "3a1ef5bb",
   "metadata": {},
   "outputs": [
    {
     "name": "stdout",
     "output_type": "stream",
     "text": [
      "c-l-a-r-u-s-w-a-y-"
     ]
    }
   ],
   "source": [
    "word = \"clarusway\"\n",
    "\n",
    "for i in word :\n",
    "    print(i, end = \"-\")"
   ]
  },
  {
   "cell_type": "code",
   "execution_count": 64,
   "id": "935045bb",
   "metadata": {},
   "outputs": [
    {
     "name": "stdout",
     "output_type": "stream",
     "text": [
      "c-l-a-r-u-s-w-a-y"
     ]
    }
   ],
   "source": [
    "count = 0\n",
    "\n",
    "for i in word :\n",
    "    count += 1\n",
    "    if count < len(word) :\n",
    "        i = i + \"-\"\n",
    "    print(i, end = \"\")"
   ]
  },
  {
   "cell_type": "code",
   "execution_count": 68,
   "id": "9acf8429",
   "metadata": {},
   "outputs": [
    {
     "name": "stdout",
     "output_type": "stream",
     "text": [
      "enter a number between 1-105\n",
      "0\n",
      "5\n",
      "10\n",
      "15\n",
      "20\n",
      "25\n",
      "30\n",
      "35\n",
      "40\n",
      "45\n",
      "50\n"
     ]
    }
   ],
   "source": [
    "a = int(input('enter a number between 1-10'))\n",
    "\n",
    "\n",
    "for i in range(11):\n",
    "    print(f\"{i*a}\")"
   ]
  },
  {
   "cell_type": "code",
   "execution_count": 67,
   "id": "21f47ba5",
   "metadata": {},
   "outputs": [
    {
     "name": "stdout",
     "output_type": "stream",
     "text": [
      "enter a number between 1-105\n",
      "5x0 =  0\n",
      "5x1 =  5\n",
      "5x2 =  10\n",
      "5x3 =  15\n",
      "5x4 =  20\n",
      "5x5 =  25\n",
      "5x6 =  30\n",
      "5x7 =  35\n",
      "5x8 =  40\n",
      "5x9 =  45\n",
      "5x10 =  50\n"
     ]
    }
   ],
   "source": [
    "a = int(input('enter a number between 1-10'))\n",
    "\n",
    "for i in range(11):\n",
    "    print('{}x{} = '.format(a, i), a*i)"
   ]
  },
  {
   "cell_type": "code",
   "execution_count": 69,
   "id": "8f153a2e",
   "metadata": {},
   "outputs": [
    {
     "name": "stdout",
     "output_type": "stream",
     "text": [
      "How many times should I say 'I love you'5\n",
      "I love you\n",
      "I love you\n",
      "I love you\n",
      "I love you\n",
      "I love you\n"
     ]
    }
   ],
   "source": [
    "times = int(input(\"How many times should I say 'I love you'\"))\n",
    "\n",
    "for i in range(times):\n",
    "    print('I love you')"
   ]
  },
  {
   "cell_type": "code",
   "execution_count": 70,
   "id": "82f9565a",
   "metadata": {},
   "outputs": [],
   "source": [
    "a = 3"
   ]
  },
  {
   "cell_type": "code",
   "execution_count": 71,
   "id": "3f0c7cb8",
   "metadata": {},
   "outputs": [],
   "source": [
    "i = 5"
   ]
  },
  {
   "cell_type": "code",
   "execution_count": 72,
   "id": "fcfa118a",
   "metadata": {},
   "outputs": [
    {
     "data": {
      "text/plain": [
       "5"
      ]
     },
     "execution_count": 72,
     "metadata": {},
     "output_type": "execute_result"
    }
   ],
   "source": [
    "i"
   ]
  },
  {
   "cell_type": "code",
   "execution_count": 73,
   "id": "97f4664e",
   "metadata": {},
   "outputs": [
    {
     "data": {
      "text/plain": [
       "3"
      ]
     },
     "execution_count": 73,
     "metadata": {},
     "output_type": "execute_result"
    }
   ],
   "source": [
    "key, val = 3, 5\n",
    "key"
   ]
  },
  {
   "cell_type": "code",
   "execution_count": 74,
   "id": "0293b211",
   "metadata": {},
   "outputs": [
    {
     "data": {
      "text/plain": [
       "5"
      ]
     },
     "execution_count": 74,
     "metadata": {},
     "output_type": "execute_result"
    }
   ],
   "source": [
    "val"
   ]
  },
  {
   "cell_type": "code",
   "execution_count": 76,
   "id": "65057920",
   "metadata": {},
   "outputs": [
    {
     "name": "stdout",
     "output_type": "stream",
     "text": [
      "n1\n",
      "n2\n"
     ]
    }
   ],
   "source": [
    "for i in {'n1' : 'one', 'n2' : 'two'} : \n",
    "    print(i)"
   ]
  },
  {
   "cell_type": "code",
   "execution_count": 79,
   "id": "e0ac6a1b",
   "metadata": {},
   "outputs": [
    {
     "name": "stdout",
     "output_type": "stream",
     "text": [
      "name\n",
      "surname\n",
      "age\n"
     ]
    }
   ],
   "source": [
    "user = {\"name\":\"Daniel\",\n",
    "       \"surname\":\"Smith\",\n",
    "       \"age\": 35}\n",
    "for yeni in user :\n",
    "    print(yeni)"
   ]
  },
  {
   "cell_type": "code",
   "execution_count": 77,
   "id": "8919ac5a",
   "metadata": {},
   "outputs": [
    {
     "name": "stdout",
     "output_type": "stream",
     "text": [
      "name : Daniel\n",
      "surname : Smith\n",
      "age : 35\n"
     ]
    }
   ],
   "source": [
    "user = {\"name\":\"Daniel\",\n",
    "       \"surname\":\"Smith\",\n",
    "       \"age\": 35}\n",
    "for key, value in user.items(): # items her bir dict i tuple tuple alıyor\n",
    "    print(key, \":\", value)"
   ]
  },
  {
   "cell_type": "code",
   "execution_count": 80,
   "id": "57ada1cb",
   "metadata": {},
   "outputs": [
    {
     "name": "stdout",
     "output_type": "stream",
     "text": [
      "333\n"
     ]
    }
   ],
   "source": [
    "print(\"3\"*3)"
   ]
  },
  {
   "cell_type": "code",
   "execution_count": 81,
   "id": "5caa184e",
   "metadata": {},
   "outputs": [
    {
     "name": "stdout",
     "output_type": "stream",
     "text": [
      "88888888\n"
     ]
    }
   ],
   "source": [
    "print(\"8\"*8)"
   ]
  },
  {
   "cell_type": "code",
   "execution_count": 82,
   "id": "cae7311b",
   "metadata": {},
   "outputs": [
    {
     "name": "stdout",
     "output_type": "stream",
     "text": [
      "1\n",
      "22\n",
      "333\n",
      "4444\n",
      "55555\n",
      "666666\n",
      "7777777\n",
      "88888888\n",
      "999999999\n"
     ]
    }
   ],
   "source": [
    "for i in range(1,10) :\n",
    "    print(str(i) * i)"
   ]
  },
  {
   "cell_type": "code",
   "execution_count": 85,
   "id": "3569b12d",
   "metadata": {},
   "outputs": [
    {
     "name": "stdout",
     "output_type": "stream",
     "text": [
      "enter a number between 1-10: 4\n",
      "4*0 =  0\n",
      "4*1 =  4\n",
      "4*2 =  8\n",
      "4*3 =  12\n"
     ]
    }
   ],
   "source": [
    "num = int(input(\"enter a number between 1-10: \"))\n",
    "\n",
    "for i in range(num) :\n",
    "    print(\"{}*{} = \".format(num, i), i*num)"
   ]
  },
  {
   "cell_type": "code",
   "execution_count": 86,
   "id": "05c6281a",
   "metadata": {},
   "outputs": [],
   "source": [
    "text = ['one', 'two', 'three', 'four', 'five']\n",
    "numbers = [1, 2, 3, 4, 5]"
   ]
  },
  {
   "cell_type": "code",
   "execution_count": 87,
   "id": "1c0a2e9e",
   "metadata": {},
   "outputs": [
    {
     "data": {
      "text/plain": [
       "<zip at 0x1fea27e0940>"
      ]
     },
     "execution_count": 87,
     "metadata": {},
     "output_type": "execute_result"
    }
   ],
   "source": [
    "zip(text, numbers) # zip iki iteraple ı indeks numaralarına göre merge ediyor."
   ]
  },
  {
   "cell_type": "code",
   "execution_count": 88,
   "id": "3f2b3bc2",
   "metadata": {},
   "outputs": [
    {
     "data": {
      "text/plain": [
       "[('one', 1), ('two', 2), ('three', 3), ('four', 4), ('five', 5)]"
      ]
     },
     "execution_count": 88,
     "metadata": {},
     "output_type": "execute_result"
    }
   ],
   "source": [
    "list(zip(text, numbers))"
   ]
  },
  {
   "cell_type": "code",
   "execution_count": 90,
   "id": "1b2c7bae",
   "metadata": {},
   "outputs": [
    {
     "name": "stdout",
     "output_type": "stream",
     "text": [
      "one : 1\n",
      "two : 2\n",
      "three : 3\n",
      "four : 4\n",
      "five : 5\n"
     ]
    }
   ],
   "source": [
    "for x, y in list(zip(text, numbers)) :\n",
    "    print(x,\":\", y)"
   ]
  },
  {
   "cell_type": "code",
   "execution_count": 91,
   "id": "508b86c2",
   "metadata": {},
   "outputs": [
    {
     "name": "stdout",
     "output_type": "stream",
     "text": [
      "one : 1\n",
      "two : 2\n",
      "three : 3\n",
      "four : 4\n",
      "five : 5\n"
     ]
    }
   ],
   "source": [
    "text = ['one','two','three','four','five']\n",
    "numbers = [1, 2, 3, 4, 5]\n",
    "for x, y in zip(text, numbers):\n",
    "    print(x, ':', y)\n"
   ]
  },
  {
   "cell_type": "code",
   "execution_count": null,
   "id": "20b2529b",
   "metadata": {},
   "outputs": [],
   "source": [
    "who = ['I am ', 'You are ']\n",
    "mood = ['happy', 'confident']\n",
    "for i in who:\n",
    "    for ii in mood:\n",
    "        print(i + ii)"
   ]
  },
  {
   "cell_type": "code",
   "execution_count": 2,
   "id": "f912bece",
   "metadata": {},
   "outputs": [
    {
     "name": "stdout",
     "output_type": "stream",
     "text": [
      "cat 3\n",
      "cat\n",
      "window 6\n",
      "window\n",
      "defenestrate 12\n",
      "defenestrate\n"
     ]
    }
   ],
   "source": [
    "words = ['cat', 'window', 'defenestrate']\n",
    "for w in words:\n",
    "    print(w, len(w))\n",
    "    print(w)"
   ]
  },
  {
   "cell_type": "code",
   "execution_count": 7,
   "id": "5fa71d73",
   "metadata": {},
   "outputs": [
    {
     "name": "stdout",
     "output_type": "stream",
     "text": [
      "0 Mary\n",
      "1 had\n",
      "2 a\n",
      "3 little\n",
      "4 lamb\n"
     ]
    }
   ],
   "source": [
    "a = ['Mary', 'had', 'a', 'little', 'lamb']\n",
    ">>> for i in range(len(a)):\n",
    "...     print(i, a[i])"
   ]
  },
  {
   "cell_type": "code",
   "execution_count": null,
   "id": "85106723",
   "metadata": {},
   "outputs": [],
   "source": [
    ">>> for n in range(2, 10):\n",
    "...     for x in range(2, n):\n",
    "...         if n % x == 0:\n",
    "...             print(n, 'equals', x, '*', n//x)\n",
    "...             break\n",
    "...     else:\n",
    "...         # loop fell through without finding a factor\n",
    "...         print(n, 'is a prime number')"
   ]
  },
  {
   "cell_type": "code",
   "execution_count": null,
   "id": "44d6018f",
   "metadata": {},
   "outputs": [],
   "source": [
    ">>> for num in range(2, 10):\n",
    "...     if num % 2 == 0:\n",
    "...         print(\"Found an even number\", num)\n",
    "...         continue\n",
    "...     print(\"Found an odd number\", num)"
   ]
  },
  {
   "cell_type": "code",
   "execution_count": null,
   "id": "409b7708",
   "metadata": {},
   "outputs": [],
   "source": [
    "a = int(input('enter a number between 1-10'))\n",
    "\n",
    "for i in range(11):\n",
    "    i = str(i)\n",
    "    b= int(i)\n",
    "    print('{}x{} = '.format(a, b), a*b)"
   ]
  },
  {
   "cell_type": "code",
   "execution_count": null,
   "id": "d3e81c1b",
   "metadata": {},
   "outputs": [],
   "source": [
    "# bundan sonrası 29 Temmuz 2021 tarihli"
   ]
  },
  {
   "cell_type": "code",
   "execution_count": 6,
   "id": "43833899",
   "metadata": {},
   "outputs": [
    {
     "ename": "AttributeError",
     "evalue": "'tuple' object has no attribute 'append'",
     "output_type": "error",
     "traceback": [
      "\u001b[1;31m---------------------------------------------------------------------------\u001b[0m",
      "\u001b[1;31mAttributeError\u001b[0m                            Traceback (most recent call last)",
      "\u001b[1;32m~\\AppData\\Local\\Temp/ipykernel_10884/4070268692.py\u001b[0m in \u001b[0;36m<module>\u001b[1;34m\u001b[0m\n\u001b[0;32m      7\u001b[0m         \u001b[0meven\u001b[0m \u001b[1;33m=\u001b[0m \u001b[0meven\u001b[0m\u001b[1;33m.\u001b[0m\u001b[0mappend\u001b[0m\u001b[1;33m(\u001b[0m\u001b[0mi\u001b[0m\u001b[1;33m)\u001b[0m\u001b[1;33m\u001b[0m\u001b[1;33m\u001b[0m\u001b[0m\n\u001b[0;32m      8\u001b[0m     \u001b[1;32melse\u001b[0m \u001b[1;33m:\u001b[0m\u001b[1;33m\u001b[0m\u001b[1;33m\u001b[0m\u001b[0m\n\u001b[1;32m----> 9\u001b[1;33m         \u001b[0modd\u001b[0m \u001b[1;33m=\u001b[0m \u001b[0modd\u001b[0m\u001b[1;33m.\u001b[0m\u001b[0mappend\u001b[0m\u001b[1;33m(\u001b[0m\u001b[0mi\u001b[0m\u001b[1;33m)\u001b[0m\u001b[1;33m\u001b[0m\u001b[1;33m\u001b[0m\u001b[0m\n\u001b[0m",
      "\u001b[1;31mAttributeError\u001b[0m: 'tuple' object has no attribute 'append'"
     ]
    }
   ],
   "source": [
    "even = ()\n",
    "odd = ()\n",
    "\n",
    "exem = [11, 36, 33, 66, 89, 21, 32, 16, 10]\n",
    "for i in exem :\n",
    "    if i % 2 == 0 :\n",
    "        even = even.append(i)\n",
    "    else :\n",
    "        odd = odd.append(i)"
   ]
  },
  {
   "cell_type": "code",
   "execution_count": 8,
   "id": "fa5b1245",
   "metadata": {},
   "outputs": [
    {
     "data": {
      "text/plain": [
       "2775"
      ]
     },
     "execution_count": 8,
     "metadata": {},
     "output_type": "execute_result"
    }
   ],
   "source": [
    "sum(range(75))"
   ]
  },
  {
   "cell_type": "code",
   "execution_count": 11,
   "id": "77bf87a6",
   "metadata": {},
   "outputs": [
    {
     "name": "stdout",
     "output_type": "stream",
     "text": [
      "2775\n"
     ]
    }
   ],
   "source": [
    "x = 0\n",
    "for i in range(1,75) :\n",
    "    x = x + i\n",
    "\n",
    "print(x)"
   ]
  },
  {
   "cell_type": "code",
   "execution_count": 18,
   "id": "cf7ffb42",
   "metadata": {},
   "outputs": [
    {
     "name": "stdout",
     "output_type": "stream",
     "text": [
      "susan is happy\n",
      "susan is sad\n",
      "tom is happy\n",
      "tom is sad\n",
      "edward is happy\n",
      "edward is sad\n"
     ]
    }
   ],
   "source": [
    "names = [\"susan\", \"tom\", \"edward\"] \n",
    "mood = [\"happy\", \"sad\"]\n",
    "\n",
    "for i in names :\n",
    "    for ii in mood :\n",
    "        print(i,\"is\", ii)"
   ]
  },
  {
   "cell_type": "code",
   "execution_count": 12,
   "id": "13264345",
   "metadata": {},
   "outputs": [
    {
     "name": "stdout",
     "output_type": "stream",
     "text": [
      "List Iteration\n",
      "geeks\n",
      "for\n",
      "geeks\n",
      "\n",
      "Tuple Iteration\n",
      "geeks\n",
      "for\n",
      "geeks\n",
      "\n",
      "String Iteration\n",
      "G\n",
      "e\n",
      "e\n",
      "k\n",
      "s\n",
      "\n",
      "Dictionary Iteration\n",
      "xyz  123\n",
      "abc  345\n"
     ]
    }
   ],
   "source": [
    "# Python program to illustrate\n",
    "# Iterating over a list\n",
    "print(\"List Iteration\")\n",
    "l = [\"geeks\", \"for\", \"geeks\"]\n",
    "for i in l:\n",
    "    print(i)\n",
    "        \n",
    "# Iterating over a tuple (immutable)\n",
    "print(\"\\nTuple Iteration\")\n",
    "t = (\"geeks\", \"for\", \"geeks\")\n",
    "for i in t:\n",
    "    print(i)\n",
    "        \n",
    "# Iterating over a String\n",
    "print(\"\\nString Iteration\")    \n",
    "s = \"Geeks\"\n",
    "for i in s :\n",
    "    print(i)\n",
    "        \n",
    "# Iterating over dictionary\n",
    "print(\"\\nDictionary Iteration\")   \n",
    "d = dict() \n",
    "d['xyz'] = 123\n",
    "d['abc'] = 345\n",
    "for i in d :\n",
    "    print(\"% s % d\" %(i, d[i]))"
   ]
  },
  {
   "cell_type": "code",
   "execution_count": 13,
   "id": "730594c5",
   "metadata": {},
   "outputs": [
    {
     "name": "stdout",
     "output_type": "stream",
     "text": [
      "Current Letter : g\n",
      "Current Letter : k\n",
      "Current Letter : f\n",
      "Current Letter : o\n",
      "Current Letter : r\n",
      "Current Letter : g\n",
      "Current Letter : k\n"
     ]
    }
   ],
   "source": [
    "\n",
    "# Prints all letters except 'e' and 's'\n",
    "for letter in 'geeksforgeeks':\n",
    "    if letter == 'e' or letter == 's':\n",
    "        continue\n",
    "    print('Current Letter :', letter)"
   ]
  },
  {
   "cell_type": "code",
   "execution_count": 17,
   "id": "85f9e263",
   "metadata": {},
   "outputs": [
    {
     "name": "stdout",
     "output_type": "stream",
     "text": [
      "Current Letter : e\n"
     ]
    }
   ],
   "source": [
    "for letter in 'geeksforgeeks': \n",
    "   \n",
    "    # break the loop as soon it sees 'e' \n",
    "    # or 's'\n",
    "    if letter == 'e' or letter == 's':\n",
    "         break\n",
    "print('Current Letter :', letter)"
   ]
  },
  {
   "cell_type": "code",
   "execution_count": 18,
   "id": "97090fab",
   "metadata": {},
   "outputs": [
    {
     "name": "stdout",
     "output_type": "stream",
     "text": [
      "Last Letter : s\n"
     ]
    }
   ],
   "source": [
    "\n",
    "# An empty loop\n",
    "for letter in 'geeksforgeeks':\n",
    "    pass\n",
    "print('Last Letter :', letter)"
   ]
  },
  {
   "cell_type": "code",
   "execution_count": 19,
   "id": "f248c0eb",
   "metadata": {},
   "outputs": [
    {
     "name": "stdout",
     "output_type": "stream",
     "text": [
      "0 1 2 3 4 5 6 7 8 9 \n",
      "10 20 30 40 \n",
      "Sum of first 10 numbers : 45\n"
     ]
    }
   ],
   "source": [
    "# Python Program to\n",
    "# show range() basics\n",
    " \n",
    "# printing a number\n",
    "for i in range(10):\n",
    "    print(i, end=\" \")\n",
    "print()\n",
    " \n",
    "# using range for iteration\n",
    "l = [10, 20, 30, 40]\n",
    "for i in range(len(l)):\n",
    "    print(l[i], end=\" \")\n",
    "print()\n",
    " \n",
    "# performing sum of first 10 numbers\n",
    "sum = 0\n",
    "for i in range(1, 10):\n",
    "    sum = sum + i\n",
    "print(\"Sum of first 10 numbers :\", sum)"
   ]
  },
  {
   "cell_type": "code",
   "execution_count": 22,
   "id": "843bd3b0",
   "metadata": {},
   "outputs": [
    {
     "name": "stdout",
     "output_type": "stream",
     "text": [
      "1\n",
      "2\n",
      "3\n",
      "No Break\n",
      "\n",
      "1\n"
     ]
    }
   ],
   "source": [
    "# Python program to demonstrate\n",
    "# for-else loop\n",
    " \n",
    "for i in range(1, 4):\n",
    "    print(i)\n",
    "else: # Executed because no break in for\n",
    "    print(\"No Break\\n\")\n",
    "for i in range(1, 4):\n",
    "    print(i)\n",
    "    break\n",
    "else: # Not executed as there is a break\n",
    "    print(\"No Break\")"
   ]
  },
  {
   "cell_type": "markdown",
   "id": "271386ae",
   "metadata": {},
   "source": [
    "# 29 Temmuz 2021 LOOPS"
   ]
  },
  {
   "cell_type": "code",
   "execution_count": 1,
   "id": "01810cb0",
   "metadata": {},
   "outputs": [],
   "source": [
    "numbers = [11, 36, 33, 66, 89, 21, 32, 16, 10]"
   ]
  },
  {
   "cell_type": "code",
   "execution_count": 2,
   "id": "75319cd2",
   "metadata": {},
   "outputs": [
    {
     "name": "stdout",
     "output_type": "stream",
     "text": [
      "The sum of odd numbers are : 4\n",
      "The sum of evens numbers are : 5\n"
     ]
    }
   ],
   "source": [
    "odds = 0\n",
    "evens = 0\n",
    "\n",
    "for i in numbers :\n",
    "    if not i % 2 :\n",
    "        evens += 1\n",
    "    else :\n",
    "        odds += 1\n",
    "print(\"The sum of odd numbers are :\", odds)\n",
    "print(\"The sum of evens numbers are :\", evens)"
   ]
  },
  {
   "cell_type": "code",
   "execution_count": 3,
   "id": "5e0d0ed1",
   "metadata": {},
   "outputs": [
    {
     "name": "stdout",
     "output_type": "stream",
     "text": [
      "The sum of odd numbers are : 4\n",
      "The sum of evens numbers are : 5\n"
     ]
    }
   ],
   "source": [
    "odds = 0\n",
    "evens = 0\n",
    "\n",
    "for i in numbers :\n",
    "    if i % 2 :\n",
    "        odds += 1\n",
    "    else :\n",
    "        evens += 1\n",
    "print(\"The sum of odd numbers are :\", odds)\n",
    "print(\"The sum of evens numbers are :\", evens)"
   ]
  },
  {
   "cell_type": "code",
   "execution_count": 4,
   "id": "7f088135",
   "metadata": {},
   "outputs": [
    {
     "name": "stdout",
     "output_type": "stream",
     "text": [
      "2775\n"
     ]
    }
   ],
   "source": [
    "toplam = 0\n",
    "\n",
    "for i in range(1,75) :\n",
    "    toplam += i\n",
    "print(toplam)"
   ]
  },
  {
   "cell_type": "code",
   "execution_count": 8,
   "id": "8e9fb5c2",
   "metadata": {},
   "outputs": [
    {
     "name": "stdout",
     "output_type": "stream",
     "text": [
      "120\n"
     ]
    }
   ],
   "source": [
    "carpım = 1\n",
    "for i in range(1,6) :\n",
    "    carpım *= i\n",
    "print(carpım)"
   ]
  },
  {
   "cell_type": "code",
   "execution_count": 9,
   "id": "c3b6f399",
   "metadata": {},
   "outputs": [
    {
     "name": "stdout",
     "output_type": "stream",
     "text": [
      "I am happy\n",
      "I am confident\n",
      "you are happy\n",
      "you are confident\n"
     ]
    }
   ],
   "source": [
    "who = [\"I am\", \"you are\"]\n",
    "mood = [\"happy\", \"confident\"]\n",
    "for i in who :\n",
    "    for k in mood :\n",
    "        print(i, k)"
   ]
  },
  {
   "cell_type": "code",
   "execution_count": 15,
   "id": "3f9f2086",
   "metadata": {},
   "outputs": [
    {
     "name": "stdout",
     "output_type": "stream",
     "text": [
      "susan is happy\n",
      "susan is sad\n",
      "tom is happy\n",
      "tom is sad\n",
      "edward is happy\n",
      "edward is sad\n"
     ]
    }
   ],
   "source": [
    "names = [\"susan\", \"tom\", \"edward\"]\n",
    "mood = [\"happy\", \"sad\"]\n",
    "for i in names :\n",
    "    for ii in mood :\n",
    "        \n",
    "        print(i , \"is\", ii)"
   ]
  },
  {
   "cell_type": "code",
   "execution_count": null,
   "id": "ed335eb5",
   "metadata": {},
   "outputs": [],
   "source": []
  },
  {
   "cell_type": "markdown",
   "id": "42587f30",
   "metadata": {},
   "source": [
    "# List Comprehension"
   ]
  },
  {
   "cell_type": "code",
   "execution_count": 16,
   "id": "4412cb7d",
   "metadata": {},
   "outputs": [
    {
     "data": {
      "text/plain": [
       "[0, 1, 2, 3, 4]"
      ]
     },
     "execution_count": 16,
     "metadata": {},
     "output_type": "execute_result"
    }
   ],
   "source": [
    "listem = []\n",
    "\n",
    "for i in range(5) :\n",
    "    listem.append(i)\n",
    "listem"
   ]
  },
  {
   "cell_type": "markdown",
   "id": "b533fa1d",
   "metadata": {},
   "source": [
    "\n",
    "for item in iterable :\n",
    "    expression\n",
    "\n",
    "\n",
    "[expression for item in iterable]"
   ]
  },
  {
   "cell_type": "code",
   "execution_count": 17,
   "id": "d0990c82",
   "metadata": {},
   "outputs": [
    {
     "data": {
      "text/plain": [
       "[0, 1, 2, 3, 4]"
      ]
     },
     "execution_count": 17,
     "metadata": {},
     "output_type": "execute_result"
    }
   ],
   "source": [
    "[item for item in range(5)]"
   ]
  },
  {
   "cell_type": "code",
   "execution_count": 18,
   "id": "407fa73b",
   "metadata": {},
   "outputs": [
    {
     "data": {
      "text/plain": [
       "[0, 1, 4, 9, 16]"
      ]
     },
     "execution_count": 18,
     "metadata": {},
     "output_type": "execute_result"
    }
   ],
   "source": [
    "[i ** 2  for i in range(5)]"
   ]
  },
  {
   "cell_type": "markdown",
   "id": "1f196fe5",
   "metadata": {},
   "source": [
    "# Ternary if Statements"
   ]
  },
  {
   "cell_type": "code",
   "execution_count": 19,
   "id": "bb225c07",
   "metadata": {},
   "outputs": [
    {
     "name": "stdout",
     "output_type": "stream",
     "text": [
      "0\n"
     ]
    }
   ],
   "source": [
    "condition = False\n",
    "\n",
    "if condition :\n",
    "    a = 1\n",
    "else :\n",
    "    a = 0\n",
    "    \n",
    "print(a)"
   ]
  },
  {
   "cell_type": "markdown",
   "id": "73609c1f",
   "metadata": {},
   "source": [
    "if_body if condition else else_body "
   ]
  },
  {
   "cell_type": "code",
   "execution_count": 21,
   "id": "207ba90d",
   "metadata": {},
   "outputs": [
    {
     "data": {
      "text/plain": [
       "0"
      ]
     },
     "execution_count": 21,
     "metadata": {},
     "output_type": "execute_result"
    }
   ],
   "source": [
    "1 if condition else 0"
   ]
  },
  {
   "cell_type": "code",
   "execution_count": 22,
   "id": "ff6f1bbc",
   "metadata": {},
   "outputs": [
    {
     "data": {
      "text/plain": [
       "1"
      ]
     },
     "execution_count": 22,
     "metadata": {},
     "output_type": "execute_result"
    }
   ],
   "source": [
    "condition = True\n",
    "1 if condition else 0"
   ]
  },
  {
   "cell_type": "code",
   "execution_count": 23,
   "id": "2ea30e8d",
   "metadata": {},
   "outputs": [
    {
     "name": "stdout",
     "output_type": "stream",
     "text": [
      "1\n"
     ]
    }
   ],
   "source": [
    "a = 1 if condition else 0\n",
    "print(a)"
   ]
  },
  {
   "cell_type": "code",
   "execution_count": 24,
   "id": "c03ea7d0",
   "metadata": {},
   "outputs": [
    {
     "name": "stdout",
     "output_type": "stream",
     "text": [
      "0\n"
     ]
    }
   ],
   "source": [
    "print(1 if False else 0)"
   ]
  },
  {
   "cell_type": "code",
   "execution_count": 25,
   "id": "06499cc5",
   "metadata": {},
   "outputs": [],
   "source": [
    "listem = [1, 2, 3, 4, 5, 6]"
   ]
  },
  {
   "cell_type": "code",
   "execution_count": 26,
   "id": "1efe1c54",
   "metadata": {},
   "outputs": [
    {
     "data": {
      "text/plain": [
       "[1, 4, 9, 16, 25, 36]"
      ]
     },
     "execution_count": 26,
     "metadata": {},
     "output_type": "execute_result"
    }
   ],
   "source": [
    "[i**2 for i in listem]"
   ]
  },
  {
   "cell_type": "code",
   "execution_count": 27,
   "id": "9d4b17c1",
   "metadata": {},
   "outputs": [
    {
     "data": {
      "text/plain": [
       "[1, 9, 25]"
      ]
     },
     "execution_count": 27,
     "metadata": {},
     "output_type": "execute_result"
    }
   ],
   "source": [
    "[i**2 for i in listem if i % 2]"
   ]
  },
  {
   "cell_type": "code",
   "execution_count": null,
   "id": "4282939e",
   "metadata": {},
   "outputs": [],
   "source": []
  },
  {
   "cell_type": "code",
   "execution_count": null,
   "id": "a661080d",
   "metadata": {},
   "outputs": [],
   "source": []
  }
 ],
 "metadata": {
  "kernelspec": {
   "display_name": "Python 3 (ipykernel)",
   "language": "python",
   "name": "python3"
  },
  "language_info": {
   "codemirror_mode": {
    "name": "ipython",
    "version": 3
   },
   "file_extension": ".py",
   "mimetype": "text/x-python",
   "name": "python",
   "nbconvert_exporter": "python",
   "pygments_lexer": "ipython3",
   "version": "3.9.6"
  }
 },
 "nbformat": 4,
 "nbformat_minor": 5
}
