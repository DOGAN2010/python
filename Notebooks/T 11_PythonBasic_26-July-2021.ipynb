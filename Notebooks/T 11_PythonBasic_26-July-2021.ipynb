{
 "cells": [
  {
   "cell_type": "markdown",
   "id": "22263af8",
   "metadata": {},
   "source": [
    "<h1><p style=\"text-align: center; color:darkblue\">Python In-Class, <br>26 July 2021</p><h1>"
   ]
  },
  {
   "cell_type": "code",
   "execution_count": 3,
   "id": "2004892f",
   "metadata": {},
   "outputs": [
    {
     "name": "stdout",
     "output_type": "stream",
     "text": [
      "iki\n"
     ]
    }
   ],
   "source": [
    "while 0 :\n",
    "    print(\"bir\")\n",
    "print(\"iki\")"
   ]
  },
  {
   "cell_type": "code",
   "execution_count": 2,
   "id": "ef8735ec",
   "metadata": {},
   "outputs": [
    {
     "name": "stdout",
     "output_type": "stream",
     "text": [
      "outside of while\n"
     ]
    }
   ],
   "source": [
    "while [] :\n",
    "    print(\"while\")\n",
    "print(\"outside of while\")"
   ]
  },
  {
   "cell_type": "code",
   "execution_count": 3,
   "id": "0a911edf",
   "metadata": {},
   "outputs": [
    {
     "name": "stdout",
     "output_type": "stream",
     "text": [
      "outside of while\n"
     ]
    }
   ],
   "source": [
    "while None :\n",
    "    print(\"while\")\n",
    "print(\"outside of while\")"
   ]
  },
  {
   "cell_type": "code",
   "execution_count": 10,
   "id": "6e364868",
   "metadata": {},
   "outputs": [
    {
     "name": "stdout",
     "output_type": "stream",
     "text": [
      "yaşını gir : -45\n",
      "yanlış girdin tekrar dene\n",
      "yaşını gir : sdd\n",
      "yanlış girdin tekrar dene\n",
      "yaşını gir : 12\n",
      "yaşım : 12\n"
     ]
    }
   ],
   "source": [
    "age = input(\"yaşını gir : \")\n",
    "while not age.isdigit():\n",
    "    print(\"yanlış girdin tekrar dene\")\n",
    "    age = input(\"yaşını gir : \")\n",
    "    \n",
    "print(\"yaşın :\", age)    "
   ]
  },
  {
   "cell_type": "code",
   "execution_count": null,
   "id": "beb7c2ab",
   "metadata": {},
   "outputs": [],
   "source": []
  },
  {
   "cell_type": "code",
   "execution_count": 7,
   "id": "7238d600",
   "metadata": {},
   "outputs": [
    {
     "name": "stdout",
     "output_type": "stream",
     "text": [
      "yaşını gir :fsgg\n",
      "tekrar dene \n",
      "yaşını gir :ewtw333\n",
      "tekrar dene \n",
      "yaşını gir :23\n",
      "senin yaşın :  23\n"
     ]
    }
   ],
   "source": [
    "age = input(\"yaşını gir :\")\n",
    "while not age.isdigit() :\n",
    "    print(\"tekrar dene \")\n",
    "    age = input(\"yaşını gir :\")\n",
    "    \n",
    "print(\"senin yaşın : \", age)\n"
   ]
  },
  {
   "cell_type": "code",
   "execution_count": null,
   "id": "35ca8f91",
   "metadata": {},
   "outputs": [],
   "source": [
    "\n",
    "a = input(\"sayı gir:\")"
   ]
  },
  {
   "cell_type": "code",
   "execution_count": null,
   "id": "69060315",
   "metadata": {},
   "outputs": [],
   "source": []
  },
  {
   "cell_type": "code",
   "execution_count": null,
   "id": "83ec4b81",
   "metadata": {},
   "outputs": [],
   "source": []
  },
  {
   "cell_type": "code",
   "execution_count": 8,
   "id": "bb3474fb",
   "metadata": {},
   "outputs": [
    {
     "data": {
      "text/plain": [
       "False"
      ]
     },
     "execution_count": 8,
     "metadata": {},
     "output_type": "execute_result"
    }
   ],
   "source": [
    "\"-16\".isalnum()\n"
   ]
  },
  {
   "cell_type": "code",
   "execution_count": 9,
   "id": "14fa4428",
   "metadata": {},
   "outputs": [
    {
     "data": {
      "text/plain": [
       "True"
      ]
     },
     "execution_count": 9,
     "metadata": {},
     "output_type": "execute_result"
    }
   ],
   "source": [
    "\"16\".isalnum()"
   ]
  },
  {
   "cell_type": "code",
   "execution_count": 5,
   "id": "09b1640b",
   "metadata": {},
   "outputs": [
    {
     "data": {
      "text/plain": [
       "True"
      ]
     },
     "execution_count": 5,
     "metadata": {},
     "output_type": "execute_result"
    }
   ],
   "source": [
    "\"12345679\".isdigit()"
   ]
  },
  {
   "cell_type": "code",
   "execution_count": 7,
   "id": "cc6e4596",
   "metadata": {},
   "outputs": [
    {
     "name": "stdout",
     "output_type": "stream",
     "text": [
      "Enter your age in correct format : 22\n",
      "Your age is :  22\n"
     ]
    }
   ],
   "source": [
    "age = input(\"Enter your age in correct format : \")\n",
    "\n",
    "while not age.isdigit() :\n",
    "    print(\"You entered incorrect.! Write out correct format.\")\n",
    "    age = input(\"Enter your age in correct format : \")\n",
    "print(\"Your age is : \", age)"
   ]
  },
  {
   "cell_type": "code",
   "execution_count": 25,
   "id": "b22a2cfc",
   "metadata": {},
   "outputs": [
    {
     "name": "stdout",
     "output_type": "stream",
     "text": [
      "give me a sentence without any punctuation :clarusway is the best\n",
      "the length of the longest word is : 9\n"
     ]
    }
   ],
   "source": [
    "sentence = input(\"give me a sentence without any punctuation :\")\n",
    "\n",
    "words = sentence.split()\n",
    "i = 0\n",
    "longest = 0\n",
    "\n",
    "while i < len(words) :\n",
    "    if len(words[i]) > longest :\n",
    "        longest = len(words[i])\n",
    "    i += 1\n",
    "    \n",
    "print(\"the length of the longest word is :\", longest)"
   ]
  },
  {
   "cell_type": "code",
   "execution_count": 18,
   "id": "821f5951",
   "metadata": {},
   "outputs": [],
   "source": [
    "words = \"clarusway is the best\".split()"
   ]
  },
  {
   "cell_type": "code",
   "execution_count": 19,
   "id": "3628f32d",
   "metadata": {},
   "outputs": [
    {
     "data": {
      "text/plain": [
       "['clarusway', 'is', 'the', 'best']"
      ]
     },
     "execution_count": 19,
     "metadata": {},
     "output_type": "execute_result"
    }
   ],
   "source": [
    "words"
   ]
  },
  {
   "cell_type": "code",
   "execution_count": 20,
   "id": "39afca2f",
   "metadata": {},
   "outputs": [
    {
     "data": {
      "text/plain": [
       "9"
      ]
     },
     "execution_count": 20,
     "metadata": {},
     "output_type": "execute_result"
    }
   ],
   "source": [
    "len(words[0])"
   ]
  },
  {
   "cell_type": "code",
   "execution_count": 21,
   "id": "72cf127e",
   "metadata": {},
   "outputs": [
    {
     "data": {
      "text/plain": [
       "2"
      ]
     },
     "execution_count": 21,
     "metadata": {},
     "output_type": "execute_result"
    }
   ],
   "source": [
    "len(words[1])"
   ]
  },
  {
   "cell_type": "code",
   "execution_count": 22,
   "id": "6c5b5567",
   "metadata": {},
   "outputs": [
    {
     "data": {
      "text/plain": [
       "3"
      ]
     },
     "execution_count": 22,
     "metadata": {},
     "output_type": "execute_result"
    }
   ],
   "source": [
    "len(words[2])"
   ]
  },
  {
   "cell_type": "code",
   "execution_count": 23,
   "id": "196d8bbc",
   "metadata": {},
   "outputs": [
    {
     "data": {
      "text/plain": [
       "4"
      ]
     },
     "execution_count": 23,
     "metadata": {},
     "output_type": "execute_result"
    }
   ],
   "source": [
    "len(words[3])"
   ]
  },
  {
   "cell_type": "code",
   "execution_count": 26,
   "id": "65574566",
   "metadata": {},
   "outputs": [],
   "source": [
    "names = [\"Ahmed\", \"Aisha\", \"Adam\", \"Joseph\", \"Gabriel\"]"
   ]
  },
  {
   "cell_type": "code",
   "execution_count": 27,
   "id": "1aa40b60",
   "metadata": {},
   "outputs": [
    {
     "name": "stdout",
     "output_type": "stream",
     "text": [
      "hello Ahmed\n",
      "hello Aisha\n",
      "hello Adam\n",
      "hello Joseph\n",
      "hello Gabriel\n"
     ]
    }
   ],
   "source": [
    "for i in names :\n",
    "    print(\"hello\", i)"
   ]
  },
  {
   "cell_type": "code",
   "execution_count": 28,
   "id": "b2d570a5",
   "metadata": {},
   "outputs": [
    {
     "data": {
      "text/plain": [
       "range(1, 6)"
      ]
     },
     "execution_count": 28,
     "metadata": {},
     "output_type": "execute_result"
    }
   ],
   "source": [
    "range(1,6)"
   ]
  },
  {
   "cell_type": "code",
   "execution_count": 29,
   "id": "20672244",
   "metadata": {},
   "outputs": [
    {
     "data": {
      "text/plain": [
       "[1, 2, 3, 4, 5]"
      ]
     },
     "execution_count": 29,
     "metadata": {},
     "output_type": "execute_result"
    }
   ],
   "source": [
    "list(range(1,6))"
   ]
  },
  {
   "cell_type": "code",
   "execution_count": 30,
   "id": "b78f2b86",
   "metadata": {},
   "outputs": [
    {
     "data": {
      "text/plain": [
       "(1, 2, 3, 4, 5)"
      ]
     },
     "execution_count": 30,
     "metadata": {},
     "output_type": "execute_result"
    }
   ],
   "source": [
    "tuple(range(1,6))"
   ]
  },
  {
   "cell_type": "code",
   "execution_count": 31,
   "id": "b5f3b2fe",
   "metadata": {},
   "outputs": [
    {
     "name": "stdout",
     "output_type": "stream",
     "text": [
      "1 2 3 4 5\n"
     ]
    }
   ],
   "source": [
    "print(* range(1,6))"
   ]
  },
  {
   "cell_type": "code",
   "execution_count": 33,
   "id": "4cd0bcb3",
   "metadata": {},
   "outputs": [
    {
     "name": "stdout",
     "output_type": "stream",
     "text": [
      "1 2 3 4 5 "
     ]
    }
   ],
   "source": [
    "for i in range(1,6) :\n",
    "    print(i, end=\" \")"
   ]
  },
  {
   "cell_type": "code",
   "execution_count": 34,
   "id": "b6c47547",
   "metadata": {},
   "outputs": [
    {
     "data": {
      "text/plain": [
       "[-4, -3, -2, -1, 0, 1, 2, 3]"
      ]
     },
     "execution_count": 34,
     "metadata": {},
     "output_type": "execute_result"
    }
   ],
   "source": [
    "list(range(-4,4))"
   ]
  },
  {
   "cell_type": "code",
   "execution_count": 35,
   "id": "b6955eb3",
   "metadata": {},
   "outputs": [
    {
     "data": {
      "text/plain": [
       "[]"
      ]
     },
     "execution_count": 35,
     "metadata": {},
     "output_type": "execute_result"
    }
   ],
   "source": [
    "list(range(-4,4,-1))"
   ]
  },
  {
   "cell_type": "code",
   "execution_count": 36,
   "id": "61b343eb",
   "metadata": {},
   "outputs": [
    {
     "data": {
      "text/plain": [
       "[4, 3, 2, 1, 0, -1, -2, -3]"
      ]
     },
     "execution_count": 36,
     "metadata": {},
     "output_type": "execute_result"
    }
   ],
   "source": [
    "list(range(4,-4,-1))"
   ]
  },
  {
   "cell_type": "code",
   "execution_count": 37,
   "id": "ac56faff",
   "metadata": {},
   "outputs": [
    {
     "name": "stdout",
     "output_type": "stream",
     "text": [
      "c-l-a-r-u-s-w-a-y-"
     ]
    }
   ],
   "source": [
    "word = \"clarusway\"\n",
    "\n",
    "for i in word :\n",
    "    print(i, end = \"-\")"
   ]
  },
  {
   "cell_type": "code",
   "execution_count": 38,
   "id": "9488b780",
   "metadata": {},
   "outputs": [
    {
     "name": "stdout",
     "output_type": "stream",
     "text": [
      "c-l-a-r-u-s-w-a-y"
     ]
    }
   ],
   "source": [
    "count = 0\n",
    "\n",
    "for i in word :\n",
    "    count += 1\n",
    "    if count < len(word) :\n",
    "        i = i + \"-\"\n",
    "    print(i, end = \"\")"
   ]
  },
  {
   "cell_type": "code",
   "execution_count": 39,
   "id": "25afc67a",
   "metadata": {},
   "outputs": [],
   "source": [
    "a = 3"
   ]
  },
  {
   "cell_type": "code",
   "execution_count": 40,
   "id": "7d56d237",
   "metadata": {},
   "outputs": [],
   "source": [
    "i = 5"
   ]
  },
  {
   "cell_type": "code",
   "execution_count": 41,
   "id": "dd460481",
   "metadata": {},
   "outputs": [
    {
     "data": {
      "text/plain": [
       "5"
      ]
     },
     "execution_count": 41,
     "metadata": {},
     "output_type": "execute_result"
    }
   ],
   "source": [
    "i"
   ]
  },
  {
   "cell_type": "code",
   "execution_count": 42,
   "id": "fec818fe",
   "metadata": {},
   "outputs": [
    {
     "data": {
      "text/plain": [
       "3"
      ]
     },
     "execution_count": 42,
     "metadata": {},
     "output_type": "execute_result"
    }
   ],
   "source": [
    "key, val = 3, 5\n",
    "key"
   ]
  },
  {
   "cell_type": "code",
   "execution_count": 43,
   "id": "a16ec490",
   "metadata": {},
   "outputs": [
    {
     "data": {
      "text/plain": [
       "5"
      ]
     },
     "execution_count": 43,
     "metadata": {},
     "output_type": "execute_result"
    }
   ],
   "source": [
    "val"
   ]
  },
  {
   "cell_type": "code",
   "execution_count": 44,
   "id": "df7e6ab6",
   "metadata": {},
   "outputs": [
    {
     "name": "stdout",
     "output_type": "stream",
     "text": [
      "333\n"
     ]
    }
   ],
   "source": [
    "print(\"3\"*3)"
   ]
  },
  {
   "cell_type": "code",
   "execution_count": 45,
   "id": "3cdb7904",
   "metadata": {},
   "outputs": [
    {
     "name": "stdout",
     "output_type": "stream",
     "text": [
      "88888888\n"
     ]
    }
   ],
   "source": [
    "print(\"8\"*8)"
   ]
  },
  {
   "cell_type": "code",
   "execution_count": 46,
   "id": "9d5c59eb",
   "metadata": {},
   "outputs": [
    {
     "name": "stdout",
     "output_type": "stream",
     "text": [
      "1\n",
      "22\n",
      "333\n",
      "4444\n",
      "55555\n",
      "666666\n",
      "7777777\n",
      "88888888\n",
      "999999999\n"
     ]
    }
   ],
   "source": [
    "for i in range(1,10) :\n",
    "    print(str(i) * i)"
   ]
  },
  {
   "cell_type": "code",
   "execution_count": 47,
   "id": "7428635a",
   "metadata": {},
   "outputs": [],
   "source": [
    "text = ['one', 'two', 'three', 'four', 'five']\n",
    "numbers = [1, 2, 3, 4, 5]"
   ]
  },
  {
   "cell_type": "code",
   "execution_count": 48,
   "id": "2a8391a8",
   "metadata": {},
   "outputs": [
    {
     "data": {
      "text/plain": [
       "<zip at 0x7fd2213d99c0>"
      ]
     },
     "execution_count": 48,
     "metadata": {},
     "output_type": "execute_result"
    }
   ],
   "source": [
    "zip(text, numbers)"
   ]
  },
  {
   "cell_type": "code",
   "execution_count": 49,
   "id": "d591cfe5",
   "metadata": {},
   "outputs": [
    {
     "data": {
      "text/plain": [
       "[('one', 1), ('two', 2), ('three', 3), ('four', 4), ('five', 5)]"
      ]
     },
     "execution_count": 49,
     "metadata": {},
     "output_type": "execute_result"
    }
   ],
   "source": [
    "list(zip(text, numbers))"
   ]
  },
  {
   "cell_type": "code",
   "execution_count": 50,
   "id": "89391307",
   "metadata": {},
   "outputs": [
    {
     "name": "stdout",
     "output_type": "stream",
     "text": [
      "one 1\n",
      "two 2\n",
      "three 3\n",
      "four 4\n",
      "five 5\n"
     ]
    }
   ],
   "source": [
    "for x, y in list(zip(text, numbers)) :\n",
    "    print(x, y)"
   ]
  },
  {
   "cell_type": "code",
   "execution_count": 12,
   "id": "0b573969",
   "metadata": {},
   "outputs": [
    {
     "name": "stdout",
     "output_type": "stream",
     "text": [
      "cümle gir:gfjhghg   yufuhfjh  jhffjkhghlkkgkjhkgjh\n",
      "cümledeki en uzun kelime 20 karekter\n"
     ]
    }
   ],
   "source": [
    "sentence = input(\"cümle gir:\")\n",
    "words = sentence.split()\n",
    "i = 0\n",
    "longest = 0\n",
    "while i < len(words):\n",
    "    if len(words[i]) > longest :\n",
    "        longest = len(words[i])\n",
    "        i += 1\n",
    "\n",
    "print(\"cümledeki en uzun kelime {} karekter\".format(longest))"
   ]
  },
  {
   "cell_type": "code",
   "execution_count": 20,
   "id": "4fdb9e94",
   "metadata": {},
   "outputs": [
    {
     "ename": "TypeError",
     "evalue": "'<' not supported between instances of 'str' and 'int'",
     "output_type": "error",
     "traceback": [
      "\u001b[1;31m---------------------------------------------------------------------------\u001b[0m",
      "\u001b[1;31mTypeError\u001b[0m                                 Traceback (most recent call last)",
      "\u001b[1;32m~\\AppData\\Local\\Temp/ipykernel_7740/4119077691.py\u001b[0m in \u001b[0;36m<module>\u001b[1;34m\u001b[0m\n\u001b[0;32m      2\u001b[0m \u001b[0mi\u001b[0m\u001b[1;33m=\u001b[0m\u001b[1;36m0\u001b[0m\u001b[1;33m\u001b[0m\u001b[1;33m\u001b[0m\u001b[0m\n\u001b[0;32m      3\u001b[0m \u001b[1;32mfor\u001b[0m \u001b[0mi\u001b[0m \u001b[1;32min\u001b[0m \u001b[0mdeger\u001b[0m \u001b[1;33m:\u001b[0m\u001b[1;33m\u001b[0m\u001b[1;33m\u001b[0m\u001b[0m\n\u001b[1;32m----> 4\u001b[1;33m     \u001b[1;32mif\u001b[0m \u001b[0mi\u001b[0m \u001b[1;33m<\u001b[0m \u001b[0mlen\u001b[0m\u001b[1;33m(\u001b[0m\u001b[0mdeger\u001b[0m\u001b[1;33m)\u001b[0m\u001b[1;33m:\u001b[0m\u001b[1;33m\u001b[0m\u001b[1;33m\u001b[0m\u001b[0m\n\u001b[0m\u001b[0;32m      5\u001b[0m         \u001b[0mi\u001b[0m \u001b[1;33m+=\u001b[0m \u001b[1;36m1\u001b[0m\u001b[1;33m\u001b[0m\u001b[1;33m\u001b[0m\u001b[0m\n\u001b[0;32m      6\u001b[0m         \u001b[0mprint\u001b[0m\u001b[1;33m(\u001b[0m\u001b[0mi\u001b[0m\u001b[1;33m,\u001b[0m \u001b[0mend\u001b[0m\u001b[1;33m=\u001b[0m\u001b[1;34m\"-\"\u001b[0m\u001b[1;33m)\u001b[0m\u001b[1;33m\u001b[0m\u001b[1;33m\u001b[0m\u001b[0m\n",
      "\u001b[1;31mTypeError\u001b[0m: '<' not supported between instances of 'str' and 'int'"
     ]
    }
   ],
   "source": [
    "deger = \"clarusway\"\n",
    "i=0\n",
    "for i in deger :\n",
    "    if i < len(deger):\n",
    "        i += 1\n",
    "        print(i, end=\"-\")\n",
    " "
   ]
  },
  {
   "cell_type": "code",
   "execution_count": 25,
   "id": "21a7f101",
   "metadata": {},
   "outputs": [
    {
     "ename": "TypeError",
     "evalue": "unsupported operand type(s) for *: 'range' and 'int'",
     "output_type": "error",
     "traceback": [
      "\u001b[1;31m---------------------------------------------------------------------------\u001b[0m",
      "\u001b[1;31mTypeError\u001b[0m                                 Traceback (most recent call last)",
      "\u001b[1;32m~\\AppData\\Local\\Temp/ipykernel_7740/4030354275.py\u001b[0m in \u001b[0;36m<module>\u001b[1;34m\u001b[0m\n\u001b[0;32m      1\u001b[0m \u001b[1;32mfor\u001b[0m \u001b[0mi\u001b[0m \u001b[1;32min\u001b[0m \u001b[0mrange\u001b[0m\u001b[1;33m(\u001b[0m\u001b[1;36m11\u001b[0m\u001b[1;33m)\u001b[0m \u001b[1;33m:\u001b[0m\u001b[1;33m\u001b[0m\u001b[1;33m\u001b[0m\u001b[0m\n\u001b[1;32m----> 2\u001b[1;33m     \u001b[0mprint\u001b[0m\u001b[1;33m(\u001b[0m\u001b[1;34m\"{}*{}={}\"\u001b[0m\u001b[1;33m.\u001b[0m\u001b[0mformat\u001b[0m\u001b[1;33m(\u001b[0m\u001b[0mrange\u001b[0m\u001b[1;33m(\u001b[0m\u001b[1;36m10\u001b[0m\u001b[1;33m)\u001b[0m\u001b[1;33m,\u001b[0m \u001b[0mi\u001b[0m\u001b[1;33m,\u001b[0m \u001b[0mrange\u001b[0m\u001b[1;33m(\u001b[0m\u001b[1;36m10\u001b[0m\u001b[1;33m)\u001b[0m\u001b[1;33m*\u001b[0m\u001b[0mi\u001b[0m\u001b[1;33m)\u001b[0m\u001b[1;33m)\u001b[0m\u001b[1;33m\u001b[0m\u001b[1;33m\u001b[0m\u001b[0m\n\u001b[0m",
      "\u001b[1;31mTypeError\u001b[0m: unsupported operand type(s) for *: 'range' and 'int'"
     ]
    }
   ],
   "source": [
    "\n",
    "for i in range(11) :\n",
    "    print(\"{}*{}={}\".format(range(10), i, range(10)*i))"
   ]
  },
  {
   "cell_type": "code",
   "execution_count": 28,
   "id": "f3ba8906",
   "metadata": {},
   "outputs": [
    {
     "ename": "TypeError",
     "evalue": "unsupported operand type(s) for +=: 'int' and 'range'",
     "output_type": "error",
     "traceback": [
      "\u001b[1;31m---------------------------------------------------------------------------\u001b[0m",
      "\u001b[1;31mTypeError\u001b[0m                                 Traceback (most recent call last)",
      "\u001b[1;32m~\\AppData\\Local\\Temp/ipykernel_7740/3038771130.py\u001b[0m in \u001b[0;36m<module>\u001b[1;34m\u001b[0m\n\u001b[0;32m      1\u001b[0m \u001b[0ma\u001b[0m \u001b[1;33m=\u001b[0m \u001b[1;36m0\u001b[0m\u001b[1;33m\u001b[0m\u001b[1;33m\u001b[0m\u001b[0m\n\u001b[0;32m      2\u001b[0m \u001b[1;32mfor\u001b[0m \u001b[0mi\u001b[0m \u001b[1;32min\u001b[0m \u001b[0mrange\u001b[0m\u001b[1;33m(\u001b[0m\u001b[1;36m11\u001b[0m\u001b[1;33m)\u001b[0m\u001b[1;33m:\u001b[0m\u001b[1;33m\u001b[0m\u001b[1;33m\u001b[0m\u001b[0m\n\u001b[1;32m----> 3\u001b[1;33m     \u001b[0ma\u001b[0m \u001b[1;33m+=\u001b[0m \u001b[0mrange\u001b[0m\u001b[1;33m(\u001b[0m\u001b[1;36m10\u001b[0m\u001b[1;33m)\u001b[0m\u001b[1;33m\u001b[0m\u001b[1;33m\u001b[0m\u001b[0m\n\u001b[0m\u001b[0;32m      4\u001b[0m     \u001b[0mprint\u001b[0m\u001b[1;33m(\u001b[0m\u001b[1;34mf\"{i*a}\"\u001b[0m\u001b[1;33m)\u001b[0m\u001b[1;33m\u001b[0m\u001b[1;33m\u001b[0m\u001b[0m\n",
      "\u001b[1;31mTypeError\u001b[0m: unsupported operand type(s) for +=: 'int' and 'range'"
     ]
    }
   ],
   "source": [
    "a = 0\n",
    "for i in range(11):\n",
    "    a += 1\n",
    "    print(f\"{i*a}\")"
   ]
  },
  {
   "cell_type": "code",
   "execution_count": null,
   "id": "f63de962",
   "metadata": {},
   "outputs": [],
   "source": []
  }
 ],
 "metadata": {
  "kernelspec": {
   "display_name": "Python 3 (ipykernel)",
   "language": "python",
   "name": "python3"
  },
  "language_info": {
   "codemirror_mode": {
    "name": "ipython",
    "version": 3
   },
   "file_extension": ".py",
   "mimetype": "text/x-python",
   "name": "python",
   "nbconvert_exporter": "python",
   "pygments_lexer": "ipython3",
   "version": "3.9.6"
  }
 },
 "nbformat": 4,
 "nbformat_minor": 5
}
