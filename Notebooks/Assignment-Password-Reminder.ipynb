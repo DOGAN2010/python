{
 "cells": [
  {
   "cell_type": "code",
   "execution_count": null,
   "id": "3f2c74cb",
   "metadata": {},
   "outputs": [],
   "source": [
    "\n",
    "Assignment-009/1 (Password Reminder)\n",
    "💡Objectives:\n",
    "To improve your conditional algorithm and string operations skills.\n",
    "Write your Python codes on any IDE, push it up to your GitHub repository and submit your GitHub Page link address in addition to your code as a plain text.\n",
    "\n",
    "Task : Let's say; you left a message in the past that prints a password you need. To see the password you wrote, you need to enter your name and the program should recognize you.\n",
    "Write a program that \n",
    "\n",
    "Takes the first name from the user and compares it to yours,\n",
    "Then if the name the user entered is the same as yours, print out such as : \"Hello, Joseph! The password is : W@12\",\n",
    "If the name the user entered is not the same as yours, print out such as : \"Hello, Amina! See you later.\""
   ]
  },
  {
   "cell_type": "code",
   "execution_count": 2,
   "id": "d392bfab",
   "metadata": {},
   "outputs": [
    {
     "name": "stdout",
     "output_type": "stream",
     "text": [
      "please enter your first name : asli\n",
      "Hello Asli! see you later. \n"
     ]
    }
   ],
   "source": [
    "\n",
    "user = input(\"please enter your first name : \" ).capitalize().strip()\n",
    "if user == \"Joseph\":\n",
    "    print(\"Hello Joseph! the pasword is : w@12\")\n",
    "else :\n",
    "    print(\"Hello {}! see you later. \".format(user))"
   ]
  },
  {
   "cell_type": "code",
   "execution_count": null,
   "id": "7e8a8033",
   "metadata": {},
   "outputs": [],
   "source": []
  },
  {
   "cell_type": "code",
   "execution_count": null,
   "id": "a4103561",
   "metadata": {},
   "outputs": [],
   "source": [
    "Assignment-009/2 (Covid-19 Risk)\n",
    "\n",
    "💡Objective:\n",
    "To improve your boolean logic and setting condition algorithm skills and to raise your awareness of coronavirus.\n",
    "Write your Python codes on any IDE, push it up to your GitHub repository and submit your GitHub Page link address in addition to your code as a plain text.\n",
    "\n",
    "Problem :\n",
    "\n",
    "Task : Estimating the risk of death from coronavirus. Write a program that;\n",
    "\n",
    "Takes \"Yes\" or \"No\" from the user as an answer to the following questions :\n",
    "\n",
    "Are you a cigarette addict older than 75 years old? Variable → age\n",
    "\n",
    "Do you have a severe chronic disease? Variable → chronic\n",
    "\n",
    "Is your immune system too weak? Variable → immune\n",
    "\n",
    "Set a logical algorithm using boolean logic operators (and/or) and use if-statements with the given variables in order to print out us a message : \"You are in risky group\"(if True ) or \"You are not in risky group\" (if False).\n",
    "age =  # can be assigned only True/False\n",
    "chronic =  # can be assigned only True/False\n",
    "immune =  # can be assigned only True/False\n",
    "risk = ?"
   ]
  },
  {
   "cell_type": "code",
   "execution_count": null,
   "id": "d5698b7c",
   "metadata": {},
   "outputs": [],
   "source": [
    "age = True         # Are you a cigarette addict older than 75 years old?\n",
    "chronic = True     #Do you have a severe chronic disease? \n",
    "immune = True     #Is your immune system too weak? \n",
    "\n",
    "if (age and chronic and immune) :\n",
    "    print(\"You are in risky group\")\n",
    "else :\n",
    "    print(\"You are not in risky group\")"
   ]
  },
  {
   "cell_type": "code",
   "execution_count": null,
   "id": "57ddb2ef",
   "metadata": {},
   "outputs": [],
   "source": []
  },
  {
   "cell_type": "code",
   "execution_count": null,
   "id": "61933011",
   "metadata": {},
   "outputs": [],
   "source": [
    "user = input(\"please enter your first name : \" ).capitalize().strip()\n",
    "if user == \"Joseph\":\n",
    "    print(\"Hello Joseph! the pasword is : w@12\")\n",
    "else :\n",
    "    print(\"Hello {}! see you later. \".format(user))"
   ]
  },
  {
   "cell_type": "code",
   "execution_count": null,
   "id": "661fd16c",
   "metadata": {},
   "outputs": [],
   "source": []
  },
  {
   "cell_type": "code",
   "execution_count": null,
   "id": "123050f1",
   "metadata": {},
   "outputs": [],
   "source": [
    "Assignment-009/3 (Is it an Armstrong Number?)\n",
    "💡Objective:\n",
    "To improve your control flow statement and arithmetic operator algorithm skills.\n",
    "Write your Python codes on any IDE, push it up to your GitHub repository and submit your GitHub Page link address in addition to your code as a plain text.\n",
    " \n",
    "Task:\n",
    "\n",
    "Find out if a given number is an \"Armstrong Number\".\n",
    "\n",
    "An n-digit number that is the sum of the nth powers of its digits is called an n-Armstrong number. Examples :\n",
    "371 = 33 + 73 + 13;\n",
    "9474 = 94 + 44 + 74 + 44;\n",
    "93084 = 95 + 35 + 05 + 85 + 45.\n",
    "\n",
    "Write a Python program that;\n",
    "takes a positive integer number from the user,\n",
    "checks the entered number if it is Armstrong,\n",
    "consider the negative, float and any entries other than numeric values then display a warning message to the user.\n",
    "\n",
    "Examples\n",
    "Sample inputs\tOutputs\n",
    "407\t407 is an Armstrong number\n",
    "5\t5 is an Armstrong number\n",
    " -153\t It is an invalid entry. Don't use non-numeric, float, or negative values!\n",
    " 153.87 or 153,87\t It is an invalid entry. Don't use non-numeric, float, or negative values!\n",
    " one\t It is an invalid entry. Don't use non-numeric, float, or negative values!\n",
    " 121\t 121 is not an Armstrong number\n",
    "\n",
    "Note that; this question is famous on the web, so that do it yourself to get more benefits from it. By the way, do not use try - except block."
   ]
  },
  {
   "cell_type": "code",
   "execution_count": null,
   "id": "7dc3bb0b",
   "metadata": {},
   "outputs": [],
   "source": []
  },
  {
   "cell_type": "code",
   "execution_count": null,
   "id": "079dfbae",
   "metadata": {},
   "outputs": [],
   "source": [
    "Assignment-009/4 (Is it a Prime Number?)\n",
    "\n",
    "💡Objective:\n",
    "To improve your control flow statement skills and to raise your awareness of some algebraic knowledge.\n",
    "Write your Python codes on any IDLE, push it up to your GitHub repository and submit your GitHub Page link address in addition to your code as a plain text.\n",
    "\n",
    "Task : Write a program that takes a number from the user and prints the result to check if it is a prime number.\n",
    "\n",
    "The examples of the desired output are as follows :\n",
    "\n",
    "input →  19 ⇉ output : 19 is a prime number\n",
    "input →  10 ⇉ output : 10 is not a prime number\n",
    "Note that ⚠ : This question is famous on the web, so to get more benefit from this assignment, try to complete this task on your own. "
   ]
  },
  {
   "cell_type": "code",
   "execution_count": 2,
   "id": "f72565ae",
   "metadata": {},
   "outputs": [
    {
     "name": "stdout",
     "output_type": "stream",
     "text": [
      "To find out if a number you entered is a prime number;\n",
      "Enter a Number: 25\n",
      "25  is not a prime number\n"
     ]
    }
   ],
   "source": [
    "#Task : Write a program that takes a number from the user and prints the result to check if it is a prime number.\n",
    "\n",
    "num = int(input(\"To find out if a number you entered is a prime number;\\nEnter a Number: \"))\n",
    "\n",
    "\n",
    "if  num == 0 or num == 1:\n",
    "    print(num,\"is not a prime number\")\n",
    "else:\n",
    "    x=0\n",
    "for i in range(2,num):\n",
    "    if num % i==0 :\n",
    "        x=x+1\n",
    "        break\n",
    "if x!=0:\n",
    "      print(num,\" is not a prime number\")\n",
    "else:\n",
    "      print(num,\" is a prime number\")"
   ]
  },
  {
   "cell_type": "code",
   "execution_count": 3,
   "id": "c788a29b",
   "metadata": {},
   "outputs": [
    {
     "name": "stdout",
     "output_type": "stream",
     "text": [
      "To find out if a number you entered is a prime number;\n",
      "Enter a Number: 17\n",
      "17  is a prime number\n"
     ]
    }
   ],
   "source": [
    "#Task : Write a program that takes a number from the user and prints the result to check if it is a prime number.\n",
    "\n",
    "num = int(input(\"To find out if a number you entered is a prime number;\\nEnter a Number: \"))\n",
    "\n",
    "\n",
    "while   num == 0 or num == 1:\n",
    "    print(num,\"is not a prime number\")\n",
    "else:\n",
    "    x=0\n",
    "for i in range(2,num):\n",
    "    if num % i==0 :\n",
    "        x=x+1\n",
    "        break\n",
    "if x!=0:\n",
    "      print(num,\" is not a prime number\")\n",
    "else:\n",
    "      print(num,\" is a prime number\")"
   ]
  },
  {
   "cell_type": "code",
   "execution_count": null,
   "id": "04425672",
   "metadata": {},
   "outputs": [],
   "source": [
    "Task : Create a list consisting of Fibonacci numbers from 1 to 55 using control flow statements.\n",
    "\n",
    "The desired output is like :\n",
    "\n",
    "fibonacci →  [1, 1, 2, 3, 5, 8, 13, 21, 34, 55]"
   ]
  },
  {
   "cell_type": "code",
   "execution_count": 3,
   "id": "01fd6d27",
   "metadata": {},
   "outputs": [
    {
     "name": "stdout",
     "output_type": "stream",
     "text": [
      "[1, 1, 2, 3, 5, 8, 13, 21, 34, 55]\n"
     ]
    }
   ],
   "source": [
    "fibonacci= [1,1]\n",
    "i = 1\n",
    "\n",
    "for i in range(8) :\n",
    "   \n",
    "    new = fibonacci[i] + fibonacci[i+1]\n",
    "    fibonacci.append(new)\n",
    "    \n",
    "print(fibonacci)"
   ]
  },
  {
   "cell_type": "code",
   "execution_count": 10,
   "id": "f57e9488",
   "metadata": {},
   "outputs": [
    {
     "name": "stdout",
     "output_type": "stream",
     "text": [
      "[1, 1, 2, 3, 5, 8, 13, 21, 34, 55]\n"
     ]
    }
   ],
   "source": [
    "fibonacci= []\n",
    "i = 0\n",
    "fibonacci.extend([1,1])\n",
    "\n",
    "for i in range(8) :\n",
    "    new = fibonacci[i] + fibonacci[i+1]\n",
    "    fibonacci.append(new)\n",
    "    \n",
    "print(fibonacci)"
   ]
  },
  {
   "cell_type": "code",
   "execution_count": 13,
   "id": "787fed9f",
   "metadata": {},
   "outputs": [
    {
     "name": "stdout",
     "output_type": "stream",
     "text": [
      "[55, 56, 58, 61, 65, 70, 76, 83]\n"
     ]
    }
   ],
   "source": [
    "fibonacci= []\n",
    "i = 0\n",
    "\n",
    "for i in list(range(8)) :\n",
    "   \n",
    "    new += i\n",
    "    fibonacci.append(new)\n",
    "    \n",
    "print(fibonacci)"
   ]
  },
  {
   "cell_type": "code",
   "execution_count": 14,
   "id": "1b955a32",
   "metadata": {},
   "outputs": [
    {
     "ename": "NameError",
     "evalue": "name 'cont' is not defined",
     "output_type": "error",
     "traceback": [
      "\u001b[1;31m---------------------------------------------------------------------------\u001b[0m",
      "\u001b[1;31mNameError\u001b[0m                                 Traceback (most recent call last)",
      "\u001b[1;32m~\\AppData\\Local\\Temp/ipykernel_2652/3713760379.py\u001b[0m in \u001b[0;36m<module>\u001b[1;34m\u001b[0m\n\u001b[0;32m      2\u001b[0m \u001b[0mi\u001b[0m \u001b[1;33m=\u001b[0m \u001b[1;36m0\u001b[0m\u001b[1;33m\u001b[0m\u001b[1;33m\u001b[0m\u001b[0m\n\u001b[0;32m      3\u001b[0m \u001b[0mfibonacci\u001b[0m\u001b[1;33m.\u001b[0m\u001b[0mextend\u001b[0m\u001b[1;33m(\u001b[0m\u001b[1;33m[\u001b[0m\u001b[1;36m1\u001b[0m\u001b[1;33m,\u001b[0m\u001b[1;36m1\u001b[0m\u001b[1;33m]\u001b[0m\u001b[1;33m)\u001b[0m\u001b[1;33m\u001b[0m\u001b[1;33m\u001b[0m\u001b[0m\n\u001b[1;32m----> 4\u001b[1;33m \u001b[1;32mwhile\u001b[0m \u001b[1;33m(\u001b[0m\u001b[0mfibonacci\u001b[0m\u001b[1;33m[\u001b[0m\u001b[1;36m1\u001b[0m\u001b[1;33m]\u001b[0m \u001b[1;33m<=\u001b[0m \u001b[0mcont\u001b[0m \u001b[1;33m<=\u001b[0m \u001b[0mfibonacci\u001b[0m\u001b[1;33m[\u001b[0m\u001b[1;36m55\u001b[0m\u001b[1;33m]\u001b[0m\u001b[1;33m)\u001b[0m \u001b[1;33m:\u001b[0m\u001b[1;33m\u001b[0m\u001b[1;33m\u001b[0m\u001b[0m\n\u001b[0m\u001b[0;32m      5\u001b[0m     \u001b[1;32mfor\u001b[0m \u001b[0mi\u001b[0m \u001b[1;32min\u001b[0m \u001b[0mrange\u001b[0m\u001b[1;33m(\u001b[0m\u001b[1;36m8\u001b[0m\u001b[1;33m)\u001b[0m \u001b[1;33m:\u001b[0m\u001b[1;33m\u001b[0m\u001b[1;33m\u001b[0m\u001b[0m\n\u001b[0;32m      6\u001b[0m         \u001b[0mnew\u001b[0m \u001b[1;33m=\u001b[0m \u001b[0mfibonacci\u001b[0m\u001b[1;33m[\u001b[0m\u001b[0mi\u001b[0m\u001b[1;33m]\u001b[0m \u001b[1;33m+\u001b[0m \u001b[0mfibonacci\u001b[0m\u001b[1;33m[\u001b[0m\u001b[0mi\u001b[0m\u001b[1;33m+\u001b[0m\u001b[1;36m1\u001b[0m\u001b[1;33m]\u001b[0m\u001b[1;33m\u001b[0m\u001b[1;33m\u001b[0m\u001b[0m\n",
      "\u001b[1;31mNameError\u001b[0m: name 'cont' is not defined"
     ]
    }
   ],
   "source": [
    "fibonacci= []\n",
    "i = 0\n",
    "fibonacci.extend([1,1])\n",
    "while (fibonacci[1] <= cont <= fibonacci[55]) :\n",
    "    for i in range(8) : \n",
    "        new = fibonacci[i] + fibonacci[i+1]\n",
    "        fibonacci.append(new)\n",
    "break    \n",
    "print(fibonacci)"
   ]
  },
  {
   "cell_type": "markdown",
   "id": "c29e76ed",
   "metadata": {},
   "source": [
    "Bir cümledeki her harfin sayısını sayın.\n",
    "Çalıştığınız departman kelime/metin analizi yapan bir proje yapımını üstlenmiştir. Bu proje kapsamında girilen cümlelerdeki harf veya karakter sayısını hesaplamanız istenmektedir.\n",
    "Bir Python programı yazın;\n",
    "kullanıcıdan bir cümle alır,\n",
    "cümlenin her harfinin sayısını sayar,\n",
    "sözlükte harfleri/karakterleri anahtar, sayılan sayıları değer olarak toplar.\n",
    "\n",
    "Örnekler\n",
    "Örnek girişler Çıkışlar\n",
    "su aygırı bize koşuyor!\n",
    "{'s': 2, 'r': 1, 't': 1, 'h': 1, 'n': 1,\n",
    "'i': 1, 'u': 2, 'o': 2, 'p': 2, ' ': 3, '!': 1}\n",
    "\n",
    "\n",
    "Bunu not et; bu soru internette meşhurdur, bu yüzden ondan daha fazla fayda sağlamak için bunu kendiniz yapın. Bu arada, blok hariç try - kullanmayınız."
   ]
  },
  {
   "cell_type": "code",
   "execution_count": 2,
   "id": "6f0a2c94",
   "metadata": {},
   "outputs": [
    {
     "name": "stdout",
     "output_type": "stream",
     "text": [
      "cümle gir: xdfbd   ffff ffbbbdd \n"
     ]
    },
    {
     "data": {
      "text/plain": [
       "{'x': 1, 'd': 4, 'f': 7, 'b': 4, ' ': 5}"
      ]
     },
     "execution_count": 2,
     "metadata": {},
     "output_type": "execute_result"
    }
   ],
   "source": [
    "def karakter(liste):\n",
    "    sozluk = {}\n",
    "    \n",
    "    for i in liste:\n",
    "        for j in i:\n",
    "            if j in sozluk:\n",
    "                sozluk[j] += 1\n",
    "            else:\n",
    "                sozluk[j] = 1\n",
    "    return sozluk\n",
    "\n",
    "\n",
    "liste = list(input(\"cümle gir: \"))\n",
    "karakter(list(liste))"
   ]
  },
  {
   "cell_type": "code",
   "execution_count": null,
   "id": "9b6e34eb",
   "metadata": {},
   "outputs": [],
   "source": []
  }
 ],
 "metadata": {
  "interpreter": {
   "hash": "4f77006a7ea4363e7f455dab2a4eac849c4d183e0f3df07af1fa2c4918595da7"
  },
  "kernelspec": {
   "display_name": "Python 3 (ipykernel)",
   "language": "python",
   "name": "python3"
  },
  "language_info": {
   "codemirror_mode": {
    "name": "ipython",
    "version": 3
   },
   "file_extension": ".py",
   "mimetype": "text/x-python",
   "name": "python",
   "nbconvert_exporter": "python",
   "pygments_lexer": "ipython3",
   "version": "3.9.6"
  }
 },
 "nbformat": 4,
 "nbformat_minor": 5
}
