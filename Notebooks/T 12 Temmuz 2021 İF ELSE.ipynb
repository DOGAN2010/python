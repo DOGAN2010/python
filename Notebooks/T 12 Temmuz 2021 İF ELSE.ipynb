{
 "cells": [
  {
   "cell_type": "code",
   "execution_count": 11,
   "id": "c470a7c1",
   "metadata": {},
   "outputs": [],
   "source": [
    "# if else"
   ]
  },
  {
   "cell_type": "code",
   "execution_count": 14,
   "id": "38558188",
   "metadata": {},
   "outputs": [],
   "source": [
    "# if condition:\n",
    "#    body  # the body code should start at indentation (four spaces)"
   ]
  },
  {
   "cell_type": "markdown",
   "id": "05bdc695",
   "metadata": {},
   "source": [
    "continue : geç görmezden gel\n",
    "break gibi"
   ]
  },
  {
   "cell_type": "code",
   "execution_count": 15,
   "id": "d56b3a73",
   "metadata": {},
   "outputs": [
    {
     "name": "stdout",
     "output_type": "stream",
     "text": [
      "it is true\n"
     ]
    }
   ],
   "source": [
    "if True:\n",
    "    print('it is true')"
   ]
  },
  {
   "cell_type": "code",
   "execution_count": 16,
   "id": "7e2b24a1",
   "metadata": {},
   "outputs": [
    {
     "name": "stdout",
     "output_type": "stream",
     "text": [
      "hello world\n"
     ]
    }
   ],
   "source": [
    "if \"0\" :\n",
    "    print(\"hello world\")"
   ]
  },
  {
   "cell_type": "code",
   "execution_count": 17,
   "id": "46c49598",
   "metadata": {},
   "outputs": [],
   "source": [
    "if 0 :\n",
    "    print(\"beni görebilecek misiniz?\")"
   ]
  },
  {
   "cell_type": "markdown",
   "id": "0d16337e",
   "metadata": {},
   "source": [
    "```python\n",
    "None\n",
    "[]\n",
    "()\n",
    "\"\"\n",
    "0\n",
    "0.0\n",
    "0j\n",
    "{}\n",
    "```"
   ]
  },
  {
   "cell_type": "code",
   "execution_count": 18,
   "id": "72bf41ca",
   "metadata": {},
   "outputs": [
    {
     "name": "stdout",
     "output_type": "stream",
     "text": [
      "bu çalışır\n"
     ]
    }
   ],
   "source": [
    "if 1 :\n",
    "    print(\"bu çalışır\")"
   ]
  },
  {
   "cell_type": "code",
   "execution_count": 19,
   "id": "2ce8060a",
   "metadata": {},
   "outputs": [
    {
     "name": "stdout",
     "output_type": "stream",
     "text": [
      "there is still seat to sit\n"
     ]
    }
   ],
   "source": [
    "empty_seat = 14\n",
    "\n",
    "if empty_seat > 3:  # in this case, 14>3=True, so the body will execute\n",
    "    print('there is still seat to sit')\n"
   ]
  },
  {
   "cell_type": "code",
   "execution_count": 20,
   "id": "9bba1d87",
   "metadata": {},
   "outputs": [
    {
     "name": "stdout",
     "output_type": "stream",
     "text": [
      "is x equal to y?                 : False\n",
      "is x not equal to y?             : True\n",
      "is x less than y?                : True\n",
      "is x greater than y?             : False\n",
      "is x less than or equal to y?    : True\n",
      "is x greater than or equal to y? : False\n"
     ]
    }
   ],
   "source": [
    "x = 6\n",
    "y = 9\n",
    "print (\"is x equal to y?                 :\" , x == y)\n",
    "print (\"is x not equal to y?             :\" , x != y)\n",
    "print (\"is x less than y?                :\" , x < y)\n",
    "print (\"is x greater than y?             :\" , x > y)\n",
    "print (\"is x less than or equal to y?    :\" , x <= y)\n",
    "print (\"is x greater than or equal to y? :\" , x >= y)\n"
   ]
  },
  {
   "cell_type": "code",
   "execution_count": 2,
   "id": "53461a69",
   "metadata": {},
   "outputs": [],
   "source": [
    "minced = True\n",
    "bread = True\n",
    "#green\n",
    "lettuce = True\n",
    "onion = True\n",
    "grocer = True"
   ]
  },
  {
   "cell_type": "code",
   "execution_count": 3,
   "id": "8963b030",
   "metadata": {},
   "outputs": [],
   "source": [
    "hamburger = (minced and grocer and bread) and (lettuce or onion)"
   ]
  },
  {
   "cell_type": "code",
   "execution_count": 4,
   "id": "2ed5fa3b",
   "metadata": {},
   "outputs": [
    {
     "name": "stdout",
     "output_type": "stream",
     "text": [
      "Bon Appetit!\n"
     ]
    }
   ],
   "source": [
    "if hamburger :\n",
    "    print(\"Bon Appetit!\")"
   ]
  },
  {
   "cell_type": "code",
   "execution_count": 5,
   "id": "81bdeb11",
   "metadata": {},
   "outputs": [
    {
     "data": {
      "text/plain": [
       "True"
      ]
     },
     "execution_count": 5,
     "metadata": {},
     "output_type": "execute_result"
    }
   ],
   "source": [
    "\"a\" < \"b\""
   ]
  },
  {
   "cell_type": "code",
   "execution_count": 6,
   "id": "5bdacd1f",
   "metadata": {},
   "outputs": [
    {
     "data": {
      "text/plain": [
       "False"
      ]
     },
     "execution_count": 6,
     "metadata": {},
     "output_type": "execute_result"
    }
   ],
   "source": [
    "\"4\" < \"39\""
   ]
  },
  {
   "cell_type": "code",
   "execution_count": 7,
   "id": "85e2d168",
   "metadata": {},
   "outputs": [
    {
     "data": {
      "text/plain": [
       "52"
      ]
     },
     "execution_count": 7,
     "metadata": {},
     "output_type": "execute_result"
    }
   ],
   "source": [
    "ord(\"4\")"
   ]
  },
  {
   "cell_type": "code",
   "execution_count": 8,
   "id": "598bc0f1",
   "metadata": {},
   "outputs": [
    {
     "data": {
      "text/plain": [
       "51"
      ]
     },
     "execution_count": 8,
     "metadata": {},
     "output_type": "execute_result"
    }
   ],
   "source": [
    "ord(\"3\")"
   ]
  },
  {
   "cell_type": "code",
   "execution_count": 9,
   "id": "7051c039",
   "metadata": {},
   "outputs": [
    {
     "data": {
      "text/plain": [
       "3"
      ]
     },
     "execution_count": 9,
     "metadata": {},
     "output_type": "execute_result"
    }
   ],
   "source": [
    "1 and 2 and 3"
   ]
  },
  {
   "cell_type": "code",
   "execution_count": 10,
   "id": "caa463e6",
   "metadata": {},
   "outputs": [
    {
     "data": {
      "text/plain": [
       "True"
      ]
     },
     "execution_count": 10,
     "metadata": {},
     "output_type": "execute_result"
    }
   ],
   "source": [
    "2 >= 2"
   ]
  },
  {
   "cell_type": "code",
   "execution_count": 11,
   "id": "fb92b540",
   "metadata": {},
   "outputs": [
    {
     "name": "stdout",
     "output_type": "stream",
     "text": [
      "True\n",
      "False\n",
      "True\n",
      "True\n"
     ]
    }
   ],
   "source": [
    "print(1 == 1)\n",
    "print(\"henry\" == \"Henry\")\n",
    "print(12<=12.1)\n",
    "print(\"hard\" != \"easy\")"
   ]
  },
  {
   "cell_type": "code",
   "execution_count": 13,
   "id": "50707354",
   "metadata": {},
   "outputs": [],
   "source": [
    "a = set(\"TWELVE PLUS ONE\")\n",
    "b = set(\"ELEVEN PLUS TWO\")"
   ]
  },
  {
   "cell_type": "code",
   "execution_count": 14,
   "id": "499e1570",
   "metadata": {},
   "outputs": [
    {
     "data": {
      "text/plain": [
       "{' ', 'E', 'L', 'N', 'O', 'P', 'S', 'T', 'U', 'V', 'W'}"
      ]
     },
     "execution_count": 14,
     "metadata": {},
     "output_type": "execute_result"
    }
   ],
   "source": [
    "a"
   ]
  },
  {
   "cell_type": "code",
   "execution_count": 15,
   "id": "f656dd2e",
   "metadata": {},
   "outputs": [
    {
     "data": {
      "text/plain": [
       "{' ', 'E', 'L', 'N', 'O', 'P', 'S', 'T', 'U', 'V', 'W'}"
      ]
     },
     "execution_count": 15,
     "metadata": {},
     "output_type": "execute_result"
    }
   ],
   "source": [
    "b"
   ]
  },
  {
   "cell_type": "code",
   "execution_count": 16,
   "id": "c8db7206",
   "metadata": {},
   "outputs": [
    {
     "data": {
      "text/plain": [
       "True"
      ]
     },
     "execution_count": 16,
     "metadata": {},
     "output_type": "execute_result"
    }
   ],
   "source": [
    "a == b"
   ]
  },
  {
   "cell_type": "code",
   "execution_count": 17,
   "id": "3f2c5328",
   "metadata": {},
   "outputs": [
    {
     "name": "stdout",
     "output_type": "stream",
     "text": [
      "Enter yes or no : yes\n"
     ]
    }
   ],
   "source": [
    "convert = input(\"Enter yes or no : \").title().strip() == \"Yes\""
   ]
  },
  {
   "cell_type": "code",
   "execution_count": 18,
   "id": "29f0c3d7",
   "metadata": {},
   "outputs": [
    {
     "name": "stdout",
     "output_type": "stream",
     "text": [
      "<class 'bool'>\n",
      "True\n"
     ]
    }
   ],
   "source": [
    "print(type(convert))\n",
    "print(convert)"
   ]
  },
  {
   "cell_type": "code",
   "execution_count": 19,
   "id": "d97298d4",
   "metadata": {},
   "outputs": [
    {
     "name": "stdout",
     "output_type": "stream",
     "text": [
      "You entered True\n"
     ]
    }
   ],
   "source": [
    "print(\"You entered\", convert)"
   ]
  },
  {
   "cell_type": "code",
   "execution_count": 21,
   "id": "e835b31e",
   "metadata": {},
   "outputs": [
    {
     "name": "stdout",
     "output_type": "stream",
     "text": [
      "Enter a number please : 54666\n",
      "Girmiş olduğunuz sayı (54666) Çifttir.\n"
     ]
    }
   ],
   "source": [
    "num = int(input(\"Enter a number please : \"))\n",
    "\n",
    "if num % 2 == 0 :\n",
    "    print(\"Girmiş olduğunuz sayı ({}) Çifttir.\".format(num))\n",
    "    \n",
    "else:\n",
    "    print(\"Girmiş olduğunuz sayı ({}) Tektir.\".format(num))"
   ]
  },
  {
   "cell_type": "code",
   "execution_count": 22,
   "id": "40a80b43",
   "metadata": {},
   "outputs": [
    {
     "name": "stdout",
     "output_type": "stream",
     "text": [
      "you guaranteed the job\n"
     ]
    }
   ],
   "source": [
    "course = 'clarusway'\n",
    "\n",
    "if course == \"clarusway\":\n",
    "    print(\"you guaranteed the job\")\n",
    "else:\n",
    "    print(\"think about it again\")"
   ]
  },
  {
   "cell_type": "code",
   "execution_count": 23,
   "id": "b9f3420c",
   "metadata": {},
   "outputs": [
    {
     "name": "stdout",
     "output_type": "stream",
     "text": [
      "Number is bigger than 3\n"
     ]
    }
   ],
   "source": [
    "number = 5\n",
    "if number <= 3:    \n",
    "    print(\"Number is smaller than or equal to 3\") \n",
    "else:  # Optional clause (you can only have one else)\n",
    "    print(\"Number is bigger than 3\")"
   ]
  },
  {
   "cell_type": "code",
   "execution_count": 25,
   "id": "f95a71b9",
   "metadata": {},
   "outputs": [
    {
     "name": "stdout",
     "output_type": "stream",
     "text": [
      " bcccc \n"
     ]
    }
   ],
   "source": [
    "basket = ['apple', 'peach', 'blackberry']\n",
    "fruit = '....'\n",
    "\n",
    "if fruit in basket :\n",
    "    print(' blank ')\n",
    "else :\n",
    "    print(' bcccc ')"
   ]
  },
  {
   "cell_type": "code",
   "execution_count": 26,
   "id": "159ec541",
   "metadata": {},
   "outputs": [],
   "source": [
    "# 'if-elif-else' İfadeleri"
   ]
  },
  {
   "cell_type": "code",
   "execution_count": 27,
   "id": "7103573d",
   "metadata": {},
   "outputs": [
    {
     "name": "stdout",
     "output_type": "stream",
     "text": [
      "I can lift that!\n"
     ]
    }
   ],
   "source": [
    "weight = 80\n",
    "\n",
    "if weight > 100:\n",
    "    print(\"That's too heavy!\")\n",
    "elif weight > 75:\n",
    "    print(\"I can lift that!\")\n",
    "else:\n",
    "    print(\"That's too light!\")"
   ]
  },
  {
   "cell_type": "code",
   "execution_count": 29,
   "id": "268e20bc",
   "metadata": {},
   "outputs": [
    {
     "name": "stdout",
     "output_type": "stream",
     "text": [
      "No such audience, stay at your home!\n"
     ]
    }
   ],
   "source": [
    "audience = \"baby\"\n",
    "\n",
    "if audience == \"kid\":\n",
    "    print(\"it is free to go to cinema\")\n",
    "elif audience == \"teen\":\n",
    "    print(\"discounted price!\")\n",
    "elif audience == \"adult\":\n",
    "    print(\"normal price\")\n",
    "else:\n",
    "    print(\"No such audience, stay at your home!\")"
   ]
  },
  {
   "cell_type": "code",
   "execution_count": 30,
   "id": "845f009f",
   "metadata": {},
   "outputs": [
    {
     "name": "stdout",
     "output_type": "stream",
     "text": [
      "The number is equal or greater than 10\n"
     ]
    }
   ],
   "source": [
    "number = 23\n",
    "if number >= 10:\n",
    "    print(\"The number is equal or greater than 10\")\n",
    "else:\n",
    "    print(\"The number is less than 10\")"
   ]
  },
  {
   "cell_type": "code",
   "execution_count": 31,
   "id": "85593b4d",
   "metadata": {},
   "outputs": [
    {
     "name": "stdout",
     "output_type": "stream",
     "text": [
      "discounted price!\n"
     ]
    }
   ],
   "source": [
    "audience_group = 'kid', 'teen', 'adult'\n",
    "\n",
    "audience = \"teen\"\n",
    "\n",
    "if audience in audience_group:\n",
    "    if audience == \"kid\":\n",
    "        print(\"it is free to go to cinema\")\n",
    "    elif audience == \"teen\":\n",
    "        print(\"discounted price!\")\n",
    "    else: # audience == \"adult\":\n",
    "        print(\"normal price\")\n",
    "else:\n",
    "    print(\"No such audience, stay at your home!\")\n"
   ]
  },
  {
   "cell_type": "code",
   "execution_count": 32,
   "id": "9e6efb10",
   "metadata": {},
   "outputs": [
    {
     "name": "stdout",
     "output_type": "stream",
     "text": [
      "Enter your score :73\n",
      "Your degree: below B\n"
     ]
    }
   ],
   "source": [
    "score = int (input(\"Enter your score :\"))\n",
    "\n",
    "if score >= 90:\n",
    "    if score >= 95:\n",
    "        Score_letter=\"A+\"\n",
    "    else:\n",
    "        Score_letter=\"A\"\n",
    "elif score >= 80:\n",
    "    if score >= 85:\n",
    "        Score_letter=\"B+\"\n",
    "    else:\n",
    "        Score_letter=\"B\"\n",
    "else:\n",
    "    Score_letter=\"below B\"\n",
    "\n",
    "print (\"Your degree: %s\" % Score_letter)\n"
   ]
  },
  {
   "cell_type": "code",
   "execution_count": 33,
   "id": "0fc80014",
   "metadata": {},
   "outputs": [
    {
     "name": "stdout",
     "output_type": "stream",
     "text": [
      "lütfen panınızı giriniz : 89\n",
      "Senin derecen : B+\n"
     ]
    }
   ],
   "source": [
    "puan = int(input(\"lütfen panınızı giriniz : \"))\n",
    "\n",
    "if puan >= 90 :\n",
    "    if puan>= 95:\n",
    "        derece = \"A+\"\n",
    "    else:\n",
    "        derece = \"A\"\n",
    "elif puan >= 75 :\n",
    "    if puan >= 80:\n",
    "        derece = \"B+\"\n",
    "    else :\n",
    "        derece = \"B\"\n",
    "elif puan >=60 :\n",
    "    derece = \"C\"\n",
    "else :\n",
    "    derece = \"Kaldın D\"            \n",
    "    \n",
    "print(\"Senin derecen : %s\" %derece)\n",
    "        "
   ]
  },
  {
   "cell_type": "code",
   "execution_count": 36,
   "id": "c3b7e938",
   "metadata": {},
   "outputs": [
    {
     "name": "stdout",
     "output_type": "stream",
     "text": [
      "please enter a number to check : 45\n",
      "45.0 is a positive number! \n"
     ]
    }
   ],
   "source": [
    "num = float(input(\"please enter a number to check : \"))\n",
    "\n",
    "if num > 0 :\n",
    "    print(f\"{num} is a positive number! \")\n",
    "else :\n",
    "    print(f\"{num} is a negative number! \")    "
   ]
  },
  {
   "cell_type": "code",
   "execution_count": 39,
   "id": "1607ef51",
   "metadata": {},
   "outputs": [
    {
     "name": "stdout",
     "output_type": "stream",
     "text": [
      "please enter a number to check : 15\n",
      "please enter a number to check : 453\n",
      "The large number is 453.0\n"
     ]
    }
   ],
   "source": [
    "num1 = float(input(\"please enter a number to check : \"))\n",
    "num2 = float(input(\"please enter a number to check : \"))\n",
    "if num1 > num2 :\n",
    "    large = num1\n",
    "else :\n",
    "     large = num2\n",
    "print(f'The large number is {large}')    "
   ]
  },
  {
   "cell_type": "code",
   "execution_count": 12,
   "id": "6b84e57a",
   "metadata": {},
   "outputs": [
    {
     "name": "stdout",
     "output_type": "stream",
     "text": [
      "please enter a number to check : 15\n",
      "please enter a number to check : 12\n",
      "please enter a number to check : 14\n",
      "The large number is 15.0\n"
     ]
    }
   ],
   "source": [
    "num1 = float(input(\"please enter a number to check : \"))\n",
    "num2 = float(input(\"please enter a number to check : \"))\n",
    "num3 = float(input(\"please enter a number to check : \"))\n",
    "if (num1 > num2) and (num1 > num3) :\n",
    "    large = num1\n",
    "elif (num2 > num1) and (num2 > num3): \n",
    "    large = num2\n",
    "else :\n",
    "     large = num3\n",
    "print(f'The large number is {large}') "
   ]
  },
  {
   "cell_type": "code",
   "execution_count": 6,
   "id": "6e41a2ce",
   "metadata": {},
   "outputs": [
    {
     "name": "stdout",
     "output_type": "stream",
     "text": [
      "No\n"
     ]
    }
   ],
   "source": [
    "convert = False \n",
    "if convert == True :\n",
    "    print(\"Yes\")\n",
    "else :\n",
    "    print(\"No\")"
   ]
  },
  {
   "cell_type": "code",
   "execution_count": 15,
   "id": "aadeff1c",
   "metadata": {},
   "outputs": [
    {
     "name": "stdout",
     "output_type": "stream",
     "text": [
      "please enter a number to check : -45\n",
      "-45.0 is a negative number! \n"
     ]
    }
   ],
   "source": [
    "num = float(input(\"please enter a number to check : \"))\n",
    "\n",
    "if num > 0 :\n",
    "    print(f\"{num} is a positive number! \")\n",
    "elif num == 0 :\n",
    "    print(\"zero\")\n",
    "else :\n",
    "    print(f\"{num} is a negative number! \")"
   ]
  },
  {
   "cell_type": "code",
   "execution_count": 17,
   "id": "54a9b863",
   "metadata": {},
   "outputs": [
    {
     "name": "stdout",
     "output_type": "stream",
     "text": [
      "sonsuz\n"
     ]
    }
   ],
   "source": [
    "x = 9\n",
    "\n",
    "if x == 3:\n",
    "    print(\"üç\")\n",
    "elif x == 4 :\n",
    "    print(\"dört\")\n",
    "elif x == 5 :\n",
    "     print(\"dört\")\n",
    "else:\n",
    "     print(\"sonsuz\")"
   ]
  },
  {
   "cell_type": "code",
   "execution_count": 21,
   "id": "081cdfed",
   "metadata": {},
   "outputs": [
    {
     "name": "stdout",
     "output_type": "stream",
     "text": [
      "lütfen puanızı giriniz : 85\n",
      "Your degree is : B+\n",
      "Your degree is  B+\n"
     ]
    }
   ],
   "source": [
    "puan = int(input(\"lütfen puanızı giriniz : \"))\n",
    "\n",
    "if puan >= 90 :\n",
    "    if puan>= 95:\n",
    "        derece = \"A+\"\n",
    "    else:\n",
    "        derece = \"A\"\n",
    "elif puan >= 80 :\n",
    "    if puan >= 85:\n",
    "        derece = \"B+\"\n",
    "    else :\n",
    "        derece = \"B\"\n",
    "\n",
    "else :\n",
    "    derece = \"below B or B-\"            \n",
    "    \n",
    "print(\"Your degree is : {}\".format(derece))\n",
    "   \n",
    "print(\"Your degree is \", derece)\n",
    "       "
   ]
  },
  {
   "cell_type": "code",
   "execution_count": 22,
   "id": "e51421af",
   "metadata": {},
   "outputs": [],
   "source": [
    "items = (10, 20)\n",
    "x, y = items"
   ]
  },
  {
   "cell_type": "code",
   "execution_count": 23,
   "id": "0aa0c4e8",
   "metadata": {},
   "outputs": [
    {
     "data": {
      "text/plain": [
       "10"
      ]
     },
     "execution_count": 23,
     "metadata": {},
     "output_type": "execute_result"
    }
   ],
   "source": [
    "x"
   ]
  },
  {
   "cell_type": "code",
   "execution_count": 24,
   "id": "10686590",
   "metadata": {},
   "outputs": [
    {
     "data": {
      "text/plain": [
       "20"
      ]
     },
     "execution_count": 24,
     "metadata": {},
     "output_type": "execute_result"
    }
   ],
   "source": [
    "y"
   ]
  },
  {
   "cell_type": "code",
   "execution_count": 25,
   "id": "894831aa",
   "metadata": {},
   "outputs": [],
   "source": [
    "a, _, b, _ =(10, 20, 30, 40)"
   ]
  },
  {
   "cell_type": "code",
   "execution_count": 26,
   "id": "8641ed6b",
   "metadata": {},
   "outputs": [
    {
     "data": {
      "text/plain": [
       "10"
      ]
     },
     "execution_count": 26,
     "metadata": {},
     "output_type": "execute_result"
    }
   ],
   "source": [
    "a"
   ]
  },
  {
   "cell_type": "code",
   "execution_count": 27,
   "id": "f93ef306",
   "metadata": {},
   "outputs": [
    {
     "data": {
      "text/plain": [
       "30"
      ]
     },
     "execution_count": 27,
     "metadata": {},
     "output_type": "execute_result"
    }
   ],
   "source": [
    "b"
   ]
  },
  {
   "cell_type": "code",
   "execution_count": 28,
   "id": "af6087f4",
   "metadata": {},
   "outputs": [
    {
     "name": "stdout",
     "output_type": "stream",
     "text": [
      "10 30 40\n"
     ]
    }
   ],
   "source": [
    "print(a, b, _)"
   ]
  },
  {
   "cell_type": "code",
   "execution_count": 29,
   "id": "9c8e9a2c",
   "metadata": {},
   "outputs": [
    {
     "ename": "ValueError",
     "evalue": "too many values to unpack (expected 3)",
     "output_type": "error",
     "traceback": [
      "\u001b[1;31m---------------------------------------------------------------------------\u001b[0m",
      "\u001b[1;31mValueError\u001b[0m                                Traceback (most recent call last)",
      "\u001b[1;32m~\\AppData\\Local\\Temp/ipykernel_9256/3642959779.py\u001b[0m in \u001b[0;36m<module>\u001b[1;34m\u001b[0m\n\u001b[1;32m----> 1\u001b[1;33m \u001b[0mx\u001b[0m\u001b[1;33m,\u001b[0m \u001b[0my\u001b[0m\u001b[1;33m,\u001b[0m \u001b[0mz\u001b[0m\u001b[1;33m,\u001b[0m \u001b[1;33m=\u001b[0m \u001b[1;33m(\u001b[0m\u001b[1;36m11\u001b[0m\u001b[1;33m,\u001b[0m \u001b[1;36m22\u001b[0m\u001b[1;33m,\u001b[0m \u001b[1;36m33\u001b[0m\u001b[1;33m,\u001b[0m \u001b[1;36m44\u001b[0m\u001b[1;33m,\u001b[0m \u001b[1;36m55\u001b[0m\u001b[1;33m)\u001b[0m\u001b[1;33m\u001b[0m\u001b[1;33m\u001b[0m\u001b[0m\n\u001b[0m",
      "\u001b[1;31mValueError\u001b[0m: too many values to unpack (expected 3)"
     ]
    }
   ],
   "source": [
    "x, y, z, = (11, 22, 33, 44, 55)"
   ]
  },
  {
   "cell_type": "code",
   "execution_count": 30,
   "id": "da6a7d39",
   "metadata": {},
   "outputs": [],
   "source": [
    "x, y, *z, = (11, 22, 33, 44, 55)"
   ]
  },
  {
   "cell_type": "code",
   "execution_count": 31,
   "id": "47fee9b9",
   "metadata": {},
   "outputs": [
    {
     "data": {
      "text/plain": [
       "[33, 44, 55]"
      ]
     },
     "execution_count": 31,
     "metadata": {},
     "output_type": "execute_result"
    }
   ],
   "source": [
    "z"
   ]
  },
  {
   "cell_type": "code",
   "execution_count": 32,
   "id": "f6007c1d",
   "metadata": {},
   "outputs": [],
   "source": [
    "x, y, *_ = (11, 22, 33, 44, 55, 66, 77)"
   ]
  },
  {
   "cell_type": "code",
   "execution_count": 33,
   "id": "9a7e5543",
   "metadata": {},
   "outputs": [
    {
     "data": {
      "text/plain": [
       "[33, 44, 55, 66, 77]"
      ]
     },
     "execution_count": 33,
     "metadata": {},
     "output_type": "execute_result"
    }
   ],
   "source": [
    "_"
   ]
  },
  {
   "cell_type": "code",
   "execution_count": 34,
   "id": "7c5e96a5",
   "metadata": {},
   "outputs": [
    {
     "data": {
      "text/plain": [
       "11"
      ]
     },
     "execution_count": 34,
     "metadata": {},
     "output_type": "execute_result"
    }
   ],
   "source": [
    "x"
   ]
  },
  {
   "cell_type": "code",
   "execution_count": 35,
   "id": "17e55bdc",
   "metadata": {},
   "outputs": [
    {
     "data": {
      "text/plain": [
       "22"
      ]
     },
     "execution_count": 35,
     "metadata": {},
     "output_type": "execute_result"
    }
   ],
   "source": [
    "y"
   ]
  },
  {
   "cell_type": "code",
   "execution_count": 36,
   "id": "97f76db2",
   "metadata": {},
   "outputs": [],
   "source": [
    "x, y, *_ , z= (11, 22, 33, 44, 55, 66, 77)"
   ]
  },
  {
   "cell_type": "code",
   "execution_count": 37,
   "id": "76297032",
   "metadata": {},
   "outputs": [
    {
     "data": {
      "text/plain": [
       "77"
      ]
     },
     "execution_count": 37,
     "metadata": {},
     "output_type": "execute_result"
    }
   ],
   "source": [
    "z"
   ]
  },
  {
   "cell_type": "code",
   "execution_count": 38,
   "id": "f1154f4e",
   "metadata": {},
   "outputs": [
    {
     "data": {
      "text/plain": [
       "11"
      ]
     },
     "execution_count": 38,
     "metadata": {},
     "output_type": "execute_result"
    }
   ],
   "source": [
    "x"
   ]
  },
  {
   "cell_type": "code",
   "execution_count": 39,
   "id": "d3f9aaaf",
   "metadata": {},
   "outputs": [
    {
     "data": {
      "text/plain": [
       "22"
      ]
     },
     "execution_count": 39,
     "metadata": {},
     "output_type": "execute_result"
    }
   ],
   "source": [
    "y"
   ]
  },
  {
   "cell_type": "code",
   "execution_count": 40,
   "id": "a8256bab",
   "metadata": {},
   "outputs": [
    {
     "data": {
      "text/plain": [
       "[33, 44, 55, 66]"
      ]
     },
     "execution_count": 40,
     "metadata": {},
     "output_type": "execute_result"
    }
   ],
   "source": [
    "_"
   ]
  },
  {
   "cell_type": "code",
   "execution_count": 5,
   "id": "828686fc",
   "metadata": {},
   "outputs": [
    {
     "name": "stdout",
     "output_type": "stream",
     "text": [
      "Please enter an integer: -56\n",
      "Negative changed to zero\n"
     ]
    }
   ],
   "source": [
    "x = int(input(\"Please enter an integer: \"))\n",
    "if x < 0:\n",
    "    x = 0\n",
    "    print('Negative changed to zero')\n",
    "elif x == 0:\n",
    "    print('Zero')\n",
    "    \n",
    "elif x == 1:\n",
    "    print('Single')\n",
    "else:\n",
    "    print('More')"
   ]
  },
  {
   "cell_type": "code",
   "execution_count": null,
   "id": "85166872",
   "metadata": {},
   "outputs": [],
   "source": []
  },
  {
   "cell_type": "code",
   "execution_count": null,
   "id": "40a93c12",
   "metadata": {},
   "outputs": [],
   "source": []
  },
  {
   "cell_type": "code",
   "execution_count": null,
   "id": "00d188c6",
   "metadata": {},
   "outputs": [],
   "source": []
  },
  {
   "cell_type": "code",
   "execution_count": null,
   "id": "4dfc75ef",
   "metadata": {},
   "outputs": [],
   "source": []
  }
 ],
 "metadata": {
  "kernelspec": {
   "display_name": "Python 3 (ipykernel)",
   "language": "python",
   "name": "python3"
  },
  "language_info": {
   "codemirror_mode": {
    "name": "ipython",
    "version": 3
   },
   "file_extension": ".py",
   "mimetype": "text/x-python",
   "name": "python",
   "nbconvert_exporter": "python",
   "pygments_lexer": "ipython3",
   "version": "3.9.6"
  }
 },
 "nbformat": 4,
 "nbformat_minor": 5
}
