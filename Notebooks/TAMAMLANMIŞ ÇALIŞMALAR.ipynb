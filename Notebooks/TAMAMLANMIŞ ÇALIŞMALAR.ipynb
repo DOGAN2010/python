{
 "cells": [
  {
   "cell_type": "markdown",
   "source": [
    "Bir Sayıyı Taban-2'ye Dönüştür\n",
    "Taban-10 (ondalık) dize numarasının taban-2 (ikili) gösterimini döndüren bir işlev oluşturun. Dönüştürmek basittir: ((2) taban-2 anlamına gelir ve (10) taban-10 anlamına gelir) 010101001(2) = 1 + 8 + 32 + 128.\n",
    "\n",
    "Sağdan sola giderken, en sağdaki bitin değeri 1'dir, bundan sonra sola doğru her bitin değeri x2 olacaktır, 8 bitlik ikili sayıların değeri (256, 128, 64, 32, 16, 8) olacaktır. , 4, 2, 1).\n",
    "\n",
    "Örnekler\n",
    "binary(1) ➞ \"1\"\n",
    "1*1 = 1\n",
    "\n",
    "binary(5) ➞ \"101\"\n",
    " 1*1 + 1*4 = 5\n",
    "\n",
    "binary(10) ➞ \"1010\"\n",
    " 1*2 + 1*8 = 10\n",
    "Notlar\n",
    "Sayılar her zaman 1024'ün altında olacaktır (1024 hariç).\n",
    "Dizeler her zaman en soldaki bitin değerinin içindeki sayıdan büyük olduğu uzunluğa gidecektir decimal.\n",
    "Bir ikili dönüştürme 0denenirse, döndür \"0\"."
   ],
   "metadata": {}
  },
  {
   "cell_type": "markdown",
   "source": [],
   "metadata": {}
  },
  {
   "cell_type": "code",
   "execution_count": 3,
   "source": [
    "decimal = int(input())\r\n",
    "if 1 <= decimal < 1024:\r\n",
    "    binary = \"\"\r\n",
    "    while decimal >= 1:\r\n",
    "        binary += str(int(decimal%2))\r\n",
    "        decimal -= (decimal/2)\r\n",
    "elif decimal == 0:\r\n",
    "    binary = \"0\"\r\n",
    "else:\r\n",
    "    print(\"out of scope\")\r\n",
    "print(binary[::-1])"
   ],
   "outputs": [
    {
     "output_type": "stream",
     "name": "stdout",
     "text": [
      "5\n",
      "101\n"
     ]
    }
   ],
   "metadata": {}
  },
  {
   "cell_type": "markdown",
   "source": [
    "Bir üçgenin eşkenar, ikizkenar veya çeşitkenar olup olmadığını kontrol eden bir Python programı yazın.\n",
    "Not :\n",
    "Eşkenar üçgen, üç tarafı da eşit olan bir üçgendir.\n",
    "çeşitkenar üçgeni, üç eşit olmayan kenarı olan bir üçgendir.\n",
    "İkizkenar üçgen, (en az) iki kenarı eşit olan bir üçgendir.\n",
    "Örnek Çıktı:\n",
    "x: 6\n",
    "y:8\n",
    "z:12\n",
    "Eşkenar olmayan üçgen"
   ],
   "metadata": {}
  },
  {
   "cell_type": "code",
   "execution_count": null,
   "source": [],
   "outputs": [],
   "metadata": {}
  },
  {
   "cell_type": "markdown",
   "source": [
    "1'den 50'ye kadar tamsayıları yineleyen bir Python programı yazın. Üçün katları için sayı yerine \"Fizz\", beşin katları için \"Buzz\" yazdırın. Hem üç hem de beşin katı olan sayılar için \"FizzBuzz\" yazdırın.\n",
    "Örnek Çıktı :\n",
    "fizzbuzz\n",
    "1\n",
    "2\n",
    "fizz\n",
    "4\n",
    "buzz (düzenlendi)"
   ],
   "metadata": {}
  },
  {
   "cell_type": "markdown",
   "source": [
    "Selamlar:woman-raising-hand: Kolay gelsin arkadaşlar:female-technologist::male-technologist:\n",
    "Given a signed 32-bit integer x, return x with its digits reversed. If reversing x causes the value to go outside the signed 32-bit integer range [-2^31, 2^31 - 1], then return 0.\n",
    "Assume the environment does not allow you to store 64-bit integers (signed or unsigned).\n",
    "Example 1:\n",
    "Input: x = 123\n",
    "Output: 321\n",
    " \n",
    "Example 2:\n",
    "Input: x = -123\n",
    "Output: -321\n",
    " \n",
    "Example 3:\n",
    "Input: x = 120\n",
    "Output: 21\n",
    " \n",
    "Example 4:\n",
    "Input: x = 0\n",
    "Output: 0\n",
    "Constraints:\n",
    "-2^31 <= x <= 2^31 - 1"
   ],
   "metadata": {}
  },
  {
   "cell_type": "code",
   "execution_count": null,
   "source": [],
   "outputs": [],
   "metadata": {}
  },
  {
   "cell_type": "markdown",
   "source": [
    "Selamlar:kadın-kaldıran: Kolay gelsin arkadaşlar:female-technologist::male-technologist:\n",
    "İşaretli bir 32 bit tamsayı x verildiğinde, x'i rakamları ters çevrilmiş olarak döndürün. x'i tersine çevirmek, değerin işaretli 32 bit tamsayı aralığının [-2^31, 2^31 - 1] dışına çıkmasına neden oluyorsa, 0 döndürün.\n",
    "Ortamın 64 bit tam sayıları (imzalı veya imzasız) saklamanıza izin vermediğini varsayın.\n",
    "Örnek 1:\n",
    "Girdi: x = 123\n",
    "Çıkış: 321\n",
    " \n",
    "Örnek 2:\n",
    "Girdi: x = -123\n",
    "Çıkış: -321\n",
    " \n",
    "Örnek 3:\n",
    "Girdi: x = 120\n",
    "Çıkış: 21\n",
    " \n",
    "Örnek 4:\n",
    "Girdi: x = 0\n",
    "Çıkış: 0\n",
    "kısıtlamalar:\n",
    "-2^31 <= x <= 2^31 - 1"
   ],
   "metadata": {}
  },
  {
   "cell_type": "code",
   "execution_count": null,
   "source": [],
   "outputs": [],
   "metadata": {}
  },
  {
   "cell_type": "markdown",
   "source": [
    "Döngüler ve liste metotlarını kullanarak çözebileceğiniz bir soru geliyor. Her arkadaşın biraz gayretle çözebileceği nitelikte bir soru. Şimdiden hepinize kolay gelsin.\n",
    "num = [48, 10, 11, 21, 36, 5, 6, 52, 28, 29,\n",
    "       53, 54, 45, 19, 20, 47, 55, 39, 41, 7,\n",
    "       9, 17, 26, 27, 42, 22, 37, 51, 46, 18,\n",
    "       44, 30, 34, 13, 15, 35, 33, 16, 50, 24]\n",
    "Elemanları ardışık sayılardan oluşan karışık halde bir liste veriliyor. Listenin en küçük elemanı ile en büyük elemanı arasında yer alan, ancak listede gösterilmeyen eksik sayılardan çift olanları çıktı veren python kodu yazınız.\n",
    "Beklenen Çıktı:\n",
    "8\n",
    "12\n",
    "14\n",
    "32\n",
    "38\n",
    "40"
   ],
   "metadata": {}
  },
  {
   "cell_type": "code",
   "execution_count": null,
   "source": [],
   "outputs": [],
   "metadata": {}
  },
  {
   "cell_type": "markdown",
   "source": [
    "What is an anagram? Well, two words are anagrams of each other if they both contain the same letters. For example:\n",
    "'abba' & 'baab' == true\n",
    "'abba' & 'bbaa' == true\n",
    "'abba' & 'abbba' == false\n",
    "'abba' & 'abca' == false\n",
    "Take two inputs from the user word and word list and then write code that will find all the anagrams of a word from a list.\n",
    "You should return a list of all the anagrams or an empty list if there are none. \n",
    "\n",
    "(anagram nedir? Eh, ikisi de aynı harfleri içeriyorsa, iki kelime birbirinin anagramıdır. Örneğin:\n",
    "'abba' & 'baab' == doğru\n",
    "'abba' & 'bbaa' == doğru\n",
    "'abba' & 'abbba' == yanlış\n",
    "'abba' & 'abca' == yanlış\n",
    "Kullanıcı kelime ve kelime listesinden iki girdi alın ve ardından bir kelimenin tüm anagramlarını listeden bulan kodu yazın. \n",
    "Tüm anagramların bir listesini veya yoksa boş bir liste döndürmelisiniz.)\n",
    "\n",
    "For example:\n",
    "input1:'abba'\n",
    "input2: ['aabb', 'abcd', 'bbaa', 'dada']) \n",
    "output: ['aabb', 'bbaa']\n",
    "input1:'racer'\n",
    "input2: ['crazer', 'carer', 'racar', 'caers', 'racer'])\n",
    "output: ['carer', 'racer']\n",
    "input1:'laser'\n",
    "input2:['lazing', 'lazy',  'lacer'])\n",
    "output:[]"
   ],
   "metadata": {}
  },
  {
   "cell_type": "code",
   "execution_count": null,
   "source": [],
   "outputs": [],
   "metadata": {}
  },
  {
   "cell_type": "markdown",
   "source": [
    "# orjinal metin :\n",
    "Given an array of non-negative integers representing an elevation map as shown below where the width of each bar is 1, compute how much water will be trapped on terrain after raining. To clarify further, the black boxes represents terrain and its height, and the blue boxes represents the water that could be trapped on the terrain.\n",
    "Lütfen bir iki sonra thread olarak çözümleri paylaşalım. Mevcut müfredat dahilinde çözelim...\n",
    "![image%20%287%29.png](attachment:image%20%287%29.png)\n",
    "![image%20%287%29-2.png](attachment:image%20%287%29-2.png)"
   ],
   "metadata": {},
   "attachments": {
    "image%20%287%29-2.png": {
     "image/png": "[encoded data removed]"
    },
    "image%20%287%29.png": {
     "image/png": "[encoded data removed]"
    }
   }
  },
  {
   "cell_type": "code",
   "execution_count": 2,
   "source": [
    "ls = [0, 1, 0, 2, 1, 0, 1, 3, 2, 1, 2, 1]\r\n",
    "n = 0\r\n",
    "a = 0\r\n",
    "b = 1\r\n",
    "while ls.count(max(ls)) == 1:\r\n",
    "    ls[ls.index(max(ls))]-=1\r\n",
    "while b < len(ls):\r\n",
    "    if ls[a] > ls[b]:\r\n",
    "        while ls[a] > ls[b]:\r\n",
    "            if ls[a] not in ls[b:]:\r\n",
    "                break\r\n",
    "            else:\r\n",
    "                n+=ls[a]-ls[b]\r\n",
    "                b+=1\r\n",
    "                if b == len(ls):\r\n",
    "                    break\r\n",
    "        a = b\r\n",
    "        b = a+1\r\n",
    "    else:\r\n",
    "        a+=1\r\n",
    "        b+=1\r\n",
    "print(n)"
   ],
   "outputs": [
    {
     "output_type": "stream",
     "name": "stdout",
     "text": [
      "6\n"
     ]
    }
   ],
   "metadata": {}
  },
  {
   "cell_type": "code",
   "execution_count": null,
   "source": [],
   "outputs": [],
   "metadata": {}
  },
  {
   "cell_type": "markdown",
   "source": [
    "Soru:\n",
    "Bir markete gittiniz. Markette her ürünün bir kod numarası var.\n",
    "1 : Domates 2 : Soğan 3 : Biber 4 : Yumurta 5 : Elma 6 : Armut ... vs. şeklinde.\n",
    "Kullanıcıya almak istediği ürünü sorunuz ve kod numarası ile seçim yaptırınız. Çıkış için \"q\" opsiyonunu sununuz. Kullanıcının her ürün seçimi sonrası \" .... domates sepete eklendi\" gibi bir dönüt veriniz. Kullanıcı ürün almaya devam ettikçe ürünleri bir listede toplayınız, almaktan vazgeçtiği durumda teşekkür edip, aldığı toplam ürünleri çıktı veren bir kod yazınız.\n",
    "Beklenen Çıktı:\n",
    "Teşekkür Ederiz...\n",
    "Sepetinizde Bulunan Ürünler: elma, armut, yumurta ... vs."
   ],
   "metadata": {}
  },
  {
   "cell_type": "code",
   "execution_count": null,
   "source": [],
   "outputs": [],
   "metadata": {}
  },
  {
   "cell_type": "markdown",
   "source": [
    "Üç değerin medyanını bulan bir Python programı yazın.\n",
    "Beklenen Çıktı:\n",
    "İlk sayıyı girin: 15                                                   \n",
    "İkinci sayıyı girin: 26                                                  \n",
    "Üçüncü sayıyı girin: 29                                                   \n",
    "Medyan 26.0'dır   "
   ],
   "metadata": {}
  },
  {
   "cell_type": "code",
   "execution_count": null,
   "source": [],
   "outputs": [],
   "metadata": {}
  },
  {
   "cell_type": "markdown",
   "source": [
    "Girdi olarak m (satır) ve n (sütun) olmak üzere iki rakamı alan ve iki boyutlu bir dizi oluşturan bir Python programı yazınız. Dizinin i. satırı ve j. sütunundaki eleman değeri i*j olmalıdır.\n",
    "Not :\n",
    "i = 0,1.., m-1\n",
    "j = 0,1, n-1.\n",
    "Test Verisi : Satır = 3, Sütun = 4\n",
    "Beklenen Sonuç : [[0, 0, 0, 0], [0, 1, 2, 3], [0, 2, 4, 6]]"
   ],
   "metadata": {}
  },
  {
   "cell_type": "code",
   "execution_count": null,
   "source": [],
   "outputs": [],
   "metadata": {}
  },
  {
   "cell_type": "markdown",
   "source": [
    "Doğduğunuz yıl için Çin Zodyakının işaretini gösteren bir Python programı yazın. \n",
    "Beklenen Çıktı:\n",
    "Doğum yılınızı girin: 1973                                              \n",
    "Burcunuz: Öküz  "
   ],
   "metadata": {}
  },
  {
   "cell_type": "code",
   "execution_count": null,
   "source": [
    "i = (input(\"Doğum yılınızı girin \"))\r\n",
    "w = str(i)\r\n",
    "if i.isdigit() and len(i) == 4:\r\n",
    "    q = int(i)\r\n",
    "    if (q - 1960) % 12 == 0:\r\n",
    "        a = \"fare\"\r\n",
    "    elif (q - 1960) % 12 == 1:    \r\n",
    "        a = \"öküz\"\r\n",
    "    elif (q - 1960) % 12 == 2:\r\n",
    "        a = \"kaplan\"\r\n",
    "    elif (q - 1960) % 12 == 3:    \r\n",
    "        a = \"tavşan\"\r\n",
    "    elif (q - 1960) % 12 == 4:\r\n",
    "        a = \"ejderha\"\r\n",
    "    elif (q - 1960) % 12 == 5:    \r\n",
    "        a = \"yılan\"\r\n",
    "    elif (q - 1960) % 12 == 6:\r\n",
    "        a = \"at\"\r\n",
    "    elif (q - 1960) % 12 == 7:    \r\n",
    "        a = \"keçi\"\r\n",
    "    elif (q - 1960) % 12 == 8:\r\n",
    "        a = \"maymun\"\r\n",
    "    elif (q - 1960) % 12 == 9:    \r\n",
    "        a = \"horoz\"\r\n",
    "    elif (q - 1960) % 12 == 10:\r\n",
    "        a = \"köpek\"\r\n",
    "    elif (q - 1960) % 12 == 11:    \r\n",
    "        a = \"domuz\"\r\n",
    "    print(\"Çin burcunuz\", a)    \r\n",
    "else:\r\n",
    "    print(\"Lütfen dört haneli doğum yılınızı girin\")"
   ],
   "outputs": [],
   "metadata": {}
  },
  {
   "cell_type": "markdown",
   "source": [
    "Görev : Kullanıcı ile “inekler ve boğalar” oyununu oynayacak bir program oluşturun. Oyun şu şekilde çalışır:\n",
    "Rastgele 4 basamaklı bir sayı oluşturun. Kullanıcıdan 4 basamaklı bir sayı tahmin etmesini isteyin. Kullanıcının doğru yerde doğru tahmin ettiği her rakam için bir “inek” vardır. Kullanıcının yanlış yerde doğru tahmin ettiği her rakam için bir “boğa” dır. Kullanıcı her tahminde bulunduğunda, onlara kaç tane \"inek\" ve \"boğa\" olduğunu söyleyin. Kullanıcı doğru sayıyı tahmin ettiğinde oyun biter. Kullanıcının oyun boyunca yaptığı tahmin sayısını takip edin ve sonunda kullanıcıya söyleyin.\n",
    "Bilgisayar tarafından üretilen sayının 1038 olduğunu söyleyin. Örnek bir etkileşim şöyle görünebilir:\n",
    "   İnekler ve Boğalar Oyununa Hoş Geldiniz!\n",
    "   Bir sayı girin:\n",
    "   >>> 1234\n",
    "   2 inek, 0 boğa\n",
    "   >>> 1256\n",
    "   1 inek, 1 boğa"
   ],
   "metadata": {}
  },
  {
   "cell_type": "code",
   "execution_count": null,
   "source": [],
   "outputs": [],
   "metadata": {}
  },
  {
   "cell_type": "code",
   "execution_count": null,
   "source": [
    "import random\r\n",
    "print(\"Welcome to the Cows and Bulls Game!\")\r\n",
    "random_number = str(random.randrange(1000,10000))  # 10000 de dahil edilmis olur bu sekilde. 9999 olarak duzeltebilirsiniz.\r\n",
    "print(random_number)  # Bunu yazdirmakta fayda var, cunku dogru tahmin edene kadar donguden cikamazsiniz.\r\n",
    "random_number_list = list(str(random_number))\r\n",
    "while True:\r\n",
    "    entering_number = input(\"Enter a number:\")\r\n",
    "    entering_number_list = list(entering_number)\r\n",
    "    if int(random_number) == int(entering_number):  # Burada random number string, entering number int'e donusturuluyor. Hicbir zaman esit olmazlar. Onun icin random number'i int'e donusturdum.\r\n",
    "        print(f\"Congratulations, you got the number. The number is {random_number}\")\r\n",
    "        break  # \r\n",
    "    cows = 0\r\n",
    "    bulls = 0\r\n",
    "    for a in range(len(entering_number_list)):\r\n",
    "        if entering_number_list[a] == random_number_list[a]:\r\n",
    "            cows += 1\r\n",
    "        elif entering_number_list[a] in random_number_list:\r\n",
    "            bulls += 1\r\n",
    "    print(f\"{cows} cows, {bulls} bulls.\")"
   ],
   "outputs": [],
   "metadata": {}
  },
  {
   "cell_type": "code",
   "execution_count": null,
   "source": [],
   "outputs": [],
   "metadata": {}
  },
  {
   "cell_type": "markdown",
   "source": [
    "Kaynak metin\n",
    "Given a string of words, you need to find the highest scoring word.\n",
    "Each letter of a word scores points according to its position in the alphabet: a = 1, b = 2, c = 3 etc.\n",
    "You need to return the highest scoring word as a string.\n",
    "If two words score the same, return the word that appears earliest in the original string.\n",
    "All letters will be lowercase and all inputs will be valid.\n",
    "Examples:\n",
    "'man i need a taxi up to ubud' ---> 'taxi'\n",
    "'what time are we climbing up the volcano' ----> 'volcano'\n",
    "'take me to semynak' ---> 'semynak'\n",
    "'aa b'  --->  'aa'\n",
    "'b aa'  --->  'b'\n",
    "'bb d'  --- > 'bb'\n",
    "'d bb'  ---> 'd'\n",
    "\"aaa b\"  -->  \"aaa\"\n",
    "\n",
    "\n",
    "\n",
    "Çeviri sonuçları\n",
    "Bir kelime dizisi verildiğinde, en yüksek puanlı kelimeyi bulmanız gerekir.\n",
    "Bir kelimenin her harfi alfabedeki konumuna göre puan alır: a = 1, b = 2, c = 3 vb.\n",
    "En yüksek puanlı kelimeyi bir dize olarak döndürmeniz gerekir.\n",
    "İki sözcük aynı puanı alırsa, orijinal dizede en erken görünen sözcüğü döndürün.\n",
    "Tüm harfler küçük olacak ve tüm girişler geçerli olacaktır.\n",
    "Örnekler:\n",
    "'adamım ubud'a kadar bir taksiye ihtiyacım var' ---> 'taksi'\n",
    "'volkana ne zaman tırmanıyoruz' ----> 'volkan'\n",
    "'beni semynak'a götür' ---> 'semynak'\n",
    "'aa b' ---> 'aa'\n",
    "'b aa' ---> 'b'\n",
    "'bb d' --- > 'bb'\n",
    "'d bb' ---> 'd'\n",
    "\"aaa b\" --> \"aaa\" "
   ],
   "metadata": {}
  },
  {
   "cell_type": "code",
   "execution_count": 3,
   "source": [
    "alphabet = [chr(i) for i in range(97, 123)]\r\n",
    "dictt_1 = {}\r\n",
    "dictt_2 = {}\r\n",
    "for i in range(len(alphabet)):\r\n",
    "    dictt_1[alphabet[i]] = i + 1\r\n",
    "text = input('Please enter your text here > ')\r\n",
    "text_list = text.lower().split()\r\n",
    "for i in text_list:\r\n",
    "    total = 0\r\n",
    "    for x in i:\r\n",
    "        total += dictt_1[x]\r\n",
    "    dictt_2[i] = total\r\n",
    "listt = list(dictt_2.values())\r\n",
    "biggest = max(listt)\r\n",
    "for x, y in dictt_2.items():\r\n",
    "    if y == biggest:\r\n",
    "        print(x)\r\n",
    "        break"
   ],
   "outputs": [
    {
     "output_type": "stream",
     "name": "stdout",
     "text": [
      "Please enter your text here > ddf\n",
      "ddf\n"
     ]
    }
   ],
   "metadata": {}
  },
  {
   "cell_type": "code",
   "execution_count": 4,
   "source": [
    "def chrr(n):\r\n",
    "    return [i for i in n]\r\n",
    "x = list(enumerate([chr(i) for i in range(97,123)] ,1))\r\n",
    "y = \"what time are we climbing up the volcano\".split()\r\n",
    "z = list(map(chrr ,y))\r\n",
    "for k in z:\r\n",
    "    for i in range(len(k)):\r\n",
    "        for j,t in x:\r\n",
    "            if t == k[i]:\r\n",
    "                k[i]=j\r\n",
    "m =[sum(i) for i in z]\r\n",
    "u = m.index(max(m))\r\n",
    "print(y[u])"
   ],
   "outputs": [
    {
     "output_type": "stream",
     "name": "stdout",
     "text": [
      "volcano\n"
     ]
    }
   ],
   "metadata": {}
  },
  {
   "cell_type": "code",
   "execution_count": null,
   "source": [],
   "outputs": [],
   "metadata": {}
  },
  {
   "cell_type": "markdown",
   "source": [
    "Soru: Kullanıcıdan kontrol edilmek üzere bir yıl girmesini isteyiniz. Girilen yılın artık yıl olup olmadığını çıktı veren bir python programı yazınız.\n",
    "Artık yıl, Miladî takvimde (Gregoryen takvim) 365 yerine 366 günü olan yıl. Bu fazladan gün (artık gün), normalde 28 gün olan şubat ayına 29 Şubat'ın eklenmesi ile elde edilir. Dört yılda bir yapılan bu uygulamanın nedeni Dünya'nın Güneş çevresinde dönme süresinin (astronomik yıl), Güneş'in aynı meridyenden iki kez geçişi arasındaki ortalama zamanın (gün) tam katı olmamasıdır. Bir astronomik yıl yaklaşık olarak 365,242 gün olmasına rağmen[1] normal bir takvim yılı 365 gündür. (Wikipedia) (edited) "
   ],
   "metadata": {}
  },
  {
   "cell_type": "code",
   "execution_count": 6,
   "source": [
    "Year = int(input(\"Enter a year: \"))\r\n",
    "x = Year % 4 == 0\r\n",
    "y = Year % 100 != 0\r\n",
    "z = Year % 400 == 0\r\n",
    "leap_year = (x and y) or z\r\n",
    "print(leap_year)"
   ],
   "outputs": [
    {
     "output_type": "stream",
     "name": "stdout",
     "text": [
      "Enter a year: 204\n",
      "True\n"
     ]
    }
   ],
   "metadata": {}
  },
  {
   "cell_type": "markdown",
   "source": [
    "Bu işlemler bakiye sorgulama, para yatırma, para çekme ve çıkış işlemlerini yapmasını istiyoruz. 1 tuşuna basınca Bakiye Sorgulama 2 tuşuna basınca Para Yatırma 3 tuşuna basınca Para Çekme ve q tuşuna basınca Çıkış işlemlerini yapmasını istiyoruz. Başlangıç bakiyesi 1000 TL olsun örneğin. birde \"q\" çıkış tuşuna basana kadar sürekli hangi işlemi yapacağımızı sorsun, ayrıca belirttiğimiz sayıdan ve \"q\" dan başka brişey girerse kullanıcı hata versin ve tekrar sorsun işlemin ne olduğunu... Kolay Gelsin..."
   ],
   "metadata": {}
  },
  {
   "cell_type": "code",
   "execution_count": null,
   "source": [
    "bakiye = 1000\r\n",
    "while True:\r\n",
    "  işlem = input(\"Lütfen yapmak istediğiniz işlemi seçiniz: (1, 2, 3 or q)\")\r\n",
    "  if işlem == \"1\":\r\n",
    "    print(\"bakiye sorgusu\")\r\n",
    "    print(f\"Hesabınızda {bakiye} tl vardır.\")\r\n",
    "  elif işlem == \"2\":\r\n",
    "    print(\"Lütfen yatırmak istediğiniz tutarı giriniz\")\r\n",
    "    ekle = int(input())\r\n",
    "    bakiye += ekle\r\n",
    "  elif işlem == \"3\":\r\n",
    "    print(\"Çekmek istediğiniz miktarı giriniz\")\r\n",
    "    çıkar = int(input())\r\n",
    "    bakiye -= çıkar\r\n",
    "  elif işlem.lower() == \"q\":\r\n",
    "    print(\"işlem sonlandırıldı\")\r\n",
    "    break\r\n",
    "  else:\r\n",
    "    print(\"işlem gerçekleştirilemedi\")"
   ],
   "outputs": [],
   "metadata": {}
  },
  {
   "cell_type": "markdown",
   "source": [
    "Bir sayının mükemmel olup olmadığını kontrol etmek için bir Python fonksiyonu yazın.\n",
    "Wikipedia'ya göre : Sayı teorisinde, mükemmel bir sayı, uygun pozitif bölenlerinin toplamına eşit olan pozitif bir tam sayıdır, yani sayının kendisi hariç pozitif bölenlerinin toplamıdır (aynı zamanda bölüntü olarak da bilinir). toplamı). Eşdeğer olarak, mükemmel bir sayı, tüm pozitif bölenlerinin (kendisi dahil) toplamının yarısı olan bir sayıdır.\n",
    "Örnek  : İlk mükemmel sayı 6'dır, çünkü 1, 2 ve 3 uygun pozitif bölenleridir ve 1 + 2 + 3 = 6. Eşdeğer olarak, 6 sayısı tüm pozitif bölenlerinin toplamının yarısına eşittir: ( 1 + 2 + 3 + 6) / 2 = 6. Bir sonraki mükemmel sayı 28 = 1 + 2 + 4 + 7 + 14'tür. Bunu 496 ve 8128 mükemmel sayıları takip eder."
   ],
   "metadata": {}
  },
  {
   "cell_type": "code",
   "execution_count": 8,
   "source": [
    "num = int(input(\"Enter a number: \"))\r\n",
    "perfect_list = []\r\n",
    "for i in range(1, num + 1):\r\n",
    "    if num % i == 0:\r\n",
    "    perfect_list.append(i)\r\n",
    "         if sum(perfect_list[:-1]) == num and sum(perfect_list) / 2 ==num:\r\n",
    "    print(f\"{num} is the perfect number\")\r\n",
    "    else:\r\n",
    "    print(f\"{num} is not the perfect number\")"
   ],
   "outputs": [
    {
     "output_type": "error",
     "ename": "IndentationError",
     "evalue": "expected an indented block (Temp/ipykernel_5032/3655732514.py, line 5)",
     "traceback": [
      "\u001b[1;36m  File \u001b[1;32m\"C:\\Users\\DOGAN\\AppData\\Local\\Temp/ipykernel_5032/3655732514.py\"\u001b[1;36m, line \u001b[1;32m5\u001b[0m\n\u001b[1;33m    perfect_list.append(i)\u001b[0m\n\u001b[1;37m    ^\u001b[0m\n\u001b[1;31mIndentationError\u001b[0m\u001b[1;31m:\u001b[0m expected an indented block\n"
     ]
    }
   ],
   "metadata": {}
  },
  {
   "cell_type": "code",
   "execution_count": 9,
   "source": [
    "sayi = int(input(\"Bir sayi giriniz....:\"))\r\n",
    "if sayi == 0 :\r\n",
    "    sayi = 1\r\n",
    "elif sayi < 0 :\r\n",
    "    sayi = sayi * -1\r\n",
    "carptop = 0\r\n",
    "for i in range(1,sayi+1) :\r\n",
    "    if sayi % i == 0 :\r\n",
    "        carptop += i \r\n",
    "print(carptop,\"= Değeri {} sayısının kendisi dahil bölenlerinin toplamı\".format(sayi))\r\n",
    "print(carptop - sayi,\"= Değeri {} sayısının kendisi hariç bölenlerinin toplami\".format(sayi))\r\n",
    "if carptop == sayi * 2 :\r\n",
    "    print(\"Sayı mükemmeldir\")\r\n",
    "else :\r\n",
    "    print(\"sayi mükemmel degildir\")"
   ],
   "outputs": [
    {
     "output_type": "stream",
     "name": "stdout",
     "text": [
      "Bir sayi giriniz....:28\n",
      "56 = Değeri 28 sayısının kendisi dahil bölenlerinin toplamı\n",
      "28 = Değeri 28 sayısının kendisi hariç bölenlerinin toplami\n",
      "Sayı mükemmeldir\n"
     ]
    }
   ],
   "metadata": {}
  },
  {
   "cell_type": "code",
   "execution_count": null,
   "source": [],
   "outputs": [],
   "metadata": {}
  },
  {
   "cell_type": "markdown",
   "source": [
    "Loves Me, Loves Me Not...\n",
    "\"Loves me, loves me not\" is a traditional game in which a person plucks off all the petals of a flower one by one, saying the phrase \"Loves me\" and \"Loves me not\" when determining whether the one that they love, loves them back.\n",
    "\n",
    "Given a number of petals, return a string which repeats the phrases \"Loves me\" and \"Loves me not\" for every alternating petal, and return the last phrase in all caps. Remember to put a comma and space between phrases.\n",
    "\n",
    "Examples\n",
    "loves_me(3) ➞ \"Loves me, Loves me not, LOVES ME\"\n",
    "\n",
    "loves_me(6) ➞ \"Loves me, Loves me not, Loves me, Loves me not, Loves me, LOVES ME NOT\"\n",
    "\n",
    "loves_me(1) ➞ \"LOVES ME\"\n",
    "Notes\n",
    "Remember to return a string.\n",
    "The first phrase is always \"Loves me\"."
   ],
   "metadata": {}
  },
  {
   "cell_type": "code",
   "execution_count": null,
   "source": [
    "loves = []\r\n",
    "\r\n",
    "num = int(input(\"Papatya falınız için lütfen pozitif bir sayı giriniz : \"))\r\n",
    "\r\n",
    "k = \"Loves me\"\r\n",
    "l = \"Loves me not\"\r\n",
    "num -= 1\r\n",
    "i = 1\r\n",
    "if num == 0 :\r\n",
    "    print(k.upper())\r\n",
    "else :\r\n",
    "    for i in range(num+1) :\r\n",
    "        if i % 2 == 0 :\r\n",
    "            if i == num :\r\n",
    "                k = k.upper()\r\n",
    "                loves.append(k)\r\n",
    "            else :     \r\n",
    "                loves.append(k)\r\n",
    "        else :\r\n",
    "            if i == num :\r\n",
    "                l = l.upper()\r\n",
    "                loves.append(l)\r\n",
    "            else :              \r\n",
    "                loves.append(l)\r\n",
    "a=tuple(loves)\r\n",
    "a=\", \".join(a) # liste veya tuple içerindeki kelimler seçilen karakter ile birleştiriliyor\r\n",
    "print('\"{}\"'.format(a))"
   ],
   "outputs": [],
   "metadata": {}
  },
  {
   "cell_type": "markdown",
   "source": [
    "Aşağıdaki tekrarlama dizisi pozitif tam sayılar için tanımlanmıştır:\n",
    "\n",
    "n → n/2 (n çift)\n",
    "n → 3n + 1 (n tek)\n",
    "Yukarıdaki kuralı uygulayarak ve 13’ten başlayarak aşağıdaki diziyi üretiriz:\n",
    "\n",
    "13 → 40 → 20 → 10 → 5 → 16 → 8 → 4 → 2 → 1\n",
    "\n",
    "13’ten başlayıp 1’de sonlanan bu dizinin 10 adet terim içerdiği görülebilir. Henüz kanıtlanmış olmasa da(Collatz Problemi), bütün başlangıç sayılarının 1’de sonuçlanacağı sanılmaktadır.\n",
    "\n",
    "Bir milyonun altındaki hangi başlangıç sayısı, en uzun zinciri üretir?\n",
    "\n",
    "NOT: Zincir bir kere başladıktan sonra terimlerin 1 milyonun üzerine çıkabilmesi mümkündür."
   ],
   "metadata": {}
  },
  {
   "cell_type": "code",
   "execution_count": 1,
   "source": [
    "num = int(input(\"Collatz dizisi için lütfen pozitif bir sayı giriniz : \"))\r\n",
    "print(num, end = \", \")\r\n",
    "\r\n",
    "while not (num == 1) : # num != 0\r\n",
    "   \r\n",
    "    if num%2 == 0 :\r\n",
    "        num = num // 2\r\n",
    "        \r\n",
    "        if num == 1 :\r\n",
    "            print(num)\r\n",
    "        else :\r\n",
    "            print(num, end = \", \")\r\n",
    "            \r\n",
    "    else :\r\n",
    "        \r\n",
    "        num = 3*num + 1\r\n",
    "        print(num, end = \", \")"
   ],
   "outputs": [
    {
     "output_type": "stream",
     "name": "stdout",
     "text": [
      "Collatz dizisi için lütfen pozitif bir sayı giriniz : 13\n",
      "13, 40, 20, 10, 5, 16, 8, 4, 2, 1\n"
     ]
    }
   ],
   "metadata": {}
  },
  {
   "cell_type": "code",
   "execution_count": 2,
   "source": [
    "inpt = int(input(\"dizinin baslangic elemeani giriniz :\"))\r\n",
    "a=[inpt]\r\n",
    "count=0\r\n",
    "while a[count] != 1:\r\n",
    "    if a[count]%2:\r\n",
    "        a.append((3*a[count])+1)\r\n",
    "    else:\r\n",
    "        a.append(int(a[count]/2))\r\n",
    "    count += 1\r\n",
    "print(a)"
   ],
   "outputs": [
    {
     "output_type": "stream",
     "name": "stdout",
     "text": [
      "dizinin baslangic elemeani giriniz :13\n",
      "[13, 40, 20, 10, 5, 16, 8, 4, 2, 1]\n"
     ]
    }
   ],
   "metadata": {}
  },
  {
   "cell_type": "markdown",
   "source": [
    "0 ile n arasındaki tüm sayıları alıp uzun bir dizgede birleştirdiğinizi hayal edin. 0 ile n arasında kaç rakam vardır? Bunu hesaplayabilecek bir fonksiyon yazın.\n",
    "0 ile 1 arasında 0 rakam, 0 ile 10 arasında 9 rakam ve 0 ile 100 arasında 189 rakam vardır.\n",
    "Örnekler basamak(1) ➞ 0\n",
    "rakamlar(10) ➞ 9\n",
    "rakamlar(100) ➞ 189\n",
    "rakamlar(2020) ➞ 6969\n",
    "Notlar Rakamlar oldukça büyük olacağından bu diziyi oluşturmak pratik olmayacaktır."
   ],
   "metadata": {}
  },
  {
   "cell_type": "code",
   "execution_count": null,
   "source": [],
   "outputs": [],
   "metadata": {}
  },
  {
   "cell_type": "markdown",
   "source": [
    "Atbash Şifresi\n",
    "Atbash şifresi, bir kelimenin her harfinin alfabedeki \"ayna\" harfiyle değiştirildiği bir şifreleme yöntemidir: A <=> Z; B <=> Y; C <=> X; vb.\n",
    "\n",
    "Bir dize alan ve ona Atbash şifresini uygulayan bir işlev oluşturun.\n",
    "\n",
    "Örnekler\n",
    "atbash(\"apple\") ➞ \"zkkov\"\n",
    "\n",
    "atbash(\"Hello world!\") ➞ \"Svool dliow!\"\n",
    "\n",
    "atbash(\"Christmas is the 25th of December\") ➞ \"Xsirhgnzh rh gsv 25gs lu Wvxvnyvi\""
   ],
   "metadata": {}
  },
  {
   "cell_type": "code",
   "execution_count": null,
   "source": [],
   "outputs": [],
   "metadata": {}
  },
  {
   "cell_type": "code",
   "execution_count": 2,
   "source": [
    "for i in range(1, 101):\r\n",
    "    if i%15 == 0 :\r\n",
    "         print(\"FizzBuzz\")\r\n",
    "    elif i%5 == 0 : \r\n",
    "        print(\"Buzz\")\r\n",
    "    elif i%3 == 0 : \r\n",
    "        print(\"Fizz\")\r\n",
    "    else :\r\n",
    "        print(i)"
   ],
   "outputs": [
    {
     "output_type": "stream",
     "name": "stdout",
     "text": [
      "1\n",
      "2\n",
      "Fizz\n",
      "4\n",
      "Buzz\n",
      "Fizz\n",
      "7\n",
      "8\n",
      "Fizz\n",
      "Buzz\n",
      "11\n",
      "Fizz\n",
      "13\n",
      "14\n",
      "FizzBuzz\n",
      "16\n",
      "17\n",
      "Fizz\n",
      "19\n",
      "Buzz\n",
      "Fizz\n",
      "22\n",
      "23\n",
      "Fizz\n",
      "Buzz\n",
      "26\n",
      "Fizz\n",
      "28\n",
      "29\n",
      "FizzBuzz\n",
      "31\n",
      "32\n",
      "Fizz\n",
      "34\n",
      "Buzz\n",
      "Fizz\n",
      "37\n",
      "38\n",
      "Fizz\n",
      "Buzz\n",
      "41\n",
      "Fizz\n",
      "43\n",
      "44\n",
      "FizzBuzz\n",
      "46\n",
      "47\n",
      "Fizz\n",
      "49\n",
      "Buzz\n",
      "Fizz\n",
      "52\n",
      "53\n",
      "Fizz\n",
      "Buzz\n",
      "56\n",
      "Fizz\n",
      "58\n",
      "59\n",
      "FizzBuzz\n",
      "61\n",
      "62\n",
      "Fizz\n",
      "64\n",
      "Buzz\n",
      "Fizz\n",
      "67\n",
      "68\n",
      "Fizz\n",
      "Buzz\n",
      "71\n",
      "Fizz\n",
      "73\n",
      "74\n",
      "FizzBuzz\n",
      "76\n",
      "77\n",
      "Fizz\n",
      "79\n",
      "Buzz\n",
      "Fizz\n",
      "82\n",
      "83\n",
      "Fizz\n",
      "Buzz\n",
      "86\n",
      "Fizz\n",
      "88\n",
      "89\n",
      "FizzBuzz\n",
      "91\n",
      "92\n",
      "Fizz\n",
      "94\n",
      "Buzz\n",
      "Fizz\n",
      "97\n",
      "98\n",
      "Fizz\n",
      "Buzz\n"
     ]
    }
   ],
   "metadata": {}
  },
  {
   "cell_type": "code",
   "execution_count": null,
   "source": [],
   "outputs": [],
   "metadata": {}
  },
  {
   "cell_type": "markdown",
   "source": [
    "Bir kesrin basitleştirilmiş sürümünü döndüren bir işlev oluşturun. Örnekler:\r\n",
    "sadeleştir(\"4/6\") ➞ \"2/3\"\r\n",
    "basitleştir(\"10/11\") ➞ \"10/11\"\r\n",
    "sadeleştir(\"100/400\") ➞ \"1/4\"\r\n",
    "sadeleştir(\"8/4\") ➞ \"2\"\r\n",
    "Notlar: Pay ve payda arasında ortak çarpanlar (1 hariç) yoksa kesir basitleştirilir. Örneğin, 4/6 basitleştirilmemiştir, çünkü 4 ve 6'nın ikisi de 2'yi bir çarpan olarak paylaşır. Uygun olmayan kesirler tam sayılara dönüştürülebiliyorsa, bunu kodunuzda yapın."
   ],
   "metadata": {}
  },
  {
   "cell_type": "code",
   "execution_count": 4,
   "source": [
    "def sadelestir(kesir) :\r\n",
    "    kesir = list(kesir)\r\n",
    "    basit = \"\"\r\n",
    "    for i in range(int(kesir[0])) :\r\n",
    "        if int(kesir[0])%i and int(kesir[2])%i :\r\n",
    "            a = int(kesir[0])//i\r\n",
    "            b = int(kesir[2])//i\r\n",
    "            basit += a + \"/\" + b\r\n",
    "    return basit\r\n",
    "  \r\n",
    "sadelestir(8/4)\r\n"
   ],
   "outputs": [
    {
     "output_type": "error",
     "ename": "TypeError",
     "evalue": "'float' object is not iterable",
     "traceback": [
      "\u001b[1;31m---------------------------------------------------------------------------\u001b[0m",
      "\u001b[1;31mTypeError\u001b[0m                                 Traceback (most recent call last)",
      "\u001b[1;32m~\\AppData\\Local\\Temp/ipykernel_13576/3108060299.py\u001b[0m in \u001b[0;36m<module>\u001b[1;34m\u001b[0m\n\u001b[0;32m      9\u001b[0m     \u001b[1;32mreturn\u001b[0m \u001b[0mbasit\u001b[0m\u001b[1;33m\u001b[0m\u001b[1;33m\u001b[0m\u001b[0m\n\u001b[0;32m     10\u001b[0m \u001b[1;33m\u001b[0m\u001b[0m\n\u001b[1;32m---> 11\u001b[1;33m \u001b[0msadelestir\u001b[0m\u001b[1;33m(\u001b[0m\u001b[1;36m8\u001b[0m\u001b[1;33m/\u001b[0m\u001b[1;36m4\u001b[0m\u001b[1;33m)\u001b[0m\u001b[1;33m\u001b[0m\u001b[1;33m\u001b[0m\u001b[0m\n\u001b[0m",
      "\u001b[1;32m~\\AppData\\Local\\Temp/ipykernel_13576/3108060299.py\u001b[0m in \u001b[0;36msadelestir\u001b[1;34m(kesir)\u001b[0m\n\u001b[0;32m      1\u001b[0m \u001b[1;32mdef\u001b[0m \u001b[0msadelestir\u001b[0m\u001b[1;33m(\u001b[0m\u001b[0mkesir\u001b[0m\u001b[1;33m)\u001b[0m \u001b[1;33m:\u001b[0m\u001b[1;33m\u001b[0m\u001b[1;33m\u001b[0m\u001b[0m\n\u001b[1;32m----> 2\u001b[1;33m     \u001b[0mkesir\u001b[0m \u001b[1;33m=\u001b[0m \u001b[0mlist\u001b[0m\u001b[1;33m(\u001b[0m\u001b[0mkesir\u001b[0m\u001b[1;33m)\u001b[0m\u001b[1;33m\u001b[0m\u001b[1;33m\u001b[0m\u001b[0m\n\u001b[0m\u001b[0;32m      3\u001b[0m     \u001b[0mbasit\u001b[0m \u001b[1;33m=\u001b[0m \u001b[1;34m\"\"\u001b[0m\u001b[1;33m\u001b[0m\u001b[1;33m\u001b[0m\u001b[0m\n\u001b[0;32m      4\u001b[0m     \u001b[1;32mfor\u001b[0m \u001b[0mi\u001b[0m \u001b[1;32min\u001b[0m \u001b[0mrange\u001b[0m\u001b[1;33m(\u001b[0m\u001b[0mint\u001b[0m\u001b[1;33m(\u001b[0m\u001b[0mkesir\u001b[0m\u001b[1;33m[\u001b[0m\u001b[1;36m0\u001b[0m\u001b[1;33m]\u001b[0m\u001b[1;33m)\u001b[0m\u001b[1;33m)\u001b[0m \u001b[1;33m:\u001b[0m\u001b[1;33m\u001b[0m\u001b[1;33m\u001b[0m\u001b[0m\n\u001b[0;32m      5\u001b[0m         \u001b[1;32mif\u001b[0m \u001b[0mint\u001b[0m\u001b[1;33m(\u001b[0m\u001b[0mkesir\u001b[0m\u001b[1;33m[\u001b[0m\u001b[1;36m0\u001b[0m\u001b[1;33m]\u001b[0m\u001b[1;33m)\u001b[0m\u001b[1;33m%\u001b[0m\u001b[0mi\u001b[0m \u001b[1;32mand\u001b[0m \u001b[0mint\u001b[0m\u001b[1;33m(\u001b[0m\u001b[0mkesir\u001b[0m\u001b[1;33m[\u001b[0m\u001b[1;36m2\u001b[0m\u001b[1;33m]\u001b[0m\u001b[1;33m)\u001b[0m\u001b[1;33m%\u001b[0m\u001b[0mi\u001b[0m \u001b[1;33m:\u001b[0m\u001b[1;33m\u001b[0m\u001b[1;33m\u001b[0m\u001b[0m\n",
      "\u001b[1;31mTypeError\u001b[0m: 'float' object is not iterable"
     ]
    }
   ],
   "metadata": {}
  },
  {
   "cell_type": "code",
   "execution_count": 1,
   "source": [
    "a= \"9/5\"\r\n",
    "b=list(a)\r\n",
    "b"
   ],
   "outputs": [
    {
     "output_type": "execute_result",
     "data": {
      "text/plain": [
       "['9', '/', '5']"
      ]
     },
     "metadata": {},
     "execution_count": 1
    }
   ],
   "metadata": {}
  }
 ],
 "metadata": {
  "kernelspec": {
   "name": "python3",
   "display_name": "Python 3.9.6 64-bit"
  },
  "language_info": {
   "codemirror_mode": {
    "name": "ipython",
    "version": 3
   },
   "file_extension": ".py",
   "mimetype": "text/x-python",
   "name": "python",
   "nbconvert_exporter": "python",
   "pygments_lexer": "ipython3",
   "version": "3.9.6"
  },
  "interpreter": {
   "hash": "4f77006a7ea4363e7f455dab2a4eac849c4d183e0f3df07af1fa2c4918595da7"
  }
 },
 "nbformat": 4,
 "nbformat_minor": 5
}