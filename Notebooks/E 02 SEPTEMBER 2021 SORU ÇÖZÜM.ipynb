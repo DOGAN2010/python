{
 "cells": [
  {
   "cell_type": "code",
   "execution_count": 1,
   "id": "5c72d796",
   "metadata": {},
   "outputs": [],
   "source": [
    "my_disc ={}\n"
   ]
  },
  {
   "cell_type": "code",
   "execution_count": 4,
   "id": "f1385d48",
   "metadata": {},
   "outputs": [],
   "source": [
    "my_disc[\"aslı\"]=23\n"
   ]
  },
  {
   "cell_type": "code",
   "execution_count": 5,
   "id": "1292dd9e",
   "metadata": {},
   "outputs": [],
   "source": [
    "my_disc[\"alina\"]=29"
   ]
  },
  {
   "cell_type": "code",
   "execution_count": 6,
   "id": "69e252c3",
   "metadata": {},
   "outputs": [
    {
     "data": {
      "text/plain": [
       "{'aslı': 23, 'alina': 29}"
      ]
     },
     "execution_count": 6,
     "metadata": {},
     "output_type": "execute_result"
    }
   ],
   "source": [
    "my_disc"
   ]
  },
  {
   "cell_type": "code",
   "execution_count": 9,
   "id": "47cab34f",
   "metadata": {},
   "outputs": [
    {
     "data": {
      "text/plain": [
       "dict_keys(['aslı', 'alina'])"
      ]
     },
     "execution_count": 9,
     "metadata": {},
     "output_type": "execute_result"
    }
   ],
   "source": [
    "my_disc.keys()"
   ]
  },
  {
   "cell_type": "code",
   "execution_count": 10,
   "id": "a7369a6b",
   "metadata": {},
   "outputs": [
    {
     "data": {
      "text/plain": [
       "dict_values([23, 29])"
      ]
     },
     "execution_count": 10,
     "metadata": {},
     "output_type": "execute_result"
    }
   ],
   "source": [
    "my_disc.values()"
   ]
  },
  {
   "cell_type": "code",
   "execution_count": 13,
   "id": "40a883b4",
   "metadata": {},
   "outputs": [],
   "source": [
    "my_disc[\"aslı\"] +=1"
   ]
  },
  {
   "cell_type": "code",
   "execution_count": 14,
   "id": "d1d22e81",
   "metadata": {},
   "outputs": [
    {
     "data": {
      "text/plain": [
       "{'aslı': 25, 'alina': 29}"
      ]
     },
     "execution_count": 14,
     "metadata": {},
     "output_type": "execute_result"
    }
   ],
   "source": [
    "my_disc"
   ]
  },
  {
   "cell_type": "code",
   "execution_count": 16,
   "id": "1c4366ac",
   "metadata": {},
   "outputs": [],
   "source": [
    "my_disc[2] =\" iki\""
   ]
  },
  {
   "cell_type": "code",
   "execution_count": 17,
   "id": "030bb46c",
   "metadata": {},
   "outputs": [
    {
     "data": {
      "text/plain": [
       "{'aslı': 25, 'alina': 29, 2: ' iki'}"
      ]
     },
     "execution_count": 17,
     "metadata": {},
     "output_type": "execute_result"
    }
   ],
   "source": [
    "my_disc"
   ]
  },
  {
   "cell_type": "code",
   "execution_count": 18,
   "id": "208dfa03",
   "metadata": {},
   "outputs": [
    {
     "data": {
      "text/plain": [
       "dict_keys(['aslı', 'alina', 2])"
      ]
     },
     "execution_count": 18,
     "metadata": {},
     "output_type": "execute_result"
    }
   ],
   "source": [
    "my_disc.keys()"
   ]
  },
  {
   "cell_type": "markdown",
   "id": "837c7cad",
   "metadata": {},
   "source": [
    "Bir cümledeki her harfin sayısını sayın.\n",
    "Çalıştığınız departman kelime/metin analizi yapan bir proje yapımını üstlenmiştir. Bu proje kapsamında girilen cümlelerdeki harf veya karakter sayısını hesaplamanız istenmektedir.\n",
    "Bir Python programı yazın;\n",
    "1.Kullanıcıdan bir cümle alır,\n",
    "2. Cümlenin her harfini sayar,\n",
    "3.Harfleri/karakterleri anahtar, sayılan sayıları ise değer olarak sözlükte toplar."
   ]
  },
  {
   "cell_type": "code",
   "execution_count": 19,
   "id": "233d1746",
   "metadata": {},
   "outputs": [
    {
     "name": "stdout",
     "output_type": "stream",
     "text": [
      "Please enter a setence :bu ders sondu\n",
      "{'b': 1, 'u': 2, ' ': 2, 'd': 2, 'e': 1, 'r': 1, 's': 2, 'o': 1, 'n': 1}\n"
     ]
    }
   ],
   "source": [
    "user = input(\"Please enter a setence :\")\n",
    "word_dict = {}\n",
    "for i in user :\n",
    "    if i in word_dict:\n",
    "        word_dict[i] +=1\n",
    "    else :\n",
    "        word_dict[i] = 1\n",
    "        \n",
    "print(word_dict)"
   ]
  },
  {
   "cell_type": "code",
   "execution_count": 21,
   "id": "2b0f8ca1",
   "metadata": {},
   "outputs": [],
   "source": [
    "veri = [\"a\", \"b\", True, (False, 1), {\"1\" : 2}, [1,2], {\"2\" : \"two\"}, {2, \"3\"}, \"c\", 23, 0]"
   ]
  },
  {
   "cell_type": "code",
   "execution_count": 36,
   "id": "b2149ec9",
   "metadata": {},
   "outputs": [],
   "source": [
    "tipler = [\"int\", \"str\", \"bool\", \"list\", \"tuple\", \"dict\", \"set\", \"float\"]"
   ]
  },
  {
   "cell_type": "code",
   "execution_count": 37,
   "id": "af85a0c9",
   "metadata": {},
   "outputs": [
    {
     "data": {
      "text/plain": [
       "{'int': 0,\n",
       " 'str': 0,\n",
       " 'bool': 0,\n",
       " 'list': 0,\n",
       " 'tuple': 0,\n",
       " 'dict': 0,\n",
       " 'set': 0,\n",
       " 'float': 0}"
      ]
     },
     "execution_count": 37,
     "metadata": {},
     "output_type": "execute_result"
    }
   ],
   "source": [
    "toplam = {}.fromkeys(tipler, 0)\n",
    "toplam"
   ]
  },
  {
   "cell_type": "code",
   "execution_count": 38,
   "id": "40b44764",
   "metadata": {},
   "outputs": [
    {
     "data": {
      "text/plain": [
       "11"
      ]
     },
     "execution_count": 38,
     "metadata": {},
     "output_type": "execute_result"
    }
   ],
   "source": [
    "len(veri)"
   ]
  },
  {
   "cell_type": "code",
   "execution_count": 39,
   "id": "7dfdabca",
   "metadata": {},
   "outputs": [
    {
     "data": {
      "text/plain": [
       "str"
      ]
     },
     "execution_count": 39,
     "metadata": {},
     "output_type": "execute_result"
    }
   ],
   "source": [
    "type(veri[0])"
   ]
  },
  {
   "cell_type": "code",
   "execution_count": 40,
   "id": "57bf5c66",
   "metadata": {},
   "outputs": [],
   "source": [
    "for i in range(len(veri)) :\n",
    "    if type(veri[i]) == int : toplam[\"int\"] += 1\n",
    "    elif type(veri[i]) == str : toplam[\"str\"] += 1\n",
    "    elif type(veri[i]) == bool : toplam[\"bool\"] += 1\n",
    "    elif type(veri[i]) == list : toplam[\"list\"] += 1\n",
    "    elif type(veri[i]) == tuple : toplam[\"tuple\"] += 1\n",
    "    elif type(veri[i]) == dict : toplam[\"dict\"] += 1\n",
    "    elif type(veri[i]) == set : toplam[\"set\"] += 1\n",
    "    elif tyoe(veri[i]) == float : toplam[\"float\"] +=1"
   ]
  },
  {
   "cell_type": "code",
   "execution_count": 41,
   "id": "2725b88a",
   "metadata": {},
   "outputs": [
    {
     "data": {
      "text/plain": [
       "{'int': 2,\n",
       " 'str': 3,\n",
       " 'bool': 1,\n",
       " 'list': 1,\n",
       " 'tuple': 1,\n",
       " 'dict': 2,\n",
       " 'set': 1,\n",
       " 'float': 0}"
      ]
     },
     "execution_count": 41,
     "metadata": {},
     "output_type": "execute_result"
    }
   ],
   "source": [
    "toplam"
   ]
  },
  {
   "cell_type": "markdown",
   "id": "c1ac2bd2",
   "metadata": {},
   "source": [
    "# OBEB (Ortak Bölenlerin En Büyüğü)"
   ]
  },
  {
   "cell_type": "code",
   "execution_count": 42,
   "id": "a533beb7",
   "metadata": {},
   "outputs": [],
   "source": [
    "def obeb(a, b) :\n",
    "    \n",
    "    \"\"\"ilk parametreyi büyük olan sayı olarak giriniz\"\"\"\n",
    "    \n",
    "    if b == 0 :\n",
    "        return a\n",
    "    else :\n",
    "        return obeb(b, a % b)"
   ]
  },
  {
   "cell_type": "code",
   "execution_count": 45,
   "id": "95ab5d85",
   "metadata": {},
   "outputs": [
    {
     "data": {
      "text/plain": [
       "'ilk parametreyi büyük olan sayı olarak giriniz'"
      ]
     },
     "execution_count": 45,
     "metadata": {},
     "output_type": "execute_result"
    }
   ],
   "source": [
    "obeb.__doc__"
   ]
  },
  {
   "cell_type": "code",
   "execution_count": 50,
   "id": "5e27e79c",
   "metadata": {},
   "outputs": [
    {
     "data": {
      "text/plain": [
       "2"
      ]
     },
     "execution_count": 50,
     "metadata": {},
     "output_type": "execute_result"
    }
   ],
   "source": [
    "obeb(152, 0)"
   ]
  },
  {
   "cell_type": "code",
   "execution_count": 47,
   "id": "0574b165",
   "metadata": {},
   "outputs": [
    {
     "data": {
      "text/plain": [
       "2"
      ]
     },
     "execution_count": 47,
     "metadata": {},
     "output_type": "execute_result"
    }
   ],
   "source": [
    "obeb(154,24)"
   ]
  },
  {
   "cell_type": "code",
   "execution_count": 48,
   "id": "d1c6ba4c",
   "metadata": {},
   "outputs": [
    {
     "data": {
      "text/plain": [
       "5"
      ]
     },
     "execution_count": 48,
     "metadata": {},
     "output_type": "execute_result"
    }
   ],
   "source": [
    "obeb(25, 65)"
   ]
  },
  {
   "cell_type": "markdown",
   "id": "7e0889fc",
   "metadata": {},
   "source": [
    "# OKEK (En Küçük Ortak Kat)"
   ]
  },
  {
   "cell_type": "code",
   "execution_count": 114,
   "id": "7f1f9633",
   "metadata": {},
   "outputs": [],
   "source": [
    "def okek(a, b) :\n",
    "    \"\"\"ilk parametreyi büyük olan sayı olarak giriniz \"\"\"\n",
    "    if a>b :\n",
    "        for i in range(1, b+1) :\n",
    "            if (a%i == 0) and (b%i ==0) :\n",
    "                obeb = i\n",
    "        print(int(a*b//obeb))  \n",
    "  "
   ]
  },
  {
   "cell_type": "code",
   "execution_count": 115,
   "id": "42950ae4",
   "metadata": {},
   "outputs": [
    {
     "name": "stdout",
     "output_type": "stream",
     "text": [
      "24\n"
     ]
    }
   ],
   "source": [
    "okek(12, 8)"
   ]
  },
  {
   "cell_type": "code",
   "execution_count": 116,
   "id": "7073de06",
   "metadata": {},
   "outputs": [
    {
     "data": {
      "text/plain": [
       "'ilk parametreyi büyük olan sayı olarak giriniz '"
      ]
     },
     "execution_count": 116,
     "metadata": {},
     "output_type": "execute_result"
    }
   ],
   "source": [
    "okek.__doc__"
   ]
  },
  {
   "cell_type": "code",
   "execution_count": 112,
   "id": "a85f2b8c",
   "metadata": {},
   "outputs": [
    {
     "name": "stdout",
     "output_type": "stream",
     "text": [
      "325\n"
     ]
    }
   ],
   "source": [
    "okek(65, 25)"
   ]
  },
  {
   "cell_type": "code",
   "execution_count": 83,
   "id": "c2d5f5a5",
   "metadata": {},
   "outputs": [
    {
     "name": "stdout",
     "output_type": "stream",
     "text": [
      "Birinci Sayıyı Giriniz : 32\n",
      "İkinci Sayıyı Giriniz : 16\n",
      "Ebob =  16\n",
      "Ekok =  32\n"
     ]
    }
   ],
   "source": [
    "sayi1 = int(input(\"Birinci Sayıyı Giriniz : \"))\n",
    "sayi2 = int(input(\"İkinci Sayıyı Giriniz : \"))\n",
    "if (sayi1>sayi2):\n",
    "    kucuksayi = sayi2\n",
    "else:\n",
    "    kucuksayi = sayi1\n",
    "for i in range(1,kucuksayi+1):\n",
    "    if (sayi1 % i==0) and (sayi2%i ==0):\n",
    "        ebob = i\n",
    "print(\"Ebob = \",ebob)\n",
    "print(\"Ekok = \", (sayi1*sayi2)//ebob)"
   ]
  },
  {
   "cell_type": "markdown",
   "id": "8e6c2298",
   "metadata": {},
   "source": [
    "# Given a list such [1, 2, 3] get an all possible output combinations"
   ]
  },
  {
   "cell_type": "markdown",
   "id": "8dcc700f",
   "metadata": {},
   "source": [
    "Output:\n",
    "\n",
    "[\n",
    "  [1,2,3],\n",
    "  [1,3,2],\n",
    "  [2,1,3],\n",
    "  [2,3,1],\n",
    "  [3,1,2],\n",
    "  [3,2,1]\n",
    "]"
   ]
  },
  {
   "cell_type": "code",
   "execution_count": null,
   "id": "25fa9dba",
   "metadata": {},
   "outputs": [],
   "source": [
    "# solution = [[]]\n",
    "\n",
    "# solution - 1 = [[1], [2], [3]]\n",
    "\n",
    "# solution - 2 = [[1, 2], [1, 3], [2, 1], [2, 3], [3, 1], [3, 2]]\n",
    "\n",
    "# solution - 3 = [[1, 2, 3], [1, 3, 2], [2, 1, 3], [2, 3, 1], [3, 1, 2], [3, 2, 1]]\n"
   ]
  },
  {
   "cell_type": "code",
   "execution_count": 1,
   "id": "565e91f0",
   "metadata": {},
   "outputs": [],
   "source": [
    "num = [1, 2, 3]\n",
    "num_set = set(num)"
   ]
  },
  {
   "cell_type": "code",
   "execution_count": 3,
   "id": "b40c5082",
   "metadata": {},
   "outputs": [],
   "source": [
    "solution = [[]]"
   ]
  },
  {
   "cell_type": "code",
   "execution_count": 4,
   "id": "5028d8e2",
   "metadata": {},
   "outputs": [
    {
     "name": "stdout",
     "output_type": "stream",
     "text": [
      "[[1], [2], [3]]\n",
      "[[1, 2], [1, 3], [2, 1], [2, 3], [3, 1], [3, 2]]\n",
      "[[1, 2, 3], [1, 3, 2], [2, 1, 3], [2, 3, 1], [3, 1, 2], [3, 2, 1]]\n"
     ]
    }
   ],
   "source": [
    "for index in range(len(num)) :\n",
    "    solution = [i + [j] for i in solution for j in num_set.difference(set(i))]\n",
    "    print(solution)"
   ]
  },
  {
   "cell_type": "code",
   "execution_count": null,
   "id": "5aa1f55c",
   "metadata": {},
   "outputs": [],
   "source": []
  }
 ],
 "metadata": {
  "kernelspec": {
   "display_name": "Python 3 (ipykernel)",
   "language": "python",
   "name": "python3"
  },
  "language_info": {
   "codemirror_mode": {
    "name": "ipython",
    "version": 3
   },
   "file_extension": ".py",
   "mimetype": "text/x-python",
   "name": "python",
   "nbconvert_exporter": "python",
   "pygments_lexer": "ipython3",
   "version": "3.9.6"
  }
 },
 "nbformat": 4,
 "nbformat_minor": 5
}
