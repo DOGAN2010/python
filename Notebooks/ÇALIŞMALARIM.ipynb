{
 "cells": [
  {
   "cell_type": "code",
   "execution_count": 1,
   "source": [
    "d = []\r\n",
    "a = input(\"lütfen 1024 ile 0 arasında sayı giriniz : \")\r\n",
    "                                  \r\n",
    "    "
   ],
   "outputs": [
    {
     "output_type": "stream",
     "name": "stdout",
     "text": [
      "lütfen 1024 ile 0 arasında sayı giriniz : 12\n"
     ]
    },
    {
     "output_type": "execute_result",
     "data": {
      "text/plain": [
       "str"
      ]
     },
     "metadata": {},
     "execution_count": 1
    }
   ],
   "metadata": {}
  },
  {
   "cell_type": "code",
   "execution_count": 5,
   "source": [
    "d = []\r\n",
    "a = input(\"lütfen 1024 ile 0 arasında sayı giriniz : \")\r\n",
    "while not ((a==str(1024)) and (a==str(0))) :\r\n",
    "    num_list = a.split()\r\n",
    "    üst = len(num_list)\r\n",
    "    i = 0\r\n",
    "    for i in num_list :\r\n",
    "        i=int(i)\r\n",
    "        sum = 10**(üst-1)*i\r\n",
    "        i += 1\r\n"
   ],
   "outputs": [
    {
     "output_type": "stream",
     "name": "stdout",
     "text": [
      "lütfen 1024 ile 0 arasında sayı giriniz : 45\n"
     ]
    },
    {
     "output_type": "error",
     "ename": "KeyboardInterrupt",
     "evalue": "",
     "traceback": [
      "\u001b[1;31m---------------------------------------------------------------------------\u001b[0m",
      "\u001b[1;31mKeyboardInterrupt\u001b[0m                         Traceback (most recent call last)",
      "\u001b[1;32m~\\AppData\\Local\\Temp/ipykernel_13788/2501462882.py\u001b[0m in \u001b[0;36m<module>\u001b[1;34m\u001b[0m\n\u001b[0;32m      6\u001b[0m     \u001b[0mi\u001b[0m \u001b[1;33m=\u001b[0m \u001b[1;36m0\u001b[0m\u001b[1;33m\u001b[0m\u001b[1;33m\u001b[0m\u001b[0m\n\u001b[0;32m      7\u001b[0m     \u001b[1;32mfor\u001b[0m \u001b[0mi\u001b[0m \u001b[1;32min\u001b[0m \u001b[0mnum_list\u001b[0m \u001b[1;33m:\u001b[0m\u001b[1;33m\u001b[0m\u001b[1;33m\u001b[0m\u001b[0m\n\u001b[1;32m----> 8\u001b[1;33m         \u001b[0mi\u001b[0m\u001b[1;33m=\u001b[0m\u001b[0mint\u001b[0m\u001b[1;33m(\u001b[0m\u001b[0mi\u001b[0m\u001b[1;33m)\u001b[0m\u001b[1;33m\u001b[0m\u001b[1;33m\u001b[0m\u001b[0m\n\u001b[0m\u001b[0;32m      9\u001b[0m         \u001b[0msum\u001b[0m \u001b[1;33m=\u001b[0m \u001b[1;36m10\u001b[0m\u001b[1;33m**\u001b[0m\u001b[1;33m(\u001b[0m\u001b[0müst\u001b[0m\u001b[1;33m-\u001b[0m\u001b[1;36m1\u001b[0m\u001b[1;33m)\u001b[0m\u001b[1;33m*\u001b[0m\u001b[0mi\u001b[0m\u001b[1;33m\u001b[0m\u001b[1;33m\u001b[0m\u001b[0m\n\u001b[0;32m     10\u001b[0m         \u001b[0mi\u001b[0m \u001b[1;33m+=\u001b[0m \u001b[1;36m1\u001b[0m\u001b[1;33m\u001b[0m\u001b[1;33m\u001b[0m\u001b[0m\n",
      "\u001b[1;31mKeyboardInterrupt\u001b[0m: "
     ]
    }
   ],
   "metadata": {}
  },
  {
   "cell_type": "code",
   "execution_count": 43,
   "source": [
    "x = []\r\n",
    "a = int(input(\"lütfen 1024 ile 0 arasında sayı giriniz : \"))\r\n",
    "while 0 < a < 1024 :\r\n",
    "    a = int(input(\"lütfen 1024 ile 0 arasında sayı giriniz : \"))\r\n",
    "    if a>0 :\r\n",
    "        a = a // 2\r\n",
    "        b = a % 2\r\n",
    "        x.append(b)\r\n",
    "        print(x, end = \"\")\r\n",
    "        if (a==0 and a==2):\r\n",
    "            b=1\r\n",
    "            break\r\n",
    "  "
   ],
   "outputs": [
    {
     "output_type": "stream",
     "name": "stdout",
     "text": [
      "lütfen 1024 ile 0 arasında sayı giriniz : 0\n"
     ]
    }
   ],
   "metadata": {}
  },
  {
   "cell_type": "code",
   "execution_count": 26,
   "source": [
    "#1 1 2 3 5 8 13\r\n",
    "#Fibonacci dizisini n nci terime kadar görüntüleyen program, burada n kullanıcı tarafından sağlanır\r\n",
    "\r\n",
    "\r\n",
    "# farklı bir sonuç için bu değeri değiştirin\r\n",
    "# nterms = 11\r\n",
    "a = []\r\n",
    "# eğer terimi kullanıcının belirlemesini isterseniz alttaki satırın başındaki # işareti kaldırın\r\n",
    "#\r\n",
    "nterms = int(input(\"Kaç terime kadar? \"))\r\n",
    "\r\n",
    "# İlk iki terim\r\n",
    "n1 = 0\r\n",
    "n2 = 1\r\n",
    "count = 0\r\n",
    "toplam =0\r\n",
    "\r\n",
    "# Buraa girilen terimin geçerli olupğ oladığını kontrol ediyoruz.\r\n",
    "if nterms <= 0:\r\n",
    "    print(\"Please enter a positive integer\")\r\n",
    "elif nterms == 1:\r\n",
    "    print(\"Fibonacci sequence upto\",nterms,\":\")\r\n",
    "    print(n1)\r\n",
    "else:\r\n",
    "    print(\"Fibonacci sequence upto\",nterms,\":\")\r\n",
    "    while count < nterms:\r\n",
    "        print(n1,end=' , ')\r\n",
    "        if(n1%2==0):\r\n",
    "            toplam =toplam + n1\r\n",
    "            a.append(toplam)\r\n",
    "        nth = n1 + n2\r\n",
    "       # değeri güncelliyoruz\r\n",
    "        n1 = n2\r\n",
    "        n2 = nth\r\n",
    "        count += 1\r\n",
    "\r\n",
    "print(a)"
   ],
   "outputs": [
    {
     "output_type": "stream",
     "name": "stdout",
     "text": [
      "Kaç terime kadar? 100\n",
      "Fibonacci sequence upto 100 :\n",
      "0 , 1 , 1 , 2 , 3 , 5 , 8 , 13 , 21 , 34 , 55 , 89 , 144 , 233 , 377 , 610 , 987 , 1597 , 2584 , 4181 , 6765 , 10946 , 17711 , 28657 , 46368 , 75025 , 121393 , 196418 , 317811 , 514229 , 832040 , 1346269 , 2178309 , 3524578 , 5702887 , 9227465 , 14930352 , 24157817 , 39088169 , 63245986 , 102334155 , 165580141 , 267914296 , 433494437 , 701408733 , 1134903170 , 1836311903 , 2971215073 , 4807526976 , 7778742049 , 12586269025 , 20365011074 , 32951280099 , 53316291173 , 86267571272 , 139583862445 , 225851433717 , 365435296162 , 591286729879 , 956722026041 , 1548008755920 , 2504730781961 , 4052739537881 , 6557470319842 , 10610209857723 , 17167680177565 , 27777890035288 , 44945570212853 , 72723460248141 , 117669030460994 , 190392490709135 , 308061521170129 , 498454011879264 , 806515533049393 , 1304969544928657 , 2111485077978050 , 3416454622906707 , 5527939700884757 , 8944394323791464 , 14472334024676221 , 23416728348467685 , 37889062373143906 , 61305790721611591 , 99194853094755497 , 160500643816367088 , 259695496911122585 , 420196140727489673 , 679891637638612258 , 1100087778366101931 , 1779979416004714189 , 2880067194370816120 , 4660046610375530309 , 7540113804746346429 , 12200160415121876738 , 19740274219868223167 , 31940434634990099905 , 51680708854858323072 , 83621143489848422977 , 135301852344706746049 , 218922995834555169026 , [0, 2, 10, 44, 188, 798, 3382, 14328, 60696, 257114, 1089154, 4613732, 19544084, 82790070, 350704366, 1485607536, 6293134512, 26658145586, 112925716858, 478361013020, 2026369768940, 8583840088782, 36361730124070, 154030760585064, 652484772464328, 2763969850442378, 11708364174233842, 49597426547377748, 210098070363744836, 889989708002357094, 3770056902373173214, 15970217317495049952, 67650926172353373024, 286573922006908542050]\n"
     ]
    }
   ],
   "metadata": {}
  },
  {
   "cell_type": "markdown",
   "source": [
    "Bir üçgenin eşkenar, ikizkenar veya çeşitkenar olup olmadığını kontrol eden bir Python programı yazın. Not : Eşkenar üçgen, üç tarafı da eşit olan bir üçgendir. çeşitkenar üçgeni, üç eşit olmayan kenarı olan bir üçgendir. İkizkenar üçgen, (en az) iki kenarı eşit olan bir üçgendir. Örnek Çıktı: x: 6 y:8 z:12 Eşkenar olmayan üçgen"
   ],
   "metadata": {}
  },
  {
   "cell_type": "code",
   "execution_count": 34,
   "source": [
    "a = int(input(\"Üçgenlerin bir kenarı için bir sayı giriniz: \"))\r\n",
    "b = int(input(\"Üçgenlerin bir kenarı için bir sayı giriniz: \"))\r\n",
    "c = int(input(\"Üçgenlerin bir kenarı için bir sayı giriniz: \"))\r\n",
    "\r\n",
    "while (((a+b)>c) and ((a+c)>b) and ((b+c)>a)) :\r\n",
    " \r\n",
    "    \r\n",
    "    if ((a == b) and (a!=c) and (b!=c))  :\r\n",
    "        print(\"a: {}  b: {}  c: {}  ikizkenar üçgen \".format(a, b, c))\r\n",
    "        \r\n",
    "    elif ((a == c) and (a!=b) and (c!=b))  :\r\n",
    "        print(\"a: {}  b: {}  c: {}  ikizkenar üçgen \".format(a, b, c))\r\n",
    "    \r\n",
    "    elif ((b == c) and (b!=a) and (c!=a))  :\r\n",
    "        print(\"a: {}  b: {}  c: {}  ikizkenar üçgen \".format(a, b, c))\r\n",
    "\r\n",
    "    elif ((b != a) and (b!=c) and (a!=c)):\r\n",
    "        print(\"a: {}  b: {}  c: {}  çeşitkenar üçgen \".format(a, b, c))\r\n",
    "    \r\n",
    "    else :\r\n",
    "        print(\"a: {}  b: {}  c: {}  eşkenar üçgen \".format(a, b, c))\r\n",
    "    break"
   ],
   "outputs": [
    {
     "output_type": "stream",
     "name": "stdout",
     "text": [
      "Üçgenlerin bir kenarı için bir sayı giriniz: 3\n",
      "Üçgenlerin bir kenarı için bir sayı giriniz: 3\n",
      "Üçgenlerin bir kenarı için bir sayı giriniz: 9\n"
     ]
    }
   ],
   "metadata": {}
  },
  {
   "cell_type": "code",
   "execution_count": 39,
   "source": [
    "a = int(input(\"Üçgenlerin bir kenarı için bir sayı giriniz: \"))\r\n",
    "b = int(input(\"Üçgenlerin bir kenarı için bir sayı giriniz: \"))\r\n",
    "c = int(input(\"Üçgenlerin bir kenarı için bir sayı giriniz: \"))\r\n",
    "\r\n",
    "while (((a+b)>c) and ((a+c)>b) and ((b+c)>a)) :\r\n",
    " \r\n",
    "    \r\n",
    "    if ((a == b) and (a!=c) and (b!=c))  :\r\n",
    "        print(\"a: {}  b: {}  c: {}  ikizkenar üçgen \".format(a, b, c))\r\n",
    "        \r\n",
    "    elif ((a == c) and (a!=b) and (c!=b))  :\r\n",
    "        print(\"a: {}  b: {}  c: {}  ikizkenar üçgen \".format(a, b, c))\r\n",
    "    \r\n",
    "    elif ((b == c) and (b!=a) and (c!=a))  :\r\n",
    "        print(\"a: {}  b: {}  c: {}  ikizkenar üçgen \".format(a, b, c))\r\n",
    "\r\n",
    "    elif ((b != a) and (b!=c) and (a!=c)):\r\n",
    "        print(\"a: {}  b: {}  c: {}  çeşitkenar üçgen \".format(a, b, c))\r\n",
    "    \r\n",
    "    else :\r\n",
    "        print(\"a: {}  b: {}  c: {}  eşkenar üçgen \".format(a, b, c))\r\n",
    "    break\r\n",
    "        \r\n",
    "a = int(input(\"Üçgenlerin bir kenarı için bir sayı giriniz: \"))\r\n",
    "b = int(input(\"Üçgenlerin bir kenarı için bir sayı giriniz: \"))\r\n",
    "c = int(input(\"Üçgenlerin bir kenarı için bir sayı giriniz: \"))\r\n",
    "\r\n"
   ],
   "outputs": [
    {
     "output_type": "stream",
     "name": "stdout",
     "text": [
      "Üçgenlerin bir kenarı için bir sayı giriniz: 3\n",
      "Üçgenlerin bir kenarı için bir sayı giriniz: 3\n",
      "Üçgenlerin bir kenarı için bir sayı giriniz: 9\n",
      "Üçgenlerin bir kenarı için bir sayı giriniz: 3\n",
      "Üçgenlerin bir kenarı için bir sayı giriniz: 4\n",
      "Üçgenlerin bir kenarı için bir sayı giriniz: 5\n"
     ]
    }
   ],
   "metadata": {}
  },
  {
   "cell_type": "code",
   "execution_count": 31,
   "source": [
    "a=[]\r\n",
    "i = ord(\"a\")\r\n",
    "for i in range(ord('a'),ord('z')+1) :\r\n",
    "    a.append(chr(i))\r\n",
    "    i+=1\r\n",
    "print(a)"
   ],
   "outputs": [
    {
     "output_type": "stream",
     "name": "stdout",
     "text": [
      "['a', 'b', 'c', 'd', 'e', 'f', 'g', 'h', 'i', 'j', 'k', 'l', 'm', 'n', 'o', 'p', 'q', 'r', 's', 't', 'u', 'v', 'w', 'x', 'y', 'z']\n"
     ]
    }
   ],
   "metadata": {}
  },
  {
   "cell_type": "code",
   "execution_count": 24,
   "source": [
    "harf = ['a', 'b', 'c', 'd', 'e', 'f', 'g', 'h', 'i', 'j', 'k', 'l', 'm', 'n', 'o', 'p', 'q', 'r', 's', 't', 'u', 'v', 'w', 'x', 'y', 'z']\r\n",
    "\r\n",
    "girdi = input(\"Lütfen Atbash şifresi için kelime giriniz : \")\r\n",
    "kelime = list(kelime)\r\n",
    "ayna = []\r\n",
    "i = 0\r\n",
    "\r\n",
    "\r\n",
    "for i in range(ord('a'),ord('z')+1) :\r\n",
    "    \r\n",
    "    d=(ord('a'),ord('z')+1)\r\n",
    "    k = i-len(harf)\r\n",
    "    a = harf[k]\r\n",
    "    ayna.append(a)\r\n",
    "    \r\n",
    "    print(\"{} kelimesinin ayna görüntüsü {}\".format(girdi, ayna))\r\n",
    "    \r\n",
    "    "
   ],
   "outputs": [
    {
     "output_type": "stream",
     "name": "stdout",
     "text": [
      "Lütfen Atbash şifresi için kelime giriniz : ac\n"
     ]
    },
    {
     "output_type": "error",
     "ename": "IndexError",
     "evalue": "list index out of range",
     "traceback": [
      "\u001b[1;31m---------------------------------------------------------------------------\u001b[0m",
      "\u001b[1;31mIndexError\u001b[0m                                Traceback (most recent call last)",
      "\u001b[1;32m~\\AppData\\Local\\Temp/ipykernel_9964/834738583.py\u001b[0m in \u001b[0;36m<module>\u001b[1;34m\u001b[0m\n\u001b[0;32m     10\u001b[0m \u001b[1;33m\u001b[0m\u001b[0m\n\u001b[0;32m     11\u001b[0m     \u001b[0mk\u001b[0m \u001b[1;33m=\u001b[0m \u001b[0mi\u001b[0m\u001b[1;33m-\u001b[0m\u001b[0mlen\u001b[0m\u001b[1;33m(\u001b[0m\u001b[0mharf\u001b[0m\u001b[1;33m)\u001b[0m\u001b[1;33m\u001b[0m\u001b[1;33m\u001b[0m\u001b[0m\n\u001b[1;32m---> 12\u001b[1;33m     \u001b[0ma\u001b[0m \u001b[1;33m=\u001b[0m \u001b[0mharf\u001b[0m\u001b[1;33m[\u001b[0m\u001b[0mk\u001b[0m\u001b[1;33m]\u001b[0m\u001b[1;33m\u001b[0m\u001b[1;33m\u001b[0m\u001b[0m\n\u001b[0m\u001b[0;32m     13\u001b[0m     \u001b[0mayna\u001b[0m\u001b[1;33m.\u001b[0m\u001b[0mappend\u001b[0m\u001b[1;33m(\u001b[0m\u001b[0ma\u001b[0m\u001b[1;33m)\u001b[0m\u001b[1;33m\u001b[0m\u001b[1;33m\u001b[0m\u001b[0m\n\u001b[0;32m     14\u001b[0m \u001b[1;33m\u001b[0m\u001b[0m\n",
      "\u001b[1;31mIndexError\u001b[0m: list index out of range"
     ]
    }
   ],
   "metadata": {}
  },
  {
   "cell_type": "code",
   "execution_count": 25,
   "source": [
    "a=(ord('a'),ord('z')+1)\r\n",
    "a"
   ],
   "outputs": [
    {
     "output_type": "execute_result",
     "data": {
      "text/plain": [
       "(97, 123)"
      ]
     },
     "metadata": {},
     "execution_count": 25
    }
   ],
   "metadata": {}
  },
  {
   "cell_type": "code",
   "execution_count": null,
   "source": [
    "if kelime[i] == harf[i-len(harf)]"
   ],
   "outputs": [],
   "metadata": {}
  },
  {
   "cell_type": "code",
   "execution_count": 26,
   "source": [
    "def listAlphabet():\r\n",
    "    return [chr(i) for i in range(ord('a'),ord('z')+1)]\r\n",
    "print(listAlphabet())"
   ],
   "outputs": [
    {
     "output_type": "stream",
     "name": "stdout",
     "text": [
      "['a', 'b', 'c', 'd', 'e', 'f', 'g', 'h', 'i', 'j', 'k', 'l', 'm', 'n', 'o', 'p', 'q', 'r', 's', 't', 'u', 'v', 'w', 'x', 'y', 'z']\n"
     ]
    }
   ],
   "metadata": {}
  },
  {
   "cell_type": "code",
   "execution_count": null,
   "source": [],
   "outputs": [],
   "metadata": {}
  },
  {
   "cell_type": "code",
   "execution_count": 19,
   "source": [
    "\r\n",
    "k = harf = ['a', 'b', 'c', 'd', 'e', 'f', 'g', 'h', 'i', 'j', 'k', 'l', 'm', 'n', 'o', 'p', 'q', 'r', 's', 't', 'u', 'v', 'w', 'x', 'y', 'z']\r\n",
    "len(harf)i-len(harf)\r\n",
    "a = harf[k]\r\n",
    "\r\n",
    "print(a)"
   ],
   "outputs": [
    {
     "output_type": "stream",
     "name": "stdout",
     "text": [
      "a\n"
     ]
    }
   ],
   "metadata": {}
  },
  {
   "cell_type": "code",
   "execution_count": 22,
   "source": [
    "harf = ['a', 'b', 'c', 'd', 'e', 'f', 'g', 'h', 'i', 'j', 'k', 'l', 'm', 'n', 'o', 'p', 'q', 'r', 's', 't', 'u', 'v', 'w', 'x', 'y', 'z']\r\n",
    "k = 0-len(harf)\r\n",
    "a = chr(k)\r\n",
    "a"
   ],
   "outputs": [
    {
     "output_type": "error",
     "ename": "ValueError",
     "evalue": "chr() arg not in range(0x110000)",
     "traceback": [
      "\u001b[1;31m---------------------------------------------------------------------------\u001b[0m",
      "\u001b[1;31mValueError\u001b[0m                                Traceback (most recent call last)",
      "\u001b[1;32m~\\AppData\\Local\\Temp/ipykernel_9964/2254634068.py\u001b[0m in \u001b[0;36m<module>\u001b[1;34m\u001b[0m\n\u001b[0;32m      1\u001b[0m \u001b[0mharf\u001b[0m \u001b[1;33m=\u001b[0m \u001b[1;33m[\u001b[0m\u001b[1;34m'a'\u001b[0m\u001b[1;33m,\u001b[0m \u001b[1;34m'b'\u001b[0m\u001b[1;33m,\u001b[0m \u001b[1;34m'c'\u001b[0m\u001b[1;33m,\u001b[0m \u001b[1;34m'd'\u001b[0m\u001b[1;33m,\u001b[0m \u001b[1;34m'e'\u001b[0m\u001b[1;33m,\u001b[0m \u001b[1;34m'f'\u001b[0m\u001b[1;33m,\u001b[0m \u001b[1;34m'g'\u001b[0m\u001b[1;33m,\u001b[0m \u001b[1;34m'h'\u001b[0m\u001b[1;33m,\u001b[0m \u001b[1;34m'i'\u001b[0m\u001b[1;33m,\u001b[0m \u001b[1;34m'j'\u001b[0m\u001b[1;33m,\u001b[0m \u001b[1;34m'k'\u001b[0m\u001b[1;33m,\u001b[0m \u001b[1;34m'l'\u001b[0m\u001b[1;33m,\u001b[0m \u001b[1;34m'm'\u001b[0m\u001b[1;33m,\u001b[0m \u001b[1;34m'n'\u001b[0m\u001b[1;33m,\u001b[0m \u001b[1;34m'o'\u001b[0m\u001b[1;33m,\u001b[0m \u001b[1;34m'p'\u001b[0m\u001b[1;33m,\u001b[0m \u001b[1;34m'q'\u001b[0m\u001b[1;33m,\u001b[0m \u001b[1;34m'r'\u001b[0m\u001b[1;33m,\u001b[0m \u001b[1;34m's'\u001b[0m\u001b[1;33m,\u001b[0m \u001b[1;34m't'\u001b[0m\u001b[1;33m,\u001b[0m \u001b[1;34m'u'\u001b[0m\u001b[1;33m,\u001b[0m \u001b[1;34m'v'\u001b[0m\u001b[1;33m,\u001b[0m \u001b[1;34m'w'\u001b[0m\u001b[1;33m,\u001b[0m \u001b[1;34m'x'\u001b[0m\u001b[1;33m,\u001b[0m \u001b[1;34m'y'\u001b[0m\u001b[1;33m,\u001b[0m \u001b[1;34m'z'\u001b[0m\u001b[1;33m]\u001b[0m\u001b[1;33m\u001b[0m\u001b[1;33m\u001b[0m\u001b[0m\n\u001b[0;32m      2\u001b[0m \u001b[0mk\u001b[0m \u001b[1;33m=\u001b[0m \u001b[1;36m0\u001b[0m\u001b[1;33m-\u001b[0m\u001b[0mlen\u001b[0m\u001b[1;33m(\u001b[0m\u001b[0mharf\u001b[0m\u001b[1;33m)\u001b[0m\u001b[1;33m\u001b[0m\u001b[1;33m\u001b[0m\u001b[0m\n\u001b[1;32m----> 3\u001b[1;33m \u001b[0ma\u001b[0m \u001b[1;33m=\u001b[0m \u001b[0mchr\u001b[0m\u001b[1;33m(\u001b[0m\u001b[0mk\u001b[0m\u001b[1;33m)\u001b[0m\u001b[1;33m\u001b[0m\u001b[1;33m\u001b[0m\u001b[0m\n\u001b[0m\u001b[0;32m      4\u001b[0m \u001b[0ma\u001b[0m\u001b[1;33m\u001b[0m\u001b[1;33m\u001b[0m\u001b[0m\n",
      "\u001b[1;31mValueError\u001b[0m: chr() arg not in range(0x110000)"
     ]
    }
   ],
   "metadata": {}
  },
  {
   "cell_type": "code",
   "execution_count": 23,
   "source": [
    "chr(69)"
   ],
   "outputs": [
    {
     "output_type": "execute_result",
     "data": {
      "text/plain": [
       "'E'"
      ]
     },
     "metadata": {},
     "execution_count": 23
    }
   ],
   "metadata": {}
  },
  {
   "cell_type": "markdown",
   "source": [
    "Görev : 1 ile girilen limit sayısı (n) arasındaki asal sayıları yazdırın.\n",
    "\n",
    "Yuvalanmış bir for döngüsü kullanabilirsiniz.\n",
    "Tüm bu numaraları bir listede toplayın\n",
    "n=100 için istenen çıktı:\n",
    "\n",
    "[2, 3, 5, 7, 11, 13, 17, 19, 23, 29, 31, 37, 41, 43, 47, 53, 59,\n",
    "61, 67, 71, 73, 79, 83, 89, 97]\n",
    "Not: Bu soru internette meşhurdur, bu yüzden bu ödevden daha fazla yararlanmak için bu görevi kendi başınıza tamamlamaya çalışın."
   ],
   "metadata": {}
  },
  {
   "cell_type": "code",
   "execution_count": 19,
   "source": [
    "print(\"1'den başlayarak girmiş oldugunuz sayıya kadar olan asal sayılarırı bulmak için\")\r\n",
    "\r\n",
    "a = int(input(\"Lütfen bir sayı giriniz : \"))\r\n",
    "prime_numbers =[]\r\n",
    "i = 2\r\n",
    "\r\n",
    "for i in range(2,a+1) :\r\n",
    "    for k in range(2,i+1):\r\n",
    "        if a%k == 0 :\r\n",
    "            prime_numbers.append(i)\r\n",
    "        \r\n",
    "print(prime_numbers)"
   ],
   "outputs": [
    {
     "output_type": "stream",
     "name": "stdout",
     "text": [
      "1'den başlayarak girmiş oldugunuz sayıya kadar olan asal sayılarırı bulmak için\n",
      "Lütfen bir sayı giriniz : 7\n",
      "[7]\n"
     ]
    }
   ],
   "metadata": {}
  },
  {
   "cell_type": "code",
   "execution_count": 22,
   "source": [
    "print(\"1'den başlayarak girmiş oldugunuz sayıya kadar olan asal sayılarırı bulmak için\")\r\n",
    "\r\n",
    "a = int(input(\"Lütfen bir sayı giriniz : \"))\r\n",
    "prime_numbers =[]\r\n",
    "i = 2\r\n",
    "\r\n",
    "for i in range(2,a+1) :\r\n",
    "    if a%i == 0 :\r\n",
    "        prime_numbers.append(i)\r\n",
    "        for k in range(2,i+1):\r\n",
    "            if a%k == 0 :\r\n",
    "                prime_numbers.append(i)\r\n",
    "print(prime_numbers)"
   ],
   "outputs": [
    {
     "output_type": "stream",
     "name": "stdout",
     "text": [
      "1'den başlayarak girmiş oldugunuz sayıya kadar olan asal sayılarırı bulmak için\n",
      "Lütfen bir sayı giriniz : 7\n",
      "[7, 7]\n"
     ]
    }
   ],
   "metadata": {}
  },
  {
   "cell_type": "code",
   "execution_count": null,
   "source": [
    "#Task : Write a program that takes a number from the user and prints the result to check if it is a prime number.\r\n",
    "\r\n",
    "num = int(input(\"To find out if a number you entered is a prime number;\\nEnter a Number: \"))\r\n",
    "\r\n",
    "\r\n",
    "if  num == 0 or num == 1:\r\n",
    "    print(num,\"is not a prime number\")\r\n",
    "else:\r\n",
    "    x=0\r\n",
    "for i in range(2,num):\r\n",
    "    if num % i==0 :\r\n",
    "        x=x+1\r\n",
    "        break\r\n",
    "if x!=0:\r\n",
    "      print(num,\" is not a prime number\")\r\n",
    "else:\r\n",
    "      print(num,\" is a prime number\")"
   ],
   "outputs": [],
   "metadata": {}
  },
  {
   "cell_type": "code",
   "execution_count": 35,
   "source": [
    ">>> def fib(n):    # write Fibonacci series up to n\r\n",
    "...     \"\"\"Print a Fibonacci series up to n.\"\"\"\r\n",
    "...     a, b = 1, 1\r\n",
    "...     while a < n:\r\n",
    "...         print(a, end=', ')\r\n",
    "...         a, b = b, a+b\r\n",
    "...         \r\n",
    "...       \r\n",
    ">>> # Now call the function we just defined:\r\n",
    "... fib(200)\r\n"
   ],
   "outputs": [
    {
     "output_type": "stream",
     "name": "stdout",
     "text": [
      "1, 1, 2, 3, 5, 8, 13, 21, 34, 55, 89, 144, "
     ]
    }
   ],
   "metadata": {}
  },
  {
   "cell_type": "code",
   "execution_count": 10,
   "source": [
    "while True :\r\n",
    "    number = input(\"enter a positive integer number : \")\r\n",
    "    digits = len(number)\r\n",
    "    summ = 0\r\n",
    "    if not number.isdigit() :\r\n",
    "        print(number, \" is invalid entry. Enter valid input.!\")\r\n",
    "    elif int(number) >= 0 :\r\n",
    "        for i in range(digits) :\r\n",
    "            summ = summ + int(number[i]) ** digits\r\n",
    "        if summ == int(number) :\r\n",
    "            print(number, \"is an Armstrong Number.\")\r\n",
    "            break\r\n",
    "        else :\r\n",
    "            print(number, \"is not an Armstrong Number. Sorry.\")\r\n",
    "            break"
   ],
   "outputs": [
    {
     "output_type": "stream",
     "name": "stdout",
     "text": [
      "enter a positive integer number : 121\n",
      "121 is not an Armstrong Number. Sorry.\n"
     ]
    }
   ],
   "metadata": {}
  },
  {
   "cell_type": "code",
   "execution_count": 12,
   "source": [
    "#amstrong sayı bulma\r\n",
    "while True:\r\n",
    "    number=input(\"enter a pozitife integer number: \")\r\n",
    "    digits=len(number)\r\n",
    "    summ=0\r\n",
    "    if not number.isdigit():\r\n",
    "        print(number,\"is invalid entry.Enter valid input.!\")\r\n",
    "    elif int(number)>0:\r\n",
    "        \r\n",
    "        for i in range(digits):\r\n",
    "            summ=summ+int(number[i])**digits\r\n",
    "        if summ==int(number):\r\n",
    "            print(number,\"is an armstrong number\")\r\n",
    "            break\r\n",
    "        else :\r\n",
    "            print(number,\"is not an Armstrong number.Sorry\")\r\n",
    "            break"
   ],
   "outputs": [
    {
     "output_type": "stream",
     "name": "stdout",
     "text": [
      "enter a pozitife integer number: 407\n",
      "407 is an armstrong number\n"
     ]
    }
   ],
   "metadata": {}
  },
  {
   "cell_type": "code",
   "execution_count": 4,
   "source": [
    "year=int(input(\"Enter year to be checked:\"))\r\n",
    "if(year % 4 == 0 and (year % 100 != 0 or year % 400 == 0)):\r\n",
    "    print(\"The year is a leap year!\")\r\n",
    "else:\r\n",
    "    print(year, \"isn't a leap year!\")"
   ],
   "outputs": [
    {
     "output_type": "stream",
     "name": "stdout",
     "text": [
      "Enter year to be checked:1200\n",
      "The year is a leap year!\n"
     ]
    }
   ],
   "metadata": {}
  },
  {
   "cell_type": "markdown",
   "source": [
    "düz metin.\n",
    "Görev : 1 ile girilen limit sayısı (n) arasındaki asal sayıları yazdırın.\n",
    "\n",
    "Yuvalanmış bir for döngüsü kullanabilirsiniz.\n",
    "Tüm bu numaraları bir listede toplayın\n",
    "n=100 için istenen çıktı:\n",
    "\n",
    "[2, 3, 5, 7, 11, 13, 17, 19, 23, 29, 31, 37, 41, 43, 47, 53, 59,\n",
    "61, 67, 71, 73, 79, 83, 89, 97]"
   ],
   "metadata": {}
  },
  {
   "cell_type": "code",
   "execution_count": 28,
   "source": [
    "prime_numbers = []\r\n",
    " \r\n",
    "for sayi in range(2, 100):\r\n",
    "    if sayi > 1:\r\n",
    "        for i in range(2,sayi):\r\n",
    "            if (sayi % i) == 0:\r\n",
    "                break\r\n",
    "        else:\r\n",
    "            prime_numbers.append(sayi)\r\n",
    "            \r\n",
    "print(\"Prime numbers from 1 to 100 : \", prime_numbers)"
   ],
   "outputs": [
    {
     "output_type": "stream",
     "name": "stdout",
     "text": [
      "Prime numbers from 1 to 100 :  [2, 3, 5, 7, 11, 13, 17, 19, 23, 29, 31, 37, 41, 43, 47, 53, 59, 61, 67, 71, 73, 79, 83, 89, 97]\n"
     ]
    }
   ],
   "metadata": {}
  },
  {
   "cell_type": "code",
   "execution_count": 36,
   "source": [
    "def my_function(a, b) :\r\n",
    "    return a*b\r\n",
    "    print(my_function)\r\n",
    "    \r\n",
    "my_function(3, 2)"
   ],
   "outputs": [
    {
     "output_type": "execute_result",
     "data": {
      "text/plain": [
       "6"
      ]
     },
     "metadata": {},
     "execution_count": 36
    }
   ],
   "metadata": {}
  },
  {
   "cell_type": "code",
   "execution_count": 40,
   "source": [
    "def my_function(a, b) :\r\n",
    "    return (a**2 + b**2)**0.5\r\n",
    "    print(my_function) \r\n",
    "my_function(3, 4)"
   ],
   "outputs": [
    {
     "output_type": "execute_result",
     "data": {
      "text/plain": [
       "5.0"
      ]
     },
     "metadata": {},
     "execution_count": 40
    }
   ],
   "metadata": {}
  },
  {
   "cell_type": "code",
   "execution_count": 41,
   "source": [
    "def my_function(a, b) :\r\n",
    "    return a*b\r\n",
    "    print(my_function) \r\n",
    "my_function(10, 20)"
   ],
   "outputs": [
    {
     "output_type": "execute_result",
     "data": {
      "text/plain": [
       "200"
      ]
     },
     "metadata": {},
     "execution_count": 41
    }
   ],
   "metadata": {}
  },
  {
   "cell_type": "code",
   "execution_count": 32,
   "source": [
    "def my_function(a, b) :\r\n",
    "    hypotenuse = (a**2 + b**2)**0.5\r\n",
    "    print(hypotenuse)    \r\n",
    "my_function(3, 4)"
   ],
   "outputs": [
    {
     "output_type": "stream",
     "name": "stdout",
     "text": [
      "5.0\n"
     ]
    }
   ],
   "metadata": {}
  },
  {
   "cell_type": "code",
   "execution_count": 34,
   "source": [
    "def longer(a, b):\r\n",
    "    if len(a) >= len(b):\r\n",
    "        return a\r\n",
    "    else :\r\n",
    "        return b\r\n",
    "\r\n",
    "print(longer('Richard', 'John'))"
   ],
   "outputs": [
    {
     "output_type": "stream",
     "name": "stdout",
     "text": [
      "Richard\n"
     ]
    }
   ],
   "metadata": {}
  },
  {
   "cell_type": "markdown",
   "source": [
    "1-) Diskriminatı bulunuz . Kullanıcıdan a,b.c sayılarını alarak.\n",
    "9:04\n",
    "2- )Vize Notunun %40 ' ı , Final Notunun %60'ını alarak ortalama notu hesaplayan,\n",
    "ortalama 50 den büyükse geçti, küçükse \"kaldı\" yazan programı yazdırınız.\n",
    "9:05\n",
    "3-) 1 den 100 e kadar olan sayıların toplamı bulunuz.\n",
    "9:05\n",
    "4-) 1 den n e kadar olan sayıların tek olanların toplamını buluuz. n kullanıcıdan alıacak\n",
    "9:06\n",
    "5-) n başlangıcından m bitişine kadar olan sayıların 7 ye bölünenleri bulunuz. (n ve m kullanıcıdan alınacak)\n",
    "9:07\n",
    "6 -)Kullanıcıdan ismini alıp tersten yazdıran sayıyı bulunuz . (For döngüsü kullanılarak yapınız, [::-1] ile değil )\n",
    "9:09\n",
    "arkadaşlar yapabileceğimiz sorular paylastım , Şahsen bende yazılan soruyu anlıyorum fakat yazarken zorlanıyorum o yüzden pratik yapma adına soru çözelim derim . basitten zora doğru gidip , belli bir süre sonra zaten bazı kodları düşünmeden yazmaya ve hızlanmaya başlayacağımızı düşünüyorum."
   ],
   "metadata": {}
  },
  {
   "cell_type": "code",
   "execution_count": 10,
   "source": [
    "# Diskriminatı bulunuz . Kullanıcıdan a,b.c sayılarını alarak.\r\n",
    "def disktriminat(a, b, c):\r\n",
    "    result = b**2 - 4*a*c\r\n",
    "    return result\r\n",
    "\r\n",
    "a= int(input(\"Lütfen Diskriminatı bulmak için bir sayı giriniz\"))\r\n",
    "b= int(input(\"Lütfen Diskriminatı bulmak için ikinci sayı giriniz\"))\r\n",
    "c= int(input(\"Lütfen Diskriminatı bulmak için üçüncü sayı giriniz\"))\r\n",
    "\r\n",
    "disktriminat(a, b, c)"
   ],
   "outputs": [
    {
     "output_type": "stream",
     "name": "stdout",
     "text": [
      "Lütfen Diskriminatı bulmak için bir sayı giriniz2\n",
      "Lütfen Diskriminatı bulmak için ikinci sayı giriniz3\n",
      "Lütfen Diskriminatı bulmak için üçüncü sayı giriniz4\n"
     ]
    },
    {
     "output_type": "execute_result",
     "data": {
      "text/plain": [
       "-23"
      ]
     },
     "metadata": {},
     "execution_count": 10
    }
   ],
   "metadata": {}
  },
  {
   "cell_type": "markdown",
   "source": [
    "Vize Notunun %40 ' ı , Final Notunun %60'ını alarak ortalama notu hesaplayan,\n",
    "ortalama 50 den büyükse geçti, küçükse \"kaldı\" yazan programı yazdırınız."
   ],
   "metadata": {}
  },
  {
   "cell_type": "code",
   "execution_count": 14,
   "source": [
    "def sınav(v, f):\r\n",
    "    result = v*40/100 + f*60/100\r\n",
    "    if result >= 50 :\r\n",
    "        print(\"GEÇTİNİZ puanınız : {}\".format(result))\r\n",
    "    else :\r\n",
    "        print(\"KALDINIZ puanınız : {}\".format(result))\r\n",
    "        \r\n",
    "v= int(input(\"Lütfen vize puanınızı giriniz : \"))\r\n",
    "f= int(input(\"Lütfen final puanınızı giriniz : \"))  \r\n",
    "sınav(v, f)"
   ],
   "outputs": [
    {
     "output_type": "stream",
     "name": "stdout",
     "text": [
      "Lütfen vize puanınızı giriniz50\n",
      "Lütfen final puanınızı giriniz60\n",
      "GEÇTİNİZ puanınız : 56.0\n"
     ]
    }
   ],
   "metadata": {}
  },
  {
   "cell_type": "code",
   "execution_count": 17,
   "source": [
    "# 1 den 100 e kadar olan sayıların toplamı bulunuz.\r\n",
    "total = 0\r\n",
    "for i in range(100):\r\n",
    "    total += i\r\n",
    "    \r\n",
    "print(total)"
   ],
   "outputs": [
    {
     "output_type": "stream",
     "name": "stdout",
     "text": [
      "4950\n"
     ]
    }
   ],
   "metadata": {}
  },
  {
   "cell_type": "code",
   "execution_count": 23,
   "source": [
    "#1 den n e kadar olan sayıların tek olanların toplamını buluuz. n kullanıcıdan alıacak\r\n",
    "n= int(input(\"Lütfen bir sayı giriniz : \"))\r\n",
    "total = 0\r\n",
    "for i in range(n):\r\n",
    "    if i%2 != 0 :\r\n",
    "        total += i\r\n",
    "    else :\r\n",
    "        pass\r\n",
    "        \r\n",
    "print(total)"
   ],
   "outputs": [
    {
     "output_type": "stream",
     "name": "stdout",
     "text": [
      "Lütfen bir sayı giriniz : 100\n",
      "2500\n"
     ]
    }
   ],
   "metadata": {}
  },
  {
   "cell_type": "code",
   "execution_count": 25,
   "source": [
    "# n başlangıcından m bitişine kadar olan sayıların 7 ye bölünenleri bulunuz. (n ve m kullanıcıdan alınacak)\r\n",
    "n= int(input(\"Lütfen bir sayı giriniz : \"))\r\n",
    "m= int(input(\"Lütfen ikinci sayıyı giriniz : \"))\r\n",
    "bölünenler = []\r\n",
    "for i in range(n, m, 1):\r\n",
    "    if i%7 == 0:\r\n",
    "        bölünenler.append(i)\r\n",
    "        \r\n",
    "print(bölünenler)\r\n",
    "        "
   ],
   "outputs": [
    {
     "output_type": "stream",
     "name": "stdout",
     "text": [
      "Lütfen bir sayı giriniz : 5\n",
      "Lütfen ikinci sayıyı giriniz : 50\n",
      "[7, 14, 21, 28, 35, 42, 49]\n"
     ]
    }
   ],
   "metadata": {}
  },
  {
   "cell_type": "code",
   "execution_count": 39,
   "source": [
    "# Kullanıcıdan ismini alıp tersten yazdıran sayıyı bulunuz . (For döngüsü kullanılarak yapınız, [::-1] ile değil )\r\n",
    "name = input(\"isminizi giriniz : \")\r\n",
    "name = name.stlip()\r\n",
    "a = len(name) + 1\r\n",
    "\r\n",
    "name_ters = \"\"\r\n",
    "i=0\r\n",
    "for i in range(a) :\r\n",
    "    name_ters += name[i]\r\n",
    "    i += i\r\n",
    "print(name_ters)\r\n",
    "    \r\n",
    "    "
   ],
   "outputs": [
    {
     "output_type": "stream",
     "name": "stdout",
     "text": [
      "isminizi giriniz : asd\n"
     ]
    },
    {
     "output_type": "error",
     "ename": "AttributeError",
     "evalue": "'str' object has no attribute 'stlip'",
     "traceback": [
      "\u001b[1;31m---------------------------------------------------------------------------\u001b[0m",
      "\u001b[1;31mAttributeError\u001b[0m                            Traceback (most recent call last)",
      "\u001b[1;32m~\\AppData\\Local\\Temp/ipykernel_10940/1765376300.py\u001b[0m in \u001b[0;36m<module>\u001b[1;34m\u001b[0m\n\u001b[0;32m      1\u001b[0m \u001b[1;31m# Kullanıcıdan ismini alıp tersten yazdıran sayıyı bulunuz . (For döngüsü kullanılarak yapınız, [::-1] ile değil )\u001b[0m\u001b[1;33m\u001b[0m\u001b[1;33m\u001b[0m\u001b[1;33m\u001b[0m\u001b[0m\n\u001b[0;32m      2\u001b[0m \u001b[0mname\u001b[0m \u001b[1;33m=\u001b[0m \u001b[0minput\u001b[0m\u001b[1;33m(\u001b[0m\u001b[1;34m\"isminizi giriniz : \"\u001b[0m\u001b[1;33m)\u001b[0m\u001b[1;33m\u001b[0m\u001b[1;33m\u001b[0m\u001b[0m\n\u001b[1;32m----> 3\u001b[1;33m \u001b[0mname\u001b[0m \u001b[1;33m=\u001b[0m \u001b[0mname\u001b[0m\u001b[1;33m.\u001b[0m\u001b[0mstlip\u001b[0m\u001b[1;33m(\u001b[0m\u001b[1;33m)\u001b[0m\u001b[1;33m\u001b[0m\u001b[1;33m\u001b[0m\u001b[0m\n\u001b[0m\u001b[0;32m      4\u001b[0m \u001b[0ma\u001b[0m \u001b[1;33m=\u001b[0m \u001b[0mlen\u001b[0m\u001b[1;33m(\u001b[0m\u001b[0mname\u001b[0m\u001b[1;33m)\u001b[0m \u001b[1;33m+\u001b[0m \u001b[1;36m1\u001b[0m\u001b[1;33m\u001b[0m\u001b[1;33m\u001b[0m\u001b[0m\n\u001b[0;32m      5\u001b[0m \u001b[1;33m\u001b[0m\u001b[0m\n",
      "\u001b[1;31mAttributeError\u001b[0m: 'str' object has no attribute 'stlip'"
     ]
    }
   ],
   "metadata": {}
  },
  {
   "cell_type": "code",
   "execution_count": 33,
   "source": [
    "name = input(\"isminizi giriniz : \")\r\n",
    "a = len(name) + 1\r\n",
    "a"
   ],
   "outputs": [
    {
     "output_type": "stream",
     "name": "stdout",
     "text": [
      "isminizi giriniz : asf\n"
     ]
    },
    {
     "output_type": "execute_result",
     "data": {
      "text/plain": [
       "4"
      ]
     },
     "metadata": {},
     "execution_count": 33
    }
   ],
   "metadata": {}
  },
  {
   "cell_type": "code",
   "execution_count": 40,
   "source": [
    "# Kullanıcıdan ismini alıp tersten yazdıran sayıyı bulunuz . (For döngüsü kullanılarak yapınız, [::-1] ile değil )\r\n",
    "name = input(\"isminizi giriniz : \")\r\n",
    "name = list(name)\r\n",
    "ters=\"\"\r\n",
    "for i in name[::-1] :\r\n",
    "    ters += i\r\n",
    "print(ters)   "
   ],
   "outputs": [
    {
     "output_type": "stream",
     "name": "stdout",
     "text": [
      "isminizi giriniz : aacdf\n",
      "fdcaa\n"
     ]
    }
   ],
   "metadata": {}
  },
  {
   "cell_type": "code",
   "execution_count": 1,
   "source": [
    "def alan(a, b) :\r\n",
    "    new = []\r\n",
    "    if b < a :\r\n",
    "        new.append(a, b, 1, 1)\r\n",
    "        return new\r\n",
    "\r\n",
    "\r\n",
    "\r\n",
    "a = int(input(\"a positive integer length : \"))\r\n",
    "b = int(input(\"a positive integer length : \"))\r\n",
    "\r\n",
    "alan(a, b)\r\n"
   ],
   "outputs": [
    {
     "output_type": "stream",
     "name": "stdout",
     "text": [
      "a positive integer length : 5\n",
      "a positive integer length : 3\n"
     ]
    },
    {
     "output_type": "error",
     "ename": "TypeError",
     "evalue": "list.append() takes exactly one argument (4 given)",
     "traceback": [
      "\u001b[1;31m---------------------------------------------------------------------------\u001b[0m",
      "\u001b[1;31mTypeError\u001b[0m                                 Traceback (most recent call last)",
      "\u001b[1;32m~\\AppData\\Local\\Temp/ipykernel_9720/2253854876.py\u001b[0m in \u001b[0;36m<module>\u001b[1;34m\u001b[0m\n\u001b[0;32m     10\u001b[0m \u001b[0mb\u001b[0m \u001b[1;33m=\u001b[0m \u001b[0mint\u001b[0m\u001b[1;33m(\u001b[0m\u001b[0minput\u001b[0m\u001b[1;33m(\u001b[0m\u001b[1;34m\"a positive integer length : \"\u001b[0m\u001b[1;33m)\u001b[0m\u001b[1;33m)\u001b[0m\u001b[1;33m\u001b[0m\u001b[1;33m\u001b[0m\u001b[0m\n\u001b[0;32m     11\u001b[0m \u001b[1;33m\u001b[0m\u001b[0m\n\u001b[1;32m---> 12\u001b[1;33m \u001b[0malan\u001b[0m\u001b[1;33m(\u001b[0m\u001b[0ma\u001b[0m\u001b[1;33m,\u001b[0m \u001b[0mb\u001b[0m\u001b[1;33m)\u001b[0m\u001b[1;33m\u001b[0m\u001b[1;33m\u001b[0m\u001b[0m\n\u001b[0m",
      "\u001b[1;32m~\\AppData\\Local\\Temp/ipykernel_9720/2253854876.py\u001b[0m in \u001b[0;36malan\u001b[1;34m(a, b)\u001b[0m\n\u001b[0;32m      2\u001b[0m     \u001b[0mnew\u001b[0m \u001b[1;33m=\u001b[0m \u001b[1;33m[\u001b[0m\u001b[1;33m]\u001b[0m\u001b[1;33m\u001b[0m\u001b[1;33m\u001b[0m\u001b[0m\n\u001b[0;32m      3\u001b[0m     \u001b[1;32mif\u001b[0m \u001b[0mb\u001b[0m \u001b[1;33m<\u001b[0m \u001b[0ma\u001b[0m \u001b[1;33m:\u001b[0m\u001b[1;33m\u001b[0m\u001b[1;33m\u001b[0m\u001b[0m\n\u001b[1;32m----> 4\u001b[1;33m         \u001b[0mnew\u001b[0m\u001b[1;33m.\u001b[0m\u001b[0mappend\u001b[0m\u001b[1;33m(\u001b[0m\u001b[0ma\u001b[0m\u001b[1;33m,\u001b[0m \u001b[0mb\u001b[0m\u001b[1;33m,\u001b[0m \u001b[1;36m1\u001b[0m\u001b[1;33m,\u001b[0m \u001b[1;36m1\u001b[0m\u001b[1;33m)\u001b[0m\u001b[1;33m\u001b[0m\u001b[1;33m\u001b[0m\u001b[0m\n\u001b[0m\u001b[0;32m      5\u001b[0m         \u001b[1;32mreturn\u001b[0m \u001b[0mnew\u001b[0m\u001b[1;33m\u001b[0m\u001b[1;33m\u001b[0m\u001b[0m\n\u001b[0;32m      6\u001b[0m \u001b[1;33m\u001b[0m\u001b[0m\n",
      "\u001b[1;31mTypeError\u001b[0m: list.append() takes exactly one argument (4 given)"
     ]
    }
   ],
   "metadata": {}
  },
  {
   "cell_type": "code",
   "execution_count": null,
   "source": [
    "def calculator(*):\r\n",
    "    while True :\r\n",
    "        "
   ],
   "outputs": [],
   "metadata": {}
  }
 ],
 "metadata": {
  "kernelspec": {
   "display_name": "Python 3 (ipykernel)",
   "language": "python",
   "name": "python3"
  },
  "language_info": {
   "codemirror_mode": {
    "name": "ipython",
    "version": 3
   },
   "file_extension": ".py",
   "mimetype": "text/x-python",
   "name": "python",
   "nbconvert_exporter": "python",
   "pygments_lexer": "ipython3",
   "version": "3.9.6"
  }
 },
 "nbformat": 4,
 "nbformat_minor": 5
}