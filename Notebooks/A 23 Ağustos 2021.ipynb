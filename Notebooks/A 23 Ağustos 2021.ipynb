{
 "cells": [
  {
   "cell_type": "code",
   "execution_count": 1,
   "id": "02c60665",
   "metadata": {},
   "outputs": [],
   "source": [
    "import random"
   ]
  },
  {
   "cell_type": "code",
   "execution_count": 2,
   "id": "ee51010d",
   "metadata": {},
   "outputs": [
    {
     "data": {
      "text/plain": [
       "'D'"
      ]
     },
     "execution_count": 2,
     "metadata": {},
     "output_type": "execute_result"
    }
   ],
   "source": [
    "chr(68)"
   ]
  },
  {
   "cell_type": "code",
   "execution_count": 8,
   "id": "403e9c9a",
   "metadata": {},
   "outputs": [
    {
     "data": {
      "text/plain": [
       "10"
      ]
     },
     "execution_count": 8,
     "metadata": {},
     "output_type": "execute_result"
    }
   ],
   "source": [
    "random.randint(1, 10)"
   ]
  },
  {
   "cell_type": "code",
   "execution_count": 10,
   "id": "5b39710c",
   "metadata": {},
   "outputs": [
    {
     "data": {
      "text/plain": [
       "'V'"
      ]
     },
     "execution_count": 10,
     "metadata": {},
     "output_type": "execute_result"
    }
   ],
   "source": [
    "chr(random.randint(65, 90))"
   ]
  },
  {
   "cell_type": "code",
   "execution_count": 12,
   "id": "d8d5248d",
   "metadata": {},
   "outputs": [
    {
     "data": {
      "text/plain": [
       "['H', 'R', 'W']"
      ]
     },
     "execution_count": 12,
     "metadata": {},
     "output_type": "execute_result"
    }
   ],
   "source": [
    "uppers = [chr(random.randint(65, 90)) for i in range(3)]\n",
    "uppers"
   ]
  },
  {
   "cell_type": "code",
   "execution_count": 13,
   "id": "ab449579",
   "metadata": {},
   "outputs": [
    {
     "data": {
      "text/plain": [
       "'HRW'"
      ]
     },
     "execution_count": 13,
     "metadata": {},
     "output_type": "execute_result"
    }
   ],
   "source": [
    "\"\".join(uppers)"
   ]
  },
  {
   "cell_type": "code",
   "execution_count": 15,
   "id": "8e781633",
   "metadata": {},
   "outputs": [
    {
     "data": {
      "text/plain": [
       "['z', 'v', 'n']"
      ]
     },
     "execution_count": 15,
     "metadata": {},
     "output_type": "execute_result"
    }
   ],
   "source": [
    "lowers = [chr(random.randint(97, 122)) for i in range(3)]\n",
    "lowers"
   ]
  },
  {
   "cell_type": "code",
   "execution_count": 16,
   "id": "73bba9f5",
   "metadata": {},
   "outputs": [
    {
     "data": {
      "text/plain": [
       "'zvn'"
      ]
     },
     "execution_count": 16,
     "metadata": {},
     "output_type": "execute_result"
    }
   ],
   "source": [
    "\"\".join(lowers)"
   ]
  },
  {
   "cell_type": "code",
   "execution_count": 17,
   "id": "2c41d8fa",
   "metadata": {},
   "outputs": [
    {
     "data": {
      "text/plain": [
       "['d', 'z', 'w']"
      ]
     },
     "execution_count": 17,
     "metadata": {},
     "output_type": "execute_result"
    }
   ],
   "source": [
    "numbers = [chr(random.randint(48, 57)) for i in range(3)]\n",
    "numbers"
   ]
  },
  {
   "cell_type": "code",
   "execution_count": null,
   "id": "11992dcd",
   "metadata": {},
   "outputs": [],
   "source": []
  },
  {
   "cell_type": "code",
   "execution_count": 18,
   "id": "64509aec",
   "metadata": {},
   "outputs": [
    {
     "data": {
      "text/plain": [
       "'<e'"
      ]
     },
     "execution_count": 18,
     "metadata": {},
     "output_type": "execute_result"
    }
   ],
   "source": [
    "chars = chr(random.randint(58, 64)) + chr(random.randint(97, 122))\n",
    "chars"
   ]
  },
  {
   "cell_type": "code",
   "execution_count": 20,
   "id": "71ba47b8",
   "metadata": {},
   "outputs": [
    {
     "data": {
      "text/plain": [
       "'HRWzvndzw<e'"
      ]
     },
     "execution_count": 20,
     "metadata": {},
     "output_type": "execute_result"
    }
   ],
   "source": [
    "password = \"\".join(uppers) + \"\".join(lowers) + \"\".join(numbers) + \"\".join(chars)\n",
    "password"
   ]
  },
  {
   "cell_type": "code",
   "execution_count": 21,
   "id": "64926a48",
   "metadata": {},
   "outputs": [],
   "source": [
    "random.shuffle(uppers)\n"
   ]
  },
  {
   "cell_type": "code",
   "execution_count": 22,
   "id": "81026ded",
   "metadata": {},
   "outputs": [
    {
     "data": {
      "text/plain": [
       "['H', 'R', 'W']"
      ]
     },
     "execution_count": 22,
     "metadata": {},
     "output_type": "execute_result"
    }
   ],
   "source": [
    "uppers"
   ]
  },
  {
   "cell_type": "code",
   "execution_count": 23,
   "id": "8c9fd1e3",
   "metadata": {},
   "outputs": [],
   "source": [
    "def shuffleit(string) :\n",
    "    templist = list(string)\n",
    "    random.shuffle(templist)\n",
    "    return \"\".join(templist)"
   ]
  },
  {
   "cell_type": "code",
   "execution_count": 25,
   "id": "7916a432",
   "metadata": {},
   "outputs": [
    {
     "data": {
      "text/plain": [
       "'nRdWvwHezz<'"
      ]
     },
     "execution_count": 25,
     "metadata": {},
     "output_type": "execute_result"
    }
   ],
   "source": [
    "passw = shuffleit(password)\n",
    "passw"
   ]
  },
  {
   "cell_type": "code",
   "execution_count": null,
   "id": "14fa0789",
   "metadata": {},
   "outputs": [],
   "source": []
  }
 ],
 "metadata": {
  "kernelspec": {
   "display_name": "Python 3 (ipykernel)",
   "language": "python",
   "name": "python3"
  },
  "language_info": {
   "codemirror_mode": {
    "name": "ipython",
    "version": 3
   },
   "file_extension": ".py",
   "mimetype": "text/x-python",
   "name": "python",
   "nbconvert_exporter": "python",
   "pygments_lexer": "ipython3",
   "version": "3.9.6"
  }
 },
 "nbformat": 4,
 "nbformat_minor": 5
}
