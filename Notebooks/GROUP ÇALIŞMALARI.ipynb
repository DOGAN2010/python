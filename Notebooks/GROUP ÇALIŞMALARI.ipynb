{
 "cells": [
  {
   "cell_type": "markdown",
   "metadata": {},
   "source": [
    "# GROUP 1"
   ]
  },
  {
   "cell_type": "markdown",
   "metadata": {
    "id": "r9B45NdlOz1t"
   },
   "source": [
    "```\n",
    "1 Sansürlü kelimeyi düzeltelim\n",
    "print(sansür(\"pyth*n\", \"o\")) ---> python\n",
    "print(sansür(\"*r*b*m* p*rk *tt*m\",\"aaaıaei\"))  --> arabamı park ettim\n",
    "```\n",
    "\n",
    "\n",
    "\n",
    "\n",
    "\n"
   ]
  },
  {
   "cell_type": "code",
   "execution_count": 14,
   "metadata": {},
   "outputs": [
    {
     "name": "stdout",
     "output_type": "stream",
     "text": [
      "python\n"
     ]
    }
   ],
   "source": [
    "def sansür(a, b):\n",
    "    n=0\n",
    "    for i in a :\n",
    "        if i == \"*\" :\n",
    "            a=a.replace(\"*\", b[n], 1)\n",
    "            n+=1\n",
    "    return a\n",
    "        \n",
    "    \n",
    "print(sansür(\"pyth*n\", \"o\"))  "
   ]
  },
  {
   "cell_type": "code",
   "execution_count": 10,
   "metadata": {},
   "outputs": [
    {
     "name": "stdout",
     "output_type": "stream",
     "text": [
      "python\n"
     ]
    }
   ],
   "source": [
    "def sansür(names, düzelt):\n",
    "    n=0\n",
    "    for i in names :\n",
    "        if i == \"*\" :\n",
    "            names=names.replace(\"*\", düzelt[n], 1)\n",
    "            n += 1\n",
    "    \n",
    "    return names\n",
    "           \n",
    "\n",
    "print(sansür(\"pyth*n\", \"o\"))"
   ]
  },
  {
   "cell_type": "code",
   "execution_count": 14,
   "metadata": {
    "colab": {
     "base_uri": "https://localhost:8080/"
    },
    "id": "GafOli-nlkXd",
    "outputId": "a0d0be94-af50-4428-ca5a-911d5d558c4c"
   },
   "outputs": [
    {
     "name": "stdout",
     "output_type": "stream",
     "text": [
      "python\n",
      "aribamı park ettim\n"
     ]
    }
   ],
   "source": [
    "def sansür(sansürlü, sesli):\n",
    "    n=0\n",
    "    for i in sansürlü:\n",
    "        if i=='*':\n",
    "            sansürlü=sansürlü.replace('*',sesli[n],1)\n",
    "            n+=1\n",
    "    return sansürlü\n",
    "        \n",
    "print(sansür(\"pyth*n\", \"o\")) \n",
    "\n",
    "print(sansür(\"*r*b*m* p*rk *tt*m\",\"aiaıaei\"))"
   ]
  },
  {
   "cell_type": "markdown",
   "metadata": {
    "id": "Q5AiEAoiPHH-"
   },
   "source": [
    "```\n",
    "2. Girdisi string olan ifadenin içerisindeki harflerin türkçe alfabesindeki yerlerini bulup, hepsinin değerlerini toplayıp sonuç çiftse True tekse False yazdıran bir fonksiyon yazınız.\n",
    "print(kelime_cift_mi(\"Bilgisayar\")) -->True\n",
    "```\n",
    "\n"
   ]
  },
  {
   "cell_type": "code",
   "execution_count": 16,
   "metadata": {},
   "outputs": [
    {
     "name": "stdout",
     "output_type": "stream",
     "text": [
      "False\n"
     ]
    }
   ],
   "source": [
    "def kelime(cümle):\n",
    "    total = 0\n",
    "    kucuk=\"abcçdefgğhıijklmnoöprsştuüvyz\"\n",
    "    \n",
    "    for i in cümle.lower() :\n",
    "        if i in kucuk :\n",
    "            total += kucuk.index(i) + 1\n",
    "    if total%2==0 :\n",
    "        return True\n",
    "    else:\n",
    "        return False\n",
    "    \n",
    "print(kelime(\"Bilgisayarım\"))\n",
    "        "
   ]
  },
  {
   "cell_type": "code",
   "execution_count": 18,
   "metadata": {},
   "outputs": [
    {
     "name": "stdout",
     "output_type": "stream",
     "text": [
      "False\n"
     ]
    }
   ],
   "source": [
    "def kelime_cift_mi(kelime) :\n",
    "    kucuk=\"abcçdefgğhıijklmnoöprsştuüvyz\"\n",
    "    a = 0\n",
    "    for i in kelime.lower() :\n",
    "        if i in kucuk :\n",
    "            a = kucuk.index(i) + 1\n",
    "        \n",
    "    if a%2 == 0:\n",
    "        return True\n",
    "    else :\n",
    "        return False\n",
    "    \n",
    "        \n",
    "print(kelime_cift_mi(\"Bilgisayar\"))"
   ]
  },
  {
   "cell_type": "code",
   "execution_count": 19,
   "metadata": {},
   "outputs": [
    {
     "name": "stdout",
     "output_type": "stream",
     "text": [
      "True\n"
     ]
    }
   ],
   "source": [
    "print(kelime_cift_mi(\"B ç\")) "
   ]
  },
  {
   "cell_type": "code",
   "execution_count": 20,
   "metadata": {
    "colab": {
     "base_uri": "https://localhost:8080/"
    },
    "id": "TYQxx36xlpH7",
    "outputId": "f5ca6104-4db5-4348-9af3-9136607c86ea"
   },
   "outputs": [
    {
     "name": "stdout",
     "output_type": "stream",
     "text": [
      "True\n"
     ]
    }
   ],
   "source": [
    "def kelime_cift_mi(cümle):\n",
    "    kucuk=\"abcçdefgğhıijklmnoöprsştuüvyz\"\n",
    "    toplam=0\n",
    "    for i in cümle.lower():\n",
    "        if i in kucuk:\n",
    "            toplam+=kucuk.index(i)+1\n",
    "    if toplam % 2 == 0:\n",
    "        return True\n",
    "    else:\n",
    "        return False\n",
    "print(kelime_cift_mi(\"B ç\")) "
   ]
  },
  {
   "cell_type": "markdown",
   "metadata": {
    "id": "yUnkroayPGvn"
   },
   "source": [
    "\n",
    "```\n",
    " 3. Write a program to prompt the user for hours and rate per hour using input to compute gross pay. Pay should be the normal rate for hours up to 40 and time-and-a-half for the hourly rate for all hours worked above 40 hours. Put the logic to do the computation of pay in a function called computepay() and use the function to do the computation. The function should return a value. Use 45 hours and a rate of 10.50 per hour to test the program (the pay should be 498.75). You should use input to read a string and float() to convert the string to a number. Do not worry about error checking the user input unless you want to - you can assume the user types numbers properly. Do not name your variable sum or use the sum() function\n",
    " \n",
    " \n",
    " Brüt ücreti hesaplamak için girdiyi kullanarak kullanıcıdan saat ve saat ücreti isteyen bir program yazın. Ücret, 40'a kadar olan saatler için normal oran ve 40 saatten fazla çalışılan tüm saatler için saatlik ücret için bir buçuk saat olmalıdır. Ödeme hesaplamasını yapmak için mantığı hesaplamapay() adlı bir işleve koyun ve hesaplamayı yapmak için işlevi kullanın. İşlev bir değer döndürmelidir. Programı test etmek için 45 saat ve saat başına 10.50 oran kullanın (ücret 498.75 olmalıdır). Bir dizgiyi okumak için girdiyi ve dizgiyi bir sayıya dönüştürmek için float()'ı kullanmalısınız. İstemediğiniz sürece kullanıcı girişini kontrol ederken hata yapma konusunda endişelenmeyin - kullanıcının sayıları doğru yazdığını varsayabilirsiniz. Değişken toplamınızı adlandırmayın veya sum() işlevini kullanmayın\n",
    "\n",
    "```\n",
    "\n"
   ]
  },
  {
   "cell_type": "code",
   "execution_count": 28,
   "metadata": {},
   "outputs": [
    {
     "name": "stdout",
     "output_type": "stream",
     "text": [
      "saat:45\n",
      "ücret:11\n"
     ]
    },
    {
     "data": {
      "text/plain": [
       "522.5"
      ]
     },
     "execution_count": 28,
     "metadata": {},
     "output_type": "execute_result"
    }
   ],
   "source": [
    "def maas(hours, ücret):\n",
    "    \n",
    "    if hours<=40:\n",
    "        brüt=hours*ücret\n",
    "    else :\n",
    "        brüt=40*ücret + (hours-40)*ücret*1.5\n",
    "    return brüt\n",
    "hours=int(input(\"saat:\"))\n",
    "ücret=float(input(\"ücret:\"))\n",
    "maas(hours, ücret)"
   ]
  },
  {
   "cell_type": "code",
   "execution_count": 13,
   "metadata": {
    "colab": {
     "base_uri": "https://localhost:8080/"
    },
    "id": "i5fWYRVSq2Z7",
    "outputId": "33d91c1b-5314-493c-bd1e-68a7aaafc719"
   },
   "outputs": [
    {
     "data": {
      "text/plain": [
       "95.0"
      ]
     },
     "execution_count": 13,
     "metadata": {
      "tags": []
     },
     "output_type": "execute_result"
    }
   ],
   "source": [
    "def compute_pay(h, r):\n",
    "  if h > 40:\n",
    "    p = 40*r + (h-40) * r* 1.5\n",
    "  else:\n",
    "    p= h*r\n",
    "  return p\n",
    "compute_pay(45, 2)"
   ]
  },
  {
   "cell_type": "markdown",
   "metadata": {
    "id": "agUSmN0iPGqB"
   },
   "source": [
    "```\n",
    "4. Sayının faktöriyelini hesaplayan fonksiyon yazalım.\n",
    "```\n",
    "\n",
    "\n"
   ]
  },
  {
   "cell_type": "code",
   "execution_count": 30,
   "metadata": {},
   "outputs": [
    {
     "name": "stdout",
     "output_type": "stream",
     "text": [
      "faktöryel için sayı gir: 6\n"
     ]
    },
    {
     "data": {
      "text/plain": [
       "720"
      ]
     },
     "execution_count": 30,
     "metadata": {},
     "output_type": "execute_result"
    }
   ],
   "source": [
    "def faktöryel(sayı):\n",
    "    sonuc=1\n",
    "    for i in range(1, sayı+1):\n",
    "        sonuc*=i\n",
    "    return sonuc\n",
    "sayı=int(input(\"faktöryel için sayı gir: \"))\n",
    "faktöryel(sayı)"
   ]
  },
  {
   "cell_type": "code",
   "execution_count": 32,
   "metadata": {
    "colab": {
     "base_uri": "https://localhost:8080/"
    },
    "id": "X35_pYVbsIXM",
    "outputId": "b7432233-0ac8-4365-98d3-4ec87de01a8c"
   },
   "outputs": [
    {
     "data": {
      "text/plain": [
       "120"
      ]
     },
     "execution_count": 32,
     "metadata": {},
     "output_type": "execute_result"
    }
   ],
   "source": [
    "def factoriel(sayi):\n",
    "    sonuc = 1\n",
    "    i = 1\n",
    "    while i <sayi+1:\n",
    "        sonuc *= i\n",
    "        i +=1\n",
    "    return sonuc\n",
    "factoriel(5)"
   ]
  },
  {
   "cell_type": "code",
   "execution_count": 15,
   "metadata": {
    "colab": {
     "base_uri": "https://localhost:8080/"
    },
    "id": "ZW3lrMv5s6WH",
    "outputId": "7002baec-0a59-40b2-f92f-9755d888408e"
   },
   "outputs": [
    {
     "data": {
      "text/plain": [
       "120"
      ]
     },
     "execution_count": 15,
     "metadata": {
      "tags": []
     },
     "output_type": "execute_result"
    }
   ],
   "source": [
    "def factoriel(sayi):\n",
    "  sonuc = 1\n",
    "  for i in range(1,sayi+1):\n",
    "    sonuc*=i\n",
    "  return sonuc\n",
    "factoriel(5)"
   ]
  },
  {
   "cell_type": "markdown",
   "metadata": {
    "id": "tPWXxyrEPGmw"
   },
   "source": [
    "```\n",
    "5. Sayı ve string paramestresi alan, sayıyı geriye doğru aralarında * olacak şekilde yazdıran, sonuna verilen stringi büyük harflerle ekleyen ve en sona ! işareti koyan bir fonksiyon yazalım\n",
    " ÖRNEK\n",
    "geri_say(3,\"go\")--> \"3*2*1*GO!\"**kalın metin**\n",
    "```\n",
    "\n"
   ]
  },
  {
   "cell_type": "code",
   "execution_count": 43,
   "metadata": {},
   "outputs": [
    {
     "data": {
      "text/plain": [
       "'3*2*1*GO!'"
      ]
     },
     "execution_count": 43,
     "metadata": {},
     "output_type": "execute_result"
    }
   ],
   "source": [
    "def geri_say(sayı, yazı):\n",
    "    yeni=\"\"\n",
    "    for i in range(sayı, 0, -1):\n",
    "        yeni += str(i) + \"*\"\n",
    "    yeni += yazı.upper() +\"!\"\n",
    "    return yeni\n",
    "geri_say(3, \"go\")"
   ]
  },
  {
   "cell_type": "code",
   "execution_count": null,
   "metadata": {},
   "outputs": [],
   "source": []
  },
  {
   "cell_type": "code",
   "execution_count": 42,
   "metadata": {
    "colab": {
     "base_uri": "https://localhost:8080/",
     "height": 35
    },
    "id": "fUCs9qFZtseU",
    "outputId": "08ffb2b7-0d50-4d1c-84b2-7d258826082f"
   },
   "outputs": [
    {
     "data": {
      "text/plain": [
       "'3*2*1*GO!'"
      ]
     },
     "execution_count": 42,
     "metadata": {},
     "output_type": "execute_result"
    }
   ],
   "source": [
    "def geri_say(n, yazi):\n",
    "    sonuc = ''\n",
    "    for i in range(n,0,-1):\n",
    "        sonuc += str(i) + '*'\n",
    "    sonuc+= yazi.upper() + '!'\n",
    "    return sonuc\n",
    "geri_say(3,\"go\")"
   ]
  },
  {
   "cell_type": "markdown",
   "metadata": {
    "id": "X0np6sCFPGjA"
   },
   "source": [
    "```\n",
    "6. Arif ve Raife listede yanyana duruyorlasa True döndüren durmuyorlarsa False döndüren bir fonksiyon yazalım.\n",
    "print(yan_yana_mı([\"Arif\",\"Raife\",\"Nihal\"])) --> True\n",
    "print(yan_yana_mı([\"Arif\",\"Nihal\",\"Raife\"])) --> False\n",
    "```\n",
    "\n"
   ]
  },
  {
   "cell_type": "code",
   "execution_count": 19,
   "metadata": {
    "colab": {
     "base_uri": "https://localhost:8080/"
    },
    "id": "2WxAQYGevApA",
    "outputId": "fd14a40d-e658-4a59-dbaf-1df3e880d0ed"
   },
   "outputs": [
    {
     "name": "stdout",
     "output_type": "stream",
     "text": [
      "True\n",
      "False\n"
     ]
    }
   ],
   "source": [
    "def yan_yana_mi(liste):\n",
    "  for i in liste:\n",
    "    if liste.index('Arif')+1 == liste.index('Raife') or liste.index('Arif') == liste.index('Raife') +1:\n",
    "      return True\n",
    "    else:\n",
    "      return False\n",
    "print(yan_yana_mi([\"Arif\",\"Raife\",\"Nihal\"]))\n",
    "print(yan_yana_mi([\"Arif\",\"Nihal\",\"Raife\"]))"
   ]
  },
  {
   "cell_type": "markdown",
   "metadata": {
    "id": "o8RAQ9ZpPGcN"
   },
   "source": [
    "```\n",
    "7. Listedeki her elemanı kendi indexi ile çarpıp toplamı veren bir fonksiyon yazalım.\n",
    "print(carpip_topla([1,2,3,4,5,6,7,8,9,10])) --> 330\n",
    "```\n",
    "\n",
    "\n",
    "\n"
   ]
  },
  {
   "cell_type": "code",
   "execution_count": 44,
   "metadata": {},
   "outputs": [
    {
     "data": {
      "text/plain": [
       "330"
      ]
     },
     "execution_count": 44,
     "metadata": {},
     "output_type": "execute_result"
    }
   ],
   "source": [
    "def carpip_topla(liste):\n",
    "    sonuc = 0\n",
    "    for i in liste:\n",
    "        sonuc += liste.index(i)*i\n",
    "    return sonuc\n",
    "\n",
    "carpip_topla([1,2,3,4,5,6,7,8,9,10])"
   ]
  },
  {
   "cell_type": "code",
   "execution_count": 49,
   "metadata": {
    "colab": {
     "base_uri": "https://localhost:8080/"
    },
    "id": "T_kLAmqewl7_",
    "outputId": "7bbb1416-c8b5-4c3f-b1f5-b1c1b6c3629c"
   },
   "outputs": [
    {
     "data": {
      "text/plain": [
       "440"
      ]
     },
     "execution_count": 49,
     "metadata": {},
     "output_type": "execute_result"
    }
   ],
   "source": [
    "def carpıp_topla(liste):\n",
    "    toplam = 0\n",
    "    for i in range(len(liste)):\n",
    "        toplam += i* liste [i]\n",
    "    return toplam\n",
    "carpıp_topla([1,2,3,4,5,6,7,8,9,10,11])"
   ]
  },
  {
   "cell_type": "code",
   "execution_count": 48,
   "metadata": {
    "colab": {
     "base_uri": "https://localhost:8080/"
    },
    "id": "d9Y3djzdxYpj",
    "outputId": "9a04da67-f474-4318-fb5c-fef5bb4a4010"
   },
   "outputs": [
    {
     "data": {
      "text/plain": [
       "440"
      ]
     },
     "execution_count": 48,
     "metadata": {},
     "output_type": "execute_result"
    }
   ],
   "source": [
    "#hatalı çözüm\n",
    "def carpıp_topla(liste):\n",
    "    toplam = 0\n",
    "    for i in liste:\n",
    "        toplam += i* liste.index(i)\n",
    "    return toplam\n",
    "carpıp_topla([1,2,3,4,5,6,7,8,9,10,11])"
   ]
  },
  {
   "cell_type": "markdown",
   "metadata": {
    "id": "6eFw-Cy2PGYg"
   },
   "source": [
    "```\n",
    "8. Cümledeki sayı ve harflerin sayısını bulan bir fonksiyon yazalım\n",
    "print(harf_sayi_sayisi(\"10'a kadar saysam ve sonrasında hayat bayram olsa.\")) --> Harfler: 39, Sayılar: 2\n",
    "\n",
    "```\n",
    "\n",
    "\n"
   ]
  },
  {
   "cell_type": "code",
   "execution_count": 50,
   "metadata": {},
   "outputs": [
    {
     "name": "stdout",
     "output_type": "stream",
     "text": [
      "Harfler: 39, sayılar 2, diğerleri 9\n"
     ]
    }
   ],
   "source": [
    "def harf_sayi_sayisi(cümle):\n",
    "    h = 0\n",
    "    s = 0\n",
    "    d = 0\n",
    "    for i in cümle:\n",
    "        if i.isalpha():\n",
    "            h+=1\n",
    "        elif i.isdigit():\n",
    "            s+=1\n",
    "        else:\n",
    "            d +=1\n",
    "    return f'Harfler: {h}, sayılar {s}, diğerleri {d}'\n",
    "print(harf_sayi_sayisi(\"10'a kadar saysam ve sonrasında hayat bayram olsa.\"))"
   ]
  },
  {
   "cell_type": "code",
   "execution_count": null,
   "metadata": {},
   "outputs": [],
   "source": []
  },
  {
   "cell_type": "code",
   "execution_count": null,
   "metadata": {},
   "outputs": [],
   "source": []
  },
  {
   "cell_type": "markdown",
   "metadata": {
    "id": "txt134wgPGVZ"
   },
   "source": [
    "```\n",
    "9.Stringin içindeki en büyük ve en küçük sayıyı veren fonksiyon yazalım.\n",
    "print(büyük_kücük(\"3 2 4 6 -1 12\")) --> 12 -1\n",
    "```\n",
    "\n"
   ]
  },
  {
   "cell_type": "code",
   "execution_count": 9,
   "metadata": {},
   "outputs": [
    {
     "ename": "TypeError",
     "evalue": "'NoneType' object is not iterable",
     "output_type": "error",
     "traceback": [
      "\u001b[1;31m---------------------------------------------------------------------------\u001b[0m",
      "\u001b[1;31mTypeError\u001b[0m                                 Traceback (most recent call last)",
      "\u001b[1;32m~\\AppData\\Local\\Temp/ipykernel_7516/3741708536.py\u001b[0m in \u001b[0;36m<module>\u001b[1;34m\u001b[0m\n\u001b[0;32m      9\u001b[0m     \u001b[1;32mreturn\u001b[0m \u001b[1;33m(\u001b[0m\u001b[0ma\u001b[0m\u001b[1;33m,\u001b[0m \u001b[0mb\u001b[0m\u001b[1;33m)\u001b[0m\u001b[1;33m\u001b[0m\u001b[1;33m\u001b[0m\u001b[0m\n\u001b[0;32m     10\u001b[0m \u001b[1;33m\u001b[0m\u001b[0m\n\u001b[1;32m---> 11\u001b[1;33m \u001b[0mbüyük_kücük\u001b[0m\u001b[1;33m(\u001b[0m\u001b[1;34m\"3 2 4 6 -1 12\"\u001b[0m\u001b[1;33m)\u001b[0m\u001b[1;33m\u001b[0m\u001b[1;33m\u001b[0m\u001b[0m\n\u001b[0m",
      "\u001b[1;32m~\\AppData\\Local\\Temp/ipykernel_7516/3741708536.py\u001b[0m in \u001b[0;36mbüyük_kücük\u001b[1;34m(string)\u001b[0m\n\u001b[0;32m      4\u001b[0m     \u001b[0mlistim\u001b[0m\u001b[1;33m=\u001b[0m\u001b[0mstring\u001b[0m\u001b[1;33m.\u001b[0m\u001b[0msplit\u001b[0m\u001b[1;33m(\u001b[0m\u001b[1;33m)\u001b[0m\u001b[1;33m\u001b[0m\u001b[1;33m\u001b[0m\u001b[0m\n\u001b[0;32m      5\u001b[0m     \u001b[0mlistim\u001b[0m\u001b[1;33m=\u001b[0m\u001b[0mlistim\u001b[0m\u001b[1;33m.\u001b[0m\u001b[0msort\u001b[0m\u001b[1;33m(\u001b[0m\u001b[1;33m)\u001b[0m\u001b[1;33m\u001b[0m\u001b[1;33m\u001b[0m\u001b[0m\n\u001b[1;32m----> 6\u001b[1;33m     \u001b[0ma\u001b[0m\u001b[1;33m=\u001b[0m\u001b[0mmax\u001b[0m\u001b[1;33m(\u001b[0m\u001b[0mlistim\u001b[0m\u001b[1;33m)\u001b[0m\u001b[1;33m\u001b[0m\u001b[1;33m\u001b[0m\u001b[0m\n\u001b[0m\u001b[0;32m      7\u001b[0m     \u001b[0mb\u001b[0m\u001b[1;33m=\u001b[0m\u001b[0mmin\u001b[0m\u001b[1;33m(\u001b[0m\u001b[0mlistim\u001b[0m\u001b[1;33m)\u001b[0m\u001b[1;33m\u001b[0m\u001b[1;33m\u001b[0m\u001b[0m\n\u001b[0;32m      8\u001b[0m     \u001b[0mprint\u001b[0m\u001b[1;33m(\u001b[0m\u001b[0mlistim\u001b[0m\u001b[1;33m)\u001b[0m\u001b[1;33m\u001b[0m\u001b[1;33m\u001b[0m\u001b[0m\n",
      "\u001b[1;31mTypeError\u001b[0m: 'NoneType' object is not iterable"
     ]
    }
   ],
   "source": [
    "def büyük_kücük(string):\n",
    "    \n",
    "   \n",
    "    listim=string.split()\n",
    "    listim=listim.sort()\n",
    " \n",
    "   \n",
    "    return (a, b)\n",
    "    \n",
    "büyük_kücük(\"3 2 4 6 -1 12\")"
   ]
  },
  {
   "cell_type": "code",
   "execution_count": null,
   "metadata": {},
   "outputs": [],
   "source": []
  },
  {
   "cell_type": "code",
   "execution_count": 25,
   "metadata": {
    "colab": {
     "base_uri": "https://localhost:8080/"
    },
    "id": "bnbOeXxAzdJC",
    "outputId": "9f77c59c-b8f8-4f50-90bf-38aeaa55bd28"
   },
   "outputs": [
    {
     "name": "stdout",
     "output_type": "stream",
     "text": [
      "12 -1\n"
     ]
    }
   ],
   "source": [
    "def buyuk_kucuk(deger):\n",
    "  liste= list(map(int, deger.split()))\n",
    "  return f'{max(liste)} {min(liste)}'\n",
    "print(buyuk_kucuk(\"3 2 4 6 -1 12\"))"
   ]
  },
  {
   "cell_type": "markdown",
   "metadata": {
    "id": "RhGJCDaNPGIS"
   },
   "source": [
    "```\n",
    "10. Harfler ve boşluklardan oluşan stringin içindeki kelime nin uzunluğu beş veya dah fazla ise o kelimeyi ters çeviren bir fonksiyon yazalım.\n",
    "print(ters_döndür(\"Ah bir data scientist olabilsem:)\")) --> Ah bir data tsitneics ):meslibalo\n",
    "```\n",
    "\n"
   ]
  },
  {
   "cell_type": "code",
   "execution_count": 11,
   "metadata": {},
   "outputs": [
    {
     "name": "stdout",
     "output_type": "stream",
     "text": [
      "Ah bir data tsitneics ):meslibalo \n"
     ]
    }
   ],
   "source": [
    "def ters_döndür(cümle):\n",
    "    list1 = cümle.split()\n",
    "    yeni=\"\"\n",
    "    for i in list1:\n",
    "        a=len(i)\n",
    "        if a >= 5 :\n",
    "            yeni += i[::-1]+ \" \"\n",
    "            \n",
    "            \n",
    "        else:\n",
    "             yeni += i +\" \"\n",
    "    return yeni\n",
    "print(ters_döndür(\"Ah bir data scientist olabilsem:)\"))"
   ]
  },
  {
   "cell_type": "code",
   "execution_count": 28,
   "metadata": {
    "colab": {
     "base_uri": "https://localhost:8080/"
    },
    "id": "_dfpXe790luM",
    "outputId": "e296c945-bf97-49e5-b9fe-cbcf1087abf3"
   },
   "outputs": [
    {
     "name": "stdout",
     "output_type": "stream",
     "text": [
      "Ah bir data tsitneics ):meslibalo\n"
     ]
    }
   ],
   "source": [
    "def ters_dondur(yazi):\n",
    "  liste = yazi.split()\n",
    "  yeni = ''\n",
    "  for i in liste :\n",
    "    if len(i) >= 5:\n",
    "      yeni += i [::-1] + ' '\n",
    "    else:\n",
    "      yeni += i + ' '\n",
    "  return yeni.strip()\n",
    "\n",
    "print(ters_dondur(\"Ah bir data scientist olabilsem:)\"))"
   ]
  },
  {
   "cell_type": "code",
   "execution_count": null,
   "metadata": {},
   "outputs": [],
   "source": []
  },
  {
   "cell_type": "markdown",
   "metadata": {},
   "source": [
    "# GROUP 2\n"
   ]
  },
  {
   "cell_type": "markdown",
   "metadata": {
    "id": "DpXjn6Vd9Yw6"
   },
   "source": [
    "1- Write a program to prompt for a score between 0.0 and 1.0. If the score is out of range, print an error. If the score is between 0.0 and 1.0, print a grade using the following table: Score Grade\n",
    "0.9 A\n",
    "0.8 B\n",
    "0.7 C\n",
    "0.6 D\n",
    "0.5 F\n",
    "If the user enters a value out of range, print a suitable error message and exit. For the test, enter a score of 0.85"
   ]
  },
  {
   "cell_type": "markdown",
   "metadata": {},
   "source": [
    "1- 0.0 ile 1.0 arasında bir puan isteyen bir program yazın. Puan aralık dışındaysa, bir hata yazdırın. Puan 0.0 ile 1.0 arasındaysa, aşağıdaki tabloyu kullanarak bir not yazdırın: Puan Notu\n",
    "0,9 A\n",
    "0,8 B\n",
    "0,7 C\n",
    "0,6 D\n",
    "0,5 F\n",
    "Kullanıcı aralık dışında bir değer girerse, uygun bir hata mesajı yazdırın ve çıkın. Test için 0,85 puan girin"
   ]
  },
  {
   "cell_type": "code",
   "execution_count": 34,
   "metadata": {},
   "outputs": [
    {
     "name": "stdout",
     "output_type": "stream",
     "text": [
      "puanınızı giriniz : 12\n",
      "invalid input\n"
     ]
    }
   ],
   "source": [
    "puan = float(input(\"puanınızı giriniz : \"))\n",
    "if 0<= puan <= 1.0 :\n",
    "    if puan >= 0.9 :\n",
    "        print(\"Puan notu: A \")\n",
    "    elif puan >= 0.8 :\n",
    "        print(\"Puan notu: B \")\n",
    "    elif puan >= 0.7 :\n",
    "        print(\"Puan notu: C \")\n",
    "    elif puan >= 0.6 :\n",
    "        print(\"Puan notu: D \")\n",
    "    elif puan < 0.6 :\n",
    "        print(\"Puan notu: F \")\n",
    "else :\n",
    "    print('invalid input')\n",
    "            \n",
    "  \n",
    "\n"
   ]
  },
  {
   "cell_type": "code",
   "execution_count": 4,
   "metadata": {
    "scrolled": true
   },
   "outputs": [
    {
     "name": "stdout",
     "output_type": "stream",
     "text": [
      "puanınızı giriniz : 45\n"
     ]
    },
    {
     "ename": "TypeError",
     "evalue": "'<=' not supported between instances of 'float' and 'str'",
     "output_type": "error",
     "traceback": [
      "\u001b[1;31m---------------------------------------------------------------------------\u001b[0m\n",
      "\u001b[1;31mTypeError\u001b[0m                                 Traceback (most recent call last)\n",
      "\u001b[1;32m~\\AppData\\Local\\Temp/ipykernel_9812/1415235991.py\u001b[0m in \u001b[0;36m<module>\u001b[1;34m\u001b[0m\n",
      "\u001b[0;32m      1\u001b[0m \u001b[0mpuan\u001b[0m \u001b[1;33m=\u001b[0m\u001b[0minput\u001b[0m\u001b[1;33m(\u001b[0m\u001b[1;34m\"puanınızı giriniz : \"\u001b[0m\u001b[1;33m)\u001b[0m\u001b[1;33m\u001b[0m\u001b[1;33m\u001b[0m\u001b[0m\n",
      "\u001b[1;32m----> 2\u001b[1;33m \u001b[1;32mwhile\u001b[0m \u001b[0mpuan\u001b[0m\u001b[1;33m.\u001b[0m\u001b[0misdigit\u001b[0m\u001b[1;33m(\u001b[0m\u001b[1;33m)\u001b[0m \u001b[1;32mand\u001b[0m \u001b[1;33m(\u001b[0m\u001b[1;36m0.0\u001b[0m \u001b[1;33m<=\u001b[0m \u001b[0mpuan\u001b[0m \u001b[1;33m<=\u001b[0m \u001b[1;36m1.0\u001b[0m\u001b[1;33m)\u001b[0m\u001b[1;33m:\u001b[0m\u001b[1;33m\u001b[0m\u001b[1;33m\u001b[0m\u001b[0m\n",
      "\u001b[0m\u001b[0;32m      3\u001b[0m     \u001b[0mpuan\u001b[0m \u001b[1;33m=\u001b[0m\u001b[0minput\u001b[0m\u001b[1;33m(\u001b[0m\u001b[1;34m\"puanınızı giriniz : \"\u001b[0m\u001b[1;33m)\u001b[0m\u001b[1;33m\u001b[0m\u001b[1;33m\u001b[0m\u001b[0m\n",
      "\u001b[0;32m      4\u001b[0m     \u001b[1;32mif\u001b[0m \u001b[0mpuan\u001b[0m \u001b[1;33m>=\u001b[0m \u001b[1;36m0.9\u001b[0m \u001b[1;33m:\u001b[0m\u001b[1;33m\u001b[0m\u001b[1;33m\u001b[0m\u001b[0m\n",
      "\u001b[0;32m      5\u001b[0m         \u001b[0mprint\u001b[0m\u001b[1;33m(\u001b[0m\u001b[1;34m\"Puan notu: A \"\u001b[0m\u001b[1;33m)\u001b[0m\u001b[1;33m\u001b[0m\u001b[1;33m\u001b[0m\u001b[0m\n",
      "\n",
      "\u001b[1;31mTypeError\u001b[0m: '<=' not supported between instances of 'float' and 'str'"
     ]
    }
   ],
   "source": [
    "puan =input(\"puanınızı giriniz : \")\n",
    "while puan.isdigit() and (0.0 <= puan <= 1.0):\n",
    "    puan =input(\"puanınızı giriniz : \")\n",
    "    if puan >= 0.9 :\n",
    "        print(\"Puan notu: A \")\n",
    "    elif puan >= 0.8 :\n",
    "        print(\"Puan notu: B \")\n",
    "    elif puan >= 0.7 :\n",
    "        print(\"Puan notu: C \")\n",
    "    elif puan >= 0.6 :\n",
    "        print(\"Puan notu: D \")\n",
    "    elif puan < 0.6 :\n",
    "        print(\"Puan notu: F \")\n",
    "else :\n",
    "    print('invalid input')"
   ]
  },
  {
   "cell_type": "code",
   "execution_count": null,
   "metadata": {
    "colab": {
     "base_uri": "https://localhost:8080/"
    },
    "id": "ZMqcwm1AVD_M",
    "outputId": "f399513b-6b2f-43c7-ce44-fdc9fc4f87ae"
   },
   "outputs": [],
   "source": [
    "s = float(input('Enter a score: '))\n",
    "if 0.0 <= s <= 1.0 :\n",
    "    if s >= 0.9:\n",
    "        print('A')\n",
    "    elif s>=0.8:\n",
    "        print('B')\n",
    "    elif s >= 0.7 :\n",
    "        print('C')\n",
    "    elif s >=0.6:\n",
    "        print('D')\n",
    "    elif s < 0.6 :\n",
    "        print('F')\n",
    "else:\n",
    "    print('invalid input')"
   ]
  },
  {
   "cell_type": "markdown",
   "metadata": {
    "id": "k7W9-BOA9n7O"
   },
   "source": [
    "2- Yazi olarak girilen string ifadenin içindeki harfler tamamen büyük veya tamamen küçük ise True, küçük ve büyük harlerden oluşmuş ise False veren bir fonksiyon yazalım."
   ]
  },
  {
   "cell_type": "code",
   "execution_count": 36,
   "metadata": {},
   "outputs": [
    {
     "data": {
      "text/plain": [
       "True"
      ]
     },
     "metadata": {},
     "output_type": "display_data"
    }
   ],
   "source": [
    "def sorgo(cümle):\n",
    "    if (cümle.upper()==cümle) or (cümle==cümle.lower()) :\n",
    "        return True\n",
    "    else:\n",
    "        return False\n",
    "    \n",
    "sorgo(\"yazi olarak girilen string ifadenin içindeki harfler \")\n"
   ]
  },
  {
   "cell_type": "code",
   "execution_count": null,
   "metadata": {
    "colab": {
     "base_uri": "https://localhost:8080/"
    },
    "id": "aw8NIj4NVE7S",
    "outputId": "4a083ee2-47e6-4c84-9e7b-06d6ae3a3347"
   },
   "outputs": [
    {
     "data": {
      "text/plain": [
       "False"
      ]
     },
     "metadata": {},
     "output_type": "display_data"
    }
   ],
   "source": [
    "def buyuk_kucuk(yazi):\n",
    "  if yazi.lower() == yazi or yazi.upper() == yazi :\n",
    "    return True\n",
    "  else:\n",
    "    return False\n",
    "buyuk_kucuk('Raife')"
   ]
  },
  {
   "cell_type": "markdown",
   "metadata": {
    "id": "6PFwqEFO9nxy"
   },
   "source": [
    "3- Sayıyı kalansız bölen sayıları bulan bir fonksiyon yazalım"
   ]
  },
  {
   "cell_type": "code",
   "execution_count": 40,
   "metadata": {},
   "outputs": [
    {
     "data": {
      "text/plain": [
       "[1, 2, 5, 10]"
      ]
     },
     "metadata": {},
     "output_type": "display_data"
    }
   ],
   "source": [
    "def kalansız(sayı):\n",
    "    kalansızlar = []\n",
    "    sayı=int(sayı)\n",
    "    for i in range(1,sayı+1):\n",
    "        if sayı%i == 0 :\n",
    "            kalansızlar.append(i)\n",
    "    return kalansızlar\n",
    "\n",
    "kalansız(10)"
   ]
  },
  {
   "cell_type": "code",
   "execution_count": null,
   "metadata": {
    "colab": {
     "base_uri": "https://localhost:8080/"
    },
    "id": "DS38zXWNVFy9",
    "outputId": "da730899-2b37-4716-b934-ea9bb2bfb903"
   },
   "outputs": [
    {
     "data": {
      "text/plain": [
       "[1, 2, 3, 4, 6, 12]"
      ]
     },
     "metadata": {},
     "output_type": "display_data"
    }
   ],
   "source": [
    "def kalansız_bolen(sayi):\n",
    "  liste = []\n",
    "  for i in range(1, sayi+1):\n",
    "    if sayi % i == 0 :\n",
    "      liste.append(i)\n",
    "  return liste\n",
    "kalansız_bolen(12)"
   ]
  },
  {
   "cell_type": "markdown",
   "metadata": {
    "id": "rgWFi-lZ9noI"
   },
   "source": [
    "4- Cümlenin içindeki sesli harfleri kaldıran bir fonksiyon yazalım.\n",
    "print(sessiz_yap(\"Hayat beni neden yoruyosun?:)\")) --> hyt bn ndn yrysn?:)"
   ]
  },
  {
   "cell_type": "code",
   "execution_count": 61,
   "metadata": {},
   "outputs": [
    {
     "data": {
      "text/plain": [
       "'H*y*t b*n* n*d*n y*r*y*s*n?:)'"
      ]
     },
     "metadata": {},
     "output_type": "display_data"
    }
   ],
   "source": [
    "def sessiz_yap(cümle):\n",
    "    sesli='aeıioöuüAEIİOÖUÜ'\n",
    "   \n",
    "    for i in cümle:\n",
    "        if i in sesli :\n",
    "            cümle=cümle.replace(i, \"*\")\n",
    "    return cümle\n",
    "\n",
    "sessiz_yap(\"Hayat beni neden yoruyosun?:)\")"
   ]
  },
  {
   "cell_type": "code",
   "execution_count": 53,
   "metadata": {
    "colab": {
     "base_uri": "https://localhost:8080/",
     "height": 35
    },
    "id": "1nDwibpcVGog",
    "outputId": "e5b5472b-cd3f-4a52-ed36-9909a65ead07"
   },
   "outputs": [
    {
     "data": {
      "text/plain": [
       "'Hyt bn ndn yrysn?:)'"
      ]
     },
     "metadata": {},
     "output_type": "display_data"
    }
   ],
   "source": [
    "def sessiz_yap(cumle):\n",
    "  sesli = 'aeıioöuüAEIİOÖUÜ'\n",
    "  for i in cumle:\n",
    "    if i in sesli:\n",
    "      cumle = cumle.replace(i, '')\n",
    "  return cumle\n",
    "sessiz_yap(\"Hayat beni neden yoruyosun?:)\")"
   ]
  },
  {
   "cell_type": "code",
   "execution_count": 50,
   "metadata": {
    "colab": {
     "base_uri": "https://localhost:8080/",
     "height": 35
    },
    "id": "CeJ4UWbkcIpB",
    "outputId": "66caec20-8345-456f-c881-75e28bdf88e5"
   },
   "outputs": [
    {
     "data": {
      "text/plain": [
       "'Hyt bn ndn yrysn?:)'"
      ]
     },
     "metadata": {},
     "output_type": "display_data"
    }
   ],
   "source": [
    "def sessiz_yap(cumle):\n",
    "  sesli = 'aeıioöuüAEIİOÖUÜ'\n",
    "  yeni = ''\n",
    "  for i in cumle:\n",
    "    if i not in sesli:\n",
    "      yeni+= i\n",
    "  return yeni\n",
    "sessiz_yap(\"Hayat beni neden yoruyosun?:)\")"
   ]
  },
  {
   "cell_type": "markdown",
   "metadata": {
    "id": "yxwOQSQe9ne1"
   },
   "source": [
    "5- Tarihi yüzyıla çeviren bir fonksiyon yazalım.\n",
    "print(yüzyıl_yap(1738)) --> 18. yüzyıl"
   ]
  },
  {
   "cell_type": "code",
   "execution_count": 63,
   "metadata": {},
   "outputs": [
    {
     "name": "stdout",
     "output_type": "stream",
     "text": [
      "18\n"
     ]
    }
   ],
   "source": [
    "def yüzyıl(yıl):\n",
    "    yüz_yıl= yıl//100+1\n",
    "    return yüz_yıl\n",
    "\n",
    "print(yüzyıl(1738)) "
   ]
  },
  {
   "cell_type": "markdown",
   "metadata": {
    "id": "Y4qLf-_89nL4"
   },
   "source": [
    "6- Yazının içersindeki kelimelerin ilk ve son karakterleri sabit tutup diğer karakterleri yerine - çizgi koyan fonksiyon yazalım.\n",
    "print(dönüstür(\"hello world\")) --> h---o w---d "
   ]
  },
  {
   "cell_type": "code",
   "execution_count": 87,
   "metadata": {},
   "outputs": [
    {
     "data": {
      "text/plain": [
       "['h----o', 'w---d']"
      ]
     },
     "metadata": {},
     "output_type": "display_data"
    }
   ],
   "source": [
    "def dönüstür(cümle):\n",
    "    cümle=cümle.split()\n",
    "    yeni = \"\"\n",
    "    for i in cümle :\n",
    "        a=len(i)\n",
    "        b= i.replace(i[1:(a-1):1], \"-\"*(a-2))\n",
    "        yeni += b+ \" \"\n",
    "     \n",
    "        \n",
    "    return yeni.split()\n",
    "\n",
    "dönüstür(\"helolo world\")                            "
   ]
  },
  {
   "cell_type": "code",
   "execution_count": 73,
   "metadata": {
    "colab": {
     "base_uri": "https://localhost:8080/",
     "height": 35
    },
    "id": "KIIC1NYooFBM",
    "outputId": "8fbf2cc7-5d6e-4e56-d6ab-9d58dab223c9"
   },
   "outputs": [
    {
     "data": {
      "text/plain": [
       "'H---o w---d'"
      ]
     },
     "metadata": {},
     "output_type": "display_data"
    }
   ],
   "source": [
    "def donustur(a):\n",
    "    b = a.split()\n",
    "    new = \"\"\n",
    "    for i in b:\n",
    "        x = len(i)\n",
    "        c = i.replace(i[1:(x-1):1], \"-\" *(x-2))\n",
    "        new += c + \" \"\n",
    "    return new.strip()\n",
    "donustur(\"Hello world\")"
   ]
  },
  {
   "cell_type": "code",
   "execution_count": 23,
   "metadata": {
    "colab": {
     "base_uri": "https://localhost:8080/"
    },
    "id": "URuVwls9oPUr",
    "outputId": "8e09f08a-9ac3-4762-89e6-12f3a0017461"
   },
   "outputs": [
    {
     "name": "stdout",
     "output_type": "stream",
     "text": [
      "h---o w---d\n"
     ]
    }
   ],
   "source": [
    "x = \"hello world\"\n",
    "y = x.split(\" \")\n",
    "a=\"\"\n",
    "for i in y:\n",
    "    for j in i:\n",
    "        if not j==i[0] and not j==i[-1] :\n",
    "            i=i.replace(j,\"-\")\n",
    "    a+=i+\" \"\n",
    "print(a.strip())"
   ]
  },
  {
   "cell_type": "markdown",
   "metadata": {
    "id": "mEPc7d0Z9nAI"
   },
   "source": [
    "7- Her girdi listesinde iki tanesi hariç her rakam en az bir kere tekrarlıyor.iki benzersiz sayıyı döndüren bir fonksiyon yazalım.\n",
    "benzersizi_bul([2,2,3,11,3,6,5]) --> [6, 5]  # 11 te 2 tane 1 var"
   ]
  },
  {
   "cell_type": "code",
   "execution_count": null,
   "metadata": {
    "colab": {
     "base_uri": "https://localhost:8080/"
    },
    "id": "EY1O4NA7VJnw",
    "outputId": "d4b9def9-018f-44c4-f812-73f334bd63ef"
   },
   "outputs": [
    {
     "data": {
      "text/plain": [
       "[5, 6]"
      ]
     },
     "metadata": {},
     "output_type": "display_data"
    }
   ],
   "source": [
    "def benzersizi_bul(liste):\n",
    "  yeni = []\n",
    "  s = ''\n",
    "  for i in liste:\n",
    "    s += str(i)\n",
    "  for k in set(s):\n",
    "    if s.count(k) == 1:\n",
    "      yeni.append(int(k))\n",
    "  return yeni\n",
    "benzersizi_bul([2,2,3,11,3,6,5])\n"
   ]
  },
  {
   "cell_type": "markdown",
   "metadata": {
    "id": "GMgm2Jhu9mQj"
   },
   "source": [
    "8- Bir stringi(kelime) alan ve birbirini izleyen aynı harfleri çıkaran bir fonksiyon oluşturun.\n",
    "print(cıkar(\"mmmeeerrhhhaaabbbaaa\")) --> merhaba"
   ]
  },
  {
   "cell_type": "code",
   "execution_count": null,
   "metadata": {
    "colab": {
     "base_uri": "https://localhost:8080/"
    },
    "id": "OHliMr3fVKm9",
    "outputId": "dcbc363b-e15d-4160-ebd5-5f6cba20dff4"
   },
   "outputs": [
    {
     "name": "stdout",
     "output_type": "stream",
     "text": [
      "merhaba\n"
     ]
    }
   ],
   "source": [
    "def cıkar(kelime):\n",
    "  yeni = ''\n",
    "  for i in range(len(kelime)-1):\n",
    "    if kelime[i] != kelime [i+1] :\n",
    "      yeni += kelime[i]\n",
    "  yeni += kelime[-1]\n",
    "  return yeni\n",
    "print(cıkar(\"mmmeeerrhhhaaabbbaaa\"))\n",
    "\n"
   ]
  },
  {
   "cell_type": "markdown",
   "metadata": {
    "id": "3oD9kK_q9mBH"
   },
   "source": [
    "9- Belirli aralıkta(sınırlar dahil) verilen rakamın kaç kere olduğunu sayan bir fonksiyon yazalım. print(kac_tane(50,55,5)) --> 7"
   ]
  },
  {
   "cell_type": "code",
   "execution_count": null,
   "metadata": {
    "colab": {
     "base_uri": "https://localhost:8080/"
    },
    "id": "Xm3OBUHUVLZm",
    "outputId": "282b5b5a-24ac-4863-c7c7-99b684f77a22"
   },
   "outputs": [
    {
     "data": {
      "text/plain": [
       "7"
      ]
     },
     "metadata": {},
     "output_type": "display_data"
    }
   ],
   "source": [
    "def saydir(a, b, c):\n",
    "  sonuc = 0\n",
    "  for i in range(a, b+1):\n",
    "    sonuc += str(i).count(str(c))\n",
    "  return sonuc\n",
    "saydir(50, 55, 5)"
   ]
  },
  {
   "cell_type": "markdown",
   "metadata": {
    "id": "n1Tuy6szEGR8"
   },
   "source": [
    "10- Yüksekliği verilen yılbaşı ağacını oluşturan bir fonksiyon yazalım. agac(7)\n",
    "\n",
    "\n",
    "```\n",
    "      #      \n",
    "     ###     \n",
    "    #####    \n",
    "   #######   \n",
    "  #########  \n",
    " ########### \n",
    "############# \n",
    "```\n",
    "\n"
   ]
  },
  {
   "cell_type": "code",
   "execution_count": 19,
   "metadata": {
    "colab": {
     "base_uri": "https://localhost:8080/"
    },
    "id": "bGV1nJWCVMFX",
    "outputId": "66bc6154-c4f9-4a18-c6ab-52a003621fb7"
   },
   "outputs": [
    {
     "name": "stdout",
     "output_type": "stream",
     "text": [
      "      #      \n",
      "     ###     \n",
      "    #####    \n",
      "   #######   \n",
      "  #########  \n",
      " ########### \n",
      "#############\n"
     ]
    }
   ],
   "source": [
    "def agac(yukseklik):\n",
    "  for i in range(1, 2*yukseklik, 2):\n",
    "    print((i*'#').center(2*yukseklik-1))\n",
    "agac(7)"
   ]
  },
  {
   "cell_type": "code",
   "execution_count": 21,
   "metadata": {
    "colab": {
     "base_uri": "https://localhost:8080/"
    },
    "id": "9rQrZYcHnWlX",
    "outputId": "695f2a7e-d97f-407e-f2af-5a333e387e75"
   },
   "outputs": [
    {
     "name": "stdout",
     "output_type": "stream",
     "text": [
      "      #      \n",
      "     ###     \n",
      "    #####    \n",
      "   #######   \n",
      "  #########  \n",
      " ########### \n",
      "#############\n"
     ]
    }
   ],
   "source": [
    "def agac(yukseklik):\n",
    "  i=1\n",
    "  while i <= 2*yukseklik -1:\n",
    "    print((i*'#').center(2*yukseklik-1))\n",
    "    i+=2\n",
    "agac(7)"
   ]
  },
  {
   "cell_type": "markdown",
   "metadata": {},
   "source": [
    "# GROUP 3"
   ]
  },
  {
   "cell_type": "markdown",
   "metadata": {
    "id": "tekgbGbYLTZn"
   },
   "source": [
    "1-Bir stringde eğer en az iki kere 'zip' geçiyorsa ikinci kez geçen zip in indexini döndüren, eğer en az iki kere geçmiyorsa -1 döndüren fonksiyon yazalım."
   ]
  },
  {
   "cell_type": "code",
   "execution_count": null,
   "metadata": {
    "id": "oc6hiDnaNLgz"
   },
   "outputs": [],
   "source": [
    "string = input(\"Provide a string to search vowels: \")\n",
    "# Iterate the string\n",
    "found = []\n",
    "for letter in string:\n",
    "    if letter in vowels:\n",
    "        if letter not in found:\n",
    "            found.append(letter) (edited) "
   ]
  },
  {
   "cell_type": "code",
   "execution_count": null,
   "metadata": {},
   "outputs": [],
   "source": [
    "string = input(\"Provide a string to search vowels: \")\n",
    "# Iterate the string\n",
    "found = []\n",
    "for letter in string:\n",
    "    if letter in vowels:\n",
    "        found.append(letter)"
   ]
  },
  {
   "cell_type": "code",
   "execution_count": 6,
   "metadata": {},
   "outputs": [],
   "source": [
    "numbers = []\n",
    "\n",
    "for i in range(100, 501):\n",
    "    if i%21 == 0 :\n",
    "        numbers.append(i)\n",
    "        "
   ]
  },
  {
   "cell_type": "code",
   "execution_count": 8,
   "metadata": {},
   "outputs": [
    {
     "name": "stdout",
     "output_type": "stream",
     "text": [
      "[105, 126, 147, 168, 189, 210, 231, 252, 273, 294, 315, 336, 357, 378, 399, 420, 441, 462, 483]\n"
     ]
    }
   ],
   "source": [
    "print(numbers)"
   ]
  },
  {
   "cell_type": "code",
   "execution_count": null,
   "metadata": {},
   "outputs": [],
   "source": [
    "string = input"
   ]
  },
  {
   "cell_type": "markdown",
   "metadata": {
    "id": "Wdk2I2HvNPbA"
   },
   "source": [
    "2. liste ve boolean alan, \"Ping\"lerin arasına \"Pong\" yazan, boolean True ise sona da koyan False varsa sonuna koymayan bir fonksiyon yazalım\n",
    "print(yerlestir([\"Ping\",\"Ping\"],True)) -->['Ping', 'Pong', 'Ping', 'Pong']\n",
    "print(yerlestir([\"Ping\",\"Ping\",\"Ping\",\"Ping\",\"Ping\",\"Ping\"],False)) -->['Ping', 'Pong', 'Ping', 'Pong', 'Ping', 'Pong', 'Ping', 'Pong', 'Ping', 'Pong', 'Ping'"
   ]
  },
  {
   "cell_type": "code",
   "execution_count": 1,
   "metadata": {},
   "outputs": [
    {
     "data": {
      "text/plain": [
       "['Ping',\n",
       " 'Pong',\n",
       " 'Ping',\n",
       " 'Pong',\n",
       " 'Ping',\n",
       " 'Pong',\n",
       " 'Ping',\n",
       " 'Pong',\n",
       " 'Ping',\n",
       " 'Pong',\n",
       " 'Ping']"
      ]
     },
     "execution_count": 1,
     "metadata": {},
     "output_type": "execute_result"
    }
   ],
   "source": [
    "def yerlestir(liste, bool):\n",
    "    edited = []\n",
    "    for i in liste :\n",
    "        edited.append(i)\n",
    "        edited.append(\"Pong\")\n",
    "        \n",
    "    if bool :\n",
    "        return edited\n",
    "    else:\n",
    "        del edited[-1]\n",
    "        return edited\n",
    "        \n",
    "        \n",
    "        \n",
    "yerlestir([\"Ping\",\"Ping\",\"Ping\",\"Ping\",\"Ping\",\"Ping\"],False)"
   ]
  },
  {
   "cell_type": "markdown",
   "metadata": {
    "id": "OF0rVsBJNRVm"
   },
   "source": [
    "3. Sayının eklemeli devamlılığını bulan fonksiyon yazalım\n",
    "\n",
    "eklemeli_devamlılık(1679583)\n",
    "\n",
    "1+6+7+9+5+8+3=39\n",
    "\n",
    "3+9=12\n",
    "\n",
    "1+2=3\n",
    "\n",
    "Tek basamaklı sayıya ulaşmak için 3 tekrar gerekiyor"
   ]
  },
  {
   "cell_type": "code",
   "execution_count": 3,
   "metadata": {},
   "outputs": [
    {
     "data": {
      "text/plain": [
       "3"
      ]
     },
     "execution_count": 3,
     "metadata": {},
     "output_type": "execute_result"
    }
   ],
   "source": [
    "def eklemeli(x):\n",
    "    x = str(x)\n",
    "    a = len(x)\n",
    "    count = 0\n",
    "    while a != 1 :\n",
    "        new = 0\n",
    "        for i in x :\n",
    "            new += int(i)\n",
    "            \n",
    "        x = str(new)\n",
    "        a = len(x)\n",
    "        count += 1\n",
    "    return int(x)\n",
    "            \n",
    "    \n",
    "\n",
    "eklemeli(1679583)"
   ]
  },
  {
   "cell_type": "markdown",
   "metadata": {
    "id": "C0bzI8cTO3Wh"
   },
   "source": [
    "4. You will be given an array of numbers. You have to sort the odd numbers in ascending order while leaving the even numbers at their original positions.\n",
    "\n",
    "Example:\n",
    "\n",
    "[7, 1] => [1, 7]\n",
    "\n",
    "[5, 8, 6, 3, 4] => [3, 8, 6, 5, 4]\n",
    "\n",
    "[9, 8, 7, 6, 5, 4, 3, 2, 1, 0] => [1, 8, 3, 6, 5, 4, 7, 2, 9, 0]\n"
   ]
  },
  {
   "cell_type": "code",
   "execution_count": null,
   "metadata": {},
   "outputs": [],
   "source": []
  },
  {
   "cell_type": "markdown",
   "metadata": {
    "id": "pJUfX-07SY0h"
   },
   "source": [
    "5- Ornek olarak verilen stringin her bir karakteri sirasiyla buyuk harf haline gelecek ve sonuc bir liste seklinde olacak. Ornek 1:\n",
    "\n",
    "test = ‘iki kelime’\n",
    "\n",
    "sonuc = ['Iki kelime', 'iKi kelime', 'ikI kelime', 'iki Kelime', 'iki kElime', 'iki keLime', 'iki kelIme', 'iki keliMe', 'iki kelimE']\n",
    "\n"
   ]
  },
  {
   "cell_type": "code",
   "execution_count": null,
   "metadata": {},
   "outputs": [],
   "source": []
  },
  {
   "cell_type": "markdown",
   "metadata": {
    "id": "_t_wBbYtKhYW"
   },
   "source": [
    "6. morse_codes = {\n",
    "  'A': '.-', 'B': '-...', 'C': '-.-.', 'D': '-..', 'E': '.', 'F': '..-.',\n",
    "  'G': '--.', 'H': '....', 'I': '..', 'J': '.---', 'K': '-.-', 'L': '.-..',\n",
    "  'M': '--', 'N': '-.', 'O': '---', 'P': '.--.', 'Q': '--.-', 'R': '.-.',\n",
    "  'S': '...', 'T': '-', 'U': '..-', 'V': '...-', 'W': '.--', 'X': '-..-',\n",
    "  'Y': '-.--', 'Z': '--..', ' ': ' ', '0': '-----',\n",
    "  '1': '.----', '2': '..---', '3': '...--', '4': '....-', '5': '.....',\n",
    "  '6': '-....', '7': '--...', '8': '---..', '9': '----.',\n",
    "  '&': '.-...', \"'\": '.----.', '@': '.--.-.', ')': '-.--.-', '(': '-.--.',\n",
    "  ':': '---...', ',': '--..--', '=': '-...-', '!': '-.-.--', '.': '.-.-.-',\n",
    "  '-': '-....-', '+': '.-.-.', '\"': '.-..-.', '?': '..--..', '/': '-..-.'\n",
    "}\n",
    "\n",
    "Arasında boşluk bırakılarak girilen morse kodunu ifadeye, ifadeyi morsea çeviren kod yazalım."
   ]
  },
  {
   "cell_type": "code",
   "execution_count": null,
   "metadata": {},
   "outputs": [],
   "source": []
  },
  {
   "cell_type": "markdown",
   "metadata": {
    "id": "zJz-aS4DM9Sl"
   },
   "source": [
    "7- Once upon a time, on a way through the old wild mountainous west,…\n",
    "… a man was given directions to go from one point to another. The directions were \"NORTH\", \"SOUTH\", \"WEST\", \"EAST\". Clearly \"NORTH\" and \"SOUTH\" are opposite, \"WEST\" and \"EAST\" too.\n",
    "\n",
    "Going to one direction and coming back the opposite direction right away is a needless effort. Since this is the wild west, with dreadfull weather and not much water, it's important to save yourself some energy, otherwise you might die of thirst!\n",
    "\n",
    "How I crossed a mountainous desert the smart way.\n",
    "The directions given to the man are, for example, the following (depending on the language):\n",
    "\n",
    "[\"NORTH\", \"SOUTH\", \"SOUTH\", \"EAST\", \"WEST\", \"NORTH\", \"WEST\"].\n",
    "or\n",
    "{ \"NORTH\", \"SOUTH\", \"SOUTH\", \"EAST\", \"WEST\", \"NORTH\", \"WEST\" };\n",
    "or\n",
    "[North, South, South, East, West, North, West]\n",
    "You can immediatly see that going \"NORTH\" and immediately \"SOUTH\" is not reasonable, better stay to the same place! So the task is to give to the man a simplified version of the plan. A better plan in this case is simply:\n",
    "\n",
    "[\"WEST\"]\n",
    "or\n",
    "{ \"WEST\" }\n",
    "or\n",
    "[West]\n",
    "Other examples:\n",
    "In [\"NORTH\", \"SOUTH\", \"EAST\", \"WEST\"], the direction \"NORTH\" + \"SOUTH\" is going north and coming back right away.\n",
    "\n",
    "The path becomes [\"EAST\", \"WEST\"], now \"EAST\" and \"WEST\" annihilate each other, therefore, the final result is [] (nil in Clojure).\n",
    "\n",
    "In [\"NORTH\", \"EAST\", \"WEST\", \"SOUTH\", \"WEST\", \"WEST\"], \"NORTH\" and \"SOUTH\" are not directly opposite but they become directly opposite after the reduction of \"EAST\" and \"WEST\" so the whole path is reducible to [\"WEST\", \"WEST\"].\n",
    "\n",
    "Task\n",
    "Write a function dirReduc which will take an array of strings and returns an array of strings with the needless directions removed (W<->E or S<->N side by side).\n",
    "\n",
    "The Haskell version takes a list of directions with data Direction = North | East | West | South.\n",
    "The Clojure version returns nil when the path is reduced to nothing.\n",
    "The Rust version takes a slice of enum Direction {North, East, West, South}.\n",
    "See more examples in \"Sample Tests:\"\n",
    "Notes\n",
    "Not all paths can be made simpler. The path [\"NORTH\", \"WEST\", \"SOUTH\", \"EAST\"] is not reducible. \"NORTH\" and \"WEST\", \"WEST\" and \"SOUTH\", \"SOUTH\" and \"EAST\" are not directly opposite of each other and can't become such. Hence the result path is itself : [\"NORTH\", \"WEST\", \"SOUTH\", \"EAST\"]."
   ]
  },
  {
   "cell_type": "code",
   "execution_count": null,
   "metadata": {},
   "outputs": [],
   "source": []
  },
  {
   "cell_type": "code",
   "execution_count": null,
   "metadata": {},
   "outputs": [],
   "source": []
  },
  {
   "cell_type": "markdown",
   "metadata": {},
   "source": [
    "# GROUP 4"
   ]
  },
  {
   "cell_type": "markdown",
   "metadata": {},
   "source": [
    "Write a Python code that displays the unique vowels found in a word entered by the user."
   ]
  },
  {
   "cell_type": "code",
   "execution_count": null,
   "metadata": {},
   "outputs": [],
   "source": [
    "# List all the vowels\n",
    "vowels = ['a', 'e', 'i', 'o', 'u']"
   ]
  },
  {
   "cell_type": "code",
   "execution_count": null,
   "metadata": {},
   "outputs": [],
   "source": [
    "string = input(\"Provide a string to search vowels: \")"
   ]
  },
  {
   "cell_type": "code",
   "execution_count": null,
   "metadata": {},
   "outputs": [],
   "source": [
    "string"
   ]
  },
  {
   "cell_type": "code",
   "execution_count": null,
   "metadata": {},
   "outputs": [],
   "source": [
    "# Iterate the string\n",
    "found = []\n",
    "\n",
    "for letter in string:\n",
    "    if letter in vowels:\n",
    "        if letter not in found:\n",
    "            found.append(letter)"
   ]
  },
  {
   "cell_type": "code",
   "execution_count": null,
   "metadata": {},
   "outputs": [],
   "source": [
    "found"
   ]
  },
  {
   "cell_type": "code",
   "execution_count": null,
   "metadata": {},
   "outputs": [],
   "source": [
    "found = []\n",
    "\n",
    "for letter in string:\n",
    "    if letter in vowels:\n",
    "        found.append(letter)"
   ]
  },
  {
   "cell_type": "code",
   "execution_count": null,
   "metadata": {},
   "outputs": [],
   "source": [
    "set(found)"
   ]
  },
  {
   "cell_type": "markdown",
   "metadata": {},
   "source": [
    "# EXERCISE 2\n",
    "\n",
    "Write a Python program to find those numbers which satisfies the following bullets:\n",
    "\n",
    "divisible by 7\n",
    "multiple of 3\n",
    "between 100 and 500 (both included)."
   ]
  },
  {
   "cell_type": "code",
   "execution_count": null,
   "metadata": {},
   "outputs": [],
   "source": [
    "numbers1 = []\n",
    "for i in range(100, 501):\n",
    "    if i%7 == 0:\n",
    "        if i%3 == 0:\n",
    "            numbers1.append(i)"
   ]
  },
  {
   "cell_type": "code",
   "execution_count": null,
   "metadata": {},
   "outputs": [],
   "source": [
    "numbers2 = []\n",
    "for i in range(100, 501):\n",
    "    if (i%7 == 0) & (i%3 == 0):\n",
    "        numbers2.append(i)"
   ]
  },
  {
   "cell_type": "code",
   "execution_count": null,
   "metadata": {},
   "outputs": [],
   "source": [
    "numbers3 = []\n",
    "for i in range(100, 501):\n",
    "    if i%21 == 0:\n",
    "        numbers3.append(i)"
   ]
  },
  {
   "cell_type": "markdown",
   "metadata": {},
   "source": [
    "3 - Write a Python program that accepts the string and calculates the number of digits and letters in the string seperately."
   ]
  },
  {
   "cell_type": "code",
   "execution_count": null,
   "metadata": {},
   "outputs": [],
   "source": [
    "string = input('Please enter a string: ')\n",
    "\n",
    "digits = 0\n"
   ]
  },
  {
   "cell_type": "code",
   "execution_count": null,
   "metadata": {},
   "outputs": [],
   "source": [
    "string"
   ]
  },
  {
   "cell_type": "code",
   "execution_count": null,
   "metadata": {},
   "outputs": [],
   "source": [
    "for i in string:\n",
    "    if i.isdigit():\n",
    "        digits += 1"
   ]
  },
  {
   "cell_type": "code",
   "execution_count": null,
   "metadata": {},
   "outputs": [],
   "source": [
    "digits"
   ]
  },
  {
   "cell_type": "code",
   "execution_count": null,
   "metadata": {},
   "outputs": [],
   "source": [
    "letters = 0\n",
    "for i in string:\n",
    "    if i.isalpha():\n",
    "        letters += 1"
   ]
  },
  {
   "cell_type": "code",
   "execution_count": null,
   "metadata": {},
   "outputs": [],
   "source": [
    "letters"
   ]
  },
  {
   "cell_type": "code",
   "execution_count": null,
   "metadata": {},
   "outputs": [],
   "source": [
    "digits = 0\n",
    "letters = 0\n",
    "for i in string:\n",
    "    if i.isdigit():\n",
    "        digits += 1\n",
    "    elif i.isalpha():\n",
    "        letters += 1"
   ]
  },
  {
   "cell_type": "code",
   "execution_count": null,
   "metadata": {},
   "outputs": [],
   "source": [
    "print(letters)\n",
    "print(digits)"
   ]
  },
  {
   "cell_type": "markdown",
   "metadata": {},
   "source": [
    "Write a Python program that calculates a square root using Newton's Method."
   ]
  },
  {
   "cell_type": "code",
   "execution_count": null,
   "metadata": {},
   "outputs": [],
   "source": [
    "x = int(input(\"Enter a number to calculate its square root: \"))\n",
    "iteration = int(input(\"How many iterations?: \"))"
   ]
  },
  {
   "cell_type": "code",
   "execution_count": null,
   "metadata": {},
   "outputs": [],
   "source": [
    "r = x\n",
    "\n",
    "for i in range(iteration):\n",
    "    r = (r + x/r) / 2"
   ]
  },
  {
   "cell_type": "code",
   "execution_count": null,
   "metadata": {},
   "outputs": [],
   "source": [
    "print(r)"
   ]
  },
  {
   "cell_type": "markdown",
   "metadata": {},
   "source": [
    "Program to remove vowels from a String"
   ]
  },
  {
   "cell_type": "code",
   "execution_count": null,
   "metadata": {},
   "outputs": [],
   "source": [
    "# List all the vowels\n",
    "vowels = ['a', 'e', 'i', 'o', 'u']\n",
    "\n",
    "string = input(\"Provide a string to remove vowels: \").lower()"
   ]
  },
  {
   "cell_type": "code",
   "execution_count": null,
   "metadata": {},
   "outputs": [],
   "source": [
    "for i in string:\n",
    "    if i in vowels:\n",
    "        string = string.replace(i, \"\")"
   ]
  },
  {
   "cell_type": "code",
   "execution_count": null,
   "metadata": {},
   "outputs": [],
   "source": [
    "print(string)"
   ]
  },
  {
   "cell_type": "markdown",
   "metadata": {},
   "source": [
    "Given a string of odd length greater 7, return a string made of the middle three chars of a given String"
   ]
  },
  {
   "cell_type": "code",
   "execution_count": null,
   "metadata": {},
   "outputs": [],
   "source": [
    "a = input(\"kelime gir :\").split()\n",
    "k = []\n",
    "\n",
    "for i in a :\n",
    "    if len(i) >= 7 :\n",
    "        if len(i)%2 != 0 :\n",
    "            k.append(i[3:6:1])"
   ]
  },
  {
   "cell_type": "code",
   "execution_count": null,
   "metadata": {},
   "outputs": [],
   "source": [
    "print(k)"
   ]
  },
  {
   "cell_type": "code",
   "execution_count": null,
   "metadata": {},
   "outputs": [],
   "source": [
    "string = \"Clarusway\""
   ]
  },
  {
   "cell_type": "code",
   "execution_count": null,
   "metadata": {},
   "outputs": [],
   "source": [
    "midIndex = int(len(string) / 2)"
   ]
  },
  {
   "cell_type": "code",
   "execution_count": null,
   "metadata": {},
   "outputs": [],
   "source": [
    "string[midIndex-1:midIndex+2]"
   ]
  },
  {
   "cell_type": "code",
   "execution_count": null,
   "metadata": {},
   "outputs": [],
   "source": [
    "string = 'clarusway'\n",
    "lenght = len(string)\n",
    "lenght = lenght//2 -1\n",
    "lenght"
   ]
  },
  {
   "cell_type": "code",
   "execution_count": null,
   "metadata": {},
   "outputs": [],
   "source": [
    "print(string[lenght:lenght+3])"
   ]
  },
  {
   "cell_type": "markdown",
   "metadata": {},
   "source": [
    "Given 2 strings, s1 and s2, create a new string by appending s2 in the middle of s1"
   ]
  },
  {
   "cell_type": "code",
   "execution_count": null,
   "metadata": {},
   "outputs": [],
   "source": [
    "s1 = \"Bestcamp\""
   ]
  },
  {
   "cell_type": "code",
   "execution_count": null,
   "metadata": {},
   "outputs": [],
   "source": [
    "s2 = \"Clarusway\""
   ]
  },
  {
   "cell_type": "code",
   "execution_count": null,
   "metadata": {},
   "outputs": [],
   "source": [
    "midIndex = int(len(s1)/2)\n",
    "midIndex"
   ]
  },
  {
   "cell_type": "code",
   "execution_count": null,
   "metadata": {},
   "outputs": [],
   "source": [
    "s1[:midIndex] + \" \" + s2 + \" \" + s1[midIndex:]"
   ]
  },
  {
   "cell_type": "markdown",
   "metadata": {},
   "source": [
    "Given 2 strings, s1, and s2 return a new string made of the first, middle and last char each input string"
   ]
  },
  {
   "cell_type": "code",
   "execution_count": null,
   "metadata": {},
   "outputs": [],
   "source": [
    "s1 = \"America\""
   ]
  },
  {
   "cell_type": "code",
   "execution_count": null,
   "metadata": {},
   "outputs": [],
   "source": [
    "s2 = \"Clarusway\""
   ]
  },
  {
   "cell_type": "code",
   "execution_count": null,
   "metadata": {},
   "outputs": [],
   "source": [
    "s1[0] + s2 [0] + s1[int(len(s1)/2)] + s2[int(len(s2)/2)] + s1[-1] + s2[-1]"
   ]
  },
  {
   "cell_type": "markdown",
   "metadata": {},
   "source": [
    "Arrange String characters such that lowercase letters should come first"
   ]
  },
  {
   "cell_type": "code",
   "execution_count": null,
   "metadata": {},
   "outputs": [],
   "source": [
    "inputStr = \"PyNaTive\""
   ]
  },
  {
   "cell_type": "code",
   "execution_count": null,
   "metadata": {},
   "outputs": [],
   "source": [
    "lower = \"\"\n",
    "for i in inputStr:\n",
    "    if i.islower():\n",
    "        lower+=i"
   ]
  },
  {
   "cell_type": "code",
   "execution_count": null,
   "metadata": {},
   "outputs": [],
   "source": [
    "lower"
   ]
  },
  {
   "cell_type": "code",
   "execution_count": null,
   "metadata": {},
   "outputs": [],
   "source": [
    "upper = \"\"\n",
    "for i in inputStr:\n",
    "    if i.isupper():\n",
    "        upper+=i"
   ]
  },
  {
   "cell_type": "code",
   "execution_count": null,
   "metadata": {},
   "outputs": [],
   "source": [
    "upper"
   ]
  },
  {
   "cell_type": "code",
   "execution_count": null,
   "metadata": {},
   "outputs": [],
   "source": [
    "lower + upper"
   ]
  },
  {
   "cell_type": "code",
   "execution_count": null,
   "metadata": {},
   "outputs": [],
   "source": [
    "\"\".join(lower + upper)"
   ]
  },
  {
   "cell_type": "markdown",
   "metadata": {},
   "source": [
    "Type Markdown and LaTeX:  𝛼2"
   ]
  },
  {
   "cell_type": "code",
   "execution_count": null,
   "metadata": {},
   "outputs": [],
   "source": []
  }
 ],
 "metadata": {
  "colab": {
   "name": "group_1_cozumlu.ipynb",
   "provenance": []
  },
  "kernelspec": {
   "display_name": "Python 3 (ipykernel)",
   "language": "python",
   "name": "python3"
  },
  "language_info": {
   "codemirror_mode": {
    "name": "ipython",
    "version": 3
   },
   "file_extension": ".py",
   "mimetype": "text/x-python",
   "name": "python",
   "nbconvert_exporter": "python",
   "pygments_lexer": "ipython3",
   "version": "3.9.6"
  }
 },
 "nbformat": 4,
 "nbformat_minor": 1
}
