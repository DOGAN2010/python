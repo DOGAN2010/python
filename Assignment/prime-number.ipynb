{
 "cells": [
  {
   "cell_type": "code",
   "execution_count": 1,
   "id": "77fe6e43",
   "metadata": {},
   "outputs": [
    {
     "name": "stdout",
     "output_type": "stream",
     "text": [
      "To find out if a number you entered is a prime number;\n",
      "Enter a Number: 123\n",
      "123  is not a prime number\n"
     ]
    }
   ],
   "source": [
    "#Task : Write a program that takes a number from the user and prints the result to check if it is a prime number.\n",
    "\n",
    "num = int(input(\"To find out if a number you entered is a prime number;\\nEnter a Number: \"))\n",
    "\n",
    "\n",
    "if  num == 0 or num == 1:\n",
    "    print(num,\"is not a prime number\")\n",
    "else:\n",
    "    x=0\n",
    "for i in range(2,num):\n",
    "    if num % i==0 :\n",
    "        x=x+1\n",
    "        break\n",
    "if x!=0:\n",
    "      print(num,\" is not a prime number\")\n",
    "else:\n",
    "      print(num,\" is a prime number\")"
   ]
  }
 ],
 "metadata": {
  "kernelspec": {
   "display_name": "Python 3 (ipykernel)",
   "language": "python",
   "name": "python3"
  },
  "language_info": {
   "codemirror_mode": {
    "name": "ipython",
    "version": 3
   },
   "file_extension": ".py",
   "mimetype": "text/x-python",
   "name": "python",
   "nbconvert_exporter": "python",
   "pygments_lexer": "ipython3",
   "version": "3.9.6"
  }
 },
 "nbformat": 4,
 "nbformat_minor": 5
}
