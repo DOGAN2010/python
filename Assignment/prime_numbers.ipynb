{
 "cells": [
  {
   "cell_type": "code",
   "execution_count": 1,
   "source": [
    "prime_numbers = []\r\n",
    " \r\n",
    "for sayi in range(2, 100):\r\n",
    "    if sayi > 1:\r\n",
    "        for i in range(2,sayi):\r\n",
    "            if (sayi % i) == 0:\r\n",
    "                break\r\n",
    "        else:\r\n",
    "            prime_numbers.append(sayi)\r\n",
    "            \r\n",
    "print(\"Prime numbers from 1 to 100 : \", prime_numbers)"
   ],
   "outputs": [
    {
     "output_type": "stream",
     "name": "stdout",
     "text": [
      "Prime numbers from 1 to 100 :  [2, 3, 5, 7, 11, 13, 17, 19, 23, 29, 31, 37, 41, 43, 47, 53, 59, 61, 67, 71, 73, 79, 83, 89, 97]\n"
     ]
    }
   ],
   "metadata": {}
  }
 ],
 "metadata": {
  "kernelspec": {
   "name": "python3",
   "display_name": "Python 3.9.7 64-bit"
  },
  "language_info": {
   "codemirror_mode": {
    "name": "ipython",
    "version": 3
   },
   "file_extension": ".py",
   "mimetype": "text/x-python",
   "name": "python",
   "nbconvert_exporter": "python",
   "pygments_lexer": "ipython3",
   "version": "3.9.7"
  },
  "interpreter": {
   "hash": "4f77006a7ea4363e7f455dab2a4eac849c4d183e0f3df07af1fa2c4918595da7"
  }
 },
 "nbformat": 4,
 "nbformat_minor": 5
}