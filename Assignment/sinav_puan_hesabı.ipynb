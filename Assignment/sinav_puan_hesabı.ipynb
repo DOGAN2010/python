{
 "cells": [
  {
   "cell_type": "markdown",
   "metadata": {},
   "source": [
    "Vize Notunun %40 ' ı , Final Notunun %60'ını alarak ortalama notu hesaplayan,\n",
    "ortalama 50 den büyükse geçti, küçükse \"kaldı\" yazan programı yazdırınız."
   ]
  },
  {
   "cell_type": "code",
   "execution_count": 1,
   "metadata": {},
   "outputs": [
    {
     "name": "stdout",
     "output_type": "stream",
     "text": [
      "GEÇTİNİZ puanınız : 60.0\n"
     ]
    }
   ],
   "source": [
    "def sınav(vize, final):\n",
    "    result = vize*40/100 + final*60/100\n",
    "    if result >= 50 :\n",
    "        print(\"GEÇTİNİZ puanınız : {}\".format(result))\n",
    "    else :\n",
    "        print(\"KALDINIZ puanınız : {}\".format(result))\n",
    "        \n",
    "vize = int(input(\"Lütfen vize puanınızı giriniz : \"))\n",
    "final = int(input(\"Lütfen final puanınızı giriniz : \"))  \n",
    "sınav(vize, final)"
   ]
  }
 ],
 "metadata": {
  "interpreter": {
   "hash": "4f77006a7ea4363e7f455dab2a4eac849c4d183e0f3df07af1fa2c4918595da7"
  },
  "kernelspec": {
   "display_name": "Python 3.9.7 64-bit",
   "name": "python3"
  },
  "language_info": {
   "codemirror_mode": {
    "name": "ipython",
    "version": 3
   },
   "file_extension": ".py",
   "mimetype": "text/x-python",
   "name": "python",
   "nbconvert_exporter": "python",
   "pygments_lexer": "ipython3",
   "version": "3.9.7"
  },
  "orig_nbformat": 4
 },
 "nbformat": 4,
 "nbformat_minor": 2
}
