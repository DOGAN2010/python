{
 "cells": [
  {
   "cell_type": "code",
   "execution_count": 2,
   "id": "9a44da17",
   "metadata": {},
   "outputs": [
    {
     "output_type": "stream",
     "name": "stdout",
     "text": [
      "You are in risky group\n"
     ]
    }
   ],
   "source": [
    "age = True         # Are you a cigarette addict older than 75 years old?\n",
    "chronic = True     #Do you have a severe chronic disease? \n",
    "immune = True     #Is your immune system too weak? \n",
    "\n",
    "if (age and chronic and immune) :\n",
    "    print(\"You are in risky group\")\n",
    "else :\n",
    "    print(\"You are not in risky group\")"
   ]
  },
  {
   "cell_type": "code",
   "execution_count": null,
   "metadata": {},
   "outputs": [],
   "source": []
  }
 ],
 "metadata": {
  "kernelspec": {
   "name": "python3",
   "display_name": "Python 3.9.6 64-bit"
  },
  "language_info": {
   "codemirror_mode": {
    "name": "ipython",
    "version": 3
   },
   "file_extension": ".py",
   "mimetype": "text/x-python",
   "name": "python",
   "nbconvert_exporter": "python",
   "pygments_lexer": "ipython3",
   "version": "3.9.6"
  },
  "interpreter": {
   "hash": "4f77006a7ea4363e7f455dab2a4eac849c4d183e0f3df07af1fa2c4918595da7"
  }
 },
 "nbformat": 4,
 "nbformat_minor": 5
}